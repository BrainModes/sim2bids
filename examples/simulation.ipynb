{
 "cells": [
  {
   "cell_type": "code",
   "execution_count": 1,
   "metadata": {
    "collapsed": true
   },
   "outputs": [],
   "source": [
    "import h5py\n",
    "from scipy.io import loadmat"
   ]
  },
  {
   "cell_type": "code",
   "execution_count": 2,
   "outputs": [
    {
     "data": {
      "text/plain": "['_MutableMapping__marker',\n '__abstractmethods__',\n '__bool__',\n '__class__',\n '__class_getitem__',\n '__contains__',\n '__delattr__',\n '__delitem__',\n '__dict__',\n '__dir__',\n '__doc__',\n '__enter__',\n '__eq__',\n '__exit__',\n '__format__',\n '__ge__',\n '__getattribute__',\n '__getitem__',\n '__getnewargs__',\n '__getstate__',\n '__gt__',\n '__hash__',\n '__init__',\n '__init_subclass__',\n '__iter__',\n '__le__',\n '__len__',\n '__lt__',\n '__module__',\n '__ne__',\n '__new__',\n '__nonzero__',\n '__reduce__',\n '__reduce_ex__',\n '__repr__',\n '__reversed__',\n '__setattr__',\n '__setitem__',\n '__sizeof__',\n '__slots__',\n '__str__',\n '__subclasshook__',\n '__weakref__',\n '_abc_impl',\n '_d',\n '_e',\n '_gcpl_crt_order',\n '_id',\n '_ipython_key_completions_',\n '_lapl',\n '_lcpl',\n '_libver',\n 'attrs',\n 'build_virtual_dataset',\n 'clear',\n 'close',\n 'copy',\n 'create_dataset',\n 'create_dataset_like',\n 'create_group',\n 'create_virtual_dataset',\n 'driver',\n 'file',\n 'filename',\n 'flush',\n 'get',\n 'id',\n 'items',\n 'keys',\n 'libver',\n 'mode',\n 'move',\n 'name',\n 'parent',\n 'pop',\n 'popitem',\n 'ref',\n 'regionref',\n 'require_dataset',\n 'require_group',\n 'setdefault',\n 'swmr_mode',\n 'update',\n 'userblock_size',\n 'values',\n 'visit',\n 'visititems']"
     },
     "execution_count": 2,
     "metadata": {},
     "output_type": "execute_result"
    }
   ],
   "source": [
    "# with h5py.File('../data/simulations/1/BurstConfiguration_a29116b38d05429588535667ce4d1eee.h5') as f:\n",
    "#     print(dir(f))\n",
    "\n",
    "f = h5py.File('../data/simulations/1/BurstConfiguration_a29116b38d05429588535667ce4d1eee.h5')\n",
    "dir(f)"
   ],
   "metadata": {
    "collapsed": false,
    "pycharm": {
     "name": "#%%\n"
    }
   }
  },
  {
   "cell_type": "code",
   "execution_count": null,
   "outputs": [],
   "source": [],
   "metadata": {
    "collapsed": false,
    "pycharm": {
     "name": "#%%\n"
    }
   }
  }
 ],
 "metadata": {
  "kernelspec": {
   "display_name": "Python 3",
   "language": "python",
   "name": "python3"
  },
  "language_info": {
   "codemirror_mode": {
    "name": "ipython",
    "version": 2
   },
   "file_extension": ".py",
   "mimetype": "text/x-python",
   "name": "python",
   "nbconvert_exporter": "python",
   "pygments_lexer": "ipython2",
   "version": "2.7.6"
  }
 },
 "nbformat": 4,
 "nbformat_minor": 0
}