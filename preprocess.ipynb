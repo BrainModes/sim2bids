{
 "cells": [
  {
   "cell_type": "code",
   "execution_count": 1,
   "metadata": {
    "collapsed": true
   },
   "outputs": [],
   "source": [
    "from scipy.io import loadmat"
   ]
  },
  {
   "cell_type": "code",
   "execution_count": 3,
   "outputs": [
    {
     "data": {
      "text/plain": "dict_keys(['__header__', '__version__', '__globals__', 'CON01T1_ROIts', 'CON01T1_ROIts_DK68', 'FC_cc_DK68', 'FC_cc', 'FC_mi', 'ROI_ID_table'])"
     },
     "execution_count": 3,
     "metadata": {},
     "output_type": "execute_result"
    }
   ],
   "source": [
    "fc = loadmat('data/ses-preop/FC.mat')\n",
    "fc.keys()"
   ],
   "metadata": {
    "collapsed": false,
    "pycharm": {
     "name": "#%%\n"
    }
   }
  },
  {
   "cell_type": "code",
   "execution_count": 4,
   "outputs": [
    {
     "data": {
      "text/plain": "array([[  923.70188, 10967.75413, 10075.33814, ...,  9686.10222,\n        10282.49023, 10792.33884],\n       [  916.27902, 10939.30918,  9958.87689, ...,  9665.7039 ,\n        10121.32577, 10689.26117],\n       [  906.29391, 10909.99712,  9918.38669, ...,  9593.44135,\n        10135.87439, 10713.51698],\n       ...,\n       [  911.26295, 10948.92151,  9881.90784, ...,  9584.80664,\n        10276.75591, 10826.52015],\n       [  911.89234, 10926.43679,  9956.72355, ...,  9550.86363,\n        10231.36131, 10768.50695],\n       [  914.11457, 10917.22143,  9884.80337, ...,  9557.05501,\n        10139.23922, 10715.65225]])"
     },
     "execution_count": 4,
     "metadata": {},
     "output_type": "execute_result"
    }
   ],
   "source": [
    "fc['CON01T1_ROIts']"
   ],
   "metadata": {
    "collapsed": false,
    "pycharm": {
     "name": "#%%\n"
    }
   }
  },
  {
   "cell_type": "code",
   "execution_count": 5,
   "outputs": [
    {
     "data": {
      "text/plain": "array([[12974.08918, 11915.09521, 12078.56191, ...,  9686.10222,\n        10282.49023, 10792.33884],\n       [12959.45346, 11819.84904, 12055.11605, ...,  9665.7039 ,\n        10121.32577, 10689.26117],\n       [12905.20787, 11837.78934, 11962.39905, ...,  9593.44135,\n        10135.87439, 10713.51698],\n       ...,\n       [13157.87715, 11893.20308, 12102.12388, ...,  9584.80664,\n        10276.75591, 10826.52015],\n       [13083.40412, 11890.30498, 12074.14658, ...,  9550.86363,\n        10231.36131, 10768.50695],\n       [12970.37017, 11870.84991, 12098.38231, ...,  9557.05501,\n        10139.23922, 10715.65225]])"
     },
     "execution_count": 5,
     "metadata": {},
     "output_type": "execute_result"
    }
   ],
   "source": [
    "fc['CON01T1_ROIts_DK68']"
   ],
   "metadata": {
    "collapsed": false,
    "pycharm": {
     "name": "#%%\n"
    }
   }
  },
  {
   "cell_type": "code",
   "execution_count": 6,
   "outputs": [
    {
     "data": {
      "text/plain": "array([[1.        , 0.64923572, 0.57562494, ..., 0.54544782, 0.61209261,\n        0.79192424],\n       [0.64923572, 1.        , 0.54092631, ..., 0.60749958, 0.70304996,\n        0.81368532],\n       [0.57562494, 0.54092631, 1.        , ..., 0.33158808, 0.53142093,\n        0.55906178],\n       ...,\n       [0.54544782, 0.60749958, 0.33158808, ..., 1.        , 0.52461762,\n        0.69158698],\n       [0.61209261, 0.70304996, 0.53142093, ..., 0.52461762, 1.        ,\n        0.75028882],\n       [0.79192424, 0.81368532, 0.55906178, ..., 0.69158698, 0.75028882,\n        1.        ]])"
     },
     "execution_count": 6,
     "metadata": {},
     "output_type": "execute_result"
    }
   ],
   "source": [
    "fc['FC_cc_DK68']"
   ],
   "metadata": {
    "collapsed": false,
    "pycharm": {
     "name": "#%%\n"
    }
   }
  },
  {
   "cell_type": "code",
   "execution_count": 7,
   "outputs": [
    {
     "data": {
      "text/plain": "array([[1.        , 0.70641848, 0.32693809, ..., 0.37863506, 0.47675247,\n        0.55521891],\n       [0.70641848, 1.        , 0.1493432 , ..., 0.59192268, 0.62983002,\n        0.75121872],\n       [0.32693809, 0.1493432 , 1.        , ..., 0.02705437, 0.01238442,\n        0.05156714],\n       ...,\n       [0.37863506, 0.59192268, 0.02705437, ..., 1.        , 0.52461762,\n        0.69158698],\n       [0.47675247, 0.62983002, 0.01238442, ..., 0.52461762, 1.        ,\n        0.75028882],\n       [0.55521891, 0.75121872, 0.05156714, ..., 0.69158698, 0.75028882,\n        1.        ]])"
     },
     "execution_count": 7,
     "metadata": {},
     "output_type": "execute_result"
    }
   ],
   "source": [
    "fc['FC_cc']"
   ],
   "metadata": {
    "collapsed": false,
    "pycharm": {
     "name": "#%%\n"
    }
   }
  },
  {
   "cell_type": "code",
   "execution_count": 8,
   "outputs": [
    {
     "data": {
      "text/plain": "array([[1.26875794, 0.44545239, 0.21583207, ..., 0.25842907, 0.25812191,\n        0.29191967],\n       [0.44545239, 1.35014322, 0.1807453 , ..., 0.33030947, 0.3432018 ,\n        0.49030283],\n       [0.21583207, 0.1807453 , 1.28637805, ..., 0.17494245, 0.17499534,\n        0.17244255],\n       ...,\n       [0.25842907, 0.33030947, 0.17494245, ..., 1.35003996, 0.26561923,\n        0.40028623],\n       [0.25812191, 0.3432018 , 0.17499534, ..., 0.26561923, 1.29156579,\n        0.45423592],\n       [0.29191967, 0.49030283, 0.17244255, ..., 0.40028623, 0.45423592,\n        1.29531249]])"
     },
     "execution_count": 8,
     "metadata": {},
     "output_type": "execute_result"
    }
   ],
   "source": [
    "fc['FC_mi']"
   ],
   "metadata": {
    "collapsed": false,
    "pycharm": {
     "name": "#%%\n"
    }
   }
  },
  {
   "cell_type": "code",
   "execution_count": 9,
   "outputs": [
    {
     "data": {
      "text/plain": "array([[ 1.00000000e+00,  0.00000000e+00,  1.30207000e+05, ...,\n        -4.45923190e+03,  3.46125859e+04,  3.90718164e+04],\n       [ 2.00000000e+00,  2.00000000e+00,  8.80400000e+03, ...,\n         0.00000000e+00,  2.79570176e+04,  2.79570176e+04],\n       [ 3.00000000e+00,  4.00000000e+00,  1.25000000e+02, ...,\n         4.24063090e+03,  1.52233984e+04,  1.09827676e+04],\n       ...,\n       [ 1.10000000e+02,  2.03300000e+03,  6.80000000e+01, ...,\n         4.33480620e+03,  1.38596172e+04,  9.52481050e+03],\n       [ 1.11000000e+02,  2.03400000e+03,  2.80000000e+01, ...,\n         7.05326900e+03,  1.35506230e+04,  6.49735400e+03],\n       [ 1.12000000e+02,  2.03500000e+03,  2.51000000e+02, ...,\n         5.14625780e+03,  1.57338135e+04,  1.05875557e+04]])"
     },
     "execution_count": 9,
     "metadata": {},
     "output_type": "execute_result"
    }
   ],
   "source": [
    "fc['ROI_ID_table']"
   ],
   "metadata": {
    "collapsed": false,
    "pycharm": {
     "name": "#%%\n"
    }
   }
  },
  {
   "cell_type": "code",
   "execution_count": null,
   "outputs": [],
   "source": [],
   "metadata": {
    "collapsed": false,
    "pycharm": {
     "name": "#%%\n"
    }
   }
  }
 ],
 "metadata": {
  "kernelspec": {
   "display_name": "Python 3",
   "language": "python",
   "name": "python3"
  },
  "language_info": {
   "codemirror_mode": {
    "name": "ipython",
    "version": 2
   },
   "file_extension": ".py",
   "mimetype": "text/x-python",
   "name": "python",
   "nbconvert_exporter": "python",
   "pygments_lexer": "ipython2",
   "version": "2.7.6"
  }
 },
 "nbformat": 4,
 "nbformat_minor": 0
}