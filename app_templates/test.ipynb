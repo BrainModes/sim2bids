{
 "cells": [
  {
   "cell_type": "code",
   "execution_count": 1,
   "metadata": {
    "pycharm": {
     "is_executing": true,
     "name": "#%%\n"
    }
   },
   "outputs": [
    {
     "data": {
      "application/javascript": [
       "(function(root) {\n",
       "  function now() {\n",
       "    return new Date();\n",
       "  }\n",
       "\n",
       "  var force = true;\n",
       "\n",
       "  if (typeof root._bokeh_onload_callbacks === \"undefined\" || force === true) {\n",
       "    root._bokeh_onload_callbacks = [];\n",
       "    root._bokeh_is_loading = undefined;\n",
       "  }\n",
       "\n",
       "  if (typeof (root._bokeh_timeout) === \"undefined\" || force === true) {\n",
       "    root._bokeh_timeout = Date.now() + 5000;\n",
       "    root._bokeh_failed_load = false;\n",
       "  }\n",
       "\n",
       "  function run_callbacks() {\n",
       "    try {\n",
       "      root._bokeh_onload_callbacks.forEach(function(callback) {\n",
       "        if (callback != null)\n",
       "          callback();\n",
       "      });\n",
       "    } finally {\n",
       "      delete root._bokeh_onload_callbacks\n",
       "    }\n",
       "    console.debug(\"Bokeh: all callbacks have finished\");\n",
       "  }\n",
       "\n",
       "  function load_libs(css_urls, js_urls, js_modules, callback) {\n",
       "    if (css_urls == null) css_urls = [];\n",
       "    if (js_urls == null) js_urls = [];\n",
       "    if (js_modules == null) js_modules = [];\n",
       "\n",
       "    root._bokeh_onload_callbacks.push(callback);\n",
       "    if (root._bokeh_is_loading > 0) {\n",
       "      console.debug(\"Bokeh: BokehJS is being loaded, scheduling callback at\", now());\n",
       "      return null;\n",
       "    }\n",
       "    if (js_urls.length === 0 && js_modules.length === 0) {\n",
       "      run_callbacks();\n",
       "      return null;\n",
       "    }\n",
       "    console.debug(\"Bokeh: BokehJS not loaded, scheduling load and callback at\", now());\n",
       "\n",
       "    function on_load() {\n",
       "      root._bokeh_is_loading--;\n",
       "      if (root._bokeh_is_loading === 0) {\n",
       "        console.debug(\"Bokeh: all BokehJS libraries/stylesheets loaded\");\n",
       "        run_callbacks()\n",
       "      }\n",
       "    }\n",
       "\n",
       "    function on_error() {\n",
       "      console.error(\"failed to load \" + url);\n",
       "    }\n",
       "\n",
       "    for (var i = 0; i < css_urls.length; i++) {\n",
       "      var url = css_urls[i];\n",
       "      const element = document.createElement(\"link\");\n",
       "      element.onload = on_load;\n",
       "      element.onerror = on_error;\n",
       "      element.rel = \"stylesheet\";\n",
       "      element.type = \"text/css\";\n",
       "      element.href = url;\n",
       "      console.debug(\"Bokeh: injecting link tag for BokehJS stylesheet: \", url);\n",
       "      document.body.appendChild(element);\n",
       "    }\n",
       "\n",
       "    var skip = [];\n",
       "    if (window.requirejs) {\n",
       "      window.requirejs.config({'packages': {}, 'paths': {'tabulator': 'https://unpkg.com/tabulator-tables@4.9.3/dist/js/tabulator', 'moment': 'https://cdn.jsdelivr.net/npm/luxon/build/global/luxon.min', 'ace': '//cdnjs.cloudflare.com/ajax/libs/ace/1.4.7', 'jsoneditor': '//cdn.jsdelivr.net/npm/jsoneditor@9.1.9/dist/jsoneditor.min', 'gridstack': 'https://cdn.jsdelivr.net/npm/gridstack@4.2.5/dist/gridstack-h5', 'notyf': 'https://cdn.jsdelivr.net/npm/notyf@3/notyf.min'}, 'shim': {'ace/ext-language_tools': {'deps': ['ace/ace']}, 'ace/ext-modelist': {'deps': ['ace/ace']}, 'jsoneditor': {'exports': 'JSONEditor'}, 'gridstack': {'exports': 'GridStack'}}});\n",
       "      require([\"tabulator\"], function(Tabulator) {\n",
       "\twindow.Tabulator = Tabulator\n",
       "\ton_load()\n",
       "      })\n",
       "      require([\"moment\"], function(moment) {\n",
       "\twindow.moment = moment\n",
       "\ton_load()\n",
       "      })\n",
       "      require([\"ace/ace\"], function(ace) {\n",
       "\twindow.ace = ace\n",
       "\ton_load()\n",
       "      })\n",
       "      require([\"ace/ext-language_tools\"], function() {\n",
       "\ton_load()\n",
       "      })\n",
       "      require([\"ace/ext-modelist\"], function() {\n",
       "\ton_load()\n",
       "      })\n",
       "      require([\"jsoneditor\"], function(JSONEditor) {\n",
       "\twindow.JSONEditor = JSONEditor\n",
       "\ton_load()\n",
       "      })\n",
       "      require([\"gridstack\"], function(GridStack) {\n",
       "\twindow.GridStack = GridStack\n",
       "\ton_load()\n",
       "      })\n",
       "      require([\"notyf\"], function() {\n",
       "\ton_load()\n",
       "      })\n",
       "      root._bokeh_is_loading = css_urls.length + 8;\n",
       "    } else {\n",
       "      root._bokeh_is_loading = css_urls.length + js_urls.length + js_modules.length;\n",
       "    }    if (((window['Tabulator'] !== undefined) && (!(window['Tabulator'] instanceof HTMLElement))) || window.requirejs) {\n",
       "      var urls = ['https://unpkg.com/tabulator-tables@4.9.3/dist/js/tabulator.js'];\n",
       "      for (var i = 0; i < urls.length; i++) {\n",
       "        skip.push(urls[i])\n",
       "      }\n",
       "    }    if (((window['moment'] !== undefined) && (!(window['moment'] instanceof HTMLElement))) || window.requirejs) {\n",
       "      var urls = ['https://cdn.jsdelivr.net/npm/luxon/build/global/luxon.min.js'];\n",
       "      for (var i = 0; i < urls.length; i++) {\n",
       "        skip.push(urls[i])\n",
       "      }\n",
       "    }    if (((window['ace'] !== undefined) && (!(window['ace'] instanceof HTMLElement))) || window.requirejs) {\n",
       "      var urls = ['https://cdnjs.cloudflare.com/ajax/libs/ace/1.4.11/ace.js', 'https://cdnjs.cloudflare.com/ajax/libs/ace/1.4.11/ext-language_tools.js', 'https://cdnjs.cloudflare.com/ajax/libs/ace/1.4.11/ext-modelist.js'];\n",
       "      for (var i = 0; i < urls.length; i++) {\n",
       "        skip.push(urls[i])\n",
       "      }\n",
       "    }    if (((window['JSONEditor'] !== undefined) && (!(window['JSONEditor'] instanceof HTMLElement))) || window.requirejs) {\n",
       "      var urls = ['https://cdn.jsdelivr.net/npm/jsoneditor@9.1.9/dist/jsoneditor.min.js'];\n",
       "      for (var i = 0; i < urls.length; i++) {\n",
       "        skip.push(urls[i])\n",
       "      }\n",
       "    }    if (((window['GridStack'] !== undefined) && (!(window['GridStack'] instanceof HTMLElement))) || window.requirejs) {\n",
       "      var urls = ['https://cdn.jsdelivr.net/npm/gridstack@4.2.5/dist/gridstack-h5.js'];\n",
       "      for (var i = 0; i < urls.length; i++) {\n",
       "        skip.push(urls[i])\n",
       "      }\n",
       "    }    if (((window['Notyf'] !== undefined) && (!(window['Notyf'] instanceof HTMLElement))) || window.requirejs) {\n",
       "      var urls = ['https://cdn.jsdelivr.net/npm/notyf@3/notyf.min.js'];\n",
       "      for (var i = 0; i < urls.length; i++) {\n",
       "        skip.push(urls[i])\n",
       "      }\n",
       "    }    for (var i = 0; i < js_urls.length; i++) {\n",
       "      var url = js_urls[i];\n",
       "      if (skip.indexOf(url) >= 0) {\n",
       "\tif (!window.requirejs) {\n",
       "\t  on_load();\n",
       "\t}\n",
       "\tcontinue;\n",
       "      }\n",
       "      var element = document.createElement('script');\n",
       "      element.onload = on_load;\n",
       "      element.onerror = on_error;\n",
       "      element.async = false;\n",
       "      element.src = url;\n",
       "      console.debug(\"Bokeh: injecting script tag for BokehJS library: \", url);\n",
       "      document.head.appendChild(element);\n",
       "    }\n",
       "    for (var i = 0; i < js_modules.length; i++) {\n",
       "      var url = js_modules[i];\n",
       "      if (skip.indexOf(url) >= 0) {\n",
       "\tif (!window.requirejs) {\n",
       "\t  on_load();\n",
       "\t}\n",
       "\tcontinue;\n",
       "      }\n",
       "      var element = document.createElement('script');\n",
       "      element.onload = on_load;\n",
       "      element.onerror = on_error;\n",
       "      element.async = false;\n",
       "      element.src = url;\n",
       "      element.type = \"module\";\n",
       "      console.debug(\"Bokeh: injecting script tag for BokehJS library: \", url);\n",
       "      document.head.appendChild(element);\n",
       "    }\n",
       "    if (!js_urls.length && !js_modules.length) {\n",
       "      on_load()\n",
       "    }\n",
       "  };\n",
       "\n",
       "  function inject_raw_css(css) {\n",
       "    const element = document.createElement(\"style\");\n",
       "    element.appendChild(document.createTextNode(css));\n",
       "    document.body.appendChild(element);\n",
       "  }\n",
       "\n",
       "  var js_urls = [\"https://cdnjs.cloudflare.com/ajax/libs/ace/1.4.11/ace.js\", \"https://cdnjs.cloudflare.com/ajax/libs/ace/1.4.11/ext-language_tools.js\", \"https://cdnjs.cloudflare.com/ajax/libs/ace/1.4.11/ext-modelist.js\", \"https://cdn.jsdelivr.net/npm/jsoneditor@9.1.9/dist/jsoneditor.min.js\", \"https://unpkg.com/tabulator-tables@4.9.3/dist/js/tabulator.js\", \"https://cdn.jsdelivr.net/npm/luxon/build/global/luxon.min.js\", \"https://cdn.bokeh.org/bokeh/release/bokeh-2.4.3.min.js\", \"https://cdn.bokeh.org/bokeh/release/bokeh-gl-2.4.3.min.js\", \"https://cdn.bokeh.org/bokeh/release/bokeh-widgets-2.4.3.min.js\", \"https://cdn.bokeh.org/bokeh/release/bokeh-tables-2.4.3.min.js\", \"https://cdn.bokeh.org/bokeh/release/bokeh-mathjax-2.4.3.min.js\", \"https://cdn.jsdelivr.net/npm/notyf@3/notyf.min.js\", \"https://unpkg.com/@holoviz/panel@0.13.1/dist/panel.min.js\"];\n",
       "  var js_modules = [];\n",
       "  var css_urls = [\"https://cdn.jsdelivr.net/npm/jsoneditor@9.1.9/dist/jsoneditor.min.css\", \"https://unpkg.com/tabulator-tables@4.9.3/dist/css/tabulator_simple.min.css\", \"https://cdn.jsdelivr.net/npm/notyf@3/notyf.min.css\", \"https://cdnjs.cloudflare.com/ajax/libs/font-awesome/5.15.1/css/all.min.css\", \"https://unpkg.com/@holoviz/panel@0.13.1/dist/css/alerts.css\", \"https://unpkg.com/@holoviz/panel@0.13.1/dist/css/card.css\", \"https://unpkg.com/@holoviz/panel@0.13.1/dist/css/dataframe.css\", \"https://unpkg.com/@holoviz/panel@0.13.1/dist/css/debugger.css\", \"https://unpkg.com/@holoviz/panel@0.13.1/dist/css/json.css\", \"https://unpkg.com/@holoviz/panel@0.13.1/dist/css/loading.css\", \"https://unpkg.com/@holoviz/panel@0.13.1/dist/css/markdown.css\", \"https://unpkg.com/@holoviz/panel@0.13.1/dist/css/widgets.css\"];\n",
       "  var inline_js = [    function(Bokeh) {\n",
       "      inject_raw_css(\"\\n    .bk.pn-loading.arcs:before {\\n      background-image: url(\\\"data:image/svg+xml;base64,PHN2ZyB4bWxucz0iaHR0cDovL3d3dy53My5vcmcvMjAwMC9zdmciIHhtbG5zOnhsaW5rPSJodHRwOi8vd3d3LnczLm9yZy8xOTk5L3hsaW5rIiBzdHlsZT0ibWFyZ2luOiBhdXRvOyBiYWNrZ3JvdW5kOiBub25lOyBkaXNwbGF5OiBibG9jazsgc2hhcGUtcmVuZGVyaW5nOiBhdXRvOyIgdmlld0JveD0iMCAwIDEwMCAxMDAiIHByZXNlcnZlQXNwZWN0UmF0aW89InhNaWRZTWlkIj4gIDxjaXJjbGUgY3g9IjUwIiBjeT0iNTAiIHI9IjMyIiBzdHJva2Utd2lkdGg9IjgiIHN0cm9rZT0iI2MzYzNjMyIgc3Ryb2tlLWRhc2hhcnJheT0iNTAuMjY1NDgyNDU3NDM2NjkgNTAuMjY1NDgyNDU3NDM2NjkiIGZpbGw9Im5vbmUiIHN0cm9rZS1saW5lY2FwPSJyb3VuZCI+ICAgIDxhbmltYXRlVHJhbnNmb3JtIGF0dHJpYnV0ZU5hbWU9InRyYW5zZm9ybSIgdHlwZT0icm90YXRlIiByZXBlYXRDb3VudD0iaW5kZWZpbml0ZSIgZHVyPSIxcyIga2V5VGltZXM9IjA7MSIgdmFsdWVzPSIwIDUwIDUwOzM2MCA1MCA1MCI+PC9hbmltYXRlVHJhbnNmb3JtPiAgPC9jaXJjbGU+PC9zdmc+\\\");\\n      background-size: auto calc(min(50%, 400px));\\n    }\\n    \");\n",
       "    },    function(Bokeh) {\n",
       "      Bokeh.set_log_level(\"info\");\n",
       "    },\n",
       "function(Bokeh) {} // ensure no trailing comma for IE\n",
       "  ];\n",
       "\n",
       "  function run_inline_js() {\n",
       "    if ((root.Bokeh !== undefined) || (force === true)) {\n",
       "      for (var i = 0; i < inline_js.length; i++) {\n",
       "        inline_js[i].call(root, root.Bokeh);\n",
       "      }} else if (Date.now() < root._bokeh_timeout) {\n",
       "      setTimeout(run_inline_js, 100);\n",
       "    } else if (!root._bokeh_failed_load) {\n",
       "      console.log(\"Bokeh: BokehJS failed to load within specified timeout.\");\n",
       "      root._bokeh_failed_load = true;\n",
       "    }\n",
       "  }\n",
       "\n",
       "  if (root._bokeh_is_loading === 0) {\n",
       "    console.debug(\"Bokeh: BokehJS loaded, going straight to plotting\");\n",
       "    run_inline_js();\n",
       "  } else {\n",
       "    load_libs(css_urls, js_urls, js_modules, function() {\n",
       "      console.debug(\"Bokeh: BokehJS plotting callback run at\", now());\n",
       "      run_inline_js();\n",
       "    });\n",
       "  }\n",
       "}(window));"
      ],
      "application/vnd.holoviews_load.v0+json": "(function(root) {\n  function now() {\n    return new Date();\n  }\n\n  var force = true;\n\n  if (typeof root._bokeh_onload_callbacks === \"undefined\" || force === true) {\n    root._bokeh_onload_callbacks = [];\n    root._bokeh_is_loading = undefined;\n  }\n\n  if (typeof (root._bokeh_timeout) === \"undefined\" || force === true) {\n    root._bokeh_timeout = Date.now() + 5000;\n    root._bokeh_failed_load = false;\n  }\n\n  function run_callbacks() {\n    try {\n      root._bokeh_onload_callbacks.forEach(function(callback) {\n        if (callback != null)\n          callback();\n      });\n    } finally {\n      delete root._bokeh_onload_callbacks\n    }\n    console.debug(\"Bokeh: all callbacks have finished\");\n  }\n\n  function load_libs(css_urls, js_urls, js_modules, callback) {\n    if (css_urls == null) css_urls = [];\n    if (js_urls == null) js_urls = [];\n    if (js_modules == null) js_modules = [];\n\n    root._bokeh_onload_callbacks.push(callback);\n    if (root._bokeh_is_loading > 0) {\n      console.debug(\"Bokeh: BokehJS is being loaded, scheduling callback at\", now());\n      return null;\n    }\n    if (js_urls.length === 0 && js_modules.length === 0) {\n      run_callbacks();\n      return null;\n    }\n    console.debug(\"Bokeh: BokehJS not loaded, scheduling load and callback at\", now());\n\n    function on_load() {\n      root._bokeh_is_loading--;\n      if (root._bokeh_is_loading === 0) {\n        console.debug(\"Bokeh: all BokehJS libraries/stylesheets loaded\");\n        run_callbacks()\n      }\n    }\n\n    function on_error() {\n      console.error(\"failed to load \" + url);\n    }\n\n    for (var i = 0; i < css_urls.length; i++) {\n      var url = css_urls[i];\n      const element = document.createElement(\"link\");\n      element.onload = on_load;\n      element.onerror = on_error;\n      element.rel = \"stylesheet\";\n      element.type = \"text/css\";\n      element.href = url;\n      console.debug(\"Bokeh: injecting link tag for BokehJS stylesheet: \", url);\n      document.body.appendChild(element);\n    }\n\n    var skip = [];\n    if (window.requirejs) {\n      window.requirejs.config({'packages': {}, 'paths': {'tabulator': 'https://unpkg.com/tabulator-tables@4.9.3/dist/js/tabulator', 'moment': 'https://cdn.jsdelivr.net/npm/luxon/build/global/luxon.min', 'ace': '//cdnjs.cloudflare.com/ajax/libs/ace/1.4.7', 'jsoneditor': '//cdn.jsdelivr.net/npm/jsoneditor@9.1.9/dist/jsoneditor.min', 'gridstack': 'https://cdn.jsdelivr.net/npm/gridstack@4.2.5/dist/gridstack-h5', 'notyf': 'https://cdn.jsdelivr.net/npm/notyf@3/notyf.min'}, 'shim': {'ace/ext-language_tools': {'deps': ['ace/ace']}, 'ace/ext-modelist': {'deps': ['ace/ace']}, 'jsoneditor': {'exports': 'JSONEditor'}, 'gridstack': {'exports': 'GridStack'}}});\n      require([\"tabulator\"], function(Tabulator) {\n\twindow.Tabulator = Tabulator\n\ton_load()\n      })\n      require([\"moment\"], function(moment) {\n\twindow.moment = moment\n\ton_load()\n      })\n      require([\"ace/ace\"], function(ace) {\n\twindow.ace = ace\n\ton_load()\n      })\n      require([\"ace/ext-language_tools\"], function() {\n\ton_load()\n      })\n      require([\"ace/ext-modelist\"], function() {\n\ton_load()\n      })\n      require([\"jsoneditor\"], function(JSONEditor) {\n\twindow.JSONEditor = JSONEditor\n\ton_load()\n      })\n      require([\"gridstack\"], function(GridStack) {\n\twindow.GridStack = GridStack\n\ton_load()\n      })\n      require([\"notyf\"], function() {\n\ton_load()\n      })\n      root._bokeh_is_loading = css_urls.length + 8;\n    } else {\n      root._bokeh_is_loading = css_urls.length + js_urls.length + js_modules.length;\n    }    if (((window['Tabulator'] !== undefined) && (!(window['Tabulator'] instanceof HTMLElement))) || window.requirejs) {\n      var urls = ['https://unpkg.com/tabulator-tables@4.9.3/dist/js/tabulator.js'];\n      for (var i = 0; i < urls.length; i++) {\n        skip.push(urls[i])\n      }\n    }    if (((window['moment'] !== undefined) && (!(window['moment'] instanceof HTMLElement))) || window.requirejs) {\n      var urls = ['https://cdn.jsdelivr.net/npm/luxon/build/global/luxon.min.js'];\n      for (var i = 0; i < urls.length; i++) {\n        skip.push(urls[i])\n      }\n    }    if (((window['ace'] !== undefined) && (!(window['ace'] instanceof HTMLElement))) || window.requirejs) {\n      var urls = ['https://cdnjs.cloudflare.com/ajax/libs/ace/1.4.11/ace.js', 'https://cdnjs.cloudflare.com/ajax/libs/ace/1.4.11/ext-language_tools.js', 'https://cdnjs.cloudflare.com/ajax/libs/ace/1.4.11/ext-modelist.js'];\n      for (var i = 0; i < urls.length; i++) {\n        skip.push(urls[i])\n      }\n    }    if (((window['JSONEditor'] !== undefined) && (!(window['JSONEditor'] instanceof HTMLElement))) || window.requirejs) {\n      var urls = ['https://cdn.jsdelivr.net/npm/jsoneditor@9.1.9/dist/jsoneditor.min.js'];\n      for (var i = 0; i < urls.length; i++) {\n        skip.push(urls[i])\n      }\n    }    if (((window['GridStack'] !== undefined) && (!(window['GridStack'] instanceof HTMLElement))) || window.requirejs) {\n      var urls = ['https://cdn.jsdelivr.net/npm/gridstack@4.2.5/dist/gridstack-h5.js'];\n      for (var i = 0; i < urls.length; i++) {\n        skip.push(urls[i])\n      }\n    }    if (((window['Notyf'] !== undefined) && (!(window['Notyf'] instanceof HTMLElement))) || window.requirejs) {\n      var urls = ['https://cdn.jsdelivr.net/npm/notyf@3/notyf.min.js'];\n      for (var i = 0; i < urls.length; i++) {\n        skip.push(urls[i])\n      }\n    }    for (var i = 0; i < js_urls.length; i++) {\n      var url = js_urls[i];\n      if (skip.indexOf(url) >= 0) {\n\tif (!window.requirejs) {\n\t  on_load();\n\t}\n\tcontinue;\n      }\n      var element = document.createElement('script');\n      element.onload = on_load;\n      element.onerror = on_error;\n      element.async = false;\n      element.src = url;\n      console.debug(\"Bokeh: injecting script tag for BokehJS library: \", url);\n      document.head.appendChild(element);\n    }\n    for (var i = 0; i < js_modules.length; i++) {\n      var url = js_modules[i];\n      if (skip.indexOf(url) >= 0) {\n\tif (!window.requirejs) {\n\t  on_load();\n\t}\n\tcontinue;\n      }\n      var element = document.createElement('script');\n      element.onload = on_load;\n      element.onerror = on_error;\n      element.async = false;\n      element.src = url;\n      element.type = \"module\";\n      console.debug(\"Bokeh: injecting script tag for BokehJS library: \", url);\n      document.head.appendChild(element);\n    }\n    if (!js_urls.length && !js_modules.length) {\n      on_load()\n    }\n  };\n\n  function inject_raw_css(css) {\n    const element = document.createElement(\"style\");\n    element.appendChild(document.createTextNode(css));\n    document.body.appendChild(element);\n  }\n\n  var js_urls = [\"https://cdnjs.cloudflare.com/ajax/libs/ace/1.4.11/ace.js\", \"https://cdnjs.cloudflare.com/ajax/libs/ace/1.4.11/ext-language_tools.js\", \"https://cdnjs.cloudflare.com/ajax/libs/ace/1.4.11/ext-modelist.js\", \"https://cdn.jsdelivr.net/npm/jsoneditor@9.1.9/dist/jsoneditor.min.js\", \"https://unpkg.com/tabulator-tables@4.9.3/dist/js/tabulator.js\", \"https://cdn.jsdelivr.net/npm/luxon/build/global/luxon.min.js\", \"https://cdn.bokeh.org/bokeh/release/bokeh-2.4.3.min.js\", \"https://cdn.bokeh.org/bokeh/release/bokeh-gl-2.4.3.min.js\", \"https://cdn.bokeh.org/bokeh/release/bokeh-widgets-2.4.3.min.js\", \"https://cdn.bokeh.org/bokeh/release/bokeh-tables-2.4.3.min.js\", \"https://cdn.bokeh.org/bokeh/release/bokeh-mathjax-2.4.3.min.js\", \"https://cdn.jsdelivr.net/npm/notyf@3/notyf.min.js\", \"https://unpkg.com/@holoviz/panel@0.13.1/dist/panel.min.js\"];\n  var js_modules = [];\n  var css_urls = [\"https://cdn.jsdelivr.net/npm/jsoneditor@9.1.9/dist/jsoneditor.min.css\", \"https://unpkg.com/tabulator-tables@4.9.3/dist/css/tabulator_simple.min.css\", \"https://cdn.jsdelivr.net/npm/notyf@3/notyf.min.css\", \"https://cdnjs.cloudflare.com/ajax/libs/font-awesome/5.15.1/css/all.min.css\", \"https://unpkg.com/@holoviz/panel@0.13.1/dist/css/alerts.css\", \"https://unpkg.com/@holoviz/panel@0.13.1/dist/css/card.css\", \"https://unpkg.com/@holoviz/panel@0.13.1/dist/css/dataframe.css\", \"https://unpkg.com/@holoviz/panel@0.13.1/dist/css/debugger.css\", \"https://unpkg.com/@holoviz/panel@0.13.1/dist/css/json.css\", \"https://unpkg.com/@holoviz/panel@0.13.1/dist/css/loading.css\", \"https://unpkg.com/@holoviz/panel@0.13.1/dist/css/markdown.css\", \"https://unpkg.com/@holoviz/panel@0.13.1/dist/css/widgets.css\"];\n  var inline_js = [    function(Bokeh) {\n      inject_raw_css(\"\\n    .bk.pn-loading.arcs:before {\\n      background-image: url(\\\"data:image/svg+xml;base64,PHN2ZyB4bWxucz0iaHR0cDovL3d3dy53My5vcmcvMjAwMC9zdmciIHhtbG5zOnhsaW5rPSJodHRwOi8vd3d3LnczLm9yZy8xOTk5L3hsaW5rIiBzdHlsZT0ibWFyZ2luOiBhdXRvOyBiYWNrZ3JvdW5kOiBub25lOyBkaXNwbGF5OiBibG9jazsgc2hhcGUtcmVuZGVyaW5nOiBhdXRvOyIgdmlld0JveD0iMCAwIDEwMCAxMDAiIHByZXNlcnZlQXNwZWN0UmF0aW89InhNaWRZTWlkIj4gIDxjaXJjbGUgY3g9IjUwIiBjeT0iNTAiIHI9IjMyIiBzdHJva2Utd2lkdGg9IjgiIHN0cm9rZT0iI2MzYzNjMyIgc3Ryb2tlLWRhc2hhcnJheT0iNTAuMjY1NDgyNDU3NDM2NjkgNTAuMjY1NDgyNDU3NDM2NjkiIGZpbGw9Im5vbmUiIHN0cm9rZS1saW5lY2FwPSJyb3VuZCI+ICAgIDxhbmltYXRlVHJhbnNmb3JtIGF0dHJpYnV0ZU5hbWU9InRyYW5zZm9ybSIgdHlwZT0icm90YXRlIiByZXBlYXRDb3VudD0iaW5kZWZpbml0ZSIgZHVyPSIxcyIga2V5VGltZXM9IjA7MSIgdmFsdWVzPSIwIDUwIDUwOzM2MCA1MCA1MCI+PC9hbmltYXRlVHJhbnNmb3JtPiAgPC9jaXJjbGU+PC9zdmc+\\\");\\n      background-size: auto calc(min(50%, 400px));\\n    }\\n    \");\n    },    function(Bokeh) {\n      Bokeh.set_log_level(\"info\");\n    },\nfunction(Bokeh) {} // ensure no trailing comma for IE\n  ];\n\n  function run_inline_js() {\n    if ((root.Bokeh !== undefined) || (force === true)) {\n      for (var i = 0; i < inline_js.length; i++) {\n        inline_js[i].call(root, root.Bokeh);\n      }} else if (Date.now() < root._bokeh_timeout) {\n      setTimeout(run_inline_js, 100);\n    } else if (!root._bokeh_failed_load) {\n      console.log(\"Bokeh: BokehJS failed to load within specified timeout.\");\n      root._bokeh_failed_load = true;\n    }\n  }\n\n  if (root._bokeh_is_loading === 0) {\n    console.debug(\"Bokeh: BokehJS loaded, going straight to plotting\");\n    run_inline_js();\n  } else {\n    load_libs(css_urls, js_urls, js_modules, function() {\n      console.debug(\"Bokeh: BokehJS plotting callback run at\", now());\n      run_inline_js();\n    });\n  }\n}(window));"
     },
     "metadata": {},
     "output_type": "display_data"
    },
    {
     "data": {
      "application/javascript": [
       "\n",
       "if ((window.PyViz === undefined) || (window.PyViz instanceof HTMLElement)) {\n",
       "  window.PyViz = {comms: {}, comm_status:{}, kernels:{}, receivers: {}, plot_index: []}\n",
       "}\n",
       "\n",
       "\n",
       "    function JupyterCommManager() {\n",
       "    }\n",
       "\n",
       "    JupyterCommManager.prototype.register_target = function(plot_id, comm_id, msg_handler) {\n",
       "      if (window.comm_manager || ((window.Jupyter !== undefined) && (Jupyter.notebook.kernel != null))) {\n",
       "        var comm_manager = window.comm_manager || Jupyter.notebook.kernel.comm_manager;\n",
       "        comm_manager.register_target(comm_id, function(comm) {\n",
       "          comm.on_msg(msg_handler);\n",
       "        });\n",
       "      } else if ((plot_id in window.PyViz.kernels) && (window.PyViz.kernels[plot_id])) {\n",
       "        window.PyViz.kernels[plot_id].registerCommTarget(comm_id, function(comm) {\n",
       "          comm.onMsg = msg_handler;\n",
       "        });\n",
       "      } else if (typeof google != 'undefined' && google.colab.kernel != null) {\n",
       "        google.colab.kernel.comms.registerTarget(comm_id, (comm) => {\n",
       "          var messages = comm.messages[Symbol.asyncIterator]();\n",
       "          function processIteratorResult(result) {\n",
       "            var message = result.value;\n",
       "            console.log(message)\n",
       "            var content = {data: message.data, comm_id};\n",
       "            var buffers = []\n",
       "            for (var buffer of message.buffers || []) {\n",
       "              buffers.push(new DataView(buffer))\n",
       "            }\n",
       "            var metadata = message.metadata || {};\n",
       "            var msg = {content, buffers, metadata}\n",
       "            msg_handler(msg);\n",
       "            return messages.next().then(processIteratorResult);\n",
       "          }\n",
       "          return messages.next().then(processIteratorResult);\n",
       "        })\n",
       "      }\n",
       "    }\n",
       "\n",
       "    JupyterCommManager.prototype.get_client_comm = function(plot_id, comm_id, msg_handler) {\n",
       "      if (comm_id in window.PyViz.comms) {\n",
       "        return window.PyViz.comms[comm_id];\n",
       "      } else if (window.comm_manager || ((window.Jupyter !== undefined) && (Jupyter.notebook.kernel != null))) {\n",
       "        var comm_manager = window.comm_manager || Jupyter.notebook.kernel.comm_manager;\n",
       "        var comm = comm_manager.new_comm(comm_id, {}, {}, {}, comm_id);\n",
       "        if (msg_handler) {\n",
       "          comm.on_msg(msg_handler);\n",
       "        }\n",
       "      } else if ((plot_id in window.PyViz.kernels) && (window.PyViz.kernels[plot_id])) {\n",
       "        var comm = window.PyViz.kernels[plot_id].connectToComm(comm_id);\n",
       "        comm.open();\n",
       "        if (msg_handler) {\n",
       "          comm.onMsg = msg_handler;\n",
       "        }\n",
       "      } else if (typeof google != 'undefined' && google.colab.kernel != null) {\n",
       "        var comm_promise = google.colab.kernel.comms.open(comm_id)\n",
       "        comm_promise.then((comm) => {\n",
       "          window.PyViz.comms[comm_id] = comm;\n",
       "          if (msg_handler) {\n",
       "            var messages = comm.messages[Symbol.asyncIterator]();\n",
       "            function processIteratorResult(result) {\n",
       "              var message = result.value;\n",
       "              var content = {data: message.data};\n",
       "              var metadata = message.metadata || {comm_id};\n",
       "              var msg = {content, metadata}\n",
       "              msg_handler(msg);\n",
       "              return messages.next().then(processIteratorResult);\n",
       "            }\n",
       "            return messages.next().then(processIteratorResult);\n",
       "          }\n",
       "        }) \n",
       "        var sendClosure = (data, metadata, buffers, disposeOnDone) => {\n",
       "          return comm_promise.then((comm) => {\n",
       "            comm.send(data, metadata, buffers, disposeOnDone);\n",
       "          });\n",
       "        };\n",
       "        var comm = {\n",
       "          send: sendClosure\n",
       "        };\n",
       "      }\n",
       "      window.PyViz.comms[comm_id] = comm;\n",
       "      return comm;\n",
       "    }\n",
       "    window.PyViz.comm_manager = new JupyterCommManager();\n",
       "    \n",
       "\n",
       "\n",
       "var JS_MIME_TYPE = 'application/javascript';\n",
       "var HTML_MIME_TYPE = 'text/html';\n",
       "var EXEC_MIME_TYPE = 'application/vnd.holoviews_exec.v0+json';\n",
       "var CLASS_NAME = 'output';\n",
       "\n",
       "/**\n",
       " * Render data to the DOM node\n",
       " */\n",
       "function render(props, node) {\n",
       "  var div = document.createElement(\"div\");\n",
       "  var script = document.createElement(\"script\");\n",
       "  node.appendChild(div);\n",
       "  node.appendChild(script);\n",
       "}\n",
       "\n",
       "/**\n",
       " * Handle when a new output is added\n",
       " */\n",
       "function handle_add_output(event, handle) {\n",
       "  var output_area = handle.output_area;\n",
       "  var output = handle.output;\n",
       "  if ((output.data == undefined) || (!output.data.hasOwnProperty(EXEC_MIME_TYPE))) {\n",
       "    return\n",
       "  }\n",
       "  var id = output.metadata[EXEC_MIME_TYPE][\"id\"];\n",
       "  var toinsert = output_area.element.find(\".\" + CLASS_NAME.split(' ')[0]);\n",
       "  if (id !== undefined) {\n",
       "    var nchildren = toinsert.length;\n",
       "    var html_node = toinsert[nchildren-1].children[0];\n",
       "    html_node.innerHTML = output.data[HTML_MIME_TYPE];\n",
       "    var scripts = [];\n",
       "    var nodelist = html_node.querySelectorAll(\"script\");\n",
       "    for (var i in nodelist) {\n",
       "      if (nodelist.hasOwnProperty(i)) {\n",
       "        scripts.push(nodelist[i])\n",
       "      }\n",
       "    }\n",
       "\n",
       "    scripts.forEach( function (oldScript) {\n",
       "      var newScript = document.createElement(\"script\");\n",
       "      var attrs = [];\n",
       "      var nodemap = oldScript.attributes;\n",
       "      for (var j in nodemap) {\n",
       "        if (nodemap.hasOwnProperty(j)) {\n",
       "          attrs.push(nodemap[j])\n",
       "        }\n",
       "      }\n",
       "      attrs.forEach(function(attr) { newScript.setAttribute(attr.name, attr.value) });\n",
       "      newScript.appendChild(document.createTextNode(oldScript.innerHTML));\n",
       "      oldScript.parentNode.replaceChild(newScript, oldScript);\n",
       "    });\n",
       "    if (JS_MIME_TYPE in output.data) {\n",
       "      toinsert[nchildren-1].children[1].textContent = output.data[JS_MIME_TYPE];\n",
       "    }\n",
       "    output_area._hv_plot_id = id;\n",
       "    if ((window.Bokeh !== undefined) && (id in Bokeh.index)) {\n",
       "      window.PyViz.plot_index[id] = Bokeh.index[id];\n",
       "    } else {\n",
       "      window.PyViz.plot_index[id] = null;\n",
       "    }\n",
       "  } else if (output.metadata[EXEC_MIME_TYPE][\"server_id\"] !== undefined) {\n",
       "    var bk_div = document.createElement(\"div\");\n",
       "    bk_div.innerHTML = output.data[HTML_MIME_TYPE];\n",
       "    var script_attrs = bk_div.children[0].attributes;\n",
       "    for (var i = 0; i < script_attrs.length; i++) {\n",
       "      toinsert[toinsert.length - 1].childNodes[1].setAttribute(script_attrs[i].name, script_attrs[i].value);\n",
       "    }\n",
       "    // store reference to server id on output_area\n",
       "    output_area._bokeh_server_id = output.metadata[EXEC_MIME_TYPE][\"server_id\"];\n",
       "  }\n",
       "}\n",
       "\n",
       "/**\n",
       " * Handle when an output is cleared or removed\n",
       " */\n",
       "function handle_clear_output(event, handle) {\n",
       "  var id = handle.cell.output_area._hv_plot_id;\n",
       "  var server_id = handle.cell.output_area._bokeh_server_id;\n",
       "  if (((id === undefined) || !(id in PyViz.plot_index)) && (server_id !== undefined)) { return; }\n",
       "  var comm = window.PyViz.comm_manager.get_client_comm(\"hv-extension-comm\", \"hv-extension-comm\", function () {});\n",
       "  if (server_id !== null) {\n",
       "    comm.send({event_type: 'server_delete', 'id': server_id});\n",
       "    return;\n",
       "  } else if (comm !== null) {\n",
       "    comm.send({event_type: 'delete', 'id': id});\n",
       "  }\n",
       "  delete PyViz.plot_index[id];\n",
       "  if ((window.Bokeh !== undefined) & (id in window.Bokeh.index)) {\n",
       "    var doc = window.Bokeh.index[id].model.document\n",
       "    doc.clear();\n",
       "    const i = window.Bokeh.documents.indexOf(doc);\n",
       "    if (i > -1) {\n",
       "      window.Bokeh.documents.splice(i, 1);\n",
       "    }\n",
       "  }\n",
       "}\n",
       "\n",
       "/**\n",
       " * Handle kernel restart event\n",
       " */\n",
       "function handle_kernel_cleanup(event, handle) {\n",
       "  delete PyViz.comms[\"hv-extension-comm\"];\n",
       "  window.PyViz.plot_index = {}\n",
       "}\n",
       "\n",
       "/**\n",
       " * Handle update_display_data messages\n",
       " */\n",
       "function handle_update_output(event, handle) {\n",
       "  handle_clear_output(event, {cell: {output_area: handle.output_area}})\n",
       "  handle_add_output(event, handle)\n",
       "}\n",
       "\n",
       "function register_renderer(events, OutputArea) {\n",
       "  function append_mime(data, metadata, element) {\n",
       "    // create a DOM node to render to\n",
       "    var toinsert = this.create_output_subarea(\n",
       "    metadata,\n",
       "    CLASS_NAME,\n",
       "    EXEC_MIME_TYPE\n",
       "    );\n",
       "    this.keyboard_manager.register_events(toinsert);\n",
       "    // Render to node\n",
       "    var props = {data: data, metadata: metadata[EXEC_MIME_TYPE]};\n",
       "    render(props, toinsert[0]);\n",
       "    element.append(toinsert);\n",
       "    return toinsert\n",
       "  }\n",
       "\n",
       "  events.on('output_added.OutputArea', handle_add_output);\n",
       "  events.on('output_updated.OutputArea', handle_update_output);\n",
       "  events.on('clear_output.CodeCell', handle_clear_output);\n",
       "  events.on('delete.Cell', handle_clear_output);\n",
       "  events.on('kernel_ready.Kernel', handle_kernel_cleanup);\n",
       "\n",
       "  OutputArea.prototype.register_mime_type(EXEC_MIME_TYPE, append_mime, {\n",
       "    safe: true,\n",
       "    index: 0\n",
       "  });\n",
       "}\n",
       "\n",
       "if (window.Jupyter !== undefined) {\n",
       "  try {\n",
       "    var events = require('base/js/events');\n",
       "    var OutputArea = require('notebook/js/outputarea').OutputArea;\n",
       "    if (OutputArea.prototype.mime_types().indexOf(EXEC_MIME_TYPE) == -1) {\n",
       "      register_renderer(events, OutputArea);\n",
       "    }\n",
       "  } catch(err) {\n",
       "  }\n",
       "}\n"
      ],
      "application/vnd.holoviews_load.v0+json": "\nif ((window.PyViz === undefined) || (window.PyViz instanceof HTMLElement)) {\n  window.PyViz = {comms: {}, comm_status:{}, kernels:{}, receivers: {}, plot_index: []}\n}\n\n\n    function JupyterCommManager() {\n    }\n\n    JupyterCommManager.prototype.register_target = function(plot_id, comm_id, msg_handler) {\n      if (window.comm_manager || ((window.Jupyter !== undefined) && (Jupyter.notebook.kernel != null))) {\n        var comm_manager = window.comm_manager || Jupyter.notebook.kernel.comm_manager;\n        comm_manager.register_target(comm_id, function(comm) {\n          comm.on_msg(msg_handler);\n        });\n      } else if ((plot_id in window.PyViz.kernels) && (window.PyViz.kernels[plot_id])) {\n        window.PyViz.kernels[plot_id].registerCommTarget(comm_id, function(comm) {\n          comm.onMsg = msg_handler;\n        });\n      } else if (typeof google != 'undefined' && google.colab.kernel != null) {\n        google.colab.kernel.comms.registerTarget(comm_id, (comm) => {\n          var messages = comm.messages[Symbol.asyncIterator]();\n          function processIteratorResult(result) {\n            var message = result.value;\n            console.log(message)\n            var content = {data: message.data, comm_id};\n            var buffers = []\n            for (var buffer of message.buffers || []) {\n              buffers.push(new DataView(buffer))\n            }\n            var metadata = message.metadata || {};\n            var msg = {content, buffers, metadata}\n            msg_handler(msg);\n            return messages.next().then(processIteratorResult);\n          }\n          return messages.next().then(processIteratorResult);\n        })\n      }\n    }\n\n    JupyterCommManager.prototype.get_client_comm = function(plot_id, comm_id, msg_handler) {\n      if (comm_id in window.PyViz.comms) {\n        return window.PyViz.comms[comm_id];\n      } else if (window.comm_manager || ((window.Jupyter !== undefined) && (Jupyter.notebook.kernel != null))) {\n        var comm_manager = window.comm_manager || Jupyter.notebook.kernel.comm_manager;\n        var comm = comm_manager.new_comm(comm_id, {}, {}, {}, comm_id);\n        if (msg_handler) {\n          comm.on_msg(msg_handler);\n        }\n      } else if ((plot_id in window.PyViz.kernels) && (window.PyViz.kernels[plot_id])) {\n        var comm = window.PyViz.kernels[plot_id].connectToComm(comm_id);\n        comm.open();\n        if (msg_handler) {\n          comm.onMsg = msg_handler;\n        }\n      } else if (typeof google != 'undefined' && google.colab.kernel != null) {\n        var comm_promise = google.colab.kernel.comms.open(comm_id)\n        comm_promise.then((comm) => {\n          window.PyViz.comms[comm_id] = comm;\n          if (msg_handler) {\n            var messages = comm.messages[Symbol.asyncIterator]();\n            function processIteratorResult(result) {\n              var message = result.value;\n              var content = {data: message.data};\n              var metadata = message.metadata || {comm_id};\n              var msg = {content, metadata}\n              msg_handler(msg);\n              return messages.next().then(processIteratorResult);\n            }\n            return messages.next().then(processIteratorResult);\n          }\n        }) \n        var sendClosure = (data, metadata, buffers, disposeOnDone) => {\n          return comm_promise.then((comm) => {\n            comm.send(data, metadata, buffers, disposeOnDone);\n          });\n        };\n        var comm = {\n          send: sendClosure\n        };\n      }\n      window.PyViz.comms[comm_id] = comm;\n      return comm;\n    }\n    window.PyViz.comm_manager = new JupyterCommManager();\n    \n\n\nvar JS_MIME_TYPE = 'application/javascript';\nvar HTML_MIME_TYPE = 'text/html';\nvar EXEC_MIME_TYPE = 'application/vnd.holoviews_exec.v0+json';\nvar CLASS_NAME = 'output';\n\n/**\n * Render data to the DOM node\n */\nfunction render(props, node) {\n  var div = document.createElement(\"div\");\n  var script = document.createElement(\"script\");\n  node.appendChild(div);\n  node.appendChild(script);\n}\n\n/**\n * Handle when a new output is added\n */\nfunction handle_add_output(event, handle) {\n  var output_area = handle.output_area;\n  var output = handle.output;\n  if ((output.data == undefined) || (!output.data.hasOwnProperty(EXEC_MIME_TYPE))) {\n    return\n  }\n  var id = output.metadata[EXEC_MIME_TYPE][\"id\"];\n  var toinsert = output_area.element.find(\".\" + CLASS_NAME.split(' ')[0]);\n  if (id !== undefined) {\n    var nchildren = toinsert.length;\n    var html_node = toinsert[nchildren-1].children[0];\n    html_node.innerHTML = output.data[HTML_MIME_TYPE];\n    var scripts = [];\n    var nodelist = html_node.querySelectorAll(\"script\");\n    for (var i in nodelist) {\n      if (nodelist.hasOwnProperty(i)) {\n        scripts.push(nodelist[i])\n      }\n    }\n\n    scripts.forEach( function (oldScript) {\n      var newScript = document.createElement(\"script\");\n      var attrs = [];\n      var nodemap = oldScript.attributes;\n      for (var j in nodemap) {\n        if (nodemap.hasOwnProperty(j)) {\n          attrs.push(nodemap[j])\n        }\n      }\n      attrs.forEach(function(attr) { newScript.setAttribute(attr.name, attr.value) });\n      newScript.appendChild(document.createTextNode(oldScript.innerHTML));\n      oldScript.parentNode.replaceChild(newScript, oldScript);\n    });\n    if (JS_MIME_TYPE in output.data) {\n      toinsert[nchildren-1].children[1].textContent = output.data[JS_MIME_TYPE];\n    }\n    output_area._hv_plot_id = id;\n    if ((window.Bokeh !== undefined) && (id in Bokeh.index)) {\n      window.PyViz.plot_index[id] = Bokeh.index[id];\n    } else {\n      window.PyViz.plot_index[id] = null;\n    }\n  } else if (output.metadata[EXEC_MIME_TYPE][\"server_id\"] !== undefined) {\n    var bk_div = document.createElement(\"div\");\n    bk_div.innerHTML = output.data[HTML_MIME_TYPE];\n    var script_attrs = bk_div.children[0].attributes;\n    for (var i = 0; i < script_attrs.length; i++) {\n      toinsert[toinsert.length - 1].childNodes[1].setAttribute(script_attrs[i].name, script_attrs[i].value);\n    }\n    // store reference to server id on output_area\n    output_area._bokeh_server_id = output.metadata[EXEC_MIME_TYPE][\"server_id\"];\n  }\n}\n\n/**\n * Handle when an output is cleared or removed\n */\nfunction handle_clear_output(event, handle) {\n  var id = handle.cell.output_area._hv_plot_id;\n  var server_id = handle.cell.output_area._bokeh_server_id;\n  if (((id === undefined) || !(id in PyViz.plot_index)) && (server_id !== undefined)) { return; }\n  var comm = window.PyViz.comm_manager.get_client_comm(\"hv-extension-comm\", \"hv-extension-comm\", function () {});\n  if (server_id !== null) {\n    comm.send({event_type: 'server_delete', 'id': server_id});\n    return;\n  } else if (comm !== null) {\n    comm.send({event_type: 'delete', 'id': id});\n  }\n  delete PyViz.plot_index[id];\n  if ((window.Bokeh !== undefined) & (id in window.Bokeh.index)) {\n    var doc = window.Bokeh.index[id].model.document\n    doc.clear();\n    const i = window.Bokeh.documents.indexOf(doc);\n    if (i > -1) {\n      window.Bokeh.documents.splice(i, 1);\n    }\n  }\n}\n\n/**\n * Handle kernel restart event\n */\nfunction handle_kernel_cleanup(event, handle) {\n  delete PyViz.comms[\"hv-extension-comm\"];\n  window.PyViz.plot_index = {}\n}\n\n/**\n * Handle update_display_data messages\n */\nfunction handle_update_output(event, handle) {\n  handle_clear_output(event, {cell: {output_area: handle.output_area}})\n  handle_add_output(event, handle)\n}\n\nfunction register_renderer(events, OutputArea) {\n  function append_mime(data, metadata, element) {\n    // create a DOM node to render to\n    var toinsert = this.create_output_subarea(\n    metadata,\n    CLASS_NAME,\n    EXEC_MIME_TYPE\n    );\n    this.keyboard_manager.register_events(toinsert);\n    // Render to node\n    var props = {data: data, metadata: metadata[EXEC_MIME_TYPE]};\n    render(props, toinsert[0]);\n    element.append(toinsert);\n    return toinsert\n  }\n\n  events.on('output_added.OutputArea', handle_add_output);\n  events.on('output_updated.OutputArea', handle_update_output);\n  events.on('clear_output.CodeCell', handle_clear_output);\n  events.on('delete.Cell', handle_clear_output);\n  events.on('kernel_ready.Kernel', handle_kernel_cleanup);\n\n  OutputArea.prototype.register_mime_type(EXEC_MIME_TYPE, append_mime, {\n    safe: true,\n    index: 0\n  });\n}\n\nif (window.Jupyter !== undefined) {\n  try {\n    var events = require('base/js/events');\n    var OutputArea = require('notebook/js/outputarea').OutputArea;\n    if (OutputArea.prototype.mime_types().indexOf(EXEC_MIME_TYPE) == -1) {\n      register_renderer(events, OutputArea);\n    }\n  } catch(err) {\n  }\n}\n"
     },
     "metadata": {},
     "output_type": "display_data"
    },
    {
     "data": {
      "text/html": [
       "<style>.bk-root, .bk-root .bk:before, .bk-root .bk:after {\n",
       "  font-family: var(--jp-ui-font-size1);\n",
       "  font-size: var(--jp-ui-font-size1);\n",
       "  color: var(--jp-ui-font-color1);\n",
       "}\n",
       "</style>"
      ]
     },
     "metadata": {},
     "output_type": "display_data"
    },
    {
     "data": {},
     "metadata": {},
     "output_type": "display_data"
    },
    {
     "data": {
      "application/vnd.holoviews_exec.v0+json": "",
      "text/html": [
       "<div id='1003'>\n",
       "  <div class=\"bk-root\" id=\"accb8820-3045-4343-b28e-8b5036b431ad\" data-root-id=\"1003\"></div>\n",
       "</div>\n",
       "<script type=\"application/javascript\">(function(root) {\n",
       "  function embed_document(root) {\n",
       "    var docs_json = {\"38bce48c-e81a-4d56-8b3d-3e04b7d1dbc8\":{\"defs\":[{\"extends\":null,\"module\":null,\"name\":\"ReactiveHTML1\",\"overrides\":[],\"properties\":[]},{\"extends\":null,\"module\":null,\"name\":\"FlexBox1\",\"overrides\":[],\"properties\":[{\"default\":\"flex-start\",\"kind\":null,\"name\":\"align_content\"},{\"default\":\"flex-start\",\"kind\":null,\"name\":\"align_items\"},{\"default\":\"row\",\"kind\":null,\"name\":\"flex_direction\"},{\"default\":\"wrap\",\"kind\":null,\"name\":\"flex_wrap\"},{\"default\":\"flex-start\",\"kind\":null,\"name\":\"justify_content\"}]},{\"extends\":null,\"module\":null,\"name\":\"GridStack1\",\"overrides\":[],\"properties\":[{\"default\":\"warn\",\"kind\":null,\"name\":\"mode\"},{\"default\":null,\"kind\":null,\"name\":\"ncols\"},{\"default\":null,\"kind\":null,\"name\":\"nrows\"},{\"default\":true,\"kind\":null,\"name\":\"allow_resize\"},{\"default\":true,\"kind\":null,\"name\":\"allow_drag\"},{\"default\":[],\"kind\":null,\"name\":\"state\"}]},{\"extends\":null,\"module\":null,\"name\":\"click1\",\"overrides\":[],\"properties\":[{\"default\":\"\",\"kind\":null,\"name\":\"terminal_output\"},{\"default\":\"\",\"kind\":null,\"name\":\"debug_name\"},{\"default\":0,\"kind\":null,\"name\":\"clears\"}]},{\"extends\":null,\"module\":null,\"name\":\"NotificationAreaBase1\",\"overrides\":[],\"properties\":[{\"default\":\"bottom-right\",\"kind\":null,\"name\":\"position\"},{\"default\":0,\"kind\":null,\"name\":\"_clear\"}]},{\"extends\":null,\"module\":null,\"name\":\"NotificationArea1\",\"overrides\":[],\"properties\":[{\"default\":[],\"kind\":null,\"name\":\"notifications\"},{\"default\":\"bottom-right\",\"kind\":null,\"name\":\"position\"},{\"default\":0,\"kind\":null,\"name\":\"_clear\"},{\"default\":[{\"background\":\"#ffc107\",\"icon\":{\"className\":\"fas fa-exclamation-triangle\",\"color\":\"white\",\"tagName\":\"i\"},\"type\":\"warning\"},{\"background\":\"#007bff\",\"icon\":{\"className\":\"fas fa-info-circle\",\"color\":\"white\",\"tagName\":\"i\"},\"type\":\"info\"}],\"kind\":null,\"name\":\"types\"}]},{\"extends\":null,\"module\":null,\"name\":\"Notification\",\"overrides\":[],\"properties\":[{\"default\":null,\"kind\":null,\"name\":\"background\"},{\"default\":3000,\"kind\":null,\"name\":\"duration\"},{\"default\":null,\"kind\":null,\"name\":\"icon\"},{\"default\":\"\",\"kind\":null,\"name\":\"message\"},{\"default\":null,\"kind\":null,\"name\":\"notification_type\"},{\"default\":false,\"kind\":null,\"name\":\"_destroyed\"}]},{\"extends\":null,\"module\":null,\"name\":\"TemplateActions1\",\"overrides\":[],\"properties\":[{\"default\":0,\"kind\":null,\"name\":\"open_modal\"},{\"default\":0,\"kind\":null,\"name\":\"close_modal\"}]},{\"extends\":null,\"module\":null,\"name\":\"MaterialTemplateActions1\",\"overrides\":[],\"properties\":[{\"default\":0,\"kind\":null,\"name\":\"open_modal\"},{\"default\":0,\"kind\":null,\"name\":\"close_modal\"}]}],\"roots\":{\"references\":[{\"attributes\":{\"data\":{\"id\":\"1002\"},\"margin\":[5,5,5,5],\"scripts\":{\"_clear\":[\"state.toaster.dismissAll()\"],\"notifications\":[\"var notification = state.current || data.notifications[data.notifications.length-1]\\nif (notification._destroyed) {\\n  return\\n}\\nvar config = {\\n  duration: notification.duration,\\n  type: notification.notification_type,\\n  message: notification.message\\n}\\nif (notification.background != null) {\\n  config.background = notification.background;\\n}\\nif (notification.icon != null) {\\n  config.icon = notification.icon;\\n}\\nvar toast = state.toaster.open(config);\\nfunction destroy() {\\n  if (state.current !== notification) {\\n    notification._destroyed = true;\\n  }\\n}\\ntoast.on(&#x27;dismiss&#x27;, destroy)\\nif (notification.duration) {\\n  setTimeout(destroy, notification.duration)\\n}\\nif (notification.properties === undefined)\\n  return\\nview.connect(notification.properties._destroyed.change, function () {\\n  state.toaster.dismiss(toast)\\n})\"],\"position\":[\"script(&#x27;_clear&#x27;);\\nscript(&#x27;render&#x27;);\\nfor (notification of data.notifications) {\\n  state.current = notification;\\n  script(&#x27;notifications&#x27;);\\n}\\nstate.current = undefined\"],\"render\":[\"var [y, x] = data.position.split(&#x27;-&#x27;)\\nstate.toaster = new Notyf({\\n  dismissible: true,\\n  position: {x: x, y: y},\\n  types: data.types\\n})\"]},\"sizing_mode\":\"stretch_width\",\"subscribed_events\":[\"dom_event\"]},\"id\":\"1003\",\"type\":\"panel.models.reactive_html.ReactiveHTML\"},{\"attributes\":{\"client_comm_id\":\"df2c9b3fa9ec4b42aa0e9201e45d9a07\",\"comm_id\":\"83ddde40d17747ce95475ce49652c5af\",\"plot_id\":\"1003\"},\"id\":\"1004\",\"type\":\"panel.models.comm_manager.CommManager\"},{\"attributes\":{\"name\":\"NotificationArea00110\"},\"id\":\"1002\",\"type\":\"NotificationArea1\"},{\"attributes\":{\"reload\":false},\"id\":\"1005\",\"type\":\"panel.models.location.Location\"}],\"root_ids\":[\"1003\",\"1004\",\"1005\"]},\"title\":\"Bokeh Application\",\"version\":\"2.4.3\"}};\n",
       "    var render_items = [{\"docid\":\"38bce48c-e81a-4d56-8b3d-3e04b7d1dbc8\",\"root_ids\":[\"1003\"],\"roots\":{\"1003\":\"accb8820-3045-4343-b28e-8b5036b431ad\"}}];\n",
       "    root.Bokeh.embed.embed_items_notebook(docs_json, render_items);\n",
       "  }\n",
       "  if (root.Bokeh !== undefined && root.Bokeh.Panel !== undefined && ( root['Tabulator'] !== undefined)) {\n",
       "    embed_document(root);\n",
       "  } else {\n",
       "    var attempts = 0;\n",
       "    var timer = setInterval(function(root) {\n",
       "      if (root.Bokeh !== undefined && root.Bokeh.Panel !== undefined && (root['Tabulator'] !== undefined)) {\n",
       "        clearInterval(timer);\n",
       "        embed_document(root);\n",
       "      } else if (document.readyState == \"complete\") {\n",
       "        attempts++;\n",
       "        if (attempts > 200) {\n",
       "          clearInterval(timer);\n",
       "          console.log(\"Bokeh: ERROR: Unable to run BokehJS code because BokehJS library is missing\");\n",
       "        }\n",
       "      }\n",
       "    }, 25, root)\n",
       "  }\n",
       "})(window);</script>"
      ],
      "text/plain": [
       "NotificationArea(sizing_mode='stretch_width')"
      ]
     },
     "metadata": {
      "application/vnd.holoviews_exec.v0+json": {
       "id": "1003"
      }
     },
     "output_type": "display_data"
    }
   ],
   "source": [
    "import sys\n",
    "import os\n",
    "sys.path.append('..')\n",
    "# sys.path.append(os.path.abspath('..'))\n",
    "\n",
    "from incf.incf import MainArea\n",
    "import param\n",
    "\n",
    "import io\n",
    "import panel as pn\n",
    "import numpy as np\n",
    "import pandas as pd\n",
    "\n",
    "pn.extension('tabulator', 'ace', 'jsoneditor', 'ipywidgets', sizing_mode='stretch_width', notifications=True)"
   ]
  },
  {
   "cell_type": "code",
   "execution_count": 2,
   "metadata": {
    "pycharm": {
     "name": "#%%\n"
    }
   },
   "outputs": [],
   "source": [
    "from pathlib import Path\n",
    "\n",
    "import warnings\n",
    "warnings.filterwarnings('ignore')"
   ]
  },
  {
   "cell_type": "code",
   "execution_count": 3,
   "metadata": {
    "pycharm": {
     "name": "#%%\n"
    }
   },
   "outputs": [],
   "source": [
    "path = '../output'\n",
    "sys.path.append(path)"
   ]
  },
  {
   "cell_type": "code",
   "execution_count": 4,
   "metadata": {
    "pycharm": {
     "name": "#%%\n"
    },
    "scrolled": true
   },
   "outputs": [
    {
     "name": "stderr",
     "output_type": "stream",
     "text": [
      "WARNING:param.MainArea00131: Setting non-parameter attribute text_input=TextInput(name='Insert Path', sizing_mode='stretch_width') using a mechanism intended only for parameters\n",
      "WARNING:param.MainArea00131: Setting non-parameter attribute cross_select=CrossSelector(options=['.ipynb_checkpoints', ...], sizing_mode='stretch_width') using a mechanism intended only for parameters\n"
     ]
    },
    {
     "name": "stdout",
     "output_type": "stream",
     "text": [
      "Launching server at http://localhost:55069\n"
     ]
    },
    {
     "data": {
      "text/plain": [
       "<bokeh.server.server.Server at 0x20297a89690>"
      ]
     },
     "execution_count": 4,
     "metadata": {},
     "output_type": "execute_result"
    }
   ],
   "source": [
    "test = MainArea()\n",
    "pn.serve(test.view())\n"
   ]
  },
  {
   "cell_type": "code",
   "execution_count": null,
   "metadata": {
    "pycharm": {
     "name": "#%%\n"
    }
   },
   "outputs": [],
   "source": []
  },
  {
   "cell_type": "code",
   "execution_count": null,
   "metadata": {},
   "outputs": [],
   "source": []
  },
  {
   "cell_type": "code",
   "execution_count": 5,
   "metadata": {},
   "outputs": [
    {
     "data": {
      "text/plain": [
       "'output/<br>&emsp;&emsp;code/<br>&emsp;&emsp;coord/<br>&emsp;&emsp;eq/<br>&emsp;&emsp;param/<br>&emsp;&emsp;sub-10qA0/<br>&emsp;&emsp;&emsp;&emsp;net/<br>&emsp;&emsp;&emsp;&emsp;spatial/<br>&emsp;&emsp;&emsp;&emsp;ts/<br>&emsp;&emsp;sub-kh0iA/<br>&emsp;&emsp;&emsp;&emsp;net/<br>&emsp;&emsp;&emsp;&emsp;spatial/<br>&emsp;&emsp;&emsp;&emsp;ts/<br>&emsp;&emsp;sub-RuBcx/<br>&emsp;&emsp;&emsp;&emsp;net/<br>&emsp;&emsp;&emsp;&emsp;spatial/<br>&emsp;&emsp;&emsp;&emsp;ts/'"
      ]
     },
     "execution_count": 5,
     "metadata": {},
     "output_type": "execute_result"
    }
   ],
   "source": [
    "def get_current_output(path, indentation=2):\n",
    "    tree = []\n",
    "\n",
    "    if os.path.exists(path) and len(os.listdir(path)) > 0:\n",
    "        for root, dirs, files in os.walk(path):\n",
    "            level = root.replace(path, '').count(os.sep)\n",
    "            indent = '&emsp;' * indentation * level\n",
    "            tree.append('{}{}/'.format(indent, os.path.basename(root)))\n",
    "        tree = '<br>'.join(tree)\n",
    "    return tree\n",
    "\n",
    "\n",
    "get_current_output('../output')"
   ]
  },
  {
   "cell_type": "code",
   "execution_count": null,
   "metadata": {},
   "outputs": [],
   "source": []
  },
  {
   "cell_type": "code",
   "execution_count": 12,
   "metadata": {},
   "outputs": [
    {
     "data": {
      "text/plain": [
       "'output<br>├── CHANGES.txt<br>├── code<br>├── coord<br>│   ├── desc-default_connectivity_labels.json<br>│   ├── desc-default_connectivity_labels.tsv<br>│   ├── desc-default_connectivity_nodes.json<br>│   └── desc-default_connectivity_nodes.tsv<br>├── dataset_description.json<br>├── eq<br>├── param<br>│   └── desc-default-generic2doscillator.xml<br>├── participants.tsv<br>├── README.txt<br>├── sub-10qA0<br>│   ├── net<br>│   ├── spatial<br>│   └── ts<br>├── sub-kh0iA<br>│   ├── net<br>│   │   ├── sub-kh0iA_desc-default_connectivity-distances.json<br>│   │   ├── sub-kh0iA_desc-default_connectivity-distances.tsv<br>│   │   ├── sub-kh0iA_desc-default_connectivity-weights.json<br>│   │   └── sub-kh0iA_desc-default_connectivity-weights.tsv<br>│   ├── spatial<br>│   └── ts<br>└── sub-RuBcx<br>    ├── net<br>    │   ├── sub-RuBcx_desc-default_connectivity-distances.json<br>    │   ├── sub-RuBcx_desc-default_connectivity-distances.tsv<br>    │   ├── sub-RuBcx_desc-default_connectivity-weights.json<br>    │   └── sub-RuBcx_desc-default_connectivity-weights.tsv<br>    ├── spatial<br>    └── ts'"
      ]
     },
     "execution_count": 12,
     "metadata": {},
     "output_type": "execute_result"
    }
   ],
   "source": [
    "from pathlib import Path\n",
    "from itertools import islice\n",
    "\n",
    "space =  '    '\n",
    "branch = '│   '\n",
    "tee =    '├── '\n",
    "last =   '└── '\n",
    "\n",
    "\n",
    "\n",
    "def tree(dir_path: Path, level: int=-1, limit_to_directories: bool=False,\n",
    "         length_limit: int=1000):\n",
    "    \"\"\"Given a directory Path object print a visual tree structure\"\"\"\n",
    "    struct = []\n",
    "    \n",
    "    dir_path = Path(dir_path) # accept string coerceable to Path\n",
    "    files = 0\n",
    "    directories = 0\n",
    "    def inner(dir_path: Path, prefix: str='', level=-1):\n",
    "        nonlocal files, directories\n",
    "        if not level: \n",
    "            return # 0, stop iterating\n",
    "        if limit_to_directories:\n",
    "            contents = [d for d in dir_path.iterdir() if d.is_dir()]\n",
    "        else: \n",
    "            contents = list(dir_path.iterdir())\n",
    "        pointers = [tee] * (len(contents) - 1) + [last]\n",
    "        for pointer, path in zip(pointers, contents):\n",
    "            if path.is_dir():\n",
    "                yield prefix + pointer + path.name\n",
    "                directories += 1\n",
    "                extension = branch if pointer == tee else space \n",
    "                yield from inner(path, prefix=prefix+extension, level=level-1)\n",
    "            elif not limit_to_directories:\n",
    "                yield prefix + pointer + path.name\n",
    "                files += 1\n",
    "    struct.append(dir_path.name)\n",
    "    \n",
    "    \n",
    "    iterator = inner(dir_path, level=level)\n",
    "    for line in islice(iterator, length_limit):\n",
    "        struct.append(line)\n",
    "    return '<br>'.join(struct)\n",
    "    \n",
    "\n",
    "tree('../output')"
   ]
  },
  {
   "cell_type": "code",
   "execution_count": null,
   "metadata": {},
   "outputs": [],
   "source": []
  },
  {
   "cell_type": "code",
   "execution_count": null,
   "metadata": {},
   "outputs": [],
   "source": []
  },
  {
   "cell_type": "code",
   "execution_count": null,
   "metadata": {},
   "outputs": [],
   "source": []
  },
  {
   "cell_type": "code",
   "execution_count": 46,
   "metadata": {},
   "outputs": [
    {
     "data": {
      "text/plain": [
       "{'output': {'dirs': {'code': {'dirs': {}, 'files': []},\n",
       "   'coord': {'dirs': {},\n",
       "    'files': ['desc-default_connectivity_labels.json',\n",
       "     'desc-default_connectivity_labels.tsv',\n",
       "     'desc-default_connectivity_nodes.json',\n",
       "     'desc-default_connectivity_nodes.tsv']},\n",
       "   'eq': {'dirs': {}, 'files': []},\n",
       "   'param': {'dirs': {}, 'files': ['desc-default-generic2doscillator.xml']},\n",
       "   'sub-10qA0': {'dirs': {'net': {'dirs': {}, 'files': []},\n",
       "     'spatial': {'dirs': {}, 'files': []},\n",
       "     'ts': {'dirs': {}, 'files': []}},\n",
       "    'files': []},\n",
       "   'sub-kh0iA': {'dirs': {'net': {'dirs': {},\n",
       "      'files': ['sub-kh0iA_desc-default_connectivity-distances.json',\n",
       "       'sub-kh0iA_desc-default_connectivity-distances.tsv',\n",
       "       'sub-kh0iA_desc-default_connectivity-weights.json',\n",
       "       'sub-kh0iA_desc-default_connectivity-weights.tsv']},\n",
       "     'spatial': {'dirs': {}, 'files': []},\n",
       "     'ts': {'dirs': {}, 'files': []}},\n",
       "    'files': []},\n",
       "   'sub-RuBcx': {'dirs': {'net': {'dirs': {},\n",
       "      'files': ['sub-RuBcx_desc-default_connectivity-distances.json',\n",
       "       'sub-RuBcx_desc-default_connectivity-distances.tsv',\n",
       "       'sub-RuBcx_desc-default_connectivity-weights.json',\n",
       "       'sub-RuBcx_desc-default_connectivity-weights.tsv']},\n",
       "     'spatial': {'dirs': {}, 'files': []},\n",
       "     'ts': {'dirs': {}, 'files': []}},\n",
       "    'files': []}},\n",
       "  'files': ['CHANGES.txt',\n",
       "   'dataset_description.json',\n",
       "   'participants.tsv',\n",
       "   'README.txt']}}"
      ]
     },
     "execution_count": 46,
     "metadata": {},
     "output_type": "execute_result"
    }
   ],
   "source": [
    "import pprint\n",
    "\n",
    "pp = pprint.PrettyPrinter()\n",
    "\n",
    "def path_to_dict(path, d={'dirs':{},'files':[]}):\n",
    "    \n",
    "    name = os.path.basename(path)\n",
    "\n",
    "    if os.path.isdir(path):\n",
    "        if name not in d['dirs']:\n",
    "            d['dirs'][name] = {'dirs':{},'files':[]}\n",
    "        for x in os.listdir(path):\n",
    "            path_to_dict(os.path.join(path,x), d['dirs'][name])\n",
    "    else:\n",
    "        d['files'].append(name)\n",
    "        \n",
    "    return d['dirs']\n",
    "\n",
    "\n",
    "mydict = path_to_dict('../output')\n",
    "mydict"
   ]
  },
  {
   "cell_type": "code",
   "execution_count": 45,
   "metadata": {},
   "outputs": [
    {
     "data": {
      "text/plain": [
       "{'dirs': {'code': {'dirs': {}, 'files': []},\n",
       "  'coord': {'dirs': {},\n",
       "   'files': ['desc-default_connectivity_labels.json',\n",
       "    'desc-default_connectivity_labels.tsv',\n",
       "    'desc-default_connectivity_nodes.json',\n",
       "    'desc-default_connectivity_nodes.tsv']},\n",
       "  'eq': {'dirs': {}, 'files': []},\n",
       "  'param': {'dirs': {}, 'files': ['desc-default-generic2doscillator.xml']},\n",
       "  'sub-10qA0': {'dirs': {'net': {'dirs': {}, 'files': []},\n",
       "    'spatial': {'dirs': {}, 'files': []},\n",
       "    'ts': {'dirs': {}, 'files': []}},\n",
       "   'files': []},\n",
       "  'sub-kh0iA': {'dirs': {'net': {'dirs': {},\n",
       "     'files': ['sub-kh0iA_desc-default_connectivity-distances.json',\n",
       "      'sub-kh0iA_desc-default_connectivity-distances.tsv',\n",
       "      'sub-kh0iA_desc-default_connectivity-weights.json',\n",
       "      'sub-kh0iA_desc-default_connectivity-weights.tsv']},\n",
       "    'spatial': {'dirs': {}, 'files': []},\n",
       "    'ts': {'dirs': {}, 'files': []}},\n",
       "   'files': []},\n",
       "  'sub-RuBcx': {'dirs': {'net': {'dirs': {},\n",
       "     'files': ['sub-RuBcx_desc-default_connectivity-distances.json',\n",
       "      'sub-RuBcx_desc-default_connectivity-distances.tsv',\n",
       "      'sub-RuBcx_desc-default_connectivity-weights.json',\n",
       "      'sub-RuBcx_desc-default_connectivity-weights.tsv']},\n",
       "    'spatial': {'dirs': {}, 'files': []},\n",
       "    'ts': {'dirs': {}, 'files': []}},\n",
       "   'files': []}},\n",
       " 'files': ['CHANGES.txt',\n",
       "  'dataset_description.json',\n",
       "  'participants.tsv',\n",
       "  'README.txt']}"
      ]
     },
     "execution_count": 45,
     "metadata": {},
     "output_type": "execute_result"
    }
   ],
   "source": [
    "output = list(mydict.keys())[0]\n",
    "mydict[output]\n",
    "# output"
   ]
  },
  {
   "cell_type": "code",
   "execution_count": null,
   "metadata": {},
   "outputs": [],
   "source": [
    "def get_structure(path, files):\n",
    "    struct = path_to_dict('../output')\n",
    "    output = list(struct.keys())[0]\n",
    "    struct = struct[output]\n",
    "    \n",
    "    add_structure(struct, files)\n",
    "    \n",
    "\n",
    "def add_structure(struct, files):\n",
    "    for file in files:\n",
    "        \n",
    "    \n",
    "    "
   ]
  },
  {
   "cell_type": "code",
   "execution_count": null,
   "metadata": {},
   "outputs": [],
   "source": []
  },
  {
   "cell_type": "code",
   "execution_count": null,
   "metadata": {},
   "outputs": [],
   "source": [
    "def create_layout(subs=None, output='../output'):\n",
    "    \"\"\"\n",
    "    Create folder structure according to BEP034 and passed `subs` parameter.\n",
    "\n",
    "    :param output:\n",
    "    :param subs:\n",
    "    :return:\n",
    "    \"\"\"\n",
    "\n",
    "    output = output.replace('.', '').replace('/', '')\n",
    "    layout = create_sub(subs)\n",
    "    layout = '&emsp;'.join(layout) if len(layout) > 1 else ''.join(layout)\n",
    "\n",
    "    return f\"\"\"\n",
    "    {output}/ <br>\n",
    "        &emsp;|___ code <br>\n",
    "        &emsp;|___ eq <br>\n",
    "        &emsp;|___ param <br>\n",
    "        &emsp;{layout}\n",
    "        &emsp;|___ README <br>\n",
    "        &emsp;|___ CHANGES <br>\n",
    "        &emsp;|___ dataset_description.json <br>\n",
    "        &emsp;|___ participants.tsv\n",
    "    \"\"\""
   ]
  },
  {
   "cell_type": "code",
   "execution_count": null,
   "metadata": {},
   "outputs": [],
   "source": []
  },
  {
   "cell_type": "code",
   "execution_count": null,
   "metadata": {},
   "outputs": [],
   "source": []
  },
  {
   "cell_type": "code",
   "execution_count": 25,
   "metadata": {},
   "outputs": [
    {
     "data": {
      "text/plain": [
       "['output/',\n",
       " '&emsp;&emsp;code/',\n",
       " '&emsp;&emsp;coord/',\n",
       " '&emsp;&emsp;eq/',\n",
       " '&emsp;&emsp;param/',\n",
       " '&emsp;&emsp;sub-10qA0/',\n",
       " '&emsp;&emsp;&emsp;&emsp;net/',\n",
       " '&emsp;&emsp;&emsp;&emsp;spatial/',\n",
       " '&emsp;&emsp;&emsp;&emsp;ts/',\n",
       " '&emsp;&emsp;sub-kh0iA/',\n",
       " '&emsp;&emsp;&emsp;&emsp;net/',\n",
       " '&emsp;&emsp;&emsp;&emsp;spatial/',\n",
       " '&emsp;&emsp;&emsp;&emsp;ts/',\n",
       " '&emsp;&emsp;sub-RuBcx/',\n",
       " '&emsp;&emsp;&emsp;&emsp;net/',\n",
       " '&emsp;&emsp;&emsp;&emsp;spatial/',\n",
       " '&emsp;&emsp;&emsp;&emsp;ts/']"
      ]
     },
     "execution_count": 25,
     "metadata": {},
     "output_type": "execute_result"
    }
   ],
   "source": [
    "def showFolderTree(path, indentation=2):\n",
    "    \"\"\"\n",
    "    Shows the content of a folder in a tree structure.\n",
    "    path -(string)- path of the root folder we want to show.\n",
    "    show_files -(boolean)-  Whether or not we want to see files listed.\n",
    "                            Defaults to False.\n",
    "    indentation -(int)- Indentation we want to use, defaults to 2.   \n",
    "    file_output -(string)-  Path (including the name) of the file where we want\n",
    "                            to save the tree.\n",
    "    \"\"\"\n",
    "\n",
    "\n",
    "    tree = []\n",
    "\n",
    "    for root, dirs, files in os.walk(path):\n",
    "        level = root.replace(path, '').count(os.sep)\n",
    "        indent = '&emsp;'*indentation*(level)\n",
    "        tree.append('{}{}/'.format(indent, os.path.basename(root)))\n",
    "    return tree\n",
    "\n",
    "            \n",
    "showFolderTree('../output')"
   ]
  },
  {
   "cell_type": "code",
   "execution_count": null,
   "metadata": {},
   "outputs": [],
   "source": []
  },
  {
   "cell_type": "code",
   "execution_count": null,
   "metadata": {},
   "outputs": [],
   "source": []
  },
  {
   "cell_type": "code",
   "execution_count": 30,
   "metadata": {},
   "outputs": [
    {
     "name": "stdout",
     "output_type": "stream",
     "text": [
      "None\n",
      "None\n",
      "None\n",
      "None\n",
      "None\n",
      "None\n",
      "None\n",
      "OrderedDict([('main', ['CHANGES.txt', 'dataset_description.json', 'participants.tsv', 'README.txt']), ('../output\\\\coord', 'desc-default_connectivity_nodes.tsv'), ('../output\\\\param', 'desc-default-generic2doscillator.xml')])\n"
     ]
    }
   ],
   "source": [
    "def get_folder_contents(path, subs):\n",
    "    subs[path] = os.listdir()\n",
    "    \n",
    "    for file in os.listdir(path):\n",
    "        if os.path.isdir(os.path.join(path, file)):\n",
    "             get_folder_contents(os.path.join(path, file), subs)\n",
    "            \n",
    "        \n",
    "\n",
    "\n",
    "def get_contents(path):\n",
    "    subs = OrderedDict({'main': []})\n",
    "    \n",
    "    for file in os.listdir(path):\n",
    "        dir_path = os.path.join(path, file)\n",
    "        if os.path.isdir(dir_path):\n",
    "            print(get_folder_contents(dir_path, subs))\n",
    "            \n",
    "        else:\n",
    "            subs['main'].append(file)\n",
    "            \n",
    "    print(subs)\n",
    "        \n",
    "        \n",
    "get_contents('../output')"
   ]
  },
  {
   "cell_type": "code",
   "execution_count": null,
   "metadata": {},
   "outputs": [],
   "source": []
  },
  {
   "cell_type": "code",
   "execution_count": 14,
   "metadata": {},
   "outputs": [
    {
     "data": {
      "text/plain": [
       "OrderedDict([('output',\n",
       "              ['output\\n',\n",
       "               '    CHANGES.txt',\n",
       "               '    dataset_description.json',\n",
       "               '    participants.tsv',\n",
       "               '    README.txt']),\n",
       "             ('code', ['    code\\n']),\n",
       "             ('coord',\n",
       "              ['    coord\\n',\n",
       "               '        desc-default_connectivity_labels.json',\n",
       "               '        desc-default_connectivity_labels.tsv',\n",
       "               '        desc-default_connectivity_nodes.json',\n",
       "               '        desc-default_connectivity_nodes.tsv']),\n",
       "             ('eq', ['    eq\\n']),\n",
       "             ('param',\n",
       "              ['    param\\n', '        desc-default-generic2doscillator.xml']),\n",
       "             ('sub-10qA0', ['    sub-10qA0\\n']),\n",
       "             ('net',\n",
       "              ['        net\\n',\n",
       "               '            sub-RuBcx_desc-default_connectivity-distances.json',\n",
       "               '            sub-RuBcx_desc-default_connectivity-distances.tsv',\n",
       "               '            sub-RuBcx_desc-default_connectivity-weights.json',\n",
       "               '            sub-RuBcx_desc-default_connectivity-weights.tsv']),\n",
       "             ('spatial', ['        spatial\\n']),\n",
       "             ('ts', ['        ts\\n']),\n",
       "             ('sub-kh0iA', ['    sub-kh0iA\\n']),\n",
       "             ('sub-RuBcx', ['    sub-RuBcx\\n'])])"
      ]
     },
     "execution_count": 14,
     "metadata": {},
     "output_type": "execute_result"
    }
   ],
   "source": [
    "from collections import OrderedDict\n",
    "\n",
    "def get_current_files(path):\n",
    "    file_count, dir_count = 0, 0\n",
    "    struct = OrderedDict()\n",
    "    \n",
    "    for root, dirs, files in os.walk(path):\n",
    "        level = root.replace(path, '').count(os.sep)\n",
    "        indent = ' ' * 4 * level\n",
    "        subindent = ' ' * 4 * (level + 1)\n",
    "        \n",
    "        name = os.path.basename(root)\n",
    "        struct[name] = []\n",
    "        struct[name].append('{}{}\\n'.format(indent, name))\n",
    "        \n",
    "        for file in files:\n",
    "            struct[name].append('{}{}'.format(subindent, file))\n",
    "            file_count += 1\n",
    "        dir_count += len(dirs)\n",
    "        \n",
    "    return struct\n",
    "        \n",
    "get_current_files('../output')"
   ]
  },
  {
   "cell_type": "code",
   "execution_count": 58,
   "metadata": {},
   "outputs": [],
   "source": [
    "def list_files(startpath, n_indent=2):\n",
    "    file_count, dir_count = 0, 0\n",
    "    struct = []\n",
    "    \n",
    "    for root, dirs, files in os.walk(startpath):\n",
    "        level = root.replace(startpath, '').count(os.sep)\n",
    "        indent = ('&emsp;' * n_indent * level) + '|___'\n",
    "        subindent = ('&emsp;' * n_indent * (level + 1)) + '|___'\n",
    "        \n",
    "        # append values\n",
    "        struct.append('{}{}/'.format(indent, os.path.basename(root)))\n",
    "        \n",
    "        # iterate over content and append values\n",
    "        for f in files:\n",
    "            struct.append('{}{}'.format(subindent, f))\n",
    "            file_count += 1\n",
    "        dir_count += len(dirs)\n",
    "        \n",
    "    txt = f'<br>{dir_count} directories, {file_count} files'\n",
    "    return struct, txt\n"
   ]
  },
  {
   "cell_type": "code",
   "execution_count": null,
   "metadata": {},
   "outputs": [],
   "source": []
  },
  {
   "cell_type": "code",
   "execution_count": null,
   "metadata": {},
   "outputs": [],
   "source": []
  },
  {
   "cell_type": "code",
   "execution_count": null,
   "metadata": {},
   "outputs": [],
   "source": []
  },
  {
   "cell_type": "code",
   "execution_count": 6,
   "metadata": {},
   "outputs": [
    {
     "data": {
      "text/plain": [
       "['weights.txt']"
      ]
     },
     "execution_count": 6,
     "metadata": {},
     "output_type": "execute_result"
    }
   ],
   "source": [
    "def append_files(path, include=None):\n",
    "    \"\"\"\n",
    "    Append all files in a specified file using recursive walk. It implements a\n",
    "    top-down approach of traversing the directory.\n",
    "\n",
    "    :param path:\n",
    "    :param include:\n",
    "    :return:\n",
    "    \"\"\"\n",
    "\n",
    "    all_files = []\n",
    "    for root, dirs, files in os.walk(path, topdown=True):\n",
    "        for file in files:\n",
    "            if include is None:\n",
    "                all_files.append(os.path.basename(file))\n",
    "            else:\n",
    "                if file in include:\n",
    "                    all_files.append(os.path.join(root, file))\n",
    "    return all_files\n",
    "\n",
    "\n",
    "append_files('C:\\\\Users\\\\dinar\\\\Desktop\\\\gsoc\\\\data\\\\txt_files\\\\1')"
   ]
  },
  {
   "cell_type": "code",
   "execution_count": 12,
   "metadata": {},
   "outputs": [
    {
     "data": {
      "text/plain": [
       "['centres.txt', 'tract_lengths.txt', 'weights.txt']"
      ]
     },
     "execution_count": 12,
     "metadata": {},
     "output_type": "execute_result"
    }
   ],
   "source": [
    "append_files('C:\\\\Users\\\\dinar\\\\Desktop\\\\gsoc\\\\data\\\\txt_files\\\\2')"
   ]
  },
  {
   "cell_type": "code",
   "execution_count": null,
   "metadata": {},
   "outputs": [],
   "source": []
  },
  {
   "cell_type": "code",
   "execution_count": null,
   "metadata": {},
   "outputs": [],
   "source": []
  },
  {
   "cell_type": "code",
   "execution_count": null,
   "metadata": {},
   "outputs": [],
   "source": []
  },
  {
   "cell_type": "code",
   "execution_count": 14,
   "metadata": {},
   "outputs": [],
   "source": [
    "import functools\n",
    "\n",
    "def get_directory_structure(rootdir):\n",
    "    \"\"\"\n",
    "    Creates a nested dictionary that represents the folder structure of rootdir\n",
    "    \"\"\"\n",
    "    dir = {}\n",
    "    rootdir = rootdir.rstrip(os.sep)\n",
    "    start = rootdir.rfind(os.sep) + 1\n",
    "    for path, dirs, files in os.walk(rootdir):\n",
    "        folders = path[start:].split(os.sep)\n",
    "        print(f'folders: {folders}')\n",
    "        subdir = dict.fromkeys(files)\n",
    "        print(f'subdir: {subdir}')\n",
    "        parent = functools.reduce(dict.get, folders[:-1], dir)\n",
    "        print(f'parent: {parent}')\n",
    "        parent[folders[-1]] = subdir\n",
    "    return dir"
   ]
  },
  {
   "cell_type": "code",
   "execution_count": 15,
   "metadata": {},
   "outputs": [
    {
     "name": "stdout",
     "output_type": "stream",
     "text": [
      "folders: ['txt_files']\n",
      "subdir: {}\n",
      "parent: {}\n",
      "folders: ['txt_files', '1']\n",
      "subdir: {'weights.txt': None}\n",
      "parent: {}\n",
      "folders: ['txt_files', '2']\n",
      "subdir: {'centres.txt': None, 'tract_lengths.txt': None, 'weights.txt': None}\n",
      "parent: {'1': {'weights.txt': None}}\n"
     ]
    },
    {
     "data": {
      "text/plain": [
       "{'txt_files': {'1': {'weights.txt': None},\n",
       "  '2': {'centres.txt': None, 'tract_lengths.txt': None, 'weights.txt': None}}}"
      ]
     },
     "execution_count": 15,
     "metadata": {},
     "output_type": "execute_result"
    }
   ],
   "source": [
    "get_directory_structure('C:\\\\Users\\\\dinar\\\\Desktop\\\\gsoc\\\\data\\\\txt_files')"
   ]
  },
  {
   "cell_type": "code",
   "execution_count": 20,
   "metadata": {},
   "outputs": [],
   "source": [
    "import functools\n",
    "\n",
    "def get_directory_structure(rootdir):\n",
    "    \"\"\"\n",
    "    Creates a nested dictionary that represents the folder structure of rootdir\n",
    "    \"\"\"\n",
    "    dir = {}\n",
    "    rootdir = rootdir.rstrip(os.sep)\n",
    "    start = rootdir.rfind(os.sep) + 1\n",
    "    \n",
    "    for path, dirs, files in os.walk(rootdir):\n",
    "        folders = path[start:].split(os.sep)\n",
    "        subdir = {}\n",
    "        \n",
    "        for file in files:\n",
    "            print(os.path.join(rootdir, file))\n",
    "            if os.path.isdir(os.path.join(rootdir, file)):\n",
    "                print(True, file)\n",
    "        \n",
    "        \n",
    "        \n",
    "        print(f'subdir: {subdir}')\n",
    "#         parent = functools.reduce(dict.get, folders[:-1], dir)\n",
    "#         print(f'parent: {parent}')\n",
    "#         parent[folders[-1]] = subdir\n",
    "    return dir"
   ]
  },
  {
   "cell_type": "code",
   "execution_count": 21,
   "metadata": {},
   "outputs": [
    {
     "name": "stdout",
     "output_type": "stream",
     "text": [
      "subdir: {}\n",
      "C:\\Users\\dinar\\Desktop\\gsoc\\data\\txt_files\\weights.txt\n",
      "subdir: {}\n",
      "C:\\Users\\dinar\\Desktop\\gsoc\\data\\txt_files\\centres.txt\n",
      "C:\\Users\\dinar\\Desktop\\gsoc\\data\\txt_files\\tract_lengths.txt\n",
      "C:\\Users\\dinar\\Desktop\\gsoc\\data\\txt_files\\weights.txt\n",
      "subdir: {}\n"
     ]
    },
    {
     "data": {
      "text/plain": [
       "{}"
      ]
     },
     "execution_count": 21,
     "metadata": {},
     "output_type": "execute_result"
    }
   ],
   "source": [
    "get_directory_structure('C:\\\\Users\\\\dinar\\\\Desktop\\\\gsoc\\\\data\\\\txt_files')"
   ]
  },
  {
   "cell_type": "code",
   "execution_count": null,
   "metadata": {
    "pycharm": {
     "name": "#%%\n"
    }
   },
   "outputs": [],
   "source": []
  },
  {
   "cell_type": "code",
   "execution_count": null,
   "metadata": {
    "pycharm": {
     "name": "#%%\n"
    }
   },
   "outputs": [],
   "source": []
  },
  {
   "cell_type": "code",
   "execution_count": null,
   "metadata": {},
   "outputs": [],
   "source": []
  },
  {
   "cell_type": "code",
   "execution_count": 13,
   "metadata": {},
   "outputs": [
    {
     "name": "stdout",
     "output_type": "stream",
     "text": [
      "The sum of the list elements is : 17\n",
      "<function <lambda> at 0x00000255B5C692D0> [1, 3, 5, 6, 2]\n"
     ]
    }
   ],
   "source": [
    "# initializing list\n",
    "lis = [1, 3, 5, 6, 2, ]\n",
    " \n",
    "# using reduce to compute sum of list\n",
    "print(\"The sum of the list elements is : \", end=\"\")\n",
    "print(functools.reduce(lambda a, b: a+b, lis))"
   ]
  },
  {
   "cell_type": "code",
   "execution_count": null,
   "metadata": {},
   "outputs": [],
   "source": []
  },
  {
   "cell_type": "code",
   "execution_count": null,
   "metadata": {},
   "outputs": [],
   "source": []
  },
  {
   "cell_type": "code",
   "execution_count": null,
   "metadata": {},
   "outputs": [],
   "source": []
  },
  {
   "cell_type": "code",
   "execution_count": null,
   "metadata": {},
   "outputs": [],
   "source": []
  },
  {
   "cell_type": "code",
   "execution_count": null,
   "metadata": {
    "pycharm": {
     "name": "#%%\n"
    }
   },
   "outputs": [],
   "source": [
    "def dir_walk(path):\n",
    "    all_files = {}\n",
    "    r, d = None, None\n",
    "    cur_dir = None\n",
    "\n",
    "    for root, dirs, files in os.walk(path, topdown=True):\n",
    "        if r is None:\n",
    "            r = root\n",
    "\n",
    "\n",
    "#         rname = os.path.basename(root)\n",
    "\n",
    "#         all_files[rname] = {'files': [], 'dirs': []}\n",
    "\n",
    "#         for d in dirs:\n",
    "#             all_files[rname]['dirs'].append(os.path.join(root, d))\n",
    "#         for f in files:\n",
    "#             all_files[rname]['files'].append(os.path.join(root, f))\n",
    "#         for file in files:\n",
    "#             print()\n",
    "\n",
    "#         for file in files:\n",
    "#             print(os.path.join(root, file))\n",
    "    return all_files\n",
    "\n"
   ]
  },
  {
   "cell_type": "code",
   "execution_count": null,
   "metadata": {},
   "outputs": [],
   "source": []
  },
  {
   "cell_type": "code",
   "execution_count": 1,
   "metadata": {
    "pycharm": {
     "name": "#%%\n"
    }
   },
   "outputs": [],
   "source": [
    "def dir_walk(path):\n",
    "    all_files = {}\n",
    "    r, d = None, None\n",
    "    cur_dir = None\n",
    "    \n",
    "    for root, dirs, files in os.walk(path, topdown=True):\n",
    "        if r is None:\n",
    "            r = root\n",
    "            \n",
    "        \n",
    "#         rname = os.path.basename(root)\n",
    "        \n",
    "#         all_files[rname] = {'files': [], 'dirs': []}\n",
    "        \n",
    "#         for d in dirs:\n",
    "#             all_files[rname]['dirs'].append(os.path.join(root, d))\n",
    "#         for f in files:\n",
    "#             all_files[rname]['files'].append(os.path.join(root, f))\n",
    "#         for file in files:\n",
    "#             print()\n",
    "            \n",
    "#         for file in files:\n",
    "#             print(os.path.join(root, file))\n",
    "    return all_files\n",
    "            \n",
    "            "
   ]
  },
  {
   "cell_type": "code",
   "execution_count": 2,
   "metadata": {
    "pycharm": {
     "name": "#%%\n"
    }
   },
   "outputs": [
    {
     "ename": "NameError",
     "evalue": "name 'os' is not defined",
     "output_type": "error",
     "traceback": [
      "\u001b[1;31m---------------------------------------------------------------------------\u001b[0m",
      "\u001b[1;31mNameError\u001b[0m                                 Traceback (most recent call last)",
      "Input \u001b[1;32mIn [2]\u001b[0m, in \u001b[0;36m<cell line: 1>\u001b[1;34m()\u001b[0m\n\u001b[1;32m----> 1\u001b[0m \u001b[43mdir_walk\u001b[49m\u001b[43m(\u001b[49m\u001b[38;5;124;43m'\u001b[39;49m\u001b[38;5;124;43mC:\u001b[39;49m\u001b[38;5;130;43;01m\\\\\u001b[39;49;00m\u001b[38;5;124;43mUsers\u001b[39;49m\u001b[38;5;130;43;01m\\\\\u001b[39;49;00m\u001b[38;5;124;43mdinar\u001b[39;49m\u001b[38;5;130;43;01m\\\\\u001b[39;49;00m\u001b[38;5;124;43mDesktop\u001b[39;49m\u001b[38;5;130;43;01m\\\\\u001b[39;49;00m\u001b[38;5;124;43mgsoc\u001b[39;49m\u001b[38;5;130;43;01m\\\\\u001b[39;49;00m\u001b[38;5;124;43mdata\u001b[39;49m\u001b[38;5;124;43m'\u001b[39;49m\u001b[43m)\u001b[49m\n",
      "Input \u001b[1;32mIn [1]\u001b[0m, in \u001b[0;36mdir_walk\u001b[1;34m(path)\u001b[0m\n\u001b[0;32m      3\u001b[0m r, d \u001b[38;5;241m=\u001b[39m \u001b[38;5;28;01mNone\u001b[39;00m, \u001b[38;5;28;01mNone\u001b[39;00m\n\u001b[0;32m      4\u001b[0m cur_dir \u001b[38;5;241m=\u001b[39m \u001b[38;5;28;01mNone\u001b[39;00m\n\u001b[1;32m----> 6\u001b[0m \u001b[38;5;28;01mfor\u001b[39;00m root, dirs, files \u001b[38;5;129;01min\u001b[39;00m \u001b[43mos\u001b[49m\u001b[38;5;241m.\u001b[39mwalk(path, topdown\u001b[38;5;241m=\u001b[39m\u001b[38;5;28;01mTrue\u001b[39;00m):\n\u001b[0;32m      7\u001b[0m     \u001b[38;5;28;01mif\u001b[39;00m r \u001b[38;5;129;01mis\u001b[39;00m \u001b[38;5;28;01mNone\u001b[39;00m:\n\u001b[0;32m      8\u001b[0m         r \u001b[38;5;241m=\u001b[39m root\n",
      "\u001b[1;31mNameError\u001b[0m: name 'os' is not defined"
     ]
    }
   ],
   "source": [
    "dir_walk('C:\\\\Users\\\\dinar\\\\Desktop\\\\gsoc\\\\data')"
   ]
  },
  {
   "cell_type": "code",
   "execution_count": 64,
   "metadata": {
    "pycharm": {
     "name": "#%%\n"
    }
   },
   "outputs": [
    {
     "name": "stdout",
     "output_type": "stream",
     "text": [
      "C:\\Users\\dinar\\Desktop\\gsoc\\data\\simulations\\1\\datatypes\\Connectivity_6b28b6c61836452bb52cbd18538a7775.h5\n",
      "C:\\Users\\dinar\\Desktop\\gsoc\\data\\simulations\\1\\BurstConfiguration_a29116b38d05429588535667ce4d1eee.h5\n",
      "C:\\Users\\dinar\\Desktop\\gsoc\\data\\simulations\\1\\Generic2dOscillator_4e4d2edc01e2448192baf025336e0d73.h5\n",
      "C:\\Users\\dinar\\Desktop\\gsoc\\data\\simulations\\1\\HeunDeterministicViewModel_4007260a59a443cfbc076eb4c231c6f5.h5\n",
      "C:\\Users\\dinar\\Desktop\\gsoc\\data\\simulations\\1\\Linear_f639e3b95c48436dae5ffaa29072963e.h5\n",
      "C:\\Users\\dinar\\Desktop\\gsoc\\data\\simulations\\1\\SimulatorAdapterModel_994a4afbef39461abf2a4feaf9761ca0.h5\n",
      "C:\\Users\\dinar\\Desktop\\gsoc\\data\\simulations\\1\\SubSampleViewModel_cd2fe7f44797434b9ae2cc3418a9f091.h5\n"
     ]
    },
    {
     "data": {
      "text/plain": [
       "{}"
      ]
     },
     "execution_count": 64,
     "metadata": {},
     "output_type": "execute_result"
    }
   ],
   "source": [
    "dir_walk('C:\\\\Users\\\\dinar\\\\Desktop\\\\gsoc\\\\data\\\\simulations\\\\1')"
   ]
  },
  {
   "cell_type": "code",
   "execution_count": 65,
   "metadata": {
    "pycharm": {
     "name": "#%%\n"
    }
   },
   "outputs": [
    {
     "name": "stdout",
     "output_type": "stream",
     "text": [
      "C:\\Users\\dinar\\Desktop\\gsoc\\data\\timeseries\\1\\timeseries_all.mat\n",
      "C:\\Users\\dinar\\Desktop\\gsoc\\data\\timeseries\\2\\timeseries_all.mat\n",
      "C:\\Users\\dinar\\Desktop\\gsoc\\data\\timeseries\\3\\timeseries_all.mat\n",
      "C:\\Users\\dinar\\Desktop\\gsoc\\data\\timeseries\\4\\timeseries_all.mat\n",
      "C:\\Users\\dinar\\Desktop\\gsoc\\data\\timeseries\\5\\timeseries_all.mat\n"
     ]
    },
    {
     "data": {
      "text/plain": [
       "{}"
      ]
     },
     "execution_count": 65,
     "metadata": {},
     "output_type": "execute_result"
    }
   ],
   "source": [
    "class Settings(param.Parameterized):\n",
    "    sub_options = ['Single subject', 'Multiple subjects']\n",
    "    checkbox_options = ['Traverse sub-folders', ]\n",
    "\n",
    "    sub_select = pn.widgets.RadioButtonGroup(options=sub_options, button_type='default',\n",
    "                                             value=[], margin=(-20, 0, 0, 0))\n",
    "    checkbox = pn.widgets.CheckBoxGroup(value=[], options=checkbox_options)\n",
    "\n",
    "    @pn.depends('sub_select.value', watch=True)\n",
    "    def _change_selection(self):\n",
    "        if self.sub_select.value == self.sub_options[0]:\n",
    "            # TODO: add all the files to one folder\n",
    "            print('Selected single value')\n",
    "#             pass\n",
    "        else:\n",
    "            # TODO: infer which relates to which\n",
    "            pass\n",
    "        pass\n",
    "\n",
    "    def view(self):\n",
    "        return pn.Column(\n",
    "            '## Settings',\n",
    "            '#### Select subject count',\n",
    "            self.sub_select\n",
    "        )\n",
    "\n",
    "\n",
    "pn.serve(Settings().view())"
   ]
  },
  {
   "cell_type": "code",
   "execution_count": null,
   "metadata": {
    "pycharm": {
     "name": "#%%\n"
    }
   },
   "outputs": [],
   "source": []
  },
  {
   "cell_type": "code",
   "execution_count": 8,
   "metadata": {
    "pycharm": {
     "name": "#%%\n"
    }
   },
   "outputs": [
    {
     "name": "stdout",
     "output_type": "stream",
     "text": [
      "Launching server at http://localhost:58960\n"
     ]
    },
    {
     "data": {
      "text/plain": [
       "<bokeh.server.server.Server at 0x2670b999ed0>"
      ]
     },
     "execution_count": 8,
     "metadata": {},
     "output_type": "execute_result"
    },
    {
     "name": "stdout",
     "output_type": "stream",
     "text": [
      "Selected single value\n"
     ]
    }
   ],
   "source": [
    "class Settings(param.Parameterized):\n",
    "    sub_options = ['Single subject', 'Multiple subjects']\n",
    "    checkbox_options = ['Traverse sub-folders', ]\n",
    "    \n",
    "    sub_select = pn.widgets.RadioButtonGroup(options=sub_options, button_type='default',\n",
    "                                             value=[], margin=(-20, 0, 0, 0))\n",
    "    checkbox = pn.widgets.CheckBoxGroup(value=[], options=checkbox_options)\n",
    "\n",
    "    @pn.depends('sub_select.value', watch=True)\n",
    "    def _change_selection(self):\n",
    "        if self.sub_select.value == self.sub_options[0]:\n",
    "            # TODO: add all the files to one folder\n",
    "            print('Selected single value')\n",
    "#             pass\n",
    "        else:\n",
    "            # TODO: infer which relates to which\n",
    "            pass \n",
    "        pass\n",
    "\n",
    "    def view(self):\n",
    "        return pn.Column(\n",
    "            '## Settings',\n",
    "            '#### Select subject count',\n",
    "            self.sub_select\n",
    "        )\n",
    "\n",
    "    \n",
    "pn.serve(Settings().view())"
   ]
  },
  {
   "cell_type": "code",
   "execution_count": null,
   "metadata": {
    "pycharm": {
     "name": "#%%\n"
    }
   },
   "outputs": [],
   "source": [
    "checkbox_group = pn.widgets.CheckBoxGroup(\n",
    "    name='Checkbox Group', value=['Apple', 'Pear'], options=['Apple', 'Banana', 'Pear', 'Strawberry'],\n",
    "    inline=True)"
   ]
  },
  {
   "cell_type": "code",
   "execution_count": null,
   "metadata": {
    "pycharm": {
     "name": "#%%\n"
    }
   },
   "outputs": [],
   "source": [
    "def get_files(path='../output', ftype='.json'):\n",
    "    f = []\n",
    "\n",
    "    for root, dirs, files in os.walk(path, topdown=False):\n",
    "        for name in files:\n",
    "            if ftype in name:\n",
    "                f.append(os.path.join(root, name))\n",
    "    return f\n",
    "\n",
    "\n",
    "class ViewResults(param.Parameterized):\n",
    "    options = ['JSON files', 'TSV files']\n",
    "    file_selection = pn.widgets.RadioButtonGroup(options=options, button_type='primary', value=[])\n",
    "#     widget = pn.WidgetBox('### Select File', select_options)\n",
    "\n",
    "    def __init__(self, path):\n",
    "        super().__init__()\n",
    "        self.path = path\n",
    "        self.layout = None\n",
    "        self.select_options = pn.widgets.Select()\n",
    "        self.widget = pn.WidgetBox('### Select File', self.select_options)\n",
    "\n",
    "    @pn.depends('file_selection.value', watch=True)\n",
    "    def _change_filetype(self):\n",
    "        print(self.file_selection.value)\n",
    "        if self.file_selection.value == 'JSON files':\n",
    "            self.select_options.options = get_files(path=self.path)\n",
    "            self.change_file()\n",
    "        elif self.file_selection.value == 'TSV files':\n",
    "            self.select_options.options = get_files(path=self.path, ftype='.tsv')\n",
    "            self.change_file()\n",
    "\n",
    "#     @pn.depends('select_options.value', watch=True)\n",
    "    def change_file(self):\n",
    "        if len(self.widget) > 2:\n",
    "            self.widget.pop(-1)\n",
    "\n",
    "        if self.file_selection.value == 'JSON files':\n",
    "            try:\n",
    "                file = json.load(open(self.select_options.value))\n",
    "            except Exception:\n",
    "                print(f'File `{self.select_options.value}` is empty!')\n",
    "            else:\n",
    "                self.widget.append(pn.widgets.JSONEditor(value=file, height=350))\n",
    "\n",
    "        elif self.file_selection.value == 'TSV files':\n",
    "            try:\n",
    "                file = pd.read_csv(self.select_options.value, sep='\\t', header=None, index_col=None)\n",
    "            except Exception:\n",
    "                print(f'File `{self.select_options.value}` is empty!')\n",
    "            else:\n",
    "                self.widget.append(pn.widgets.Tabulator(file))\n",
    "\n",
    "    def view(self):\n",
    "        return pn.Column(self.file_selection, self.widget)\n",
    "\n",
    "\n",
    "pn.serve(ViewResults('../output').view())"
   ]
  },
  {
   "cell_type": "code",
   "execution_count": 4,
   "metadata": {
    "pycharm": {
     "name": "#%%\n"
    }
   },
   "outputs": [],
   "source": [
    "pn.state.notifications.error('This is an error notification.', duration=1000)\n",
    "pn.state.notifications.info('This is a info notification.', duration=2000)\n",
    "pn.state.notifications.success('This is a success notification.')\n",
    "pn.state.notifications.warning('This is a warning notification.', duration=4000);"
   ]
  },
  {
   "cell_type": "code",
   "execution_count": 15,
   "metadata": {
    "pycharm": {
     "name": "#%%\n"
    }
   },
   "outputs": [
    {
     "name": "stdout",
     "output_type": "stream",
     "text": [
      "Launching server at http://localhost:53762\n"
     ]
    },
    {
     "data": {
      "text/plain": [
       "<bokeh.server.server.Server at 0x159d2d9d5d0>"
      ]
     },
     "execution_count": 15,
     "metadata": {},
     "output_type": "execute_result"
    },
    {
     "name": "stdout",
     "output_type": "stream",
     "text": [
      "None\n",
      "JSON files\n",
      "File `../output\\coord\\desc-default_labels.json` is empty!\n"
     ]
    }
   ],
   "source": [
    "def get_files(path='../output', ftype='.json'):\n",
    "    f = []\n",
    "\n",
    "    for root, dirs, files in os.walk(path, topdown=False):\n",
    "        for name in files:\n",
    "            if ftype in name:\n",
    "                f.append(os.path.join(root, name))\n",
    "    return f\n",
    "\n",
    "\n",
    "class ViewResults(param.Parameterized):\n",
    "    options = ['JSON files', 'TSV files']\n",
    "    file_selection = pn.widgets.RadioButtonGroup(options=options, button_type='primary', value=[])\n",
    "#     widget = pn.WidgetBox('### Select File', select_options)\n",
    "    \n",
    "    def __init__(self, path):\n",
    "        super().__init__()\n",
    "        self.path = path\n",
    "        self.layout = None \n",
    "        self.select_options = pn.widgets.Select()\n",
    "        self.widget = pn.WidgetBox('### Select File', self.select_options)\n",
    "\n",
    "    @pn.depends('file_selection.value', watch=True)\n",
    "    def _change_filetype(self):\n",
    "        print(self.file_selection.value)\n",
    "        if self.file_selection.value == 'JSON files':\n",
    "            self.select_options.options = get_files(path=self.path)\n",
    "            self.change_file()\n",
    "        elif self.file_selection.value == 'TSV files':\n",
    "            self.select_options.options = get_files(path=self.path, ftype='.tsv')\n",
    "            self.change_file()\n",
    "\n",
    "#     @pn.depends('select_options.value', watch=True)\n",
    "    def change_file(self):\n",
    "        if len(self.widget) > 2:\n",
    "            self.widget.pop(-1)\n",
    "\n",
    "        if self.file_selection.value == 'JSON files':\n",
    "            try:\n",
    "                file = json.load(open(self.select_options.value))\n",
    "            except Exception:\n",
    "                print(f'File `{self.select_options.value}` is empty!')\n",
    "            else:\n",
    "                self.widget.append(pn.widgets.JSONEditor(value=file, height=350))\n",
    "\n",
    "        elif self.file_selection.value == 'TSV files':\n",
    "            try:\n",
    "                file = pd.read_csv(self.select_options.value, sep='\\t', header=None, index_col=None)\n",
    "            except Exception:\n",
    "                print(f'File `{self.select_options.value}` is empty!')\n",
    "            else:\n",
    "                self.widget.append(pn.widgets.Tabulator(file))\n",
    "\n",
    "    def view(self):\n",
    "        return pn.Column(self.file_selection, self.widget)\n",
    "\n",
    "\n",
    "pn.serve(ViewResults('../output').view())"
   ]
  },
  {
   "cell_type": "code",
   "execution_count": null,
   "metadata": {
    "pycharm": {
     "name": "#%%\n"
    }
   },
   "outputs": [],
   "source": []
  },
  {
   "cell_type": "code",
   "execution_count": 7,
   "metadata": {
    "pycharm": {
     "name": "#%%\n"
    }
   },
   "outputs": [
    {
     "name": "stdout",
     "output_type": "stream",
     "text": [
      "Launching server at http://localhost:50123\n"
     ]
    },
    {
     "data": {
      "text/plain": [
       "<bokeh.server.server.Server at 0x1f5a489f2e0>"
      ]
     },
     "execution_count": 7,
     "metadata": {},
     "output_type": "execute_result"
    }
   ],
   "source": [
    "cs = pn.widgets.CrossSelector(width=700)\n",
    "pn.serve(cs)"
   ]
  },
  {
   "cell_type": "code",
   "execution_count": 12,
   "metadata": {
    "pycharm": {
     "name": "#%%\n"
    }
   },
   "outputs": [
    {
     "data": {
      "text/plain": [
       "['__class__',\n",
       " '__classdoc',\n",
       " '__delattr__',\n",
       " '__delete__',\n",
       " '__dir__',\n",
       " '__doc__',\n",
       " '__eq__',\n",
       " '__format__',\n",
       " '__ge__',\n",
       " '__get__',\n",
       " '__getattribute__',\n",
       " '__getstate__',\n",
       " '__gt__',\n",
       " '__hash__',\n",
       " '__init__',\n",
       " '__init_subclass__',\n",
       " '__le__',\n",
       " '__lt__',\n",
       " '__module__',\n",
       " '__ne__',\n",
       " '__new__',\n",
       " '__reduce__',\n",
       " '__reduce_ex__',\n",
       " '__repr__',\n",
       " '__set__',\n",
       " '__setattr__',\n",
       " '__setstate__',\n",
       " '__sizeof__',\n",
       " '__slots__',\n",
       " '__str__',\n",
       " '__subclasshook__',\n",
       " '_internal_name',\n",
       " '_label',\n",
       " '_on_set',\n",
       " '_post_setter',\n",
       " '_serializers',\n",
       " '_set_instantiate',\n",
       " '_set_names',\n",
       " '_validate',\n",
       " '_validate_regex',\n",
       " '_validate_value',\n",
       " 'allow_None',\n",
       " 'constant',\n",
       " 'default',\n",
       " 'deserialize',\n",
       " 'doc',\n",
       " 'instantiate',\n",
       " 'label',\n",
       " 'name',\n",
       " 'owner',\n",
       " 'per_instance',\n",
       " 'pickle_default_value',\n",
       " 'precedence',\n",
       " 'readonly',\n",
       " 'regex',\n",
       " 'schema',\n",
       " 'serialize',\n",
       " 'watchers']"
      ]
     },
     "execution_count": 12,
     "metadata": {},
     "output_type": "execute_result"
    }
   ],
   "source": [
    "string = param.String('hehe')\n",
    "dir(string)"
   ]
  },
  {
   "cell_type": "code",
   "execution_count": 18,
   "metadata": {
    "pycharm": {
     "name": "#%%\n"
    }
   },
   "outputs": [
    {
     "data": {
      "text/plain": [
       "'hehe'"
      ]
     },
     "execution_count": 18,
     "metadata": {},
     "output_type": "execute_result"
    }
   ],
   "source": [
    "string.default"
   ]
  },
  {
   "cell_type": "code",
   "execution_count": 19,
   "metadata": {
    "pycharm": {
     "name": "#%%\n"
    }
   },
   "outputs": [],
   "source": [
    "string = 'm'"
   ]
  },
  {
   "cell_type": "code",
   "execution_count": 21,
   "metadata": {
    "pycharm": {
     "name": "#%%\n"
    }
   },
   "outputs": [
    {
     "ename": "AttributeError",
     "evalue": "'str' object has no attribute 'default'",
     "output_type": "error",
     "traceback": [
      "\u001b[1;31m---------------------------------------------------------------------------\u001b[0m",
      "\u001b[1;31mAttributeError\u001b[0m                            Traceback (most recent call last)",
      "Input \u001b[1;32mIn [21]\u001b[0m, in \u001b[0;36m<cell line: 1>\u001b[1;34m()\u001b[0m\n\u001b[1;32m----> 1\u001b[0m \u001b[43mstring\u001b[49m\u001b[38;5;241;43m.\u001b[39;49m\u001b[43mdefault\u001b[49m\n",
      "\u001b[1;31mAttributeError\u001b[0m: 'str' object has no attribute 'default'"
     ]
    }
   ],
   "source": [
    "string"
   ]
  },
  {
   "cell_type": "code",
   "execution_count": null,
   "metadata": {
    "pycharm": {
     "name": "#%%\n"
    }
   },
   "outputs": [],
   "source": []
  },
  {
   "cell_type": "markdown",
   "metadata": {
    "pycharm": {
     "name": "#%% md\n"
    }
   },
   "source": [
    "### Check if there's a difference between empirical FC & simulated data"
   ]
  },
  {
   "cell_type": "code",
   "execution_count": 4,
   "metadata": {
    "pycharm": {
     "name": "#%%\n"
    }
   },
   "outputs": [],
   "source": [
    "from scipy.io import loadmat\n",
    "import mat73"
   ]
  },
  {
   "cell_type": "code",
   "execution_count": 8,
   "metadata": {
    "pycharm": {
     "name": "#%%\n"
    },
    "scrolled": true
   },
   "outputs": [
    {
     "data": {
      "text/plain": [
       "{'__header__': b'MATLAB 5.0 MAT-file Platform: posix, Created on: Tue Feb  3 22:52:09 2015',\n",
       " '__version__': '1.0',\n",
       " '__globals__': [],\n",
       " 'arr': array([[-110.52488034, -445.28196601, -130.27069805, ...,  488.25445135,\n",
       "          343.85266138,  400.69137436],\n",
       "        [-110.88021998, -445.46276722, -130.90696322, ...,  486.99161812,\n",
       "          342.56528117,  399.46318728],\n",
       "        [-113.08478947, -446.57163538, -134.26416291, ...,  478.1312449 ,\n",
       "          334.87214655,  391.93338033],\n",
       "        ...,\n",
       "        [-621.6660361 , -627.18351817, -763.04972688, ..., -526.41360245,\n",
       "         -742.10168801, -753.38319788],\n",
       "        [-611.04317113, -614.24401962, -776.81508901, ..., -541.60214243,\n",
       "         -747.9391402 , -755.31800616],\n",
       "        [-600.79134046, -599.38352235, -785.59528833, ..., -552.76523283,\n",
       "         -742.87992851, -759.7311778 ]])}"
      ]
     },
     "execution_count": 8,
     "metadata": {},
     "output_type": "execute_result"
    }
   ],
   "source": [
    "sim = loadmat(\"C:\\\\Users\\\\dinar\\\\Desktop\\\\simulated_data\\\\1\\\\AY_20111004_SC_new.mat\\\\cspeed20\\\\csf 0.05\\\\bold.mat\", squeeze_me=True)\n",
    "sim"
   ]
  },
  {
   "cell_type": "code",
   "execution_count": 16,
   "metadata": {
    "pycharm": {
     "name": "#%%\n"
    }
   },
   "outputs": [
    {
     "data": {
      "text/plain": [
       "array([-1177.56475519,  -617.04150771,   588.59473112])"
      ]
     },
     "execution_count": 16,
     "metadata": {},
     "output_type": "execute_result"
    },
    {
     "name": "stdout",
     "output_type": "stream",
     "text": [
      "File `None` is empty!\n",
      "Creating folder `output`...\n",
      "Creating folder `eq`...\n",
      "Creating folder `code`...\n",
      "Creating folder `coord`...\n",
      "Creating folder `param`...\n",
      "Creating file `README.txt`...\n",
      "Creating file `participants.tsv`...\n",
      "Creating file `dataset_description.json`...\n",
      "Creating file `CHANGES.txt`...\n",
      "Creating folder `../output\\sub-dD8vA`\n",
      "Creating folder `../output\\sub-dD8vA\\net`\n",
      "Creating folder `../output\\sub-dD8vA\\spatial`\n",
      "Creating folder `../output\\sub-dD8vA\\ts`\n"
     ]
    }
   ],
   "source": [
    "np.percentile(sim['arr'], [0, 50, 100])"
   ]
  },
  {
   "cell_type": "code",
   "execution_count": 8,
   "metadata": {
    "pycharm": {
     "name": "#%%\n"
    }
   },
   "outputs": [
    {
     "data": {
      "text/plain": [
       "array([ 5657.60373 , 11453.467125, 18926.23528 ])"
      ]
     },
     "execution_count": 8,
     "metadata": {},
     "output_type": "execute_result"
    }
   ],
   "source": [
    "data = loadmat('C:\\\\Users\\\\dinar\\\\Desktop\\\\gsoc\\\\data\\\\timeseries\\\\1\\\\timeseries_all.mat')\n",
    "\n",
    "np.percentile(data['data'], [0, 50, 100])"
   ]
  },
  {
   "cell_type": "code",
   "execution_count": 15,
   "metadata": {
    "pycharm": {
     "name": "#%%\n"
    }
   },
   "outputs": [
    {
     "data": {
      "text/plain": [
       "array([-0.64908182,  0.44813303,  1.        ])"
      ]
     },
     "execution_count": 15,
     "metadata": {},
     "output_type": "execute_result"
    }
   ],
   "source": [
    "emp_fc = loadmat(\"C:\\\\Users\\\\dinar\\\\Desktop\\\\simulated_data\\\\1\\\\all_empFC.mat\")\n",
    "np.percentile(emp_fc['all_empFC'], [0, 50, 100])"
   ]
  },
  {
   "cell_type": "code",
   "execution_count": null,
   "metadata": {
    "pycharm": {
     "name": "#%%\n"
    }
   },
   "outputs": [],
   "source": []
  },
  {
   "cell_type": "code",
   "execution_count": 11,
   "metadata": {
    "pycharm": {
     "name": "#%%\n"
    }
   },
   "outputs": [
    {
     "data": {
      "text/plain": [
       "{'__header__': b'MATLAB 5.0 MAT-file, written by Octave 4.0.2, 2017-02-21 10:35:45 UTC',\n",
       " '__version__': '1.0',\n",
       " '__globals__': [],\n",
       " 'CON01T1_ROIts': array([[  923.70188, 10967.75413, 10075.33814, ...,  9686.10222,\n",
       "         10282.49023, 10792.33884],\n",
       "        [  916.27902, 10939.30918,  9958.87689, ...,  9665.7039 ,\n",
       "         10121.32577, 10689.26117],\n",
       "        [  906.29391, 10909.99712,  9918.38669, ...,  9593.44135,\n",
       "         10135.87439, 10713.51698],\n",
       "        ...,\n",
       "        [  911.26295, 10948.92151,  9881.90784, ...,  9584.80664,\n",
       "         10276.75591, 10826.52015],\n",
       "        [  911.89234, 10926.43679,  9956.72355, ...,  9550.86363,\n",
       "         10231.36131, 10768.50695],\n",
       "        [  914.11457, 10917.22143,  9884.80337, ...,  9557.05501,\n",
       "         10139.23922, 10715.65225]]),\n",
       " 'CON01T1_ROIts_DK68': array([[12974.08918, 11915.09521, 12078.56191, ...,  9686.10222,\n",
       "         10282.49023, 10792.33884],\n",
       "        [12959.45346, 11819.84904, 12055.11605, ...,  9665.7039 ,\n",
       "         10121.32577, 10689.26117],\n",
       "        [12905.20787, 11837.78934, 11962.39905, ...,  9593.44135,\n",
       "         10135.87439, 10713.51698],\n",
       "        ...,\n",
       "        [13157.87715, 11893.20308, 12102.12388, ...,  9584.80664,\n",
       "         10276.75591, 10826.52015],\n",
       "        [13083.40412, 11890.30498, 12074.14658, ...,  9550.86363,\n",
       "         10231.36131, 10768.50695],\n",
       "        [12970.37017, 11870.84991, 12098.38231, ...,  9557.05501,\n",
       "         10139.23922, 10715.65225]]),\n",
       " 'FC_cc_DK68': array([[1.        , 0.64923572, 0.57562494, ..., 0.54544782, 0.61209261,\n",
       "         0.79192424],\n",
       "        [0.64923572, 1.        , 0.54092631, ..., 0.60749958, 0.70304996,\n",
       "         0.81368532],\n",
       "        [0.57562494, 0.54092631, 1.        , ..., 0.33158808, 0.53142093,\n",
       "         0.55906178],\n",
       "        ...,\n",
       "        [0.54544782, 0.60749958, 0.33158808, ..., 1.        , 0.52461762,\n",
       "         0.69158698],\n",
       "        [0.61209261, 0.70304996, 0.53142093, ..., 0.52461762, 1.        ,\n",
       "         0.75028882],\n",
       "        [0.79192424, 0.81368532, 0.55906178, ..., 0.69158698, 0.75028882,\n",
       "         1.        ]]),\n",
       " 'FC_cc': array([[1.        , 0.70641848, 0.32693809, ..., 0.37863506, 0.47675247,\n",
       "         0.55521891],\n",
       "        [0.70641848, 1.        , 0.1493432 , ..., 0.59192268, 0.62983002,\n",
       "         0.75121872],\n",
       "        [0.32693809, 0.1493432 , 1.        , ..., 0.02705437, 0.01238442,\n",
       "         0.05156714],\n",
       "        ...,\n",
       "        [0.37863506, 0.59192268, 0.02705437, ..., 1.        , 0.52461762,\n",
       "         0.69158698],\n",
       "        [0.47675247, 0.62983002, 0.01238442, ..., 0.52461762, 1.        ,\n",
       "         0.75028882],\n",
       "        [0.55521891, 0.75121872, 0.05156714, ..., 0.69158698, 0.75028882,\n",
       "         1.        ]]),\n",
       " 'FC_mi': array([[1.26875794, 0.44545239, 0.21583207, ..., 0.25842907, 0.25812191,\n",
       "         0.29191967],\n",
       "        [0.44545239, 1.35014322, 0.1807453 , ..., 0.33030947, 0.3432018 ,\n",
       "         0.49030283],\n",
       "        [0.21583207, 0.1807453 , 1.28637805, ..., 0.17494245, 0.17499534,\n",
       "         0.17244255],\n",
       "        ...,\n",
       "        [0.25842907, 0.33030947, 0.17494245, ..., 1.35003996, 0.26561923,\n",
       "         0.40028623],\n",
       "        [0.25812191, 0.3432018 , 0.17499534, ..., 0.26561923, 1.29156579,\n",
       "         0.45423592],\n",
       "        [0.29191967, 0.49030283, 0.17244255, ..., 0.40028623, 0.45423592,\n",
       "         1.29531249]]),\n",
       " 'ROI_ID_table': array([[ 1.00000000e+00,  0.00000000e+00,  1.30207000e+05, ...,\n",
       "         -4.45923190e+03,  3.46125859e+04,  3.90718164e+04],\n",
       "        [ 2.00000000e+00,  2.00000000e+00,  8.80400000e+03, ...,\n",
       "          0.00000000e+00,  2.79570176e+04,  2.79570176e+04],\n",
       "        [ 3.00000000e+00,  4.00000000e+00,  1.25000000e+02, ...,\n",
       "          4.24063090e+03,  1.52233984e+04,  1.09827676e+04],\n",
       "        ...,\n",
       "        [ 1.10000000e+02,  2.03300000e+03,  6.80000000e+01, ...,\n",
       "          4.33480620e+03,  1.38596172e+04,  9.52481050e+03],\n",
       "        [ 1.11000000e+02,  2.03400000e+03,  2.80000000e+01, ...,\n",
       "          7.05326900e+03,  1.35506230e+04,  6.49735400e+03],\n",
       "        [ 1.12000000e+02,  2.03500000e+03,  2.51000000e+02, ...,\n",
       "          5.14625780e+03,  1.57338135e+04,  1.05875557e+04]])}"
      ]
     },
     "execution_count": 11,
     "metadata": {},
     "output_type": "execute_result"
    }
   ],
   "source": [
    "loadmat('C:\\\\Users\\\\dinar\\\\Desktop\\\\gsoc\\\\data\\\\ses-preop\\\\FC.mat')"
   ]
  },
  {
   "cell_type": "code",
   "execution_count": null,
   "metadata": {
    "pycharm": {
     "name": "#%%\n"
    }
   },
   "outputs": [],
   "source": []
  },
  {
   "cell_type": "code",
   "execution_count": null,
   "metadata": {
    "pycharm": {
     "name": "#%%\n"
    }
   },
   "outputs": [],
   "source": []
  },
  {
   "cell_type": "markdown",
   "metadata": {
    "pycharm": {
     "name": "#%% md\n"
    }
   },
   "source": [
    "### speed20, etc"
   ]
  },
  {
   "cell_type": "code",
   "execution_count": 19,
   "metadata": {
    "pycharm": {
     "name": "#%%\n"
    }
   },
   "outputs": [
    {
     "data": {
      "text/plain": [
       "{'__header__': b'MATLAB 5.0 MAT-file Platform: posix, Created on: Fri Sep 29 11:46:43 2017',\n",
       " '__version__': '1.0',\n",
       " '__globals__': [],\n",
       " 'subs_data': array([[[ 0.51877537,  0.32200462,  0.62658588, ...,  0.60863629,\n",
       "           0.568951  ,  0.78985981],\n",
       "         [ 0.58101576,  0.61059093,  0.40993171, ...,  0.55985378,\n",
       "           0.43702166,  0.40615905]],\n",
       " \n",
       "        [[-1.53511119, -0.49331051, -0.53308641, ..., -0.51905395,\n",
       "          -0.55381113,  0.04665336],\n",
       "         [-0.50735542, -0.4094834 , -0.41427879, ...,  0.08833556,\n",
       "          -0.46056716, -0.46410892]],\n",
       " \n",
       "        [[-1.04546626, -0.35251508, -0.41500527, ..., -0.20582285,\n",
       "          -1.25996799, -0.7764147 ],\n",
       "         [-0.34540655, -0.32373849, -0.34252525, ..., -0.39158608,\n",
       "          -0.34193913, -0.36278282]],\n",
       " \n",
       "        ...,\n",
       " \n",
       "        [[ 0.77479767, -0.98001667, -0.84482694, ..., -1.28450549,\n",
       "          -1.14173223,  1.56361209],\n",
       "         [ 1.223174  , -0.36430809, -0.34337304, ...,  0.10573174,\n",
       "          -0.64746735,  0.49581997]],\n",
       " \n",
       "        [[-1.31177546,  1.15811052,  1.11151918, ...,  0.44205926,\n",
       "           0.80952124,  1.12448931],\n",
       "         [ 0.04929004, -0.09174804,  0.5755197 , ..., -0.30307096,\n",
       "           0.279015  ,  0.58995693]],\n",
       " \n",
       "        [[-0.94747594,  1.07405308,  0.68265171, ...,  1.49696794,\n",
       "           1.40996153, -0.7124001 ],\n",
       "         [-0.70376655,  1.34500097,  0.65520956, ...,  0.08920633,\n",
       "           0.09355033, -0.43415836]]]),\n",
       " 'subs_time': array([ 100.,  102.,  104., ..., 3094., 3096., 3098.])}"
      ]
     },
     "execution_count": 19,
     "metadata": {},
     "output_type": "execute_result"
    }
   ],
   "source": [
    "data = loadmat('C:\\\\Users\\\\dinar\\\\Desktop\\\\simulated_data\\\\2\\\\first_exploration\\\\AA_20120815_log_SC_csf_0.0001_speed_50.mat',\n",
    "               squeeze_me=True)\n",
    "data"
   ]
  },
  {
   "cell_type": "code",
   "execution_count": 20,
   "metadata": {
    "pycharm": {
     "name": "#%%\n"
    }
   },
   "outputs": [
    {
     "data": {
      "text/plain": [
       "((1500,), (1500, 2, 68))"
      ]
     },
     "execution_count": 20,
     "metadata": {},
     "output_type": "execute_result"
    }
   ],
   "source": [
    "data['subs_time'].shape, data['subs_data'].shape"
   ]
  },
  {
   "cell_type": "code",
   "execution_count": 23,
   "metadata": {
    "pycharm": {
     "name": "#%%\n"
    }
   },
   "outputs": [
    {
     "data": {
      "text/plain": [
       "array([[0.51877537, 0.32200462, 0.62658588, 0.41850138, 0.26502229,\n",
       "        0.43742028, 0.48043986, 0.15356728, 0.54771136, 0.59302886,\n",
       "        0.48912306, 0.74123135, 0.48709837, 0.37643532, 0.58197464,\n",
       "        0.96119918, 0.72236114, 0.30243342, 0.21796086, 0.42015013,\n",
       "        0.31026511, 0.56846824, 0.58036834, 0.56682696, 0.86364423,\n",
       "        0.02419162, 0.70922303, 0.33941018, 0.40719929, 0.24735968,\n",
       "        0.65620849, 0.35796918, 0.58750035, 0.47030968, 0.44316665,\n",
       "        0.53620101, 0.6096645 , 0.14700385, 0.51637336, 0.6265656 ,\n",
       "        0.50779293, 0.64715845, 0.53941423, 0.3632348 , 0.41904449,\n",
       "        0.03918741, 0.32387129, 0.75251248, 0.42285177, 0.37035287,\n",
       "        0.6414281 , 0.56651524, 0.53169924, 0.58234798, 0.73980684,\n",
       "        0.47107773, 0.77864327, 0.54553439, 0.62377154, 0.1393394 ,\n",
       "        0.33361236, 0.66322912, 0.436849  , 0.3422435 , 0.48019297,\n",
       "        0.60863629, 0.568951  , 0.78985981],\n",
       "       [0.58101576, 0.61059093, 0.40993171, 0.48334802, 0.71842177,\n",
       "        0.60252419, 0.47974453, 0.2659381 , 0.29041354, 0.51364132,\n",
       "        0.58666438, 0.37685466, 0.49091729, 0.03805656, 0.61361684,\n",
       "        0.19565002, 0.5248473 , 0.40903186, 0.14459813, 0.54028764,\n",
       "        0.51397411, 0.22905275, 0.77129966, 0.71476607, 0.259657  ,\n",
       "        0.48918518, 0.43627689, 0.60450563, 0.50936041, 0.59342268,\n",
       "        0.66806115, 0.19641011, 0.42578671, 0.44997457, 0.71989005,\n",
       "        0.45111878, 0.41867371, 0.53521554, 0.24758101, 0.53956131,\n",
       "        0.41689229, 0.54996868, 0.65288762, 0.51695924, 0.39277057,\n",
       "        0.47682125, 0.32267617, 0.5893842 , 0.51605632, 0.39983322,\n",
       "        0.46801313, 0.21571513, 0.494558  , 0.58937602, 0.26534909,\n",
       "        0.59101245, 0.47104684, 0.24893695, 0.50400074, 0.25901346,\n",
       "        0.42737815, 0.86165236, 0.32375998, 0.41350611, 0.37119193,\n",
       "        0.55985378, 0.43702166, 0.40615905]])"
      ]
     },
     "execution_count": 23,
     "metadata": {},
     "output_type": "execute_result"
    }
   ],
   "source": [
    "data['subs_data'][0]"
   ]
  },
  {
   "cell_type": "code",
   "execution_count": null,
   "metadata": {
    "pycharm": {
     "name": "#%%\n"
    }
   },
   "outputs": [],
   "source": []
  },
  {
   "cell_type": "code",
   "execution_count": null,
   "metadata": {
    "pycharm": {
     "name": "#%%\n"
    }
   },
   "outputs": [],
   "source": []
  },
  {
   "cell_type": "code",
   "execution_count": null,
   "metadata": {
    "pycharm": {
     "name": "#%%\n"
    }
   },
   "outputs": [],
   "source": []
  },
  {
   "cell_type": "code",
   "execution_count": null,
   "metadata": {
    "pycharm": {
     "name": "#%%\n"
    }
   },
   "outputs": [],
   "source": []
  },
  {
   "cell_type": "code",
   "execution_count": 65,
   "metadata": {
    "pycharm": {
     "name": "#%%\n"
    }
   },
   "outputs": [
    {
     "data": {
      "text/plain": [
       "['BurstConfiguration_a29116b38d05429588535667ce4d1eee.h5',\n",
       " 'datatypes',\n",
       " 'Generic2dOscillator_4e4d2edc01e2448192baf025336e0d73.h5',\n",
       " 'HeunDeterministicViewModel_4007260a59a443cfbc076eb4c231c6f5.h5',\n",
       " 'Linear_f639e3b95c48436dae5ffaa29072963e.h5',\n",
       " 'SimulatorAdapterModel_994a4afbef39461abf2a4feaf9761ca0.h5',\n",
       " 'SubSampleViewModel_cd2fe7f44797434b9ae2cc3418a9f091.h5']"
      ]
     },
     "execution_count": 65,
     "metadata": {},
     "output_type": "execute_result"
    }
   ],
   "source": [
    "os.listdir('C:\\\\Users\\\\dinar\\\\Desktop\\\\gsoc\\\\data\\\\simulations\\\\1')"
   ]
  },
  {
   "cell_type": "code",
   "execution_count": 13,
   "metadata": {
    "pycharm": {
     "name": "#%%\n"
    }
   },
   "outputs": [
    {
     "name": "stdout",
     "output_type": "stream",
     "text": [
      "\n",
      " BurstConfiguration_a29116b38d05429588535667ce4d1eee.h5 \n",
      "\t <KeysViewHDF5 []>\n",
      "\n",
      " Generic2dOscillator_4e4d2edc01e2448192baf025336e0d73.h5 \n",
      "\t <KeysViewHDF5 ['I', 'a', 'alpha', 'b', 'beta', 'c', 'd', 'e', 'f', 'g', 'gamma', 'tau']>\n",
      "\n",
      " HeunDeterministicViewModel_4007260a59a443cfbc076eb4c231c6f5.h5 \n",
      "\t <KeysViewHDF5 []>\n",
      "\n",
      " Linear_f639e3b95c48436dae5ffaa29072963e.h5 \n",
      "\t <KeysViewHDF5 ['a', 'b']>\n",
      "\n",
      " SimulatorAdapterModel_994a4afbef39461abf2a4feaf9761ca0.h5 \n",
      "\t <KeysViewHDF5 []>\n",
      "\n",
      " SubSampleViewModel_cd2fe7f44797434b9ae2cc3418a9f091.h5 \n",
      "\t <KeysViewHDF5 ['variables_of_interest']>\n"
     ]
    }
   ],
   "source": [
    "path = 'C:\\\\Users\\\\dinar\\\\Desktop\\\\gsoc\\\\data\\\\simulations\\\\1'\n",
    "\n",
    "for h5 in os.listdir(path):\n",
    "    if h5 == 'datatypes': continue\n",
    "\n",
    "    print('\\n', h5, '\\n\\t', h5py.File(os.path.join(path, h5)).keys())"
   ]
  },
  {
   "cell_type": "markdown",
   "metadata": {
    "pycharm": {
     "name": "#%% md\n"
    }
   },
   "source": [
    "### Trial to save XML params\n",
    "\n",
    "```\n",
    "Generic2dOscillator_4e4d2edc01e2448192baf025336e0d73.h5\n",
    "\t <KeysViewHDF5 ['I', 'a', 'alpha', 'b', 'beta', 'c', 'd', 'e', 'f', 'g', 'gamma', 'tau']>\n",
    "```"
   ]
  },
  {
   "cell_type": "code",
   "execution_count": 16,
   "metadata": {
    "pycharm": {
     "name": "#%%\n"
    }
   },
   "outputs": [
    {
     "name": "stdout",
     "output_type": "stream",
     "text": [
      "Found following parameters:\n",
      "['d=\"0.02\"', 'alpha=\"1.0\"', 'b=\"-10.0\"', 'e=\"3.0\"', 'g=\"0.0\"', 'gamma=\"1.0\"', 'I=\"0.0\"', 'f=\"1.0\"', 'tau=\"1.0\"', 'c=\"0.0\"', 'beta=\"1.0\"', 'a=\"-2.0\"']\n"
     ]
    }
   ],
   "source": [
    "import h5py\n",
    "TXT_COLS = ['areas', 'centres', 'cortical', 'hemispheres', 'orientations', 'region_labels', 'tract_lengths', 'weights']\n",
    "\n",
    "\n",
    "class XML:\n",
    "    def __init__(self, path, output):\n",
    "        self.path = path\n",
    "        self.params = []\n",
    "        self.output = output\n",
    "        self.template = \"\"\"<?xml version=\"1.0\" ?>\n",
    "<Lems xmlns=\"http://www.neuroml.org/lems/0.7.6\" xmlns:xsi=\"http://www.w3.org/2001/XMLSchema-instance\" xsi:schemaLocation=\"http://www.neuroml.org/lems/0.7.6 https://raw.githubusercontent.com/LEMS/LEMS/development/Schemas/LEMS/LEMS_v0.7.6.xsd\">\n",
    "    <Component {}/>\n",
    "</Lems>\"\"\"\n",
    "        self.parse_file()\n",
    "\n",
    "    def parse_file(self):\n",
    "        if self.path.endswith('.h5'):\n",
    "            self.file = h5py.File(self.path)\n",
    "            self.keys = list(self.file.keys())\n",
    "            self.eq = list(self.check_keys())\n",
    "\n",
    "            for k in self.eq:\n",
    "                self.params.append('{}=\"{}\"'.format(k, self.file[k][:][0]))\n",
    "\n",
    "            if len(self.params) > 0:\n",
    "                print(f'Found following parameters:\\n{self.params}')\n",
    "                self.populate_template()\n",
    "\n",
    "    def check_keys(self):\n",
    "        return set(self.keys).difference(set(TXT_COLS))\n",
    "\n",
    "    def populate_template(self):\n",
    "        if len(self.params) > 0:\n",
    "            self.template = self.template.format(' '.join(self.params))\n",
    "            self.create_xml()\n",
    "\n",
    "    def create_xml(self):\n",
    "        with open(self.output, 'w') as f:\n",
    "            f.write(self.template)\n",
    "\n",
    "\n",
    "xml = XML('C:\\\\Users\\\\dinar\\\\Desktop\\\\gsoc\\\\data\\\\simulations\\\\1\\\\Generic2dOscillator_4e4d2edc01e2448192baf025336e0d73.h5',\n",
    "          'generic2doscillator.xml')"
   ]
  },
  {
   "cell_type": "code",
   "execution_count": 53,
   "metadata": {
    "pycharm": {
     "name": "#%%\n"
    }
   },
   "outputs": [
    {
     "name": "stdout",
     "output_type": "stream",
     "text": [
      "Found following parameters:\n",
      "[]\n",
      "<?xml version=\"1.0\" ?>\n",
      "<Lems xmlns=\"http://www.neuroml.org/lems/0.7.6\" xmlns:xsi=\"http://www.w3.org/2001/XMLSchema-instance\" xsi:schemaLocation=\"http://www.neuroml.org/lems/0.7.6 https://raw.githubusercontent.com/LEMS/LEMS/development/Schemas/LEMS/LEMS_v0.7.6.xsd\">\n",
      "    <Component {}/>\n",
      "</Lems>\n",
      "\n",
      "\n",
      "Found following parameters:\n",
      "['I', 'a', 'alpha', 'b', 'beta', 'c', 'd', 'e', 'f', 'g', 'gamma', 'tau']\n",
      "<?xml version=\"1.0\" ?>\n",
      "<Lems xmlns=\"http://www.neuroml.org/lems/0.7.6\" xmlns:xsi=\"http://www.w3.org/2001/XMLSchema-instance\" xsi:schemaLocation=\"http://www.neuroml.org/lems/0.7.6 https://raw.githubusercontent.com/LEMS/LEMS/development/Schemas/LEMS/LEMS_v0.7.6.xsd\">\n",
      "    <Component I=\"0.0\" a=\"-2.0\" alpha=\"1.0\" b=\"-10.0\" beta=\"1.0\" c=\"0.0\" d=\"0.02\" e=\"3.0\" f=\"1.0\" g=\"0.0\" gamma=\"1.0\" tau=\"1.0\"/>\n",
      "</Lems>\n",
      "\n",
      "\n",
      "Found following parameters:\n",
      "[]\n",
      "<?xml version=\"1.0\" ?>\n",
      "<Lems xmlns=\"http://www.neuroml.org/lems/0.7.6\" xmlns:xsi=\"http://www.w3.org/2001/XMLSchema-instance\" xsi:schemaLocation=\"http://www.neuroml.org/lems/0.7.6 https://raw.githubusercontent.com/LEMS/LEMS/development/Schemas/LEMS/LEMS_v0.7.6.xsd\">\n",
      "    <Component {}/>\n",
      "</Lems>\n",
      "\n",
      "\n",
      "Found following parameters:\n",
      "['a', 'b']\n",
      "<?xml version=\"1.0\" ?>\n",
      "<Lems xmlns=\"http://www.neuroml.org/lems/0.7.6\" xmlns:xsi=\"http://www.w3.org/2001/XMLSchema-instance\" xsi:schemaLocation=\"http://www.neuroml.org/lems/0.7.6 https://raw.githubusercontent.com/LEMS/LEMS/development/Schemas/LEMS/LEMS_v0.7.6.xsd\">\n",
      "    <Component a=\"0.05\" b=\"0.0\"/>\n",
      "</Lems>\n",
      "\n",
      "\n",
      "Found following parameters:\n",
      "[]\n",
      "<?xml version=\"1.0\" ?>\n",
      "<Lems xmlns=\"http://www.neuroml.org/lems/0.7.6\" xmlns:xsi=\"http://www.w3.org/2001/XMLSchema-instance\" xsi:schemaLocation=\"http://www.neuroml.org/lems/0.7.6 https://raw.githubusercontent.com/LEMS/LEMS/development/Schemas/LEMS/LEMS_v0.7.6.xsd\">\n",
      "    <Component {}/>\n",
      "</Lems>\n",
      "\n",
      "\n",
      "Found following parameters:\n",
      "['variables_of_interest']\n",
      "<?xml version=\"1.0\" ?>\n",
      "<Lems xmlns=\"http://www.neuroml.org/lems/0.7.6\" xmlns:xsi=\"http://www.w3.org/2001/XMLSchema-instance\" xsi:schemaLocation=\"http://www.neuroml.org/lems/0.7.6 https://raw.githubusercontent.com/LEMS/LEMS/development/Schemas/LEMS/LEMS_v0.7.6.xsd\">\n",
      "    <Component variables_of_interest=\"0\"/>\n",
      "</Lems>\n",
      "\n",
      "\n"
     ]
    }
   ],
   "source": [
    "path = 'C:\\\\Users\\\\dinar\\\\Desktop\\\\gsoc\\\\data\\\\simulations\\\\1'\n",
    "\n",
    "for idx, h5 in enumerate(os.listdir(path)):\n",
    "    if h5 == 'datatypes': continue\n",
    "\n",
    "    xml = XML(os.path.join(path, h5), f'test-{idx}')\n",
    "    xml.parse_file()\n",
    "    print(xml.template, end='\\n\\n\\n')"
   ]
  },
  {
   "cell_type": "code",
   "execution_count": null,
   "metadata": {
    "pycharm": {
     "name": "#%%\n"
    }
   },
   "outputs": [],
   "source": []
  },
  {
   "cell_type": "code",
   "execution_count": null,
   "metadata": {
    "pycharm": {
     "name": "#%%\n"
    }
   },
   "outputs": [],
   "source": []
  },
  {
   "cell_type": "code",
   "execution_count": null,
   "metadata": {
    "pycharm": {
     "name": "#%%\n"
    }
   },
   "outputs": [],
   "source": []
  },
  {
   "cell_type": "code",
   "execution_count": null,
   "metadata": {
    "pycharm": {
     "name": "#%%\n"
    }
   },
   "outputs": [],
   "source": []
  },
  {
   "cell_type": "code",
   "execution_count": null,
   "metadata": {
    "pycharm": {
     "name": "#%%\n"
    }
   },
   "outputs": [],
   "source": []
  },
  {
   "cell_type": "code",
   "execution_count": null,
   "metadata": {
    "pycharm": {
     "name": "#%%\n"
    }
   },
   "outputs": [],
   "source": []
  },
  {
   "cell_type": "code",
   "execution_count": null,
   "metadata": {
    "pycharm": {
     "name": "#%%\n"
    }
   },
   "outputs": [],
   "source": []
  },
  {
   "cell_type": "code",
   "execution_count": null,
   "metadata": {
    "pycharm": {
     "name": "#%%\n"
    }
   },
   "outputs": [],
   "source": []
  },
  {
   "cell_type": "code",
   "execution_count": 50,
   "metadata": {
    "pycharm": {
     "name": "#%%\n"
    }
   },
   "outputs": [
    {
     "data": {
      "text/plain": [
       "<KeysViewHDF5 ['areas', 'centres', 'cortical', 'hemispheres', 'orientations', 'region_labels', 'tract_lengths', 'weights']>"
      ]
     },
     "execution_count": 50,
     "metadata": {},
     "output_type": "execute_result"
    }
   ],
   "source": [
    "f = h5py.File('C:\\\\Users\\\\dinar\\\\Desktop\\\\gsoc\\\\data\\\\simulations\\\\1\\\\datatypes\\\\Connectivity_6b28b6c61836452bb52cbd18538a7775.h5')\n",
    "f.keys()"
   ]
  },
  {
   "cell_type": "code",
   "execution_count": 14,
   "metadata": {
    "pycharm": {
     "name": "#%%\n"
    }
   },
   "outputs": [
    {
     "data": {
      "text/plain": [
       "array(['rA1', 'rA2', 'rAMYG', 'rCCA', 'rCCP', 'rCCR', 'rCCS', 'rFEF',\n",
       "       'rG', 'rHC', 'rIA', 'rIP', 'rM1', 'rPCI', 'rPCIP', 'rPCM', 'rPCS',\n",
       "       'rPFCCL', 'rPFCDL', 'rPFCDM', 'rPFCM', 'rPFCORB', 'rPFCPOL',\n",
       "       'rPFCVL', 'rPHC', 'rPMCDL', 'rPMCM', 'rPMCVL', 'rS1', 'rS2',\n",
       "       'rTCC', 'rTCI', 'rTCPOL', 'rTCS', 'rTCV', 'rV1', 'rV2', 'rCC',\n",
       "       'lA1', 'lA2', 'lAMYG', 'lCCA', 'lCCP', 'lCCR', 'lCCS', 'lFEF',\n",
       "       'lG', 'lHC', 'lIA', 'lIP', 'lM1', 'lPCI', 'lPCIP', 'lPCM', 'lPCS',\n",
       "       'lPFCCL', 'lPFCDL', 'lPFCDM', 'lPFCM', 'lPFCORB', 'lPFCPOL',\n",
       "       'lPFCVL', 'lPHC', 'lPMCDL', 'lPMCM', 'lPMCVL', 'lS1', 'lS2',\n",
       "       'lTCC', 'lTCI', 'lTCPOL', 'lTCS', 'lTCV', 'lV1', 'lV2', 'lCC'],\n",
       "      dtype='<U7')"
      ]
     },
     "execution_count": 14,
     "metadata": {},
     "output_type": "execute_result"
    }
   ],
   "source": [
    "np.array([str(x).strip(\"b'\") for x in f])"
   ]
  },
  {
   "cell_type": "code",
   "execution_count": null,
   "metadata": {
    "pycharm": {
     "name": "#%%\n"
    }
   },
   "outputs": [],
   "source": []
  },
  {
   "cell_type": "code",
   "execution_count": null,
   "metadata": {
    "pycharm": {
     "name": "#%%\n"
    }
   },
   "outputs": [],
   "source": []
  },
  {
   "cell_type": "code",
   "execution_count": 6,
   "metadata": {
    "pycharm": {
     "name": "#%%\n"
    }
   },
   "outputs": [
    {
     "data": {
      "text/plain": [
       "['_MutableMapping__marker',\n",
       " '__abstractmethods__',\n",
       " '__bool__',\n",
       " '__class__',\n",
       " '__class_getitem__',\n",
       " '__contains__',\n",
       " '__delattr__',\n",
       " '__delitem__',\n",
       " '__dict__',\n",
       " '__dir__',\n",
       " '__doc__',\n",
       " '__enter__',\n",
       " '__eq__',\n",
       " '__exit__',\n",
       " '__format__',\n",
       " '__ge__',\n",
       " '__getattribute__',\n",
       " '__getitem__',\n",
       " '__getnewargs__',\n",
       " '__getstate__',\n",
       " '__gt__',\n",
       " '__hash__',\n",
       " '__init__',\n",
       " '__init_subclass__',\n",
       " '__iter__',\n",
       " '__le__',\n",
       " '__len__',\n",
       " '__lt__',\n",
       " '__module__',\n",
       " '__ne__',\n",
       " '__new__',\n",
       " '__nonzero__',\n",
       " '__reduce__',\n",
       " '__reduce_ex__',\n",
       " '__repr__',\n",
       " '__reversed__',\n",
       " '__setattr__',\n",
       " '__setitem__',\n",
       " '__sizeof__',\n",
       " '__slots__',\n",
       " '__str__',\n",
       " '__subclasshook__',\n",
       " '__weakref__',\n",
       " '_abc_impl',\n",
       " '_d',\n",
       " '_e',\n",
       " '_gcpl_crt_order',\n",
       " '_id',\n",
       " '_ipython_key_completions_',\n",
       " '_lapl',\n",
       " '_lcpl',\n",
       " '_libver',\n",
       " 'attrs',\n",
       " 'build_virtual_dataset',\n",
       " 'clear',\n",
       " 'close',\n",
       " 'copy',\n",
       " 'create_dataset',\n",
       " 'create_dataset_like',\n",
       " 'create_group',\n",
       " 'create_virtual_dataset',\n",
       " 'driver',\n",
       " 'file',\n",
       " 'filename',\n",
       " 'flush',\n",
       " 'get',\n",
       " 'id',\n",
       " 'items',\n",
       " 'keys',\n",
       " 'libver',\n",
       " 'mode',\n",
       " 'move',\n",
       " 'name',\n",
       " 'parent',\n",
       " 'pop',\n",
       " 'popitem',\n",
       " 'ref',\n",
       " 'regionref',\n",
       " 'require_dataset',\n",
       " 'require_group',\n",
       " 'setdefault',\n",
       " 'swmr_mode',\n",
       " 'update',\n",
       " 'userblock_size',\n",
       " 'values',\n",
       " 'visit',\n",
       " 'visititems']"
      ]
     },
     "execution_count": 6,
     "metadata": {},
     "output_type": "execute_result"
    }
   ],
   "source": [
    "import h5py\n",
    "\n",
    "\n",
    "data = h5py.File('C:\\\\Users\\\\dinar\\\\Desktop\\\\gsoc\\\\data\\\\simulations\\\\1\\\\Linear_f639e3b95c48436dae5ffaa29072963e.h5')\n",
    "dir(data)"
   ]
  },
  {
   "cell_type": "code",
   "execution_count": 6,
   "metadata": {
    "pycharm": {
     "name": "#%%\n"
    }
   },
   "outputs": [
    {
     "data": {
      "text/plain": [
       "<KeysViewHDF5 ['a', 'b']>"
      ]
     },
     "execution_count": 6,
     "metadata": {},
     "output_type": "execute_result"
    }
   ],
   "source": [
    "data.keys()"
   ]
  },
  {
   "cell_type": "code",
   "execution_count": 77,
   "metadata": {
    "pycharm": {
     "name": "#%%\n"
    }
   },
   "outputs": [
    {
     "data": {
      "text/plain": [
       "array([0.05])"
      ]
     },
     "execution_count": 77,
     "metadata": {},
     "output_type": "execute_result"
    }
   ],
   "source": [
    "data['a'][:]"
   ]
  },
  {
   "cell_type": "code",
   "execution_count": null,
   "metadata": {
    "pycharm": {
     "name": "#%%\n"
    }
   },
   "outputs": [],
   "source": []
  },
  {
   "cell_type": "code",
   "execution_count": null,
   "metadata": {
    "pycharm": {
     "name": "#%%\n"
    }
   },
   "outputs": [],
   "source": []
  },
  {
   "cell_type": "code",
   "execution_count": 14,
   "metadata": {
    "pycharm": {
     "name": "#%%\n"
    }
   },
   "outputs": [
    {
     "data": {
      "text/plain": [
       "<KeysViewHDF5 ['areas', 'centres', 'cortical', 'hemispheres', 'orientations', 'region_labels', 'tract_lengths', 'weights']>"
      ]
     },
     "execution_count": 14,
     "metadata": {},
     "output_type": "execute_result"
    }
   ],
   "source": [
    "data = h5py.File('C:\\\\Users\\\\dinar\\\\Desktop\\\\gsoc\\\\data\\\\simulations\\\\1\\\\datatypes\\\\Connectivity_6b28b6c61836452bb52cbd18538a7775.h5')\n",
    "data.keys()"
   ]
  },
  {
   "cell_type": "code",
   "execution_count": 82,
   "metadata": {
    "pycharm": {
     "name": "#%%\n"
    }
   },
   "outputs": [
    {
     "data": {
      "text/plain": [
       "['weights', 'tract_lengths', 'centres']"
      ]
     },
     "execution_count": 82,
     "metadata": {},
     "output_type": "execute_result"
    }
   ],
   "source": [
    "list(set(['centres', 'weights', 'tract_lengths']).intersection(set(data.keys())))"
   ]
  },
  {
   "cell_type": "code",
   "execution_count": 95,
   "metadata": {
    "pycharm": {
     "name": "#%%\n"
    },
    "scrolled": true
   },
   "outputs": [
    {
     "data": {
      "text/plain": [
       "array([b'rA1', b'rA2', b'rAMYG', b'rCCA', b'rCCP', b'rCCR', b'rCCS',\n",
       "       b'rFEF', b'rG', b'rHC', b'rIA', b'rIP', b'rM1', b'rPCI', b'rPCIP',\n",
       "       b'rPCM', b'rPCS', b'rPFCCL', b'rPFCDL', b'rPFCDM', b'rPFCM',\n",
       "       b'rPFCORB', b'rPFCPOL', b'rPFCVL', b'rPHC', b'rPMCDL', b'rPMCM',\n",
       "       b'rPMCVL', b'rS1', b'rS2', b'rTCC', b'rTCI', b'rTCPOL', b'rTCS',\n",
       "       b'rTCV', b'rV1', b'rV2', b'rCC', b'lA1', b'lA2', b'lAMYG', b'lCCA',\n",
       "       b'lCCP', b'lCCR', b'lCCS', b'lFEF', b'lG', b'lHC', b'lIA', b'lIP',\n",
       "       b'lM1', b'lPCI', b'lPCIP', b'lPCM', b'lPCS', b'lPFCCL', b'lPFCDL',\n",
       "       b'lPFCDM', b'lPFCM', b'lPFCORB', b'lPFCPOL', b'lPFCVL', b'lPHC',\n",
       "       b'lPMCDL', b'lPMCM', b'lPMCVL', b'lS1', b'lS2', b'lTCC', b'lTCI',\n",
       "       b'lTCPOL', b'lTCS', b'lTCV', b'lV1', b'lV2', b'lCC'], dtype=object)"
      ]
     },
     "execution_count": 95,
     "metadata": {},
     "output_type": "execute_result"
    },
    {
     "name": "stdout",
     "output_type": "stream",
     "text": [
      "Creating folder `../output\\sub-P0kvO`\n",
      "Creating folder `../output\\sub-P0kvO\\net`\n",
      "Creating folder `../output\\sub-P0kvO\\spatial`\n",
      "Creating folder `../output\\sub-P0kvO\\ts`\n"
     ]
    }
   ],
   "source": [
    "data['region_labels'][:]"
   ]
  },
  {
   "cell_type": "code",
   "execution_count": 97,
   "metadata": {
    "pycharm": {
     "name": "#%%\n"
    }
   },
   "outputs": [
    {
     "data": {
      "text/plain": [
       "array([[2., 2., 0., ..., 0., 0., 0.],\n",
       "       [3., 2., 0., ..., 0., 0., 0.],\n",
       "       [0., 0., 2., ..., 0., 0., 0.],\n",
       "       ...,\n",
       "       [0., 0., 0., ..., 2., 2., 0.],\n",
       "       [0., 0., 0., ..., 3., 2., 0.],\n",
       "       [0., 0., 0., ..., 0., 0., 0.]])"
      ]
     },
     "execution_count": 97,
     "metadata": {},
     "output_type": "execute_result"
    }
   ],
   "source": [
    "data['weights'][:]"
   ]
  },
  {
   "cell_type": "code",
   "execution_count": 15,
   "metadata": {
    "pycharm": {
     "name": "#%%\n"
    }
   },
   "outputs": [
    {
     "data": {
      "text/plain": [
       "array([[ -9.885591, -47.084818,  -3.13936 ],\n",
       "       [ -2.605247, -55.324507,  -7.065423],\n",
       "       [  6.489431, -11.670519, -30.851544],\n",
       "       [ 48.734149,  -2.004701,   8.019123],\n",
       "       [-12.1714  ,  -6.494719,  25.361539],\n",
       "       [-38.1525  , -13.054752,  -5.607666],\n",
       "       [ 30.150795,  -4.286333, -31.136279],\n",
       "       [ 30.400644, -33.753689,  34.832572],\n",
       "       [ 36.159029, -35.084312, -18.938829],\n",
       "       [-12.502286, -24.875165, -20.872351],\n",
       "       [ 23.242996, -42.031295, -22.110624],\n",
       "       [  9.822772, -44.114976, -18.760442],\n",
       "       [  8.003023, -32.833685,  38.712349],\n",
       "       [-22.152851, -56.734891,  16.852029],\n",
       "       [-51.151034, -35.899675,  25.679908],\n",
       "       [-43.927847,  -8.226723,  27.584594],\n",
       "       [-30.092058, -33.534852,  43.097159],\n",
       "       [ 54.048553, -37.427609,  12.535183],\n",
       "       [ 59.995574, -14.366518,  26.025739],\n",
       "       [ 59.612735,  -2.407101,  -0.844581],\n",
       "       [ 59.286775,  -2.547348, -21.924281],\n",
       "       [ 47.987255, -16.887697, -39.699154],\n",
       "       [ 79.213202, -15.623481, -15.95848 ],\n",
       "       [ 53.338325, -45.334367, -18.998421],\n",
       "       [-14.49484 , -20.328269, -27.617052],\n",
       "       [ 23.765633, -21.600569,  45.97906 ],\n",
       "       [ 18.273358,  -4.266078,  38.071488],\n",
       "       [ 31.270899, -53.183604,  -3.211336],\n",
       "       [ -6.551567, -40.92204 ,  34.412733],\n",
       "       [  6.093876, -48.998009,  -7.897234],\n",
       "       [ -8.613724, -59.8286  , -27.915417],\n",
       "       [-23.429795, -51.025923, -39.842084],\n",
       "       [ 18.541141, -24.947459, -60.138766],\n",
       "       [  9.897209, -53.324915, -23.790822],\n",
       "       [-31.897851, -30.247588, -33.028094],\n",
       "       [-70.449382, -12.870265, -11.423195],\n",
       "       [-68.477071, -22.67342 ,  -1.619763],\n",
       "       [ 15.139377,  -2.224858,  -1.191818],\n",
       "       [ -9.810758,  42.258358,  -0.196899],\n",
       "       [ -7.680012,  58.825146,  -1.913986],\n",
       "       [  7.671771,  16.535084, -32.110169],\n",
       "       [ 39.281208,   4.486598,  10.191669],\n",
       "       [-11.349411,   1.901778,  21.476145],\n",
       "       [-33.137736,  10.478931,  -5.472519],\n",
       "       [ 28.220495,   8.508825, -31.633256],\n",
       "       [ 25.33148 ,  38.587971,  32.110488],\n",
       "       [ 37.054464,  40.364252, -30.482399],\n",
       "       [-10.680653,  11.558159, -17.518622],\n",
       "       [ 30.412158,  39.619089, -25.426555],\n",
       "       [  9.534895,  45.586715, -15.697951],\n",
       "       [  6.077868,  34.161497,  35.327252],\n",
       "       [-23.959151,  52.704826,  22.570164],\n",
       "       [-51.903028,  33.658259,  25.071224],\n",
       "       [-41.261623,   3.156065,  31.680186],\n",
       "       [-33.257143,  25.624607,  48.06079 ],\n",
       "       [ 55.048683,  36.907935,  12.70272 ],\n",
       "       [ 55.995996,  19.842407,  26.675811],\n",
       "       [ 54.133613,   5.459295,   8.870544],\n",
       "       [ 54.173949,   6.505508, -16.27533 ],\n",
       "       [ 49.265878,  17.275875, -40.963937],\n",
       "       [ 77.946877,  20.707769, -18.710748],\n",
       "       [ 52.237054,  48.425978, -14.636575],\n",
       "       [ -8.0653  ,  19.20328 , -31.944175],\n",
       "       [ 21.399859,  21.199044,  48.314342],\n",
       "       [ 16.534061,   2.192421,  40.922159],\n",
       "       [ 28.761381,  51.960267,  -2.848827],\n",
       "       [-10.91018 ,  34.40576 ,  39.609319],\n",
       "       [  4.454994,  51.654279,  -5.310949],\n",
       "       [-14.078617,  60.366031, -27.023514],\n",
       "       [-21.635537,  52.591846, -40.625765],\n",
       "       [ 28.610946,  33.291033, -57.766536],\n",
       "       [ -0.096289,  57.879062, -18.031089],\n",
       "       [-22.27433 ,  30.547326, -39.308739],\n",
       "       [-60.66705 ,  12.165386,  -6.554734],\n",
       "       [-66.770666,  19.431384,  -4.138797],\n",
       "       [ 13.284878,   1.185569,  -2.739093]])"
      ]
     },
     "execution_count": 15,
     "metadata": {},
     "output_type": "execute_result"
    }
   ],
   "source": [
    "data['centres'][:]"
   ]
  },
  {
   "cell_type": "code",
   "execution_count": null,
   "metadata": {
    "pycharm": {
     "name": "#%%\n"
    }
   },
   "outputs": [],
   "source": []
  },
  {
   "cell_type": "code",
   "execution_count": null,
   "metadata": {
    "pycharm": {
     "name": "#%%\n"
    }
   },
   "outputs": [],
   "source": []
  },
  {
   "cell_type": "code",
   "execution_count": null,
   "metadata": {
    "pycharm": {
     "name": "#%%\n"
    }
   },
   "outputs": [],
   "source": []
  },
  {
   "cell_type": "code",
   "execution_count": 60,
   "metadata": {
    "pycharm": {
     "name": "#%%\n"
    }
   },
   "outputs": [
    {
     "data": {
      "text/plain": [
       "{'__header__': b'MATLAB 5.0 MAT-file Platform: posix, Created on: Thu Apr 30 16:48:01 2020',\n",
       " '__version__': '1.0',\n",
       " '__globals__': [],\n",
       " 'subs_data': array([[[[  -3.84944715,   -1.96095335,   -2.69455228],\n",
       "          [  -4.04889455,   -1.98311898,   -2.33277659],\n",
       "          [  -3.94176721,   -2.05415186,   -2.87601393],\n",
       "          ...,\n",
       "          [  -4.29774122,   -1.85233491,   -2.90531064],\n",
       "          [  -4.49811713,   -1.65955181,   -2.68645867],\n",
       "          [  -3.88675838,   -2.01378071,   -2.872956  ]],\n",
       " \n",
       "         [[  -3.69193033,   -1.68575999,   -2.23651396],\n",
       "          [  -3.94768865,   -1.94424875,   -2.54331918],\n",
       "          [  -3.82984156,   -2.33304909,   -2.40755582],\n",
       "          ...,\n",
       "          [  -4.06293296,   -1.47831599,   -2.22740778],\n",
       "          [  -3.79118515,   -1.82996363,   -2.39362346],\n",
       "          [  -4.25364555,   -1.90993204,   -2.78710827]]],\n",
       " \n",
       " \n",
       "        [[[ -65.38614263,  -30.49315838,  -45.18039752],\n",
       "          [ -64.89151942,  -30.94269337,  -42.84714715],\n",
       "          [ -64.06632194,  -31.44982939,  -48.81855006],\n",
       "          ...,\n",
       "          [ -67.15779838,  -32.0517578 ,  -48.25236184],\n",
       "          [ -68.15778024,  -28.02469507,  -45.71054473],\n",
       "          [ -63.300245  ,  -32.63647743,  -48.58933142]],\n",
       " \n",
       "         [[ -60.45326594,  -29.20050689,  -42.52501082],\n",
       "          [ -61.17422849,  -32.02943294,  -43.77094898],\n",
       "          [ -62.51597683,  -34.48706965,  -42.29118422],\n",
       "          ...,\n",
       "          [ -65.54266897,  -27.24222214,  -41.19559885],\n",
       "          [ -61.62157429,  -29.73902214,  -42.75910256],\n",
       "          [ -64.63684106,  -32.83421984,  -45.89976977]]],\n",
       " \n",
       " \n",
       "        [[[-176.90604157,  -77.70131917, -128.89390499],\n",
       "          [-179.8109381 ,  -86.67687257, -124.0538121 ],\n",
       "          [-180.31805057,  -82.52513468, -134.97888461],\n",
       "          ...,\n",
       "          [-180.22561257,  -89.94693476, -132.32782114],\n",
       "          [-184.77876329,  -79.08263708, -128.6767334 ],\n",
       "          [-174.27521561,  -87.6339739 , -136.11369347]],\n",
       " \n",
       "         [[-167.19000781,  -86.71365819, -125.03246026],\n",
       "          [-167.70197459,  -87.36378414, -120.45355501],\n",
       "          [-170.21116708,  -90.44425711, -123.2614915 ],\n",
       "          ...,\n",
       "          [-173.2919946 ,  -77.26976122, -120.88280484],\n",
       "          [-167.3909922 ,  -84.9814888 , -120.38933504],\n",
       "          [-174.79366581,  -90.07139824, -129.56635943]]],\n",
       " \n",
       " \n",
       "        ...,\n",
       " \n",
       " \n",
       "        [[[-218.13236911, -105.41969461, -157.2924019 ],\n",
       "          [-209.16870728,  -99.91816466, -149.73221896],\n",
       "          [-217.72682955, -101.22213488, -152.08054072],\n",
       "          ...,\n",
       "          [-203.74335834,  -97.28154502, -156.96610732],\n",
       "          [-209.94721708,  -91.39262348, -156.54654098],\n",
       "          [-204.57777353, -102.08760257, -147.39188702]],\n",
       " \n",
       "         [[-200.18419465,  -94.40748322, -145.74226784],\n",
       "          [-201.9947415 , -101.88184921, -152.25438028],\n",
       "          [-207.4975891 , -104.06533185, -148.60104289],\n",
       "          ...,\n",
       "          [-194.81856179,  -94.58702411, -145.79940363],\n",
       "          [-198.9646029 , -103.06760112, -132.57270113],\n",
       "          [-214.7556917 , -100.36198579, -147.66869133]]],\n",
       " \n",
       " \n",
       "        [[[-212.13730509, -105.8320678 , -160.969461  ],\n",
       "          [-206.7811005 , -102.64709441, -151.58740099],\n",
       "          [-218.83162284, -106.71794408, -155.19272752],\n",
       "          ...,\n",
       "          [-203.00721703,  -97.9758271 , -159.08451612],\n",
       "          [-205.34343424,  -90.66840467, -162.21911055],\n",
       "          [-205.97081503, -106.29459526, -152.15515115]],\n",
       " \n",
       "         [[-200.47172539,  -96.91832061, -142.12432828],\n",
       "          [-200.8703514 ,  -98.0328392 , -150.58462451],\n",
       "          [-204.41864185, -105.58499992, -150.60247707],\n",
       "          ...,\n",
       "          [-199.76862847,  -96.65640452, -143.88027253],\n",
       "          [-198.27712081, -100.3159331 , -127.87483549],\n",
       "          [-217.5849658 , -103.55895637, -147.24791739]]],\n",
       " \n",
       " \n",
       "        [[[-205.52597606, -102.74517304, -160.03425881],\n",
       "          [-202.25518687,  -99.29718709, -152.23753298],\n",
       "          [-213.00217424, -113.00178266, -158.35810341],\n",
       "          ...,\n",
       "          [-202.25080528,  -93.74614025, -160.22914593],\n",
       "          [-200.76675981,  -95.83327522, -160.10210521],\n",
       "          [-205.39412116, -107.17893642, -158.57221667]],\n",
       " \n",
       "         [[-201.57670375,  -95.33121664, -140.91688516],\n",
       "          [-201.55102284,  -94.20279144, -144.28566453],\n",
       "          [-203.70799676, -106.45626011, -152.7313234 ],\n",
       "          ...,\n",
       "          [-200.9932846 ,  -97.10745571, -141.87562075],\n",
       "          [-197.65343781,  -99.2595278 , -128.83068144],\n",
       "          [-214.311731  , -105.56726997, -150.54262675]]]]),\n",
       " 'subs_time': array([[  2000.,   4000.,   6000.,   8000.,  10000.,  12000.,  14000.,\n",
       "          16000.,  18000.,  20000.,  22000.,  24000.,  26000.,  28000.,\n",
       "          30000.,  32000.,  34000.,  36000.,  38000.,  40000.,  42000.,\n",
       "          44000.,  46000.,  48000.,  50000.,  52000.,  54000.,  56000.,\n",
       "          58000.,  60000.,  62000.,  64000.,  66000.,  68000.,  70000.,\n",
       "          72000.,  74000.,  76000.,  78000.,  80000.,  82000.,  84000.,\n",
       "          86000.,  88000.,  90000.,  92000.,  94000.,  96000.,  98000.,\n",
       "         100000., 102000., 104000., 106000., 108000., 110000., 112000.,\n",
       "         114000., 116000., 118000., 120000., 122000., 124000., 126000.,\n",
       "         128000., 130000., 132000., 134000., 136000., 138000., 140000.]])}"
      ]
     },
     "execution_count": 60,
     "metadata": {},
     "output_type": "execute_result"
    }
   ],
   "source": [
    "loadmat(\"C:\\\\Users\\\\dinar\\\\Desktop\\\\simulated_data\\\\1\\\\MSE\\\\P2_log_SC_long_bold_csf_0.1_K11_0.1_K12_0.1.mat\")"
   ]
  },
  {
   "cell_type": "code",
   "execution_count": null,
   "metadata": {
    "pycharm": {
     "name": "#%%\n"
    }
   },
   "outputs": [],
   "source": []
  },
  {
   "cell_type": "code",
   "execution_count": null,
   "metadata": {
    "pycharm": {
     "name": "#%%\n"
    }
   },
   "outputs": [],
   "source": []
  },
  {
   "cell_type": "code",
   "execution_count": 16,
   "metadata": {
    "pycharm": {
     "name": "#%%\n"
    }
   },
   "outputs": [],
   "source": [
    "import mat73\n",
    "from scipy.io import loadmat"
   ]
  },
  {
   "cell_type": "code",
   "execution_count": 10,
   "metadata": {
    "pycharm": {
     "name": "#%%\n"
    }
   },
   "outputs": [
    {
     "data": {
      "text/plain": [
       "array(['Time          ', 'State Variable', 'Region        ',\n",
       "       'Neurons       '], dtype='<U14')"
      ]
     },
     "execution_count": 10,
     "metadata": {},
     "output_type": "execute_result"
    }
   ],
   "source": [
    "data = loadmat('C:\\\\Users\\\\dinar\\\\Desktop\\\\simulated_data\\\\1\\\\DBS\\\\newest_timeseries\\\\GPi_stim\\\\tvb_timeseries.mat',\n",
    "               squeeze_me=True)\n",
    "data['dims']"
   ]
  },
  {
   "cell_type": "code",
   "execution_count": 53,
   "metadata": {
    "pycharm": {
     "name": "#%%\n"
    }
   },
   "outputs": [
    {
     "data": {
      "text/plain": [
       "['dims', 'attrs', 'data', 'coords', 'transient']"
      ]
     },
     "execution_count": 53,
     "metadata": {},
     "output_type": "execute_result"
    }
   ],
   "source": [
    "def find_mat_array(mat):\n",
    "    data = []\n",
    "\n",
    "    for k, v in mat.items():\n",
    "        if type(v) not in [bytes, str, list]:\n",
    "            data.append(k)\n",
    "\n",
    "    return data\n",
    "\n",
    "\n",
    "find_mat_array(data)"
   ]
  },
  {
   "cell_type": "code",
   "execution_count": 55,
   "metadata": {
    "pycharm": {
     "name": "#%%\n"
    }
   },
   "outputs": [
    {
     "data": {
      "text/plain": [
       "{'__header__': b'MATLAB 5.0 MAT-file Platform: posix, Created on: Thu Mar 25 16:23:45 2021',\n",
       " '__version__': '1.0',\n",
       " '__globals__': [],\n",
       " 'dims': array(['Time          ', 'State Variable', 'Region        ',\n",
       "        'Neurons       '], dtype='<U14'),\n",
       " 'attrs': None,\n",
       " 'data': array([[[9.24158645e-02, 8.96056728e-02, 4.89930394e-02, ...,\n",
       "          1.01463449e-01, 1.55864629e-02, 5.87542230e-02],\n",
       "         [1.71684241e+00, 1.73930070e+00, 1.80429717e+00, ...,\n",
       "          0.00000000e+00, 2.69357687e-04, 1.10159536e-02],\n",
       "         [1.31146622e+00, 1.31892330e+00, 1.34228813e+00, ...,\n",
       "          8.75345250e-01, 4.67516590e-01, 6.83007184e-01],\n",
       "         [0.00000000e+00, 0.00000000e+00, 0.00000000e+00, ...,\n",
       "          0.00000000e+00, 0.00000000e+00, 0.00000000e+00],\n",
       "         [3.39237277e-01, 3.34011871e-01, 5.75926660e-01, ...,\n",
       "          3.22753203e-01, 3.02678035e-01, 3.14682057e-01]],\n",
       " \n",
       "        [[9.15398269e-02, 9.09408421e-02, 4.88707572e-02, ...,\n",
       "          1.00317053e-01, 1.22318579e-02, 5.47590293e-02],\n",
       "         [1.71147984e+00, 1.73721764e+00, 1.80401869e+00, ...,\n",
       "          4.86993512e-03, 5.56826672e-04, 6.19613245e-03],\n",
       "         [1.31028333e+00, 1.31882550e+00, 1.34324129e+00, ...,\n",
       "          9.04258234e-01, 4.82442158e-01, 6.64427306e-01],\n",
       "         [0.00000000e+00, 0.00000000e+00, 0.00000000e+00, ...,\n",
       "          0.00000000e+00, 0.00000000e+00, 0.00000000e+00],\n",
       "         [3.39755365e-01, 3.33863630e-01, 5.76614888e-01, ...,\n",
       "          3.23824632e-01, 3.03659857e-01, 3.13796079e-01]],\n",
       " \n",
       "        [[8.83271583e-02, 9.39642906e-02, 4.56392404e-02, ...,\n",
       "          1.07358935e-01, 6.71596530e-03, 6.42790191e-02],\n",
       "         [1.70104358e+00, 1.73480282e+00, 1.80484529e+00, ...,\n",
       "          2.34888228e-03, 0.00000000e+00, 7.28593479e-03],\n",
       "         [1.30823539e+00, 1.31803552e+00, 1.34313763e+00, ...,\n",
       "          8.96914510e-01, 4.70433300e-01, 6.45258494e-01],\n",
       "         [0.00000000e+00, 0.00000000e+00, 0.00000000e+00, ...,\n",
       "          0.00000000e+00, 0.00000000e+00, 0.00000000e+00],\n",
       "         [3.39549663e-01, 3.34013051e-01, 5.76586175e-01, ...,\n",
       "          3.23555447e-01, 3.02872163e-01, 3.12857968e-01]],\n",
       " \n",
       "        ...,\n",
       " \n",
       "        [[1.33813968e-01, 1.62156318e-01, 7.05232044e-02, ...,\n",
       "          2.86236238e-01, 2.75018002e-02, 1.64739674e-01],\n",
       "         [1.68188152e+00, 1.47576322e+00, 1.38336603e+00, ...,\n",
       "          4.97535007e-01, 1.10763344e-01, 1.05278529e-01],\n",
       "         [1.29921529e+00, 1.21665344e+00, 1.17470762e+00, ...,\n",
       "          3.07086693e+00, 5.11615250e-01, 1.38035369e+00],\n",
       "         [0.00000000e+00, 0.00000000e+00, 0.00000000e+00, ...,\n",
       "          0.00000000e+00, 0.00000000e+00, 0.00000000e+00],\n",
       "         [3.62436734e-01, 3.67400831e-01, 5.89135626e-01, ...,\n",
       "          3.67570909e-01, 3.05500254e-01, 3.38122401e-01]],\n",
       " \n",
       "        [[1.30105797e-01, 1.70401447e-01, 7.20364890e-02, ...,\n",
       "          2.83554775e-01, 2.76148426e-02, 1.50534772e-01],\n",
       "         [1.68329865e+00, 1.47278763e+00, 1.38416869e+00, ...,\n",
       "          4.99652003e-01, 1.10621879e-01, 1.09545983e-01],\n",
       "         [1.29687375e+00, 1.21480995e+00, 1.17616582e+00, ...,\n",
       "          3.04298657e+00, 5.27429237e-01, 1.40282077e+00],\n",
       "         [0.00000000e+00, 0.00000000e+00, 0.00000000e+00, ...,\n",
       "          0.00000000e+00, 0.00000000e+00, 0.00000000e+00],\n",
       "         [3.62177971e-01, 3.70113704e-01, 5.91646798e-01, ...,\n",
       "          3.67211131e-01, 3.06457698e-01, 3.38682523e-01]],\n",
       " \n",
       "        [[1.34798646e-01, 1.77254470e-01, 6.41924262e-02, ...,\n",
       "          2.79683345e-01, 3.42407811e-02, 1.49373208e-01],\n",
       "         [1.68104909e+00, 1.46476586e+00, 1.38428411e+00, ...,\n",
       "          5.07098316e-01, 1.10774509e-01, 9.83936456e-02],\n",
       "         [1.29742000e+00, 1.21358462e+00, 1.17650699e+00, ...,\n",
       "          2.99467923e+00, 5.27874016e-01, 1.27360592e+00],\n",
       "         [0.00000000e+00, 0.00000000e+00, 0.00000000e+00, ...,\n",
       "          0.00000000e+00, 0.00000000e+00, 0.00000000e+00],\n",
       "         [3.61092677e-01, 3.70521402e-01, 5.90848248e-01, ...,\n",
       "          3.66581497e-01, 3.06484241e-01, 3.35347070e-01]]]),\n",
       " 'coords': array((array(('State Variable', None, array(['S   ', 'Rint', 'R   ', 'Rin ', 'I   '], dtype='<U4')),\n",
       "       dtype=[('dims', 'O'), ('attrs', 'O'), ('data', 'O')]), array(('Region', None, array(['GPe_Left            ', 'GPi_Left            ',\n",
       "        'STN_Left            ', 'Striatum_Left       ',\n",
       "        'Thal_Left           ', 'Precentral_L        ',\n",
       "        'Frontal_Sup_2_L     ', 'Frontal_Mid_2_L     ',\n",
       "        'Frontal_Inf_Oper_L  ', 'Frontal_Inf_Tri_L   ',\n",
       "        'Frontal_Inf_Orb_2_L ', 'Rolandic_Oper_L     ',\n",
       "        'Supp_Motor_Area_L   ', 'Olfactory_L         ',\n",
       "        'Frontal_Sup_Medial_L', 'Frontal_Med_Orb_L   ',\n",
       "        'Rectus_L            ', 'OFCmed_L            ',\n",
       "        'OFCant_L            ', 'OFCpost_L           ',\n",
       "        'OFClat_L            ', 'Insula_L            ',\n",
       "        'Cingulate_Ant_L     ', 'Cingulate_Mid_L     ',\n",
       "        'Cingulate_Post_L    ', 'Hippocampus_L       ',\n",
       "        'ParaHippocampal_L   ', 'Amygdala_L          ',\n",
       "        'Calcarine_L         ', 'Cuneus_L            ',\n",
       "        'Lingual_L           ', 'Occipital_Sup_L     ',\n",
       "        'Occipital_Mid_L     ', 'Occipital_Inf_L     ',\n",
       "        'Fusiform_L          ', 'Postcentral_L       ',\n",
       "        'Parietal_Sup_L      ', 'Parietal_Inf_L      ',\n",
       "        'SupraMarginal_L     ', 'Angular_L           ',\n",
       "        'Precuneus_L         ', 'Paracentral_Lobule_L',\n",
       "        'Heschl_L            ', 'Temporal_Sup_L      ',\n",
       "        'Temporal_Pole_Sup_L ', 'Temporal_Mid_L      ',\n",
       "        'Temporal_Pole_Mid_L ', 'Temporal_Inf_L      ',\n",
       "        'Cerebelum_Crus1_L   ', 'Cerebelum_Crus2_L   ',\n",
       "        'Cerebelum_3_L       ', 'Cerebelum_4_5_L     ',\n",
       "        'Cerebelum_6_L       ', 'Cerebelum_7b_L      ',\n",
       "        'Cerebelum_8_L       ', 'Cerebelum_9_L       ',\n",
       "        'Cerebelum_10_L      '], dtype='<U20')),\n",
       "       dtype=[('dims', 'O'), ('attrs', 'O'), ('data', 'O')]), array(('Time', None, array([0.000e+00, 1.000e-01, 2.000e-01, ..., 9.996e+02, 9.997e+02,\n",
       "        9.998e+02])), dtype=[('dims', 'O'), ('attrs', 'O'), ('data', 'O')])),\n",
       "       dtype=[('State Variable', 'O'), ('Region', 'O'), ('Time', 'O')]),\n",
       " 'name': 'Region Time Series',\n",
       " 'transient': 500.0}"
      ]
     },
     "execution_count": 55,
     "metadata": {},
     "output_type": "execute_result"
    },
    {
     "name": "stdout",
     "output_type": "stream",
     "text": [
      "['ALS_binary', 'ALS_weighted', 'HC_binary', 'HC_weighted', 'coord', 'regionDescriptions']\n"
     ]
    }
   ],
   "source": [
    "data"
   ]
  },
  {
   "cell_type": "code",
   "execution_count": 54,
   "metadata": {
    "pycharm": {
     "name": "#%%\n"
    }
   },
   "outputs": [
    {
     "data": {
      "text/plain": [
       "numpy.ndarray"
      ]
     },
     "execution_count": 54,
     "metadata": {},
     "output_type": "execute_result"
    }
   ],
   "source": [
    "type(data['coords'])"
   ]
  },
  {
   "cell_type": "code",
   "execution_count": 11,
   "metadata": {
    "pycharm": {
     "name": "#%%\n"
    }
   },
   "outputs": [],
   "source": [
    "data['attrs']"
   ]
  },
  {
   "cell_type": "code",
   "execution_count": 12,
   "metadata": {
    "pycharm": {
     "name": "#%%\n"
    }
   },
   "outputs": [
    {
     "data": {
      "text/plain": [
       "array([[[9.24158645e-02, 8.96056728e-02, 4.89930394e-02, ...,\n",
       "         1.01463449e-01, 1.55864629e-02, 5.87542230e-02],\n",
       "        [1.71684241e+00, 1.73930070e+00, 1.80429717e+00, ...,\n",
       "         0.00000000e+00, 2.69357687e-04, 1.10159536e-02],\n",
       "        [1.31146622e+00, 1.31892330e+00, 1.34228813e+00, ...,\n",
       "         8.75345250e-01, 4.67516590e-01, 6.83007184e-01],\n",
       "        [0.00000000e+00, 0.00000000e+00, 0.00000000e+00, ...,\n",
       "         0.00000000e+00, 0.00000000e+00, 0.00000000e+00],\n",
       "        [3.39237277e-01, 3.34011871e-01, 5.75926660e-01, ...,\n",
       "         3.22753203e-01, 3.02678035e-01, 3.14682057e-01]],\n",
       "\n",
       "       [[9.15398269e-02, 9.09408421e-02, 4.88707572e-02, ...,\n",
       "         1.00317053e-01, 1.22318579e-02, 5.47590293e-02],\n",
       "        [1.71147984e+00, 1.73721764e+00, 1.80401869e+00, ...,\n",
       "         4.86993512e-03, 5.56826672e-04, 6.19613245e-03],\n",
       "        [1.31028333e+00, 1.31882550e+00, 1.34324129e+00, ...,\n",
       "         9.04258234e-01, 4.82442158e-01, 6.64427306e-01],\n",
       "        [0.00000000e+00, 0.00000000e+00, 0.00000000e+00, ...,\n",
       "         0.00000000e+00, 0.00000000e+00, 0.00000000e+00],\n",
       "        [3.39755365e-01, 3.33863630e-01, 5.76614888e-01, ...,\n",
       "         3.23824632e-01, 3.03659857e-01, 3.13796079e-01]],\n",
       "\n",
       "       [[8.83271583e-02, 9.39642906e-02, 4.56392404e-02, ...,\n",
       "         1.07358935e-01, 6.71596530e-03, 6.42790191e-02],\n",
       "        [1.70104358e+00, 1.73480282e+00, 1.80484529e+00, ...,\n",
       "         2.34888228e-03, 0.00000000e+00, 7.28593479e-03],\n",
       "        [1.30823539e+00, 1.31803552e+00, 1.34313763e+00, ...,\n",
       "         8.96914510e-01, 4.70433300e-01, 6.45258494e-01],\n",
       "        [0.00000000e+00, 0.00000000e+00, 0.00000000e+00, ...,\n",
       "         0.00000000e+00, 0.00000000e+00, 0.00000000e+00],\n",
       "        [3.39549663e-01, 3.34013051e-01, 5.76586175e-01, ...,\n",
       "         3.23555447e-01, 3.02872163e-01, 3.12857968e-01]],\n",
       "\n",
       "       ...,\n",
       "\n",
       "       [[1.33813968e-01, 1.62156318e-01, 7.05232044e-02, ...,\n",
       "         2.86236238e-01, 2.75018002e-02, 1.64739674e-01],\n",
       "        [1.68188152e+00, 1.47576322e+00, 1.38336603e+00, ...,\n",
       "         4.97535007e-01, 1.10763344e-01, 1.05278529e-01],\n",
       "        [1.29921529e+00, 1.21665344e+00, 1.17470762e+00, ...,\n",
       "         3.07086693e+00, 5.11615250e-01, 1.38035369e+00],\n",
       "        [0.00000000e+00, 0.00000000e+00, 0.00000000e+00, ...,\n",
       "         0.00000000e+00, 0.00000000e+00, 0.00000000e+00],\n",
       "        [3.62436734e-01, 3.67400831e-01, 5.89135626e-01, ...,\n",
       "         3.67570909e-01, 3.05500254e-01, 3.38122401e-01]],\n",
       "\n",
       "       [[1.30105797e-01, 1.70401447e-01, 7.20364890e-02, ...,\n",
       "         2.83554775e-01, 2.76148426e-02, 1.50534772e-01],\n",
       "        [1.68329865e+00, 1.47278763e+00, 1.38416869e+00, ...,\n",
       "         4.99652003e-01, 1.10621879e-01, 1.09545983e-01],\n",
       "        [1.29687375e+00, 1.21480995e+00, 1.17616582e+00, ...,\n",
       "         3.04298657e+00, 5.27429237e-01, 1.40282077e+00],\n",
       "        [0.00000000e+00, 0.00000000e+00, 0.00000000e+00, ...,\n",
       "         0.00000000e+00, 0.00000000e+00, 0.00000000e+00],\n",
       "        [3.62177971e-01, 3.70113704e-01, 5.91646798e-01, ...,\n",
       "         3.67211131e-01, 3.06457698e-01, 3.38682523e-01]],\n",
       "\n",
       "       [[1.34798646e-01, 1.77254470e-01, 6.41924262e-02, ...,\n",
       "         2.79683345e-01, 3.42407811e-02, 1.49373208e-01],\n",
       "        [1.68104909e+00, 1.46476586e+00, 1.38428411e+00, ...,\n",
       "         5.07098316e-01, 1.10774509e-01, 9.83936456e-02],\n",
       "        [1.29742000e+00, 1.21358462e+00, 1.17650699e+00, ...,\n",
       "         2.99467923e+00, 5.27874016e-01, 1.27360592e+00],\n",
       "        [0.00000000e+00, 0.00000000e+00, 0.00000000e+00, ...,\n",
       "         0.00000000e+00, 0.00000000e+00, 0.00000000e+00],\n",
       "        [3.61092677e-01, 3.70521402e-01, 5.90848248e-01, ...,\n",
       "         3.66581497e-01, 3.06484241e-01, 3.35347070e-01]]])"
      ]
     },
     "execution_count": 12,
     "metadata": {},
     "output_type": "execute_result"
    }
   ],
   "source": [
    "data['data']"
   ]
  },
  {
   "cell_type": "code",
   "execution_count": 18,
   "metadata": {
    "pycharm": {
     "name": "#%%\n"
    }
   },
   "outputs": [
    {
     "data": {
      "text/plain": [
       "['T',\n",
       " '__abs__',\n",
       " '__add__',\n",
       " '__and__',\n",
       " '__array__',\n",
       " '__array_finalize__',\n",
       " '__array_function__',\n",
       " '__array_interface__',\n",
       " '__array_prepare__',\n",
       " '__array_priority__',\n",
       " '__array_struct__',\n",
       " '__array_ufunc__',\n",
       " '__array_wrap__',\n",
       " '__bool__',\n",
       " '__class__',\n",
       " '__class_getitem__',\n",
       " '__complex__',\n",
       " '__contains__',\n",
       " '__copy__',\n",
       " '__deepcopy__',\n",
       " '__delattr__',\n",
       " '__delitem__',\n",
       " '__dir__',\n",
       " '__divmod__',\n",
       " '__dlpack__',\n",
       " '__dlpack_device__',\n",
       " '__doc__',\n",
       " '__eq__',\n",
       " '__float__',\n",
       " '__floordiv__',\n",
       " '__format__',\n",
       " '__ge__',\n",
       " '__getattribute__',\n",
       " '__getitem__',\n",
       " '__gt__',\n",
       " '__hash__',\n",
       " '__iadd__',\n",
       " '__iand__',\n",
       " '__ifloordiv__',\n",
       " '__ilshift__',\n",
       " '__imatmul__',\n",
       " '__imod__',\n",
       " '__imul__',\n",
       " '__index__',\n",
       " '__init__',\n",
       " '__init_subclass__',\n",
       " '__int__',\n",
       " '__invert__',\n",
       " '__ior__',\n",
       " '__ipow__',\n",
       " '__irshift__',\n",
       " '__isub__',\n",
       " '__iter__',\n",
       " '__itruediv__',\n",
       " '__ixor__',\n",
       " '__le__',\n",
       " '__len__',\n",
       " '__lshift__',\n",
       " '__lt__',\n",
       " '__matmul__',\n",
       " '__mod__',\n",
       " '__mul__',\n",
       " '__ne__',\n",
       " '__neg__',\n",
       " '__new__',\n",
       " '__or__',\n",
       " '__pos__',\n",
       " '__pow__',\n",
       " '__radd__',\n",
       " '__rand__',\n",
       " '__rdivmod__',\n",
       " '__reduce__',\n",
       " '__reduce_ex__',\n",
       " '__repr__',\n",
       " '__rfloordiv__',\n",
       " '__rlshift__',\n",
       " '__rmatmul__',\n",
       " '__rmod__',\n",
       " '__rmul__',\n",
       " '__ror__',\n",
       " '__rpow__',\n",
       " '__rrshift__',\n",
       " '__rshift__',\n",
       " '__rsub__',\n",
       " '__rtruediv__',\n",
       " '__rxor__',\n",
       " '__setattr__',\n",
       " '__setitem__',\n",
       " '__setstate__',\n",
       " '__sizeof__',\n",
       " '__str__',\n",
       " '__sub__',\n",
       " '__subclasshook__',\n",
       " '__truediv__',\n",
       " '__xor__',\n",
       " 'all',\n",
       " 'any',\n",
       " 'argmax',\n",
       " 'argmin',\n",
       " 'argpartition',\n",
       " 'argsort',\n",
       " 'astype',\n",
       " 'base',\n",
       " 'byteswap',\n",
       " 'choose',\n",
       " 'clip',\n",
       " 'compress',\n",
       " 'conj',\n",
       " 'conjugate',\n",
       " 'copy',\n",
       " 'ctypes',\n",
       " 'cumprod',\n",
       " 'cumsum',\n",
       " 'data',\n",
       " 'diagonal',\n",
       " 'dot',\n",
       " 'dtype',\n",
       " 'dump',\n",
       " 'dumps',\n",
       " 'fill',\n",
       " 'flags',\n",
       " 'flat',\n",
       " 'flatten',\n",
       " 'getfield',\n",
       " 'imag',\n",
       " 'item',\n",
       " 'itemset',\n",
       " 'itemsize',\n",
       " 'max',\n",
       " 'mean',\n",
       " 'min',\n",
       " 'nbytes',\n",
       " 'ndim',\n",
       " 'newbyteorder',\n",
       " 'nonzero',\n",
       " 'partition',\n",
       " 'prod',\n",
       " 'ptp',\n",
       " 'put',\n",
       " 'ravel',\n",
       " 'real',\n",
       " 'repeat',\n",
       " 'reshape',\n",
       " 'resize',\n",
       " 'round',\n",
       " 'searchsorted',\n",
       " 'setfield',\n",
       " 'setflags',\n",
       " 'shape',\n",
       " 'size',\n",
       " 'sort',\n",
       " 'squeeze',\n",
       " 'std',\n",
       " 'strides',\n",
       " 'sum',\n",
       " 'swapaxes',\n",
       " 'take',\n",
       " 'tobytes',\n",
       " 'tofile',\n",
       " 'tolist',\n",
       " 'tostring',\n",
       " 'trace',\n",
       " 'transpose',\n",
       " 'var',\n",
       " 'view']"
      ]
     },
     "execution_count": 18,
     "metadata": {},
     "output_type": "execute_result"
    }
   ],
   "source": [
    "dir(data['coords'])"
   ]
  },
  {
   "cell_type": "code",
   "execution_count": 36,
   "metadata": {
    "pycharm": {
     "name": "#%%\n"
    }
   },
   "outputs": [
    {
     "data": {
      "text/plain": [
       "['T',\n",
       " '__abs__',\n",
       " '__add__',\n",
       " '__and__',\n",
       " '__array__',\n",
       " '__array_finalize__',\n",
       " '__array_function__',\n",
       " '__array_interface__',\n",
       " '__array_prepare__',\n",
       " '__array_priority__',\n",
       " '__array_struct__',\n",
       " '__array_ufunc__',\n",
       " '__array_wrap__',\n",
       " '__bool__',\n",
       " '__class__',\n",
       " '__class_getitem__',\n",
       " '__complex__',\n",
       " '__contains__',\n",
       " '__copy__',\n",
       " '__deepcopy__',\n",
       " '__delattr__',\n",
       " '__delitem__',\n",
       " '__dir__',\n",
       " '__divmod__',\n",
       " '__dlpack__',\n",
       " '__dlpack_device__',\n",
       " '__doc__',\n",
       " '__eq__',\n",
       " '__float__',\n",
       " '__floordiv__',\n",
       " '__format__',\n",
       " '__ge__',\n",
       " '__getattribute__',\n",
       " '__getitem__',\n",
       " '__gt__',\n",
       " '__hash__',\n",
       " '__iadd__',\n",
       " '__iand__',\n",
       " '__ifloordiv__',\n",
       " '__ilshift__',\n",
       " '__imatmul__',\n",
       " '__imod__',\n",
       " '__imul__',\n",
       " '__index__',\n",
       " '__init__',\n",
       " '__init_subclass__',\n",
       " '__int__',\n",
       " '__invert__',\n",
       " '__ior__',\n",
       " '__ipow__',\n",
       " '__irshift__',\n",
       " '__isub__',\n",
       " '__iter__',\n",
       " '__itruediv__',\n",
       " '__ixor__',\n",
       " '__le__',\n",
       " '__len__',\n",
       " '__lshift__',\n",
       " '__lt__',\n",
       " '__matmul__',\n",
       " '__mod__',\n",
       " '__mul__',\n",
       " '__ne__',\n",
       " '__neg__',\n",
       " '__new__',\n",
       " '__or__',\n",
       " '__pos__',\n",
       " '__pow__',\n",
       " '__radd__',\n",
       " '__rand__',\n",
       " '__rdivmod__',\n",
       " '__reduce__',\n",
       " '__reduce_ex__',\n",
       " '__repr__',\n",
       " '__rfloordiv__',\n",
       " '__rlshift__',\n",
       " '__rmatmul__',\n",
       " '__rmod__',\n",
       " '__rmul__',\n",
       " '__ror__',\n",
       " '__rpow__',\n",
       " '__rrshift__',\n",
       " '__rshift__',\n",
       " '__rsub__',\n",
       " '__rtruediv__',\n",
       " '__rxor__',\n",
       " '__setattr__',\n",
       " '__setitem__',\n",
       " '__setstate__',\n",
       " '__sizeof__',\n",
       " '__str__',\n",
       " '__sub__',\n",
       " '__subclasshook__',\n",
       " '__truediv__',\n",
       " '__xor__',\n",
       " 'all',\n",
       " 'any',\n",
       " 'argmax',\n",
       " 'argmin',\n",
       " 'argpartition',\n",
       " 'argsort',\n",
       " 'astype',\n",
       " 'base',\n",
       " 'byteswap',\n",
       " 'choose',\n",
       " 'clip',\n",
       " 'compress',\n",
       " 'conj',\n",
       " 'conjugate',\n",
       " 'copy',\n",
       " 'ctypes',\n",
       " 'cumprod',\n",
       " 'cumsum',\n",
       " 'data',\n",
       " 'diagonal',\n",
       " 'dot',\n",
       " 'dtype',\n",
       " 'dump',\n",
       " 'dumps',\n",
       " 'fill',\n",
       " 'flags',\n",
       " 'flat',\n",
       " 'flatten',\n",
       " 'getfield',\n",
       " 'imag',\n",
       " 'item',\n",
       " 'itemset',\n",
       " 'itemsize',\n",
       " 'max',\n",
       " 'mean',\n",
       " 'min',\n",
       " 'nbytes',\n",
       " 'ndim',\n",
       " 'newbyteorder',\n",
       " 'nonzero',\n",
       " 'partition',\n",
       " 'prod',\n",
       " 'ptp',\n",
       " 'put',\n",
       " 'ravel',\n",
       " 'real',\n",
       " 'repeat',\n",
       " 'reshape',\n",
       " 'resize',\n",
       " 'round',\n",
       " 'searchsorted',\n",
       " 'setfield',\n",
       " 'setflags',\n",
       " 'shape',\n",
       " 'size',\n",
       " 'sort',\n",
       " 'squeeze',\n",
       " 'std',\n",
       " 'strides',\n",
       " 'sum',\n",
       " 'swapaxes',\n",
       " 'take',\n",
       " 'tobytes',\n",
       " 'tofile',\n",
       " 'tolist',\n",
       " 'tostring',\n",
       " 'trace',\n",
       " 'transpose',\n",
       " 'var',\n",
       " 'view']"
      ]
     },
     "execution_count": 36,
     "metadata": {},
     "output_type": "execute_result"
    }
   ],
   "source": [
    "dir(data['coords'])"
   ]
  },
  {
   "cell_type": "code",
   "execution_count": 37,
   "metadata": {
    "pycharm": {
     "name": "#%%\n"
    }
   },
   "outputs": [
    {
     "data": {
      "text/plain": [
       "500.0"
      ]
     },
     "execution_count": 37,
     "metadata": {},
     "output_type": "execute_result"
    }
   ],
   "source": [
    "data['transient']"
   ]
  },
  {
   "cell_type": "code",
   "execution_count": 38,
   "metadata": {
    "pycharm": {
     "name": "#%%\n"
    }
   },
   "outputs": [
    {
     "data": {
      "text/plain": [
       "{'__header__': b'MATLAB 5.0 MAT-file Platform: posix, Created on: Thu Mar 25 16:23:45 2021',\n",
       " '__version__': '1.0',\n",
       " '__globals__': [],\n",
       " 'dims': array(['Time          ', 'State Variable', 'Region        ',\n",
       "        'Neurons       '], dtype='<U14'),\n",
       " 'attrs': None,\n",
       " 'data': array([[[9.24158645e-02, 8.96056728e-02, 4.89930394e-02, ...,\n",
       "          1.01463449e-01, 1.55864629e-02, 5.87542230e-02],\n",
       "         [1.71684241e+00, 1.73930070e+00, 1.80429717e+00, ...,\n",
       "          0.00000000e+00, 2.69357687e-04, 1.10159536e-02],\n",
       "         [1.31146622e+00, 1.31892330e+00, 1.34228813e+00, ...,\n",
       "          8.75345250e-01, 4.67516590e-01, 6.83007184e-01],\n",
       "         [0.00000000e+00, 0.00000000e+00, 0.00000000e+00, ...,\n",
       "          0.00000000e+00, 0.00000000e+00, 0.00000000e+00],\n",
       "         [3.39237277e-01, 3.34011871e-01, 5.75926660e-01, ...,\n",
       "          3.22753203e-01, 3.02678035e-01, 3.14682057e-01]],\n",
       " \n",
       "        [[9.15398269e-02, 9.09408421e-02, 4.88707572e-02, ...,\n",
       "          1.00317053e-01, 1.22318579e-02, 5.47590293e-02],\n",
       "         [1.71147984e+00, 1.73721764e+00, 1.80401869e+00, ...,\n",
       "          4.86993512e-03, 5.56826672e-04, 6.19613245e-03],\n",
       "         [1.31028333e+00, 1.31882550e+00, 1.34324129e+00, ...,\n",
       "          9.04258234e-01, 4.82442158e-01, 6.64427306e-01],\n",
       "         [0.00000000e+00, 0.00000000e+00, 0.00000000e+00, ...,\n",
       "          0.00000000e+00, 0.00000000e+00, 0.00000000e+00],\n",
       "         [3.39755365e-01, 3.33863630e-01, 5.76614888e-01, ...,\n",
       "          3.23824632e-01, 3.03659857e-01, 3.13796079e-01]],\n",
       " \n",
       "        [[8.83271583e-02, 9.39642906e-02, 4.56392404e-02, ...,\n",
       "          1.07358935e-01, 6.71596530e-03, 6.42790191e-02],\n",
       "         [1.70104358e+00, 1.73480282e+00, 1.80484529e+00, ...,\n",
       "          2.34888228e-03, 0.00000000e+00, 7.28593479e-03],\n",
       "         [1.30823539e+00, 1.31803552e+00, 1.34313763e+00, ...,\n",
       "          8.96914510e-01, 4.70433300e-01, 6.45258494e-01],\n",
       "         [0.00000000e+00, 0.00000000e+00, 0.00000000e+00, ...,\n",
       "          0.00000000e+00, 0.00000000e+00, 0.00000000e+00],\n",
       "         [3.39549663e-01, 3.34013051e-01, 5.76586175e-01, ...,\n",
       "          3.23555447e-01, 3.02872163e-01, 3.12857968e-01]],\n",
       " \n",
       "        ...,\n",
       " \n",
       "        [[1.33813968e-01, 1.62156318e-01, 7.05232044e-02, ...,\n",
       "          2.86236238e-01, 2.75018002e-02, 1.64739674e-01],\n",
       "         [1.68188152e+00, 1.47576322e+00, 1.38336603e+00, ...,\n",
       "          4.97535007e-01, 1.10763344e-01, 1.05278529e-01],\n",
       "         [1.29921529e+00, 1.21665344e+00, 1.17470762e+00, ...,\n",
       "          3.07086693e+00, 5.11615250e-01, 1.38035369e+00],\n",
       "         [0.00000000e+00, 0.00000000e+00, 0.00000000e+00, ...,\n",
       "          0.00000000e+00, 0.00000000e+00, 0.00000000e+00],\n",
       "         [3.62436734e-01, 3.67400831e-01, 5.89135626e-01, ...,\n",
       "          3.67570909e-01, 3.05500254e-01, 3.38122401e-01]],\n",
       " \n",
       "        [[1.30105797e-01, 1.70401447e-01, 7.20364890e-02, ...,\n",
       "          2.83554775e-01, 2.76148426e-02, 1.50534772e-01],\n",
       "         [1.68329865e+00, 1.47278763e+00, 1.38416869e+00, ...,\n",
       "          4.99652003e-01, 1.10621879e-01, 1.09545983e-01],\n",
       "         [1.29687375e+00, 1.21480995e+00, 1.17616582e+00, ...,\n",
       "          3.04298657e+00, 5.27429237e-01, 1.40282077e+00],\n",
       "         [0.00000000e+00, 0.00000000e+00, 0.00000000e+00, ...,\n",
       "          0.00000000e+00, 0.00000000e+00, 0.00000000e+00],\n",
       "         [3.62177971e-01, 3.70113704e-01, 5.91646798e-01, ...,\n",
       "          3.67211131e-01, 3.06457698e-01, 3.38682523e-01]],\n",
       " \n",
       "        [[1.34798646e-01, 1.77254470e-01, 6.41924262e-02, ...,\n",
       "          2.79683345e-01, 3.42407811e-02, 1.49373208e-01],\n",
       "         [1.68104909e+00, 1.46476586e+00, 1.38428411e+00, ...,\n",
       "          5.07098316e-01, 1.10774509e-01, 9.83936456e-02],\n",
       "         [1.29742000e+00, 1.21358462e+00, 1.17650699e+00, ...,\n",
       "          2.99467923e+00, 5.27874016e-01, 1.27360592e+00],\n",
       "         [0.00000000e+00, 0.00000000e+00, 0.00000000e+00, ...,\n",
       "          0.00000000e+00, 0.00000000e+00, 0.00000000e+00],\n",
       "         [3.61092677e-01, 3.70521402e-01, 5.90848248e-01, ...,\n",
       "          3.66581497e-01, 3.06484241e-01, 3.35347070e-01]]]),\n",
       " 'coords': array((array(('State Variable', None, array(['S   ', 'Rint', 'R   ', 'Rin ', 'I   '], dtype='<U4')),\n",
       "       dtype=[('dims', 'O'), ('attrs', 'O'), ('data', 'O')]), array(('Region', None, array(['GPe_Left            ', 'GPi_Left            ',\n",
       "        'STN_Left            ', 'Striatum_Left       ',\n",
       "        'Thal_Left           ', 'Precentral_L        ',\n",
       "        'Frontal_Sup_2_L     ', 'Frontal_Mid_2_L     ',\n",
       "        'Frontal_Inf_Oper_L  ', 'Frontal_Inf_Tri_L   ',\n",
       "        'Frontal_Inf_Orb_2_L ', 'Rolandic_Oper_L     ',\n",
       "        'Supp_Motor_Area_L   ', 'Olfactory_L         ',\n",
       "        'Frontal_Sup_Medial_L', 'Frontal_Med_Orb_L   ',\n",
       "        'Rectus_L            ', 'OFCmed_L            ',\n",
       "        'OFCant_L            ', 'OFCpost_L           ',\n",
       "        'OFClat_L            ', 'Insula_L            ',\n",
       "        'Cingulate_Ant_L     ', 'Cingulate_Mid_L     ',\n",
       "        'Cingulate_Post_L    ', 'Hippocampus_L       ',\n",
       "        'ParaHippocampal_L   ', 'Amygdala_L          ',\n",
       "        'Calcarine_L         ', 'Cuneus_L            ',\n",
       "        'Lingual_L           ', 'Occipital_Sup_L     ',\n",
       "        'Occipital_Mid_L     ', 'Occipital_Inf_L     ',\n",
       "        'Fusiform_L          ', 'Postcentral_L       ',\n",
       "        'Parietal_Sup_L      ', 'Parietal_Inf_L      ',\n",
       "        'SupraMarginal_L     ', 'Angular_L           ',\n",
       "        'Precuneus_L         ', 'Paracentral_Lobule_L',\n",
       "        'Heschl_L            ', 'Temporal_Sup_L      ',\n",
       "        'Temporal_Pole_Sup_L ', 'Temporal_Mid_L      ',\n",
       "        'Temporal_Pole_Mid_L ', 'Temporal_Inf_L      ',\n",
       "        'Cerebelum_Crus1_L   ', 'Cerebelum_Crus2_L   ',\n",
       "        'Cerebelum_3_L       ', 'Cerebelum_4_5_L     ',\n",
       "        'Cerebelum_6_L       ', 'Cerebelum_7b_L      ',\n",
       "        'Cerebelum_8_L       ', 'Cerebelum_9_L       ',\n",
       "        'Cerebelum_10_L      '], dtype='<U20')),\n",
       "       dtype=[('dims', 'O'), ('attrs', 'O'), ('data', 'O')]), array(('Time', None, array([0.000e+00, 1.000e-01, 2.000e-01, ..., 9.996e+02, 9.997e+02,\n",
       "        9.998e+02])), dtype=[('dims', 'O'), ('attrs', 'O'), ('data', 'O')])),\n",
       "       dtype=[('State Variable', 'O'), ('Region', 'O'), ('Time', 'O')]),\n",
       " 'name': 'Region Time Series',\n",
       " 'transient': 500.0}"
      ]
     },
     "execution_count": 38,
     "metadata": {},
     "output_type": "execute_result"
    }
   ],
   "source": [
    "data"
   ]
  },
  {
   "cell_type": "code",
   "execution_count": 46,
   "metadata": {
    "pycharm": {
     "name": "#%%\n"
    }
   },
   "outputs": [
    {
     "data": {
      "text/plain": [
       "['T',\n",
       " '__abs__',\n",
       " '__add__',\n",
       " '__and__',\n",
       " '__array__',\n",
       " '__array_finalize__',\n",
       " '__array_function__',\n",
       " '__array_interface__',\n",
       " '__array_prepare__',\n",
       " '__array_priority__',\n",
       " '__array_struct__',\n",
       " '__array_ufunc__',\n",
       " '__array_wrap__',\n",
       " '__bool__',\n",
       " '__class__',\n",
       " '__class_getitem__',\n",
       " '__complex__',\n",
       " '__contains__',\n",
       " '__copy__',\n",
       " '__deepcopy__',\n",
       " '__delattr__',\n",
       " '__delitem__',\n",
       " '__dir__',\n",
       " '__divmod__',\n",
       " '__dlpack__',\n",
       " '__dlpack_device__',\n",
       " '__doc__',\n",
       " '__eq__',\n",
       " '__float__',\n",
       " '__floordiv__',\n",
       " '__format__',\n",
       " '__ge__',\n",
       " '__getattribute__',\n",
       " '__getitem__',\n",
       " '__gt__',\n",
       " '__hash__',\n",
       " '__iadd__',\n",
       " '__iand__',\n",
       " '__ifloordiv__',\n",
       " '__ilshift__',\n",
       " '__imatmul__',\n",
       " '__imod__',\n",
       " '__imul__',\n",
       " '__index__',\n",
       " '__init__',\n",
       " '__init_subclass__',\n",
       " '__int__',\n",
       " '__invert__',\n",
       " '__ior__',\n",
       " '__ipow__',\n",
       " '__irshift__',\n",
       " '__isub__',\n",
       " '__iter__',\n",
       " '__itruediv__',\n",
       " '__ixor__',\n",
       " '__le__',\n",
       " '__len__',\n",
       " '__lshift__',\n",
       " '__lt__',\n",
       " '__matmul__',\n",
       " '__mod__',\n",
       " '__mul__',\n",
       " '__ne__',\n",
       " '__neg__',\n",
       " '__new__',\n",
       " '__or__',\n",
       " '__pos__',\n",
       " '__pow__',\n",
       " '__radd__',\n",
       " '__rand__',\n",
       " '__rdivmod__',\n",
       " '__reduce__',\n",
       " '__reduce_ex__',\n",
       " '__repr__',\n",
       " '__rfloordiv__',\n",
       " '__rlshift__',\n",
       " '__rmatmul__',\n",
       " '__rmod__',\n",
       " '__rmul__',\n",
       " '__ror__',\n",
       " '__rpow__',\n",
       " '__rrshift__',\n",
       " '__rshift__',\n",
       " '__rsub__',\n",
       " '__rtruediv__',\n",
       " '__rxor__',\n",
       " '__setattr__',\n",
       " '__setitem__',\n",
       " '__setstate__',\n",
       " '__sizeof__',\n",
       " '__str__',\n",
       " '__sub__',\n",
       " '__subclasshook__',\n",
       " '__truediv__',\n",
       " '__xor__',\n",
       " 'all',\n",
       " 'any',\n",
       " 'argmax',\n",
       " 'argmin',\n",
       " 'argpartition',\n",
       " 'argsort',\n",
       " 'astype',\n",
       " 'base',\n",
       " 'byteswap',\n",
       " 'choose',\n",
       " 'clip',\n",
       " 'compress',\n",
       " 'conj',\n",
       " 'conjugate',\n",
       " 'copy',\n",
       " 'ctypes',\n",
       " 'cumprod',\n",
       " 'cumsum',\n",
       " 'data',\n",
       " 'diagonal',\n",
       " 'dot',\n",
       " 'dtype',\n",
       " 'dump',\n",
       " 'dumps',\n",
       " 'fill',\n",
       " 'flags',\n",
       " 'flat',\n",
       " 'flatten',\n",
       " 'getfield',\n",
       " 'imag',\n",
       " 'item',\n",
       " 'itemset',\n",
       " 'itemsize',\n",
       " 'max',\n",
       " 'mean',\n",
       " 'min',\n",
       " 'nbytes',\n",
       " 'ndim',\n",
       " 'newbyteorder',\n",
       " 'nonzero',\n",
       " 'partition',\n",
       " 'prod',\n",
       " 'ptp',\n",
       " 'put',\n",
       " 'ravel',\n",
       " 'real',\n",
       " 'repeat',\n",
       " 'reshape',\n",
       " 'resize',\n",
       " 'round',\n",
       " 'searchsorted',\n",
       " 'setfield',\n",
       " 'setflags',\n",
       " 'shape',\n",
       " 'size',\n",
       " 'sort',\n",
       " 'squeeze',\n",
       " 'std',\n",
       " 'strides',\n",
       " 'sum',\n",
       " 'swapaxes',\n",
       " 'take',\n",
       " 'tobytes',\n",
       " 'tofile',\n",
       " 'tolist',\n",
       " 'tostring',\n",
       " 'trace',\n",
       " 'transpose',\n",
       " 'var',\n",
       " 'view']"
      ]
     },
     "execution_count": 46,
     "metadata": {},
     "output_type": "execute_result"
    }
   ],
   "source": [
    "dir(data['coords'])"
   ]
  },
  {
   "cell_type": "code",
   "execution_count": 52,
   "metadata": {
    "pycharm": {
     "name": "#%%\n"
    }
   },
   "outputs": [
    {
     "data": {
      "text/plain": [
       "array(('State Variable', None, array(['S   ', 'Rint', 'R   ', 'Rin ', 'I   '], dtype='<U4')),\n",
       "      dtype=[('dims', 'O'), ('attrs', 'O'), ('data', 'O')])"
      ]
     },
     "execution_count": 52,
     "metadata": {},
     "output_type": "execute_result"
    }
   ],
   "source": [
    "data['coords'].base[0][0]"
   ]
  },
  {
   "cell_type": "code",
   "execution_count": null,
   "metadata": {
    "pycharm": {
     "name": "#%%\n"
    }
   },
   "outputs": [],
   "source": []
  },
  {
   "cell_type": "code",
   "execution_count": null,
   "metadata": {
    "pycharm": {
     "name": "#%%\n"
    }
   },
   "outputs": [],
   "source": []
  },
  {
   "cell_type": "code",
   "execution_count": 20,
   "metadata": {
    "pycharm": {
     "name": "#%%\n"
    }
   },
   "outputs": [
    {
     "data": {
      "text/plain": [
       "dict_keys(['MSE', 'PSP_baseline', 'dominant_rhythm'])"
      ]
     },
     "execution_count": 20,
     "metadata": {},
     "output_type": "execute_result"
    }
   ],
   "source": [
    "mat73.loadmat(\"C:\\\\Users\\\\dinar\\\\Desktop\\\\simulated_data\\\\1\\\\berlin-unimanual\\\\AA_20120815_analysis_.mat\").keys()"
   ]
  },
  {
   "cell_type": "code",
   "execution_count": null,
   "metadata": {
    "pycharm": {
     "name": "#%%\n"
    }
   },
   "outputs": [],
   "source": []
  }
 ],
 "metadata": {
  "kernelspec": {
   "display_name": "Python 3 (ipykernel)",
   "language": "python",
   "name": "python3"
  },
  "language_info": {
   "codemirror_mode": {
    "name": "ipython",
    "version": 3
   },
   "file_extension": ".py",
   "mimetype": "text/x-python",
   "name": "python",
   "nbconvert_exporter": "python",
   "pygments_lexer": "ipython3",
   "version": "3.10.4"
  }
 },
 "nbformat": 4,
 "nbformat_minor": 1
}
