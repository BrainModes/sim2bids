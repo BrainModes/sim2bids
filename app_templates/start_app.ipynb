{
 "cells": [
  {
   "cell_type": "code",
   "execution_count": 1,
   "id": "750ff923",
   "metadata": {},
   "outputs": [],
   "source": [
    "import sys\n",
    "import warnings\n",
    "import panel as pn\n",
    "\n",
    "# DO NOT remove this line below, otherwise the app won't be found\n",
    "sys.path.append('..')\n",
    "warnings.filterwarnings('ignore')"
   ]
  },
  {
   "cell_type": "code",
   "execution_count": 2,
   "id": "05fbb903",
   "metadata": {},
   "outputs": [
    {
     "data": {
      "application/javascript": [
       "(function(root) {\n",
       "  function now() {\n",
       "    return new Date();\n",
       "  }\n",
       "\n",
       "  var force = true;\n",
       "\n",
       "  if (typeof root._bokeh_onload_callbacks === \"undefined\" || force === true) {\n",
       "    root._bokeh_onload_callbacks = [];\n",
       "    root._bokeh_is_loading = undefined;\n",
       "  }\n",
       "\n",
       "  if (typeof (root._bokeh_timeout) === \"undefined\" || force === true) {\n",
       "    root._bokeh_timeout = Date.now() + 5000;\n",
       "    root._bokeh_failed_load = false;\n",
       "  }\n",
       "\n",
       "  function run_callbacks() {\n",
       "    try {\n",
       "      root._bokeh_onload_callbacks.forEach(function(callback) {\n",
       "        if (callback != null)\n",
       "          callback();\n",
       "      });\n",
       "    } finally {\n",
       "      delete root._bokeh_onload_callbacks\n",
       "    }\n",
       "    console.debug(\"Bokeh: all callbacks have finished\");\n",
       "  }\n",
       "\n",
       "  function load_libs(css_urls, js_urls, js_modules, callback) {\n",
       "    if (css_urls == null) css_urls = [];\n",
       "    if (js_urls == null) js_urls = [];\n",
       "    if (js_modules == null) js_modules = [];\n",
       "\n",
       "    root._bokeh_onload_callbacks.push(callback);\n",
       "    if (root._bokeh_is_loading > 0) {\n",
       "      console.debug(\"Bokeh: BokehJS is being loaded, scheduling callback at\", now());\n",
       "      return null;\n",
       "    }\n",
       "    if (js_urls.length === 0 && js_modules.length === 0) {\n",
       "      run_callbacks();\n",
       "      return null;\n",
       "    }\n",
       "    console.debug(\"Bokeh: BokehJS not loaded, scheduling load and callback at\", now());\n",
       "\n",
       "    function on_load() {\n",
       "      root._bokeh_is_loading--;\n",
       "      if (root._bokeh_is_loading === 0) {\n",
       "        console.debug(\"Bokeh: all BokehJS libraries/stylesheets loaded\");\n",
       "        run_callbacks()\n",
       "      }\n",
       "    }\n",
       "\n",
       "    function on_error() {\n",
       "      console.error(\"failed to load \" + url);\n",
       "    }\n",
       "\n",
       "    for (var i = 0; i < css_urls.length; i++) {\n",
       "      var url = css_urls[i];\n",
       "      const element = document.createElement(\"link\");\n",
       "      element.onload = on_load;\n",
       "      element.onerror = on_error;\n",
       "      element.rel = \"stylesheet\";\n",
       "      element.type = \"text/css\";\n",
       "      element.href = url;\n",
       "      console.debug(\"Bokeh: injecting link tag for BokehJS stylesheet: \", url);\n",
       "      document.body.appendChild(element);\n",
       "    }\n",
       "\n",
       "    var skip = [];\n",
       "    if (window.requirejs) {\n",
       "      window.requirejs.config({'packages': {}, 'paths': {'tabulator': 'https://unpkg.com/tabulator-tables@4.9.3/dist/js/tabulator', 'moment': 'https://cdn.jsdelivr.net/npm/luxon/build/global/luxon.min', 'ace': '//cdnjs.cloudflare.com/ajax/libs/ace/1.4.7', 'jsoneditor': '//cdn.jsdelivr.net/npm/jsoneditor@9.1.9/dist/jsoneditor.min', 'gridstack': 'https://cdn.jsdelivr.net/npm/gridstack@4.2.5/dist/gridstack-h5', 'notyf': 'https://cdn.jsdelivr.net/npm/notyf@3/notyf.min'}, 'shim': {'ace/ext-language_tools': {'deps': ['ace/ace']}, 'ace/ext-modelist': {'deps': ['ace/ace']}, 'jsoneditor': {'exports': 'JSONEditor'}, 'gridstack': {'exports': 'GridStack'}}});\n",
       "      require([\"tabulator\"], function(Tabulator) {\n",
       "\twindow.Tabulator = Tabulator\n",
       "\ton_load()\n",
       "      })\n",
       "      require([\"moment\"], function(moment) {\n",
       "\twindow.moment = moment\n",
       "\ton_load()\n",
       "      })\n",
       "      require([\"ace/ace\"], function(ace) {\n",
       "\twindow.ace = ace\n",
       "\ton_load()\n",
       "      })\n",
       "      require([\"ace/ext-language_tools\"], function() {\n",
       "\ton_load()\n",
       "      })\n",
       "      require([\"ace/ext-modelist\"], function() {\n",
       "\ton_load()\n",
       "      })\n",
       "      require([\"jsoneditor\"], function(JSONEditor) {\n",
       "\twindow.JSONEditor = JSONEditor\n",
       "\ton_load()\n",
       "      })\n",
       "      require([\"gridstack\"], function(GridStack) {\n",
       "\twindow.GridStack = GridStack\n",
       "\ton_load()\n",
       "      })\n",
       "      require([\"notyf\"], function() {\n",
       "\ton_load()\n",
       "      })\n",
       "      root._bokeh_is_loading = css_urls.length + 8;\n",
       "    } else {\n",
       "      root._bokeh_is_loading = css_urls.length + js_urls.length + js_modules.length;\n",
       "    }    if (((window['Tabulator'] !== undefined) && (!(window['Tabulator'] instanceof HTMLElement))) || window.requirejs) {\n",
       "      var urls = ['https://unpkg.com/tabulator-tables@4.9.3/dist/js/tabulator.js'];\n",
       "      for (var i = 0; i < urls.length; i++) {\n",
       "        skip.push(urls[i])\n",
       "      }\n",
       "    }    if (((window['moment'] !== undefined) && (!(window['moment'] instanceof HTMLElement))) || window.requirejs) {\n",
       "      var urls = ['https://cdn.jsdelivr.net/npm/luxon/build/global/luxon.min.js'];\n",
       "      for (var i = 0; i < urls.length; i++) {\n",
       "        skip.push(urls[i])\n",
       "      }\n",
       "    }    if (((window['ace'] !== undefined) && (!(window['ace'] instanceof HTMLElement))) || window.requirejs) {\n",
       "      var urls = ['https://cdnjs.cloudflare.com/ajax/libs/ace/1.4.11/ace.js', 'https://cdnjs.cloudflare.com/ajax/libs/ace/1.4.11/ext-language_tools.js', 'https://cdnjs.cloudflare.com/ajax/libs/ace/1.4.11/ext-modelist.js'];\n",
       "      for (var i = 0; i < urls.length; i++) {\n",
       "        skip.push(urls[i])\n",
       "      }\n",
       "    }    if (((window['JSONEditor'] !== undefined) && (!(window['JSONEditor'] instanceof HTMLElement))) || window.requirejs) {\n",
       "      var urls = ['https://cdn.jsdelivr.net/npm/jsoneditor@9.1.9/dist/jsoneditor.min.js'];\n",
       "      for (var i = 0; i < urls.length; i++) {\n",
       "        skip.push(urls[i])\n",
       "      }\n",
       "    }    if (((window['GridStack'] !== undefined) && (!(window['GridStack'] instanceof HTMLElement))) || window.requirejs) {\n",
       "      var urls = ['https://cdn.jsdelivr.net/npm/gridstack@4.2.5/dist/gridstack-h5.js'];\n",
       "      for (var i = 0; i < urls.length; i++) {\n",
       "        skip.push(urls[i])\n",
       "      }\n",
       "    }    if (((window['Notyf'] !== undefined) && (!(window['Notyf'] instanceof HTMLElement))) || window.requirejs) {\n",
       "      var urls = ['https://cdn.jsdelivr.net/npm/notyf@3/notyf.min.js'];\n",
       "      for (var i = 0; i < urls.length; i++) {\n",
       "        skip.push(urls[i])\n",
       "      }\n",
       "    }    for (var i = 0; i < js_urls.length; i++) {\n",
       "      var url = js_urls[i];\n",
       "      if (skip.indexOf(url) >= 0) {\n",
       "\tif (!window.requirejs) {\n",
       "\t  on_load();\n",
       "\t}\n",
       "\tcontinue;\n",
       "      }\n",
       "      var element = document.createElement('script');\n",
       "      element.onload = on_load;\n",
       "      element.onerror = on_error;\n",
       "      element.async = false;\n",
       "      element.src = url;\n",
       "      console.debug(\"Bokeh: injecting script tag for BokehJS library: \", url);\n",
       "      document.head.appendChild(element);\n",
       "    }\n",
       "    for (var i = 0; i < js_modules.length; i++) {\n",
       "      var url = js_modules[i];\n",
       "      if (skip.indexOf(url) >= 0) {\n",
       "\tif (!window.requirejs) {\n",
       "\t  on_load();\n",
       "\t}\n",
       "\tcontinue;\n",
       "      }\n",
       "      var element = document.createElement('script');\n",
       "      element.onload = on_load;\n",
       "      element.onerror = on_error;\n",
       "      element.async = false;\n",
       "      element.src = url;\n",
       "      element.type = \"module\";\n",
       "      console.debug(\"Bokeh: injecting script tag for BokehJS library: \", url);\n",
       "      document.head.appendChild(element);\n",
       "    }\n",
       "    if (!js_urls.length && !js_modules.length) {\n",
       "      on_load()\n",
       "    }\n",
       "  };\n",
       "\n",
       "  function inject_raw_css(css) {\n",
       "    const element = document.createElement(\"style\");\n",
       "    element.appendChild(document.createTextNode(css));\n",
       "    document.body.appendChild(element);\n",
       "  }\n",
       "\n",
       "  var js_urls = [\"https://cdnjs.cloudflare.com/ajax/libs/ace/1.4.11/ace.js\", \"https://cdnjs.cloudflare.com/ajax/libs/ace/1.4.11/ext-language_tools.js\", \"https://cdnjs.cloudflare.com/ajax/libs/ace/1.4.11/ext-modelist.js\", \"https://cdn.jsdelivr.net/npm/jsoneditor@9.1.9/dist/jsoneditor.min.js\", \"https://unpkg.com/tabulator-tables@4.9.3/dist/js/tabulator.js\", \"https://cdn.jsdelivr.net/npm/luxon/build/global/luxon.min.js\", \"https://cdn.bokeh.org/bokeh/release/bokeh-2.4.3.min.js\", \"https://cdn.bokeh.org/bokeh/release/bokeh-gl-2.4.3.min.js\", \"https://cdn.bokeh.org/bokeh/release/bokeh-widgets-2.4.3.min.js\", \"https://cdn.bokeh.org/bokeh/release/bokeh-tables-2.4.3.min.js\", \"https://cdn.bokeh.org/bokeh/release/bokeh-mathjax-2.4.3.min.js\", \"https://cdn.jsdelivr.net/npm/notyf@3/notyf.min.js\", \"https://unpkg.com/@holoviz/panel@0.13.1/dist/panel.min.js\"];\n",
       "  var js_modules = [];\n",
       "  var css_urls = [\"https://cdn.jsdelivr.net/npm/jsoneditor@9.1.9/dist/jsoneditor.min.css\", \"https://unpkg.com/tabulator-tables@4.9.3/dist/css/tabulator_simple.min.css\", \"https://cdn.jsdelivr.net/npm/notyf@3/notyf.min.css\", \"https://cdnjs.cloudflare.com/ajax/libs/font-awesome/5.15.1/css/all.min.css\", \"https://unpkg.com/@holoviz/panel@0.13.1/dist/css/alerts.css\", \"https://unpkg.com/@holoviz/panel@0.13.1/dist/css/card.css\", \"https://unpkg.com/@holoviz/panel@0.13.1/dist/css/dataframe.css\", \"https://unpkg.com/@holoviz/panel@0.13.1/dist/css/debugger.css\", \"https://unpkg.com/@holoviz/panel@0.13.1/dist/css/json.css\", \"https://unpkg.com/@holoviz/panel@0.13.1/dist/css/loading.css\", \"https://unpkg.com/@holoviz/panel@0.13.1/dist/css/markdown.css\", \"https://unpkg.com/@holoviz/panel@0.13.1/dist/css/widgets.css\"];\n",
       "  var inline_js = [    function(Bokeh) {\n",
       "      inject_raw_css(\"\\n    .bk.pn-loading.arcs:before {\\n      background-image: url(\\\"data:image/svg+xml;base64,PHN2ZyB4bWxucz0iaHR0cDovL3d3dy53My5vcmcvMjAwMC9zdmciIHhtbG5zOnhsaW5rPSJodHRwOi8vd3d3LnczLm9yZy8xOTk5L3hsaW5rIiBzdHlsZT0ibWFyZ2luOiBhdXRvOyBiYWNrZ3JvdW5kOiBub25lOyBkaXNwbGF5OiBibG9jazsgc2hhcGUtcmVuZGVyaW5nOiBhdXRvOyIgdmlld0JveD0iMCAwIDEwMCAxMDAiIHByZXNlcnZlQXNwZWN0UmF0aW89InhNaWRZTWlkIj4gIDxjaXJjbGUgY3g9IjUwIiBjeT0iNTAiIHI9IjMyIiBzdHJva2Utd2lkdGg9IjgiIHN0cm9rZT0iI2MzYzNjMyIgc3Ryb2tlLWRhc2hhcnJheT0iNTAuMjY1NDgyNDU3NDM2NjkgNTAuMjY1NDgyNDU3NDM2NjkiIGZpbGw9Im5vbmUiIHN0cm9rZS1saW5lY2FwPSJyb3VuZCI+ICAgIDxhbmltYXRlVHJhbnNmb3JtIGF0dHJpYnV0ZU5hbWU9InRyYW5zZm9ybSIgdHlwZT0icm90YXRlIiByZXBlYXRDb3VudD0iaW5kZWZpbml0ZSIgZHVyPSIxcyIga2V5VGltZXM9IjA7MSIgdmFsdWVzPSIwIDUwIDUwOzM2MCA1MCA1MCI+PC9hbmltYXRlVHJhbnNmb3JtPiAgPC9jaXJjbGU+PC9zdmc+\\\");\\n      background-size: auto calc(min(50%, 400px));\\n    }\\n    \");\n",
       "    },    function(Bokeh) {\n",
       "      Bokeh.set_log_level(\"info\");\n",
       "    },\n",
       "function(Bokeh) {} // ensure no trailing comma for IE\n",
       "  ];\n",
       "\n",
       "  function run_inline_js() {\n",
       "    if ((root.Bokeh !== undefined) || (force === true)) {\n",
       "      for (var i = 0; i < inline_js.length; i++) {\n",
       "        inline_js[i].call(root, root.Bokeh);\n",
       "      }} else if (Date.now() < root._bokeh_timeout) {\n",
       "      setTimeout(run_inline_js, 100);\n",
       "    } else if (!root._bokeh_failed_load) {\n",
       "      console.log(\"Bokeh: BokehJS failed to load within specified timeout.\");\n",
       "      root._bokeh_failed_load = true;\n",
       "    }\n",
       "  }\n",
       "\n",
       "  if (root._bokeh_is_loading === 0) {\n",
       "    console.debug(\"Bokeh: BokehJS loaded, going straight to plotting\");\n",
       "    run_inline_js();\n",
       "  } else {\n",
       "    load_libs(css_urls, js_urls, js_modules, function() {\n",
       "      console.debug(\"Bokeh: BokehJS plotting callback run at\", now());\n",
       "      run_inline_js();\n",
       "    });\n",
       "  }\n",
       "}(window));"
      ],
      "application/vnd.holoviews_load.v0+json": "(function(root) {\n  function now() {\n    return new Date();\n  }\n\n  var force = true;\n\n  if (typeof root._bokeh_onload_callbacks === \"undefined\" || force === true) {\n    root._bokeh_onload_callbacks = [];\n    root._bokeh_is_loading = undefined;\n  }\n\n  if (typeof (root._bokeh_timeout) === \"undefined\" || force === true) {\n    root._bokeh_timeout = Date.now() + 5000;\n    root._bokeh_failed_load = false;\n  }\n\n  function run_callbacks() {\n    try {\n      root._bokeh_onload_callbacks.forEach(function(callback) {\n        if (callback != null)\n          callback();\n      });\n    } finally {\n      delete root._bokeh_onload_callbacks\n    }\n    console.debug(\"Bokeh: all callbacks have finished\");\n  }\n\n  function load_libs(css_urls, js_urls, js_modules, callback) {\n    if (css_urls == null) css_urls = [];\n    if (js_urls == null) js_urls = [];\n    if (js_modules == null) js_modules = [];\n\n    root._bokeh_onload_callbacks.push(callback);\n    if (root._bokeh_is_loading > 0) {\n      console.debug(\"Bokeh: BokehJS is being loaded, scheduling callback at\", now());\n      return null;\n    }\n    if (js_urls.length === 0 && js_modules.length === 0) {\n      run_callbacks();\n      return null;\n    }\n    console.debug(\"Bokeh: BokehJS not loaded, scheduling load and callback at\", now());\n\n    function on_load() {\n      root._bokeh_is_loading--;\n      if (root._bokeh_is_loading === 0) {\n        console.debug(\"Bokeh: all BokehJS libraries/stylesheets loaded\");\n        run_callbacks()\n      }\n    }\n\n    function on_error() {\n      console.error(\"failed to load \" + url);\n    }\n\n    for (var i = 0; i < css_urls.length; i++) {\n      var url = css_urls[i];\n      const element = document.createElement(\"link\");\n      element.onload = on_load;\n      element.onerror = on_error;\n      element.rel = \"stylesheet\";\n      element.type = \"text/css\";\n      element.href = url;\n      console.debug(\"Bokeh: injecting link tag for BokehJS stylesheet: \", url);\n      document.body.appendChild(element);\n    }\n\n    var skip = [];\n    if (window.requirejs) {\n      window.requirejs.config({'packages': {}, 'paths': {'tabulator': 'https://unpkg.com/tabulator-tables@4.9.3/dist/js/tabulator', 'moment': 'https://cdn.jsdelivr.net/npm/luxon/build/global/luxon.min', 'ace': '//cdnjs.cloudflare.com/ajax/libs/ace/1.4.7', 'jsoneditor': '//cdn.jsdelivr.net/npm/jsoneditor@9.1.9/dist/jsoneditor.min', 'gridstack': 'https://cdn.jsdelivr.net/npm/gridstack@4.2.5/dist/gridstack-h5', 'notyf': 'https://cdn.jsdelivr.net/npm/notyf@3/notyf.min'}, 'shim': {'ace/ext-language_tools': {'deps': ['ace/ace']}, 'ace/ext-modelist': {'deps': ['ace/ace']}, 'jsoneditor': {'exports': 'JSONEditor'}, 'gridstack': {'exports': 'GridStack'}}});\n      require([\"tabulator\"], function(Tabulator) {\n\twindow.Tabulator = Tabulator\n\ton_load()\n      })\n      require([\"moment\"], function(moment) {\n\twindow.moment = moment\n\ton_load()\n      })\n      require([\"ace/ace\"], function(ace) {\n\twindow.ace = ace\n\ton_load()\n      })\n      require([\"ace/ext-language_tools\"], function() {\n\ton_load()\n      })\n      require([\"ace/ext-modelist\"], function() {\n\ton_load()\n      })\n      require([\"jsoneditor\"], function(JSONEditor) {\n\twindow.JSONEditor = JSONEditor\n\ton_load()\n      })\n      require([\"gridstack\"], function(GridStack) {\n\twindow.GridStack = GridStack\n\ton_load()\n      })\n      require([\"notyf\"], function() {\n\ton_load()\n      })\n      root._bokeh_is_loading = css_urls.length + 8;\n    } else {\n      root._bokeh_is_loading = css_urls.length + js_urls.length + js_modules.length;\n    }    if (((window['Tabulator'] !== undefined) && (!(window['Tabulator'] instanceof HTMLElement))) || window.requirejs) {\n      var urls = ['https://unpkg.com/tabulator-tables@4.9.3/dist/js/tabulator.js'];\n      for (var i = 0; i < urls.length; i++) {\n        skip.push(urls[i])\n      }\n    }    if (((window['moment'] !== undefined) && (!(window['moment'] instanceof HTMLElement))) || window.requirejs) {\n      var urls = ['https://cdn.jsdelivr.net/npm/luxon/build/global/luxon.min.js'];\n      for (var i = 0; i < urls.length; i++) {\n        skip.push(urls[i])\n      }\n    }    if (((window['ace'] !== undefined) && (!(window['ace'] instanceof HTMLElement))) || window.requirejs) {\n      var urls = ['https://cdnjs.cloudflare.com/ajax/libs/ace/1.4.11/ace.js', 'https://cdnjs.cloudflare.com/ajax/libs/ace/1.4.11/ext-language_tools.js', 'https://cdnjs.cloudflare.com/ajax/libs/ace/1.4.11/ext-modelist.js'];\n      for (var i = 0; i < urls.length; i++) {\n        skip.push(urls[i])\n      }\n    }    if (((window['JSONEditor'] !== undefined) && (!(window['JSONEditor'] instanceof HTMLElement))) || window.requirejs) {\n      var urls = ['https://cdn.jsdelivr.net/npm/jsoneditor@9.1.9/dist/jsoneditor.min.js'];\n      for (var i = 0; i < urls.length; i++) {\n        skip.push(urls[i])\n      }\n    }    if (((window['GridStack'] !== undefined) && (!(window['GridStack'] instanceof HTMLElement))) || window.requirejs) {\n      var urls = ['https://cdn.jsdelivr.net/npm/gridstack@4.2.5/dist/gridstack-h5.js'];\n      for (var i = 0; i < urls.length; i++) {\n        skip.push(urls[i])\n      }\n    }    if (((window['Notyf'] !== undefined) && (!(window['Notyf'] instanceof HTMLElement))) || window.requirejs) {\n      var urls = ['https://cdn.jsdelivr.net/npm/notyf@3/notyf.min.js'];\n      for (var i = 0; i < urls.length; i++) {\n        skip.push(urls[i])\n      }\n    }    for (var i = 0; i < js_urls.length; i++) {\n      var url = js_urls[i];\n      if (skip.indexOf(url) >= 0) {\n\tif (!window.requirejs) {\n\t  on_load();\n\t}\n\tcontinue;\n      }\n      var element = document.createElement('script');\n      element.onload = on_load;\n      element.onerror = on_error;\n      element.async = false;\n      element.src = url;\n      console.debug(\"Bokeh: injecting script tag for BokehJS library: \", url);\n      document.head.appendChild(element);\n    }\n    for (var i = 0; i < js_modules.length; i++) {\n      var url = js_modules[i];\n      if (skip.indexOf(url) >= 0) {\n\tif (!window.requirejs) {\n\t  on_load();\n\t}\n\tcontinue;\n      }\n      var element = document.createElement('script');\n      element.onload = on_load;\n      element.onerror = on_error;\n      element.async = false;\n      element.src = url;\n      element.type = \"module\";\n      console.debug(\"Bokeh: injecting script tag for BokehJS library: \", url);\n      document.head.appendChild(element);\n    }\n    if (!js_urls.length && !js_modules.length) {\n      on_load()\n    }\n  };\n\n  function inject_raw_css(css) {\n    const element = document.createElement(\"style\");\n    element.appendChild(document.createTextNode(css));\n    document.body.appendChild(element);\n  }\n\n  var js_urls = [\"https://cdnjs.cloudflare.com/ajax/libs/ace/1.4.11/ace.js\", \"https://cdnjs.cloudflare.com/ajax/libs/ace/1.4.11/ext-language_tools.js\", \"https://cdnjs.cloudflare.com/ajax/libs/ace/1.4.11/ext-modelist.js\", \"https://cdn.jsdelivr.net/npm/jsoneditor@9.1.9/dist/jsoneditor.min.js\", \"https://unpkg.com/tabulator-tables@4.9.3/dist/js/tabulator.js\", \"https://cdn.jsdelivr.net/npm/luxon/build/global/luxon.min.js\", \"https://cdn.bokeh.org/bokeh/release/bokeh-2.4.3.min.js\", \"https://cdn.bokeh.org/bokeh/release/bokeh-gl-2.4.3.min.js\", \"https://cdn.bokeh.org/bokeh/release/bokeh-widgets-2.4.3.min.js\", \"https://cdn.bokeh.org/bokeh/release/bokeh-tables-2.4.3.min.js\", \"https://cdn.bokeh.org/bokeh/release/bokeh-mathjax-2.4.3.min.js\", \"https://cdn.jsdelivr.net/npm/notyf@3/notyf.min.js\", \"https://unpkg.com/@holoviz/panel@0.13.1/dist/panel.min.js\"];\n  var js_modules = [];\n  var css_urls = [\"https://cdn.jsdelivr.net/npm/jsoneditor@9.1.9/dist/jsoneditor.min.css\", \"https://unpkg.com/tabulator-tables@4.9.3/dist/css/tabulator_simple.min.css\", \"https://cdn.jsdelivr.net/npm/notyf@3/notyf.min.css\", \"https://cdnjs.cloudflare.com/ajax/libs/font-awesome/5.15.1/css/all.min.css\", \"https://unpkg.com/@holoviz/panel@0.13.1/dist/css/alerts.css\", \"https://unpkg.com/@holoviz/panel@0.13.1/dist/css/card.css\", \"https://unpkg.com/@holoviz/panel@0.13.1/dist/css/dataframe.css\", \"https://unpkg.com/@holoviz/panel@0.13.1/dist/css/debugger.css\", \"https://unpkg.com/@holoviz/panel@0.13.1/dist/css/json.css\", \"https://unpkg.com/@holoviz/panel@0.13.1/dist/css/loading.css\", \"https://unpkg.com/@holoviz/panel@0.13.1/dist/css/markdown.css\", \"https://unpkg.com/@holoviz/panel@0.13.1/dist/css/widgets.css\"];\n  var inline_js = [    function(Bokeh) {\n      inject_raw_css(\"\\n    .bk.pn-loading.arcs:before {\\n      background-image: url(\\\"data:image/svg+xml;base64,PHN2ZyB4bWxucz0iaHR0cDovL3d3dy53My5vcmcvMjAwMC9zdmciIHhtbG5zOnhsaW5rPSJodHRwOi8vd3d3LnczLm9yZy8xOTk5L3hsaW5rIiBzdHlsZT0ibWFyZ2luOiBhdXRvOyBiYWNrZ3JvdW5kOiBub25lOyBkaXNwbGF5OiBibG9jazsgc2hhcGUtcmVuZGVyaW5nOiBhdXRvOyIgdmlld0JveD0iMCAwIDEwMCAxMDAiIHByZXNlcnZlQXNwZWN0UmF0aW89InhNaWRZTWlkIj4gIDxjaXJjbGUgY3g9IjUwIiBjeT0iNTAiIHI9IjMyIiBzdHJva2Utd2lkdGg9IjgiIHN0cm9rZT0iI2MzYzNjMyIgc3Ryb2tlLWRhc2hhcnJheT0iNTAuMjY1NDgyNDU3NDM2NjkgNTAuMjY1NDgyNDU3NDM2NjkiIGZpbGw9Im5vbmUiIHN0cm9rZS1saW5lY2FwPSJyb3VuZCI+ICAgIDxhbmltYXRlVHJhbnNmb3JtIGF0dHJpYnV0ZU5hbWU9InRyYW5zZm9ybSIgdHlwZT0icm90YXRlIiByZXBlYXRDb3VudD0iaW5kZWZpbml0ZSIgZHVyPSIxcyIga2V5VGltZXM9IjA7MSIgdmFsdWVzPSIwIDUwIDUwOzM2MCA1MCA1MCI+PC9hbmltYXRlVHJhbnNmb3JtPiAgPC9jaXJjbGU+PC9zdmc+\\\");\\n      background-size: auto calc(min(50%, 400px));\\n    }\\n    \");\n    },    function(Bokeh) {\n      Bokeh.set_log_level(\"info\");\n    },\nfunction(Bokeh) {} // ensure no trailing comma for IE\n  ];\n\n  function run_inline_js() {\n    if ((root.Bokeh !== undefined) || (force === true)) {\n      for (var i = 0; i < inline_js.length; i++) {\n        inline_js[i].call(root, root.Bokeh);\n      }} else if (Date.now() < root._bokeh_timeout) {\n      setTimeout(run_inline_js, 100);\n    } else if (!root._bokeh_failed_load) {\n      console.log(\"Bokeh: BokehJS failed to load within specified timeout.\");\n      root._bokeh_failed_load = true;\n    }\n  }\n\n  if (root._bokeh_is_loading === 0) {\n    console.debug(\"Bokeh: BokehJS loaded, going straight to plotting\");\n    run_inline_js();\n  } else {\n    load_libs(css_urls, js_urls, js_modules, function() {\n      console.debug(\"Bokeh: BokehJS plotting callback run at\", now());\n      run_inline_js();\n    });\n  }\n}(window));"
     },
     "metadata": {},
     "output_type": "display_data"
    },
    {
     "data": {
      "application/javascript": [
       "\n",
       "if ((window.PyViz === undefined) || (window.PyViz instanceof HTMLElement)) {\n",
       "  window.PyViz = {comms: {}, comm_status:{}, kernels:{}, receivers: {}, plot_index: []}\n",
       "}\n",
       "\n",
       "\n",
       "    function JupyterCommManager() {\n",
       "    }\n",
       "\n",
       "    JupyterCommManager.prototype.register_target = function(plot_id, comm_id, msg_handler) {\n",
       "      if (window.comm_manager || ((window.Jupyter !== undefined) && (Jupyter.notebook.kernel != null))) {\n",
       "        var comm_manager = window.comm_manager || Jupyter.notebook.kernel.comm_manager;\n",
       "        comm_manager.register_target(comm_id, function(comm) {\n",
       "          comm.on_msg(msg_handler);\n",
       "        });\n",
       "      } else if ((plot_id in window.PyViz.kernels) && (window.PyViz.kernels[plot_id])) {\n",
       "        window.PyViz.kernels[plot_id].registerCommTarget(comm_id, function(comm) {\n",
       "          comm.onMsg = msg_handler;\n",
       "        });\n",
       "      } else if (typeof google != 'undefined' && google.colab.kernel != null) {\n",
       "        google.colab.kernel.comms.registerTarget(comm_id, (comm) => {\n",
       "          var messages = comm.messages[Symbol.asyncIterator]();\n",
       "          function processIteratorResult(result) {\n",
       "            var message = result.value;\n",
       "            console.log(message)\n",
       "            var content = {data: message.data, comm_id};\n",
       "            var buffers = []\n",
       "            for (var buffer of message.buffers || []) {\n",
       "              buffers.push(new DataView(buffer))\n",
       "            }\n",
       "            var metadata = message.metadata || {};\n",
       "            var msg = {content, buffers, metadata}\n",
       "            msg_handler(msg);\n",
       "            return messages.next().then(processIteratorResult);\n",
       "          }\n",
       "          return messages.next().then(processIteratorResult);\n",
       "        })\n",
       "      }\n",
       "    }\n",
       "\n",
       "    JupyterCommManager.prototype.get_client_comm = function(plot_id, comm_id, msg_handler) {\n",
       "      if (comm_id in window.PyViz.comms) {\n",
       "        return window.PyViz.comms[comm_id];\n",
       "      } else if (window.comm_manager || ((window.Jupyter !== undefined) && (Jupyter.notebook.kernel != null))) {\n",
       "        var comm_manager = window.comm_manager || Jupyter.notebook.kernel.comm_manager;\n",
       "        var comm = comm_manager.new_comm(comm_id, {}, {}, {}, comm_id);\n",
       "        if (msg_handler) {\n",
       "          comm.on_msg(msg_handler);\n",
       "        }\n",
       "      } else if ((plot_id in window.PyViz.kernels) && (window.PyViz.kernels[plot_id])) {\n",
       "        var comm = window.PyViz.kernels[plot_id].connectToComm(comm_id);\n",
       "        comm.open();\n",
       "        if (msg_handler) {\n",
       "          comm.onMsg = msg_handler;\n",
       "        }\n",
       "      } else if (typeof google != 'undefined' && google.colab.kernel != null) {\n",
       "        var comm_promise = google.colab.kernel.comms.open(comm_id)\n",
       "        comm_promise.then((comm) => {\n",
       "          window.PyViz.comms[comm_id] = comm;\n",
       "          if (msg_handler) {\n",
       "            var messages = comm.messages[Symbol.asyncIterator]();\n",
       "            function processIteratorResult(result) {\n",
       "              var message = result.value;\n",
       "              var content = {data: message.data};\n",
       "              var metadata = message.metadata || {comm_id};\n",
       "              var msg = {content, metadata}\n",
       "              msg_handler(msg);\n",
       "              return messages.next().then(processIteratorResult);\n",
       "            }\n",
       "            return messages.next().then(processIteratorResult);\n",
       "          }\n",
       "        }) \n",
       "        var sendClosure = (data, metadata, buffers, disposeOnDone) => {\n",
       "          return comm_promise.then((comm) => {\n",
       "            comm.send(data, metadata, buffers, disposeOnDone);\n",
       "          });\n",
       "        };\n",
       "        var comm = {\n",
       "          send: sendClosure\n",
       "        };\n",
       "      }\n",
       "      window.PyViz.comms[comm_id] = comm;\n",
       "      return comm;\n",
       "    }\n",
       "    window.PyViz.comm_manager = new JupyterCommManager();\n",
       "    \n",
       "\n",
       "\n",
       "var JS_MIME_TYPE = 'application/javascript';\n",
       "var HTML_MIME_TYPE = 'text/html';\n",
       "var EXEC_MIME_TYPE = 'application/vnd.holoviews_exec.v0+json';\n",
       "var CLASS_NAME = 'output';\n",
       "\n",
       "/**\n",
       " * Render data to the DOM node\n",
       " */\n",
       "function render(props, node) {\n",
       "  var div = document.createElement(\"div\");\n",
       "  var script = document.createElement(\"script\");\n",
       "  node.appendChild(div);\n",
       "  node.appendChild(script);\n",
       "}\n",
       "\n",
       "/**\n",
       " * Handle when a new output is added\n",
       " */\n",
       "function handle_add_output(event, handle) {\n",
       "  var output_area = handle.output_area;\n",
       "  var output = handle.output;\n",
       "  if ((output.data == undefined) || (!output.data.hasOwnProperty(EXEC_MIME_TYPE))) {\n",
       "    return\n",
       "  }\n",
       "  var id = output.metadata[EXEC_MIME_TYPE][\"id\"];\n",
       "  var toinsert = output_area.element.find(\".\" + CLASS_NAME.split(' ')[0]);\n",
       "  if (id !== undefined) {\n",
       "    var nchildren = toinsert.length;\n",
       "    var html_node = toinsert[nchildren-1].children[0];\n",
       "    html_node.innerHTML = output.data[HTML_MIME_TYPE];\n",
       "    var scripts = [];\n",
       "    var nodelist = html_node.querySelectorAll(\"script\");\n",
       "    for (var i in nodelist) {\n",
       "      if (nodelist.hasOwnProperty(i)) {\n",
       "        scripts.push(nodelist[i])\n",
       "      }\n",
       "    }\n",
       "\n",
       "    scripts.forEach( function (oldScript) {\n",
       "      var newScript = document.createElement(\"script\");\n",
       "      var attrs = [];\n",
       "      var nodemap = oldScript.attributes;\n",
       "      for (var j in nodemap) {\n",
       "        if (nodemap.hasOwnProperty(j)) {\n",
       "          attrs.push(nodemap[j])\n",
       "        }\n",
       "      }\n",
       "      attrs.forEach(function(attr) { newScript.setAttribute(attr.name, attr.value) });\n",
       "      newScript.appendChild(document.createTextNode(oldScript.innerHTML));\n",
       "      oldScript.parentNode.replaceChild(newScript, oldScript);\n",
       "    });\n",
       "    if (JS_MIME_TYPE in output.data) {\n",
       "      toinsert[nchildren-1].children[1].textContent = output.data[JS_MIME_TYPE];\n",
       "    }\n",
       "    output_area._hv_plot_id = id;\n",
       "    if ((window.Bokeh !== undefined) && (id in Bokeh.index)) {\n",
       "      window.PyViz.plot_index[id] = Bokeh.index[id];\n",
       "    } else {\n",
       "      window.PyViz.plot_index[id] = null;\n",
       "    }\n",
       "  } else if (output.metadata[EXEC_MIME_TYPE][\"server_id\"] !== undefined) {\n",
       "    var bk_div = document.createElement(\"div\");\n",
       "    bk_div.innerHTML = output.data[HTML_MIME_TYPE];\n",
       "    var script_attrs = bk_div.children[0].attributes;\n",
       "    for (var i = 0; i < script_attrs.length; i++) {\n",
       "      toinsert[toinsert.length - 1].childNodes[1].setAttribute(script_attrs[i].name, script_attrs[i].value);\n",
       "    }\n",
       "    // store reference to server id on output_area\n",
       "    output_area._bokeh_server_id = output.metadata[EXEC_MIME_TYPE][\"server_id\"];\n",
       "  }\n",
       "}\n",
       "\n",
       "/**\n",
       " * Handle when an output is cleared or removed\n",
       " */\n",
       "function handle_clear_output(event, handle) {\n",
       "  var id = handle.cell.output_area._hv_plot_id;\n",
       "  var server_id = handle.cell.output_area._bokeh_server_id;\n",
       "  if (((id === undefined) || !(id in PyViz.plot_index)) && (server_id !== undefined)) { return; }\n",
       "  var comm = window.PyViz.comm_manager.get_client_comm(\"hv-extension-comm\", \"hv-extension-comm\", function () {});\n",
       "  if (server_id !== null) {\n",
       "    comm.send({event_type: 'server_delete', 'id': server_id});\n",
       "    return;\n",
       "  } else if (comm !== null) {\n",
       "    comm.send({event_type: 'delete', 'id': id});\n",
       "  }\n",
       "  delete PyViz.plot_index[id];\n",
       "  if ((window.Bokeh !== undefined) & (id in window.Bokeh.index)) {\n",
       "    var doc = window.Bokeh.index[id].model.document\n",
       "    doc.clear();\n",
       "    const i = window.Bokeh.documents.indexOf(doc);\n",
       "    if (i > -1) {\n",
       "      window.Bokeh.documents.splice(i, 1);\n",
       "    }\n",
       "  }\n",
       "}\n",
       "\n",
       "/**\n",
       " * Handle kernel restart event\n",
       " */\n",
       "function handle_kernel_cleanup(event, handle) {\n",
       "  delete PyViz.comms[\"hv-extension-comm\"];\n",
       "  window.PyViz.plot_index = {}\n",
       "}\n",
       "\n",
       "/**\n",
       " * Handle update_display_data messages\n",
       " */\n",
       "function handle_update_output(event, handle) {\n",
       "  handle_clear_output(event, {cell: {output_area: handle.output_area}})\n",
       "  handle_add_output(event, handle)\n",
       "}\n",
       "\n",
       "function register_renderer(events, OutputArea) {\n",
       "  function append_mime(data, metadata, element) {\n",
       "    // create a DOM node to render to\n",
       "    var toinsert = this.create_output_subarea(\n",
       "    metadata,\n",
       "    CLASS_NAME,\n",
       "    EXEC_MIME_TYPE\n",
       "    );\n",
       "    this.keyboard_manager.register_events(toinsert);\n",
       "    // Render to node\n",
       "    var props = {data: data, metadata: metadata[EXEC_MIME_TYPE]};\n",
       "    render(props, toinsert[0]);\n",
       "    element.append(toinsert);\n",
       "    return toinsert\n",
       "  }\n",
       "\n",
       "  events.on('output_added.OutputArea', handle_add_output);\n",
       "  events.on('output_updated.OutputArea', handle_update_output);\n",
       "  events.on('clear_output.CodeCell', handle_clear_output);\n",
       "  events.on('delete.Cell', handle_clear_output);\n",
       "  events.on('kernel_ready.Kernel', handle_kernel_cleanup);\n",
       "\n",
       "  OutputArea.prototype.register_mime_type(EXEC_MIME_TYPE, append_mime, {\n",
       "    safe: true,\n",
       "    index: 0\n",
       "  });\n",
       "}\n",
       "\n",
       "if (window.Jupyter !== undefined) {\n",
       "  try {\n",
       "    var events = require('base/js/events');\n",
       "    var OutputArea = require('notebook/js/outputarea').OutputArea;\n",
       "    if (OutputArea.prototype.mime_types().indexOf(EXEC_MIME_TYPE) == -1) {\n",
       "      register_renderer(events, OutputArea);\n",
       "    }\n",
       "  } catch(err) {\n",
       "  }\n",
       "}\n"
      ],
      "application/vnd.holoviews_load.v0+json": "\nif ((window.PyViz === undefined) || (window.PyViz instanceof HTMLElement)) {\n  window.PyViz = {comms: {}, comm_status:{}, kernels:{}, receivers: {}, plot_index: []}\n}\n\n\n    function JupyterCommManager() {\n    }\n\n    JupyterCommManager.prototype.register_target = function(plot_id, comm_id, msg_handler) {\n      if (window.comm_manager || ((window.Jupyter !== undefined) && (Jupyter.notebook.kernel != null))) {\n        var comm_manager = window.comm_manager || Jupyter.notebook.kernel.comm_manager;\n        comm_manager.register_target(comm_id, function(comm) {\n          comm.on_msg(msg_handler);\n        });\n      } else if ((plot_id in window.PyViz.kernels) && (window.PyViz.kernels[plot_id])) {\n        window.PyViz.kernels[plot_id].registerCommTarget(comm_id, function(comm) {\n          comm.onMsg = msg_handler;\n        });\n      } else if (typeof google != 'undefined' && google.colab.kernel != null) {\n        google.colab.kernel.comms.registerTarget(comm_id, (comm) => {\n          var messages = comm.messages[Symbol.asyncIterator]();\n          function processIteratorResult(result) {\n            var message = result.value;\n            console.log(message)\n            var content = {data: message.data, comm_id};\n            var buffers = []\n            for (var buffer of message.buffers || []) {\n              buffers.push(new DataView(buffer))\n            }\n            var metadata = message.metadata || {};\n            var msg = {content, buffers, metadata}\n            msg_handler(msg);\n            return messages.next().then(processIteratorResult);\n          }\n          return messages.next().then(processIteratorResult);\n        })\n      }\n    }\n\n    JupyterCommManager.prototype.get_client_comm = function(plot_id, comm_id, msg_handler) {\n      if (comm_id in window.PyViz.comms) {\n        return window.PyViz.comms[comm_id];\n      } else if (window.comm_manager || ((window.Jupyter !== undefined) && (Jupyter.notebook.kernel != null))) {\n        var comm_manager = window.comm_manager || Jupyter.notebook.kernel.comm_manager;\n        var comm = comm_manager.new_comm(comm_id, {}, {}, {}, comm_id);\n        if (msg_handler) {\n          comm.on_msg(msg_handler);\n        }\n      } else if ((plot_id in window.PyViz.kernels) && (window.PyViz.kernels[plot_id])) {\n        var comm = window.PyViz.kernels[plot_id].connectToComm(comm_id);\n        comm.open();\n        if (msg_handler) {\n          comm.onMsg = msg_handler;\n        }\n      } else if (typeof google != 'undefined' && google.colab.kernel != null) {\n        var comm_promise = google.colab.kernel.comms.open(comm_id)\n        comm_promise.then((comm) => {\n          window.PyViz.comms[comm_id] = comm;\n          if (msg_handler) {\n            var messages = comm.messages[Symbol.asyncIterator]();\n            function processIteratorResult(result) {\n              var message = result.value;\n              var content = {data: message.data};\n              var metadata = message.metadata || {comm_id};\n              var msg = {content, metadata}\n              msg_handler(msg);\n              return messages.next().then(processIteratorResult);\n            }\n            return messages.next().then(processIteratorResult);\n          }\n        }) \n        var sendClosure = (data, metadata, buffers, disposeOnDone) => {\n          return comm_promise.then((comm) => {\n            comm.send(data, metadata, buffers, disposeOnDone);\n          });\n        };\n        var comm = {\n          send: sendClosure\n        };\n      }\n      window.PyViz.comms[comm_id] = comm;\n      return comm;\n    }\n    window.PyViz.comm_manager = new JupyterCommManager();\n    \n\n\nvar JS_MIME_TYPE = 'application/javascript';\nvar HTML_MIME_TYPE = 'text/html';\nvar EXEC_MIME_TYPE = 'application/vnd.holoviews_exec.v0+json';\nvar CLASS_NAME = 'output';\n\n/**\n * Render data to the DOM node\n */\nfunction render(props, node) {\n  var div = document.createElement(\"div\");\n  var script = document.createElement(\"script\");\n  node.appendChild(div);\n  node.appendChild(script);\n}\n\n/**\n * Handle when a new output is added\n */\nfunction handle_add_output(event, handle) {\n  var output_area = handle.output_area;\n  var output = handle.output;\n  if ((output.data == undefined) || (!output.data.hasOwnProperty(EXEC_MIME_TYPE))) {\n    return\n  }\n  var id = output.metadata[EXEC_MIME_TYPE][\"id\"];\n  var toinsert = output_area.element.find(\".\" + CLASS_NAME.split(' ')[0]);\n  if (id !== undefined) {\n    var nchildren = toinsert.length;\n    var html_node = toinsert[nchildren-1].children[0];\n    html_node.innerHTML = output.data[HTML_MIME_TYPE];\n    var scripts = [];\n    var nodelist = html_node.querySelectorAll(\"script\");\n    for (var i in nodelist) {\n      if (nodelist.hasOwnProperty(i)) {\n        scripts.push(nodelist[i])\n      }\n    }\n\n    scripts.forEach( function (oldScript) {\n      var newScript = document.createElement(\"script\");\n      var attrs = [];\n      var nodemap = oldScript.attributes;\n      for (var j in nodemap) {\n        if (nodemap.hasOwnProperty(j)) {\n          attrs.push(nodemap[j])\n        }\n      }\n      attrs.forEach(function(attr) { newScript.setAttribute(attr.name, attr.value) });\n      newScript.appendChild(document.createTextNode(oldScript.innerHTML));\n      oldScript.parentNode.replaceChild(newScript, oldScript);\n    });\n    if (JS_MIME_TYPE in output.data) {\n      toinsert[nchildren-1].children[1].textContent = output.data[JS_MIME_TYPE];\n    }\n    output_area._hv_plot_id = id;\n    if ((window.Bokeh !== undefined) && (id in Bokeh.index)) {\n      window.PyViz.plot_index[id] = Bokeh.index[id];\n    } else {\n      window.PyViz.plot_index[id] = null;\n    }\n  } else if (output.metadata[EXEC_MIME_TYPE][\"server_id\"] !== undefined) {\n    var bk_div = document.createElement(\"div\");\n    bk_div.innerHTML = output.data[HTML_MIME_TYPE];\n    var script_attrs = bk_div.children[0].attributes;\n    for (var i = 0; i < script_attrs.length; i++) {\n      toinsert[toinsert.length - 1].childNodes[1].setAttribute(script_attrs[i].name, script_attrs[i].value);\n    }\n    // store reference to server id on output_area\n    output_area._bokeh_server_id = output.metadata[EXEC_MIME_TYPE][\"server_id\"];\n  }\n}\n\n/**\n * Handle when an output is cleared or removed\n */\nfunction handle_clear_output(event, handle) {\n  var id = handle.cell.output_area._hv_plot_id;\n  var server_id = handle.cell.output_area._bokeh_server_id;\n  if (((id === undefined) || !(id in PyViz.plot_index)) && (server_id !== undefined)) { return; }\n  var comm = window.PyViz.comm_manager.get_client_comm(\"hv-extension-comm\", \"hv-extension-comm\", function () {});\n  if (server_id !== null) {\n    comm.send({event_type: 'server_delete', 'id': server_id});\n    return;\n  } else if (comm !== null) {\n    comm.send({event_type: 'delete', 'id': id});\n  }\n  delete PyViz.plot_index[id];\n  if ((window.Bokeh !== undefined) & (id in window.Bokeh.index)) {\n    var doc = window.Bokeh.index[id].model.document\n    doc.clear();\n    const i = window.Bokeh.documents.indexOf(doc);\n    if (i > -1) {\n      window.Bokeh.documents.splice(i, 1);\n    }\n  }\n}\n\n/**\n * Handle kernel restart event\n */\nfunction handle_kernel_cleanup(event, handle) {\n  delete PyViz.comms[\"hv-extension-comm\"];\n  window.PyViz.plot_index = {}\n}\n\n/**\n * Handle update_display_data messages\n */\nfunction handle_update_output(event, handle) {\n  handle_clear_output(event, {cell: {output_area: handle.output_area}})\n  handle_add_output(event, handle)\n}\n\nfunction register_renderer(events, OutputArea) {\n  function append_mime(data, metadata, element) {\n    // create a DOM node to render to\n    var toinsert = this.create_output_subarea(\n    metadata,\n    CLASS_NAME,\n    EXEC_MIME_TYPE\n    );\n    this.keyboard_manager.register_events(toinsert);\n    // Render to node\n    var props = {data: data, metadata: metadata[EXEC_MIME_TYPE]};\n    render(props, toinsert[0]);\n    element.append(toinsert);\n    return toinsert\n  }\n\n  events.on('output_added.OutputArea', handle_add_output);\n  events.on('output_updated.OutputArea', handle_update_output);\n  events.on('clear_output.CodeCell', handle_clear_output);\n  events.on('delete.Cell', handle_clear_output);\n  events.on('kernel_ready.Kernel', handle_kernel_cleanup);\n\n  OutputArea.prototype.register_mime_type(EXEC_MIME_TYPE, append_mime, {\n    safe: true,\n    index: 0\n  });\n}\n\nif (window.Jupyter !== undefined) {\n  try {\n    var events = require('base/js/events');\n    var OutputArea = require('notebook/js/outputarea').OutputArea;\n    if (OutputArea.prototype.mime_types().indexOf(EXEC_MIME_TYPE) == -1) {\n      register_renderer(events, OutputArea);\n    }\n  } catch(err) {\n  }\n}\n"
     },
     "metadata": {},
     "output_type": "display_data"
    },
    {
     "data": {
      "text/html": [
       "<style>.bk-root, .bk-root .bk:before, .bk-root .bk:after {\n",
       "  font-family: var(--jp-ui-font-size1);\n",
       "  font-size: var(--jp-ui-font-size1);\n",
       "  color: var(--jp-ui-font-color1);\n",
       "}\n",
       "</style>"
      ]
     },
     "metadata": {},
     "output_type": "display_data"
    },
    {
     "data": {},
     "metadata": {},
     "output_type": "display_data"
    },
    {
     "data": {
      "application/vnd.holoviews_exec.v0+json": "",
      "text/html": [
       "<div id='1003'>\n",
       "  <div class=\"bk-root\" id=\"4635006c-34ef-4269-b653-9d832f80c7ae\" data-root-id=\"1003\"></div>\n",
       "</div>\n",
       "<script type=\"application/javascript\">(function(root) {\n",
       "  function embed_document(root) {\n",
       "    var docs_json = {\"7f747b2a-7e5f-42d7-87eb-29942f03dad6\":{\"defs\":[{\"extends\":null,\"module\":null,\"name\":\"ReactiveHTML1\",\"overrides\":[],\"properties\":[]},{\"extends\":null,\"module\":null,\"name\":\"FlexBox1\",\"overrides\":[],\"properties\":[{\"default\":\"flex-start\",\"kind\":null,\"name\":\"align_content\"},{\"default\":\"flex-start\",\"kind\":null,\"name\":\"align_items\"},{\"default\":\"row\",\"kind\":null,\"name\":\"flex_direction\"},{\"default\":\"wrap\",\"kind\":null,\"name\":\"flex_wrap\"},{\"default\":\"flex-start\",\"kind\":null,\"name\":\"justify_content\"}]},{\"extends\":null,\"module\":null,\"name\":\"GridStack1\",\"overrides\":[],\"properties\":[{\"default\":\"warn\",\"kind\":null,\"name\":\"mode\"},{\"default\":null,\"kind\":null,\"name\":\"ncols\"},{\"default\":null,\"kind\":null,\"name\":\"nrows\"},{\"default\":true,\"kind\":null,\"name\":\"allow_resize\"},{\"default\":true,\"kind\":null,\"name\":\"allow_drag\"},{\"default\":[],\"kind\":null,\"name\":\"state\"}]},{\"extends\":null,\"module\":null,\"name\":\"click1\",\"overrides\":[],\"properties\":[{\"default\":\"\",\"kind\":null,\"name\":\"terminal_output\"},{\"default\":\"\",\"kind\":null,\"name\":\"debug_name\"},{\"default\":0,\"kind\":null,\"name\":\"clears\"}]},{\"extends\":null,\"module\":null,\"name\":\"NotificationAreaBase1\",\"overrides\":[],\"properties\":[{\"default\":\"bottom-right\",\"kind\":null,\"name\":\"position\"},{\"default\":0,\"kind\":null,\"name\":\"_clear\"}]},{\"extends\":null,\"module\":null,\"name\":\"NotificationArea1\",\"overrides\":[],\"properties\":[{\"default\":[],\"kind\":null,\"name\":\"notifications\"},{\"default\":\"bottom-right\",\"kind\":null,\"name\":\"position\"},{\"default\":0,\"kind\":null,\"name\":\"_clear\"},{\"default\":[{\"background\":\"#ffc107\",\"icon\":{\"className\":\"fas fa-exclamation-triangle\",\"color\":\"white\",\"tagName\":\"i\"},\"type\":\"warning\"},{\"background\":\"#007bff\",\"icon\":{\"className\":\"fas fa-info-circle\",\"color\":\"white\",\"tagName\":\"i\"},\"type\":\"info\"}],\"kind\":null,\"name\":\"types\"}]},{\"extends\":null,\"module\":null,\"name\":\"Notification\",\"overrides\":[],\"properties\":[{\"default\":null,\"kind\":null,\"name\":\"background\"},{\"default\":3000,\"kind\":null,\"name\":\"duration\"},{\"default\":null,\"kind\":null,\"name\":\"icon\"},{\"default\":\"\",\"kind\":null,\"name\":\"message\"},{\"default\":null,\"kind\":null,\"name\":\"notification_type\"},{\"default\":false,\"kind\":null,\"name\":\"_destroyed\"}]},{\"extends\":null,\"module\":null,\"name\":\"TemplateActions1\",\"overrides\":[],\"properties\":[{\"default\":0,\"kind\":null,\"name\":\"open_modal\"},{\"default\":0,\"kind\":null,\"name\":\"close_modal\"}]},{\"extends\":null,\"module\":null,\"name\":\"MaterialTemplateActions1\",\"overrides\":[],\"properties\":[{\"default\":0,\"kind\":null,\"name\":\"open_modal\"},{\"default\":0,\"kind\":null,\"name\":\"close_modal\"}]}],\"roots\":{\"references\":[{\"attributes\":{\"client_comm_id\":\"19580a782009447f98fba98cc83ef27a\",\"comm_id\":\"78b86b72e2ad47d8be01a91b199cd89a\",\"plot_id\":\"1003\"},\"id\":\"1004\",\"type\":\"panel.models.comm_manager.CommManager\"},{\"attributes\":{\"name\":\"NotificationArea00127\"},\"id\":\"1002\",\"type\":\"NotificationArea1\"},{\"attributes\":{\"data\":{\"id\":\"1002\"},\"margin\":[5,5,5,5],\"scripts\":{\"_clear\":[\"state.toaster.dismissAll()\"],\"notifications\":[\"var notification = state.current || data.notifications[data.notifications.length-1]\\nif (notification._destroyed) {\\n  return\\n}\\nvar config = {\\n  duration: notification.duration,\\n  type: notification.notification_type,\\n  message: notification.message\\n}\\nif (notification.background != null) {\\n  config.background = notification.background;\\n}\\nif (notification.icon != null) {\\n  config.icon = notification.icon;\\n}\\nvar toast = state.toaster.open(config);\\nfunction destroy() {\\n  if (state.current !== notification) {\\n    notification._destroyed = true;\\n  }\\n}\\ntoast.on(&#x27;dismiss&#x27;, destroy)\\nif (notification.duration) {\\n  setTimeout(destroy, notification.duration)\\n}\\nif (notification.properties === undefined)\\n  return\\nview.connect(notification.properties._destroyed.change, function () {\\n  state.toaster.dismiss(toast)\\n})\"],\"position\":[\"script(&#x27;_clear&#x27;);\\nscript(&#x27;render&#x27;);\\nfor (notification of data.notifications) {\\n  state.current = notification;\\n  script(&#x27;notifications&#x27;);\\n}\\nstate.current = undefined\"],\"render\":[\"var [y, x] = data.position.split(&#x27;-&#x27;)\\nstate.toaster = new Notyf({\\n  dismissible: true,\\n  position: {x: x, y: y},\\n  types: data.types\\n})\"]},\"sizing_mode\":\"stretch_width\",\"subscribed_events\":[\"dom_event\"]},\"id\":\"1003\",\"type\":\"panel.models.reactive_html.ReactiveHTML\"},{\"attributes\":{\"reload\":false},\"id\":\"1005\",\"type\":\"panel.models.location.Location\"}],\"root_ids\":[\"1003\",\"1004\",\"1005\"]},\"title\":\"Bokeh Application\",\"version\":\"2.4.3\"}};\n",
       "    var render_items = [{\"docid\":\"7f747b2a-7e5f-42d7-87eb-29942f03dad6\",\"root_ids\":[\"1003\"],\"roots\":{\"1003\":\"4635006c-34ef-4269-b653-9d832f80c7ae\"}}];\n",
       "    root.Bokeh.embed.embed_items_notebook(docs_json, render_items);\n",
       "  }\n",
       "  if (root.Bokeh !== undefined && root.Bokeh.Panel !== undefined && ( root['Tabulator'] !== undefined)) {\n",
       "    embed_document(root);\n",
       "  } else {\n",
       "    var attempts = 0;\n",
       "    var timer = setInterval(function(root) {\n",
       "      if (root.Bokeh !== undefined && root.Bokeh.Panel !== undefined && (root['Tabulator'] !== undefined)) {\n",
       "        clearInterval(timer);\n",
       "        embed_document(root);\n",
       "      } else if (document.readyState == \"complete\") {\n",
       "        attempts++;\n",
       "        if (attempts > 200) {\n",
       "          clearInterval(timer);\n",
       "          console.log(\"Bokeh: ERROR: Unable to run BokehJS code because BokehJS library is missing\");\n",
       "        }\n",
       "      }\n",
       "    }, 25, root)\n",
       "  }\n",
       "})(window);</script>"
      ],
      "text/plain": [
       "NotificationArea(sizing_mode='stretch_width')"
      ]
     },
     "metadata": {
      "application/vnd.holoviews_exec.v0+json": {
       "id": "1003"
      }
     },
     "output_type": "display_data"
    }
   ],
   "source": [
    "import sim2bids\n",
    "from sim2bids.sim2bids import MainArea\n",
    "\n",
    "pn.extension('tabulator', 'ace', 'jsoneditor', 'ipywidgets', sizing_mode='stretch_width', notifications=True)"
   ]
  },
  {
   "cell_type": "code",
   "execution_count": 4,
   "id": "922af88f",
   "metadata": {},
   "outputs": [
    {
     "name": "stderr",
     "output_type": "stream",
     "text": [
      "WARNING:param.MainArea00228: Setting non-parameter attribute text_input=TextInput(name='Insert Path', sizing_mode='stretch_width') using a mechanism intended only for parameters\n",
      "WARNING:param.MainArea00228:Setting non-parameter attribute text_input=TextInput(name='Insert Path', sizing_mode='stretch_width') using a mechanism intended only for parameters\n",
      "WARNING:param.MainArea00228: Setting non-parameter attribute cross_select=CrossSelector(options=['.ipynb_checkpoints', ...], sizing_mode='stretch_width') using a mechanism intended only for parameters\n",
      "WARNING:param.MainArea00228:Setting non-parameter attribute cross_select=CrossSelector(options=['.ipynb_checkpoints', ...], sizing_mode='stretch_width') using a mechanism intended only for parameters\n",
      "INFO:bokeh.server.server:Starting Bokeh server version 2.4.3 (running on Tornado 6.1)\n",
      "INFO:bokeh.server.tornado:User authentication hooks NOT provided (default user enabled)\n"
     ]
    },
    {
     "name": "stdout",
     "output_type": "stream",
     "text": [
      "Launching server at http://localhost:50128\n"
     ]
    },
    {
     "data": {
      "text/plain": [
       "<bokeh.server.server.Server at 0x1d3fc2783d0>"
      ]
     },
     "execution_count": 4,
     "metadata": {},
     "output_type": "execute_result"
    },
    {
     "name": "stderr",
     "output_type": "stream",
     "text": [
      "INFO:tornado.access:200 GET / (127.0.0.1) 171.03ms\n",
      "INFO:tornado.access:200 GET /static/extensions/panel/bundled/jsoneditor/npm/jsoneditor@9.1.9/dist/jsoneditor.min.css (127.0.0.1) 2.00ms\n",
      "INFO:tornado.access:200 GET /static/extensions/panel/bundled/notificationarea/ajax/libs/font-awesome/5.15.1/css/all.min.css (127.0.0.1) 4.01ms\n",
      "INFO:tornado.access:200 GET /static/extensions/panel/bundled/datatabulator/tabulator-tables@4.9.3/dist/css/tabulator_simple.min.css (127.0.0.1) 7.00ms\n",
      "INFO:tornado.access:200 GET /static/extensions/panel/bundled/notificationarea/npm/notyf@3/notyf.min.css (127.0.0.1) 9.00ms\n",
      "INFO:tornado.access:200 GET /static/extensions/panel/css/alerts.css (127.0.0.1) 3.98ms\n",
      "INFO:tornado.access:200 GET /static/extensions/panel/css/card.css (127.0.0.1) 6.01ms\n",
      "INFO:tornado.access:200 GET /static/extensions/panel/css/dataframe.css (127.0.0.1) 9.00ms\n",
      "INFO:tornado.access:200 GET /static/extensions/panel/css/debugger.css (127.0.0.1) 12.00ms\n",
      "INFO:tornado.access:200 GET /static/extensions/panel/css/json.css (127.0.0.1) 13.00ms\n",
      "INFO:tornado.access:200 GET /static/extensions/panel/css/loading.css (127.0.0.1) 15.00ms\n",
      "INFO:tornado.access:200 GET /static/extensions/panel/css/markdown.css (127.0.0.1) 3.00ms\n",
      "INFO:tornado.access:200 GET /static/extensions/panel/css/widgets.css (127.0.0.1) 6.00ms\n",
      "INFO:tornado.access:200 GET /static/extensions/panel/bundled/jsoneditor/npm/jsoneditor@9.1.9/dist/jsoneditor.min.js (127.0.0.1) 10.00ms\n",
      "INFO:tornado.access:200 GET /static/extensions/panel/bundled/datatabulator/tabulator-tables@4.9.3/dist/js/tabulator.js (127.0.0.1) 16.01ms\n",
      "INFO:tornado.access:200 GET /static/extensions/panel/bundled/datatabulator/npm/luxon/build/global/luxon.min.js (127.0.0.1) 18.00ms\n",
      "INFO:tornado.access:200 GET /static/js/bokeh.min.js?v=3c61e952b808bb7e346ce828a565a5f23aaf7708d034fa9d0906403813355d45bb4e8d8b0b23a93f032c76831d4f0221846f28699c7f5147caa62e0d31668314 (127.0.0.1) 26.00ms\n",
      "INFO:tornado.access:200 GET /static/js/bokeh-gl.min.js?v=e5df31fd9010eacff0aa72d315264604b5e34972ba445acea6fce98080eecf33acf2d2986126360faaa5852813cffa16f6f6f4889923318300f062497c02da4e (127.0.0.1) 5.00ms\n",
      "INFO:tornado.access:200 GET /static/js/bokeh-widgets.min.js?v=8a1ff6f5aa0d967f4998d275803bbb111d928fd9f605ef9e1f30cfd021df0e77224ee3d13f83edb3a942f6e4ccc569ee5dd8951a8aa6cb600602463b90c65a87 (127.0.0.1) 7.00ms\n",
      "INFO:tornado.access:200 GET /static/js/bokeh-tables.min.js?v=ae2903e57cf57f52819fdf4d938c648982b51c34f73b6e653a0f3bb3c8ab44f338505931ace43eafc1636e215492e2314acf54c54baffb47813b86b4923a7fe0 (127.0.0.1) 11.00ms\n",
      "INFO:tornado.access:200 GET /static/extensions/panel/bundled/notificationarea/npm/notyf@3/notyf.min.js (127.0.0.1) 13.99ms\n",
      "INFO:tornado.access:200 GET /static/extensions/panel/panel.min.js?v=069cc8563e34a217fd5e41b8b6311eb15fa17fd5fdab8a2d352260f297f6d8d1 (127.0.0.1) 3.00ms\n",
      "INFO:tornado.access:200 GET /static/extensions/panel/bundled/materialtemplate/material.css (127.0.0.1) 5.00ms\n",
      "INFO:tornado.access:200 GET /static/extensions/panel/bundled/defaulttheme/default.css (127.0.0.1) 10.01ms\n",
      "INFO:tornado.access:200 GET /static/extensions/panel/bundled/materialtemplate/default.css (127.0.0.1) 13.00ms\n",
      "INFO:tornado.access:101 GET /ws (127.0.0.1) 0.00ms\n",
      "INFO:bokeh.server.views.ws:WebSocket connection opened\n",
      "INFO:bokeh.server.views.ws:ServerConnection created\n",
      "INFO:tornado.access:200 GET /static/extensions/panel/icons/favicon.ico (127.0.0.1) 5.00ms\n",
      "ERROR:bokeh.server.protocol_handler:error handling message\n",
      " message: Message 'PATCH-DOC' content: {'events': [{'kind': 'MessageSent', 'msg_type': 'bokeh_event', 'msg_data': {'event_name': 'button_click', 'event_values': {}}}], 'references': []} \n",
      " error: FileNotFoundError(2, 'No such file or directory')\n",
      "Traceback (most recent call last):\n",
      "  File \"C:\\Users\\dinar\\miniconda3\\envs\\incf\\lib\\site-packages\\scipy\\io\\matlab\\_mio.py\", line 39, in _open_file\n",
      "    return open(file_like, mode), True\n",
      "FileNotFoundError: [Errno 2] No such file or directory: 'C:\\\\Users\\\\dinar\\\\Desktop\\\\50healthy_test\\\\AA_20120815_SC.mat_SC_log_SC_22min_csf_0.0328.mat'\n",
      "\n",
      "During handling of the above exception, another exception occurred:\n",
      "\n",
      "Traceback (most recent call last):\n",
      "  File \"C:\\Users\\dinar\\miniconda3\\envs\\incf\\lib\\site-packages\\bokeh\\server\\protocol_handler.py\", line 97, in handle\n",
      "    work = await handler(message, connection)\n",
      "  File \"C:\\Users\\dinar\\miniconda3\\envs\\incf\\lib\\site-packages\\bokeh\\server\\session.py\", line 95, in _needs_document_lock_wrapper\n",
      "    result = func(self, *args, **kwargs)\n",
      "  File \"C:\\Users\\dinar\\miniconda3\\envs\\incf\\lib\\site-packages\\bokeh\\server\\session.py\", line 289, in _handle_patch\n",
      "    message.apply_to_document(self.document, self)\n",
      "  File \"C:\\Users\\dinar\\miniconda3\\envs\\incf\\lib\\site-packages\\bokeh\\protocol\\messages\\patch_doc.py\", line 115, in apply_to_document\n",
      "    invoke_with_curdoc(doc, lambda: doc.apply_json_patch(self.content, setter))\n",
      "  File \"C:\\Users\\dinar\\miniconda3\\envs\\incf\\lib\\site-packages\\bokeh\\document\\callbacks.py\", line 408, in invoke_with_curdoc\n",
      "    return f()\n",
      "  File \"C:\\Users\\dinar\\miniconda3\\envs\\incf\\lib\\site-packages\\bokeh\\protocol\\messages\\patch_doc.py\", line 115, in <lambda>\n",
      "    invoke_with_curdoc(doc, lambda: doc.apply_json_patch(self.content, setter))\n",
      "  File \"C:\\Users\\dinar\\miniconda3\\envs\\incf\\lib\\site-packages\\bokeh\\document\\document.py\", line 391, in apply_json_patch\n",
      "    DocumentPatchedEvent.handle_json(self, event_json, references, setter)\n",
      "  File \"C:\\Users\\dinar\\miniconda3\\envs\\incf\\lib\\site-packages\\bokeh\\document\\events.py\", line 259, in handle_json\n",
      "    handler(doc, event_json, references, setter)\n",
      "  File \"C:\\Users\\dinar\\miniconda3\\envs\\incf\\lib\\site-packages\\bokeh\\document\\events.py\", line 300, in _handle_json\n",
      "    cb(event_json[\"msg_data\"])\n",
      "  File \"C:\\Users\\dinar\\miniconda3\\envs\\incf\\lib\\site-packages\\bokeh\\document\\callbacks.py\", line 355, in trigger_json_event\n",
      "    model._trigger_event(event)\n",
      "  File \"C:\\Users\\dinar\\miniconda3\\envs\\incf\\lib\\site-packages\\bokeh\\util\\callback_manager.py\", line 119, in _trigger_event\n",
      "    self.document.callbacks.notify_event(cast(Model, self), event, invoke)\n",
      "  File \"C:\\Users\\dinar\\miniconda3\\envs\\incf\\lib\\site-packages\\bokeh\\document\\callbacks.py\", line 247, in notify_event\n",
      "    invoke_with_curdoc(doc, callback_invoker)\n",
      "  File \"C:\\Users\\dinar\\miniconda3\\envs\\incf\\lib\\site-packages\\bokeh\\document\\callbacks.py\", line 408, in invoke_with_curdoc\n",
      "    return f()\n",
      "  File \"C:\\Users\\dinar\\miniconda3\\envs\\incf\\lib\\site-packages\\bokeh\\util\\callback_manager.py\", line 115, in invoke\n",
      "    cast(EventCallbackWithEvent, callback)(event)\n",
      "  File \"C:\\Users\\dinar\\miniconda3\\envs\\incf\\lib\\site-packages\\panel\\reactive.py\", line 406, in _server_event\n",
      "    self._comm_event(event)\n",
      "  File \"C:\\Users\\dinar\\miniconda3\\envs\\incf\\lib\\site-packages\\panel\\reactive.py\", line 398, in _comm_event\n",
      "    self._process_bokeh_event(event)\n",
      "  File \"C:\\Users\\dinar\\miniconda3\\envs\\incf\\lib\\site-packages\\panel\\reactive.py\", line 345, in _process_bokeh_event\n",
      "    self._process_event(event)\n",
      "  File \"C:\\Users\\dinar\\miniconda3\\envs\\incf\\lib\\site-packages\\panel\\widgets\\button.py\", line 176, in _process_event\n",
      "    self.clicks += 1\n",
      "  File \"C:\\Users\\dinar\\miniconda3\\envs\\incf\\lib\\site-packages\\param\\parameterized.py\", line 367, in _f\n",
      "    instance_param.__set__(obj, val)\n",
      "  File \"C:\\Users\\dinar\\miniconda3\\envs\\incf\\lib\\site-packages\\param\\parameterized.py\", line 369, in _f\n",
      "    return f(self, obj, val)\n",
      "  File \"C:\\Users\\dinar\\miniconda3\\envs\\incf\\lib\\site-packages\\param\\__init__.py\", line 625, in __set__\n",
      "    super(Dynamic,self).__set__(obj,val)\n",
      "  File \"C:\\Users\\dinar\\miniconda3\\envs\\incf\\lib\\site-packages\\param\\parameterized.py\", line 369, in _f\n",
      "    return f(self, obj, val)\n",
      "  File \"C:\\Users\\dinar\\miniconda3\\envs\\incf\\lib\\site-packages\\param\\parameterized.py\", line 1248, in __set__\n",
      "    obj.param._call_watcher(watcher, event)\n",
      "  File \"C:\\Users\\dinar\\miniconda3\\envs\\incf\\lib\\site-packages\\param\\parameterized.py\", line 2039, in _call_watcher\n",
      "    self_._execute_watcher(watcher, (event,))\n",
      "  File \"C:\\Users\\dinar\\miniconda3\\envs\\incf\\lib\\site-packages\\param\\parameterized.py\", line 2021, in _execute_watcher\n",
      "    watcher.fn(*args, **kwargs)\n",
      "  File \"C:\\Users\\dinar\\miniconda3\\envs\\incf\\lib\\site-packages\\panel\\widgets\\select.py\", line 881, in _apply_selection\n",
      "    self.value = [self._items[o] for o in self._lists[True].options if o != '']\n",
      "  File \"C:\\Users\\dinar\\miniconda3\\envs\\incf\\lib\\site-packages\\param\\parameterized.py\", line 367, in _f\n",
      "    instance_param.__set__(obj, val)\n",
      "  File \"C:\\Users\\dinar\\miniconda3\\envs\\incf\\lib\\site-packages\\param\\parameterized.py\", line 369, in _f\n",
      "    return f(self, obj, val)\n",
      "  File \"C:\\Users\\dinar\\miniconda3\\envs\\incf\\lib\\site-packages\\param\\parameterized.py\", line 1248, in __set__\n",
      "    obj.param._call_watcher(watcher, event)\n",
      "  File \"C:\\Users\\dinar\\miniconda3\\envs\\incf\\lib\\site-packages\\param\\parameterized.py\", line 2039, in _call_watcher\n",
      "    self_._execute_watcher(watcher, (event,))\n",
      "  File \"C:\\Users\\dinar\\miniconda3\\envs\\incf\\lib\\site-packages\\param\\parameterized.py\", line 2021, in _execute_watcher\n",
      "    watcher.fn(*args, **kwargs)\n",
      "  File \"C:\\Users\\dinar\\miniconda3\\envs\\incf\\lib\\site-packages\\param\\parameterized.py\", line 669, in caller\n",
      "    return function()\n",
      "  File \"C:\\Users\\dinar\\miniconda3\\envs\\incf\\lib\\site-packages\\param\\parameterized.py\", line 407, in _depends\n",
      "    return func(*args, **kw)\n",
      "  File \"C:\\Users\\dinar\\Desktop\\gsoc2\\app_templates\\..\\sim2bids\\sim2bids.py\", line 105, in _generate_path\n",
      "    self.to_rename_path = validate.filter(app_utils.get_content(path, selected), self.to_rename)\n",
      "  File \"C:\\Users\\dinar\\Desktop\\gsoc2\\app_templates\\..\\sim2bids\\app\\utils.py\", line 146, in get_content\n",
      "    contents += extract_mat(os.path.join(path, file), path)\n",
      "  File \"C:\\Users\\dinar\\Desktop\\gsoc2\\app_templates\\..\\sim2bids\\app\\utils.py\", line 227, in extract_mat\n",
      "    return mat.save_mat({'path': path, 'sid': preprocess.create_uuid()}, og_path, extract=True)\n",
      "  File \"C:\\Users\\dinar\\Desktop\\gsoc2\\app_templates\\..\\sim2bids\\convert\\mat.py\", line 16, in save_mat\n",
      "    file = traverse_file(sub['path'])\n",
      "  File \"C:\\Users\\dinar\\Desktop\\gsoc2\\app_templates\\..\\sim2bids\\convert\\mat.py\", line 102, in traverse_file\n",
      "    mat = sio.loadmat(path, squeeze_me=True)\n",
      "  File \"C:\\Users\\dinar\\miniconda3\\envs\\incf\\lib\\site-packages\\scipy\\io\\matlab\\_mio.py\", line 224, in loadmat\n",
      "    with _open_file_context(file_name, appendmat) as f:\n",
      "  File \"C:\\Users\\dinar\\miniconda3\\envs\\incf\\lib\\contextlib.py\", line 135, in __enter__\n",
      "    return next(self.gen)\n",
      "  File \"C:\\Users\\dinar\\miniconda3\\envs\\incf\\lib\\site-packages\\scipy\\io\\matlab\\_mio.py\", line 17, in _open_file_context\n",
      "    f, opened = _open_file(file_like, appendmat, mode)\n",
      "  File \"C:\\Users\\dinar\\miniconda3\\envs\\incf\\lib\\site-packages\\scipy\\io\\matlab\\_mio.py\", line 45, in _open_file\n",
      "    return open(file_like, mode), True\n",
      "FileNotFoundError: [Errno 2] No such file or directory: 'C:\\\\Users\\\\dinar\\\\Desktop\\\\50healthy_test\\\\AA_20120815_SC.mat_SC_log_SC_22min_csf_0.0328.mat'\n"
     ]
    },
    {
     "name": "stderr",
     "output_type": "stream",
     "text": [
      "ERROR:bokeh.server.protocol_handler:error handling message\n",
      " message: Message 'PATCH-DOC' content: {'events': [{'kind': 'MessageSent', 'msg_type': 'bokeh_event', 'msg_data': {'event_name': 'button_click', 'event_values': {}}}], 'references': []} \n",
      " error: FileNotFoundError(2, 'No such file or directory')\n",
      "Traceback (most recent call last):\n",
      "  File \"C:\\Users\\dinar\\miniconda3\\envs\\incf\\lib\\site-packages\\scipy\\io\\matlab\\_mio.py\", line 39, in _open_file\n",
      "    return open(file_like, mode), True\n",
      "FileNotFoundError: [Errno 2] No such file or directory: 'C:\\\\Users\\\\dinar\\\\Desktop\\\\50healthy_test\\\\AA_20120815_SC.mat_SC_log_SC_22min_csf_0.0328.mat'\n",
      "\n",
      "During handling of the above exception, another exception occurred:\n",
      "\n",
      "Traceback (most recent call last):\n",
      "  File \"C:\\Users\\dinar\\miniconda3\\envs\\incf\\lib\\site-packages\\bokeh\\server\\protocol_handler.py\", line 97, in handle\n",
      "    work = await handler(message, connection)\n",
      "  File \"C:\\Users\\dinar\\miniconda3\\envs\\incf\\lib\\site-packages\\bokeh\\server\\session.py\", line 95, in _needs_document_lock_wrapper\n",
      "    result = func(self, *args, **kwargs)\n",
      "  File \"C:\\Users\\dinar\\miniconda3\\envs\\incf\\lib\\site-packages\\bokeh\\server\\session.py\", line 289, in _handle_patch\n",
      "    message.apply_to_document(self.document, self)\n",
      "  File \"C:\\Users\\dinar\\miniconda3\\envs\\incf\\lib\\site-packages\\bokeh\\protocol\\messages\\patch_doc.py\", line 115, in apply_to_document\n",
      "    invoke_with_curdoc(doc, lambda: doc.apply_json_patch(self.content, setter))\n",
      "  File \"C:\\Users\\dinar\\miniconda3\\envs\\incf\\lib\\site-packages\\bokeh\\document\\callbacks.py\", line 408, in invoke_with_curdoc\n",
      "    return f()\n",
      "  File \"C:\\Users\\dinar\\miniconda3\\envs\\incf\\lib\\site-packages\\bokeh\\protocol\\messages\\patch_doc.py\", line 115, in <lambda>\n",
      "    invoke_with_curdoc(doc, lambda: doc.apply_json_patch(self.content, setter))\n",
      "  File \"C:\\Users\\dinar\\miniconda3\\envs\\incf\\lib\\site-packages\\bokeh\\document\\document.py\", line 391, in apply_json_patch\n",
      "    DocumentPatchedEvent.handle_json(self, event_json, references, setter)\n",
      "  File \"C:\\Users\\dinar\\miniconda3\\envs\\incf\\lib\\site-packages\\bokeh\\document\\events.py\", line 259, in handle_json\n",
      "    handler(doc, event_json, references, setter)\n",
      "  File \"C:\\Users\\dinar\\miniconda3\\envs\\incf\\lib\\site-packages\\bokeh\\document\\events.py\", line 300, in _handle_json\n",
      "    cb(event_json[\"msg_data\"])\n",
      "  File \"C:\\Users\\dinar\\miniconda3\\envs\\incf\\lib\\site-packages\\bokeh\\document\\callbacks.py\", line 355, in trigger_json_event\n",
      "    model._trigger_event(event)\n",
      "  File \"C:\\Users\\dinar\\miniconda3\\envs\\incf\\lib\\site-packages\\bokeh\\util\\callback_manager.py\", line 119, in _trigger_event\n",
      "    self.document.callbacks.notify_event(cast(Model, self), event, invoke)\n",
      "  File \"C:\\Users\\dinar\\miniconda3\\envs\\incf\\lib\\site-packages\\bokeh\\document\\callbacks.py\", line 247, in notify_event\n",
      "    invoke_with_curdoc(doc, callback_invoker)\n",
      "  File \"C:\\Users\\dinar\\miniconda3\\envs\\incf\\lib\\site-packages\\bokeh\\document\\callbacks.py\", line 408, in invoke_with_curdoc\n",
      "    return f()\n",
      "  File \"C:\\Users\\dinar\\miniconda3\\envs\\incf\\lib\\site-packages\\bokeh\\util\\callback_manager.py\", line 115, in invoke\n",
      "    cast(EventCallbackWithEvent, callback)(event)\n",
      "  File \"C:\\Users\\dinar\\miniconda3\\envs\\incf\\lib\\site-packages\\panel\\reactive.py\", line 406, in _server_event\n",
      "    self._comm_event(event)\n",
      "  File \"C:\\Users\\dinar\\miniconda3\\envs\\incf\\lib\\site-packages\\panel\\reactive.py\", line 398, in _comm_event\n",
      "    self._process_bokeh_event(event)\n",
      "  File \"C:\\Users\\dinar\\miniconda3\\envs\\incf\\lib\\site-packages\\panel\\reactive.py\", line 345, in _process_bokeh_event\n",
      "    self._process_event(event)\n",
      "  File \"C:\\Users\\dinar\\miniconda3\\envs\\incf\\lib\\site-packages\\panel\\widgets\\button.py\", line 176, in _process_event\n",
      "    self.clicks += 1\n",
      "  File \"C:\\Users\\dinar\\miniconda3\\envs\\incf\\lib\\site-packages\\param\\parameterized.py\", line 367, in _f\n",
      "    instance_param.__set__(obj, val)\n",
      "  File \"C:\\Users\\dinar\\miniconda3\\envs\\incf\\lib\\site-packages\\param\\parameterized.py\", line 369, in _f\n",
      "    return f(self, obj, val)\n",
      "  File \"C:\\Users\\dinar\\miniconda3\\envs\\incf\\lib\\site-packages\\param\\__init__.py\", line 625, in __set__\n",
      "    super(Dynamic,self).__set__(obj,val)\n",
      "  File \"C:\\Users\\dinar\\miniconda3\\envs\\incf\\lib\\site-packages\\param\\parameterized.py\", line 369, in _f\n",
      "    return f(self, obj, val)\n",
      "  File \"C:\\Users\\dinar\\miniconda3\\envs\\incf\\lib\\site-packages\\param\\parameterized.py\", line 1248, in __set__\n",
      "    obj.param._call_watcher(watcher, event)\n",
      "  File \"C:\\Users\\dinar\\miniconda3\\envs\\incf\\lib\\site-packages\\param\\parameterized.py\", line 2039, in _call_watcher\n",
      "    self_._execute_watcher(watcher, (event,))\n",
      "  File \"C:\\Users\\dinar\\miniconda3\\envs\\incf\\lib\\site-packages\\param\\parameterized.py\", line 2021, in _execute_watcher\n",
      "    watcher.fn(*args, **kwargs)\n",
      "  File \"C:\\Users\\dinar\\miniconda3\\envs\\incf\\lib\\site-packages\\panel\\param.py\", line 479, in action\n",
      "    value(self.object)\n",
      "  File \"C:\\Users\\dinar\\Desktop\\gsoc2\\app_templates\\..\\sim2bids\\sim2bids.py\", line 34, in <lambda>\n",
      "    gen_btn = param.Action(lambda self: self._generate_files(), label='Generate Files')\n",
      "  File \"C:\\Users\\dinar\\Desktop\\gsoc2\\app_templates\\..\\sim2bids\\sim2bids.py\", line 117, in _generate_files\n",
      "    _ = app.main(path=self.text_input.value, files=self.cross_select.value,\n",
      "  File \"C:\\Users\\dinar\\Desktop\\gsoc2\\app_templates\\..\\sim2bids\\app\\app.py\", line 93, in main\n",
      "    subs = subjects.Files(path, files).subs\n",
      "  File \"C:\\Users\\dinar\\Desktop\\gsoc2\\app_templates\\..\\sim2bids\\generate\\subjects.py\", line 23, in __init__\n",
      "    self.content = utils.get_content(path, files)\n",
      "  File \"C:\\Users\\dinar\\Desktop\\gsoc2\\app_templates\\..\\sim2bids\\app\\utils.py\", line 146, in get_content\n",
      "    contents += extract_mat(os.path.join(path, file), path)\n",
      "  File \"C:\\Users\\dinar\\Desktop\\gsoc2\\app_templates\\..\\sim2bids\\app\\utils.py\", line 227, in extract_mat\n",
      "    return mat.save_mat({'path': path, 'sid': preprocess.create_uuid()}, og_path, extract=True)\n",
      "  File \"C:\\Users\\dinar\\Desktop\\gsoc2\\app_templates\\..\\sim2bids\\convert\\mat.py\", line 16, in save_mat\n",
      "    file = traverse_file(sub['path'])\n",
      "  File \"C:\\Users\\dinar\\Desktop\\gsoc2\\app_templates\\..\\sim2bids\\convert\\mat.py\", line 102, in traverse_file\n",
      "    mat = sio.loadmat(path, squeeze_me=True)\n",
      "  File \"C:\\Users\\dinar\\miniconda3\\envs\\incf\\lib\\site-packages\\scipy\\io\\matlab\\_mio.py\", line 224, in loadmat\n",
      "    with _open_file_context(file_name, appendmat) as f:\n",
      "  File \"C:\\Users\\dinar\\miniconda3\\envs\\incf\\lib\\contextlib.py\", line 135, in __enter__\n",
      "    return next(self.gen)\n",
      "  File \"C:\\Users\\dinar\\miniconda3\\envs\\incf\\lib\\site-packages\\scipy\\io\\matlab\\_mio.py\", line 17, in _open_file_context\n",
      "    f, opened = _open_file(file_like, appendmat, mode)\n",
      "  File \"C:\\Users\\dinar\\miniconda3\\envs\\incf\\lib\\site-packages\\scipy\\io\\matlab\\_mio.py\", line 45, in _open_file\n",
      "    return open(file_like, mode), True\n",
      "FileNotFoundError: [Errno 2] No such file or directory: 'C:\\\\Users\\\\dinar\\\\Desktop\\\\50healthy_test\\\\AA_20120815_SC.mat_SC_log_SC_22min_csf_0.0328.mat'\n"
     ]
    },
    {
     "name": "stdout",
     "output_type": "stream",
     "text": [
      "TIMES: ['bold_times_22min.txt', 'subs_times_22min.txt']\n",
      "OrderedDict([('sub-01', {'bold_ts_22min': {'name': 'bold_ts_22min', 'fname': 'C:\\\\Users\\\\dinar\\\\Desktop\\\\50healthy_test\\\\sub-02\\\\bold_ts_22min.txt', 'sid': 'sub-01', 'desc': 'default', 'sep': '\\t', 'path': 'C:\\\\Users\\\\dinar\\\\Desktop\\\\50healthy_test\\\\sub-02\\\\bold_ts_22min.txt', 'ext': 'txt'}, 'subs_ts_22min': {'name': 'subs_ts_22min', 'fname': 'C:\\\\Users\\\\dinar\\\\Desktop\\\\50healthy_test\\\\sub-02\\\\subs_ts_22min.txt', 'sid': 'sub-01', 'desc': 'default', 'sep': '\\t', 'path': 'C:\\\\Users\\\\dinar\\\\Desktop\\\\50healthy_test\\\\sub-02\\\\subs_ts_22min.txt', 'ext': 'txt'}}), (None, {'distances': {'name': 'distances', 'fname': 'C:\\\\Users\\\\dinar\\\\Desktop\\\\50healthy_test\\\\sub-02\\\\AY_20111004_distances.txt', 'sid': None, 'desc': 'default', 'sep': '\\t', 'path': 'C:\\\\Users\\\\dinar\\\\Desktop\\\\50healthy_test\\\\sub-02\\\\AY_20111004_distances.txt', 'ext': 'txt'}, 'weights': {'name': 'weights', 'fname': 'C:\\\\Users\\\\dinar\\\\Desktop\\\\50healthy_test\\\\sub-02\\\\AY_20111004_weights.txt', 'sid': None, 'desc': 'default', 'sep': '\\t', 'path': 'C:\\\\Users\\\\dinar\\\\Desktop\\\\50healthy_test\\\\sub-02\\\\AY_20111004_weights.txt', 'ext': 'txt'}, 'bold_times_22min': {'name': 'bold_times_22min', 'fname': 'C:\\\\Users\\\\dinar\\\\Desktop\\\\50healthy_test\\\\sub-02\\\\bold_times_22min.txt', 'sid': None, 'desc': 'default', 'sep': '.', 'path': 'C:\\\\Users\\\\dinar\\\\Desktop\\\\50healthy_test\\\\sub-02\\\\bold_times_22min.txt', 'ext': 'txt'}, 'subs_times_22min': {'name': 'subs_times_22min', 'fname': 'C:\\\\Users\\\\dinar\\\\Desktop\\\\50healthy_test\\\\sub-02\\\\subs_times_22min.txt', 'sid': None, 'desc': 'default', 'sep': '.', 'path': 'C:\\\\Users\\\\dinar\\\\Desktop\\\\50healthy_test\\\\sub-02\\\\subs_times_22min.txt', 'ext': 'txt'}})])\n"
     ]
    },
    {
     "name": "stderr",
     "output_type": "stream",
     "text": [
      "ERROR:bokeh.server.protocol_handler:error handling message\n",
      " message: Message 'PATCH-DOC' content: {'events': [{'kind': 'MessageSent', 'msg_type': 'bokeh_event', 'msg_data': {'event_name': 'button_click', 'event_values': {}}}], 'references': []} \n",
      " error: TypeError(\"join() argument must be str, bytes, or os.PathLike object, not 'NoneType'\")\n",
      "Traceback (most recent call last):\n",
      "  File \"C:\\Users\\dinar\\miniconda3\\envs\\incf\\lib\\site-packages\\bokeh\\server\\protocol_handler.py\", line 97, in handle\n",
      "    work = await handler(message, connection)\n",
      "  File \"C:\\Users\\dinar\\miniconda3\\envs\\incf\\lib\\site-packages\\bokeh\\server\\session.py\", line 95, in _needs_document_lock_wrapper\n",
      "    result = func(self, *args, **kwargs)\n",
      "  File \"C:\\Users\\dinar\\miniconda3\\envs\\incf\\lib\\site-packages\\bokeh\\server\\session.py\", line 289, in _handle_patch\n",
      "    message.apply_to_document(self.document, self)\n",
      "  File \"C:\\Users\\dinar\\miniconda3\\envs\\incf\\lib\\site-packages\\bokeh\\protocol\\messages\\patch_doc.py\", line 115, in apply_to_document\n",
      "    invoke_with_curdoc(doc, lambda: doc.apply_json_patch(self.content, setter))\n",
      "  File \"C:\\Users\\dinar\\miniconda3\\envs\\incf\\lib\\site-packages\\bokeh\\document\\callbacks.py\", line 408, in invoke_with_curdoc\n",
      "    return f()\n",
      "  File \"C:\\Users\\dinar\\miniconda3\\envs\\incf\\lib\\site-packages\\bokeh\\protocol\\messages\\patch_doc.py\", line 115, in <lambda>\n",
      "    invoke_with_curdoc(doc, lambda: doc.apply_json_patch(self.content, setter))\n",
      "  File \"C:\\Users\\dinar\\miniconda3\\envs\\incf\\lib\\site-packages\\bokeh\\document\\document.py\", line 391, in apply_json_patch\n",
      "    DocumentPatchedEvent.handle_json(self, event_json, references, setter)\n",
      "  File \"C:\\Users\\dinar\\miniconda3\\envs\\incf\\lib\\site-packages\\bokeh\\document\\events.py\", line 259, in handle_json\n",
      "    handler(doc, event_json, references, setter)\n",
      "  File \"C:\\Users\\dinar\\miniconda3\\envs\\incf\\lib\\site-packages\\bokeh\\document\\events.py\", line 300, in _handle_json\n",
      "    cb(event_json[\"msg_data\"])\n",
      "  File \"C:\\Users\\dinar\\miniconda3\\envs\\incf\\lib\\site-packages\\bokeh\\document\\callbacks.py\", line 355, in trigger_json_event\n",
      "    model._trigger_event(event)\n",
      "  File \"C:\\Users\\dinar\\miniconda3\\envs\\incf\\lib\\site-packages\\bokeh\\util\\callback_manager.py\", line 119, in _trigger_event\n",
      "    self.document.callbacks.notify_event(cast(Model, self), event, invoke)\n",
      "  File \"C:\\Users\\dinar\\miniconda3\\envs\\incf\\lib\\site-packages\\bokeh\\document\\callbacks.py\", line 247, in notify_event\n",
      "    invoke_with_curdoc(doc, callback_invoker)\n",
      "  File \"C:\\Users\\dinar\\miniconda3\\envs\\incf\\lib\\site-packages\\bokeh\\document\\callbacks.py\", line 408, in invoke_with_curdoc\n",
      "    return f()\n",
      "  File \"C:\\Users\\dinar\\miniconda3\\envs\\incf\\lib\\site-packages\\bokeh\\util\\callback_manager.py\", line 115, in invoke\n",
      "    cast(EventCallbackWithEvent, callback)(event)\n",
      "  File \"C:\\Users\\dinar\\miniconda3\\envs\\incf\\lib\\site-packages\\panel\\reactive.py\", line 406, in _server_event\n",
      "    self._comm_event(event)\n",
      "  File \"C:\\Users\\dinar\\miniconda3\\envs\\incf\\lib\\site-packages\\panel\\reactive.py\", line 398, in _comm_event\n",
      "    self._process_bokeh_event(event)\n",
      "  File \"C:\\Users\\dinar\\miniconda3\\envs\\incf\\lib\\site-packages\\panel\\reactive.py\", line 345, in _process_bokeh_event\n",
      "    self._process_event(event)\n",
      "  File \"C:\\Users\\dinar\\miniconda3\\envs\\incf\\lib\\site-packages\\panel\\widgets\\button.py\", line 176, in _process_event\n",
      "    self.clicks += 1\n",
      "  File \"C:\\Users\\dinar\\miniconda3\\envs\\incf\\lib\\site-packages\\param\\parameterized.py\", line 367, in _f\n",
      "    instance_param.__set__(obj, val)\n",
      "  File \"C:\\Users\\dinar\\miniconda3\\envs\\incf\\lib\\site-packages\\param\\parameterized.py\", line 369, in _f\n",
      "    return f(self, obj, val)\n",
      "  File \"C:\\Users\\dinar\\miniconda3\\envs\\incf\\lib\\site-packages\\param\\__init__.py\", line 625, in __set__\n",
      "    super(Dynamic,self).__set__(obj,val)\n",
      "  File \"C:\\Users\\dinar\\miniconda3\\envs\\incf\\lib\\site-packages\\param\\parameterized.py\", line 369, in _f\n",
      "    return f(self, obj, val)\n",
      "  File \"C:\\Users\\dinar\\miniconda3\\envs\\incf\\lib\\site-packages\\param\\parameterized.py\", line 1248, in __set__\n",
      "    obj.param._call_watcher(watcher, event)\n",
      "  File \"C:\\Users\\dinar\\miniconda3\\envs\\incf\\lib\\site-packages\\param\\parameterized.py\", line 2039, in _call_watcher\n",
      "    self_._execute_watcher(watcher, (event,))\n",
      "  File \"C:\\Users\\dinar\\miniconda3\\envs\\incf\\lib\\site-packages\\param\\parameterized.py\", line 2021, in _execute_watcher\n",
      "    watcher.fn(*args, **kwargs)\n",
      "  File \"C:\\Users\\dinar\\miniconda3\\envs\\incf\\lib\\site-packages\\panel\\param.py\", line 479, in action\n",
      "    value(self.object)\n",
      "  File \"C:\\Users\\dinar\\Desktop\\gsoc2\\app_templates\\..\\sim2bids\\sim2bids.py\", line 34, in <lambda>\n",
      "    gen_btn = param.Action(lambda self: self._generate_files(), label='Generate Files')\n",
      "  File \"C:\\Users\\dinar\\Desktop\\gsoc2\\app_templates\\..\\sim2bids\\sim2bids.py\", line 117, in _generate_files\n",
      "    _ = app.main(path=self.text_input.value, files=self.cross_select.value,\n",
      "  File \"C:\\Users\\dinar\\Desktop\\gsoc2\\app_templates\\..\\sim2bids\\app\\app.py\", line 101, in main\n",
      "    save_output(subs)\n",
      "  File \"C:\\Users\\dinar\\Desktop\\gsoc2\\app_templates\\..\\sim2bids\\app\\app.py\", line 215, in save_output\n",
      "    save(v)\n",
      "  File \"C:\\Users\\dinar\\Desktop\\gsoc2\\app_templates\\..\\sim2bids\\app\\app.py\", line 181, in save\n",
      "    folders = create_sub_struct(OUTPUT, v, ses_name=ses)\n",
      "  File \"C:\\Users\\dinar\\Desktop\\gsoc2\\app_templates\\..\\sim2bids\\app\\app.py\", line 255, in create_sub_struct\n",
      "    sub = os.path.join(path, subs['sid'])\n",
      "  File \"C:\\Users\\dinar\\miniconda3\\envs\\incf\\lib\\ntpath.py\", line 117, in join\n",
      "    genericpath._check_arg_types('join', path, *paths)\n",
      "  File \"C:\\Users\\dinar\\miniconda3\\envs\\incf\\lib\\genericpath.py\", line 152, in _check_arg_types\n",
      "    raise TypeError(f'{funcname}() argument must be str, bytes, or '\n",
      "TypeError: join() argument must be str, bytes, or os.PathLike object, not 'NoneType'\n"
     ]
    }
   ],
   "source": [
    "path = '../output'\n",
    "sys.path.append(path)\n",
    "\n",
    "sim2bids.app.app.SoftwareVersion = 2.6\n",
    "sim2bids.app.app.SoftwareRepository = 'https://github.com/the-virtual-brain/tvb-root/releases/tag/2.6'\n",
    "sim2bids.app.app.SoftwareName = 'TVB'\n",
    "\n",
    "app = MainArea()\n",
    "pn.serve(app.view())"
   ]
  },
  {
   "cell_type": "code",
   "execution_count": null,
   "id": "2e08df30",
   "metadata": {},
   "outputs": [],
   "source": []
  },
  {
   "cell_type": "code",
   "execution_count": 20,
   "id": "f2c29c0c",
   "metadata": {},
   "outputs": [],
   "source": [
    "def transfer_files(sub, og_path):\n",
    "    \"\"\"\n",
    "    Iterate over folder and find unique ID's corresponding files\n",
    "    \"\"\"\n",
    "    root = os.path.dirname(sub['path'])\n",
    "    \n",
    "    match = subjects.find_matches([sub['path']])\n",
    "    sid, folder = sub['sid'], os.path.join(root, sub['sid'])\n",
    "\n",
    "    if len(match) > 0:\n",
    "        if not os.path.exists(folder):\n",
    "            os.mkdir(folder)\n",
    "\n",
    "        for f in os.listdir(og_path):\n",
    "            if os.path.isdir(os.path.join(og_path, f)) or f.endswith('mat'):\n",
    "                continue\n",
    "            if match[0] in f:\n",
    "                shutil.move(os.path.join(og_path, f), os.path.join(og_path, sub['sid']))"
   ]
  },
  {
   "cell_type": "code",
   "execution_count": 21,
   "id": "253d61d0",
   "metadata": {},
   "outputs": [
    {
     "name": "stdout",
     "output_type": "stream",
     "text": [
      "match: ['AA_20120815']\n",
      "root: C://Users//dinar//Desktop//50healthy_test\n",
      "sid: sub-01\n",
      "f: AA_20120815_distances.txt\n",
      "f: AA_20120815_SC.mat_SC_log_SC_22min_csf_0.0328.mat\n",
      "f: AA_20120815_weights.txt\n",
      "f: AY_20111004_distances.txt\n",
      "f: AY_20111004_SC_new.mat_SC_log_SC_22min_csf_0.0325.mat\n",
      "f: AY_20111004_weights.txt\n",
      "f: sub-01\n"
     ]
    }
   ],
   "source": [
    "from sim2bids.generate import subjects\n",
    "from sim2bids.convert import mat\n",
    "import os\n",
    "import shutil\n",
    "\n",
    "transfer_files({'path': 'C://Users//dinar//Desktop//50healthy_test/AA_20120815_SC.mat_SC_log_SC_22min_csf_0.0328.mat',\n",
    "                'sid': 'sub-01'}, 'C://Users//dinar//Desktop//50healthy_test')"
   ]
  },
  {
   "cell_type": "code",
   "execution_count": null,
   "id": "cab6755c",
   "metadata": {},
   "outputs": [],
   "source": []
  },
  {
   "cell_type": "code",
   "execution_count": null,
   "id": "37874c62",
   "metadata": {},
   "outputs": [],
   "source": []
  },
  {
   "cell_type": "code",
   "execution_count": null,
   "id": "bb3e4e92",
   "metadata": {},
   "outputs": [],
   "source": []
  },
  {
   "cell_type": "code",
   "execution_count": 5,
   "id": "7bd99741",
   "metadata": {},
   "outputs": [
    {
     "data": {
      "text/plain": [
       "'C:\\\\Users\\\\dinar\\\\Desktop\\\\50healthy_test\\\\1\\\\AA_20120815_distances.txt'"
      ]
     },
     "execution_count": 5,
     "metadata": {},
     "output_type": "execute_result"
    }
   ],
   "source": [
    "import shutil\n",
    "import os\n",
    "\n",
    "path = 'C:\\\\Users\\\\dinar\\\\Desktop\\\\50healthy_test\\\\1'\n",
    "\n",
    "if not os.path.exists(path):\n",
    "    os.mkdir(path)\n",
    "    \n",
    "shutil.move('C://Users//dinar//Desktop//50healthy_test/AA_20120815_distances.txt', path)"
   ]
  },
  {
   "cell_type": "code",
   "execution_count": null,
   "id": "61efc114",
   "metadata": {},
   "outputs": [],
   "source": []
  },
  {
   "cell_type": "code",
   "execution_count": null,
   "id": "33c05107",
   "metadata": {},
   "outputs": [],
   "source": []
  },
  {
   "cell_type": "code",
   "execution_count": 8,
   "id": "42aae1c5",
   "metadata": {
    "scrolled": true
   },
   "outputs": [
    {
     "data": {
      "text/plain": [
       "{'__header__': b'MATLAB 5.0 MAT-file Platform: posix, Created on: Tue Feb 14 04:52:19 2017',\n",
       " '__version__': '1.0',\n",
       " '__globals__': [],\n",
       " 'Bold_time': array([[5.0000e+02, 1.0000e+03, 1.5000e+03, ..., 1.3190e+06, 1.3195e+06,\n",
       "         1.3200e+06]]),\n",
       " 'Bold_data': array([[[[ -141.48949614],\n",
       "          [  -62.71886885],\n",
       "          [  -82.33999015],\n",
       "          ...,\n",
       "          [  167.00314701],\n",
       "          [   19.36960773],\n",
       "          [   -9.46151917]]],\n",
       " \n",
       " \n",
       "        [[[ -143.08279113],\n",
       "          [  -64.29409459],\n",
       "          [  -83.94336549],\n",
       "          ...,\n",
       "          [  165.27042134],\n",
       "          [   17.67803488],\n",
       "          [  -11.21377617]]],\n",
       " \n",
       " \n",
       "        [[[ -153.07308041],\n",
       "          [  -74.0562326 ],\n",
       "          [  -94.2439947 ],\n",
       "          ...,\n",
       "          [  154.36469672],\n",
       "          [    7.11115482],\n",
       "          [  -22.63011437]]],\n",
       " \n",
       " \n",
       "        ...,\n",
       " \n",
       " \n",
       "        [[[-1464.41279874],\n",
       "          [-1354.23103094],\n",
       "          [-1532.3469634 ],\n",
       "          ...,\n",
       "          [-1294.22347323],\n",
       "          [-1373.99152578],\n",
       "          [-1718.3441145 ]]],\n",
       " \n",
       " \n",
       "        [[[-1464.0615235 ],\n",
       "          [-1354.51841135],\n",
       "          [-1533.72293008],\n",
       "          ...,\n",
       "          [-1294.12955458],\n",
       "          [-1378.16127099],\n",
       "          [-1720.31627199]]],\n",
       " \n",
       " \n",
       "        [[[-1464.06546997],\n",
       "          [-1354.1391608 ],\n",
       "          [-1535.1322949 ],\n",
       "          ...,\n",
       "          [-1292.99033877],\n",
       "          [-1382.01415271],\n",
       "          [-1722.45443603]]]]),\n",
       " 'subs_time': array([[5.000000e+00, 1.000000e+01, 1.500000e+01, ..., 1.319990e+06,\n",
       "         1.319995e+06, 1.320000e+06]]),\n",
       " 'subs_data': array([[[-2.2179391 , -2.16623803, -2.26220144, ..., -2.10602524,\n",
       "          -2.14423076, -2.15502653],\n",
       "         [-2.21657835, -2.15898276, -2.24574689, ..., -2.08830624,\n",
       "          -2.15013477, -2.40744145]],\n",
       " \n",
       "        [[-2.14972543, -2.12632252, -2.09819558, ..., -2.1021408 ,\n",
       "          -2.12975096, -2.14119027],\n",
       "         [-2.93653206, -2.74163993, -2.23813507, ..., -2.62388764,\n",
       "          -2.79948652, -2.27282228]],\n",
       " \n",
       "        [[-2.14900377, -2.14471793, -2.09757702, ..., -2.12714496,\n",
       "          -2.12945899, -2.13491641],\n",
       "         [-2.91531334, -2.85633937, -2.23288039, ..., -2.8010857 ,\n",
       "          -2.84739557, -2.26499211]],\n",
       " \n",
       "        ...,\n",
       " \n",
       "        [[-1.75956574, -1.65120228, -1.80401829, ..., -1.72467226,\n",
       "          -1.71112875, -2.10690535],\n",
       "         [-1.89791798, -1.79022368, -1.97382135, ..., -1.83297289,\n",
       "          -1.85554985, -2.1078181 ]],\n",
       " \n",
       "        [[-1.72385667, -1.56725819, -1.77477931, ..., -1.6502338 ,\n",
       "          -1.66940168, -2.09164717],\n",
       "         [-1.90262893, -1.76788029, -1.96695234, ..., -1.81945939,\n",
       "          -1.85845229, -2.08180444]],\n",
       " \n",
       "        [[-1.68245726, -1.4540804 , -1.75722656, ..., -1.58960762,\n",
       "          -1.60605711, -2.08307322],\n",
       "         [-1.88778533, -1.75124817, -1.949874  , ..., -1.78573263,\n",
       "          -1.84037919, -2.06232101]]])}"
      ]
     },
     "execution_count": 8,
     "metadata": {},
     "output_type": "execute_result"
    }
   ],
   "source": [
    "from scipy.io import loadmat\n",
    "\n",
    "loadmat('C:/Users/dinar/Desktop/50healthy_test_all/AA_20120815_SC.mat_SC_log_SC_22min_csf_0.0328.mat')"
   ]
  },
  {
   "cell_type": "code",
   "execution_count": null,
   "id": "5e0aded6",
   "metadata": {},
   "outputs": [],
   "source": []
  },
  {
   "cell_type": "code",
   "execution_count": 4,
   "id": "ee6c5f1b",
   "metadata": {},
   "outputs": [
    {
     "name": "stderr",
     "output_type": "stream",
     "text": [
      "WARNING:param.MainArea00228: Setting non-parameter attribute text_input=TextInput(name='Insert Path', sizing_mode='stretch_width') using a mechanism intended only for parameters\n",
      "WARNING:param.MainArea00228:Setting non-parameter attribute text_input=TextInput(name='Insert Path', sizing_mode='stretch_width') using a mechanism intended only for parameters\n",
      "WARNING:param.MainArea00228: Setting non-parameter attribute cross_select=CrossSelector(options=['.ipynb_checkpoints', ...], sizing_mode='stretch_width') using a mechanism intended only for parameters\n",
      "WARNING:param.MainArea00228:Setting non-parameter attribute cross_select=CrossSelector(options=['.ipynb_checkpoints', ...], sizing_mode='stretch_width') using a mechanism intended only for parameters\n",
      "INFO:bokeh.server.server:Starting Bokeh server version 2.4.3 (running on Tornado 6.1)\n",
      "INFO:bokeh.server.tornado:User authentication hooks NOT provided (default user enabled)\n"
     ]
    },
    {
     "name": "stdout",
     "output_type": "stream",
     "text": [
      "Launching server at http://localhost:60869\n"
     ]
    },
    {
     "data": {
      "text/plain": [
       "<bokeh.server.server.Server at 0x1baccd2d120>"
      ]
     },
     "execution_count": 4,
     "metadata": {},
     "output_type": "execute_result"
    },
    {
     "name": "stderr",
     "output_type": "stream",
     "text": [
      "INFO:tornado.access:200 GET / (127.0.0.1) 176.00ms\n",
      "INFO:tornado.access:200 GET /static/extensions/panel/bundled/jsoneditor/npm/jsoneditor@9.1.9/dist/jsoneditor.min.css (127.0.0.1) 2.00ms\n",
      "INFO:tornado.access:200 GET /static/extensions/panel/bundled/datatabulator/tabulator-tables@4.9.3/dist/css/tabulator_simple.min.css (127.0.0.1) 3.00ms\n",
      "INFO:tornado.access:200 GET /static/extensions/panel/bundled/notificationarea/npm/notyf@3/notyf.min.css (127.0.0.1) 2.00ms\n",
      "INFO:tornado.access:200 GET /static/extensions/panel/css/alerts.css (127.0.0.1) 2.99ms\n",
      "INFO:tornado.access:200 GET /static/extensions/panel/bundled/notificationarea/ajax/libs/font-awesome/5.15.1/css/all.min.css (127.0.0.1) 7.00ms\n",
      "INFO:tornado.access:200 GET /static/extensions/panel/css/card.css (127.0.0.1) 8.00ms\n",
      "INFO:tornado.access:200 GET /static/extensions/panel/css/dataframe.css (127.0.0.1) 2.00ms\n",
      "INFO:tornado.access:200 GET /static/extensions/panel/css/debugger.css (127.0.0.1) 3.00ms\n",
      "INFO:tornado.access:200 GET /static/extensions/panel/css/json.css (127.0.0.1) 6.00ms\n",
      "INFO:tornado.access:200 GET /static/extensions/panel/css/loading.css (127.0.0.1) 2.00ms\n",
      "INFO:tornado.access:200 GET /static/extensions/panel/bundled/datatabulator/tabulator-tables@4.9.3/dist/js/tabulator.js (127.0.0.1) 2.01ms\n",
      "INFO:tornado.access:200 GET /static/extensions/panel/css/markdown.css (127.0.0.1) 5.00ms\n",
      "INFO:tornado.access:200 GET /static/extensions/panel/css/widgets.css (127.0.0.1) 2.00ms\n",
      "INFO:tornado.access:200 GET /static/extensions/panel/bundled/jsoneditor/npm/jsoneditor@9.1.9/dist/jsoneditor.min.js (127.0.0.1) 6.00ms\n",
      "INFO:tornado.access:200 GET /static/extensions/panel/bundled/datatabulator/npm/luxon/build/global/luxon.min.js (127.0.0.1) 3.01ms\n",
      "INFO:tornado.access:200 GET /static/js/bokeh-gl.min.js?v=e5df31fd9010eacff0aa72d315264604b5e34972ba445acea6fce98080eecf33acf2d2986126360faaa5852813cffa16f6f6f4889923318300f062497c02da4e (127.0.0.1) 6.02ms\n",
      "INFO:tornado.access:200 GET /static/js/bokeh.min.js?v=3c61e952b808bb7e346ce828a565a5f23aaf7708d034fa9d0906403813355d45bb4e8d8b0b23a93f032c76831d4f0221846f28699c7f5147caa62e0d31668314 (127.0.0.1) 9.99ms\n",
      "INFO:tornado.access:200 GET /static/js/bokeh-widgets.min.js?v=8a1ff6f5aa0d967f4998d275803bbb111d928fd9f605ef9e1f30cfd021df0e77224ee3d13f83edb3a942f6e4ccc569ee5dd8951a8aa6cb600602463b90c65a87 (127.0.0.1) 15.00ms\n",
      "INFO:tornado.access:200 GET /static/js/bokeh-tables.min.js?v=ae2903e57cf57f52819fdf4d938c648982b51c34f73b6e653a0f3bb3c8ab44f338505931ace43eafc1636e215492e2314acf54c54baffb47813b86b4923a7fe0 (127.0.0.1) 5.00ms\n",
      "INFO:tornado.access:200 GET /static/extensions/panel/bundled/notificationarea/npm/notyf@3/notyf.min.js (127.0.0.1) 6.00ms\n",
      "INFO:tornado.access:200 GET /static/extensions/panel/panel.min.js?v=069cc8563e34a217fd5e41b8b6311eb15fa17fd5fdab8a2d352260f297f6d8d1 (127.0.0.1) 9.01ms\n",
      "INFO:tornado.access:200 GET /static/extensions/panel/bundled/materialtemplate/material.css (127.0.0.1) 11.00ms\n",
      "INFO:tornado.access:200 GET /static/extensions/panel/bundled/defaulttheme/default.css (127.0.0.1) 2.00ms\n",
      "INFO:tornado.access:200 GET /static/extensions/panel/bundled/materialtemplate/default.css (127.0.0.1) 2.00ms\n",
      "INFO:tornado.access:101 GET /ws (127.0.0.1) 0.00ms\n",
      "INFO:bokeh.server.views.ws:WebSocket connection opened\n",
      "INFO:bokeh.server.views.ws:ServerConnection created\n",
      "INFO:tornado.access:200 GET /static/extensions/panel/icons/favicon.ico (127.0.0.1) 1.00ms\n"
     ]
    },
    {
     "name": "stdout",
     "output_type": "stream",
     "text": [
      "TIMES: ['bold_times.txt', 'subs_times_22min.txt', 'subs_times.txt', 'bold_times_22min.txt']\n",
      "OrderedDict([('sub-01', {'distances': {'name': 'distances', 'fname': 'C:\\\\Users\\\\dinar\\\\Desktop\\\\50healthy_demo\\\\AA_20120815\\\\distances.txt', 'sid': 'sub-01', 'desc': 'default', 'sep': '\\t', 'path': 'C:\\\\Users\\\\dinar\\\\Desktop\\\\50healthy_demo\\\\AA_20120815\\\\distances.txt', 'ext': 'txt'}, 'emp_fc': {'name': 'emp_fc', 'fname': 'C:\\\\Users\\\\dinar\\\\Desktop\\\\50healthy_demo\\\\AA_20120815\\\\emp_fc.txt', 'sid': 'sub-01', 'desc': 'default', 'sep': '\\t', 'path': 'C:\\\\Users\\\\dinar\\\\Desktop\\\\50healthy_demo\\\\AA_20120815\\\\emp_fc.txt', 'ext': 'txt'}, 'weights': {'name': 'weights', 'fname': 'C:\\\\Users\\\\dinar\\\\Desktop\\\\50healthy_demo\\\\AA_20120815\\\\weights.txt', 'sid': 'sub-01', 'desc': 'default', 'sep': '\\t', 'path': 'C:\\\\Users\\\\dinar\\\\Desktop\\\\50healthy_demo\\\\AA_20120815\\\\weights.txt', 'ext': 'txt'}, 'alpha-speed0.1-G10-bold_times': {'name': 'alpha-speed0.1-G10-bold_times', 'fname': 'C:\\\\Users\\\\dinar\\\\Desktop\\\\50healthy_demo\\\\AA_20120815\\\\series_alpha\\\\cspeed0.1\\\\csf 10\\\\bold_times.txt', 'sid': 'sub-01', 'desc': 'default', 'sep': '\\n', 'path': 'C:\\\\Users\\\\dinar\\\\Desktop\\\\50healthy_demo\\\\AA_20120815\\\\series_alpha\\\\cspeed0.1\\\\csf 10\\\\bold_times.txt', 'ext': 'txt'}, 'alpha-speed0.1-G10-bold_ts': {'name': 'alpha-speed0.1-G10-bold_ts', 'fname': 'C:\\\\Users\\\\dinar\\\\Desktop\\\\50healthy_demo\\\\AA_20120815\\\\series_alpha\\\\cspeed0.1\\\\csf 10\\\\bold_ts.txt', 'sid': 'sub-01', 'desc': 'default', 'sep': '\\t', 'path': 'C:\\\\Users\\\\dinar\\\\Desktop\\\\50healthy_demo\\\\AA_20120815\\\\series_alpha\\\\cspeed0.1\\\\csf 10\\\\bold_ts.txt', 'ext': 'txt'}, 'alpha-speed0.1-G10-subs_times': {'name': 'alpha-speed0.1-G10-subs_times', 'fname': 'C:\\\\Users\\\\dinar\\\\Desktop\\\\50healthy_demo\\\\AA_20120815\\\\series_alpha\\\\cspeed0.1\\\\csf 10\\\\subs_times.txt', 'sid': 'sub-01', 'desc': 'default', 'sep': '\\n', 'path': 'C:\\\\Users\\\\dinar\\\\Desktop\\\\50healthy_demo\\\\AA_20120815\\\\series_alpha\\\\cspeed0.1\\\\csf 10\\\\subs_times.txt', 'ext': 'txt'}, 'alpha-speed0.1-G10-subs_ts': {'name': 'alpha-speed0.1-G10-subs_ts', 'fname': 'C:\\\\Users\\\\dinar\\\\Desktop\\\\50healthy_demo\\\\AA_20120815\\\\series_alpha\\\\cspeed0.1\\\\csf 10\\\\subs_ts.txt', 'sid': 'sub-01', 'desc': 'default', 'sep': '\\t', 'path': 'C:\\\\Users\\\\dinar\\\\Desktop\\\\50healthy_demo\\\\AA_20120815\\\\series_alpha\\\\cspeed0.1\\\\csf 10\\\\subs_ts.txt', 'ext': 'txt'}, 'alpha-speed100-G0.0398-bold_times_22min': {'name': 'alpha-speed100-G0.0398-bold_times_22min', 'fname': 'C:\\\\Users\\\\dinar\\\\Desktop\\\\50healthy_demo\\\\AA_20120815\\\\series_alpha\\\\cspeed100\\\\csf 0.0398\\\\bold_times_22min.txt', 'sid': 'sub-01', 'desc': 'default', 'sep': '.', 'path': 'C:\\\\Users\\\\dinar\\\\Desktop\\\\50healthy_demo\\\\AA_20120815\\\\series_alpha\\\\cspeed100\\\\csf 0.0398\\\\bold_times_22min.txt', 'ext': 'txt'}, 'alpha-speed100-G0.0398-bold_ts_22min': {'name': 'alpha-speed100-G0.0398-bold_ts_22min', 'fname': 'C:\\\\Users\\\\dinar\\\\Desktop\\\\50healthy_demo\\\\AA_20120815\\\\series_alpha\\\\cspeed100\\\\csf 0.0398\\\\bold_ts_22min.txt', 'sid': 'sub-01', 'desc': 'default', 'sep': '\\t', 'path': 'C:\\\\Users\\\\dinar\\\\Desktop\\\\50healthy_demo\\\\AA_20120815\\\\series_alpha\\\\cspeed100\\\\csf 0.0398\\\\bold_ts_22min.txt', 'ext': 'txt'}, 'alpha-speed100-G0.0398-subs_times_22min': {'name': 'alpha-speed100-G0.0398-subs_times_22min', 'fname': 'C:\\\\Users\\\\dinar\\\\Desktop\\\\50healthy_demo\\\\AA_20120815\\\\series_alpha\\\\cspeed100\\\\csf 0.0398\\\\subs_times_22min.txt', 'sid': 'sub-01', 'desc': 'default', 'sep': '.', 'path': 'C:\\\\Users\\\\dinar\\\\Desktop\\\\50healthy_demo\\\\AA_20120815\\\\series_alpha\\\\cspeed100\\\\csf 0.0398\\\\subs_times_22min.txt', 'ext': 'txt'}, 'alpha-speed100-G0.0398-subs_ts_22min': {'name': 'alpha-speed100-G0.0398-subs_ts_22min', 'fname': 'C:\\\\Users\\\\dinar\\\\Desktop\\\\50healthy_demo\\\\AA_20120815\\\\series_alpha\\\\cspeed100\\\\csf 0.0398\\\\subs_ts_22min.txt', 'sid': 'sub-01', 'desc': 'default', 'sep': '\\t', 'path': 'C:\\\\Users\\\\dinar\\\\Desktop\\\\50healthy_demo\\\\AA_20120815\\\\series_alpha\\\\cspeed100\\\\csf 0.0398\\\\subs_ts_22min.txt', 'ext': 'txt'}, 'delta-speed20-G0.1-bold_times': {'name': 'delta-speed20-G0.1-bold_times', 'fname': 'C:\\\\Users\\\\dinar\\\\Desktop\\\\50healthy_demo\\\\AA_20120815\\\\series_delta\\\\cspeed20\\\\csf 0.1\\\\bold_times.txt', 'sid': 'sub-01', 'desc': 'default', 'sep': '\\n', 'path': 'C:\\\\Users\\\\dinar\\\\Desktop\\\\50healthy_demo\\\\AA_20120815\\\\series_delta\\\\cspeed20\\\\csf 0.1\\\\bold_times.txt', 'ext': 'txt'}, 'delta-speed20-G0.1-subs_times': {'name': 'delta-speed20-G0.1-subs_times', 'fname': 'C:\\\\Users\\\\dinar\\\\Desktop\\\\50healthy_demo\\\\AA_20120815\\\\series_delta\\\\cspeed20\\\\csf 0.1\\\\subs_times.txt', 'sid': 'sub-01', 'desc': 'default', 'sep': '\\n', 'path': 'C:\\\\Users\\\\dinar\\\\Desktop\\\\50healthy_demo\\\\AA_20120815\\\\series_delta\\\\cspeed20\\\\csf 0.1\\\\subs_times.txt', 'ext': 'txt'}, 'delta-speed20-G0.1-subs_ts': {'name': 'delta-speed20-G0.1-subs_ts', 'fname': 'C:\\\\Users\\\\dinar\\\\Desktop\\\\50healthy_demo\\\\AA_20120815\\\\series_delta\\\\cspeed20\\\\csf 0.1\\\\subs_ts.txt', 'sid': 'sub-01', 'desc': 'default', 'sep': '\\t', 'path': 'C:\\\\Users\\\\dinar\\\\Desktop\\\\50healthy_demo\\\\AA_20120815\\\\series_delta\\\\cspeed20\\\\csf 0.1\\\\subs_ts.txt', 'ext': 'txt'}, 'delta-speed20-G0.2-bold_times': {'name': 'delta-speed20-G0.2-bold_times', 'fname': 'C:\\\\Users\\\\dinar\\\\Desktop\\\\50healthy_demo\\\\AA_20120815\\\\series_delta\\\\cspeed20\\\\csf 0.2\\\\bold_times.txt', 'sid': 'sub-01', 'desc': 'default', 'sep': '\\n', 'path': 'C:\\\\Users\\\\dinar\\\\Desktop\\\\50healthy_demo\\\\AA_20120815\\\\series_delta\\\\cspeed20\\\\csf 0.2\\\\bold_times.txt', 'ext': 'txt'}, 'delta-speed20-G0.2-subs_times': {'name': 'delta-speed20-G0.2-subs_times', 'fname': 'C:\\\\Users\\\\dinar\\\\Desktop\\\\50healthy_demo\\\\AA_20120815\\\\series_delta\\\\cspeed20\\\\csf 0.2\\\\subs_times.txt', 'sid': 'sub-01', 'desc': 'default', 'sep': '\\n', 'path': 'C:\\\\Users\\\\dinar\\\\Desktop\\\\50healthy_demo\\\\AA_20120815\\\\series_delta\\\\cspeed20\\\\csf 0.2\\\\subs_times.txt', 'ext': 'txt'}, 'delta-speed20-G0.2-subs_ts': {'name': 'delta-speed20-G0.2-subs_ts', 'fname': 'C:\\\\Users\\\\dinar\\\\Desktop\\\\50healthy_demo\\\\AA_20120815\\\\series_delta\\\\cspeed20\\\\csf 0.2\\\\subs_ts.txt', 'sid': 'sub-01', 'desc': 'default', 'sep': '\\t', 'path': 'C:\\\\Users\\\\dinar\\\\Desktop\\\\50healthy_demo\\\\AA_20120815\\\\series_delta\\\\cspeed20\\\\csf 0.2\\\\subs_ts.txt', 'ext': 'txt'}, 'centres': {'name': 'centres', 'fname': 'C:\\\\Users\\\\dinar\\\\Desktop\\\\50healthy_demo\\\\centres.txt', 'sid': 'sub-01', 'desc': 'default', 'sep': '\\t', 'path': 'C:\\\\Users\\\\dinar\\\\Desktop\\\\50healthy_demo\\\\centres.txt', 'ext': 'txt'}})])\n"
     ]
    }
   ],
   "source": [
    "path = '../output'\n",
    "sys.path.append(path)\n",
    "\n",
    "sim2bids.app.app.SoftwareVersion = 2.6\n",
    "sim2bids.app.app.SoftwareRepository = 'https://github.com/the-virtual-brain/tvb-root/releases/tag/2.6'\n",
    "sim2bids.app.app.SoftwareName = 'TVB'\n",
    "\n",
    "app = MainArea()\n",
    "pn.serve(app.view())"
   ]
  },
  {
   "cell_type": "code",
   "execution_count": 8,
   "id": "8499d495",
   "metadata": {},
   "outputs": [],
   "source": [
    "from collections import OrderedDict\n",
    "\n",
    "sub = OrderedDict({'sub-01': {'distances': {'name': 'distances', 'fname': 'C:\\\\Users\\\\dinar\\\\Desktop\\\\50healthy_demo\\\\AA_20120815\\\\distances.txt', 'sid': 'sub-01', 'desc': 'default', 'sep': '\\t', 'path': 'C:\\\\Users\\\\dinar\\\\Desktop\\\\50healthy_demo\\\\AA_20120815\\\\distances.txt', 'ext': 'txt'}, 'emp_fc': {'name': 'emp_fc', 'fname': 'C:\\\\Users\\\\dinar\\\\Desktop\\\\50healthy_demo\\\\AA_20120815\\\\emp_fc.txt', 'sid': 'sub-01', 'desc': 'default', 'sep': '\\t', 'path': 'C:\\\\Users\\\\dinar\\\\Desktop\\\\50healthy_demo\\\\AA_20120815\\\\emp_fc.txt', 'ext': 'txt'}, 'weights': {'name': 'weights', 'fname': 'C:\\\\Users\\\\dinar\\\\Desktop\\\\50healthy_demo\\\\AA_20120815\\\\weights.txt', 'sid': 'sub-01', 'desc': 'default', 'sep': '\\t', 'path': 'C:\\\\Users\\\\dinar\\\\Desktop\\\\50healthy_demo\\\\AA_20120815\\\\weights.txt', 'ext': 'txt'}, 'alpha-speed0.1-G10-bold_times': {'name': 'alpha-speed0.1-G10-bold_times', 'fname': 'C:\\\\Users\\\\dinar\\\\Desktop\\\\50healthy_demo\\\\AA_20120815\\\\series_alpha\\\\cspeed0.1\\\\csf 10\\\\bold_times.txt', 'sid': 'sub-01', 'desc': 'default', 'sep': '\\n', 'path': 'C:\\\\Users\\\\dinar\\\\Desktop\\\\50healthy_demo\\\\AA_20120815\\\\series_alpha\\\\cspeed0.1\\\\csf 10\\\\bold_times.txt', 'ext': 'txt'}, 'alpha-speed0.1-G10-bold_ts': {'name': 'alpha-speed0.1-G10-bold_ts', 'fname': 'C:\\\\Users\\\\dinar\\\\Desktop\\\\50healthy_demo\\\\AA_20120815\\\\series_alpha\\\\cspeed0.1\\\\csf 10\\\\bold_ts.txt', 'sid': 'sub-01', 'desc': 'default', 'sep': '\\t', 'path': 'C:\\\\Users\\\\dinar\\\\Desktop\\\\50healthy_demo\\\\AA_20120815\\\\series_alpha\\\\cspeed0.1\\\\csf 10\\\\bold_ts.txt', 'ext': 'txt'}, 'alpha-speed0.1-G10-subs_times': {'name': 'alpha-speed0.1-G10-subs_times', 'fname': 'C:\\\\Users\\\\dinar\\\\Desktop\\\\50healthy_demo\\\\AA_20120815\\\\series_alpha\\\\cspeed0.1\\\\csf 10\\\\subs_times.txt', 'sid': 'sub-01', 'desc': 'default', 'sep': '\\n', 'path': 'C:\\\\Users\\\\dinar\\\\Desktop\\\\50healthy_demo\\\\AA_20120815\\\\series_alpha\\\\cspeed0.1\\\\csf 10\\\\subs_times.txt', 'ext': 'txt'}, 'alpha-speed0.1-G10-subs_ts': {'name': 'alpha-speed0.1-G10-subs_ts', 'fname': 'C:\\\\Users\\\\dinar\\\\Desktop\\\\50healthy_demo\\\\AA_20120815\\\\series_alpha\\\\cspeed0.1\\\\csf 10\\\\subs_ts.txt', 'sid': 'sub-01', 'desc': 'default', 'sep': '\\t', 'path': 'C:\\\\Users\\\\dinar\\\\Desktop\\\\50healthy_demo\\\\AA_20120815\\\\series_alpha\\\\cspeed0.1\\\\csf 10\\\\subs_ts.txt', 'ext': 'txt'}, 'alpha-speed100-G0.0398-bold_times_22min': {'name': 'alpha-speed100-G0.0398-bold_times_22min', 'fname': 'C:\\\\Users\\\\dinar\\\\Desktop\\\\50healthy_demo\\\\AA_20120815\\\\series_alpha\\\\cspeed100\\\\csf 0.0398\\\\bold_times_22min.txt', 'sid': 'sub-01', 'desc': 'default', 'sep': '.', 'path': 'C:\\\\Users\\\\dinar\\\\Desktop\\\\50healthy_demo\\\\AA_20120815\\\\series_alpha\\\\cspeed100\\\\csf 0.0398\\\\bold_times_22min.txt', 'ext': 'txt'}, 'alpha-speed100-G0.0398-bold_ts_22min': {'name': 'alpha-speed100-G0.0398-bold_ts_22min', 'fname': 'C:\\\\Users\\\\dinar\\\\Desktop\\\\50healthy_demo\\\\AA_20120815\\\\series_alpha\\\\cspeed100\\\\csf 0.0398\\\\bold_ts_22min.txt', 'sid': 'sub-01', 'desc': 'default', 'sep': '\\t', 'path': 'C:\\\\Users\\\\dinar\\\\Desktop\\\\50healthy_demo\\\\AA_20120815\\\\series_alpha\\\\cspeed100\\\\csf 0.0398\\\\bold_ts_22min.txt', 'ext': 'txt'}, 'alpha-speed100-G0.0398-subs_times_22min': {'name': 'alpha-speed100-G0.0398-subs_times_22min', 'fname': 'C:\\\\Users\\\\dinar\\\\Desktop\\\\50healthy_demo\\\\AA_20120815\\\\series_alpha\\\\cspeed100\\\\csf 0.0398\\\\subs_times_22min.txt', 'sid': 'sub-01', 'desc': 'default', 'sep': '.', 'path': 'C:\\\\Users\\\\dinar\\\\Desktop\\\\50healthy_demo\\\\AA_20120815\\\\series_alpha\\\\cspeed100\\\\csf 0.0398\\\\subs_times_22min.txt', 'ext': 'txt'}, 'alpha-speed100-G0.0398-subs_ts_22min': {'name': 'alpha-speed100-G0.0398-subs_ts_22min', 'fname': 'C:\\\\Users\\\\dinar\\\\Desktop\\\\50healthy_demo\\\\AA_20120815\\\\series_alpha\\\\cspeed100\\\\csf 0.0398\\\\subs_ts_22min.txt', 'sid': 'sub-01', 'desc': 'default', 'sep': '\\t', 'path': 'C:\\\\Users\\\\dinar\\\\Desktop\\\\50healthy_demo\\\\AA_20120815\\\\series_alpha\\\\cspeed100\\\\csf 0.0398\\\\subs_ts_22min.txt', 'ext': 'txt'}, 'delta-speed20-G0.1-bold_times': {'name': 'delta-speed20-G0.1-bold_times', 'fname': 'C:\\\\Users\\\\dinar\\\\Desktop\\\\50healthy_demo\\\\AA_20120815\\\\series_delta\\\\cspeed20\\\\csf 0.1\\\\bold_times.txt', 'sid': 'sub-01', 'desc': 'default', 'sep': '\\n', 'path': 'C:\\\\Users\\\\dinar\\\\Desktop\\\\50healthy_demo\\\\AA_20120815\\\\series_delta\\\\cspeed20\\\\csf 0.1\\\\bold_times.txt', 'ext': 'txt'}, 'delta-speed20-G0.1-subs_times': {'name': 'delta-speed20-G0.1-subs_times', 'fname': 'C:\\\\Users\\\\dinar\\\\Desktop\\\\50healthy_demo\\\\AA_20120815\\\\series_delta\\\\cspeed20\\\\csf 0.1\\\\subs_times.txt', 'sid': 'sub-01', 'desc': 'default', 'sep': '\\n', 'path': 'C:\\\\Users\\\\dinar\\\\Desktop\\\\50healthy_demo\\\\AA_20120815\\\\series_delta\\\\cspeed20\\\\csf 0.1\\\\subs_times.txt', 'ext': 'txt'}, 'delta-speed20-G0.1-subs_ts': {'name': 'delta-speed20-G0.1-subs_ts', 'fname': 'C:\\\\Users\\\\dinar\\\\Desktop\\\\50healthy_demo\\\\AA_20120815\\\\series_delta\\\\cspeed20\\\\csf 0.1\\\\subs_ts.txt', 'sid': 'sub-01', 'desc': 'default', 'sep': '\\t', 'path': 'C:\\\\Users\\\\dinar\\\\Desktop\\\\50healthy_demo\\\\AA_20120815\\\\series_delta\\\\cspeed20\\\\csf 0.1\\\\subs_ts.txt', 'ext': 'txt'}, 'delta-speed20-G0.2-bold_times': {'name': 'delta-speed20-G0.2-bold_times', 'fname': 'C:\\\\Users\\\\dinar\\\\Desktop\\\\50healthy_demo\\\\AA_20120815\\\\series_delta\\\\cspeed20\\\\csf 0.2\\\\bold_times.txt', 'sid': 'sub-01', 'desc': 'default', 'sep': '\\n', 'path': 'C:\\\\Users\\\\dinar\\\\Desktop\\\\50healthy_demo\\\\AA_20120815\\\\series_delta\\\\cspeed20\\\\csf 0.2\\\\bold_times.txt', 'ext': 'txt'}, 'delta-speed20-G0.2-subs_times': {'name': 'delta-speed20-G0.2-subs_times', 'fname': 'C:\\\\Users\\\\dinar\\\\Desktop\\\\50healthy_demo\\\\AA_20120815\\\\series_delta\\\\cspeed20\\\\csf 0.2\\\\subs_times.txt', 'sid': 'sub-01', 'desc': 'default', 'sep': '\\n', 'path': 'C:\\\\Users\\\\dinar\\\\Desktop\\\\50healthy_demo\\\\AA_20120815\\\\series_delta\\\\cspeed20\\\\csf 0.2\\\\subs_times.txt', 'ext': 'txt'}, 'delta-speed20-G0.2-subs_ts': {'name': 'delta-speed20-G0.2-subs_ts', 'fname': 'C:\\\\Users\\\\dinar\\\\Desktop\\\\50healthy_demo\\\\AA_20120815\\\\series_delta\\\\cspeed20\\\\csf 0.2\\\\subs_ts.txt', 'sid': 'sub-01', 'desc': 'default', 'sep': '\\t', 'path': 'C:\\\\Users\\\\dinar\\\\Desktop\\\\50healthy_demo\\\\AA_20120815\\\\series_delta\\\\cspeed20\\\\csf 0.2\\\\subs_ts.txt', 'ext': 'txt'}, 'centres': {'name': 'centres', 'fname': 'C:\\\\Users\\\\dinar\\\\Desktop\\\\50healthy_demo\\\\centres.txt', 'sid': 'sub-01', 'desc': 'default', 'sep': '\\t', 'path': 'C:\\\\Users\\\\dinar\\\\Desktop\\\\50healthy_demo\\\\centres.txt', 'ext': 'txt'}}})"
   ]
  },
  {
   "cell_type": "code",
   "execution_count": 9,
   "id": "8a3bdc80",
   "metadata": {},
   "outputs": [
    {
     "data": {
      "text/plain": [
       "OrderedDict([('sub-01',\n",
       "              {'distances': {'name': 'distances',\n",
       "                'fname': 'C:\\\\Users\\\\dinar\\\\Desktop\\\\50healthy_demo\\\\AA_20120815\\\\distances.txt',\n",
       "                'sid': 'sub-01',\n",
       "                'desc': 'default',\n",
       "                'sep': '\\t',\n",
       "                'path': 'C:\\\\Users\\\\dinar\\\\Desktop\\\\50healthy_demo\\\\AA_20120815\\\\distances.txt',\n",
       "                'ext': 'txt'},\n",
       "               'emp_fc': {'name': 'emp_fc',\n",
       "                'fname': 'C:\\\\Users\\\\dinar\\\\Desktop\\\\50healthy_demo\\\\AA_20120815\\\\emp_fc.txt',\n",
       "                'sid': 'sub-01',\n",
       "                'desc': 'default',\n",
       "                'sep': '\\t',\n",
       "                'path': 'C:\\\\Users\\\\dinar\\\\Desktop\\\\50healthy_demo\\\\AA_20120815\\\\emp_fc.txt',\n",
       "                'ext': 'txt'},\n",
       "               'weights': {'name': 'weights',\n",
       "                'fname': 'C:\\\\Users\\\\dinar\\\\Desktop\\\\50healthy_demo\\\\AA_20120815\\\\weights.txt',\n",
       "                'sid': 'sub-01',\n",
       "                'desc': 'default',\n",
       "                'sep': '\\t',\n",
       "                'path': 'C:\\\\Users\\\\dinar\\\\Desktop\\\\50healthy_demo\\\\AA_20120815\\\\weights.txt',\n",
       "                'ext': 'txt'},\n",
       "               'alpha-speed0.1-G10-bold_times': {'name': 'alpha-speed0.1-G10-bold_times',\n",
       "                'fname': 'C:\\\\Users\\\\dinar\\\\Desktop\\\\50healthy_demo\\\\AA_20120815\\\\series_alpha\\\\cspeed0.1\\\\csf 10\\\\bold_times.txt',\n",
       "                'sid': 'sub-01',\n",
       "                'desc': 'default',\n",
       "                'sep': '\\n',\n",
       "                'path': 'C:\\\\Users\\\\dinar\\\\Desktop\\\\50healthy_demo\\\\AA_20120815\\\\series_alpha\\\\cspeed0.1\\\\csf 10\\\\bold_times.txt',\n",
       "                'ext': 'txt'},\n",
       "               'alpha-speed0.1-G10-bold_ts': {'name': 'alpha-speed0.1-G10-bold_ts',\n",
       "                'fname': 'C:\\\\Users\\\\dinar\\\\Desktop\\\\50healthy_demo\\\\AA_20120815\\\\series_alpha\\\\cspeed0.1\\\\csf 10\\\\bold_ts.txt',\n",
       "                'sid': 'sub-01',\n",
       "                'desc': 'default',\n",
       "                'sep': '\\t',\n",
       "                'path': 'C:\\\\Users\\\\dinar\\\\Desktop\\\\50healthy_demo\\\\AA_20120815\\\\series_alpha\\\\cspeed0.1\\\\csf 10\\\\bold_ts.txt',\n",
       "                'ext': 'txt'},\n",
       "               'alpha-speed0.1-G10-subs_times': {'name': 'alpha-speed0.1-G10-subs_times',\n",
       "                'fname': 'C:\\\\Users\\\\dinar\\\\Desktop\\\\50healthy_demo\\\\AA_20120815\\\\series_alpha\\\\cspeed0.1\\\\csf 10\\\\subs_times.txt',\n",
       "                'sid': 'sub-01',\n",
       "                'desc': 'default',\n",
       "                'sep': '\\n',\n",
       "                'path': 'C:\\\\Users\\\\dinar\\\\Desktop\\\\50healthy_demo\\\\AA_20120815\\\\series_alpha\\\\cspeed0.1\\\\csf 10\\\\subs_times.txt',\n",
       "                'ext': 'txt'},\n",
       "               'alpha-speed0.1-G10-subs_ts': {'name': 'alpha-speed0.1-G10-subs_ts',\n",
       "                'fname': 'C:\\\\Users\\\\dinar\\\\Desktop\\\\50healthy_demo\\\\AA_20120815\\\\series_alpha\\\\cspeed0.1\\\\csf 10\\\\subs_ts.txt',\n",
       "                'sid': 'sub-01',\n",
       "                'desc': 'default',\n",
       "                'sep': '\\t',\n",
       "                'path': 'C:\\\\Users\\\\dinar\\\\Desktop\\\\50healthy_demo\\\\AA_20120815\\\\series_alpha\\\\cspeed0.1\\\\csf 10\\\\subs_ts.txt',\n",
       "                'ext': 'txt'},\n",
       "               'alpha-speed100-G0.0398-bold_times_22min': {'name': 'alpha-speed100-G0.0398-bold_times_22min',\n",
       "                'fname': 'C:\\\\Users\\\\dinar\\\\Desktop\\\\50healthy_demo\\\\AA_20120815\\\\series_alpha\\\\cspeed100\\\\csf 0.0398\\\\bold_times_22min.txt',\n",
       "                'sid': 'sub-01',\n",
       "                'desc': 'default',\n",
       "                'sep': '.',\n",
       "                'path': 'C:\\\\Users\\\\dinar\\\\Desktop\\\\50healthy_demo\\\\AA_20120815\\\\series_alpha\\\\cspeed100\\\\csf 0.0398\\\\bold_times_22min.txt',\n",
       "                'ext': 'txt'},\n",
       "               'alpha-speed100-G0.0398-bold_ts_22min': {'name': 'alpha-speed100-G0.0398-bold_ts_22min',\n",
       "                'fname': 'C:\\\\Users\\\\dinar\\\\Desktop\\\\50healthy_demo\\\\AA_20120815\\\\series_alpha\\\\cspeed100\\\\csf 0.0398\\\\bold_ts_22min.txt',\n",
       "                'sid': 'sub-01',\n",
       "                'desc': 'default',\n",
       "                'sep': '\\t',\n",
       "                'path': 'C:\\\\Users\\\\dinar\\\\Desktop\\\\50healthy_demo\\\\AA_20120815\\\\series_alpha\\\\cspeed100\\\\csf 0.0398\\\\bold_ts_22min.txt',\n",
       "                'ext': 'txt'},\n",
       "               'alpha-speed100-G0.0398-subs_times_22min': {'name': 'alpha-speed100-G0.0398-subs_times_22min',\n",
       "                'fname': 'C:\\\\Users\\\\dinar\\\\Desktop\\\\50healthy_demo\\\\AA_20120815\\\\series_alpha\\\\cspeed100\\\\csf 0.0398\\\\subs_times_22min.txt',\n",
       "                'sid': 'sub-01',\n",
       "                'desc': 'default',\n",
       "                'sep': '.',\n",
       "                'path': 'C:\\\\Users\\\\dinar\\\\Desktop\\\\50healthy_demo\\\\AA_20120815\\\\series_alpha\\\\cspeed100\\\\csf 0.0398\\\\subs_times_22min.txt',\n",
       "                'ext': 'txt'},\n",
       "               'alpha-speed100-G0.0398-subs_ts_22min': {'name': 'alpha-speed100-G0.0398-subs_ts_22min',\n",
       "                'fname': 'C:\\\\Users\\\\dinar\\\\Desktop\\\\50healthy_demo\\\\AA_20120815\\\\series_alpha\\\\cspeed100\\\\csf 0.0398\\\\subs_ts_22min.txt',\n",
       "                'sid': 'sub-01',\n",
       "                'desc': 'default',\n",
       "                'sep': '\\t',\n",
       "                'path': 'C:\\\\Users\\\\dinar\\\\Desktop\\\\50healthy_demo\\\\AA_20120815\\\\series_alpha\\\\cspeed100\\\\csf 0.0398\\\\subs_ts_22min.txt',\n",
       "                'ext': 'txt'},\n",
       "               'delta-speed20-G0.1-bold_times': {'name': 'delta-speed20-G0.1-bold_times',\n",
       "                'fname': 'C:\\\\Users\\\\dinar\\\\Desktop\\\\50healthy_demo\\\\AA_20120815\\\\series_delta\\\\cspeed20\\\\csf 0.1\\\\bold_times.txt',\n",
       "                'sid': 'sub-01',\n",
       "                'desc': 'default',\n",
       "                'sep': '\\n',\n",
       "                'path': 'C:\\\\Users\\\\dinar\\\\Desktop\\\\50healthy_demo\\\\AA_20120815\\\\series_delta\\\\cspeed20\\\\csf 0.1\\\\bold_times.txt',\n",
       "                'ext': 'txt'},\n",
       "               'delta-speed20-G0.1-subs_times': {'name': 'delta-speed20-G0.1-subs_times',\n",
       "                'fname': 'C:\\\\Users\\\\dinar\\\\Desktop\\\\50healthy_demo\\\\AA_20120815\\\\series_delta\\\\cspeed20\\\\csf 0.1\\\\subs_times.txt',\n",
       "                'sid': 'sub-01',\n",
       "                'desc': 'default',\n",
       "                'sep': '\\n',\n",
       "                'path': 'C:\\\\Users\\\\dinar\\\\Desktop\\\\50healthy_demo\\\\AA_20120815\\\\series_delta\\\\cspeed20\\\\csf 0.1\\\\subs_times.txt',\n",
       "                'ext': 'txt'},\n",
       "               'delta-speed20-G0.1-subs_ts': {'name': 'delta-speed20-G0.1-subs_ts',\n",
       "                'fname': 'C:\\\\Users\\\\dinar\\\\Desktop\\\\50healthy_demo\\\\AA_20120815\\\\series_delta\\\\cspeed20\\\\csf 0.1\\\\subs_ts.txt',\n",
       "                'sid': 'sub-01',\n",
       "                'desc': 'default',\n",
       "                'sep': '\\t',\n",
       "                'path': 'C:\\\\Users\\\\dinar\\\\Desktop\\\\50healthy_demo\\\\AA_20120815\\\\series_delta\\\\cspeed20\\\\csf 0.1\\\\subs_ts.txt',\n",
       "                'ext': 'txt'},\n",
       "               'delta-speed20-G0.2-bold_times': {'name': 'delta-speed20-G0.2-bold_times',\n",
       "                'fname': 'C:\\\\Users\\\\dinar\\\\Desktop\\\\50healthy_demo\\\\AA_20120815\\\\series_delta\\\\cspeed20\\\\csf 0.2\\\\bold_times.txt',\n",
       "                'sid': 'sub-01',\n",
       "                'desc': 'default',\n",
       "                'sep': '\\n',\n",
       "                'path': 'C:\\\\Users\\\\dinar\\\\Desktop\\\\50healthy_demo\\\\AA_20120815\\\\series_delta\\\\cspeed20\\\\csf 0.2\\\\bold_times.txt',\n",
       "                'ext': 'txt'},\n",
       "               'delta-speed20-G0.2-subs_times': {'name': 'delta-speed20-G0.2-subs_times',\n",
       "                'fname': 'C:\\\\Users\\\\dinar\\\\Desktop\\\\50healthy_demo\\\\AA_20120815\\\\series_delta\\\\cspeed20\\\\csf 0.2\\\\subs_times.txt',\n",
       "                'sid': 'sub-01',\n",
       "                'desc': 'default',\n",
       "                'sep': '\\n',\n",
       "                'path': 'C:\\\\Users\\\\dinar\\\\Desktop\\\\50healthy_demo\\\\AA_20120815\\\\series_delta\\\\cspeed20\\\\csf 0.2\\\\subs_times.txt',\n",
       "                'ext': 'txt'},\n",
       "               'delta-speed20-G0.2-subs_ts': {'name': 'delta-speed20-G0.2-subs_ts',\n",
       "                'fname': 'C:\\\\Users\\\\dinar\\\\Desktop\\\\50healthy_demo\\\\AA_20120815\\\\series_delta\\\\cspeed20\\\\csf 0.2\\\\subs_ts.txt',\n",
       "                'sid': 'sub-01',\n",
       "                'desc': 'default',\n",
       "                'sep': '\\t',\n",
       "                'path': 'C:\\\\Users\\\\dinar\\\\Desktop\\\\50healthy_demo\\\\AA_20120815\\\\series_delta\\\\cspeed20\\\\csf 0.2\\\\subs_ts.txt',\n",
       "                'ext': 'txt'},\n",
       "               'centres': {'name': 'centres',\n",
       "                'fname': 'C:\\\\Users\\\\dinar\\\\Desktop\\\\50healthy_demo\\\\centres.txt',\n",
       "                'sid': 'sub-01',\n",
       "                'desc': 'default',\n",
       "                'sep': '\\t',\n",
       "                'path': 'C:\\\\Users\\\\dinar\\\\Desktop\\\\50healthy_demo\\\\centres.txt',\n",
       "                'ext': 'txt'}})])"
      ]
     },
     "execution_count": 9,
     "metadata": {},
     "output_type": "execute_result"
    }
   ],
   "source": [
    "sub"
   ]
  },
  {
   "cell_type": "code",
   "execution_count": 13,
   "id": "6a758fe3",
   "metadata": {},
   "outputs": [
    {
     "name": "stdout",
     "output_type": "stream",
     "text": [
      "{'name': 'alpha-speed0.1-G10-bold_times', 'fname': 'C:\\\\Users\\\\dinar\\\\Desktop\\\\50healthy_demo\\\\AA_20120815\\\\series_alpha\\\\cspeed0.1\\\\csf 10\\\\bold_times.txt', 'sid': 'sub-01', 'desc': 'default', 'sep': '\\n', 'path': 'C:\\\\Users\\\\dinar\\\\Desktop\\\\50healthy_demo\\\\AA_20120815\\\\series_alpha\\\\cspeed0.1\\\\csf 10\\\\bold_times.txt', 'ext': 'txt'}\n",
      "\n",
      "{'name': 'alpha-speed0.1-G10-subs_times', 'fname': 'C:\\\\Users\\\\dinar\\\\Desktop\\\\50healthy_demo\\\\AA_20120815\\\\series_alpha\\\\cspeed0.1\\\\csf 10\\\\subs_times.txt', 'sid': 'sub-01', 'desc': 'default', 'sep': '\\n', 'path': 'C:\\\\Users\\\\dinar\\\\Desktop\\\\50healthy_demo\\\\AA_20120815\\\\series_alpha\\\\cspeed0.1\\\\csf 10\\\\subs_times.txt', 'ext': 'txt'}\n",
      "\n",
      "{'name': 'alpha-speed100-G0.0398-bold_times_22min', 'fname': 'C:\\\\Users\\\\dinar\\\\Desktop\\\\50healthy_demo\\\\AA_20120815\\\\series_alpha\\\\cspeed100\\\\csf 0.0398\\\\bold_times_22min.txt', 'sid': 'sub-01', 'desc': 'default', 'sep': '.', 'path': 'C:\\\\Users\\\\dinar\\\\Desktop\\\\50healthy_demo\\\\AA_20120815\\\\series_alpha\\\\cspeed100\\\\csf 0.0398\\\\bold_times_22min.txt', 'ext': 'txt'}\n",
      "\n",
      "{'name': 'alpha-speed100-G0.0398-subs_times_22min', 'fname': 'C:\\\\Users\\\\dinar\\\\Desktop\\\\50healthy_demo\\\\AA_20120815\\\\series_alpha\\\\cspeed100\\\\csf 0.0398\\\\subs_times_22min.txt', 'sid': 'sub-01', 'desc': 'default', 'sep': '.', 'path': 'C:\\\\Users\\\\dinar\\\\Desktop\\\\50healthy_demo\\\\AA_20120815\\\\series_alpha\\\\cspeed100\\\\csf 0.0398\\\\subs_times_22min.txt', 'ext': 'txt'}\n",
      "\n",
      "{'name': 'delta-speed20-G0.1-bold_times', 'fname': 'C:\\\\Users\\\\dinar\\\\Desktop\\\\50healthy_demo\\\\AA_20120815\\\\series_delta\\\\cspeed20\\\\csf 0.1\\\\bold_times.txt', 'sid': 'sub-01', 'desc': 'default', 'sep': '\\n', 'path': 'C:\\\\Users\\\\dinar\\\\Desktop\\\\50healthy_demo\\\\AA_20120815\\\\series_delta\\\\cspeed20\\\\csf 0.1\\\\bold_times.txt', 'ext': 'txt'}\n",
      "\n",
      "{'name': 'delta-speed20-G0.1-subs_times', 'fname': 'C:\\\\Users\\\\dinar\\\\Desktop\\\\50healthy_demo\\\\AA_20120815\\\\series_delta\\\\cspeed20\\\\csf 0.1\\\\subs_times.txt', 'sid': 'sub-01', 'desc': 'default', 'sep': '\\n', 'path': 'C:\\\\Users\\\\dinar\\\\Desktop\\\\50healthy_demo\\\\AA_20120815\\\\series_delta\\\\cspeed20\\\\csf 0.1\\\\subs_times.txt', 'ext': 'txt'}\n",
      "\n",
      "{'name': 'delta-speed20-G0.2-bold_times', 'fname': 'C:\\\\Users\\\\dinar\\\\Desktop\\\\50healthy_demo\\\\AA_20120815\\\\series_delta\\\\cspeed20\\\\csf 0.2\\\\bold_times.txt', 'sid': 'sub-01', 'desc': 'default', 'sep': '\\n', 'path': 'C:\\\\Users\\\\dinar\\\\Desktop\\\\50healthy_demo\\\\AA_20120815\\\\series_delta\\\\cspeed20\\\\csf 0.2\\\\bold_times.txt', 'ext': 'txt'}\n",
      "\n",
      "{'name': 'delta-speed20-G0.2-subs_times', 'fname': 'C:\\\\Users\\\\dinar\\\\Desktop\\\\50healthy_demo\\\\AA_20120815\\\\series_delta\\\\cspeed20\\\\csf 0.2\\\\subs_times.txt', 'sid': 'sub-01', 'desc': 'default', 'sep': '\\n', 'path': 'C:\\\\Users\\\\dinar\\\\Desktop\\\\50healthy_demo\\\\AA_20120815\\\\series_delta\\\\cspeed20\\\\csf 0.2\\\\subs_times.txt', 'ext': 'txt'}\n",
      "\n"
     ]
    },
    {
     "name": "stderr",
     "output_type": "stream",
     "text": [
      "INFO:bokeh.server.views.ws:WebSocket connection closed: code=1001, reason=None\n"
     ]
    }
   ],
   "source": [
    "for k, v in sub['sub-01'].items():\n",
    "    if 'times' in k:\n",
    "        print(v, end='\\n\\n')"
   ]
  },
  {
   "cell_type": "code",
   "execution_count": 16,
   "id": "e803c792",
   "metadata": {},
   "outputs": [
    {
     "data": {
      "text/plain": [
       "['C:\\\\Users\\\\dinar\\\\Desktop\\\\50healthy_demo\\\\AA_20120815\\\\series_alpha\\\\cspeed0.1\\\\csf 10\\\\bold_times.txt',\n",
       " 'C:\\\\Users\\\\dinar\\\\Desktop\\\\50healthy_demo\\\\AA_20120815\\\\series_alpha\\\\cspeed0.1\\\\csf 10\\\\bold_ts.txt',\n",
       " 'C:\\\\Users\\\\dinar\\\\Desktop\\\\50healthy_demo\\\\AA_20120815\\\\series_alpha\\\\cspeed0.1\\\\csf 10\\\\subs_times.txt',\n",
       " 'C:\\\\Users\\\\dinar\\\\Desktop\\\\50healthy_demo\\\\AA_20120815\\\\series_alpha\\\\cspeed0.1\\\\csf 10\\\\subs_ts.txt',\n",
       " 'C:\\\\Users\\\\dinar\\\\Desktop\\\\50healthy_demo\\\\AA_20120815\\\\series_alpha\\\\cspeed100\\\\csf 0.0398\\\\bold_times_22min.txt',\n",
       " 'C:\\\\Users\\\\dinar\\\\Desktop\\\\50healthy_demo\\\\AA_20120815\\\\series_alpha\\\\cspeed100\\\\csf 0.0398\\\\bold_ts_22min.txt',\n",
       " 'C:\\\\Users\\\\dinar\\\\Desktop\\\\50healthy_demo\\\\AA_20120815\\\\series_alpha\\\\cspeed100\\\\csf 0.0398\\\\subs_times_22min.txt',\n",
       " 'C:\\\\Users\\\\dinar\\\\Desktop\\\\50healthy_demo\\\\AA_20120815\\\\series_alpha\\\\cspeed100\\\\csf 0.0398\\\\subs_ts_22min.txt']"
      ]
     },
     "execution_count": 16,
     "metadata": {},
     "output_type": "execute_result"
    }
   ],
   "source": [
    "from sim2bids.convert import convert\n",
    "\n",
    "convert.get_specific('alpha')"
   ]
  },
  {
   "cell_type": "code",
   "execution_count": 17,
   "id": "61ba9309",
   "metadata": {},
   "outputs": [],
   "source": [
    "from sim2bids.app import app\n",
    "\n",
    "def get_times(rhythm, ftype='bold_times'):\n",
    "    content = []\n",
    "    \n",
    "    for file in app.ALL_FILES:\n",
    "        if rhythm in file and ftype in file:\n",
    "            content.append(file)\n",
    "    \n",
    "    return content"
   ]
  },
  {
   "cell_type": "code",
   "execution_count": 19,
   "id": "59f5320d",
   "metadata": {},
   "outputs": [
    {
     "data": {
      "text/plain": [
       "['C:\\\\Users\\\\dinar\\\\Desktop\\\\50healthy_demo\\\\AA_20120815\\\\series_delta\\\\cspeed20\\\\csf 0.1\\\\bold_times.txt',\n",
       " 'C:\\\\Users\\\\dinar\\\\Desktop\\\\50healthy_demo\\\\AA_20120815\\\\series_delta\\\\cspeed20\\\\csf 0.2\\\\bold_times.txt']"
      ]
     },
     "execution_count": 19,
     "metadata": {},
     "output_type": "execute_result"
    }
   ],
   "source": [
    "get_times('delta', 'bold_times')"
   ]
  },
  {
   "cell_type": "code",
   "execution_count": 24,
   "id": "c828cf40",
   "metadata": {},
   "outputs": [],
   "source": [
    "import pandas as pd\n",
    "\n",
    "a1 = pd.read_csv('C:\\\\Users\\\\dinar\\\\Desktop\\\\50healthy_demo\\\\AA_20120815\\\\series_delta\\\\cspeed20\\\\csf 0.1\\\\bold_times.txt',\n",
    "                header=None, sep='\\t')\n",
    "a2 = pd.read_csv('C:\\\\Users\\\\dinar\\\\Desktop\\\\50healthy_demo\\\\AA_20120815\\\\series_delta\\\\cspeed20\\\\csf 0.2\\\\bold_times.txt',\n",
    "                header=None, sep='\\t')"
   ]
  },
  {
   "cell_type": "code",
   "execution_count": 28,
   "id": "c3d6d4f5",
   "metadata": {},
   "outputs": [
    {
     "data": {
      "text/plain": [
       "True"
      ]
     },
     "execution_count": 28,
     "metadata": {},
     "output_type": "execute_result"
    }
   ],
   "source": [
    "a1.equals(a2)"
   ]
  },
  {
   "cell_type": "code",
   "execution_count": 50,
   "id": "2e2be2df",
   "metadata": {},
   "outputs": [],
   "source": [
    "def check_times(subs):\n",
    "    # 1. get rhythm type\n",
    "    rhythm = re.findall(r'alpha|delta|gamma|theta|beta', subs['path'])[0]\n",
    "    \n",
    "    # 2. get 'times' type\n",
    "    times_type = [t for t in app.TIMES if t in subs['path']]\n",
    "    \n",
    "    if isinstance(times_type, list):\n",
    "        # 3. get all files of specific type \n",
    "        files = get_times(rhythm, times_type[0])\n",
    "        \n",
    "        # 4. if there are multiple versions, \n",
    "        if len(files) == 1:\n",
    "            \n",
    "    "
   ]
  },
  {
   "cell_type": "code",
   "execution_count": 54,
   "id": "4ddc2e0b",
   "metadata": {},
   "outputs": [
    {
     "name": "stdout",
     "output_type": "stream",
     "text": [
      "['C:\\\\Users\\\\dinar\\\\Desktop\\\\50healthy_demo\\\\AA_20120815\\\\series_delta\\\\cspeed20\\\\csf 0.1\\\\subs_times.txt', 'C:\\\\Users\\\\dinar\\\\Desktop\\\\50healthy_demo\\\\AA_20120815\\\\series_delta\\\\cspeed20\\\\csf 0.2\\\\subs_times.txt']\n"
     ]
    }
   ],
   "source": [
    "check_times({'name': 'delta-speed20-G0.2-subs_times', 'fname': 'C:\\\\Users\\\\dinar\\\\Desktop\\\\50healthy_demo\\\\AA_20120815\\\\series_delta\\\\cspeed20\\\\csf 0.2\\\\subs_times.txt', 'sid': 'sub-01', 'desc': 'default', 'sep': '\\n', 'path': 'C:\\\\Users\\\\dinar\\\\Desktop\\\\50healthy_demo\\\\AA_20120815\\\\series_delta\\\\cspeed20\\\\csf 0.2\\\\subs_times.txt', 'ext': 'txt'})\n",
    "\n",
    "\n"
   ]
  },
  {
   "cell_type": "code",
   "execution_count": 41,
   "id": "cc0ce6dd",
   "metadata": {},
   "outputs": [
    {
     "data": {
      "text/plain": [
       "['bold_times.txt',\n",
       " 'subs_times_22min.txt',\n",
       " 'subs_times.txt',\n",
       " 'bold_times_22min.txt']"
      ]
     },
     "execution_count": 41,
     "metadata": {},
     "output_type": "execute_result"
    }
   ],
   "source": [
    "app.TIMES"
   ]
  },
  {
   "cell_type": "code",
   "execution_count": 52,
   "id": "bddeedd3",
   "metadata": {},
   "outputs": [
    {
     "name": "stdout",
     "output_type": "stream",
     "text": [
      "['C:\\\\Users\\\\dinar\\\\Desktop\\\\50healthy_demo\\\\AA_20120815\\\\series_alpha\\\\cspeed100\\\\csf 0.0398\\\\bold_times_22min.txt']\n"
     ]
    }
   ],
   "source": [
    "check_times({'name': 'alpha-speed100-G0.0398-bold_times_22min', 'fname': 'C:\\\\Users\\\\dinar\\\\Desktop\\\\50healthy_demo\\\\AA_20120815\\\\series_alpha\\\\cspeed100\\\\csf 0.0398\\\\bold_times_22min.txt', 'sid': 'sub-01', 'desc': 'default', 'sep': '.', 'path': 'C:\\\\Users\\\\dinar\\\\Desktop\\\\50healthy_demo\\\\AA_20120815\\\\series_alpha\\\\cspeed100\\\\csf 0.0398\\\\bold_times_22min.txt', 'ext': 'txt'})"
   ]
  },
  {
   "cell_type": "code",
   "execution_count": null,
   "id": "267b4485",
   "metadata": {},
   "outputs": [],
   "source": []
  },
  {
   "cell_type": "code",
   "execution_count": 55,
   "id": "653d3810",
   "metadata": {
    "scrolled": true
   },
   "outputs": [
    {
     "data": {
      "text/plain": [
       "{'__header__': b'MATLAB 5.0 MAT-file Platform: posix, Created on: Tue Feb 14 04:48:46 2017',\n",
       " '__version__': '1.0',\n",
       " '__globals__': [],\n",
       " 'Bold_time': array([[5.0000e+02, 1.0000e+03, 1.5000e+03, ..., 1.3190e+06, 1.3195e+06,\n",
       "         1.3200e+06]]),\n",
       " 'Bold_data': array([[[[   31.30501829],\n",
       "          [   22.94625814],\n",
       "          [ -110.86465291],\n",
       "          ...,\n",
       "          [   23.94189774],\n",
       "          [   57.64111017],\n",
       "          [  -74.77319948]]],\n",
       " \n",
       " \n",
       "        [[[   29.59338953],\n",
       "          [   21.29085872],\n",
       "          [ -112.49132285],\n",
       "          ...,\n",
       "          [   22.44538672],\n",
       "          [   55.95230906],\n",
       "          [  -76.48548574]]],\n",
       " \n",
       " \n",
       "        [[[   18.65865173],\n",
       "          [   10.86446101],\n",
       "          [ -122.97435788],\n",
       "          ...,\n",
       "          [   12.98478864],\n",
       "          [   45.34490782],\n",
       "          [  -87.68838787]]],\n",
       " \n",
       " \n",
       "        ...,\n",
       " \n",
       " \n",
       "        [[[-1470.05512465],\n",
       "          [-1400.31684914],\n",
       "          [-1562.75033049],\n",
       "          ...,\n",
       "          [-1218.97335231],\n",
       "          [-1303.16777743],\n",
       "          [-1688.6495286 ]]],\n",
       " \n",
       " \n",
       "        [[[-1468.98293845],\n",
       "          [-1399.14277758],\n",
       "          [-1563.69154828],\n",
       "          ...,\n",
       "          [-1217.79974031],\n",
       "          [-1306.60196001],\n",
       "          [-1690.33841185]]],\n",
       " \n",
       " \n",
       "        [[[-1468.26011201],\n",
       "          [-1397.26233533],\n",
       "          [-1564.26461098],\n",
       "          ...,\n",
       "          [-1216.02139013],\n",
       "          [-1309.77882673],\n",
       "          [-1691.74680194]]]]),\n",
       " 'subs_time': array([[5.000000e+00, 1.000000e+01, 1.500000e+01, ..., 1.319990e+06,\n",
       "         1.319995e+06, 1.320000e+06]]),\n",
       " 'subs_data': array([[[-2.24675931, -2.22189492, -2.31525929, ..., -2.06935261,\n",
       "          -2.11160043, -2.1505776 ],\n",
       "         [-2.26157271, -2.2257822 , -2.31199231, ..., -2.05956258,\n",
       "          -2.13188738, -2.42755839]],\n",
       " \n",
       "        [[-2.10452706, -2.10083168, -2.1110147 , ..., -2.00984009,\n",
       "          -2.10549349, -2.15486293],\n",
       "         [-2.24298894, -2.23439328, -2.25857198, ..., -2.02518293,\n",
       "          -2.67688611, -2.28795216]],\n",
       " \n",
       "        [[-2.11039928, -2.10189389, -2.1090982 , ..., -2.05165081,\n",
       "          -2.12523047, -2.14808804],\n",
       "         [-2.24766455, -2.23322065, -2.25161872, ..., -2.20176129,\n",
       "          -2.82633466, -2.27800589]],\n",
       " \n",
       "        ...,\n",
       " \n",
       "        [[-1.36065689, -0.35471536,  1.82925633, ...,  0.14384319,\n",
       "          -0.63654956, -1.45081061],\n",
       "         [-1.26945818, -1.28964866, -1.45179142, ..., -1.37582726,\n",
       "          -1.29413448, -1.52271688]],\n",
       " \n",
       "        [[-0.64123703, -0.70357649, -0.026898  , ...,  2.27971225,\n",
       "           2.55616349, -1.47321314],\n",
       "         [-0.41478165, -0.92044471,  0.07360577, ..., -0.70381505,\n",
       "          -1.01842221,  0.23590043]],\n",
       " \n",
       "        [[-1.24809021, -1.07929349, -1.75938815, ..., -1.40699847,\n",
       "          -1.46133721, -1.9135859 ],\n",
       "         [-0.65838868, -0.82582175, -0.21504737, ..., -0.99525888,\n",
       "          -1.01920956, -0.30803109]]])}"
      ]
     },
     "execution_count": 55,
     "metadata": {},
     "output_type": "execute_result"
    }
   ],
   "source": [
    "from scipy.io import loadmat\n",
    "\n",
    "loadmat('C:\\\\Users\\\\dinar\\\\Desktop\\\\50healthy_demo\\\\AY_20111004\\\\series_alpha\\\\cspeed100\\\\csf 0.0325\\\\AY_20111004_SC_new.mat_SC_log_SC_22min_csf_0.0325.mat')\n",
    "\n",
    "\n"
   ]
  },
  {
   "cell_type": "code",
   "execution_count": null,
   "id": "5e6726df",
   "metadata": {},
   "outputs": [],
   "source": []
  },
  {
   "cell_type": "code",
   "execution_count": null,
   "id": "4fb85c0f",
   "metadata": {},
   "outputs": [],
   "source": []
  },
  {
   "cell_type": "code",
   "execution_count": 60,
   "id": "30ea9fff",
   "metadata": {},
   "outputs": [
    {
     "data": {
      "text/plain": [
       "[]"
      ]
     },
     "execution_count": 60,
     "metadata": {},
     "output_type": "execute_result"
    }
   ],
   "source": [
    "from sim2bids.generate import subjects as subs\n",
    "\n",
    "subs.find_matches(['C:\\\\Users\\\\dinar\\\\Desktop\\\\50healthy_demo\\\\AA_20120815\\\\series_alpha\\\\cspeed0.1\\\\csf 10\\\\bold_times.txt'])"
   ]
  },
  {
   "cell_type": "code",
   "execution_count": 62,
   "id": "176a3631",
   "metadata": {},
   "outputs": [
    {
     "data": {
      "text/plain": [
       "['AA_20120815']"
      ]
     },
     "execution_count": 62,
     "metadata": {},
     "output_type": "execute_result"
    }
   ],
   "source": [
    "re.findall(r'[A-Za-z]{2,3}_[0-9]{2,}', 'C:\\\\Users\\\\dinar\\\\Desktop\\\\50healthy_demo\\\\AA_20120815\\\\series_alpha\\\\cspeed0.1\\\\csf 10\\\\bold_times.txt')\n",
    "\n",
    "\n",
    "\n"
   ]
  },
  {
   "cell_type": "code",
   "execution_count": null,
   "id": "6fc26868",
   "metadata": {},
   "outputs": [],
   "source": []
  },
  {
   "cell_type": "code",
   "execution_count": null,
   "id": "9d977d24",
   "metadata": {},
   "outputs": [],
   "source": []
  },
  {
   "cell_type": "code",
   "execution_count": null,
   "id": "38601dc2",
   "metadata": {},
   "outputs": [],
   "source": []
  },
  {
   "cell_type": "code",
   "execution_count": 10,
   "id": "bad8be05",
   "metadata": {},
   "outputs": [
    {
     "data": {
      "text/plain": [
       "['bold', 'times', '22min']"
      ]
     },
     "execution_count": 10,
     "metadata": {},
     "output_type": "execute_result"
    }
   ],
   "source": [
    "split = ['bold', 'times', '22min']\n",
    "\n",
    "[split[-idx] for idx in list(range(3, 0, -1))]"
   ]
  },
  {
   "cell_type": "code",
   "execution_count": 6,
   "id": "d0599f47",
   "metadata": {},
   "outputs": [],
   "source": [
    "from scipy.io import loadmat\n",
    "\n",
    "mat = loadmat('C:\\\\Users\\\\dinar\\\\Desktop\\\\50healthy_demo\\\\AA_20120815\\\\series_alpha\\\\cspeed100\\\\csf 0.0398\\\\YE_20120910_SC.mat_csf_0.0398_speed_100_22min.mat')\n",
    "\n",
    "\n",
    "\n",
    "\n"
   ]
  },
  {
   "cell_type": "code",
   "execution_count": 14,
   "id": "4e6d9fb7",
   "metadata": {},
   "outputs": [],
   "source": [
    "one = mat['subs_data'][:, 0, :].shape"
   ]
  },
  {
   "cell_type": "code",
   "execution_count": 15,
   "id": "aeb9081a",
   "metadata": {},
   "outputs": [],
   "source": [
    "two = mat['subs_data'][:, 1, :].shape"
   ]
  },
  {
   "cell_type": "code",
   "execution_count": 16,
   "id": "9f6f1854",
   "metadata": {},
   "outputs": [
    {
     "data": {
      "text/plain": [
       "True"
      ]
     },
     "execution_count": 16,
     "metadata": {},
     "output_type": "execute_result"
    }
   ],
   "source": [
    "one == two"
   ]
  },
  {
   "cell_type": "code",
   "execution_count": 10,
   "id": "08829a62",
   "metadata": {},
   "outputs": [
    {
     "data": {
      "text/plain": [
       "(600, 68)"
      ]
     },
     "execution_count": 10,
     "metadata": {},
     "output_type": "execute_result"
    }
   ],
   "source": [
    "mat['Bold_data'][:, 0, :, 0].shape"
   ]
  },
  {
   "cell_type": "code",
   "execution_count": null,
   "id": "a0f2b6c5",
   "metadata": {},
   "outputs": [],
   "source": []
  },
  {
   "cell_type": "code",
   "execution_count": 4,
   "id": "5cabd13d",
   "metadata": {},
   "outputs": [
    {
     "data": {
      "text/plain": [
       "['22min']"
      ]
     },
     "execution_count": 4,
     "metadata": {},
     "output_type": "execute_result"
    },
    {
     "name": "stderr",
     "output_type": "stream",
     "text": [
      "INFO:bokeh.server.views.ws:WebSocket connection closed: code=1001, reason=None\n"
     ]
    }
   ],
   "source": [
    "import re\n",
    "\n",
    "re.findall(r'[0-9]+min', 'YE_20120910_SC.mat_csf_0.0398_speed_100_22min')"
   ]
  },
  {
   "cell_type": "code",
   "execution_count": null,
   "id": "9ea2495e",
   "metadata": {},
   "outputs": [],
   "source": []
  },
  {
   "cell_type": "code",
   "execution_count": null,
   "id": "d3cd2b59",
   "metadata": {},
   "outputs": [],
   "source": []
  },
  {
   "cell_type": "code",
   "execution_count": 4,
   "id": "dfb6dfb3",
   "metadata": {},
   "outputs": [],
   "source": [
    "rhythms = pn.Column('#### Specify rhythms', pn.widgets.CheckBoxGroup(\n",
    "    value=[], options=['Alpha', 'Beta', 'Delta', 'Gamma', 'Theta'],\n",
    "    inline=True, margin=(-10,0,0,10)))\n",
    "\n",
    "speed = pn.Column('#### Specify `conduction speed` folder name', pn.widgets.TextInput(value='cspeed', margin=(-10,0,0,0)))\n",
    "\n",
    "global_coupling = pn.Column('#### Specify `global coupling scaling factor` folder name', \n",
    "                            pn.widgets.TextInput(value='csf', margin=(-10,0,0,0)))\n",
    "\n",
    "col = pn.Column('### Specify simulation information', rhythms, speed, global_coupling)"
   ]
  },
  {
   "cell_type": "code",
   "execution_count": 5,
   "id": "ef87acad",
   "metadata": {},
   "outputs": [
    {
     "name": "stderr",
     "output_type": "stream",
     "text": [
      "INFO:bokeh.server.server:Starting Bokeh server version 2.4.3 (running on Tornado 6.1)\n",
      "INFO:bokeh.server.tornado:User authentication hooks NOT provided (default user enabled)\n"
     ]
    },
    {
     "name": "stdout",
     "output_type": "stream",
     "text": [
      "Launching server at http://localhost:50198\n"
     ]
    },
    {
     "data": {
      "text/plain": [
       "<bokeh.server.server.Server at 0x1dcf2c17a30>"
      ]
     },
     "execution_count": 5,
     "metadata": {},
     "output_type": "execute_result"
    },
    {
     "name": "stderr",
     "output_type": "stream",
     "text": [
      "INFO:tornado.access:200 GET / (127.0.0.1) 123.00ms\n",
      "INFO:tornado.access:200 GET /static/extensions/panel/bundled/jsoneditor/npm/jsoneditor@9.1.9/dist/jsoneditor.min.css (127.0.0.1) 2.00ms\n",
      "INFO:tornado.access:200 GET /static/extensions/panel/bundled/datatabulator/tabulator-tables@4.9.3/dist/css/tabulator_simple.min.css (127.0.0.1) 2.00ms\n",
      "INFO:tornado.access:200 GET /static/extensions/panel/bundled/notificationarea/npm/notyf@3/notyf.min.css (127.0.0.1) 4.00ms\n",
      "INFO:tornado.access:200 GET /static/extensions/panel/bundled/notificationarea/ajax/libs/font-awesome/5.15.1/css/all.min.css (127.0.0.1) 6.01ms\n",
      "INFO:tornado.access:200 GET /static/extensions/panel/css/alerts.css (127.0.0.1) 2.00ms\n",
      "INFO:tornado.access:200 GET /static/extensions/panel/css/card.css (127.0.0.1) 4.00ms\n",
      "INFO:tornado.access:200 GET /static/extensions/panel/css/debugger.css (127.0.0.1) 2.00ms\n",
      "INFO:tornado.access:200 GET /static/extensions/panel/css/dataframe.css (127.0.0.1) 4.00ms\n",
      "INFO:tornado.access:200 GET /static/extensions/panel/css/json.css (127.0.0.1) 2.00ms\n",
      "INFO:tornado.access:200 GET /static/extensions/panel/css/loading.css (127.0.0.1) 3.00ms\n",
      "INFO:tornado.access:200 GET /static/extensions/panel/css/markdown.css (127.0.0.1) 6.00ms\n",
      "INFO:tornado.access:200 GET /static/extensions/panel/bundled/jsoneditor/npm/jsoneditor@9.1.9/dist/jsoneditor.min.js (127.0.0.1) 10.00ms\n",
      "INFO:tornado.access:200 GET /static/extensions/panel/css/widgets.css (127.0.0.1) 10.01ms\n",
      "INFO:tornado.access:200 GET /static/extensions/panel/bundled/datatabulator/tabulator-tables@4.9.3/dist/js/tabulator.js (127.0.0.1) 15.00ms\n",
      "INFO:tornado.access:200 GET /static/extensions/panel/bundled/datatabulator/npm/luxon/build/global/luxon.min.js (127.0.0.1) 10.01ms\n",
      "INFO:tornado.access:200 GET /static/js/bokeh.min.js?v=3c61e952b808bb7e346ce828a565a5f23aaf7708d034fa9d0906403813355d45bb4e8d8b0b23a93f032c76831d4f0221846f28699c7f5147caa62e0d31668314 (127.0.0.1) 5.00ms\n",
      "INFO:tornado.access:200 GET /static/js/bokeh-gl.min.js?v=e5df31fd9010eacff0aa72d315264604b5e34972ba445acea6fce98080eecf33acf2d2986126360faaa5852813cffa16f6f6f4889923318300f062497c02da4e (127.0.0.1) 13.99ms\n",
      "INFO:tornado.access:200 GET /static/js/bokeh-widgets.min.js?v=8a1ff6f5aa0d967f4998d275803bbb111d928fd9f605ef9e1f30cfd021df0e77224ee3d13f83edb3a942f6e4ccc569ee5dd8951a8aa6cb600602463b90c65a87 (127.0.0.1) 12.00ms\n",
      "INFO:tornado.access:200 GET /static/js/bokeh-tables.min.js?v=ae2903e57cf57f52819fdf4d938c648982b51c34f73b6e653a0f3bb3c8ab44f338505931ace43eafc1636e215492e2314acf54c54baffb47813b86b4923a7fe0 (127.0.0.1) 16.00ms\n",
      "INFO:tornado.access:200 GET /static/extensions/panel/bundled/notificationarea/npm/notyf@3/notyf.min.js (127.0.0.1) 12.00ms\n",
      "INFO:tornado.access:200 GET /static/extensions/panel/panel.min.js?v=069cc8563e34a217fd5e41b8b6311eb15fa17fd5fdab8a2d352260f297f6d8d1 (127.0.0.1) 4.01ms\n",
      "WARNING:tornado.access:404 GET /favicon.ico (127.0.0.1) 0.00ms\n",
      "INFO:tornado.access:101 GET /ws (127.0.0.1) 1.00ms\n",
      "INFO:bokeh.server.views.ws:WebSocket connection opened\n",
      "INFO:bokeh.server.views.ws:ServerConnection created\n"
     ]
    }
   ],
   "source": [
    "pn.serve(col)"
   ]
  },
  {
   "cell_type": "code",
   "execution_count": null,
   "id": "2ba8b63b",
   "metadata": {},
   "outputs": [],
   "source": []
  }
 ],
 "metadata": {
  "kernelspec": {
   "display_name": "Python 3 (ipykernel)",
   "language": "python",
   "name": "python3"
  },
  "language_info": {
   "codemirror_mode": {
    "name": "ipython",
    "version": 3
   },
   "file_extension": ".py",
   "mimetype": "text/x-python",
   "name": "python",
   "nbconvert_exporter": "python",
   "pygments_lexer": "ipython3",
   "version": "3.10.4"
  }
 },
 "nbformat": 4,
 "nbformat_minor": 5
}
