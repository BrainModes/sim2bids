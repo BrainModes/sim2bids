{
 "cells": [
  {
   "cell_type": "code",
   "execution_count": 1,
   "id": "a883d3f9",
   "metadata": {},
   "outputs": [
    {
     "name": "stderr",
     "output_type": "stream",
     "text": [
      "C:\\Users\\dinar\\miniconda3\\envs\\incf\\lib\\site-packages\\tvb\\datatypes\\surfaces.py:64: UserWarning: Geodesic distance module is unavailable; some functionality for surfaces will be unavailable.\n",
      "  warnings.warn(msg)\n"
     ]
    }
   ],
   "source": [
    "import numpy\n",
    "import scipy\n",
    "import os\n",
    "# load TVB library\n",
    "from tvb.simulator.lab import *\n",
    "from tvb.basic.readers import FileReader"
   ]
  },
  {
   "cell_type": "code",
   "execution_count": 9,
   "id": "3dec7904",
   "metadata": {},
   "outputs": [],
   "source": [
    "import numpy as np\n",
    "\n",
    "# set up the simulation\n",
    "\n",
    "# select the SJHMR3D model as the local model and define its parameters\n",
    "# for delta series choose \n",
    "oscilator = models.ReducedSetHindmarshRose(r=numpy.array([0.006]), a=numpy.array([1.0]), b=numpy.array([3.0]), \n",
    "                                           c=numpy.array([1.0]), d=numpy.array([5.0]), s=numpy.array([4.0]), \n",
    "                                           xo=numpy.array([-1.6]), K11=numpy.array([0.5]), K12=numpy.array([0.1]), \n",
    "                                           K21=numpy.array([0.15]), sigma=numpy.array([0.3]), mu=numpy.array([2.2]), \n",
    "                                           variables_of_interest=[\"xi\",\"alpha\"])\n",
    "oscilator.configure()\n",
    "\n",
    "# for alpha series uncomment the below code\n",
    "# oscilator = models.ReducedSetHindmarshRose(r=numpy.array([0.006]), a=numpy.array([1.0]), b=numpy.array([3.0]), \n",
    "#                                            c=numpy.array([1.0]), d=numpy.array([5.0]), s=numpy.array([4.0]), \n",
    "#                                            xo=numpy.array([-1.6]), K11=numpy.array([4.0]), K12=numpy.array([1.6]), \n",
    "#                                            K21=numpy.array([0.15]), sigma=numpy.array([0.4]), mu=numpy.array([2.2]), \n",
    "#                                            variables_of_interest=[\"xi\",\"alpha\"])\n",
    "# oscilator.configure()\n",
    "\n",
    "# set up the structural connectivity\n",
    "mypath=\"C:/Users/dinar/Desktop/50healthy/DG_20120903\"  # insert the path to where all subjects connectivities are stored\n",
    "# subject=\"\" # specify which subject to load\n",
    "\n",
    "# load connectivity weights\n",
    "reader = FileReader(file_path= mypath + '/weights.txt')\n",
    "w= reader.read_array(dtype=numpy.float64, skip_rows=0, use_cols=None, matlab_data_name=None)\n",
    "\n",
    "# load region centers\n",
    "reader = FileReader(file_path=mypath + '/centres.txt')\n",
    "rl = reader.read_array(dtype=str, skip_rows=0, use_cols=0, matlab_data_name=None)\n",
    "c = reader.read_array(dtype=np.float64, skip_rows=0, use_cols=(1,), matlab_data_name=None)\n",
    "\n",
    "# load connectivity tract lengths\n",
    "reader = FileReader(file_path=mypath + '/distances.txt')\n",
    "tl= reader.read_array(dtype=numpy.float64, skip_rows=0, use_cols=None, matlab_data_name=None)\n",
    "\n",
    "# confige the connectivity\n",
    "white_matter = connectivity.Connectivity(region_labels=rl, weights=w, tract_lengths=tl, centres=c)  "
   ]
  },
  {
   "cell_type": "code",
   "execution_count": 10,
   "id": "cd9f782e",
   "metadata": {},
   "outputs": [
    {
     "data": {
      "text/html": [
       "<table>\n",
       "<h3>Simulator</h3>\n",
       "<thead><tr><th></th><th style=\"text-align:left;width:40%\">value</th></tr></thead>\n",
       "<tbody>\n",
       "<tr><td>Type</td><td style=\"text-align:left;\"><pre>Simulator</pre></td>\n",
       "<tr><td>conduction_speed</td><td style=\"text-align:left;\"><pre>100.0</pre></td>\n",
       "<tr><td>connectivity</td><td style=\"text-align:left;\"><pre>Connectivity gid: 95d7c811-44ae-48ad-a4bc-22e453b5f20b</pre></td>\n",
       "<tr><td>coupling</td><td style=\"text-align:left;\"><pre>Linear gid: 5b1ab672-e3d4-4d96-9394-e8d892616c42</pre></td>\n",
       "<tr><td>gid</td><td style=\"text-align:left;\"><pre>UUID('86a8e33a-ea97-44db-9bfa-35f3908d340d')</pre></td>\n",
       "<tr><td>initial_conditions</td><td style=\"text-align:left;\"><pre>None</pre></td>\n",
       "<tr><td>integrator</td><td style=\"text-align:left;\"><pre>HeunStochastic gid: 6a41a275-13a9-4d33-9df3-c6f3133f4d8f</pre></td>\n",
       "<tr><td>model</td><td style=\"text-align:left;\"><pre>ReducedSetHindmarshRose gid: 55acf9b0-53bf-410b-b430-e39fdb15d381</pre></td>\n",
       "<tr><td>monitors</td><td style=\"text-align:left;\"><pre>(<tvb.simulator.monitors.SubSample object at 0x000002230932A470>, <tvb.simulator.monitors.Bold object at 0x00000223093BD0F0>)</pre></td>\n",
       "<tr><td>simulation_length</td><td style=\"text-align:left;\"><pre>1000.0</pre></td>\n",
       "<tr><td>stimulus</td><td style=\"text-align:left;\"><pre>None</pre></td>\n",
       "<tr><td>surface</td><td style=\"text-align:left;\"><pre>None</pre></td>\n",
       "<tr><td>title</td><td style=\"text-align:left;\"><pre>Simulator gid: 86a8e33a-ea97-44db-9bfa-35f3908d340d</pre></td>\n",
       "</tbody></table>"
      ],
      "text/plain": [
       "<tvb.simulator.simulator.Simulator at 0x223093bf010>"
      ]
     },
     "execution_count": 10,
     "metadata": {},
     "output_type": "execute_result"
    }
   ],
   "source": [
    "# specify the coupling function\n",
    "# here a linear scaling function was used\n",
    "# csf --> global coupling scaling factor\n",
    "# is one of the parameters explored in this study\n",
    "# for delta series it was varied from 0.05 to 0.25 in steps of 0.01\n",
    "# for alpha series it was varied from 0.025 to 0.04 in steps of 0.001\n",
    "# in this simulation one one value is chosen, but loop across all values to reproduce the findings of the paper\n",
    "csf = 0.05\n",
    "white_matter_coupling = coupling.Linear(a=np.array([csf]), b=np.array([0.0]))\n",
    "white_matter_coupling.configure()\n",
    "\n",
    "# specify a conduction speed to calculate time delays in the network \n",
    "# the 2nd parameter that was explored in this study\n",
    "# for delta series it was varied from 20 to 100 in steps of 100\n",
    "# for alpha series it was varied from 10 to 100 in steps of 10\n",
    "# in this simulation one one value is chosen, but loop across all values to reproduce the findings of the paper\n",
    "\n",
    "\n",
    "# specify a conduction speed to calculate time delays in the network \n",
    "# the 2nd parameter that was explored in this study\n",
    "# for delta series it was varied from 20 to 100 in steps of 100\n",
    "# for alpha series it was varied from 10 to 100 in steps of 10\n",
    "# in this simulation one one value is chosen, but loop across all values to reproduce the findings of the paper\n",
    "speed=100\n",
    "\n",
    "# set up the integration scheme to solve the differential equations\n",
    "# for delta series choose\n",
    "heunint = integrators.HeunStochastic(dt=0.01220703125, noise=noise.Additive(nsig=np.array([1.0])))\n",
    "\n",
    "# for alpha series uncomment the below code\n",
    "# heunint = integrators.HeunStochastic(dt=0.05, noise=noise.Additive(nsig=numpy.array([0.001])))\n",
    "\n",
    "# specify what data to record from the simulation using tvb monitory\n",
    "# choose subsampling of the neural signal\n",
    "p=3.90625 #<-- 256Hz\n",
    "momo = monitors.SubSample(period=p)\n",
    "\n",
    "# choose to generate BOLD signal using a hemodynamic response function\n",
    "hrffunction=equations.MixtureOfGammas()\n",
    "pb=500\n",
    "mama = monitors.Bold(period=pb, hrf_kernel=hrffunction)\n",
    "\n",
    "# put both monitors together\n",
    "what_to_watch = (momo, mama)\n",
    "\n",
    "# configure the simulation\n",
    "sim = simulator.Simulator(model=oscilator, connectivity=white_matter,\n",
    "                          coupling=white_matter_coupling, conduction_speed=speed,\n",
    "                          integrator=heunint, monitors=what_to_watch)\n",
    "\n",
    "sim.configure()\n",
    "\n",
    "sim\n",
    "\n",
    "# specify simulation length\n",
    "# for delta series choose\n",
    "# sim_length = 180000"
   ]
  },
  {
   "cell_type": "code",
   "execution_count": 16,
   "id": "65b62c8f",
   "metadata": {},
   "outputs": [],
   "source": [
    "# specify simulation length\n",
    "# for delta series choose\n",
    "sim_length = 1000\n",
    "\n",
    "# perform the simulation\n",
    "subs_data = []\n",
    "subs_time = []\n",
    "bold_data = []\n",
    "bold_time = []\n",
    "\n",
    "for subs, bold in sim(simulation_length=sim_length):\n",
    "    if subs is not None:\n",
    "        subs_time.append(subs[0])\n",
    "        subs_data.append(subs[1])\n",
    "        \n",
    "        if subs_data:\n",
    "            np.save('subs_data.txt', numpy.sum(numpy.array(subs_data),axis=3))\n",
    "        \n",
    "        if subs_time:\n",
    "            np.save('subs_time.txt', np.array(subs_time))\n",
    "    \n",
    "    if bold is not None:\n",
    "        bold_time.append(bold[0])\n",
    "        bold_data.append(bold[1])\n",
    "        \n",
    "        if bold_data:\n",
    "            np.save('bold_data.txt', np.array(bold_data))\n",
    "\n",
    "        if bold_time:\n",
    "            np.save('bold_time.txt', np.array(bold_time))\n",
    "\n",
    "\n",
    "# save the simulated time series\n",
    "# declare a path where data should be saved\n",
    "save_path=\"\"\n",
    "SUBS  = numpy.sum(numpy.array(subs_data),axis=3)\n",
    "TSUBS = numpy.array(subs_time)\n",
    "BOLD  = numpy.array(bold_data)\n",
    "TBOLD = numpy.array(bold_time)\n",
    "subsfile = 'csf_'+str(csf) +'_speed_' +str(speed)\n",
    "scipy.io.savemat(subsfile, mdict={'subs_data': SUBS, 'subs_time': TSUBS ,'bold_data': BOLD, 'bold_time': TBOLD })"
   ]
  },
  {
   "cell_type": "code",
   "execution_count": 18,
   "id": "c595a2a7",
   "metadata": {},
   "outputs": [
    {
     "data": {
      "text/plain": [
       "array([[1., 1., 1., ..., 1., 1., 1.],\n",
       "       [1., 1., 1., ..., 1., 1., 1.],\n",
       "       [1., 1., 1., ..., 1., 1., 1.],\n",
       "       ...,\n",
       "       [1., 1., 1., ..., 1., 1., 1.],\n",
       "       [1., 1., 1., ..., 1., 1., 1.],\n",
       "       [1., 1., 1., ..., 1., 1., 1.]])"
      ]
     },
     "execution_count": 18,
     "metadata": {},
     "output_type": "execute_result"
    }
   ],
   "source": [
    "fc = np.corrcoef(BOLD[:, 0, :, 0].T)\n",
    "fc"
   ]
  },
  {
   "cell_type": "code",
   "execution_count": null,
   "id": "4f4c0769",
   "metadata": {},
   "outputs": [],
   "source": []
  },
  {
   "cell_type": "code",
   "execution_count": null,
   "id": "a9f33937",
   "metadata": {},
   "outputs": [],
   "source": []
  },
  {
   "cell_type": "code",
   "execution_count": null,
   "id": "c7073109",
   "metadata": {},
   "outputs": [],
   "source": []
  }
 ],
 "metadata": {
  "kernelspec": {
   "display_name": "Python 3 (ipykernel)",
   "language": "python",
   "name": "python3"
  },
  "language_info": {
   "codemirror_mode": {
    "name": "ipython",
    "version": 3
   },
   "file_extension": ".py",
   "mimetype": "text/x-python",
   "name": "python",
   "nbconvert_exporter": "python",
   "pygments_lexer": "ipython3",
   "version": "3.10.4"
  }
 },
 "nbformat": 4,
 "nbformat_minor": 5
}
