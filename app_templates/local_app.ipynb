{
 "cells": [
  {
   "cell_type": "code",
   "execution_count": 1,
   "id": "2c5f1d07",
   "metadata": {},
   "outputs": [
    {
     "data": {
      "application/javascript": [
       "(function(root) {\n",
       "  function now() {\n",
       "    return new Date();\n",
       "  }\n",
       "\n",
       "  var force = true;\n",
       "\n",
       "  if (typeof root._bokeh_onload_callbacks === \"undefined\" || force === true) {\n",
       "    root._bokeh_onload_callbacks = [];\n",
       "    root._bokeh_is_loading = undefined;\n",
       "  }\n",
       "\n",
       "  if (typeof (root._bokeh_timeout) === \"undefined\" || force === true) {\n",
       "    root._bokeh_timeout = Date.now() + 5000;\n",
       "    root._bokeh_failed_load = false;\n",
       "  }\n",
       "\n",
       "  function run_callbacks() {\n",
       "    try {\n",
       "      root._bokeh_onload_callbacks.forEach(function(callback) {\n",
       "        if (callback != null)\n",
       "          callback();\n",
       "      });\n",
       "    } finally {\n",
       "      delete root._bokeh_onload_callbacks\n",
       "    }\n",
       "    console.debug(\"Bokeh: all callbacks have finished\");\n",
       "  }\n",
       "\n",
       "  function load_libs(css_urls, js_urls, js_modules, callback) {\n",
       "    if (css_urls == null) css_urls = [];\n",
       "    if (js_urls == null) js_urls = [];\n",
       "    if (js_modules == null) js_modules = [];\n",
       "\n",
       "    root._bokeh_onload_callbacks.push(callback);\n",
       "    if (root._bokeh_is_loading > 0) {\n",
       "      console.debug(\"Bokeh: BokehJS is being loaded, scheduling callback at\", now());\n",
       "      return null;\n",
       "    }\n",
       "    if (js_urls.length === 0 && js_modules.length === 0) {\n",
       "      run_callbacks();\n",
       "      return null;\n",
       "    }\n",
       "    console.debug(\"Bokeh: BokehJS not loaded, scheduling load and callback at\", now());\n",
       "\n",
       "    function on_load() {\n",
       "      root._bokeh_is_loading--;\n",
       "      if (root._bokeh_is_loading === 0) {\n",
       "        console.debug(\"Bokeh: all BokehJS libraries/stylesheets loaded\");\n",
       "        run_callbacks()\n",
       "      }\n",
       "    }\n",
       "\n",
       "    function on_error() {\n",
       "      console.error(\"failed to load \" + url);\n",
       "    }\n",
       "\n",
       "    for (var i = 0; i < css_urls.length; i++) {\n",
       "      var url = css_urls[i];\n",
       "      const element = document.createElement(\"link\");\n",
       "      element.onload = on_load;\n",
       "      element.onerror = on_error;\n",
       "      element.rel = \"stylesheet\";\n",
       "      element.type = \"text/css\";\n",
       "      element.href = url;\n",
       "      console.debug(\"Bokeh: injecting link tag for BokehJS stylesheet: \", url);\n",
       "      document.body.appendChild(element);\n",
       "    }\n",
       "\n",
       "    var skip = [];\n",
       "    if (window.requirejs) {\n",
       "      window.requirejs.config({'packages': {}, 'paths': {'vega-embed': 'https://cdn.jsdelivr.net/npm/vega-embed@6/build/vega-embed.min', 'vega-lite': 'https://cdn.jsdelivr.net/npm/vega-lite@5/build/vega-lite.min', 'vega': 'https://cdn.jsdelivr.net/npm/vega@5/build/vega.min', 'ace': '//cdnjs.cloudflare.com/ajax/libs/ace/1.4.7', 'jsoneditor': '//cdn.jsdelivr.net/npm/jsoneditor@9.1.9/dist/jsoneditor.min', 'gridstack': 'https://cdn.jsdelivr.net/npm/gridstack@4.2.5/dist/gridstack-h5', 'notyf': 'https://cdn.jsdelivr.net/npm/notyf@3/notyf.min'}, 'shim': {'ace/ext-language_tools': {'deps': ['ace/ace']}, 'ace/ext-modelist': {'deps': ['ace/ace']}, 'jsoneditor': {'exports': 'JSONEditor'}, 'gridstack': {'exports': 'GridStack'}}});\n",
       "      require([\"vega-embed\"], function(vegaEmbed) {\n",
       "\twindow.vegaEmbed = vegaEmbed\n",
       "\ton_load()\n",
       "      })\n",
       "      require([\"vega-lite\"], function(vl) {\n",
       "\twindow.vl = vl\n",
       "\ton_load()\n",
       "      })\n",
       "      require([\"vega\"], function(vega) {\n",
       "\twindow.vega = vega\n",
       "\ton_load()\n",
       "      })\n",
       "      require([\"ace/ace\"], function(ace) {\n",
       "\twindow.ace = ace\n",
       "\ton_load()\n",
       "      })\n",
       "      require([\"ace/ext-language_tools\"], function() {\n",
       "\ton_load()\n",
       "      })\n",
       "      require([\"ace/ext-modelist\"], function() {\n",
       "\ton_load()\n",
       "      })\n",
       "      require([\"jsoneditor\"], function(JSONEditor) {\n",
       "\twindow.JSONEditor = JSONEditor\n",
       "\ton_load()\n",
       "      })\n",
       "      require([\"gridstack\"], function(GridStack) {\n",
       "\twindow.GridStack = GridStack\n",
       "\ton_load()\n",
       "      })\n",
       "      require([\"notyf\"], function() {\n",
       "\ton_load()\n",
       "      })\n",
       "      root._bokeh_is_loading = css_urls.length + 9;\n",
       "    } else {\n",
       "      root._bokeh_is_loading = css_urls.length + js_urls.length + js_modules.length;\n",
       "    }    if (((window['vega'] !== undefined) && (!(window['vega'] instanceof HTMLElement))) || window.requirejs) {\n",
       "      var urls = ['https://cdn.jsdelivr.net/npm/vega@5'];\n",
       "      for (var i = 0; i < urls.length; i++) {\n",
       "        skip.push(urls[i])\n",
       "      }\n",
       "    }    if (((window['vegaLite'] !== undefined) && (!(window['vegaLite'] instanceof HTMLElement))) || window.requirejs) {\n",
       "      var urls = ['https://cdn.jsdelivr.net/npm/vega-lite@5'];\n",
       "      for (var i = 0; i < urls.length; i++) {\n",
       "        skip.push(urls[i])\n",
       "      }\n",
       "    }    if (((window['vegaEmbed'] !== undefined) && (!(window['vegaEmbed'] instanceof HTMLElement))) || window.requirejs) {\n",
       "      var urls = ['https://cdn.jsdelivr.net/npm/vega-embed@6'];\n",
       "      for (var i = 0; i < urls.length; i++) {\n",
       "        skip.push(urls[i])\n",
       "      }\n",
       "    }    if (((window['ace'] !== undefined) && (!(window['ace'] instanceof HTMLElement))) || window.requirejs) {\n",
       "      var urls = ['https://cdnjs.cloudflare.com/ajax/libs/ace/1.4.11/ace.js', 'https://cdnjs.cloudflare.com/ajax/libs/ace/1.4.11/ext-language_tools.js', 'https://cdnjs.cloudflare.com/ajax/libs/ace/1.4.11/ext-modelist.js'];\n",
       "      for (var i = 0; i < urls.length; i++) {\n",
       "        skip.push(urls[i])\n",
       "      }\n",
       "    }    if (((window['JSONEditor'] !== undefined) && (!(window['JSONEditor'] instanceof HTMLElement))) || window.requirejs) {\n",
       "      var urls = ['https://cdn.jsdelivr.net/npm/jsoneditor@9.1.9/dist/jsoneditor.min.js'];\n",
       "      for (var i = 0; i < urls.length; i++) {\n",
       "        skip.push(urls[i])\n",
       "      }\n",
       "    }    if (((window['GridStack'] !== undefined) && (!(window['GridStack'] instanceof HTMLElement))) || window.requirejs) {\n",
       "      var urls = ['https://cdn.jsdelivr.net/npm/gridstack@4.2.5/dist/gridstack-h5.js'];\n",
       "      for (var i = 0; i < urls.length; i++) {\n",
       "        skip.push(urls[i])\n",
       "      }\n",
       "    }    if (((window['Notyf'] !== undefined) && (!(window['Notyf'] instanceof HTMLElement))) || window.requirejs) {\n",
       "      var urls = ['https://cdn.jsdelivr.net/npm/notyf@3/notyf.min.js'];\n",
       "      for (var i = 0; i < urls.length; i++) {\n",
       "        skip.push(urls[i])\n",
       "      }\n",
       "    }    for (var i = 0; i < js_urls.length; i++) {\n",
       "      var url = js_urls[i];\n",
       "      if (skip.indexOf(url) >= 0) {\n",
       "\tif (!window.requirejs) {\n",
       "\t  on_load();\n",
       "\t}\n",
       "\tcontinue;\n",
       "      }\n",
       "      var element = document.createElement('script');\n",
       "      element.onload = on_load;\n",
       "      element.onerror = on_error;\n",
       "      element.async = false;\n",
       "      element.src = url;\n",
       "      console.debug(\"Bokeh: injecting script tag for BokehJS library: \", url);\n",
       "      document.head.appendChild(element);\n",
       "    }\n",
       "    for (var i = 0; i < js_modules.length; i++) {\n",
       "      var url = js_modules[i];\n",
       "      if (skip.indexOf(url) >= 0) {\n",
       "\tif (!window.requirejs) {\n",
       "\t  on_load();\n",
       "\t}\n",
       "\tcontinue;\n",
       "      }\n",
       "      var element = document.createElement('script');\n",
       "      element.onload = on_load;\n",
       "      element.onerror = on_error;\n",
       "      element.async = false;\n",
       "      element.src = url;\n",
       "      element.type = \"module\";\n",
       "      console.debug(\"Bokeh: injecting script tag for BokehJS library: \", url);\n",
       "      document.head.appendChild(element);\n",
       "    }\n",
       "    if (!js_urls.length && !js_modules.length) {\n",
       "      on_load()\n",
       "    }\n",
       "  };\n",
       "\n",
       "  function inject_raw_css(css) {\n",
       "    const element = document.createElement(\"style\");\n",
       "    element.appendChild(document.createTextNode(css));\n",
       "    document.body.appendChild(element);\n",
       "  }\n",
       "\n",
       "  var js_urls = [\"https://cdnjs.cloudflare.com/ajax/libs/ace/1.4.11/ace.js\", \"https://cdnjs.cloudflare.com/ajax/libs/ace/1.4.11/ext-language_tools.js\", \"https://cdnjs.cloudflare.com/ajax/libs/ace/1.4.11/ext-modelist.js\", \"https://cdn.jsdelivr.net/npm/jsoneditor@9.1.9/dist/jsoneditor.min.js\", \"https://cdn.jsdelivr.net/npm/vega@5\", \"https://cdn.jsdelivr.net/npm/vega-lite@5\", \"https://cdn.jsdelivr.net/npm/vega-embed@6\", \"https://cdn.bokeh.org/bokeh/release/bokeh-2.4.3.min.js\", \"https://cdn.bokeh.org/bokeh/release/bokeh-gl-2.4.3.min.js\", \"https://cdn.bokeh.org/bokeh/release/bokeh-widgets-2.4.3.min.js\", \"https://cdn.bokeh.org/bokeh/release/bokeh-tables-2.4.3.min.js\", \"https://cdn.bokeh.org/bokeh/release/bokeh-mathjax-2.4.3.min.js\", \"https://cdn.jsdelivr.net/npm/notyf@3/notyf.min.js\", \"https://unpkg.com/@holoviz/panel@0.13.1/dist/panel.min.js\"];\n",
       "  var js_modules = [];\n",
       "  var css_urls = [\"https://cdn.jsdelivr.net/npm/jsoneditor@9.1.9/dist/jsoneditor.min.css\", \"https://cdn.jsdelivr.net/npm/notyf@3/notyf.min.css\", \"https://cdnjs.cloudflare.com/ajax/libs/font-awesome/5.15.1/css/all.min.css\", \"https://unpkg.com/@holoviz/panel@0.13.1/dist/css/alerts.css\", \"https://unpkg.com/@holoviz/panel@0.13.1/dist/css/card.css\", \"https://unpkg.com/@holoviz/panel@0.13.1/dist/css/dataframe.css\", \"https://unpkg.com/@holoviz/panel@0.13.1/dist/css/debugger.css\", \"https://unpkg.com/@holoviz/panel@0.13.1/dist/css/json.css\", \"https://unpkg.com/@holoviz/panel@0.13.1/dist/css/loading.css\", \"https://unpkg.com/@holoviz/panel@0.13.1/dist/css/markdown.css\", \"https://unpkg.com/@holoviz/panel@0.13.1/dist/css/widgets.css\"];\n",
       "  var inline_js = [    function(Bokeh) {\n",
       "      inject_raw_css(\"\\n    .bk.pn-loading.arcs:before {\\n      background-image: url(\\\"data:image/svg+xml;base64,PHN2ZyB4bWxucz0iaHR0cDovL3d3dy53My5vcmcvMjAwMC9zdmciIHhtbG5zOnhsaW5rPSJodHRwOi8vd3d3LnczLm9yZy8xOTk5L3hsaW5rIiBzdHlsZT0ibWFyZ2luOiBhdXRvOyBiYWNrZ3JvdW5kOiBub25lOyBkaXNwbGF5OiBibG9jazsgc2hhcGUtcmVuZGVyaW5nOiBhdXRvOyIgdmlld0JveD0iMCAwIDEwMCAxMDAiIHByZXNlcnZlQXNwZWN0UmF0aW89InhNaWRZTWlkIj4gIDxjaXJjbGUgY3g9IjUwIiBjeT0iNTAiIHI9IjMyIiBzdHJva2Utd2lkdGg9IjgiIHN0cm9rZT0iI2MzYzNjMyIgc3Ryb2tlLWRhc2hhcnJheT0iNTAuMjY1NDgyNDU3NDM2NjkgNTAuMjY1NDgyNDU3NDM2NjkiIGZpbGw9Im5vbmUiIHN0cm9rZS1saW5lY2FwPSJyb3VuZCI+ICAgIDxhbmltYXRlVHJhbnNmb3JtIGF0dHJpYnV0ZU5hbWU9InRyYW5zZm9ybSIgdHlwZT0icm90YXRlIiByZXBlYXRDb3VudD0iaW5kZWZpbml0ZSIgZHVyPSIxcyIga2V5VGltZXM9IjA7MSIgdmFsdWVzPSIwIDUwIDUwOzM2MCA1MCA1MCI+PC9hbmltYXRlVHJhbnNmb3JtPiAgPC9jaXJjbGU+PC9zdmc+\\\");\\n      background-size: auto calc(min(50%, 400px));\\n    }\\n    \");\n",
       "    },    function(Bokeh) {\n",
       "      Bokeh.set_log_level(\"info\");\n",
       "    },\n",
       "function(Bokeh) {} // ensure no trailing comma for IE\n",
       "  ];\n",
       "\n",
       "  function run_inline_js() {\n",
       "    if ((root.Bokeh !== undefined) || (force === true)) {\n",
       "      for (var i = 0; i < inline_js.length; i++) {\n",
       "        inline_js[i].call(root, root.Bokeh);\n",
       "      }} else if (Date.now() < root._bokeh_timeout) {\n",
       "      setTimeout(run_inline_js, 100);\n",
       "    } else if (!root._bokeh_failed_load) {\n",
       "      console.log(\"Bokeh: BokehJS failed to load within specified timeout.\");\n",
       "      root._bokeh_failed_load = true;\n",
       "    }\n",
       "  }\n",
       "\n",
       "  if (root._bokeh_is_loading === 0) {\n",
       "    console.debug(\"Bokeh: BokehJS loaded, going straight to plotting\");\n",
       "    run_inline_js();\n",
       "  } else {\n",
       "    load_libs(css_urls, js_urls, js_modules, function() {\n",
       "      console.debug(\"Bokeh: BokehJS plotting callback run at\", now());\n",
       "      run_inline_js();\n",
       "    });\n",
       "  }\n",
       "}(window));"
      ],
      "application/vnd.holoviews_load.v0+json": "(function(root) {\n  function now() {\n    return new Date();\n  }\n\n  var force = true;\n\n  if (typeof root._bokeh_onload_callbacks === \"undefined\" || force === true) {\n    root._bokeh_onload_callbacks = [];\n    root._bokeh_is_loading = undefined;\n  }\n\n  if (typeof (root._bokeh_timeout) === \"undefined\" || force === true) {\n    root._bokeh_timeout = Date.now() + 5000;\n    root._bokeh_failed_load = false;\n  }\n\n  function run_callbacks() {\n    try {\n      root._bokeh_onload_callbacks.forEach(function(callback) {\n        if (callback != null)\n          callback();\n      });\n    } finally {\n      delete root._bokeh_onload_callbacks\n    }\n    console.debug(\"Bokeh: all callbacks have finished\");\n  }\n\n  function load_libs(css_urls, js_urls, js_modules, callback) {\n    if (css_urls == null) css_urls = [];\n    if (js_urls == null) js_urls = [];\n    if (js_modules == null) js_modules = [];\n\n    root._bokeh_onload_callbacks.push(callback);\n    if (root._bokeh_is_loading > 0) {\n      console.debug(\"Bokeh: BokehJS is being loaded, scheduling callback at\", now());\n      return null;\n    }\n    if (js_urls.length === 0 && js_modules.length === 0) {\n      run_callbacks();\n      return null;\n    }\n    console.debug(\"Bokeh: BokehJS not loaded, scheduling load and callback at\", now());\n\n    function on_load() {\n      root._bokeh_is_loading--;\n      if (root._bokeh_is_loading === 0) {\n        console.debug(\"Bokeh: all BokehJS libraries/stylesheets loaded\");\n        run_callbacks()\n      }\n    }\n\n    function on_error() {\n      console.error(\"failed to load \" + url);\n    }\n\n    for (var i = 0; i < css_urls.length; i++) {\n      var url = css_urls[i];\n      const element = document.createElement(\"link\");\n      element.onload = on_load;\n      element.onerror = on_error;\n      element.rel = \"stylesheet\";\n      element.type = \"text/css\";\n      element.href = url;\n      console.debug(\"Bokeh: injecting link tag for BokehJS stylesheet: \", url);\n      document.body.appendChild(element);\n    }\n\n    var skip = [];\n    if (window.requirejs) {\n      window.requirejs.config({'packages': {}, 'paths': {'vega-embed': 'https://cdn.jsdelivr.net/npm/vega-embed@6/build/vega-embed.min', 'vega-lite': 'https://cdn.jsdelivr.net/npm/vega-lite@5/build/vega-lite.min', 'vega': 'https://cdn.jsdelivr.net/npm/vega@5/build/vega.min', 'ace': '//cdnjs.cloudflare.com/ajax/libs/ace/1.4.7', 'jsoneditor': '//cdn.jsdelivr.net/npm/jsoneditor@9.1.9/dist/jsoneditor.min', 'gridstack': 'https://cdn.jsdelivr.net/npm/gridstack@4.2.5/dist/gridstack-h5', 'notyf': 'https://cdn.jsdelivr.net/npm/notyf@3/notyf.min'}, 'shim': {'ace/ext-language_tools': {'deps': ['ace/ace']}, 'ace/ext-modelist': {'deps': ['ace/ace']}, 'jsoneditor': {'exports': 'JSONEditor'}, 'gridstack': {'exports': 'GridStack'}}});\n      require([\"vega-embed\"], function(vegaEmbed) {\n\twindow.vegaEmbed = vegaEmbed\n\ton_load()\n      })\n      require([\"vega-lite\"], function(vl) {\n\twindow.vl = vl\n\ton_load()\n      })\n      require([\"vega\"], function(vega) {\n\twindow.vega = vega\n\ton_load()\n      })\n      require([\"ace/ace\"], function(ace) {\n\twindow.ace = ace\n\ton_load()\n      })\n      require([\"ace/ext-language_tools\"], function() {\n\ton_load()\n      })\n      require([\"ace/ext-modelist\"], function() {\n\ton_load()\n      })\n      require([\"jsoneditor\"], function(JSONEditor) {\n\twindow.JSONEditor = JSONEditor\n\ton_load()\n      })\n      require([\"gridstack\"], function(GridStack) {\n\twindow.GridStack = GridStack\n\ton_load()\n      })\n      require([\"notyf\"], function() {\n\ton_load()\n      })\n      root._bokeh_is_loading = css_urls.length + 9;\n    } else {\n      root._bokeh_is_loading = css_urls.length + js_urls.length + js_modules.length;\n    }    if (((window['vega'] !== undefined) && (!(window['vega'] instanceof HTMLElement))) || window.requirejs) {\n      var urls = ['https://cdn.jsdelivr.net/npm/vega@5'];\n      for (var i = 0; i < urls.length; i++) {\n        skip.push(urls[i])\n      }\n    }    if (((window['vegaLite'] !== undefined) && (!(window['vegaLite'] instanceof HTMLElement))) || window.requirejs) {\n      var urls = ['https://cdn.jsdelivr.net/npm/vega-lite@5'];\n      for (var i = 0; i < urls.length; i++) {\n        skip.push(urls[i])\n      }\n    }    if (((window['vegaEmbed'] !== undefined) && (!(window['vegaEmbed'] instanceof HTMLElement))) || window.requirejs) {\n      var urls = ['https://cdn.jsdelivr.net/npm/vega-embed@6'];\n      for (var i = 0; i < urls.length; i++) {\n        skip.push(urls[i])\n      }\n    }    if (((window['ace'] !== undefined) && (!(window['ace'] instanceof HTMLElement))) || window.requirejs) {\n      var urls = ['https://cdnjs.cloudflare.com/ajax/libs/ace/1.4.11/ace.js', 'https://cdnjs.cloudflare.com/ajax/libs/ace/1.4.11/ext-language_tools.js', 'https://cdnjs.cloudflare.com/ajax/libs/ace/1.4.11/ext-modelist.js'];\n      for (var i = 0; i < urls.length; i++) {\n        skip.push(urls[i])\n      }\n    }    if (((window['JSONEditor'] !== undefined) && (!(window['JSONEditor'] instanceof HTMLElement))) || window.requirejs) {\n      var urls = ['https://cdn.jsdelivr.net/npm/jsoneditor@9.1.9/dist/jsoneditor.min.js'];\n      for (var i = 0; i < urls.length; i++) {\n        skip.push(urls[i])\n      }\n    }    if (((window['GridStack'] !== undefined) && (!(window['GridStack'] instanceof HTMLElement))) || window.requirejs) {\n      var urls = ['https://cdn.jsdelivr.net/npm/gridstack@4.2.5/dist/gridstack-h5.js'];\n      for (var i = 0; i < urls.length; i++) {\n        skip.push(urls[i])\n      }\n    }    if (((window['Notyf'] !== undefined) && (!(window['Notyf'] instanceof HTMLElement))) || window.requirejs) {\n      var urls = ['https://cdn.jsdelivr.net/npm/notyf@3/notyf.min.js'];\n      for (var i = 0; i < urls.length; i++) {\n        skip.push(urls[i])\n      }\n    }    for (var i = 0; i < js_urls.length; i++) {\n      var url = js_urls[i];\n      if (skip.indexOf(url) >= 0) {\n\tif (!window.requirejs) {\n\t  on_load();\n\t}\n\tcontinue;\n      }\n      var element = document.createElement('script');\n      element.onload = on_load;\n      element.onerror = on_error;\n      element.async = false;\n      element.src = url;\n      console.debug(\"Bokeh: injecting script tag for BokehJS library: \", url);\n      document.head.appendChild(element);\n    }\n    for (var i = 0; i < js_modules.length; i++) {\n      var url = js_modules[i];\n      if (skip.indexOf(url) >= 0) {\n\tif (!window.requirejs) {\n\t  on_load();\n\t}\n\tcontinue;\n      }\n      var element = document.createElement('script');\n      element.onload = on_load;\n      element.onerror = on_error;\n      element.async = false;\n      element.src = url;\n      element.type = \"module\";\n      console.debug(\"Bokeh: injecting script tag for BokehJS library: \", url);\n      document.head.appendChild(element);\n    }\n    if (!js_urls.length && !js_modules.length) {\n      on_load()\n    }\n  };\n\n  function inject_raw_css(css) {\n    const element = document.createElement(\"style\");\n    element.appendChild(document.createTextNode(css));\n    document.body.appendChild(element);\n  }\n\n  var js_urls = [\"https://cdnjs.cloudflare.com/ajax/libs/ace/1.4.11/ace.js\", \"https://cdnjs.cloudflare.com/ajax/libs/ace/1.4.11/ext-language_tools.js\", \"https://cdnjs.cloudflare.com/ajax/libs/ace/1.4.11/ext-modelist.js\", \"https://cdn.jsdelivr.net/npm/jsoneditor@9.1.9/dist/jsoneditor.min.js\", \"https://cdn.jsdelivr.net/npm/vega@5\", \"https://cdn.jsdelivr.net/npm/vega-lite@5\", \"https://cdn.jsdelivr.net/npm/vega-embed@6\", \"https://cdn.bokeh.org/bokeh/release/bokeh-2.4.3.min.js\", \"https://cdn.bokeh.org/bokeh/release/bokeh-gl-2.4.3.min.js\", \"https://cdn.bokeh.org/bokeh/release/bokeh-widgets-2.4.3.min.js\", \"https://cdn.bokeh.org/bokeh/release/bokeh-tables-2.4.3.min.js\", \"https://cdn.bokeh.org/bokeh/release/bokeh-mathjax-2.4.3.min.js\", \"https://cdn.jsdelivr.net/npm/notyf@3/notyf.min.js\", \"https://unpkg.com/@holoviz/panel@0.13.1/dist/panel.min.js\"];\n  var js_modules = [];\n  var css_urls = [\"https://cdn.jsdelivr.net/npm/jsoneditor@9.1.9/dist/jsoneditor.min.css\", \"https://cdn.jsdelivr.net/npm/notyf@3/notyf.min.css\", \"https://cdnjs.cloudflare.com/ajax/libs/font-awesome/5.15.1/css/all.min.css\", \"https://unpkg.com/@holoviz/panel@0.13.1/dist/css/alerts.css\", \"https://unpkg.com/@holoviz/panel@0.13.1/dist/css/card.css\", \"https://unpkg.com/@holoviz/panel@0.13.1/dist/css/dataframe.css\", \"https://unpkg.com/@holoviz/panel@0.13.1/dist/css/debugger.css\", \"https://unpkg.com/@holoviz/panel@0.13.1/dist/css/json.css\", \"https://unpkg.com/@holoviz/panel@0.13.1/dist/css/loading.css\", \"https://unpkg.com/@holoviz/panel@0.13.1/dist/css/markdown.css\", \"https://unpkg.com/@holoviz/panel@0.13.1/dist/css/widgets.css\"];\n  var inline_js = [    function(Bokeh) {\n      inject_raw_css(\"\\n    .bk.pn-loading.arcs:before {\\n      background-image: url(\\\"data:image/svg+xml;base64,PHN2ZyB4bWxucz0iaHR0cDovL3d3dy53My5vcmcvMjAwMC9zdmciIHhtbG5zOnhsaW5rPSJodHRwOi8vd3d3LnczLm9yZy8xOTk5L3hsaW5rIiBzdHlsZT0ibWFyZ2luOiBhdXRvOyBiYWNrZ3JvdW5kOiBub25lOyBkaXNwbGF5OiBibG9jazsgc2hhcGUtcmVuZGVyaW5nOiBhdXRvOyIgdmlld0JveD0iMCAwIDEwMCAxMDAiIHByZXNlcnZlQXNwZWN0UmF0aW89InhNaWRZTWlkIj4gIDxjaXJjbGUgY3g9IjUwIiBjeT0iNTAiIHI9IjMyIiBzdHJva2Utd2lkdGg9IjgiIHN0cm9rZT0iI2MzYzNjMyIgc3Ryb2tlLWRhc2hhcnJheT0iNTAuMjY1NDgyNDU3NDM2NjkgNTAuMjY1NDgyNDU3NDM2NjkiIGZpbGw9Im5vbmUiIHN0cm9rZS1saW5lY2FwPSJyb3VuZCI+ICAgIDxhbmltYXRlVHJhbnNmb3JtIGF0dHJpYnV0ZU5hbWU9InRyYW5zZm9ybSIgdHlwZT0icm90YXRlIiByZXBlYXRDb3VudD0iaW5kZWZpbml0ZSIgZHVyPSIxcyIga2V5VGltZXM9IjA7MSIgdmFsdWVzPSIwIDUwIDUwOzM2MCA1MCA1MCI+PC9hbmltYXRlVHJhbnNmb3JtPiAgPC9jaXJjbGU+PC9zdmc+\\\");\\n      background-size: auto calc(min(50%, 400px));\\n    }\\n    \");\n    },    function(Bokeh) {\n      Bokeh.set_log_level(\"info\");\n    },\nfunction(Bokeh) {} // ensure no trailing comma for IE\n  ];\n\n  function run_inline_js() {\n    if ((root.Bokeh !== undefined) || (force === true)) {\n      for (var i = 0; i < inline_js.length; i++) {\n        inline_js[i].call(root, root.Bokeh);\n      }} else if (Date.now() < root._bokeh_timeout) {\n      setTimeout(run_inline_js, 100);\n    } else if (!root._bokeh_failed_load) {\n      console.log(\"Bokeh: BokehJS failed to load within specified timeout.\");\n      root._bokeh_failed_load = true;\n    }\n  }\n\n  if (root._bokeh_is_loading === 0) {\n    console.debug(\"Bokeh: BokehJS loaded, going straight to plotting\");\n    run_inline_js();\n  } else {\n    load_libs(css_urls, js_urls, js_modules, function() {\n      console.debug(\"Bokeh: BokehJS plotting callback run at\", now());\n      run_inline_js();\n    });\n  }\n}(window));"
     },
     "metadata": {},
     "output_type": "display_data"
    },
    {
     "data": {
      "application/javascript": [
       "\n",
       "if ((window.PyViz === undefined) || (window.PyViz instanceof HTMLElement)) {\n",
       "  window.PyViz = {comms: {}, comm_status:{}, kernels:{}, receivers: {}, plot_index: []}\n",
       "}\n",
       "\n",
       "\n",
       "    function JupyterCommManager() {\n",
       "    }\n",
       "\n",
       "    JupyterCommManager.prototype.register_target = function(plot_id, comm_id, msg_handler) {\n",
       "      if (window.comm_manager || ((window.Jupyter !== undefined) && (Jupyter.notebook.kernel != null))) {\n",
       "        var comm_manager = window.comm_manager || Jupyter.notebook.kernel.comm_manager;\n",
       "        comm_manager.register_target(comm_id, function(comm) {\n",
       "          comm.on_msg(msg_handler);\n",
       "        });\n",
       "      } else if ((plot_id in window.PyViz.kernels) && (window.PyViz.kernels[plot_id])) {\n",
       "        window.PyViz.kernels[plot_id].registerCommTarget(comm_id, function(comm) {\n",
       "          comm.onMsg = msg_handler;\n",
       "        });\n",
       "      } else if (typeof google != 'undefined' && google.colab.kernel != null) {\n",
       "        google.colab.kernel.comms.registerTarget(comm_id, (comm) => {\n",
       "          var messages = comm.messages[Symbol.asyncIterator]();\n",
       "          function processIteratorResult(result) {\n",
       "            var message = result.value;\n",
       "            console.log(message)\n",
       "            var content = {data: message.data, comm_id};\n",
       "            var buffers = []\n",
       "            for (var buffer of message.buffers || []) {\n",
       "              buffers.push(new DataView(buffer))\n",
       "            }\n",
       "            var metadata = message.metadata || {};\n",
       "            var msg = {content, buffers, metadata}\n",
       "            msg_handler(msg);\n",
       "            return messages.next().then(processIteratorResult);\n",
       "          }\n",
       "          return messages.next().then(processIteratorResult);\n",
       "        })\n",
       "      }\n",
       "    }\n",
       "\n",
       "    JupyterCommManager.prototype.get_client_comm = function(plot_id, comm_id, msg_handler) {\n",
       "      if (comm_id in window.PyViz.comms) {\n",
       "        return window.PyViz.comms[comm_id];\n",
       "      } else if (window.comm_manager || ((window.Jupyter !== undefined) && (Jupyter.notebook.kernel != null))) {\n",
       "        var comm_manager = window.comm_manager || Jupyter.notebook.kernel.comm_manager;\n",
       "        var comm = comm_manager.new_comm(comm_id, {}, {}, {}, comm_id);\n",
       "        if (msg_handler) {\n",
       "          comm.on_msg(msg_handler);\n",
       "        }\n",
       "      } else if ((plot_id in window.PyViz.kernels) && (window.PyViz.kernels[plot_id])) {\n",
       "        var comm = window.PyViz.kernels[plot_id].connectToComm(comm_id);\n",
       "        comm.open();\n",
       "        if (msg_handler) {\n",
       "          comm.onMsg = msg_handler;\n",
       "        }\n",
       "      } else if (typeof google != 'undefined' && google.colab.kernel != null) {\n",
       "        var comm_promise = google.colab.kernel.comms.open(comm_id)\n",
       "        comm_promise.then((comm) => {\n",
       "          window.PyViz.comms[comm_id] = comm;\n",
       "          if (msg_handler) {\n",
       "            var messages = comm.messages[Symbol.asyncIterator]();\n",
       "            function processIteratorResult(result) {\n",
       "              var message = result.value;\n",
       "              var content = {data: message.data};\n",
       "              var metadata = message.metadata || {comm_id};\n",
       "              var msg = {content, metadata}\n",
       "              msg_handler(msg);\n",
       "              return messages.next().then(processIteratorResult);\n",
       "            }\n",
       "            return messages.next().then(processIteratorResult);\n",
       "          }\n",
       "        }) \n",
       "        var sendClosure = (data, metadata, buffers, disposeOnDone) => {\n",
       "          return comm_promise.then((comm) => {\n",
       "            comm.send(data, metadata, buffers, disposeOnDone);\n",
       "          });\n",
       "        };\n",
       "        var comm = {\n",
       "          send: sendClosure\n",
       "        };\n",
       "      }\n",
       "      window.PyViz.comms[comm_id] = comm;\n",
       "      return comm;\n",
       "    }\n",
       "    window.PyViz.comm_manager = new JupyterCommManager();\n",
       "    \n",
       "\n",
       "\n",
       "var JS_MIME_TYPE = 'application/javascript';\n",
       "var HTML_MIME_TYPE = 'text/html';\n",
       "var EXEC_MIME_TYPE = 'application/vnd.holoviews_exec.v0+json';\n",
       "var CLASS_NAME = 'output';\n",
       "\n",
       "/**\n",
       " * Render data to the DOM node\n",
       " */\n",
       "function render(props, node) {\n",
       "  var div = document.createElement(\"div\");\n",
       "  var script = document.createElement(\"script\");\n",
       "  node.appendChild(div);\n",
       "  node.appendChild(script);\n",
       "}\n",
       "\n",
       "/**\n",
       " * Handle when a new output is added\n",
       " */\n",
       "function handle_add_output(event, handle) {\n",
       "  var output_area = handle.output_area;\n",
       "  var output = handle.output;\n",
       "  if ((output.data == undefined) || (!output.data.hasOwnProperty(EXEC_MIME_TYPE))) {\n",
       "    return\n",
       "  }\n",
       "  var id = output.metadata[EXEC_MIME_TYPE][\"id\"];\n",
       "  var toinsert = output_area.element.find(\".\" + CLASS_NAME.split(' ')[0]);\n",
       "  if (id !== undefined) {\n",
       "    var nchildren = toinsert.length;\n",
       "    var html_node = toinsert[nchildren-1].children[0];\n",
       "    html_node.innerHTML = output.data[HTML_MIME_TYPE];\n",
       "    var scripts = [];\n",
       "    var nodelist = html_node.querySelectorAll(\"script\");\n",
       "    for (var i in nodelist) {\n",
       "      if (nodelist.hasOwnProperty(i)) {\n",
       "        scripts.push(nodelist[i])\n",
       "      }\n",
       "    }\n",
       "\n",
       "    scripts.forEach( function (oldScript) {\n",
       "      var newScript = document.createElement(\"script\");\n",
       "      var attrs = [];\n",
       "      var nodemap = oldScript.attributes;\n",
       "      for (var j in nodemap) {\n",
       "        if (nodemap.hasOwnProperty(j)) {\n",
       "          attrs.push(nodemap[j])\n",
       "        }\n",
       "      }\n",
       "      attrs.forEach(function(attr) { newScript.setAttribute(attr.name, attr.value) });\n",
       "      newScript.appendChild(document.createTextNode(oldScript.innerHTML));\n",
       "      oldScript.parentNode.replaceChild(newScript, oldScript);\n",
       "    });\n",
       "    if (JS_MIME_TYPE in output.data) {\n",
       "      toinsert[nchildren-1].children[1].textContent = output.data[JS_MIME_TYPE];\n",
       "    }\n",
       "    output_area._hv_plot_id = id;\n",
       "    if ((window.Bokeh !== undefined) && (id in Bokeh.index)) {\n",
       "      window.PyViz.plot_index[id] = Bokeh.index[id];\n",
       "    } else {\n",
       "      window.PyViz.plot_index[id] = null;\n",
       "    }\n",
       "  } else if (output.metadata[EXEC_MIME_TYPE][\"server_id\"] !== undefined) {\n",
       "    var bk_div = document.createElement(\"div\");\n",
       "    bk_div.innerHTML = output.data[HTML_MIME_TYPE];\n",
       "    var script_attrs = bk_div.children[0].attributes;\n",
       "    for (var i = 0; i < script_attrs.length; i++) {\n",
       "      toinsert[toinsert.length - 1].childNodes[1].setAttribute(script_attrs[i].name, script_attrs[i].value);\n",
       "    }\n",
       "    // store reference to server id on output_area\n",
       "    output_area._bokeh_server_id = output.metadata[EXEC_MIME_TYPE][\"server_id\"];\n",
       "  }\n",
       "}\n",
       "\n",
       "/**\n",
       " * Handle when an output is cleared or removed\n",
       " */\n",
       "function handle_clear_output(event, handle) {\n",
       "  var id = handle.cell.output_area._hv_plot_id;\n",
       "  var server_id = handle.cell.output_area._bokeh_server_id;\n",
       "  if (((id === undefined) || !(id in PyViz.plot_index)) && (server_id !== undefined)) { return; }\n",
       "  var comm = window.PyViz.comm_manager.get_client_comm(\"hv-extension-comm\", \"hv-extension-comm\", function () {});\n",
       "  if (server_id !== null) {\n",
       "    comm.send({event_type: 'server_delete', 'id': server_id});\n",
       "    return;\n",
       "  } else if (comm !== null) {\n",
       "    comm.send({event_type: 'delete', 'id': id});\n",
       "  }\n",
       "  delete PyViz.plot_index[id];\n",
       "  if ((window.Bokeh !== undefined) & (id in window.Bokeh.index)) {\n",
       "    var doc = window.Bokeh.index[id].model.document\n",
       "    doc.clear();\n",
       "    const i = window.Bokeh.documents.indexOf(doc);\n",
       "    if (i > -1) {\n",
       "      window.Bokeh.documents.splice(i, 1);\n",
       "    }\n",
       "  }\n",
       "}\n",
       "\n",
       "/**\n",
       " * Handle kernel restart event\n",
       " */\n",
       "function handle_kernel_cleanup(event, handle) {\n",
       "  delete PyViz.comms[\"hv-extension-comm\"];\n",
       "  window.PyViz.plot_index = {}\n",
       "}\n",
       "\n",
       "/**\n",
       " * Handle update_display_data messages\n",
       " */\n",
       "function handle_update_output(event, handle) {\n",
       "  handle_clear_output(event, {cell: {output_area: handle.output_area}})\n",
       "  handle_add_output(event, handle)\n",
       "}\n",
       "\n",
       "function register_renderer(events, OutputArea) {\n",
       "  function append_mime(data, metadata, element) {\n",
       "    // create a DOM node to render to\n",
       "    var toinsert = this.create_output_subarea(\n",
       "    metadata,\n",
       "    CLASS_NAME,\n",
       "    EXEC_MIME_TYPE\n",
       "    );\n",
       "    this.keyboard_manager.register_events(toinsert);\n",
       "    // Render to node\n",
       "    var props = {data: data, metadata: metadata[EXEC_MIME_TYPE]};\n",
       "    render(props, toinsert[0]);\n",
       "    element.append(toinsert);\n",
       "    return toinsert\n",
       "  }\n",
       "\n",
       "  events.on('output_added.OutputArea', handle_add_output);\n",
       "  events.on('output_updated.OutputArea', handle_update_output);\n",
       "  events.on('clear_output.CodeCell', handle_clear_output);\n",
       "  events.on('delete.Cell', handle_clear_output);\n",
       "  events.on('kernel_ready.Kernel', handle_kernel_cleanup);\n",
       "\n",
       "  OutputArea.prototype.register_mime_type(EXEC_MIME_TYPE, append_mime, {\n",
       "    safe: true,\n",
       "    index: 0\n",
       "  });\n",
       "}\n",
       "\n",
       "if (window.Jupyter !== undefined) {\n",
       "  try {\n",
       "    var events = require('base/js/events');\n",
       "    var OutputArea = require('notebook/js/outputarea').OutputArea;\n",
       "    if (OutputArea.prototype.mime_types().indexOf(EXEC_MIME_TYPE) == -1) {\n",
       "      register_renderer(events, OutputArea);\n",
       "    }\n",
       "  } catch(err) {\n",
       "  }\n",
       "}\n"
      ],
      "application/vnd.holoviews_load.v0+json": "\nif ((window.PyViz === undefined) || (window.PyViz instanceof HTMLElement)) {\n  window.PyViz = {comms: {}, comm_status:{}, kernels:{}, receivers: {}, plot_index: []}\n}\n\n\n    function JupyterCommManager() {\n    }\n\n    JupyterCommManager.prototype.register_target = function(plot_id, comm_id, msg_handler) {\n      if (window.comm_manager || ((window.Jupyter !== undefined) && (Jupyter.notebook.kernel != null))) {\n        var comm_manager = window.comm_manager || Jupyter.notebook.kernel.comm_manager;\n        comm_manager.register_target(comm_id, function(comm) {\n          comm.on_msg(msg_handler);\n        });\n      } else if ((plot_id in window.PyViz.kernels) && (window.PyViz.kernels[plot_id])) {\n        window.PyViz.kernels[plot_id].registerCommTarget(comm_id, function(comm) {\n          comm.onMsg = msg_handler;\n        });\n      } else if (typeof google != 'undefined' && google.colab.kernel != null) {\n        google.colab.kernel.comms.registerTarget(comm_id, (comm) => {\n          var messages = comm.messages[Symbol.asyncIterator]();\n          function processIteratorResult(result) {\n            var message = result.value;\n            console.log(message)\n            var content = {data: message.data, comm_id};\n            var buffers = []\n            for (var buffer of message.buffers || []) {\n              buffers.push(new DataView(buffer))\n            }\n            var metadata = message.metadata || {};\n            var msg = {content, buffers, metadata}\n            msg_handler(msg);\n            return messages.next().then(processIteratorResult);\n          }\n          return messages.next().then(processIteratorResult);\n        })\n      }\n    }\n\n    JupyterCommManager.prototype.get_client_comm = function(plot_id, comm_id, msg_handler) {\n      if (comm_id in window.PyViz.comms) {\n        return window.PyViz.comms[comm_id];\n      } else if (window.comm_manager || ((window.Jupyter !== undefined) && (Jupyter.notebook.kernel != null))) {\n        var comm_manager = window.comm_manager || Jupyter.notebook.kernel.comm_manager;\n        var comm = comm_manager.new_comm(comm_id, {}, {}, {}, comm_id);\n        if (msg_handler) {\n          comm.on_msg(msg_handler);\n        }\n      } else if ((plot_id in window.PyViz.kernels) && (window.PyViz.kernels[plot_id])) {\n        var comm = window.PyViz.kernels[plot_id].connectToComm(comm_id);\n        comm.open();\n        if (msg_handler) {\n          comm.onMsg = msg_handler;\n        }\n      } else if (typeof google != 'undefined' && google.colab.kernel != null) {\n        var comm_promise = google.colab.kernel.comms.open(comm_id)\n        comm_promise.then((comm) => {\n          window.PyViz.comms[comm_id] = comm;\n          if (msg_handler) {\n            var messages = comm.messages[Symbol.asyncIterator]();\n            function processIteratorResult(result) {\n              var message = result.value;\n              var content = {data: message.data};\n              var metadata = message.metadata || {comm_id};\n              var msg = {content, metadata}\n              msg_handler(msg);\n              return messages.next().then(processIteratorResult);\n            }\n            return messages.next().then(processIteratorResult);\n          }\n        }) \n        var sendClosure = (data, metadata, buffers, disposeOnDone) => {\n          return comm_promise.then((comm) => {\n            comm.send(data, metadata, buffers, disposeOnDone);\n          });\n        };\n        var comm = {\n          send: sendClosure\n        };\n      }\n      window.PyViz.comms[comm_id] = comm;\n      return comm;\n    }\n    window.PyViz.comm_manager = new JupyterCommManager();\n    \n\n\nvar JS_MIME_TYPE = 'application/javascript';\nvar HTML_MIME_TYPE = 'text/html';\nvar EXEC_MIME_TYPE = 'application/vnd.holoviews_exec.v0+json';\nvar CLASS_NAME = 'output';\n\n/**\n * Render data to the DOM node\n */\nfunction render(props, node) {\n  var div = document.createElement(\"div\");\n  var script = document.createElement(\"script\");\n  node.appendChild(div);\n  node.appendChild(script);\n}\n\n/**\n * Handle when a new output is added\n */\nfunction handle_add_output(event, handle) {\n  var output_area = handle.output_area;\n  var output = handle.output;\n  if ((output.data == undefined) || (!output.data.hasOwnProperty(EXEC_MIME_TYPE))) {\n    return\n  }\n  var id = output.metadata[EXEC_MIME_TYPE][\"id\"];\n  var toinsert = output_area.element.find(\".\" + CLASS_NAME.split(' ')[0]);\n  if (id !== undefined) {\n    var nchildren = toinsert.length;\n    var html_node = toinsert[nchildren-1].children[0];\n    html_node.innerHTML = output.data[HTML_MIME_TYPE];\n    var scripts = [];\n    var nodelist = html_node.querySelectorAll(\"script\");\n    for (var i in nodelist) {\n      if (nodelist.hasOwnProperty(i)) {\n        scripts.push(nodelist[i])\n      }\n    }\n\n    scripts.forEach( function (oldScript) {\n      var newScript = document.createElement(\"script\");\n      var attrs = [];\n      var nodemap = oldScript.attributes;\n      for (var j in nodemap) {\n        if (nodemap.hasOwnProperty(j)) {\n          attrs.push(nodemap[j])\n        }\n      }\n      attrs.forEach(function(attr) { newScript.setAttribute(attr.name, attr.value) });\n      newScript.appendChild(document.createTextNode(oldScript.innerHTML));\n      oldScript.parentNode.replaceChild(newScript, oldScript);\n    });\n    if (JS_MIME_TYPE in output.data) {\n      toinsert[nchildren-1].children[1].textContent = output.data[JS_MIME_TYPE];\n    }\n    output_area._hv_plot_id = id;\n    if ((window.Bokeh !== undefined) && (id in Bokeh.index)) {\n      window.PyViz.plot_index[id] = Bokeh.index[id];\n    } else {\n      window.PyViz.plot_index[id] = null;\n    }\n  } else if (output.metadata[EXEC_MIME_TYPE][\"server_id\"] !== undefined) {\n    var bk_div = document.createElement(\"div\");\n    bk_div.innerHTML = output.data[HTML_MIME_TYPE];\n    var script_attrs = bk_div.children[0].attributes;\n    for (var i = 0; i < script_attrs.length; i++) {\n      toinsert[toinsert.length - 1].childNodes[1].setAttribute(script_attrs[i].name, script_attrs[i].value);\n    }\n    // store reference to server id on output_area\n    output_area._bokeh_server_id = output.metadata[EXEC_MIME_TYPE][\"server_id\"];\n  }\n}\n\n/**\n * Handle when an output is cleared or removed\n */\nfunction handle_clear_output(event, handle) {\n  var id = handle.cell.output_area._hv_plot_id;\n  var server_id = handle.cell.output_area._bokeh_server_id;\n  if (((id === undefined) || !(id in PyViz.plot_index)) && (server_id !== undefined)) { return; }\n  var comm = window.PyViz.comm_manager.get_client_comm(\"hv-extension-comm\", \"hv-extension-comm\", function () {});\n  if (server_id !== null) {\n    comm.send({event_type: 'server_delete', 'id': server_id});\n    return;\n  } else if (comm !== null) {\n    comm.send({event_type: 'delete', 'id': id});\n  }\n  delete PyViz.plot_index[id];\n  if ((window.Bokeh !== undefined) & (id in window.Bokeh.index)) {\n    var doc = window.Bokeh.index[id].model.document\n    doc.clear();\n    const i = window.Bokeh.documents.indexOf(doc);\n    if (i > -1) {\n      window.Bokeh.documents.splice(i, 1);\n    }\n  }\n}\n\n/**\n * Handle kernel restart event\n */\nfunction handle_kernel_cleanup(event, handle) {\n  delete PyViz.comms[\"hv-extension-comm\"];\n  window.PyViz.plot_index = {}\n}\n\n/**\n * Handle update_display_data messages\n */\nfunction handle_update_output(event, handle) {\n  handle_clear_output(event, {cell: {output_area: handle.output_area}})\n  handle_add_output(event, handle)\n}\n\nfunction register_renderer(events, OutputArea) {\n  function append_mime(data, metadata, element) {\n    // create a DOM node to render to\n    var toinsert = this.create_output_subarea(\n    metadata,\n    CLASS_NAME,\n    EXEC_MIME_TYPE\n    );\n    this.keyboard_manager.register_events(toinsert);\n    // Render to node\n    var props = {data: data, metadata: metadata[EXEC_MIME_TYPE]};\n    render(props, toinsert[0]);\n    element.append(toinsert);\n    return toinsert\n  }\n\n  events.on('output_added.OutputArea', handle_add_output);\n  events.on('output_updated.OutputArea', handle_update_output);\n  events.on('clear_output.CodeCell', handle_clear_output);\n  events.on('delete.Cell', handle_clear_output);\n  events.on('kernel_ready.Kernel', handle_kernel_cleanup);\n\n  OutputArea.prototype.register_mime_type(EXEC_MIME_TYPE, append_mime, {\n    safe: true,\n    index: 0\n  });\n}\n\nif (window.Jupyter !== undefined) {\n  try {\n    var events = require('base/js/events');\n    var OutputArea = require('notebook/js/outputarea').OutputArea;\n    if (OutputArea.prototype.mime_types().indexOf(EXEC_MIME_TYPE) == -1) {\n      register_renderer(events, OutputArea);\n    }\n  } catch(err) {\n  }\n}\n"
     },
     "metadata": {},
     "output_type": "display_data"
    },
    {
     "data": {
      "text/html": [
       "<style>.bk-root, .bk-root .bk:before, .bk-root .bk:after {\n",
       "  font-family: var(--jp-ui-font-size1);\n",
       "  font-size: var(--jp-ui-font-size1);\n",
       "  color: var(--jp-ui-font-color1);\n",
       "}\n",
       "</style>"
      ]
     },
     "metadata": {},
     "output_type": "display_data"
    }
   ],
   "source": [
    "import io\n",
    "import os\n",
    "import panel as pn\n",
    "import numpy as np\n",
    "import pandas as pd\n",
    "\n",
    "pn.extension('vega', 'ace', 'jsoneditor', 'ipywidgets', sizing_mode='stretch_width')"
   ]
  },
  {
   "cell_type": "markdown",
   "id": "e6702065",
   "metadata": {},
   "source": [
    "### Option 1\n",
    "\n",
    "This option has the folder opener in the sidebar (left) area.\n"
   ]
  },
  {
   "cell_type": "code",
   "execution_count": 2,
   "id": "6ad601ae",
   "metadata": {},
   "outputs": [
    {
     "data": {},
     "metadata": {},
     "output_type": "display_data"
    },
    {
     "data": {
      "application/vnd.holoviews_exec.v0+json": "",
      "text/html": [
       "<div id='1002'>\n",
       "  <div class=\"bk-root\" id=\"dfc89aa1-4ca8-45b3-ad1c-35e31c3743a3\" data-root-id=\"1002\"></div>\n",
       "</div>\n",
       "<script type=\"application/javascript\">(function(root) {\n",
       "  function embed_document(root) {\n",
       "    var docs_json = {\"08a130df-5994-415c-90a1-57db6f380659\":{\"defs\":[{\"extends\":null,\"module\":null,\"name\":\"ReactiveHTML1\",\"overrides\":[],\"properties\":[]},{\"extends\":null,\"module\":null,\"name\":\"FlexBox1\",\"overrides\":[],\"properties\":[{\"default\":\"flex-start\",\"kind\":null,\"name\":\"align_content\"},{\"default\":\"flex-start\",\"kind\":null,\"name\":\"align_items\"},{\"default\":\"row\",\"kind\":null,\"name\":\"flex_direction\"},{\"default\":\"wrap\",\"kind\":null,\"name\":\"flex_wrap\"},{\"default\":\"flex-start\",\"kind\":null,\"name\":\"justify_content\"}]},{\"extends\":null,\"module\":null,\"name\":\"GridStack1\",\"overrides\":[],\"properties\":[{\"default\":\"warn\",\"kind\":null,\"name\":\"mode\"},{\"default\":null,\"kind\":null,\"name\":\"ncols\"},{\"default\":null,\"kind\":null,\"name\":\"nrows\"},{\"default\":true,\"kind\":null,\"name\":\"allow_resize\"},{\"default\":true,\"kind\":null,\"name\":\"allow_drag\"},{\"default\":[],\"kind\":null,\"name\":\"state\"}]},{\"extends\":null,\"module\":null,\"name\":\"click1\",\"overrides\":[],\"properties\":[{\"default\":\"\",\"kind\":null,\"name\":\"terminal_output\"},{\"default\":\"\",\"kind\":null,\"name\":\"debug_name\"},{\"default\":0,\"kind\":null,\"name\":\"clears\"}]},{\"extends\":null,\"module\":null,\"name\":\"NotificationAreaBase1\",\"overrides\":[],\"properties\":[{\"default\":\"bottom-right\",\"kind\":null,\"name\":\"position\"},{\"default\":0,\"kind\":null,\"name\":\"_clear\"}]},{\"extends\":null,\"module\":null,\"name\":\"NotificationArea1\",\"overrides\":[],\"properties\":[{\"default\":[],\"kind\":null,\"name\":\"notifications\"},{\"default\":\"bottom-right\",\"kind\":null,\"name\":\"position\"},{\"default\":0,\"kind\":null,\"name\":\"_clear\"},{\"default\":[{\"background\":\"#ffc107\",\"icon\":{\"className\":\"fas fa-exclamation-triangle\",\"color\":\"white\",\"tagName\":\"i\"},\"type\":\"warning\"},{\"background\":\"#007bff\",\"icon\":{\"className\":\"fas fa-info-circle\",\"color\":\"white\",\"tagName\":\"i\"},\"type\":\"info\"}],\"kind\":null,\"name\":\"types\"}]},{\"extends\":null,\"module\":null,\"name\":\"Notification\",\"overrides\":[],\"properties\":[{\"default\":null,\"kind\":null,\"name\":\"background\"},{\"default\":3000,\"kind\":null,\"name\":\"duration\"},{\"default\":null,\"kind\":null,\"name\":\"icon\"},{\"default\":\"\",\"kind\":null,\"name\":\"message\"},{\"default\":null,\"kind\":null,\"name\":\"notification_type\"},{\"default\":false,\"kind\":null,\"name\":\"_destroyed\"}]},{\"extends\":null,\"module\":null,\"name\":\"TemplateActions1\",\"overrides\":[],\"properties\":[{\"default\":0,\"kind\":null,\"name\":\"open_modal\"},{\"default\":0,\"kind\":null,\"name\":\"close_modal\"}]},{\"extends\":null,\"module\":null,\"name\":\"MaterialTemplateActions1\",\"overrides\":[],\"properties\":[{\"default\":0,\"kind\":null,\"name\":\"open_modal\"},{\"default\":0,\"kind\":null,\"name\":\"close_modal\"}]}],\"roots\":{\"references\":[{\"attributes\":{\"reload\":false},\"id\":\"1004\",\"type\":\"panel.models.location.Location\"},{\"attributes\":{\"client_comm_id\":\"99402cb9957a487caefd6d6a632ec80e\",\"comm_id\":\"daad6807be5c414b81c3644b351d63a9\",\"plot_id\":\"1002\"},\"id\":\"1003\",\"type\":\"panel.models.comm_manager.CommManager\"},{\"attributes\":{\"labels\":[\"Ignore Warnings\",\"Ignore NIfTI Headers\",\"Skip Subject Filename Consistency Check\"],\"margin\":[5,10,5,10],\"sizing_mode\":\"stretch_width\"},\"id\":\"1002\",\"type\":\"CheckboxGroup\"}],\"root_ids\":[\"1002\",\"1003\",\"1004\"]},\"title\":\"Bokeh Application\",\"version\":\"2.4.3\"}};\n",
       "    var render_items = [{\"docid\":\"08a130df-5994-415c-90a1-57db6f380659\",\"root_ids\":[\"1002\"],\"roots\":{\"1002\":\"dfc89aa1-4ca8-45b3-ad1c-35e31c3743a3\"}}];\n",
       "    root.Bokeh.embed.embed_items_notebook(docs_json, render_items);\n",
       "  }\n",
       "  if (root.Bokeh !== undefined && root.Bokeh.Panel !== undefined && ( root['vega'] !== undefined)) {\n",
       "    embed_document(root);\n",
       "  } else {\n",
       "    var attempts = 0;\n",
       "    var timer = setInterval(function(root) {\n",
       "      if (root.Bokeh !== undefined && root.Bokeh.Panel !== undefined && (root['vega'] !== undefined)) {\n",
       "        clearInterval(timer);\n",
       "        embed_document(root);\n",
       "      } else if (document.readyState == \"complete\") {\n",
       "        attempts++;\n",
       "        if (attempts > 200) {\n",
       "          clearInterval(timer);\n",
       "          console.log(\"Bokeh: ERROR: Unable to run BokehJS code because BokehJS library is missing\");\n",
       "        }\n",
       "      }\n",
       "    }, 25, root)\n",
       "  }\n",
       "})(window);</script>"
      ],
      "text/plain": [
       "CheckBoxGroup(name='File option', options=['Ignore Warnings', ...], sizing_mode='stretch_width')"
      ]
     },
     "execution_count": 2,
     "metadata": {
      "application/vnd.holoviews_exec.v0+json": {
       "id": "1002"
      }
     },
     "output_type": "execute_result"
    }
   ],
   "source": [
    "checkbox = pn.widgets.CheckBoxGroup(\n",
    "    name='File option', options=['Ignore Warnings',\n",
    "                               'Ignore NIfTI Headers',\n",
    "                               'Skip Subject Filename Consistency Check'],\n",
    "    inline=False\n",
    ")\n",
    "\n",
    "checkbox"
   ]
  },
  {
   "cell_type": "code",
   "execution_count": 3,
   "id": "f98e0ca1",
   "metadata": {},
   "outputs": [
    {
     "data": {},
     "metadata": {},
     "output_type": "display_data"
    },
    {
     "data": {
      "application/vnd.holoviews_exec.v0+json": "",
      "text/html": [
       "<div id='1005'>\n",
       "  <div class=\"bk-root\" id=\"37caa1a7-4867-4c72-929e-acb10d5a9a97\" data-root-id=\"1005\"></div>\n",
       "</div>\n",
       "<script type=\"application/javascript\">(function(root) {\n",
       "  function embed_document(root) {\n",
       "    var docs_json = {\"a54f5feb-6b6a-47b6-b1fd-4cd1dfec1cf4\":{\"defs\":[{\"extends\":null,\"module\":null,\"name\":\"ReactiveHTML1\",\"overrides\":[],\"properties\":[]},{\"extends\":null,\"module\":null,\"name\":\"FlexBox1\",\"overrides\":[],\"properties\":[{\"default\":\"flex-start\",\"kind\":null,\"name\":\"align_content\"},{\"default\":\"flex-start\",\"kind\":null,\"name\":\"align_items\"},{\"default\":\"row\",\"kind\":null,\"name\":\"flex_direction\"},{\"default\":\"wrap\",\"kind\":null,\"name\":\"flex_wrap\"},{\"default\":\"flex-start\",\"kind\":null,\"name\":\"justify_content\"}]},{\"extends\":null,\"module\":null,\"name\":\"GridStack1\",\"overrides\":[],\"properties\":[{\"default\":\"warn\",\"kind\":null,\"name\":\"mode\"},{\"default\":null,\"kind\":null,\"name\":\"ncols\"},{\"default\":null,\"kind\":null,\"name\":\"nrows\"},{\"default\":true,\"kind\":null,\"name\":\"allow_resize\"},{\"default\":true,\"kind\":null,\"name\":\"allow_drag\"},{\"default\":[],\"kind\":null,\"name\":\"state\"}]},{\"extends\":null,\"module\":null,\"name\":\"click1\",\"overrides\":[],\"properties\":[{\"default\":\"\",\"kind\":null,\"name\":\"terminal_output\"},{\"default\":\"\",\"kind\":null,\"name\":\"debug_name\"},{\"default\":0,\"kind\":null,\"name\":\"clears\"}]},{\"extends\":null,\"module\":null,\"name\":\"NotificationAreaBase1\",\"overrides\":[],\"properties\":[{\"default\":\"bottom-right\",\"kind\":null,\"name\":\"position\"},{\"default\":0,\"kind\":null,\"name\":\"_clear\"}]},{\"extends\":null,\"module\":null,\"name\":\"NotificationArea1\",\"overrides\":[],\"properties\":[{\"default\":[],\"kind\":null,\"name\":\"notifications\"},{\"default\":\"bottom-right\",\"kind\":null,\"name\":\"position\"},{\"default\":0,\"kind\":null,\"name\":\"_clear\"},{\"default\":[{\"background\":\"#ffc107\",\"icon\":{\"className\":\"fas fa-exclamation-triangle\",\"color\":\"white\",\"tagName\":\"i\"},\"type\":\"warning\"},{\"background\":\"#007bff\",\"icon\":{\"className\":\"fas fa-info-circle\",\"color\":\"white\",\"tagName\":\"i\"},\"type\":\"info\"}],\"kind\":null,\"name\":\"types\"}]},{\"extends\":null,\"module\":null,\"name\":\"Notification\",\"overrides\":[],\"properties\":[{\"default\":null,\"kind\":null,\"name\":\"background\"},{\"default\":3000,\"kind\":null,\"name\":\"duration\"},{\"default\":null,\"kind\":null,\"name\":\"icon\"},{\"default\":\"\",\"kind\":null,\"name\":\"message\"},{\"default\":null,\"kind\":null,\"name\":\"notification_type\"},{\"default\":false,\"kind\":null,\"name\":\"_destroyed\"}]},{\"extends\":null,\"module\":null,\"name\":\"TemplateActions1\",\"overrides\":[],\"properties\":[{\"default\":0,\"kind\":null,\"name\":\"open_modal\"},{\"default\":0,\"kind\":null,\"name\":\"close_modal\"}]},{\"extends\":null,\"module\":null,\"name\":\"MaterialTemplateActions1\",\"overrides\":[],\"properties\":[{\"default\":0,\"kind\":null,\"name\":\"open_modal\"},{\"default\":0,\"kind\":null,\"name\":\"close_modal\"}]}],\"roots\":{\"references\":[{\"attributes\":{\"css_classes\":[\"markdown\"],\"margin\":[0,0,0,0],\"name\":\"Markdown00130\",\"sizing_mode\":\"stretch_width\",\"text\":\"&lt;h3&gt;Selected files&lt;/h3&gt;\"},\"id\":\"1028\",\"type\":\"panel.models.markup.HTML\"},{\"attributes\":{\"children\":[{\"id\":\"1022\"},{\"id\":\"1023\"},{\"id\":\"1026\"}],\"margin\":[0,0,0,0],\"name\":\"Column00121\",\"sizing_mode\":\"stretch_width\"},\"id\":\"1021\",\"type\":\"Column\"},{\"attributes\":{\"children\":[{\"id\":\"1018\"},{\"id\":\"1019\"},{\"id\":\"1020\"}],\"margin\":[0,0,0,0],\"name\":\"Column00116\",\"sizing_mode\":\"stretch_both\"},\"id\":\"1017\",\"type\":\"Column\"},{\"attributes\":{\"children\":[{\"id\":\"1024\"},{\"id\":\"1025\"}],\"margin\":[0,5,0,5],\"name\":\"Column00118\",\"sizing_mode\":\"stretch_width\"},\"id\":\"1023\",\"type\":\"Column\"},{\"attributes\":{\"margin\":[5,10,5,10],\"max_length\":5000,\"sizing_mode\":\"stretch_width\",\"value\":\"C:\\\\Users\\\\dinar\\\\Desktop\\\\gsoc\\\\app_templates\",\"width_policy\":\"max\"},\"id\":\"1012\",\"type\":\"TextInput\"},{\"attributes\":{\"icon\":null,\"label\":\"<<\",\"margin\":[5,10,5,10],\"sizing_mode\":\"stretch_width\",\"subscribed_events\":[\"button_click\"],\"width\":50},\"id\":\"1025\",\"type\":\"Button\"},{\"attributes\":{\"disabled\":true,\"icon\":null,\"label\":\"\\u25b6\",\"margin\":[5,10,5,10],\"sizing_mode\":\"stretch_width\",\"subscribed_events\":[\"button_click\"],\"width\":25},\"id\":\"1010\",\"type\":\"Button\"},{\"attributes\":{\"icon\":null,\"label\":\">>\",\"margin\":[5,10,5,10],\"sizing_mode\":\"stretch_width\",\"subscribed_events\":[\"button_click\"],\"width\":50},\"id\":\"1024\",\"type\":\"Button\"},{\"attributes\":{\"labels\":[\"Ignore Warnings\",\"Ignore NIfTI Headers\",\"Skip Subject Filename Consistency Check\"],\"margin\":[5,10,5,10],\"sizing_mode\":\"stretch_width\"},\"id\":\"1032\",\"type\":\"CheckboxGroup\"},{\"attributes\":{\"margin\":[0,0,10,0],\"max_length\":5000,\"placeholder\":\"Filter selected options\",\"sizing_mode\":\"stretch_width\",\"width_policy\":\"max\"},\"id\":\"1029\",\"type\":\"TextInput\"},{\"attributes\":{\"disabled\":true,\"icon\":null,\"label\":\"\\u2b06\",\"margin\":[5,10,5,10],\"sizing_mode\":\"stretch_width\",\"subscribed_events\":[\"button_click\"],\"width\":25},\"id\":\"1011\",\"type\":\"Button\"},{\"attributes\":{\"children\":[{\"id\":\"1006\"},{\"id\":\"1007\"},{\"id\":\"1031\"},{\"id\":\"1032\"}],\"margin\":[0,0,0,0],\"name\":\"Column00139\",\"sizing_mode\":\"stretch_width\",\"width\":400},\"id\":\"1005\",\"type\":\"Column\"},{\"attributes\":{\"css_classes\":[\"markdown\"],\"margin\":[5,5,5,5],\"name\":\"Markdown00135\",\"sizing_mode\":\"stretch_width\",\"text\":\"&lt;h3&gt;Select folder location&lt;/h3&gt;\\n&lt;p&gt;We support .mat|.txt|.dcm|.eeg|.py|.img|.zip file extensions. This function will not upload any \\nfolders to the app. Instead, it will automatically select and show the files that pass the accepted file extension\\nthreshold. There is no file size limit.    &lt;/p&gt;\"},\"id\":\"1006\",\"type\":\"panel.models.markup.HTML\"},{\"attributes\":{\"margin\":[0,0,10,0],\"max_length\":5000,\"placeholder\":\"Filter available options\",\"sizing_mode\":\"stretch_width\",\"width_policy\":\"max\"},\"id\":\"1019\",\"type\":\"TextInput\"},{\"attributes\":{\"disabled\":true,\"icon\":null,\"label\":\"\\u2b07\",\"margin\":[5,10,0,0],\"sizing_mode\":\"stretch_width\",\"subscribed_events\":[\"button_click\"],\"width\":25},\"id\":\"1013\",\"type\":\"Button\"},{\"attributes\":{\"client_comm_id\":\"76f13740388a40adab501b73ae38eea0\",\"comm_id\":\"2f0a8f73dd2b4966912e0e52d5710910\",\"plot_id\":\"1005\"},\"id\":\"1033\",\"type\":\"panel.models.comm_manager.CommManager\"},{\"attributes\":{\"icon\":null,\"label\":\"\\u21bb\",\"margin\":[5,15,0,10],\"sizing_mode\":\"stretch_width\",\"subscribed_events\":[\"button_click\"],\"width\":25},\"id\":\"1014\",\"type\":\"Button\"},{\"attributes\":{\"margin\":[5,5,5,5],\"name\":\"VSpacer00120\",\"sizing_mode\":\"stretch_height\"},\"id\":\"1026\",\"type\":\"Spacer\"},{\"attributes\":{\"margin\":[5,5,5,5],\"name\":\"VSpacer00119\",\"sizing_mode\":\"stretch_height\"},\"id\":\"1022\",\"type\":\"Spacer\"},{\"attributes\":{\"children\":[{\"id\":\"1028\"},{\"id\":\"1029\"},{\"id\":\"1030\"}],\"margin\":[0,0,0,0],\"name\":\"Column00117\",\"sizing_mode\":\"stretch_both\"},\"id\":\"1027\",\"type\":\"Column\"},{\"attributes\":{\"css_classes\":[\"markdown\"],\"margin\":[10,0,0,0],\"name\":\"Markdown00137\",\"sizing_mode\":\"stretch_width\",\"text\":\"&lt;p&gt;&lt;strong&gt;Select options&lt;/strong&gt;:&lt;/p&gt;\"},\"id\":\"1031\",\"type\":\"panel.models.markup.HTML\"},{\"attributes\":{\"children\":[{\"id\":\"1017\"},{\"id\":\"1021\"},{\"id\":\"1027\"}],\"margin\":[0,0,0,0],\"name\":\"Row00108\",\"sizing_mode\":\"stretch_both\",\"width\":600},\"id\":\"1016\",\"type\":\"Row\"},{\"attributes\":{\"children\":[{\"id\":\"1009\"},{\"id\":\"1010\"},{\"id\":\"1011\"},{\"id\":\"1012\"},{\"id\":\"1013\"},{\"id\":\"1014\"}],\"margin\":[0,0,0,0],\"name\":\"Row00128\",\"sizing_mode\":\"stretch_width\",\"width_policy\":\"max\"},\"id\":\"1008\",\"type\":\"Row\"},{\"attributes\":{\"css_classes\":[\"markdown\"],\"margin\":[0,0,0,0],\"name\":\"Markdown00132\",\"sizing_mode\":\"stretch_width\",\"text\":\"&lt;h3&gt;File Browser&lt;/h3&gt;\"},\"id\":\"1018\",\"type\":\"panel.models.markup.HTML\"},{\"attributes\":{\"disabled\":true,\"icon\":null,\"label\":\"\\u25c0\",\"margin\":[5,10,0,0],\"sizing_mode\":\"stretch_width\",\"subscribed_events\":[\"button_click\"],\"width\":25},\"id\":\"1009\",\"type\":\"Button\"},{\"attributes\":{\"margin\":[0,0,0,0],\"options\":[\"hosted_app.ipynb\",\"incf_app.ipynb\",\"local_app.ipynb\"],\"size\":10,\"sizing_mode\":\"stretch_both\"},\"id\":\"1020\",\"type\":\"MultiSelect\"},{\"attributes\":{\"children\":[{\"id\":\"1008\"},{\"id\":\"1015\"},{\"id\":\"1016\"}],\"margin\":[5,10,20,10],\"name\":\"Column00106\",\"sizing_mode\":\"stretch_width\"},\"id\":\"1007\",\"type\":\"Column\"},{\"attributes\":{\"disabled\":true,\"margin\":[0,0,0,0],\"max_length\":5000,\"placeholder\":\"To select an item highlight it on the left and use the arrow button to move it to the right.\",\"sizing_mode\":\"stretch_both\"},\"id\":\"1030\",\"type\":\"TextAreaInput\"},{\"attributes\":{\"margin\":[0,0,0,0],\"name\":\"Divider00129\",\"sizing_mode\":\"stretch_width\",\"style\":{\"height\":\"100%\",\"width\":\"100%\"},\"text\":\"<hr style=\\\"margin: 0px\\\">\",\"width_policy\":\"fit\"},\"id\":\"1015\",\"type\":\"Div\"}],\"root_ids\":[\"1005\",\"1033\"]},\"title\":\"Bokeh Application\",\"version\":\"2.4.3\"}};\n",
       "    var render_items = [{\"docid\":\"a54f5feb-6b6a-47b6-b1fd-4cd1dfec1cf4\",\"root_ids\":[\"1005\"],\"roots\":{\"1005\":\"37caa1a7-4867-4c72-929e-acb10d5a9a97\"}}];\n",
       "    root.Bokeh.embed.embed_items_notebook(docs_json, render_items);\n",
       "  }\n",
       "  if (root.Bokeh !== undefined && root.Bokeh.Panel !== undefined && ( root['vega'] !== undefined)) {\n",
       "    embed_document(root);\n",
       "  } else {\n",
       "    var attempts = 0;\n",
       "    var timer = setInterval(function(root) {\n",
       "      if (root.Bokeh !== undefined && root.Bokeh.Panel !== undefined && (root['vega'] !== undefined)) {\n",
       "        clearInterval(timer);\n",
       "        embed_document(root);\n",
       "      } else if (document.readyState == \"complete\") {\n",
       "        attempts++;\n",
       "        if (attempts > 200) {\n",
       "          clearInterval(timer);\n",
       "          console.log(\"Bokeh: ERROR: Unable to run BokehJS code because BokehJS library is missing\");\n",
       "        }\n",
       "      }\n",
       "    }, 25, root)\n",
       "  }\n",
       "})(window);</script>"
      ],
      "text/plain": [
       "Column(sizing_mode='stretch_width', width=400)\n",
       "    [0] Markdown(str, sizing_mode='stretch_width')\n",
       "    [1] FileSelector(sizing_mode='stretch_width')\n",
       "    [2] Markdown(str, margin=(10, 0, 0, 0), sizing_mode='stretch_width')\n",
       "    [3] CheckBoxGroup(name='File option', options=['Ignore Warnings', ...], sizing_mode='stretch_width')"
      ]
     },
     "execution_count": 3,
     "metadata": {
      "application/vnd.holoviews_exec.v0+json": {
       "id": "1005"
      }
     },
     "output_type": "execute_result"
    }
   ],
   "source": [
    "# get current path\n",
    "path = os.getcwd()\n",
    "change_path = pn.widgets.FileSelector(path)\n",
    "\n",
    "# path specification\n",
    "path_selector = pn.Column(\n",
    "    pn.pane.Markdown(\"\"\"\n",
    "    ### Select folder location\n",
    "    We support .mat|.txt|.dcm|.eeg|.py|.img|.zip file extensions. This function will not upload any \n",
    "    folders to the app. Instead, it will automatically select and show the files that pass the accepted file extension\n",
    "    threshold. There is no file size limit.    \n",
    "    \"\"\"),\n",
    "    change_path,\n",
    "    pn.pane.Markdown(\"\"\"\n",
    "    **Select options**:\n",
    "    \"\"\", margin=(10,0,0,0)),\n",
    "    checkbox,\n",
    "    width=400\n",
    ")\n",
    "\n",
    "path_selector"
   ]
  },
  {
   "cell_type": "code",
   "execution_count": 4,
   "id": "77ecee6d",
   "metadata": {},
   "outputs": [
    {
     "data": {},
     "metadata": {},
     "output_type": "display_data"
    },
    {
     "data": {
      "application/vnd.holoviews_exec.v0+json": "",
      "text/html": [
       "<div id='1034'>\n",
       "  <div class=\"bk-root\" id=\"1a37ae95-bb7f-4428-b572-6eb3447e7c68\" data-root-id=\"1034\"></div>\n",
       "</div>\n",
       "<script type=\"application/javascript\">(function(root) {\n",
       "  function embed_document(root) {\n",
       "    var docs_json = {\"d8759bab-647a-4b89-a9a3-114f733ccc83\":{\"defs\":[{\"extends\":null,\"module\":null,\"name\":\"ReactiveHTML1\",\"overrides\":[],\"properties\":[]},{\"extends\":null,\"module\":null,\"name\":\"FlexBox1\",\"overrides\":[],\"properties\":[{\"default\":\"flex-start\",\"kind\":null,\"name\":\"align_content\"},{\"default\":\"flex-start\",\"kind\":null,\"name\":\"align_items\"},{\"default\":\"row\",\"kind\":null,\"name\":\"flex_direction\"},{\"default\":\"wrap\",\"kind\":null,\"name\":\"flex_wrap\"},{\"default\":\"flex-start\",\"kind\":null,\"name\":\"justify_content\"}]},{\"extends\":null,\"module\":null,\"name\":\"GridStack1\",\"overrides\":[],\"properties\":[{\"default\":\"warn\",\"kind\":null,\"name\":\"mode\"},{\"default\":null,\"kind\":null,\"name\":\"ncols\"},{\"default\":null,\"kind\":null,\"name\":\"nrows\"},{\"default\":true,\"kind\":null,\"name\":\"allow_resize\"},{\"default\":true,\"kind\":null,\"name\":\"allow_drag\"},{\"default\":[],\"kind\":null,\"name\":\"state\"}]},{\"extends\":null,\"module\":null,\"name\":\"click1\",\"overrides\":[],\"properties\":[{\"default\":\"\",\"kind\":null,\"name\":\"terminal_output\"},{\"default\":\"\",\"kind\":null,\"name\":\"debug_name\"},{\"default\":0,\"kind\":null,\"name\":\"clears\"}]},{\"extends\":null,\"module\":null,\"name\":\"NotificationAreaBase1\",\"overrides\":[],\"properties\":[{\"default\":\"bottom-right\",\"kind\":null,\"name\":\"position\"},{\"default\":0,\"kind\":null,\"name\":\"_clear\"}]},{\"extends\":null,\"module\":null,\"name\":\"NotificationArea1\",\"overrides\":[],\"properties\":[{\"default\":[],\"kind\":null,\"name\":\"notifications\"},{\"default\":\"bottom-right\",\"kind\":null,\"name\":\"position\"},{\"default\":0,\"kind\":null,\"name\":\"_clear\"},{\"default\":[{\"background\":\"#ffc107\",\"icon\":{\"className\":\"fas fa-exclamation-triangle\",\"color\":\"white\",\"tagName\":\"i\"},\"type\":\"warning\"},{\"background\":\"#007bff\",\"icon\":{\"className\":\"fas fa-info-circle\",\"color\":\"white\",\"tagName\":\"i\"},\"type\":\"info\"}],\"kind\":null,\"name\":\"types\"}]},{\"extends\":null,\"module\":null,\"name\":\"Notification\",\"overrides\":[],\"properties\":[{\"default\":null,\"kind\":null,\"name\":\"background\"},{\"default\":3000,\"kind\":null,\"name\":\"duration\"},{\"default\":null,\"kind\":null,\"name\":\"icon\"},{\"default\":\"\",\"kind\":null,\"name\":\"message\"},{\"default\":null,\"kind\":null,\"name\":\"notification_type\"},{\"default\":false,\"kind\":null,\"name\":\"_destroyed\"}]},{\"extends\":null,\"module\":null,\"name\":\"TemplateActions1\",\"overrides\":[],\"properties\":[{\"default\":0,\"kind\":null,\"name\":\"open_modal\"},{\"default\":0,\"kind\":null,\"name\":\"close_modal\"}]},{\"extends\":null,\"module\":null,\"name\":\"MaterialTemplateActions1\",\"overrides\":[],\"properties\":[{\"default\":0,\"kind\":null,\"name\":\"open_modal\"},{\"default\":0,\"kind\":null,\"name\":\"close_modal\"}]}],\"roots\":{\"references\":[{\"attributes\":{\"css_classes\":[\"markdown\"],\"margin\":[10,0,0,0],\"name\":\"Markdown00137\",\"sizing_mode\":\"stretch_width\",\"text\":\"&lt;p&gt;&lt;strong&gt;Select options&lt;/strong&gt;:&lt;/p&gt;\"},\"id\":\"1148\",\"type\":\"panel.models.markup.HTML\"},{\"attributes\":{\"disabled\":true,\"icon\":null,\"label\":\"\\u2b07\",\"margin\":[5,10,0,0],\"sizing_mode\":\"stretch_width\",\"subscribed_events\":[\"button_click\"],\"width\":25},\"id\":\"1043\",\"type\":\"Button\"},{\"attributes\":{\"icon\":null,\"label\":\"\\u21bb\",\"margin\":[5,15,0,10],\"sizing_mode\":\"stretch_width\",\"subscribed_events\":[\"button_click\"],\"width\":25},\"id\":\"1073\",\"type\":\"Button\"},{\"attributes\":{\"icon\":null,\"label\":\">>\",\"margin\":[5,10,5,10],\"sizing_mode\":\"stretch_width\",\"subscribed_events\":[\"button_click\"],\"width\":50},\"id\":\"1083\",\"type\":\"Button\"},{\"attributes\":{\"margin\":[0,0,0,0],\"name\":\"Divider00129\",\"sizing_mode\":\"stretch_width\",\"style\":{\"height\":\"100%\",\"width\":\"100%\"},\"text\":\"<hr style=\\\"margin: 0px\\\">\",\"width_policy\":\"fit\"},\"id\":\"1132\",\"type\":\"Div\"},{\"attributes\":{\"css_classes\":[\"markdown\"],\"margin\":[5,5,5,5],\"name\":\"Markdown00135\",\"sizing_mode\":\"stretch_width\",\"text\":\"&lt;h3&gt;Select folder location&lt;/h3&gt;\\n&lt;p&gt;We support .mat|.txt|.dcm|.eeg|.py|.img|.zip file extensions. This function will not upload any \\nfolders to the app. Instead, it will automatically select and show the files that pass the accepted file extension\\nthreshold. There is no file size limit.    &lt;/p&gt;\"},\"id\":\"1123\",\"type\":\"panel.models.markup.HTML\"},{\"attributes\":{\"children\":[{\"id\":\"1077\"},{\"id\":\"1078\"},{\"id\":\"1079\"}],\"margin\":[0,0,0,0],\"name\":\"Column00116\",\"sizing_mode\":\"stretch_both\"},\"id\":\"1076\",\"type\":\"Column\"},{\"attributes\":{\"margin\":[0,0,10,0],\"max_length\":5000,\"placeholder\":\"Filter available options\",\"sizing_mode\":\"stretch_width\",\"width_policy\":\"max\"},\"id\":\"1107\",\"type\":\"TextInput\"},{\"attributes\":{\"disabled\":true,\"icon\":null,\"label\":\"\\u25c0\",\"margin\":[5,10,0,0],\"sizing_mode\":\"stretch_width\",\"subscribed_events\":[\"button_click\"],\"width\":25},\"id\":\"1126\",\"type\":\"Button\"},{\"attributes\":{\"disabled\":true,\"icon\":null,\"label\":\"\\u25b6\",\"margin\":[5,10,5,10],\"sizing_mode\":\"stretch_width\",\"subscribed_events\":[\"button_click\"],\"width\":25},\"id\":\"1069\",\"type\":\"Button\"},{\"attributes\":{\"icon\":null,\"label\":\"<<\",\"margin\":[5,10,5,10],\"sizing_mode\":\"stretch_width\",\"subscribed_events\":[\"button_click\"],\"width\":50},\"id\":\"1084\",\"type\":\"Button\"},{\"attributes\":{\"margin\":[5,5,5,5],\"name\":\"VSpacer00120\",\"sizing_mode\":\"stretch_height\"},\"id\":\"1114\",\"type\":\"Spacer\"},{\"attributes\":{\"css_classes\":[\"markdown\"],\"margin\":[10,0,0,0],\"name\":\"Markdown00137\",\"sizing_mode\":\"stretch_width\",\"text\":\"&lt;p&gt;&lt;strong&gt;Select options&lt;/strong&gt;:&lt;/p&gt;\"},\"id\":\"1119\",\"type\":\"panel.models.markup.HTML\"},{\"attributes\":{\"children\":[{\"id\":\"1126\"},{\"id\":\"1127\"},{\"id\":\"1128\"},{\"id\":\"1129\"},{\"id\":\"1130\"},{\"id\":\"1131\"}],\"margin\":[0,0,0,0],\"name\":\"Row00128\",\"sizing_mode\":\"stretch_width\",\"width_policy\":\"max\"},\"id\":\"1125\",\"type\":\"Row\"},{\"attributes\":{\"disabled\":true,\"icon\":null,\"label\":\"\\u2b07\",\"margin\":[5,10,0,0],\"sizing_mode\":\"stretch_width\",\"subscribed_events\":[\"button_click\"],\"width\":25},\"id\":\"1101\",\"type\":\"Button\"},{\"attributes\":{\"css_classes\":[\"markdown\"],\"margin\":[0,0,0,0],\"name\":\"Markdown00132\",\"sizing_mode\":\"stretch_width\",\"text\":\"&lt;h3&gt;File Browser&lt;/h3&gt;\"},\"id\":\"1048\",\"type\":\"panel.models.markup.HTML\"},{\"attributes\":{\"disabled\":true,\"icon\":null,\"label\":\"\\u2b07\",\"margin\":[5,10,0,0],\"sizing_mode\":\"stretch_width\",\"subscribed_events\":[\"button_click\"],\"width\":25},\"id\":\"1130\",\"type\":\"Button\"},{\"attributes\":{\"children\":[{\"id\":\"1067\"},{\"id\":\"1074\"},{\"id\":\"1075\"}],\"margin\":[5,10,20,10],\"name\":\"Column00106\",\"sizing_mode\":\"stretch_width\"},\"id\":\"1066\",\"type\":\"Column\"},{\"attributes\":{\"disabled\":true,\"icon\":null,\"label\":\"\\u25b6\",\"margin\":[5,10,5,10],\"sizing_mode\":\"stretch_width\",\"subscribed_events\":[\"button_click\"],\"width\":25},\"id\":\"1127\",\"type\":\"Button\"},{\"attributes\":{\"margin\":[5,5,5,5],\"name\":\"VSpacer00119\",\"sizing_mode\":\"stretch_height\"},\"id\":\"1052\",\"type\":\"Spacer\"},{\"attributes\":{\"margin\":[5,10,5,10],\"max_length\":5000,\"sizing_mode\":\"stretch_width\",\"value\":\"C:\\\\Users\\\\dinar\\\\Desktop\\\\gsoc\\\\app_templates\",\"width_policy\":\"max\"},\"id\":\"1100\",\"type\":\"TextInput\"},{\"attributes\":{\"margin\":[5,10,5,10],\"max_length\":5000,\"sizing_mode\":\"stretch_width\",\"value\":\"C:\\\\Users\\\\dinar\\\\Desktop\\\\gsoc\\\\app_templates\",\"width_policy\":\"max\"},\"id\":\"1129\",\"type\":\"TextInput\"},{\"attributes\":{\"disabled\":true,\"icon\":null,\"label\":\"\\u2b06\",\"margin\":[5,10,5,10],\"sizing_mode\":\"stretch_width\",\"subscribed_events\":[\"button_click\"],\"width\":25},\"id\":\"1128\",\"type\":\"Button\"},{\"attributes\":{\"children\":[{\"id\":\"1097\"},{\"id\":\"1098\"},{\"id\":\"1099\"},{\"id\":\"1100\"},{\"id\":\"1101\"},{\"id\":\"1102\"}],\"margin\":[0,0,0,0],\"name\":\"Row00128\",\"sizing_mode\":\"stretch_width\",\"width_policy\":\"max\"},\"id\":\"1096\",\"type\":\"Row\"},{\"attributes\":{\"children\":[{\"id\":\"1139\"},{\"id\":\"1140\"},{\"id\":\"1143\"}],\"margin\":[0,0,0,0],\"name\":\"Column00121\",\"sizing_mode\":\"stretch_width\"},\"id\":\"1138\",\"type\":\"Column\"},{\"attributes\":{\"css_classes\":[\"markdown\"],\"margin\":[5,5,5,5],\"name\":\"Markdown00135\",\"sizing_mode\":\"stretch_width\",\"text\":\"&lt;h3&gt;Select folder location&lt;/h3&gt;\\n&lt;p&gt;We support .mat|.txt|.dcm|.eeg|.py|.img|.zip file extensions. This function will not upload any \\nfolders to the app. Instead, it will automatically select and show the files that pass the accepted file extension\\nthreshold. There is no file size limit.    &lt;/p&gt;\"},\"id\":\"1036\",\"type\":\"panel.models.markup.HTML\"},{\"attributes\":{\"margin\":[0,0,0,0],\"options\":[\"hosted_app.ipynb\",\"incf_app.ipynb\",\"local_app.ipynb\"],\"size\":10,\"sizing_mode\":\"stretch_both\"},\"id\":\"1050\",\"type\":\"MultiSelect\"},{\"attributes\":{\"margin\":[5,5,5,5],\"name\":\"VSpacer00119\",\"sizing_mode\":\"stretch_height\"},\"id\":\"1110\",\"type\":\"Spacer\"},{\"attributes\":{\"children\":[{\"id\":\"1094\"},{\"id\":\"1095\"},{\"id\":\"1119\"},{\"id\":\"1120\"}],\"margin\":[0,0,0,0],\"name\":\"Column00139\",\"sizing_mode\":\"stretch_width\",\"width\":400},\"id\":\"1093\",\"type\":\"Column\"},{\"attributes\":{\"children\":[{\"id\":\"1125\"},{\"id\":\"1132\"},{\"id\":\"1133\"}],\"margin\":[5,10,20,10],\"name\":\"Column00106\",\"sizing_mode\":\"stretch_width\"},\"id\":\"1124\",\"type\":\"Column\"},{\"attributes\":{\"children\":[{\"id\":\"1106\"},{\"id\":\"1107\"},{\"id\":\"1108\"}],\"margin\":[0,0,0,0],\"name\":\"Column00116\",\"sizing_mode\":\"stretch_both\"},\"id\":\"1105\",\"type\":\"Column\"},{\"attributes\":{\"icon\":null,\"label\":\"\\u21bb\",\"margin\":[5,15,0,10],\"sizing_mode\":\"stretch_width\",\"subscribed_events\":[\"button_click\"],\"width\":25},\"id\":\"1131\",\"type\":\"Button\"},{\"attributes\":{\"icon\":null,\"label\":\"\\u21bb\",\"margin\":[5,15,0,10],\"sizing_mode\":\"stretch_width\",\"subscribed_events\":[\"button_click\"],\"width\":25},\"id\":\"1044\",\"type\":\"Button\"},{\"attributes\":{\"disabled\":true,\"icon\":null,\"label\":\"\\u2b06\",\"margin\":[5,10,5,10],\"sizing_mode\":\"stretch_width\",\"subscribed_events\":[\"button_click\"],\"width\":25},\"id\":\"1099\",\"type\":\"Button\"},{\"attributes\":{\"children\":[{\"id\":\"1038\"},{\"id\":\"1045\"},{\"id\":\"1046\"}],\"margin\":[5,10,20,10],\"name\":\"Column00106\",\"sizing_mode\":\"stretch_width\"},\"id\":\"1037\",\"type\":\"Column\"},{\"attributes\":{\"disabled\":true,\"icon\":null,\"label\":\"\\u25c0\",\"margin\":[5,10,0,0],\"sizing_mode\":\"stretch_width\",\"subscribed_events\":[\"button_click\"],\"width\":25},\"id\":\"1039\",\"type\":\"Button\"},{\"attributes\":{\"disabled\":true,\"margin\":[0,0,0,0],\"max_length\":5000,\"placeholder\":\"To select an item highlight it on the left and use the arrow button to move it to the right.\",\"sizing_mode\":\"stretch_both\"},\"id\":\"1118\",\"type\":\"TextAreaInput\"},{\"attributes\":{\"labels\":[\"Ignore Warnings\",\"Ignore NIfTI Headers\",\"Skip Subject Filename Consistency Check\"],\"margin\":[5,10,5,10],\"sizing_mode\":\"stretch_width\"},\"id\":\"1091\",\"type\":\"CheckboxGroup\"},{\"attributes\":{\"margin\":[0,0,10,0],\"max_length\":5000,\"placeholder\":\"Filter selected options\",\"sizing_mode\":\"stretch_width\",\"width_policy\":\"max\"},\"id\":\"1117\",\"type\":\"TextInput\"},{\"attributes\":{\"icon\":null,\"label\":\"\\u21bb\",\"margin\":[5,15,0,10],\"sizing_mode\":\"stretch_width\",\"subscribed_events\":[\"button_click\"],\"width\":25},\"id\":\"1102\",\"type\":\"Button\"},{\"attributes\":{\"children\":[{\"id\":\"1054\"},{\"id\":\"1055\"}],\"margin\":[0,5,0,5],\"name\":\"Column00118\",\"sizing_mode\":\"stretch_width\"},\"id\":\"1053\",\"type\":\"Column\"},{\"attributes\":{\"children\":[{\"id\":\"1123\"},{\"id\":\"1124\"},{\"id\":\"1148\"},{\"id\":\"1149\"}],\"margin\":[0,0,0,0],\"name\":\"Column00139\",\"sizing_mode\":\"stretch_width\",\"width\":400},\"id\":\"1122\",\"type\":\"Column\"},{\"attributes\":{\"css_classes\":[\"markdown\"],\"margin\":[0,0,0,0],\"name\":\"Markdown00130\",\"sizing_mode\":\"stretch_width\",\"text\":\"&lt;h3&gt;Selected files&lt;/h3&gt;\"},\"id\":\"1087\",\"type\":\"panel.models.markup.HTML\"},{\"attributes\":{\"margin\":[0,0,10,0],\"max_length\":5000,\"placeholder\":\"Filter available options\",\"sizing_mode\":\"stretch_width\",\"width_policy\":\"max\"},\"id\":\"1049\",\"type\":\"TextInput\"},{\"attributes\":{\"children\":[{\"id\":\"1039\"},{\"id\":\"1040\"},{\"id\":\"1041\"},{\"id\":\"1042\"},{\"id\":\"1043\"},{\"id\":\"1044\"}],\"margin\":[0,0,0,0],\"name\":\"Row00128\",\"sizing_mode\":\"stretch_width\",\"width_policy\":\"max\"},\"id\":\"1038\",\"type\":\"Row\"},{\"attributes\":{\"icon\":null,\"label\":\">>\",\"margin\":[5,10,5,10],\"sizing_mode\":\"stretch_width\",\"subscribed_events\":[\"button_click\"],\"width\":50},\"id\":\"1054\",\"type\":\"Button\"},{\"attributes\":{\"labels\":[\"Ignore Warnings\",\"Ignore NIfTI Headers\",\"Skip Subject Filename Consistency Check\"],\"margin\":[5,10,5,10],\"sizing_mode\":\"stretch_width\"},\"id\":\"1062\",\"type\":\"CheckboxGroup\"},{\"attributes\":{\"margin\":[0,0,0,0],\"name\":\"Divider00129\",\"sizing_mode\":\"stretch_width\",\"style\":{\"height\":\"100%\",\"width\":\"100%\"},\"text\":\"<hr style=\\\"margin: 0px\\\">\",\"width_policy\":\"fit\"},\"id\":\"1074\",\"type\":\"Div\"},{\"attributes\":{\"labels\":[\"Ignore Warnings\",\"Ignore NIfTI Headers\",\"Skip Subject Filename Consistency Check\"],\"margin\":[5,10,5,10],\"sizing_mode\":\"stretch_width\"},\"id\":\"1120\",\"type\":\"CheckboxGroup\"},{\"attributes\":{\"children\":[{\"id\":\"1058\"},{\"id\":\"1059\"},{\"id\":\"1060\"}],\"margin\":[0,0,0,0],\"name\":\"Column00117\",\"sizing_mode\":\"stretch_both\"},\"id\":\"1057\",\"type\":\"Column\"},{\"attributes\":{\"icon\":null,\"label\":\"<<\",\"margin\":[5,10,5,10],\"sizing_mode\":\"stretch_width\",\"subscribed_events\":[\"button_click\"],\"width\":50},\"id\":\"1055\",\"type\":\"Button\"},{\"attributes\":{\"css_classes\":[\"markdown\"],\"margin\":[0,0,0,0],\"name\":\"Markdown00132\",\"sizing_mode\":\"stretch_width\",\"text\":\"&lt;h3&gt;File Browser&lt;/h3&gt;\"},\"id\":\"1135\",\"type\":\"panel.models.markup.HTML\"},{\"attributes\":{\"children\":[{\"id\":\"1076\"},{\"id\":\"1080\"},{\"id\":\"1086\"}],\"margin\":[0,0,0,0],\"name\":\"Row00108\",\"sizing_mode\":\"stretch_both\",\"width\":600},\"id\":\"1075\",\"type\":\"Row\"},{\"attributes\":{\"child\":{\"id\":\"1093\"},\"name\":\"Column00139\",\"title\":\"Settings\"},\"id\":\"1121\",\"type\":\"Panel\"},{\"attributes\":{\"children\":[{\"id\":\"1116\"},{\"id\":\"1117\"},{\"id\":\"1118\"}],\"margin\":[0,0,0,0],\"name\":\"Column00117\",\"sizing_mode\":\"stretch_both\"},\"id\":\"1115\",\"type\":\"Column\"},{\"attributes\":{\"css_classes\":[\"markdown\"],\"margin\":[0,0,0,0],\"name\":\"Markdown00130\",\"sizing_mode\":\"stretch_width\",\"text\":\"&lt;h3&gt;Selected files&lt;/h3&gt;\"},\"id\":\"1058\",\"type\":\"panel.models.markup.HTML\"},{\"attributes\":{\"margin\":[5,10,5,10],\"max_length\":5000,\"sizing_mode\":\"stretch_width\",\"value\":\"C:\\\\Users\\\\dinar\\\\Desktop\\\\gsoc\\\\app_templates\",\"width_policy\":\"max\"},\"id\":\"1042\",\"type\":\"TextInput\"},{\"attributes\":{\"margin\":[5,5,5,5],\"name\":\"VSpacer00119\",\"sizing_mode\":\"stretch_height\"},\"id\":\"1139\",\"type\":\"Spacer\"},{\"attributes\":{\"disabled\":true,\"icon\":null,\"label\":\"\\u25c0\",\"margin\":[5,10,0,0],\"sizing_mode\":\"stretch_width\",\"subscribed_events\":[\"button_click\"],\"width\":25},\"id\":\"1097\",\"type\":\"Button\"},{\"attributes\":{\"disabled\":true,\"icon\":null,\"label\":\"\\u25b6\",\"margin\":[5,10,5,10],\"sizing_mode\":\"stretch_width\",\"subscribed_events\":[\"button_click\"],\"width\":25},\"id\":\"1040\",\"type\":\"Button\"},{\"attributes\":{\"disabled\":true,\"margin\":[0,0,0,0],\"max_length\":5000,\"placeholder\":\"To select an item highlight it on the left and use the arrow button to move it to the right.\",\"sizing_mode\":\"stretch_both\"},\"id\":\"1060\",\"type\":\"TextAreaInput\"},{\"attributes\":{\"margin\":[0,0,0,0],\"options\":[\"hosted_app.ipynb\",\"incf_app.ipynb\",\"local_app.ipynb\"],\"size\":10,\"sizing_mode\":\"stretch_both\"},\"id\":\"1137\",\"type\":\"MultiSelect\"},{\"attributes\":{\"disabled\":true,\"icon\":null,\"label\":\"\\u2b06\",\"margin\":[5,10,5,10],\"sizing_mode\":\"stretch_width\",\"subscribed_events\":[\"button_click\"],\"width\":25},\"id\":\"1041\",\"type\":\"Button\"},{\"attributes\":{\"css_classes\":[\"markdown\"],\"margin\":[10,0,0,0],\"name\":\"Markdown00137\",\"sizing_mode\":\"stretch_width\",\"text\":\"&lt;p&gt;&lt;strong&gt;Select options&lt;/strong&gt;:&lt;/p&gt;\"},\"id\":\"1061\",\"type\":\"panel.models.markup.HTML\"},{\"attributes\":{\"margin\":[20,20,20,20],\"sizing_mode\":\"stretch_width\",\"tabs\":[{\"id\":\"1063\"},{\"id\":\"1092\"},{\"id\":\"1121\"},{\"id\":\"1150\"}]},\"id\":\"1034\",\"type\":\"panel.models.tabs.Tabs\"},{\"attributes\":{\"disabled\":true,\"icon\":null,\"label\":\"\\u2b06\",\"margin\":[5,10,5,10],\"sizing_mode\":\"stretch_width\",\"subscribed_events\":[\"button_click\"],\"width\":25},\"id\":\"1070\",\"type\":\"Button\"},{\"attributes\":{\"margin\":[0,0,0,0],\"options\":[\"hosted_app.ipynb\",\"incf_app.ipynb\",\"local_app.ipynb\"],\"size\":10,\"sizing_mode\":\"stretch_both\"},\"id\":\"1079\",\"type\":\"MultiSelect\"},{\"attributes\":{\"children\":[{\"id\":\"1141\"},{\"id\":\"1142\"}],\"margin\":[0,5,0,5],\"name\":\"Column00118\",\"sizing_mode\":\"stretch_width\"},\"id\":\"1140\",\"type\":\"Column\"},{\"attributes\":{\"children\":[{\"id\":\"1081\"},{\"id\":\"1082\"},{\"id\":\"1085\"}],\"margin\":[0,0,0,0],\"name\":\"Column00121\",\"sizing_mode\":\"stretch_width\"},\"id\":\"1080\",\"type\":\"Column\"},{\"attributes\":{\"margin\":[5,5,5,5],\"name\":\"VSpacer00119\",\"sizing_mode\":\"stretch_height\"},\"id\":\"1081\",\"type\":\"Spacer\"},{\"attributes\":{\"icon\":null,\"label\":\"<<\",\"margin\":[5,10,5,10],\"sizing_mode\":\"stretch_width\",\"subscribed_events\":[\"button_click\"],\"width\":50},\"id\":\"1142\",\"type\":\"Button\"},{\"attributes\":{\"children\":[{\"id\":\"1112\"},{\"id\":\"1113\"}],\"margin\":[0,5,0,5],\"name\":\"Column00118\",\"sizing_mode\":\"stretch_width\"},\"id\":\"1111\",\"type\":\"Column\"},{\"attributes\":{\"icon\":null,\"label\":\">>\",\"margin\":[5,10,5,10],\"sizing_mode\":\"stretch_width\",\"subscribed_events\":[\"button_click\"],\"width\":50},\"id\":\"1141\",\"type\":\"Button\"},{\"attributes\":{\"margin\":[0,0,10,0],\"max_length\":5000,\"placeholder\":\"Filter selected options\",\"sizing_mode\":\"stretch_width\",\"width_policy\":\"max\"},\"id\":\"1146\",\"type\":\"TextInput\"},{\"attributes\":{\"client_comm_id\":\"14da862e9932402891b175a9587f349a\",\"comm_id\":\"680b137d01d941469210e8c73e053c46\",\"plot_id\":\"1034\"},\"id\":\"1151\",\"type\":\"panel.models.comm_manager.CommManager\"},{\"attributes\":{\"disabled\":true,\"margin\":[0,0,0,0],\"max_length\":5000,\"placeholder\":\"To select an item highlight it on the left and use the arrow button to move it to the right.\",\"sizing_mode\":\"stretch_both\"},\"id\":\"1147\",\"type\":\"TextAreaInput\"},{\"attributes\":{\"children\":[{\"id\":\"1036\"},{\"id\":\"1037\"},{\"id\":\"1061\"},{\"id\":\"1062\"}],\"margin\":[0,0,0,0],\"name\":\"Column00139\",\"sizing_mode\":\"stretch_width\",\"width\":400},\"id\":\"1035\",\"type\":\"Column\"},{\"attributes\":{\"labels\":[\"Ignore Warnings\",\"Ignore NIfTI Headers\",\"Skip Subject Filename Consistency Check\"],\"margin\":[5,10,5,10],\"sizing_mode\":\"stretch_width\"},\"id\":\"1149\",\"type\":\"CheckboxGroup\"},{\"attributes\":{\"disabled\":true,\"icon\":null,\"label\":\"\\u25c0\",\"margin\":[5,10,0,0],\"sizing_mode\":\"stretch_width\",\"subscribed_events\":[\"button_click\"],\"width\":25},\"id\":\"1068\",\"type\":\"Button\"},{\"attributes\":{\"css_classes\":[\"markdown\"],\"margin\":[0,0,0,0],\"name\":\"Markdown00130\",\"sizing_mode\":\"stretch_width\",\"text\":\"&lt;h3&gt;Selected files&lt;/h3&gt;\"},\"id\":\"1145\",\"type\":\"panel.models.markup.HTML\"},{\"attributes\":{\"child\":{\"id\":\"1035\"},\"name\":\"Column00139\",\"title\":\"Settings\"},\"id\":\"1063\",\"type\":\"Panel\"},{\"attributes\":{\"children\":[{\"id\":\"1096\"},{\"id\":\"1103\"},{\"id\":\"1104\"}],\"margin\":[5,10,20,10],\"name\":\"Column00106\",\"sizing_mode\":\"stretch_width\"},\"id\":\"1095\",\"type\":\"Column\"},{\"attributes\":{\"icon\":null,\"label\":\"<<\",\"margin\":[5,10,5,10],\"sizing_mode\":\"stretch_width\",\"subscribed_events\":[\"button_click\"],\"width\":50},\"id\":\"1113\",\"type\":\"Button\"},{\"attributes\":{\"css_classes\":[\"markdown\"],\"margin\":[0,0,0,0],\"name\":\"Markdown00132\",\"sizing_mode\":\"stretch_width\",\"text\":\"&lt;h3&gt;File Browser&lt;/h3&gt;\"},\"id\":\"1077\",\"type\":\"panel.models.markup.HTML\"},{\"attributes\":{\"children\":[{\"id\":\"1047\"},{\"id\":\"1051\"},{\"id\":\"1057\"}],\"margin\":[0,0,0,0],\"name\":\"Row00108\",\"sizing_mode\":\"stretch_both\",\"width\":600},\"id\":\"1046\",\"type\":\"Row\"},{\"attributes\":{\"children\":[{\"id\":\"1135\"},{\"id\":\"1136\"},{\"id\":\"1137\"}],\"margin\":[0,0,0,0],\"name\":\"Column00116\",\"sizing_mode\":\"stretch_both\"},\"id\":\"1134\",\"type\":\"Column\"},{\"attributes\":{\"child\":{\"id\":\"1064\"},\"name\":\"Column00139\",\"title\":\"Settings\"},\"id\":\"1092\",\"type\":\"Panel\"},{\"attributes\":{\"margin\":[5,5,5,5],\"name\":\"VSpacer00120\",\"sizing_mode\":\"stretch_height\"},\"id\":\"1143\",\"type\":\"Spacer\"},{\"attributes\":{\"css_classes\":[\"markdown\"],\"margin\":[5,5,5,5],\"name\":\"Markdown00135\",\"sizing_mode\":\"stretch_width\",\"text\":\"&lt;h3&gt;Select folder location&lt;/h3&gt;\\n&lt;p&gt;We support .mat|.txt|.dcm|.eeg|.py|.img|.zip file extensions. This function will not upload any \\nfolders to the app. Instead, it will automatically select and show the files that pass the accepted file extension\\nthreshold. There is no file size limit.    &lt;/p&gt;\"},\"id\":\"1065\",\"type\":\"panel.models.markup.HTML\"},{\"attributes\":{\"css_classes\":[\"markdown\"],\"margin\":[0,0,0,0],\"name\":\"Markdown00132\",\"sizing_mode\":\"stretch_width\",\"text\":\"&lt;h3&gt;File Browser&lt;/h3&gt;\"},\"id\":\"1106\",\"type\":\"panel.models.markup.HTML\"},{\"attributes\":{\"children\":[{\"id\":\"1134\"},{\"id\":\"1138\"},{\"id\":\"1144\"}],\"margin\":[0,0,0,0],\"name\":\"Row00108\",\"sizing_mode\":\"stretch_both\",\"width\":600},\"id\":\"1133\",\"type\":\"Row\"},{\"attributes\":{\"css_classes\":[\"markdown\"],\"margin\":[5,5,5,5],\"name\":\"Markdown00135\",\"sizing_mode\":\"stretch_width\",\"text\":\"&lt;h3&gt;Select folder location&lt;/h3&gt;\\n&lt;p&gt;We support .mat|.txt|.dcm|.eeg|.py|.img|.zip file extensions. This function will not upload any \\nfolders to the app. Instead, it will automatically select and show the files that pass the accepted file extension\\nthreshold. There is no file size limit.    &lt;/p&gt;\"},\"id\":\"1094\",\"type\":\"panel.models.markup.HTML\"},{\"attributes\":{\"children\":[{\"id\":\"1145\"},{\"id\":\"1146\"},{\"id\":\"1147\"}],\"margin\":[0,0,0,0],\"name\":\"Column00117\",\"sizing_mode\":\"stretch_both\"},\"id\":\"1144\",\"type\":\"Column\"},{\"attributes\":{\"children\":[{\"id\":\"1105\"},{\"id\":\"1109\"},{\"id\":\"1115\"}],\"margin\":[0,0,0,0],\"name\":\"Row00108\",\"sizing_mode\":\"stretch_both\",\"width\":600},\"id\":\"1104\",\"type\":\"Row\"},{\"attributes\":{\"margin\":[5,5,5,5],\"name\":\"VSpacer00120\",\"sizing_mode\":\"stretch_height\"},\"id\":\"1056\",\"type\":\"Spacer\"},{\"attributes\":{\"css_classes\":[\"markdown\"],\"margin\":[10,0,0,0],\"name\":\"Markdown00137\",\"sizing_mode\":\"stretch_width\",\"text\":\"&lt;p&gt;&lt;strong&gt;Select options&lt;/strong&gt;:&lt;/p&gt;\"},\"id\":\"1090\",\"type\":\"panel.models.markup.HTML\"},{\"attributes\":{\"children\":[{\"id\":\"1052\"},{\"id\":\"1053\"},{\"id\":\"1056\"}],\"margin\":[0,0,0,0],\"name\":\"Column00121\",\"sizing_mode\":\"stretch_width\"},\"id\":\"1051\",\"type\":\"Column\"},{\"attributes\":{\"children\":[{\"id\":\"1048\"},{\"id\":\"1049\"},{\"id\":\"1050\"}],\"margin\":[0,0,0,0],\"name\":\"Column00116\",\"sizing_mode\":\"stretch_both\"},\"id\":\"1047\",\"type\":\"Column\"},{\"attributes\":{\"child\":{\"id\":\"1122\"},\"name\":\"Column00139\",\"title\":\"Settings\"},\"id\":\"1150\",\"type\":\"Panel\"},{\"attributes\":{\"margin\":[5,5,5,5],\"name\":\"VSpacer00120\",\"sizing_mode\":\"stretch_height\"},\"id\":\"1085\",\"type\":\"Spacer\"},{\"attributes\":{\"children\":[{\"id\":\"1087\"},{\"id\":\"1088\"},{\"id\":\"1089\"}],\"margin\":[0,0,0,0],\"name\":\"Column00117\",\"sizing_mode\":\"stretch_both\"},\"id\":\"1086\",\"type\":\"Column\"},{\"attributes\":{\"margin\":[0,0,10,0],\"max_length\":5000,\"placeholder\":\"Filter available options\",\"sizing_mode\":\"stretch_width\",\"width_policy\":\"max\"},\"id\":\"1136\",\"type\":\"TextInput\"},{\"attributes\":{\"css_classes\":[\"markdown\"],\"margin\":[0,0,0,0],\"name\":\"Markdown00130\",\"sizing_mode\":\"stretch_width\",\"text\":\"&lt;h3&gt;Selected files&lt;/h3&gt;\"},\"id\":\"1116\",\"type\":\"panel.models.markup.HTML\"},{\"attributes\":{\"disabled\":true,\"icon\":null,\"label\":\"\\u25b6\",\"margin\":[5,10,5,10],\"sizing_mode\":\"stretch_width\",\"subscribed_events\":[\"button_click\"],\"width\":25},\"id\":\"1098\",\"type\":\"Button\"},{\"attributes\":{\"margin\":[0,0,10,0],\"max_length\":5000,\"placeholder\":\"Filter available options\",\"sizing_mode\":\"stretch_width\",\"width_policy\":\"max\"},\"id\":\"1078\",\"type\":\"TextInput\"},{\"attributes\":{\"children\":[{\"id\":\"1083\"},{\"id\":\"1084\"}],\"margin\":[0,5,0,5],\"name\":\"Column00118\",\"sizing_mode\":\"stretch_width\"},\"id\":\"1082\",\"type\":\"Column\"},{\"attributes\":{\"margin\":[0,0,0,0],\"name\":\"Divider00129\",\"sizing_mode\":\"stretch_width\",\"style\":{\"height\":\"100%\",\"width\":\"100%\"},\"text\":\"<hr style=\\\"margin: 0px\\\">\",\"width_policy\":\"fit\"},\"id\":\"1045\",\"type\":\"Div\"},{\"attributes\":{\"margin\":[0,0,0,0],\"name\":\"Divider00129\",\"sizing_mode\":\"stretch_width\",\"style\":{\"height\":\"100%\",\"width\":\"100%\"},\"text\":\"<hr style=\\\"margin: 0px\\\">\",\"width_policy\":\"fit\"},\"id\":\"1103\",\"type\":\"Div\"},{\"attributes\":{\"children\":[{\"id\":\"1068\"},{\"id\":\"1069\"},{\"id\":\"1070\"},{\"id\":\"1071\"},{\"id\":\"1072\"},{\"id\":\"1073\"}],\"margin\":[0,0,0,0],\"name\":\"Row00128\",\"sizing_mode\":\"stretch_width\",\"width_policy\":\"max\"},\"id\":\"1067\",\"type\":\"Row\"},{\"attributes\":{\"margin\":[0,0,10,0],\"max_length\":5000,\"placeholder\":\"Filter selected options\",\"sizing_mode\":\"stretch_width\",\"width_policy\":\"max\"},\"id\":\"1059\",\"type\":\"TextInput\"},{\"attributes\":{\"children\":[{\"id\":\"1110\"},{\"id\":\"1111\"},{\"id\":\"1114\"}],\"margin\":[0,0,0,0],\"name\":\"Column00121\",\"sizing_mode\":\"stretch_width\"},\"id\":\"1109\",\"type\":\"Column\"},{\"attributes\":{\"margin\":[5,10,5,10],\"max_length\":5000,\"sizing_mode\":\"stretch_width\",\"value\":\"C:\\\\Users\\\\dinar\\\\Desktop\\\\gsoc\\\\app_templates\",\"width_policy\":\"max\"},\"id\":\"1071\",\"type\":\"TextInput\"},{\"attributes\":{\"children\":[{\"id\":\"1065\"},{\"id\":\"1066\"},{\"id\":\"1090\"},{\"id\":\"1091\"}],\"margin\":[0,0,0,0],\"name\":\"Column00139\",\"sizing_mode\":\"stretch_width\",\"width\":400},\"id\":\"1064\",\"type\":\"Column\"},{\"attributes\":{\"disabled\":true,\"icon\":null,\"label\":\"\\u2b07\",\"margin\":[5,10,0,0],\"sizing_mode\":\"stretch_width\",\"subscribed_events\":[\"button_click\"],\"width\":25},\"id\":\"1072\",\"type\":\"Button\"},{\"attributes\":{\"disabled\":true,\"margin\":[0,0,0,0],\"max_length\":5000,\"placeholder\":\"To select an item highlight it on the left and use the arrow button to move it to the right.\",\"sizing_mode\":\"stretch_both\"},\"id\":\"1089\",\"type\":\"TextAreaInput\"},{\"attributes\":{\"icon\":null,\"label\":\">>\",\"margin\":[5,10,5,10],\"sizing_mode\":\"stretch_width\",\"subscribed_events\":[\"button_click\"],\"width\":50},\"id\":\"1112\",\"type\":\"Button\"},{\"attributes\":{\"margin\":[0,0,10,0],\"max_length\":5000,\"placeholder\":\"Filter selected options\",\"sizing_mode\":\"stretch_width\",\"width_policy\":\"max\"},\"id\":\"1088\",\"type\":\"TextInput\"},{\"attributes\":{\"margin\":[0,0,0,0],\"options\":[\"hosted_app.ipynb\",\"incf_app.ipynb\",\"local_app.ipynb\"],\"size\":10,\"sizing_mode\":\"stretch_both\"},\"id\":\"1108\",\"type\":\"MultiSelect\"}],\"root_ids\":[\"1034\",\"1151\"]},\"title\":\"Bokeh Application\",\"version\":\"2.4.3\"}};\n",
       "    var render_items = [{\"docid\":\"d8759bab-647a-4b89-a9a3-114f733ccc83\",\"root_ids\":[\"1034\"],\"roots\":{\"1034\":\"1a37ae95-bb7f-4428-b572-6eb3447e7c68\"}}];\n",
       "    root.Bokeh.embed.embed_items_notebook(docs_json, render_items);\n",
       "  }\n",
       "  if (root.Bokeh !== undefined && root.Bokeh.Panel !== undefined && ( root['vega'] !== undefined)) {\n",
       "    embed_document(root);\n",
       "  } else {\n",
       "    var attempts = 0;\n",
       "    var timer = setInterval(function(root) {\n",
       "      if (root.Bokeh !== undefined && root.Bokeh.Panel !== undefined && (root['vega'] !== undefined)) {\n",
       "        clearInterval(timer);\n",
       "        embed_document(root);\n",
       "      } else if (document.readyState == \"complete\") {\n",
       "        attempts++;\n",
       "        if (attempts > 200) {\n",
       "          clearInterval(timer);\n",
       "          console.log(\"Bokeh: ERROR: Unable to run BokehJS code because BokehJS library is missing\");\n",
       "        }\n",
       "      }\n",
       "    }, 25, root)\n",
       "  }\n",
       "})(window);</script>"
      ],
      "text/plain": [
       "Tabs(margin=(20, 20, 20, 20), sizing_mode='stretch_width')\n",
       "    [0] Column(sizing_mode='stretch_width', width=400)\n",
       "        [0] Markdown(str, sizing_mode='stretch_width')\n",
       "        [1] FileSelector(sizing_mode='stretch_width')\n",
       "        [2] Markdown(str, margin=(10, 0, 0, 0), sizing_mode='stretch_width')\n",
       "        [3] CheckBoxGroup(name='File option', options=['Ignore Warnings', ...], sizing_mode='stretch_width')\n",
       "    [1] Column(sizing_mode='stretch_width', width=400)\n",
       "        [0] Markdown(str, sizing_mode='stretch_width')\n",
       "        [1] FileSelector(sizing_mode='stretch_width')\n",
       "        [2] Markdown(str, margin=(10, 0, 0, 0), sizing_mode='stretch_width')\n",
       "        [3] CheckBoxGroup(name='File option', options=['Ignore Warnings', ...], sizing_mode='stretch_width')\n",
       "    [2] Column(sizing_mode='stretch_width', width=400)\n",
       "        [0] Markdown(str, sizing_mode='stretch_width')\n",
       "        [1] FileSelector(sizing_mode='stretch_width')\n",
       "        [2] Markdown(str, margin=(10, 0, 0, 0), sizing_mode='stretch_width')\n",
       "        [3] CheckBoxGroup(name='File option', options=['Ignore Warnings', ...], sizing_mode='stretch_width')\n",
       "    [3] Column(sizing_mode='stretch_width', width=400)\n",
       "        [0] Markdown(str, sizing_mode='stretch_width')\n",
       "        [1] FileSelector(sizing_mode='stretch_width')\n",
       "        [2] Markdown(str, margin=(10, 0, 0, 0), sizing_mode='stretch_width')\n",
       "        [3] CheckBoxGroup(name='File option', options=['Ignore Warnings', ...], sizing_mode='stretch_width')"
      ]
     },
     "execution_count": 4,
     "metadata": {
      "application/vnd.holoviews_exec.v0+json": {
       "id": "1034"
      }
     },
     "output_type": "execute_result"
    }
   ],
   "source": [
    "# put everything together in tabs\n",
    "sidebar = pn.Tabs(\n",
    "    ('Settings', path_selector),\n",
    "    ('Settings', path_selector),\n",
    "    ('Settings', path_selector),\n",
    "    ('Settings', path_selector),\n",
    "    margin=(20, 20, 20, 20)\n",
    ")\n",
    "\n",
    "sidebar         "
   ]
  },
  {
   "cell_type": "code",
   "execution_count": 5,
   "id": "cb2b9015",
   "metadata": {},
   "outputs": [
    {
     "data": {},
     "metadata": {},
     "output_type": "display_data"
    },
    {
     "data": {
      "application/vnd.holoviews_exec.v0+json": "",
      "text/html": [
       "<div id='1170'>\n",
       "  <div class=\"bk-root\" id=\"92a1e230-3fef-4f5d-909e-262013954ac2\" data-root-id=\"1170\"></div>\n",
       "</div>\n",
       "<script type=\"application/javascript\">(function(root) {\n",
       "  function embed_document(root) {\n",
       "    var docs_json = {\"6f4142f7-d04e-4e8e-a503-30a7b3845b62\":{\"defs\":[{\"extends\":null,\"module\":null,\"name\":\"ReactiveHTML1\",\"overrides\":[],\"properties\":[]},{\"extends\":null,\"module\":null,\"name\":\"FlexBox1\",\"overrides\":[],\"properties\":[{\"default\":\"flex-start\",\"kind\":null,\"name\":\"align_content\"},{\"default\":\"flex-start\",\"kind\":null,\"name\":\"align_items\"},{\"default\":\"row\",\"kind\":null,\"name\":\"flex_direction\"},{\"default\":\"wrap\",\"kind\":null,\"name\":\"flex_wrap\"},{\"default\":\"flex-start\",\"kind\":null,\"name\":\"justify_content\"}]},{\"extends\":null,\"module\":null,\"name\":\"GridStack1\",\"overrides\":[],\"properties\":[{\"default\":\"warn\",\"kind\":null,\"name\":\"mode\"},{\"default\":null,\"kind\":null,\"name\":\"ncols\"},{\"default\":null,\"kind\":null,\"name\":\"nrows\"},{\"default\":true,\"kind\":null,\"name\":\"allow_resize\"},{\"default\":true,\"kind\":null,\"name\":\"allow_drag\"},{\"default\":[],\"kind\":null,\"name\":\"state\"}]},{\"extends\":null,\"module\":null,\"name\":\"click1\",\"overrides\":[],\"properties\":[{\"default\":\"\",\"kind\":null,\"name\":\"terminal_output\"},{\"default\":\"\",\"kind\":null,\"name\":\"debug_name\"},{\"default\":0,\"kind\":null,\"name\":\"clears\"}]},{\"extends\":null,\"module\":null,\"name\":\"NotificationAreaBase1\",\"overrides\":[],\"properties\":[{\"default\":\"bottom-right\",\"kind\":null,\"name\":\"position\"},{\"default\":0,\"kind\":null,\"name\":\"_clear\"}]},{\"extends\":null,\"module\":null,\"name\":\"NotificationArea1\",\"overrides\":[],\"properties\":[{\"default\":[],\"kind\":null,\"name\":\"notifications\"},{\"default\":\"bottom-right\",\"kind\":null,\"name\":\"position\"},{\"default\":0,\"kind\":null,\"name\":\"_clear\"},{\"default\":[{\"background\":\"#ffc107\",\"icon\":{\"className\":\"fas fa-exclamation-triangle\",\"color\":\"white\",\"tagName\":\"i\"},\"type\":\"warning\"},{\"background\":\"#007bff\",\"icon\":{\"className\":\"fas fa-info-circle\",\"color\":\"white\",\"tagName\":\"i\"},\"type\":\"info\"}],\"kind\":null,\"name\":\"types\"}]},{\"extends\":null,\"module\":null,\"name\":\"Notification\",\"overrides\":[],\"properties\":[{\"default\":null,\"kind\":null,\"name\":\"background\"},{\"default\":3000,\"kind\":null,\"name\":\"duration\"},{\"default\":null,\"kind\":null,\"name\":\"icon\"},{\"default\":\"\",\"kind\":null,\"name\":\"message\"},{\"default\":null,\"kind\":null,\"name\":\"notification_type\"},{\"default\":false,\"kind\":null,\"name\":\"_destroyed\"}]},{\"extends\":null,\"module\":null,\"name\":\"TemplateActions1\",\"overrides\":[],\"properties\":[{\"default\":0,\"kind\":null,\"name\":\"open_modal\"},{\"default\":0,\"kind\":null,\"name\":\"close_modal\"}]},{\"extends\":null,\"module\":null,\"name\":\"MaterialTemplateActions1\",\"overrides\":[],\"properties\":[{\"default\":0,\"kind\":null,\"name\":\"open_modal\"},{\"default\":0,\"kind\":null,\"name\":\"close_modal\"}]}],\"roots\":{\"references\":[{\"attributes\":{\"css_classes\":[\"markdown\"],\"margin\":[5,5,5,5],\"name\":\"Markdown00145\",\"sizing_mode\":\"stretch_width\",\"text\":\"&lt;h3&gt;Welcome!&lt;/h3&gt;\\n&lt;p&gt;This is a placeholder for the uploaded &amp;amp; transformed files. Prior to downloading the processed files, \\nyou can rename, open, and visualize the results. Visualizations will be available in the tab under &amp;ldquo;Visualize Data&amp;rdquo;. There&amp;rsquo;s \\nextra space for new ideas. Of course, we can keep expanding them or even make them closeable. &lt;/p&gt;\\n&lt;hr&gt;\\n&lt;p&gt;For now, the editor below lets us change the names on the fly. You can click on any name below &amp;amp; make your changes.\\nI&amp;rsquo;m planning on showing the rendered/processed file structure in a tree structure. For example, if there are TSV files, we can\\nstore them in an allocated folder:&lt;/p&gt;\\n&lt;div class=&quot;codehilite&quot;&gt;&lt;pre&gt;&lt;span&gt;&lt;/span&gt;&lt;code&gt;tsv/\\n    example1.tsv\\n    example2.tsv\\njson/\\n    example1.json\\n    example2.json\\n&lt;/code&gt;&lt;/pre&gt;&lt;/div&gt;\"},\"id\":\"1170\",\"type\":\"panel.models.markup.HTML\"},{\"attributes\":{\"client_comm_id\":\"a3e5882170554c289aa44cb1129a9bbf\",\"comm_id\":\"573fd33999c24b7e96ca51aea00fb1f1\",\"plot_id\":\"1170\"},\"id\":\"1171\",\"type\":\"panel.models.comm_manager.CommManager\"}],\"root_ids\":[\"1170\",\"1171\"]},\"title\":\"Bokeh Application\",\"version\":\"2.4.3\"}};\n",
       "    var render_items = [{\"docid\":\"6f4142f7-d04e-4e8e-a503-30a7b3845b62\",\"root_ids\":[\"1170\"],\"roots\":{\"1170\":\"92a1e230-3fef-4f5d-909e-262013954ac2\"}}];\n",
       "    root.Bokeh.embed.embed_items_notebook(docs_json, render_items);\n",
       "  }\n",
       "  if (root.Bokeh !== undefined && root.Bokeh.Panel !== undefined && ( root['vega'] !== undefined)) {\n",
       "    embed_document(root);\n",
       "  } else {\n",
       "    var attempts = 0;\n",
       "    var timer = setInterval(function(root) {\n",
       "      if (root.Bokeh !== undefined && root.Bokeh.Panel !== undefined && (root['vega'] !== undefined)) {\n",
       "        clearInterval(timer);\n",
       "        embed_document(root);\n",
       "      } else if (document.readyState == \"complete\") {\n",
       "        attempts++;\n",
       "        if (attempts > 200) {\n",
       "          clearInterval(timer);\n",
       "          console.log(\"Bokeh: ERROR: Unable to run BokehJS code because BokehJS library is missing\");\n",
       "        }\n",
       "      }\n",
       "    }, 25, root)\n",
       "  }\n",
       "})(window);</script>"
      ],
      "text/plain": [
       "Markdown(str, sizing_mode='stretch_width')"
      ]
     },
     "execution_count": 5,
     "metadata": {
      "application/vnd.holoviews_exec.v0+json": {
       "id": "1170"
      }
     },
     "output_type": "execute_result"
    }
   ],
   "source": [
    "# descriptor for JSONEditor usage\n",
    "markdown = pn.pane.Markdown(\"\"\"\n",
    "### Welcome!\n",
    "This is a placeholder for the uploaded & transformed files. Prior to downloading the processed files, \n",
    "you can rename, open, and visualize the results. Visualizations will be available in the tab under \"Visualize Data\". There's \n",
    "extra space for new ideas. Of course, we can keep expanding them or even make them closeable. \n",
    "\n",
    "---\n",
    "\n",
    "For now, the editor below lets us change the names on the fly. You can click on any name below & make your changes.\n",
    "I'm planning on showing the rendered/processed file structure in a tree structure. For example, if there are TSV files, we can\n",
    "store them in an allocated folder:\n",
    "\n",
    "```\n",
    "tsv/\n",
    "    example1.tsv\n",
    "    example2.tsv\n",
    "json/\n",
    "    example1.json\n",
    "    example2.json\n",
    "\n",
    "```\n",
    "\n",
    "\"\"\"\n",
    ")\n",
    "\n",
    "json_editor = pn.widgets.JSONEditor(\n",
    "    schema={\n",
    "      \"title\": \"Files structure\",\n",
    "      \"type\": \"object\",\n",
    "      \"properties\": {\n",
    "        \"name\": {\n",
    "          \"type\": \"string\",\n",
    "          \"description\": \"filename\"\n",
    "        },\n",
    "        \"name2\": {\n",
    "          \"type\": \"string\",\n",
    "          \"description\": \"filename\"\n",
    "        },\n",
    "        \"name3\": {\n",
    "          \"type\": \"string\",\n",
    "          \"description\": \"filename\",\n",
    "        }\n",
    "      }\n",
    "    },\n",
    "    value={\n",
    "        'name':  'filename',\n",
    "        'name2': 'filename',\n",
    "        'name3': 'filename'\n",
    "    }, margin=(10, 50, 10, 50))\n",
    "\n",
    "markdown"
   ]
  },
  {
   "cell_type": "code",
   "execution_count": 6,
   "id": "9c31f2bd",
   "metadata": {},
   "outputs": [],
   "source": [
    "ace = pn.widgets.Ace(readonly=True, width=800, height=200, language='python', theme='monokai', value=\\\n",
    "\"\"\"slider = pn.widgets.IntSlider(start=0, end=10)\n",
    "\n",
    "def slideshow(index):\n",
    "    url = f\"https://picsum.photos/800/300?image={index}\"\n",
    "    return pn.pane.JPG(url)\n",
    "\n",
    "output = pn.bind(slideshow, slider)\n",
    "\n",
    "app = pn.Column(slider, output)\"\"\")\n",
    "\n",
    "main = pn.Tabs(\n",
    "    ('Interactive Files', pn.Column(markdown, json_editor)), \n",
    "    ('Visualize Data',    pn.Column(markdown, json_editor)),\n",
    "    ('Update Code',       ace),\n",
    "    ('Extra Space',       pn.Column(markdown, json_editor))\n",
    ")\n",
    "\n",
    "# main"
   ]
  },
  {
   "cell_type": "code",
   "execution_count": 7,
   "id": "00196c8b",
   "metadata": {},
   "outputs": [
    {
     "name": "stdout",
     "output_type": "stream",
     "text": [
      "Launching server at http://localhost:59265\n"
     ]
    },
    {
     "data": {
      "text/plain": [
       "<bokeh.server.server.Server at 0x19c935378e0>"
      ]
     },
     "execution_count": 7,
     "metadata": {},
     "output_type": "execute_result"
    }
   ],
   "source": [
    "panel = pn.template.FastListTemplate(\n",
    "    title='Store | Validate | Visualize | Download',\n",
    "    site='INCF',\n",
    "    sidebar=sidebar,\n",
    "    sidebar_width=700,\n",
    "    main=main\n",
    ")\n",
    "\n",
    "pn.serve(panel)"
   ]
  },
  {
   "cell_type": "markdown",
   "id": "a1b66392",
   "metadata": {},
   "source": [
    "### Option 2\n",
    "\n",
    "This option has the folder opener in the main area.\n"
   ]
  },
  {
   "cell_type": "code",
   "execution_count": 8,
   "id": "3ed63249",
   "metadata": {},
   "outputs": [
    {
     "data": {},
     "metadata": {},
     "output_type": "display_data"
    },
    {
     "data": {
      "application/vnd.holoviews_exec.v0+json": "",
      "text/html": [
       "<div id='1326'>\n",
       "  <div class=\"bk-root\" id=\"d6c64d7d-44bb-4199-b26c-cda0b6f82479\" data-root-id=\"1326\"></div>\n",
       "</div>\n",
       "<script type=\"application/javascript\">(function(root) {\n",
       "  function embed_document(root) {\n",
       "    var docs_json = {\"1ada7ec4-9048-414d-bd4e-6af1d95a02e8\":{\"defs\":[{\"extends\":null,\"module\":null,\"name\":\"ReactiveHTML1\",\"overrides\":[],\"properties\":[]},{\"extends\":null,\"module\":null,\"name\":\"FlexBox1\",\"overrides\":[],\"properties\":[{\"default\":\"flex-start\",\"kind\":null,\"name\":\"align_content\"},{\"default\":\"flex-start\",\"kind\":null,\"name\":\"align_items\"},{\"default\":\"row\",\"kind\":null,\"name\":\"flex_direction\"},{\"default\":\"wrap\",\"kind\":null,\"name\":\"flex_wrap\"},{\"default\":\"flex-start\",\"kind\":null,\"name\":\"justify_content\"}]},{\"extends\":null,\"module\":null,\"name\":\"GridStack1\",\"overrides\":[],\"properties\":[{\"default\":\"warn\",\"kind\":null,\"name\":\"mode\"},{\"default\":null,\"kind\":null,\"name\":\"ncols\"},{\"default\":null,\"kind\":null,\"name\":\"nrows\"},{\"default\":true,\"kind\":null,\"name\":\"allow_resize\"},{\"default\":true,\"kind\":null,\"name\":\"allow_drag\"},{\"default\":[],\"kind\":null,\"name\":\"state\"}]},{\"extends\":null,\"module\":null,\"name\":\"click1\",\"overrides\":[],\"properties\":[{\"default\":\"\",\"kind\":null,\"name\":\"terminal_output\"},{\"default\":\"\",\"kind\":null,\"name\":\"debug_name\"},{\"default\":0,\"kind\":null,\"name\":\"clears\"}]},{\"extends\":null,\"module\":null,\"name\":\"NotificationAreaBase1\",\"overrides\":[],\"properties\":[{\"default\":\"bottom-right\",\"kind\":null,\"name\":\"position\"},{\"default\":0,\"kind\":null,\"name\":\"_clear\"}]},{\"extends\":null,\"module\":null,\"name\":\"NotificationArea1\",\"overrides\":[],\"properties\":[{\"default\":[],\"kind\":null,\"name\":\"notifications\"},{\"default\":\"bottom-right\",\"kind\":null,\"name\":\"position\"},{\"default\":0,\"kind\":null,\"name\":\"_clear\"},{\"default\":[{\"background\":\"#ffc107\",\"icon\":{\"className\":\"fas fa-exclamation-triangle\",\"color\":\"white\",\"tagName\":\"i\"},\"type\":\"warning\"},{\"background\":\"#007bff\",\"icon\":{\"className\":\"fas fa-info-circle\",\"color\":\"white\",\"tagName\":\"i\"},\"type\":\"info\"}],\"kind\":null,\"name\":\"types\"}]},{\"extends\":null,\"module\":null,\"name\":\"Notification\",\"overrides\":[],\"properties\":[{\"default\":null,\"kind\":null,\"name\":\"background\"},{\"default\":3000,\"kind\":null,\"name\":\"duration\"},{\"default\":null,\"kind\":null,\"name\":\"icon\"},{\"default\":\"\",\"kind\":null,\"name\":\"message\"},{\"default\":null,\"kind\":null,\"name\":\"notification_type\"},{\"default\":false,\"kind\":null,\"name\":\"_destroyed\"}]},{\"extends\":null,\"module\":null,\"name\":\"TemplateActions1\",\"overrides\":[],\"properties\":[{\"default\":0,\"kind\":null,\"name\":\"open_modal\"},{\"default\":0,\"kind\":null,\"name\":\"close_modal\"}]},{\"extends\":null,\"module\":null,\"name\":\"MaterialTemplateActions1\",\"overrides\":[],\"properties\":[{\"default\":0,\"kind\":null,\"name\":\"open_modal\"},{\"default\":0,\"kind\":null,\"name\":\"close_modal\"}]}],\"roots\":{\"references\":[{\"attributes\":{\"labels\":[\"Traverse all folders\",\"Ignore Warnings\",\"Ignore NIfTI Headers\",\"Skip Subject Filename Consistency Check\"],\"margin\":[5,10,5,10],\"sizing_mode\":\"stretch_width\"},\"id\":\"1328\",\"type\":\"CheckboxGroup\"},{\"attributes\":{\"children\":[{\"id\":\"1327\"},{\"id\":\"1328\"}],\"margin\":[0,0,0,0],\"name\":\"Column00199\",\"sizing_mode\":\"stretch_width\",\"width\":400},\"id\":\"1326\",\"type\":\"Column\"},{\"attributes\":{\"css_classes\":[\"markdown\"],\"margin\":[10,0,0,0],\"name\":\"Markdown00197\",\"sizing_mode\":\"stretch_width\",\"text\":\"&lt;p&gt;&lt;strong&gt;Select options&lt;/strong&gt;:&lt;/p&gt;\"},\"id\":\"1327\",\"type\":\"panel.models.markup.HTML\"},{\"attributes\":{\"client_comm_id\":\"14f35944e12144489a08aa25bf7ef5d4\",\"comm_id\":\"2ba8606a79a04c1a880d522dd9d3a879\",\"plot_id\":\"1326\"},\"id\":\"1329\",\"type\":\"panel.models.comm_manager.CommManager\"}],\"root_ids\":[\"1326\",\"1329\"]},\"title\":\"Bokeh Application\",\"version\":\"2.4.3\"}};\n",
       "    var render_items = [{\"docid\":\"1ada7ec4-9048-414d-bd4e-6af1d95a02e8\",\"root_ids\":[\"1326\"],\"roots\":{\"1326\":\"d6c64d7d-44bb-4199-b26c-cda0b6f82479\"}}];\n",
       "    root.Bokeh.embed.embed_items_notebook(docs_json, render_items);\n",
       "  }\n",
       "  if (root.Bokeh !== undefined && root.Bokeh.Panel !== undefined && ( root['vega'] !== undefined)) {\n",
       "    embed_document(root);\n",
       "  } else {\n",
       "    var attempts = 0;\n",
       "    var timer = setInterval(function(root) {\n",
       "      if (root.Bokeh !== undefined && root.Bokeh.Panel !== undefined && (root['vega'] !== undefined)) {\n",
       "        clearInterval(timer);\n",
       "        embed_document(root);\n",
       "      } else if (document.readyState == \"complete\") {\n",
       "        attempts++;\n",
       "        if (attempts > 200) {\n",
       "          clearInterval(timer);\n",
       "          console.log(\"Bokeh: ERROR: Unable to run BokehJS code because BokehJS library is missing\");\n",
       "        }\n",
       "      }\n",
       "    }, 25, root)\n",
       "  }\n",
       "})(window);</script>"
      ],
      "text/plain": [
       "Column(sizing_mode='stretch_width', width=400)\n",
       "    [0] Markdown(str, margin=(10, 0, 0, 0), sizing_mode='stretch_width')\n",
       "    [1] CheckBoxGroup(name='File option', options=['Traverse all folders', ...], sizing_mode='stretch_width')"
      ]
     },
     "execution_count": 8,
     "metadata": {
      "application/vnd.holoviews_exec.v0+json": {
       "id": "1326"
      }
     },
     "output_type": "execute_result"
    }
   ],
   "source": [
    "checkbox = pn.widgets.CheckBoxGroup(\n",
    "    name='File option', options=[\n",
    "        'Traverse all folders',\n",
    "        'Ignore Warnings',\n",
    "        'Ignore NIfTI Headers',\n",
    "        'Skip Subject Filename Consistency Check'],\n",
    "    inline=False\n",
    ")\n",
    "\n",
    "checkbox\n",
    "\n",
    "# settings \n",
    "left = pn.Column(\n",
    "    pn.pane.Markdown(\"\"\"\n",
    "    **Select options**:\n",
    "    \"\"\", margin=(10,0,0,0)),\n",
    "    checkbox,\n",
    "    width=400\n",
    ")\n",
    "\n",
    "left"
   ]
  },
  {
   "cell_type": "code",
   "execution_count": 9,
   "id": "42f7280e",
   "metadata": {},
   "outputs": [
    {
     "data": {},
     "metadata": {},
     "output_type": "display_data"
    },
    {
     "data": {
      "application/vnd.holoviews_exec.v0+json": "",
      "text/html": [
       "<div id='1330'>\n",
       "  <div class=\"bk-root\" id=\"5b768446-cc5f-4853-8cb9-1738a8b80d90\" data-root-id=\"1330\"></div>\n",
       "</div>\n",
       "<script type=\"application/javascript\">(function(root) {\n",
       "  function embed_document(root) {\n",
       "    var docs_json = {\"d1c6de45-241f-44eb-9637-07460ddbff19\":{\"defs\":[{\"extends\":null,\"module\":null,\"name\":\"ReactiveHTML1\",\"overrides\":[],\"properties\":[]},{\"extends\":null,\"module\":null,\"name\":\"FlexBox1\",\"overrides\":[],\"properties\":[{\"default\":\"flex-start\",\"kind\":null,\"name\":\"align_content\"},{\"default\":\"flex-start\",\"kind\":null,\"name\":\"align_items\"},{\"default\":\"row\",\"kind\":null,\"name\":\"flex_direction\"},{\"default\":\"wrap\",\"kind\":null,\"name\":\"flex_wrap\"},{\"default\":\"flex-start\",\"kind\":null,\"name\":\"justify_content\"}]},{\"extends\":null,\"module\":null,\"name\":\"GridStack1\",\"overrides\":[],\"properties\":[{\"default\":\"warn\",\"kind\":null,\"name\":\"mode\"},{\"default\":null,\"kind\":null,\"name\":\"ncols\"},{\"default\":null,\"kind\":null,\"name\":\"nrows\"},{\"default\":true,\"kind\":null,\"name\":\"allow_resize\"},{\"default\":true,\"kind\":null,\"name\":\"allow_drag\"},{\"default\":[],\"kind\":null,\"name\":\"state\"}]},{\"extends\":null,\"module\":null,\"name\":\"click1\",\"overrides\":[],\"properties\":[{\"default\":\"\",\"kind\":null,\"name\":\"terminal_output\"},{\"default\":\"\",\"kind\":null,\"name\":\"debug_name\"},{\"default\":0,\"kind\":null,\"name\":\"clears\"}]},{\"extends\":null,\"module\":null,\"name\":\"NotificationAreaBase1\",\"overrides\":[],\"properties\":[{\"default\":\"bottom-right\",\"kind\":null,\"name\":\"position\"},{\"default\":0,\"kind\":null,\"name\":\"_clear\"}]},{\"extends\":null,\"module\":null,\"name\":\"NotificationArea1\",\"overrides\":[],\"properties\":[{\"default\":[],\"kind\":null,\"name\":\"notifications\"},{\"default\":\"bottom-right\",\"kind\":null,\"name\":\"position\"},{\"default\":0,\"kind\":null,\"name\":\"_clear\"},{\"default\":[{\"background\":\"#ffc107\",\"icon\":{\"className\":\"fas fa-exclamation-triangle\",\"color\":\"white\",\"tagName\":\"i\"},\"type\":\"warning\"},{\"background\":\"#007bff\",\"icon\":{\"className\":\"fas fa-info-circle\",\"color\":\"white\",\"tagName\":\"i\"},\"type\":\"info\"}],\"kind\":null,\"name\":\"types\"}]},{\"extends\":null,\"module\":null,\"name\":\"Notification\",\"overrides\":[],\"properties\":[{\"default\":null,\"kind\":null,\"name\":\"background\"},{\"default\":3000,\"kind\":null,\"name\":\"duration\"},{\"default\":null,\"kind\":null,\"name\":\"icon\"},{\"default\":\"\",\"kind\":null,\"name\":\"message\"},{\"default\":null,\"kind\":null,\"name\":\"notification_type\"},{\"default\":false,\"kind\":null,\"name\":\"_destroyed\"}]},{\"extends\":null,\"module\":null,\"name\":\"TemplateActions1\",\"overrides\":[],\"properties\":[{\"default\":0,\"kind\":null,\"name\":\"open_modal\"},{\"default\":0,\"kind\":null,\"name\":\"close_modal\"}]},{\"extends\":null,\"module\":null,\"name\":\"MaterialTemplateActions1\",\"overrides\":[],\"properties\":[{\"default\":0,\"kind\":null,\"name\":\"open_modal\"},{\"default\":0,\"kind\":null,\"name\":\"close_modal\"}]}],\"roots\":{\"references\":[{\"attributes\":{\"margin\":[20,20,20,20],\"sizing_mode\":\"stretch_width\",\"tabs\":[{\"id\":\"1334\"},{\"id\":\"1338\"},{\"id\":\"1342\"},{\"id\":\"1346\"}]},\"id\":\"1330\",\"type\":\"panel.models.tabs.Tabs\"},{\"attributes\":{\"children\":[{\"id\":\"1340\"},{\"id\":\"1341\"}],\"margin\":[0,0,0,0],\"name\":\"Column00199\",\"sizing_mode\":\"stretch_width\",\"width\":400},\"id\":\"1339\",\"type\":\"Column\"},{\"attributes\":{\"labels\":[\"Traverse all folders\",\"Ignore Warnings\",\"Ignore NIfTI Headers\",\"Skip Subject Filename Consistency Check\"],\"margin\":[5,10,5,10],\"sizing_mode\":\"stretch_width\"},\"id\":\"1337\",\"type\":\"CheckboxGroup\"},{\"attributes\":{\"child\":{\"id\":\"1331\"},\"name\":\"Column00199\",\"title\":\"Settings\"},\"id\":\"1334\",\"type\":\"Panel\"},{\"attributes\":{\"css_classes\":[\"markdown\"],\"margin\":[10,0,0,0],\"name\":\"Markdown00197\",\"sizing_mode\":\"stretch_width\",\"text\":\"&lt;p&gt;&lt;strong&gt;Select options&lt;/strong&gt;:&lt;/p&gt;\"},\"id\":\"1332\",\"type\":\"panel.models.markup.HTML\"},{\"attributes\":{\"client_comm_id\":\"59ad50355168484c926007d8a6234602\",\"comm_id\":\"14131fb113e14ff1bc557d38c7e96745\",\"plot_id\":\"1330\"},\"id\":\"1347\",\"type\":\"panel.models.comm_manager.CommManager\"},{\"attributes\":{\"labels\":[\"Traverse all folders\",\"Ignore Warnings\",\"Ignore NIfTI Headers\",\"Skip Subject Filename Consistency Check\"],\"margin\":[5,10,5,10],\"sizing_mode\":\"stretch_width\"},\"id\":\"1345\",\"type\":\"CheckboxGroup\"},{\"attributes\":{\"css_classes\":[\"markdown\"],\"margin\":[10,0,0,0],\"name\":\"Markdown00197\",\"sizing_mode\":\"stretch_width\",\"text\":\"&lt;p&gt;&lt;strong&gt;Select options&lt;/strong&gt;:&lt;/p&gt;\"},\"id\":\"1336\",\"type\":\"panel.models.markup.HTML\"},{\"attributes\":{\"children\":[{\"id\":\"1332\"},{\"id\":\"1333\"}],\"margin\":[0,0,0,0],\"name\":\"Column00199\",\"sizing_mode\":\"stretch_width\",\"width\":400},\"id\":\"1331\",\"type\":\"Column\"},{\"attributes\":{\"children\":[{\"id\":\"1344\"},{\"id\":\"1345\"}],\"margin\":[0,0,0,0],\"name\":\"Column00199\",\"sizing_mode\":\"stretch_width\",\"width\":400},\"id\":\"1343\",\"type\":\"Column\"},{\"attributes\":{\"labels\":[\"Traverse all folders\",\"Ignore Warnings\",\"Ignore NIfTI Headers\",\"Skip Subject Filename Consistency Check\"],\"margin\":[5,10,5,10],\"sizing_mode\":\"stretch_width\"},\"id\":\"1341\",\"type\":\"CheckboxGroup\"},{\"attributes\":{\"labels\":[\"Traverse all folders\",\"Ignore Warnings\",\"Ignore NIfTI Headers\",\"Skip Subject Filename Consistency Check\"],\"margin\":[5,10,5,10],\"sizing_mode\":\"stretch_width\"},\"id\":\"1333\",\"type\":\"CheckboxGroup\"},{\"attributes\":{\"css_classes\":[\"markdown\"],\"margin\":[10,0,0,0],\"name\":\"Markdown00197\",\"sizing_mode\":\"stretch_width\",\"text\":\"&lt;p&gt;&lt;strong&gt;Select options&lt;/strong&gt;:&lt;/p&gt;\"},\"id\":\"1344\",\"type\":\"panel.models.markup.HTML\"},{\"attributes\":{\"child\":{\"id\":\"1335\"},\"name\":\"Column00199\",\"title\":\"Settings\"},\"id\":\"1338\",\"type\":\"Panel\"},{\"attributes\":{\"child\":{\"id\":\"1339\"},\"name\":\"Column00199\",\"title\":\"Settings\"},\"id\":\"1342\",\"type\":\"Panel\"},{\"attributes\":{\"child\":{\"id\":\"1343\"},\"name\":\"Column00199\",\"title\":\"Settings\"},\"id\":\"1346\",\"type\":\"Panel\"},{\"attributes\":{\"css_classes\":[\"markdown\"],\"margin\":[10,0,0,0],\"name\":\"Markdown00197\",\"sizing_mode\":\"stretch_width\",\"text\":\"&lt;p&gt;&lt;strong&gt;Select options&lt;/strong&gt;:&lt;/p&gt;\"},\"id\":\"1340\",\"type\":\"panel.models.markup.HTML\"},{\"attributes\":{\"children\":[{\"id\":\"1336\"},{\"id\":\"1337\"}],\"margin\":[0,0,0,0],\"name\":\"Column00199\",\"sizing_mode\":\"stretch_width\",\"width\":400},\"id\":\"1335\",\"type\":\"Column\"}],\"root_ids\":[\"1330\",\"1347\"]},\"title\":\"Bokeh Application\",\"version\":\"2.4.3\"}};\n",
       "    var render_items = [{\"docid\":\"d1c6de45-241f-44eb-9637-07460ddbff19\",\"root_ids\":[\"1330\"],\"roots\":{\"1330\":\"5b768446-cc5f-4853-8cb9-1738a8b80d90\"}}];\n",
       "    root.Bokeh.embed.embed_items_notebook(docs_json, render_items);\n",
       "  }\n",
       "  if (root.Bokeh !== undefined && root.Bokeh.Panel !== undefined && ( root['vega'] !== undefined)) {\n",
       "    embed_document(root);\n",
       "  } else {\n",
       "    var attempts = 0;\n",
       "    var timer = setInterval(function(root) {\n",
       "      if (root.Bokeh !== undefined && root.Bokeh.Panel !== undefined && (root['vega'] !== undefined)) {\n",
       "        clearInterval(timer);\n",
       "        embed_document(root);\n",
       "      } else if (document.readyState == \"complete\") {\n",
       "        attempts++;\n",
       "        if (attempts > 200) {\n",
       "          clearInterval(timer);\n",
       "          console.log(\"Bokeh: ERROR: Unable to run BokehJS code because BokehJS library is missing\");\n",
       "        }\n",
       "      }\n",
       "    }, 25, root)\n",
       "  }\n",
       "})(window);</script>"
      ],
      "text/plain": [
       "Tabs(margin=(20, 20, 20, 20), sizing_mode='stretch_width')\n",
       "    [0] Column(sizing_mode='stretch_width', width=400)\n",
       "        [0] Markdown(str, margin=(10, 0, 0, 0), sizing_mode='stretch_width')\n",
       "        [1] CheckBoxGroup(name='File option', options=['Traverse all folders', ...], sizing_mode='stretch_width')\n",
       "    [1] Column(sizing_mode='stretch_width', width=400)\n",
       "        [0] Markdown(str, margin=(10, 0, 0, 0), sizing_mode='stretch_width')\n",
       "        [1] CheckBoxGroup(name='File option', options=['Traverse all folders', ...], sizing_mode='stretch_width')\n",
       "    [2] Column(sizing_mode='stretch_width', width=400)\n",
       "        [0] Markdown(str, margin=(10, 0, 0, 0), sizing_mode='stretch_width')\n",
       "        [1] CheckBoxGroup(name='File option', options=['Traverse all folders', ...], sizing_mode='stretch_width')\n",
       "    [3] Column(sizing_mode='stretch_width', width=400)\n",
       "        [0] Markdown(str, margin=(10, 0, 0, 0), sizing_mode='stretch_width')\n",
       "        [1] CheckBoxGroup(name='File option', options=['Traverse all folders', ...], sizing_mode='stretch_width')"
      ]
     },
     "execution_count": 9,
     "metadata": {
      "application/vnd.holoviews_exec.v0+json": {
       "id": "1330"
      }
     },
     "output_type": "execute_result"
    }
   ],
   "source": [
    "# put everything together in tabs\n",
    "sidebar = pn.Tabs(\n",
    "    ('Settings', left),\n",
    "    ('Settings', left),\n",
    "    ('Settings', left),\n",
    "    ('Settings', left),\n",
    "    margin=(20, 20, 20, 20)\n",
    ")\n",
    "\n",
    "sidebar         "
   ]
  },
  {
   "cell_type": "code",
   "execution_count": 10,
   "id": "d2b580a5",
   "metadata": {},
   "outputs": [
    {
     "data": {},
     "metadata": {},
     "output_type": "display_data"
    },
    {
     "data": {
      "application/vnd.holoviews_exec.v0+json": "",
      "text/html": [
       "<div id='1348'>\n",
       "  <div class=\"bk-root\" id=\"8ec41ffa-2850-488c-b780-32e76d548907\" data-root-id=\"1348\"></div>\n",
       "</div>\n",
       "<script type=\"application/javascript\">(function(root) {\n",
       "  function embed_document(root) {\n",
       "    var docs_json = {\"644f3d7f-dcb1-482a-97ce-db2ca9808d10\":{\"defs\":[{\"extends\":null,\"module\":null,\"name\":\"ReactiveHTML1\",\"overrides\":[],\"properties\":[]},{\"extends\":null,\"module\":null,\"name\":\"FlexBox1\",\"overrides\":[],\"properties\":[{\"default\":\"flex-start\",\"kind\":null,\"name\":\"align_content\"},{\"default\":\"flex-start\",\"kind\":null,\"name\":\"align_items\"},{\"default\":\"row\",\"kind\":null,\"name\":\"flex_direction\"},{\"default\":\"wrap\",\"kind\":null,\"name\":\"flex_wrap\"},{\"default\":\"flex-start\",\"kind\":null,\"name\":\"justify_content\"}]},{\"extends\":null,\"module\":null,\"name\":\"GridStack1\",\"overrides\":[],\"properties\":[{\"default\":\"warn\",\"kind\":null,\"name\":\"mode\"},{\"default\":null,\"kind\":null,\"name\":\"ncols\"},{\"default\":null,\"kind\":null,\"name\":\"nrows\"},{\"default\":true,\"kind\":null,\"name\":\"allow_resize\"},{\"default\":true,\"kind\":null,\"name\":\"allow_drag\"},{\"default\":[],\"kind\":null,\"name\":\"state\"}]},{\"extends\":null,\"module\":null,\"name\":\"click1\",\"overrides\":[],\"properties\":[{\"default\":\"\",\"kind\":null,\"name\":\"terminal_output\"},{\"default\":\"\",\"kind\":null,\"name\":\"debug_name\"},{\"default\":0,\"kind\":null,\"name\":\"clears\"}]},{\"extends\":null,\"module\":null,\"name\":\"NotificationAreaBase1\",\"overrides\":[],\"properties\":[{\"default\":\"bottom-right\",\"kind\":null,\"name\":\"position\"},{\"default\":0,\"kind\":null,\"name\":\"_clear\"}]},{\"extends\":null,\"module\":null,\"name\":\"NotificationArea1\",\"overrides\":[],\"properties\":[{\"default\":[],\"kind\":null,\"name\":\"notifications\"},{\"default\":\"bottom-right\",\"kind\":null,\"name\":\"position\"},{\"default\":0,\"kind\":null,\"name\":\"_clear\"},{\"default\":[{\"background\":\"#ffc107\",\"icon\":{\"className\":\"fas fa-exclamation-triangle\",\"color\":\"white\",\"tagName\":\"i\"},\"type\":\"warning\"},{\"background\":\"#007bff\",\"icon\":{\"className\":\"fas fa-info-circle\",\"color\":\"white\",\"tagName\":\"i\"},\"type\":\"info\"}],\"kind\":null,\"name\":\"types\"}]},{\"extends\":null,\"module\":null,\"name\":\"Notification\",\"overrides\":[],\"properties\":[{\"default\":null,\"kind\":null,\"name\":\"background\"},{\"default\":3000,\"kind\":null,\"name\":\"duration\"},{\"default\":null,\"kind\":null,\"name\":\"icon\"},{\"default\":\"\",\"kind\":null,\"name\":\"message\"},{\"default\":null,\"kind\":null,\"name\":\"notification_type\"},{\"default\":false,\"kind\":null,\"name\":\"_destroyed\"}]},{\"extends\":null,\"module\":null,\"name\":\"TemplateActions1\",\"overrides\":[],\"properties\":[{\"default\":0,\"kind\":null,\"name\":\"open_modal\"},{\"default\":0,\"kind\":null,\"name\":\"close_modal\"}]},{\"extends\":null,\"module\":null,\"name\":\"MaterialTemplateActions1\",\"overrides\":[],\"properties\":[{\"default\":0,\"kind\":null,\"name\":\"open_modal\"},{\"default\":0,\"kind\":null,\"name\":\"close_modal\"}]}],\"roots\":{\"references\":[{\"attributes\":{\"margin\":[0,0,0,0],\"name\":\"Divider00129\",\"sizing_mode\":\"stretch_width\",\"style\":{\"height\":\"100%\",\"width\":\"100%\"},\"text\":\"<hr style=\\\"margin: 0px\\\">\",\"width_policy\":\"fit\"},\"id\":\"1358\",\"type\":\"Div\"},{\"attributes\":{\"margin\":[0,0,10,0],\"max_length\":5000,\"placeholder\":\"Filter selected options\",\"sizing_mode\":\"stretch_width\",\"width_policy\":\"max\"},\"id\":\"1372\",\"type\":\"TextInput\"},{\"attributes\":{\"css_classes\":[\"markdown\"],\"margin\":[5,5,5,5],\"name\":\"Markdown00205\",\"sizing_mode\":\"stretch_width\",\"text\":\"&lt;h3&gt;Select the folder&lt;/h3&gt;\\n&lt;p&gt;We support .mat|.txt|.dcm|.eeg|.py|.img|.zip file extensions. This function will not upload any \\nfolders to the app. Instead, it will automatically select and show the files that pass the accepted file extension\\nthreshold. There is no file size limit.    &lt;/p&gt;\"},\"id\":\"1349\",\"type\":\"panel.models.markup.HTML\"},{\"attributes\":{\"children\":[{\"id\":\"1371\"},{\"id\":\"1372\"},{\"id\":\"1373\"}],\"margin\":[0,0,0,0],\"name\":\"Column00117\",\"sizing_mode\":\"stretch_both\"},\"id\":\"1370\",\"type\":\"Column\"},{\"attributes\":{\"disabled\":true,\"icon\":null,\"label\":\"\\u25c0\",\"margin\":[5,10,0,0],\"sizing_mode\":\"stretch_width\",\"subscribed_events\":[\"button_click\"],\"width\":25},\"id\":\"1352\",\"type\":\"Button\"},{\"attributes\":{\"children\":[{\"id\":\"1349\"},{\"id\":\"1350\"}],\"margin\":[0,0,0,0],\"name\":\"Column00207\",\"sizing_mode\":\"stretch_width\"},\"id\":\"1348\",\"type\":\"Column\"},{\"attributes\":{\"margin\":[5,5,5,5],\"name\":\"VSpacer00120\",\"sizing_mode\":\"stretch_height\"},\"id\":\"1369\",\"type\":\"Spacer\"},{\"attributes\":{\"margin\":[0,0,0,0],\"options\":[\"hosted_app.ipynb\"],\"size\":10,\"sizing_mode\":\"stretch_both\"},\"id\":\"1373\",\"type\":\"MultiSelect\"},{\"attributes\":{\"icon\":null,\"label\":\">>\",\"margin\":[5,10,5,10],\"sizing_mode\":\"stretch_width\",\"subscribed_events\":[\"button_click\"],\"width\":50},\"id\":\"1367\",\"type\":\"Button\"},{\"attributes\":{\"margin\":[5,10,5,10],\"max_length\":5000,\"sizing_mode\":\"stretch_width\",\"value\":\"C:\\\\Users\\\\dinar\\\\Desktop\\\\gsoc\\\\app_templates\",\"value_input\":\"C:\\\\Users\\\\dinar\\\\Desktop\\\\gsoc\",\"width_policy\":\"max\"},\"id\":\"1355\",\"type\":\"TextInput\"},{\"attributes\":{\"disabled\":true,\"icon\":null,\"label\":\"\\u25b6\",\"margin\":[5,10,5,10],\"sizing_mode\":\"stretch_width\",\"subscribed_events\":[\"button_click\"],\"width\":25},\"id\":\"1353\",\"type\":\"Button\"},{\"attributes\":{\"children\":[{\"id\":\"1352\"},{\"id\":\"1353\"},{\"id\":\"1354\"},{\"id\":\"1355\"},{\"id\":\"1356\"},{\"id\":\"1357\"}],\"margin\":[0,0,0,0],\"name\":\"Row00128\",\"sizing_mode\":\"stretch_width\",\"width_policy\":\"max\"},\"id\":\"1351\",\"type\":\"Row\"},{\"attributes\":{\"css_classes\":[\"markdown\"],\"margin\":[0,0,0,0],\"name\":\"Markdown00132\",\"sizing_mode\":\"stretch_width\",\"text\":\"&lt;h3&gt;File Browser&lt;/h3&gt;\"},\"id\":\"1361\",\"type\":\"panel.models.markup.HTML\"},{\"attributes\":{\"disabled\":true,\"icon\":null,\"label\":\"\\u2b07\",\"margin\":[5,10,0,0],\"sizing_mode\":\"stretch_width\",\"subscribed_events\":[\"button_click\"],\"width\":25},\"id\":\"1356\",\"type\":\"Button\"},{\"attributes\":{\"icon\":null,\"label\":\"\\u21bb\",\"margin\":[5,15,0,10],\"sizing_mode\":\"stretch_width\",\"subscribed_events\":[\"button_click\"],\"width\":25},\"id\":\"1357\",\"type\":\"Button\"},{\"attributes\":{\"children\":[{\"id\":\"1361\"},{\"id\":\"1362\"},{\"id\":\"1363\"}],\"margin\":[0,0,0,0],\"name\":\"Column00116\",\"sizing_mode\":\"stretch_both\"},\"id\":\"1360\",\"type\":\"Column\"},{\"attributes\":{\"client_comm_id\":\"fd2c46b9dbb544ecb8738c01f5d56ce8\",\"comm_id\":\"ca8897fc5fc24570b1c15089f79decb0\",\"plot_id\":\"1348\"},\"id\":\"1374\",\"type\":\"panel.models.comm_manager.CommManager\"},{\"attributes\":{\"css_classes\":[\"markdown\"],\"margin\":[0,0,0,0],\"name\":\"Markdown00130\",\"sizing_mode\":\"stretch_width\",\"text\":\"&lt;h3&gt;Selected files&lt;/h3&gt;\"},\"id\":\"1371\",\"type\":\"panel.models.markup.HTML\"},{\"attributes\":{\"children\":[{\"id\":\"1360\"},{\"id\":\"1364\"},{\"id\":\"1370\"}],\"margin\":[0,0,0,0],\"name\":\"Row00108\",\"sizing_mode\":\"stretch_both\",\"width\":600},\"id\":\"1359\",\"type\":\"Row\"},{\"attributes\":{\"margin\":[0,0,0,0],\"options\":[\"incf_app.ipynb\",\"local_app.ipynb\"],\"size\":10,\"sizing_mode\":\"stretch_both\"},\"id\":\"1363\",\"type\":\"MultiSelect\"},{\"attributes\":{\"margin\":[0,0,10,0],\"max_length\":5000,\"placeholder\":\"Filter available options\",\"sizing_mode\":\"stretch_width\",\"width_policy\":\"max\"},\"id\":\"1362\",\"type\":\"TextInput\"},{\"attributes\":{\"children\":[{\"id\":\"1367\"},{\"id\":\"1368\"}],\"margin\":[0,5,0,5],\"name\":\"Column00118\",\"sizing_mode\":\"stretch_width\"},\"id\":\"1366\",\"type\":\"Column\"},{\"attributes\":{\"children\":[{\"id\":\"1351\"},{\"id\":\"1358\"},{\"id\":\"1359\"}],\"margin\":[5,10,20,10],\"name\":\"Column00106\",\"sizing_mode\":\"stretch_width\"},\"id\":\"1350\",\"type\":\"Column\"},{\"attributes\":{\"children\":[{\"id\":\"1365\"},{\"id\":\"1366\"},{\"id\":\"1369\"}],\"margin\":[0,0,0,0],\"name\":\"Column00121\",\"sizing_mode\":\"stretch_width\"},\"id\":\"1364\",\"type\":\"Column\"},{\"attributes\":{\"disabled\":true,\"icon\":null,\"label\":\"\\u2b06\",\"margin\":[5,10,5,10],\"sizing_mode\":\"stretch_width\",\"subscribed_events\":[\"button_click\"],\"width\":25},\"id\":\"1354\",\"type\":\"Button\"},{\"attributes\":{\"margin\":[5,5,5,5],\"name\":\"VSpacer00119\",\"sizing_mode\":\"stretch_height\"},\"id\":\"1365\",\"type\":\"Spacer\"},{\"attributes\":{\"icon\":null,\"label\":\"<<\",\"margin\":[5,10,5,10],\"sizing_mode\":\"stretch_width\",\"subscribed_events\":[\"button_click\"],\"width\":50},\"id\":\"1368\",\"type\":\"Button\"}],\"root_ids\":[\"1348\",\"1374\"]},\"title\":\"Bokeh Application\",\"version\":\"2.4.3\"}};\n",
       "    var render_items = [{\"docid\":\"644f3d7f-dcb1-482a-97ce-db2ca9808d10\",\"root_ids\":[\"1348\"],\"roots\":{\"1348\":\"8ec41ffa-2850-488c-b780-32e76d548907\"}}];\n",
       "    root.Bokeh.embed.embed_items_notebook(docs_json, render_items);\n",
       "  }\n",
       "  if (root.Bokeh !== undefined && root.Bokeh.Panel !== undefined && ( root['vega'] !== undefined)) {\n",
       "    embed_document(root);\n",
       "  } else {\n",
       "    var attempts = 0;\n",
       "    var timer = setInterval(function(root) {\n",
       "      if (root.Bokeh !== undefined && root.Bokeh.Panel !== undefined && (root['vega'] !== undefined)) {\n",
       "        clearInterval(timer);\n",
       "        embed_document(root);\n",
       "      } else if (document.readyState == \"complete\") {\n",
       "        attempts++;\n",
       "        if (attempts > 200) {\n",
       "          clearInterval(timer);\n",
       "          console.log(\"Bokeh: ERROR: Unable to run BokehJS code because BokehJS library is missing\");\n",
       "        }\n",
       "      }\n",
       "    }, 25, root)\n",
       "  }\n",
       "})(window);</script>"
      ],
      "text/plain": [
       "Column(sizing_mode='stretch_width')\n",
       "    [0] Markdown(str, sizing_mode='stretch_width')\n",
       "    [1] FileSelector(sizing_mode='stretch_width', value=['C:\\\\Users\\\\dinar\\\\Deskto...])"
      ]
     },
     "execution_count": 10,
     "metadata": {
      "application/vnd.holoviews_exec.v0+json": {
       "id": "1348"
      }
     },
     "output_type": "execute_result"
    }
   ],
   "source": [
    "file_selector = pn.pane.Markdown(\"\"\"\n",
    "### Select the folder\n",
    "We support .mat|.txt|.dcm|.eeg|.py|.img|.zip file extensions. This function will not upload any \n",
    "folders to the app. Instead, it will automatically select and show the files that pass the accepted file extension\n",
    "threshold. There is no file size limit.    \n",
    "\"\"\"\n",
    ")\n",
    "\n",
    "main_area = pn.Column(\n",
    "    file_selector,\n",
    "    change_path\n",
    ")\n",
    "\n",
    "main_area"
   ]
  },
  {
   "cell_type": "code",
   "execution_count": 11,
   "id": "58717f1e",
   "metadata": {},
   "outputs": [
    {
     "data": {},
     "metadata": {},
     "output_type": "display_data"
    },
    {
     "data": {
      "application/vnd.holoviews_exec.v0+json": "",
      "text/html": [
       "<div id='1375'>\n",
       "  <div class=\"bk-root\" id=\"449a562e-ff19-4efe-8fec-d71de12c9d5a\" data-root-id=\"1375\"></div>\n",
       "</div>\n",
       "<script type=\"application/javascript\">(function(root) {\n",
       "  function embed_document(root) {\n",
       "    var docs_json = {\"e836fe7c-b018-4e5a-a12b-17723dac6844\":{\"defs\":[{\"extends\":null,\"module\":null,\"name\":\"ReactiveHTML1\",\"overrides\":[],\"properties\":[]},{\"extends\":null,\"module\":null,\"name\":\"FlexBox1\",\"overrides\":[],\"properties\":[{\"default\":\"flex-start\",\"kind\":null,\"name\":\"align_content\"},{\"default\":\"flex-start\",\"kind\":null,\"name\":\"align_items\"},{\"default\":\"row\",\"kind\":null,\"name\":\"flex_direction\"},{\"default\":\"wrap\",\"kind\":null,\"name\":\"flex_wrap\"},{\"default\":\"flex-start\",\"kind\":null,\"name\":\"justify_content\"}]},{\"extends\":null,\"module\":null,\"name\":\"GridStack1\",\"overrides\":[],\"properties\":[{\"default\":\"warn\",\"kind\":null,\"name\":\"mode\"},{\"default\":null,\"kind\":null,\"name\":\"ncols\"},{\"default\":null,\"kind\":null,\"name\":\"nrows\"},{\"default\":true,\"kind\":null,\"name\":\"allow_resize\"},{\"default\":true,\"kind\":null,\"name\":\"allow_drag\"},{\"default\":[],\"kind\":null,\"name\":\"state\"}]},{\"extends\":null,\"module\":null,\"name\":\"click1\",\"overrides\":[],\"properties\":[{\"default\":\"\",\"kind\":null,\"name\":\"terminal_output\"},{\"default\":\"\",\"kind\":null,\"name\":\"debug_name\"},{\"default\":0,\"kind\":null,\"name\":\"clears\"}]},{\"extends\":null,\"module\":null,\"name\":\"NotificationAreaBase1\",\"overrides\":[],\"properties\":[{\"default\":\"bottom-right\",\"kind\":null,\"name\":\"position\"},{\"default\":0,\"kind\":null,\"name\":\"_clear\"}]},{\"extends\":null,\"module\":null,\"name\":\"NotificationArea1\",\"overrides\":[],\"properties\":[{\"default\":[],\"kind\":null,\"name\":\"notifications\"},{\"default\":\"bottom-right\",\"kind\":null,\"name\":\"position\"},{\"default\":0,\"kind\":null,\"name\":\"_clear\"},{\"default\":[{\"background\":\"#ffc107\",\"icon\":{\"className\":\"fas fa-exclamation-triangle\",\"color\":\"white\",\"tagName\":\"i\"},\"type\":\"warning\"},{\"background\":\"#007bff\",\"icon\":{\"className\":\"fas fa-info-circle\",\"color\":\"white\",\"tagName\":\"i\"},\"type\":\"info\"}],\"kind\":null,\"name\":\"types\"}]},{\"extends\":null,\"module\":null,\"name\":\"Notification\",\"overrides\":[],\"properties\":[{\"default\":null,\"kind\":null,\"name\":\"background\"},{\"default\":3000,\"kind\":null,\"name\":\"duration\"},{\"default\":null,\"kind\":null,\"name\":\"icon\"},{\"default\":\"\",\"kind\":null,\"name\":\"message\"},{\"default\":null,\"kind\":null,\"name\":\"notification_type\"},{\"default\":false,\"kind\":null,\"name\":\"_destroyed\"}]},{\"extends\":null,\"module\":null,\"name\":\"TemplateActions1\",\"overrides\":[],\"properties\":[{\"default\":0,\"kind\":null,\"name\":\"open_modal\"},{\"default\":0,\"kind\":null,\"name\":\"close_modal\"}]},{\"extends\":null,\"module\":null,\"name\":\"MaterialTemplateActions1\",\"overrides\":[],\"properties\":[{\"default\":0,\"kind\":null,\"name\":\"open_modal\"},{\"default\":0,\"kind\":null,\"name\":\"close_modal\"}]}],\"roots\":{\"references\":[{\"attributes\":{\"css_classes\":[\"markdown\"],\"margin\":[5,5,5,5],\"name\":\"Markdown00210\",\"sizing_mode\":\"stretch_width\",\"text\":\"&lt;h3&gt;Welcome!&lt;/h3&gt;\\n&lt;p&gt;This is a placeholder for the uploaded &amp;amp; transformed files. Prior to downloading the processed files, \\nyou can rename, open, and visualize the results. Visualizations will be available in the tab under &amp;ldquo;Visualize Data&amp;rdquo;. There&amp;rsquo;s \\nextra space for new ideas. Of course, we can keep expanding them or even make them closeable. &lt;/p&gt;\\n&lt;hr&gt;\\n&lt;p&gt;For now, the editor below lets us change the names on the fly. You can click on any name below &amp;amp; make your changes.\\nI&amp;rsquo;m planning on showing the rendered/processed file structure in a tree structure. For example, if there are TSV files, we can\\nstore them in an allocated folder:&lt;/p&gt;\\n&lt;div class=&quot;codehilite&quot;&gt;&lt;pre&gt;&lt;span&gt;&lt;/span&gt;&lt;code&gt;tsv/\\n    example1.tsv\\n    example2.tsv\\njson/\\n    example1.json\\n    example2.json\\n&lt;/code&gt;&lt;/pre&gt;&lt;/div&gt;\"},\"id\":\"1375\",\"type\":\"panel.models.markup.HTML\"},{\"attributes\":{\"client_comm_id\":\"aaf2627b96af4cc2a3c6ea6b11542c17\",\"comm_id\":\"8790a551c44841b4bd978207b0ef6165\",\"plot_id\":\"1375\"},\"id\":\"1376\",\"type\":\"panel.models.comm_manager.CommManager\"}],\"root_ids\":[\"1375\",\"1376\"]},\"title\":\"Bokeh Application\",\"version\":\"2.4.3\"}};\n",
       "    var render_items = [{\"docid\":\"e836fe7c-b018-4e5a-a12b-17723dac6844\",\"root_ids\":[\"1375\"],\"roots\":{\"1375\":\"449a562e-ff19-4efe-8fec-d71de12c9d5a\"}}];\n",
       "    root.Bokeh.embed.embed_items_notebook(docs_json, render_items);\n",
       "  }\n",
       "  if (root.Bokeh !== undefined && root.Bokeh.Panel !== undefined && ( root['vega'] !== undefined)) {\n",
       "    embed_document(root);\n",
       "  } else {\n",
       "    var attempts = 0;\n",
       "    var timer = setInterval(function(root) {\n",
       "      if (root.Bokeh !== undefined && root.Bokeh.Panel !== undefined && (root['vega'] !== undefined)) {\n",
       "        clearInterval(timer);\n",
       "        embed_document(root);\n",
       "      } else if (document.readyState == \"complete\") {\n",
       "        attempts++;\n",
       "        if (attempts > 200) {\n",
       "          clearInterval(timer);\n",
       "          console.log(\"Bokeh: ERROR: Unable to run BokehJS code because BokehJS library is missing\");\n",
       "        }\n",
       "      }\n",
       "    }, 25, root)\n",
       "  }\n",
       "})(window);</script>"
      ],
      "text/plain": [
       "Markdown(str, sizing_mode='stretch_width')"
      ]
     },
     "execution_count": 11,
     "metadata": {
      "application/vnd.holoviews_exec.v0+json": {
       "id": "1375"
      }
     },
     "output_type": "execute_result"
    }
   ],
   "source": [
    "# descriptor for JSONEditor usage\n",
    "markdown = pn.pane.Markdown(\"\"\"\n",
    "### Welcome!\n",
    "This is a placeholder for the uploaded & transformed files. Prior to downloading the processed files, \n",
    "you can rename, open, and visualize the results. Visualizations will be available in the tab under \"Visualize Data\". There's \n",
    "extra space for new ideas. Of course, we can keep expanding them or even make them closeable. \n",
    "\n",
    "---\n",
    "\n",
    "For now, the editor below lets us change the names on the fly. You can click on any name below & make your changes.\n",
    "I'm planning on showing the rendered/processed file structure in a tree structure. For example, if there are TSV files, we can\n",
    "store them in an allocated folder:\n",
    "\n",
    "```\n",
    "tsv/\n",
    "    example1.tsv\n",
    "    example2.tsv\n",
    "json/\n",
    "    example1.json\n",
    "    example2.json\n",
    "\n",
    "```\n",
    "\n",
    "\"\"\"\n",
    ")\n",
    "\n",
    "json_editor = pn.widgets.JSONEditor(\n",
    "    schema={\n",
    "      \"title\": \"Files structure\",\n",
    "      \"type\": \"object\",\n",
    "      \"properties\": {\n",
    "        \"name\": {\n",
    "          \"type\": \"string\",\n",
    "          \"description\": \"filename\"\n",
    "        },\n",
    "        \"name2\": {\n",
    "          \"type\": \"string\",\n",
    "          \"description\": \"filename\"\n",
    "        },\n",
    "        \"name3\": {\n",
    "          \"type\": \"string\",\n",
    "          \"description\": \"filename\",\n",
    "        }\n",
    "      }\n",
    "    },\n",
    "    value={\n",
    "        'name':  'filename',\n",
    "        'name2': 'filename',\n",
    "        'name3': 'filename'\n",
    "    }, margin=(10, 50, 10, 50))\n",
    "\n",
    "markdown"
   ]
  },
  {
   "cell_type": "code",
   "execution_count": 12,
   "id": "bfd0e669",
   "metadata": {},
   "outputs": [
    {
     "data": {},
     "metadata": {},
     "output_type": "display_data"
    },
    {
     "data": {
      "application/vnd.holoviews_exec.v0+json": "",
      "text/html": [
       "<div id='1377'>\n",
       "  <div class=\"bk-root\" id=\"64ab174a-3796-4566-abc6-afe502d52a70\" data-root-id=\"1377\"></div>\n",
       "</div>\n",
       "<script type=\"application/javascript\">(function(root) {\n",
       "  function embed_document(root) {\n",
       "    var docs_json = {\"36d92bac-67b7-441b-9fc0-f2ed755b6555\":{\"defs\":[{\"extends\":null,\"module\":null,\"name\":\"ReactiveHTML1\",\"overrides\":[],\"properties\":[]},{\"extends\":null,\"module\":null,\"name\":\"FlexBox1\",\"overrides\":[],\"properties\":[{\"default\":\"flex-start\",\"kind\":null,\"name\":\"align_content\"},{\"default\":\"flex-start\",\"kind\":null,\"name\":\"align_items\"},{\"default\":\"row\",\"kind\":null,\"name\":\"flex_direction\"},{\"default\":\"wrap\",\"kind\":null,\"name\":\"flex_wrap\"},{\"default\":\"flex-start\",\"kind\":null,\"name\":\"justify_content\"}]},{\"extends\":null,\"module\":null,\"name\":\"GridStack1\",\"overrides\":[],\"properties\":[{\"default\":\"warn\",\"kind\":null,\"name\":\"mode\"},{\"default\":null,\"kind\":null,\"name\":\"ncols\"},{\"default\":null,\"kind\":null,\"name\":\"nrows\"},{\"default\":true,\"kind\":null,\"name\":\"allow_resize\"},{\"default\":true,\"kind\":null,\"name\":\"allow_drag\"},{\"default\":[],\"kind\":null,\"name\":\"state\"}]},{\"extends\":null,\"module\":null,\"name\":\"click1\",\"overrides\":[],\"properties\":[{\"default\":\"\",\"kind\":null,\"name\":\"terminal_output\"},{\"default\":\"\",\"kind\":null,\"name\":\"debug_name\"},{\"default\":0,\"kind\":null,\"name\":\"clears\"}]},{\"extends\":null,\"module\":null,\"name\":\"NotificationAreaBase1\",\"overrides\":[],\"properties\":[{\"default\":\"bottom-right\",\"kind\":null,\"name\":\"position\"},{\"default\":0,\"kind\":null,\"name\":\"_clear\"}]},{\"extends\":null,\"module\":null,\"name\":\"NotificationArea1\",\"overrides\":[],\"properties\":[{\"default\":[],\"kind\":null,\"name\":\"notifications\"},{\"default\":\"bottom-right\",\"kind\":null,\"name\":\"position\"},{\"default\":0,\"kind\":null,\"name\":\"_clear\"},{\"default\":[{\"background\":\"#ffc107\",\"icon\":{\"className\":\"fas fa-exclamation-triangle\",\"color\":\"white\",\"tagName\":\"i\"},\"type\":\"warning\"},{\"background\":\"#007bff\",\"icon\":{\"className\":\"fas fa-info-circle\",\"color\":\"white\",\"tagName\":\"i\"},\"type\":\"info\"}],\"kind\":null,\"name\":\"types\"}]},{\"extends\":null,\"module\":null,\"name\":\"Notification\",\"overrides\":[],\"properties\":[{\"default\":null,\"kind\":null,\"name\":\"background\"},{\"default\":3000,\"kind\":null,\"name\":\"duration\"},{\"default\":null,\"kind\":null,\"name\":\"icon\"},{\"default\":\"\",\"kind\":null,\"name\":\"message\"},{\"default\":null,\"kind\":null,\"name\":\"notification_type\"},{\"default\":false,\"kind\":null,\"name\":\"_destroyed\"}]},{\"extends\":null,\"module\":null,\"name\":\"TemplateActions1\",\"overrides\":[],\"properties\":[{\"default\":0,\"kind\":null,\"name\":\"open_modal\"},{\"default\":0,\"kind\":null,\"name\":\"close_modal\"}]},{\"extends\":null,\"module\":null,\"name\":\"MaterialTemplateActions1\",\"overrides\":[],\"properties\":[{\"default\":0,\"kind\":null,\"name\":\"open_modal\"},{\"default\":0,\"kind\":null,\"name\":\"close_modal\"}]}],\"roots\":{\"references\":[{\"attributes\":{\"child\":{\"id\":\"1415\"},\"name\":\"Column00217\",\"title\":\"Extra Space\"},\"id\":\"1418\",\"type\":\"Panel\"},{\"attributes\":{\"icon\":null,\"label\":\"\\u21bb\",\"margin\":[5,15,0,10],\"sizing_mode\":\"stretch_width\",\"subscribed_events\":[\"button_click\"],\"width\":25},\"id\":\"1387\",\"type\":\"Button\"},{\"attributes\":{\"data\":{\"name\":\"filename\",\"name2\":\"filename\",\"name3\":\"filename\"},\"margin\":[10,50,10,50],\"name\":\"\",\"schema\":{\"properties\":{\"name\":{\"description\":\"filename\",\"type\":\"string\"},\"name2\":{\"description\":\"filename\",\"type\":\"string\"},\"name3\":{\"description\":\"filename\",\"type\":\"string\"}},\"title\":\"Files structure\",\"type\":\"object\"},\"sizing_mode\":\"stretch_width\"},\"id\":\"1411\",\"type\":\"panel.models.json_editor.JSONEditor\"},{\"attributes\":{\"client_comm_id\":\"497debd3c0104ba7a95905d469769050\",\"comm_id\":\"753d0b4d5b4548868674be586d2f797b\",\"plot_id\":\"1377\"},\"id\":\"1421\",\"type\":\"panel.models.comm_manager.CommManager\"},{\"attributes\":{\"children\":[{\"id\":\"1410\"},{\"id\":\"1411\"}],\"margin\":[0,0,0,0],\"name\":\"Column00216\",\"sizing_mode\":\"stretch_width\"},\"id\":\"1409\",\"type\":\"Column\"},{\"attributes\":{\"margin\":[0,0,10,0],\"max_length\":5000,\"placeholder\":\"Filter available options\",\"sizing_mode\":\"stretch_width\",\"width_policy\":\"max\"},\"id\":\"1392\",\"type\":\"TextInput\"},{\"attributes\":{\"children\":[{\"id\":\"1390\"},{\"id\":\"1394\"},{\"id\":\"1400\"}],\"margin\":[0,0,0,0],\"name\":\"Row00108\",\"sizing_mode\":\"stretch_both\",\"width\":600},\"id\":\"1389\",\"type\":\"Row\"},{\"attributes\":{\"children\":[{\"id\":\"1406\"},{\"id\":\"1407\"}],\"margin\":[0,0,0,0],\"name\":\"Column00215\",\"sizing_mode\":\"stretch_width\"},\"id\":\"1405\",\"type\":\"Column\"},{\"attributes\":{\"css_classes\":[\"markdown\"],\"margin\":[5,5,5,5],\"name\":\"Markdown00210\",\"sizing_mode\":\"stretch_width\",\"text\":\"&lt;h3&gt;Welcome!&lt;/h3&gt;\\n&lt;p&gt;This is a placeholder for the uploaded &amp;amp; transformed files. Prior to downloading the processed files, \\nyou can rename, open, and visualize the results. Visualizations will be available in the tab under &amp;ldquo;Visualize Data&amp;rdquo;. There&amp;rsquo;s \\nextra space for new ideas. Of course, we can keep expanding them or even make them closeable. &lt;/p&gt;\\n&lt;hr&gt;\\n&lt;p&gt;For now, the editor below lets us change the names on the fly. You can click on any name below &amp;amp; make your changes.\\nI&amp;rsquo;m planning on showing the rendered/processed file structure in a tree structure. For example, if there are TSV files, we can\\nstore them in an allocated folder:&lt;/p&gt;\\n&lt;div class=&quot;codehilite&quot;&gt;&lt;pre&gt;&lt;span&gt;&lt;/span&gt;&lt;code&gt;tsv/\\n    example1.tsv\\n    example2.tsv\\njson/\\n    example1.json\\n    example2.json\\n&lt;/code&gt;&lt;/pre&gt;&lt;/div&gt;\"},\"id\":\"1410\",\"type\":\"panel.models.markup.HTML\"},{\"attributes\":{\"margin\":[0,0,10,0],\"max_length\":5000,\"placeholder\":\"Filter selected options\",\"sizing_mode\":\"stretch_width\",\"width_policy\":\"max\"},\"id\":\"1402\",\"type\":\"TextInput\"},{\"attributes\":{\"margin\":[0,0,0,0],\"sizing_mode\":\"stretch_width\",\"tabs\":[{\"id\":\"1404\"},{\"id\":\"1408\"},{\"id\":\"1412\"},{\"id\":\"1414\"},{\"id\":\"1418\"}]},\"id\":\"1377\",\"type\":\"panel.models.tabs.Tabs\"},{\"attributes\":{\"args\":{\"bidirectional\":true,\"properties\":{\"readonly\":\"disabled\"},\"source\":{\"id\":\"1413\"},\"target\":{\"id\":\"1413\"}},\"code\":\"\\n    var value = source['readonly'];\\n    value = value;\\n    value = value;\\n    try {\\n      var property = target.properties['disabled'];\\n      if (property !== undefined) { property.validate(value); }\\n    } catch(err) {\\n      console.log('WARNING: Could not set disabled on target, raised error: ' + err);\\n      return;\\n    }\\n    try {\\n      target['disabled'] = value;\\n    } catch(err) {\\n      console.log(err)\\n    }\\n    \",\"tags\":[[1771935607648,[null,\"readonly\"],[null,\"disabled\"]]]},\"id\":\"1419\",\"type\":\"CustomJS\"},{\"attributes\":{\"margin\":[5,10,5,10],\"max_length\":5000,\"sizing_mode\":\"stretch_width\",\"value\":\"C:\\\\Users\\\\dinar\\\\Desktop\\\\gsoc\\\\app_templates\",\"value_input\":\"C:\\\\Users\\\\dinar\\\\Desktop\\\\gsoc\",\"width_policy\":\"max\"},\"id\":\"1385\",\"type\":\"TextInput\"},{\"attributes\":{\"margin\":[5,5,5,5],\"name\":\"VSpacer00119\",\"sizing_mode\":\"stretch_height\"},\"id\":\"1395\",\"type\":\"Spacer\"},{\"attributes\":{\"disabled\":true,\"icon\":null,\"label\":\"\\u25b6\",\"margin\":[5,10,5,10],\"sizing_mode\":\"stretch_width\",\"subscribed_events\":[\"button_click\"],\"width\":25},\"id\":\"1383\",\"type\":\"Button\"},{\"attributes\":{\"disabled\":true,\"icon\":null,\"label\":\"\\u2b06\",\"margin\":[5,10,5,10],\"sizing_mode\":\"stretch_width\",\"subscribed_events\":[\"button_click\"],\"width\":25},\"id\":\"1384\",\"type\":\"Button\"},{\"attributes\":{\"disabled\":true,\"icon\":null,\"label\":\"\\u2b07\",\"margin\":[5,10,0,0],\"sizing_mode\":\"stretch_width\",\"subscribed_events\":[\"button_click\"],\"width\":25},\"id\":\"1386\",\"type\":\"Button\"},{\"attributes\":{\"code\":\"slider = pn.widgets.IntSlider(start=0, end=10)\\n\\ndef slideshow(index):\\n    url = f\\\"https://picsum.photos/800/300?image={index}\\\"\\n    return pn.pane.JPG(url)\\n\\noutput = pn.bind(slideshow, slider)\\n\\napp = pn.Column(slider, output)\",\"disabled\":true,\"filename\":\"\",\"height\":200,\"js_property_callbacks\":{\"change:disabled\":[{\"id\":\"1420\"}],\"change:readonly\":[{\"id\":\"1419\"}]},\"language\":\"python\",\"margin\":[5,10,5,10],\"readonly\":true,\"sizing_mode\":\"fixed\",\"theme\":\"monokai\",\"width\":800},\"id\":\"1413\",\"type\":\"panel.models.ace.AcePlot\"},{\"attributes\":{\"margin\":[0,0,0,0],\"options\":[\"incf_app.ipynb\",\"local_app.ipynb\"],\"size\":10,\"sizing_mode\":\"stretch_both\"},\"id\":\"1393\",\"type\":\"MultiSelect\"},{\"attributes\":{\"child\":{\"id\":\"1405\"},\"name\":\"Column00215\",\"title\":\"Interactive Files\"},\"id\":\"1408\",\"type\":\"Panel\"},{\"attributes\":{\"css_classes\":[\"markdown\"],\"margin\":[0,0,0,0],\"name\":\"Markdown00132\",\"sizing_mode\":\"stretch_width\",\"text\":\"&lt;h3&gt;File Browser&lt;/h3&gt;\"},\"id\":\"1391\",\"type\":\"panel.models.markup.HTML\"},{\"attributes\":{\"children\":[{\"id\":\"1391\"},{\"id\":\"1392\"},{\"id\":\"1393\"}],\"margin\":[0,0,0,0],\"name\":\"Column00116\",\"sizing_mode\":\"stretch_both\"},\"id\":\"1390\",\"type\":\"Column\"},{\"attributes\":{\"args\":{\"bidirectional\":true,\"properties\":{\"readonly\":\"disabled\"},\"source\":{\"id\":\"1413\"},\"target\":{\"id\":\"1413\"}},\"code\":\"\\n    var value = source['disabled'];\\n    value = value;\\n    value = value;\\n    try {\\n      var property = target.properties['readonly'];\\n      if (property !== undefined) { property.validate(value); }\\n    } catch(err) {\\n      console.log('WARNING: Could not set readonly on target, raised error: ' + err);\\n      return;\\n    }\\n    try {\\n      target['readonly'] = value;\\n    } catch(err) {\\n      console.log(err)\\n    }\\n    \",\"tags\":[[1771935607648,[null,\"readonly\"],[null,\"disabled\"]]]},\"id\":\"1420\",\"type\":\"CustomJS\"},{\"attributes\":{\"children\":[{\"id\":\"1397\"},{\"id\":\"1398\"}],\"margin\":[0,5,0,5],\"name\":\"Column00118\",\"sizing_mode\":\"stretch_width\"},\"id\":\"1396\",\"type\":\"Column\"},{\"attributes\":{\"css_classes\":[\"markdown\"],\"margin\":[0,0,0,0],\"name\":\"Markdown00130\",\"sizing_mode\":\"stretch_width\",\"text\":\"&lt;h3&gt;Selected files&lt;/h3&gt;\"},\"id\":\"1401\",\"type\":\"panel.models.markup.HTML\"},{\"attributes\":{\"children\":[{\"id\":\"1395\"},{\"id\":\"1396\"},{\"id\":\"1399\"}],\"margin\":[0,0,0,0],\"name\":\"Column00121\",\"sizing_mode\":\"stretch_width\"},\"id\":\"1394\",\"type\":\"Column\"},{\"attributes\":{\"children\":[{\"id\":\"1379\"},{\"id\":\"1380\"}],\"margin\":[0,0,0,0],\"name\":\"Column00207\",\"sizing_mode\":\"stretch_width\"},\"id\":\"1378\",\"type\":\"Column\"},{\"attributes\":{\"icon\":null,\"label\":\"<<\",\"margin\":[5,10,5,10],\"sizing_mode\":\"stretch_width\",\"subscribed_events\":[\"button_click\"],\"width\":50},\"id\":\"1398\",\"type\":\"Button\"},{\"attributes\":{\"children\":[{\"id\":\"1401\"},{\"id\":\"1402\"},{\"id\":\"1403\"}],\"margin\":[0,0,0,0],\"name\":\"Column00117\",\"sizing_mode\":\"stretch_both\"},\"id\":\"1400\",\"type\":\"Column\"},{\"attributes\":{\"icon\":null,\"label\":\">>\",\"margin\":[5,10,5,10],\"sizing_mode\":\"stretch_width\",\"subscribed_events\":[\"button_click\"],\"width\":50},\"id\":\"1397\",\"type\":\"Button\"},{\"attributes\":{\"margin\":[0,0,0,0],\"options\":[\"hosted_app.ipynb\"],\"size\":10,\"sizing_mode\":\"stretch_both\"},\"id\":\"1403\",\"type\":\"MultiSelect\"},{\"attributes\":{\"children\":[{\"id\":\"1416\"},{\"id\":\"1417\"}],\"margin\":[0,0,0,0],\"name\":\"Column00217\",\"sizing_mode\":\"stretch_width\"},\"id\":\"1415\",\"type\":\"Column\"},{\"attributes\":{\"child\":{\"id\":\"1413\"},\"name\":\"\",\"title\":\"Update Code\"},\"id\":\"1414\",\"type\":\"Panel\"},{\"attributes\":{\"children\":[{\"id\":\"1381\"},{\"id\":\"1388\"},{\"id\":\"1389\"}],\"margin\":[5,10,20,10],\"name\":\"Column00106\",\"sizing_mode\":\"stretch_width\"},\"id\":\"1380\",\"type\":\"Column\"},{\"attributes\":{\"child\":{\"id\":\"1409\"},\"name\":\"Column00216\",\"title\":\"Visualize Data\"},\"id\":\"1412\",\"type\":\"Panel\"},{\"attributes\":{\"margin\":[0,0,0,0],\"name\":\"Divider00129\",\"sizing_mode\":\"stretch_width\",\"style\":{\"height\":\"100%\",\"width\":\"100%\"},\"text\":\"<hr style=\\\"margin: 0px\\\">\",\"width_policy\":\"fit\"},\"id\":\"1388\",\"type\":\"Div\"},{\"attributes\":{\"css_classes\":[\"markdown\"],\"margin\":[5,5,5,5],\"name\":\"Markdown00205\",\"sizing_mode\":\"stretch_width\",\"text\":\"&lt;h3&gt;Select the folder&lt;/h3&gt;\\n&lt;p&gt;We support .mat|.txt|.dcm|.eeg|.py|.img|.zip file extensions. This function will not upload any \\nfolders to the app. Instead, it will automatically select and show the files that pass the accepted file extension\\nthreshold. There is no file size limit.    &lt;/p&gt;\"},\"id\":\"1379\",\"type\":\"panel.models.markup.HTML\"},{\"attributes\":{\"disabled\":true,\"icon\":null,\"label\":\"\\u25c0\",\"margin\":[5,10,0,0],\"sizing_mode\":\"stretch_width\",\"subscribed_events\":[\"button_click\"],\"width\":25},\"id\":\"1382\",\"type\":\"Button\"},{\"attributes\":{\"margin\":[5,5,5,5],\"name\":\"VSpacer00120\",\"sizing_mode\":\"stretch_height\"},\"id\":\"1399\",\"type\":\"Spacer\"},{\"attributes\":{\"css_classes\":[\"markdown\"],\"margin\":[5,5,5,5],\"name\":\"Markdown00210\",\"sizing_mode\":\"stretch_width\",\"text\":\"&lt;h3&gt;Welcome!&lt;/h3&gt;\\n&lt;p&gt;This is a placeholder for the uploaded &amp;amp; transformed files. Prior to downloading the processed files, \\nyou can rename, open, and visualize the results. Visualizations will be available in the tab under &amp;ldquo;Visualize Data&amp;rdquo;. There&amp;rsquo;s \\nextra space for new ideas. Of course, we can keep expanding them or even make them closeable. &lt;/p&gt;\\n&lt;hr&gt;\\n&lt;p&gt;For now, the editor below lets us change the names on the fly. You can click on any name below &amp;amp; make your changes.\\nI&amp;rsquo;m planning on showing the rendered/processed file structure in a tree structure. For example, if there are TSV files, we can\\nstore them in an allocated folder:&lt;/p&gt;\\n&lt;div class=&quot;codehilite&quot;&gt;&lt;pre&gt;&lt;span&gt;&lt;/span&gt;&lt;code&gt;tsv/\\n    example1.tsv\\n    example2.tsv\\njson/\\n    example1.json\\n    example2.json\\n&lt;/code&gt;&lt;/pre&gt;&lt;/div&gt;\"},\"id\":\"1406\",\"type\":\"panel.models.markup.HTML\"},{\"attributes\":{\"child\":{\"id\":\"1378\"},\"name\":\"Column00207\",\"title\":\"File Selection\"},\"id\":\"1404\",\"type\":\"Panel\"},{\"attributes\":{\"data\":{\"name\":\"filename\",\"name2\":\"filename\",\"name3\":\"filename\"},\"margin\":[10,50,10,50],\"name\":\"\",\"schema\":{\"properties\":{\"name\":{\"description\":\"filename\",\"type\":\"string\"},\"name2\":{\"description\":\"filename\",\"type\":\"string\"},\"name3\":{\"description\":\"filename\",\"type\":\"string\"}},\"title\":\"Files structure\",\"type\":\"object\"},\"sizing_mode\":\"stretch_width\"},\"id\":\"1417\",\"type\":\"panel.models.json_editor.JSONEditor\"},{\"attributes\":{\"css_classes\":[\"markdown\"],\"margin\":[5,5,5,5],\"name\":\"Markdown00210\",\"sizing_mode\":\"stretch_width\",\"text\":\"&lt;h3&gt;Welcome!&lt;/h3&gt;\\n&lt;p&gt;This is a placeholder for the uploaded &amp;amp; transformed files. Prior to downloading the processed files, \\nyou can rename, open, and visualize the results. Visualizations will be available in the tab under &amp;ldquo;Visualize Data&amp;rdquo;. There&amp;rsquo;s \\nextra space for new ideas. Of course, we can keep expanding them or even make them closeable. &lt;/p&gt;\\n&lt;hr&gt;\\n&lt;p&gt;For now, the editor below lets us change the names on the fly. You can click on any name below &amp;amp; make your changes.\\nI&amp;rsquo;m planning on showing the rendered/processed file structure in a tree structure. For example, if there are TSV files, we can\\nstore them in an allocated folder:&lt;/p&gt;\\n&lt;div class=&quot;codehilite&quot;&gt;&lt;pre&gt;&lt;span&gt;&lt;/span&gt;&lt;code&gt;tsv/\\n    example1.tsv\\n    example2.tsv\\njson/\\n    example1.json\\n    example2.json\\n&lt;/code&gt;&lt;/pre&gt;&lt;/div&gt;\"},\"id\":\"1416\",\"type\":\"panel.models.markup.HTML\"},{\"attributes\":{\"children\":[{\"id\":\"1382\"},{\"id\":\"1383\"},{\"id\":\"1384\"},{\"id\":\"1385\"},{\"id\":\"1386\"},{\"id\":\"1387\"}],\"margin\":[0,0,0,0],\"name\":\"Row00128\",\"sizing_mode\":\"stretch_width\",\"width_policy\":\"max\"},\"id\":\"1381\",\"type\":\"Row\"},{\"attributes\":{\"data\":{\"name\":\"filename\",\"name2\":\"filename\",\"name3\":\"filename\"},\"margin\":[10,50,10,50],\"name\":\"\",\"schema\":{\"properties\":{\"name\":{\"description\":\"filename\",\"type\":\"string\"},\"name2\":{\"description\":\"filename\",\"type\":\"string\"},\"name3\":{\"description\":\"filename\",\"type\":\"string\"}},\"title\":\"Files structure\",\"type\":\"object\"},\"sizing_mode\":\"stretch_width\"},\"id\":\"1407\",\"type\":\"panel.models.json_editor.JSONEditor\"}],\"root_ids\":[\"1377\",\"1421\"]},\"title\":\"Bokeh Application\",\"version\":\"2.4.3\"}};\n",
       "    var render_items = [{\"docid\":\"36d92bac-67b7-441b-9fc0-f2ed755b6555\",\"root_ids\":[\"1377\"],\"roots\":{\"1377\":\"64ab174a-3796-4566-abc6-afe502d52a70\"}}];\n",
       "    root.Bokeh.embed.embed_items_notebook(docs_json, render_items);\n",
       "  }\n",
       "  if (root.Bokeh !== undefined && root.Bokeh.Panel !== undefined && ( root['vega'] !== undefined)) {\n",
       "    embed_document(root);\n",
       "  } else {\n",
       "    var attempts = 0;\n",
       "    var timer = setInterval(function(root) {\n",
       "      if (root.Bokeh !== undefined && root.Bokeh.Panel !== undefined && (root['vega'] !== undefined)) {\n",
       "        clearInterval(timer);\n",
       "        embed_document(root);\n",
       "      } else if (document.readyState == \"complete\") {\n",
       "        attempts++;\n",
       "        if (attempts > 200) {\n",
       "          clearInterval(timer);\n",
       "          console.log(\"Bokeh: ERROR: Unable to run BokehJS code because BokehJS library is missing\");\n",
       "        }\n",
       "      }\n",
       "    }, 25, root)\n",
       "  }\n",
       "})(window);</script>"
      ],
      "text/plain": [
       "Tabs(sizing_mode='stretch_width')\n",
       "    [0] Column(sizing_mode='stretch_width')\n",
       "        [0] Markdown(str, sizing_mode='stretch_width')\n",
       "        [1] FileSelector(sizing_mode='stretch_width', value=['C:\\\\Users\\\\dinar\\\\Deskto...])\n",
       "    [1] Column(sizing_mode='stretch_width')\n",
       "        [0] Markdown(str, sizing_mode='stretch_width')\n",
       "        [1] JSONEditor(margin=(10, 50, 10, 50), schema={'title': 'Files structure...}, sizing_mode='stretch_width', value={'name': 'filename', ...})\n",
       "    [2] Column(sizing_mode='stretch_width')\n",
       "        [0] Markdown(str, sizing_mode='stretch_width')\n",
       "        [1] JSONEditor(margin=(10, 50, 10, 50), schema={'title': 'Files structure...}, sizing_mode='stretch_width', value={'name': 'filename', ...})\n",
       "    [3] Ace(disabled=True, height=200, language='python', readonly=True, sizing_mode='fixed', theme='monokai', value='slider = pn.widgets.IntSl..., width=800)\n",
       "    [4] Column(sizing_mode='stretch_width')\n",
       "        [0] Markdown(str, sizing_mode='stretch_width')\n",
       "        [1] JSONEditor(margin=(10, 50, 10, 50), schema={'title': 'Files structure...}, sizing_mode='stretch_width', value={'name': 'filename', ...})"
      ]
     },
     "execution_count": 12,
     "metadata": {
      "application/vnd.holoviews_exec.v0+json": {
       "id": "1377"
      }
     },
     "output_type": "execute_result"
    }
   ],
   "source": [
    "main = pn.Tabs(\n",
    "    ('File Selection', main_area),\n",
    "    ('Interactive Files', pn.Column(markdown, json_editor)), \n",
    "    ('Visualize Data',    pn.Column(markdown, json_editor)),\n",
    "    ('Update Code',       ace),\n",
    "    ('Extra Space',       pn.Column(markdown, json_editor))\n",
    ")\n",
    "\n",
    "main"
   ]
  },
  {
   "cell_type": "code",
   "execution_count": 14,
   "id": "175311cd",
   "metadata": {},
   "outputs": [
    {
     "name": "stdout",
     "output_type": "stream",
     "text": [
      "Launching server at http://localhost:59301\n"
     ]
    },
    {
     "data": {
      "text/plain": [
       "<bokeh.server.server.Server at 0x19c93a56b60>"
      ]
     },
     "execution_count": 14,
     "metadata": {},
     "output_type": "execute_result"
    }
   ],
   "source": [
    "panel = pn.template.FastListTemplate(\n",
    "    title='Store | Validate | Visualize | Download',\n",
    "    site='INCF',\n",
    "    sidebar=sidebar,\n",
    "    sidebar_width=300,\n",
    "    main=main\n",
    ")\n",
    "\n",
    "pn.serve(panel)"
   ]
  },
  {
   "cell_type": "code",
   "execution_count": null,
   "id": "6df554bd",
   "metadata": {},
   "outputs": [],
   "source": []
  },
  {
   "cell_type": "code",
   "execution_count": null,
   "id": "66a02fdd",
   "metadata": {},
   "outputs": [],
   "source": []
  },
  {
   "cell_type": "markdown",
   "id": "d284161e",
   "metadata": {},
   "source": [
    "### Final version"
   ]
  },
  {
   "cell_type": "code",
   "execution_count": 51,
   "id": "866bbe78",
   "metadata": {},
   "outputs": [
    {
     "data": {},
     "metadata": {},
     "output_type": "display_data"
    },
    {
     "data": {
      "application/vnd.holoviews_exec.v0+json": "",
      "text/html": [
       "<div id='3547'>\n",
       "  <div class=\"bk-root\" id=\"66df95a7-9c07-4a83-aa60-1dd0077c95aa\" data-root-id=\"3547\"></div>\n",
       "</div>\n",
       "<script type=\"application/javascript\">(function(root) {\n",
       "  function embed_document(root) {\n",
       "    var docs_json = {\"77a44047-40c4-4627-b948-060252ebf745\":{\"defs\":[{\"extends\":null,\"module\":null,\"name\":\"ReactiveHTML1\",\"overrides\":[],\"properties\":[]},{\"extends\":null,\"module\":null,\"name\":\"FlexBox1\",\"overrides\":[],\"properties\":[{\"default\":\"flex-start\",\"kind\":null,\"name\":\"align_content\"},{\"default\":\"flex-start\",\"kind\":null,\"name\":\"align_items\"},{\"default\":\"row\",\"kind\":null,\"name\":\"flex_direction\"},{\"default\":\"wrap\",\"kind\":null,\"name\":\"flex_wrap\"},{\"default\":\"flex-start\",\"kind\":null,\"name\":\"justify_content\"}]},{\"extends\":null,\"module\":null,\"name\":\"GridStack1\",\"overrides\":[],\"properties\":[{\"default\":\"warn\",\"kind\":null,\"name\":\"mode\"},{\"default\":null,\"kind\":null,\"name\":\"ncols\"},{\"default\":null,\"kind\":null,\"name\":\"nrows\"},{\"default\":true,\"kind\":null,\"name\":\"allow_resize\"},{\"default\":true,\"kind\":null,\"name\":\"allow_drag\"},{\"default\":[],\"kind\":null,\"name\":\"state\"}]},{\"extends\":null,\"module\":null,\"name\":\"click1\",\"overrides\":[],\"properties\":[{\"default\":\"\",\"kind\":null,\"name\":\"terminal_output\"},{\"default\":\"\",\"kind\":null,\"name\":\"debug_name\"},{\"default\":0,\"kind\":null,\"name\":\"clears\"}]},{\"extends\":null,\"module\":null,\"name\":\"NotificationAreaBase1\",\"overrides\":[],\"properties\":[{\"default\":\"bottom-right\",\"kind\":null,\"name\":\"position\"},{\"default\":0,\"kind\":null,\"name\":\"_clear\"}]},{\"extends\":null,\"module\":null,\"name\":\"NotificationArea1\",\"overrides\":[],\"properties\":[{\"default\":[],\"kind\":null,\"name\":\"notifications\"},{\"default\":\"bottom-right\",\"kind\":null,\"name\":\"position\"},{\"default\":0,\"kind\":null,\"name\":\"_clear\"},{\"default\":[{\"background\":\"#ffc107\",\"icon\":{\"className\":\"fas fa-exclamation-triangle\",\"color\":\"white\",\"tagName\":\"i\"},\"type\":\"warning\"},{\"background\":\"#007bff\",\"icon\":{\"className\":\"fas fa-info-circle\",\"color\":\"white\",\"tagName\":\"i\"},\"type\":\"info\"}],\"kind\":null,\"name\":\"types\"}]},{\"extends\":null,\"module\":null,\"name\":\"Notification\",\"overrides\":[],\"properties\":[{\"default\":null,\"kind\":null,\"name\":\"background\"},{\"default\":3000,\"kind\":null,\"name\":\"duration\"},{\"default\":null,\"kind\":null,\"name\":\"icon\"},{\"default\":\"\",\"kind\":null,\"name\":\"message\"},{\"default\":null,\"kind\":null,\"name\":\"notification_type\"},{\"default\":false,\"kind\":null,\"name\":\"_destroyed\"}]},{\"extends\":null,\"module\":null,\"name\":\"TemplateActions1\",\"overrides\":[],\"properties\":[{\"default\":0,\"kind\":null,\"name\":\"open_modal\"},{\"default\":0,\"kind\":null,\"name\":\"close_modal\"}]},{\"extends\":null,\"module\":null,\"name\":\"MaterialTemplateActions1\",\"overrides\":[],\"properties\":[{\"default\":0,\"kind\":null,\"name\":\"open_modal\"},{\"default\":0,\"kind\":null,\"name\":\"close_modal\"}]}],\"roots\":{\"references\":[{\"attributes\":{\"icon\":null,\"label\":\">>\",\"margin\":[5,10,5,10],\"sizing_mode\":\"stretch_width\",\"subscribed_events\":[\"button_click\"],\"width\":50},\"id\":\"3564\",\"type\":\"Button\"},{\"attributes\":{\"margin\":[0,0,10,0],\"max_length\":5000,\"placeholder\":\"Filter available options\",\"sizing_mode\":\"stretch_width\",\"width_policy\":\"max\"},\"id\":\"3559\",\"type\":\"TextInput\"},{\"attributes\":{\"css_classes\":[\"markdown\"],\"margin\":[0,0,0,0],\"name\":\"Markdown00979\",\"sizing_mode\":\"stretch_width\",\"text\":\"&lt;h3&gt;File Browser&lt;/h3&gt;\"},\"id\":\"3558\",\"type\":\"panel.models.markup.HTML\"},{\"attributes\":{\"disabled\":true,\"icon\":null,\"label\":\"\\u2b07\",\"margin\":[5,10,0,0],\"sizing_mode\":\"stretch_width\",\"subscribed_events\":[\"button_click\"],\"width\":25},\"id\":\"3553\",\"type\":\"Button\"},{\"attributes\":{\"css_classes\":[\"markdown\"],\"margin\":[0,0,0,0],\"name\":\"Markdown00977\",\"sizing_mode\":\"stretch_width\",\"text\":\"&lt;h3&gt;Selected files&lt;/h3&gt;\"},\"id\":\"3568\",\"type\":\"panel.models.markup.HTML\"},{\"attributes\":{\"client_comm_id\":\"3dc4fb110734498b85ea747128064146\",\"comm_id\":\"63a68841a6864dc8912375280fb996d8\",\"plot_id\":\"3547\"},\"id\":\"3571\",\"type\":\"panel.models.comm_manager.CommManager\"},{\"attributes\":{\"margin\":[5,5,5,5],\"name\":\"VSpacer00967\",\"sizing_mode\":\"stretch_height\"},\"id\":\"3566\",\"type\":\"Spacer\"},{\"attributes\":{\"disabled\":true,\"icon\":null,\"label\":\"\\u2b06\",\"margin\":[5,10,5,10],\"sizing_mode\":\"stretch_width\",\"subscribed_events\":[\"button_click\"],\"width\":25},\"id\":\"3551\",\"type\":\"Button\"},{\"attributes\":{\"children\":[{\"id\":\"3568\"},{\"id\":\"3569\"},{\"id\":\"3570\"}],\"margin\":[0,0,0,0],\"name\":\"Column00964\",\"sizing_mode\":\"stretch_both\"},\"id\":\"3567\",\"type\":\"Column\"},{\"attributes\":{\"children\":[{\"id\":\"3549\"},{\"id\":\"3550\"},{\"id\":\"3551\"},{\"id\":\"3552\"},{\"id\":\"3553\"},{\"id\":\"3554\"}],\"margin\":[0,0,0,0],\"name\":\"Row00975\",\"sizing_mode\":\"stretch_width\",\"width_policy\":\"max\"},\"id\":\"3548\",\"type\":\"Row\"},{\"attributes\":{\"children\":[{\"id\":\"3558\"},{\"id\":\"3559\"},{\"id\":\"3560\"}],\"margin\":[0,0,0,0],\"name\":\"Column00963\",\"sizing_mode\":\"stretch_both\"},\"id\":\"3557\",\"type\":\"Column\"},{\"attributes\":{\"margin\":[0,0,0,0],\"options\":[\"hosted_app.ipynb\",\"incf_app.ipynb\",\"local_app.ipynb\"],\"size\":10,\"sizing_mode\":\"stretch_both\"},\"id\":\"3560\",\"type\":\"MultiSelect\"},{\"attributes\":{\"children\":[{\"id\":\"3548\"},{\"id\":\"3555\"},{\"id\":\"3556\"}],\"margin\":[5,10,20,10],\"name\":\"Column00953\",\"sizing_mode\":\"stretch_width\"},\"id\":\"3547\",\"type\":\"Column\"},{\"attributes\":{\"icon\":null,\"label\":\"\\u21bb\",\"margin\":[5,15,0,10],\"sizing_mode\":\"stretch_width\",\"subscribed_events\":[\"button_click\"],\"width\":25},\"id\":\"3554\",\"type\":\"Button\"},{\"attributes\":{\"children\":[{\"id\":\"3562\"},{\"id\":\"3563\"},{\"id\":\"3566\"}],\"margin\":[0,0,0,0],\"name\":\"Column00968\",\"sizing_mode\":\"stretch_width\"},\"id\":\"3561\",\"type\":\"Column\"},{\"attributes\":{\"children\":[{\"id\":\"3557\"},{\"id\":\"3561\"},{\"id\":\"3567\"}],\"margin\":[0,0,0,0],\"name\":\"Row00955\",\"sizing_mode\":\"stretch_both\",\"width\":600},\"id\":\"3556\",\"type\":\"Row\"},{\"attributes\":{\"icon\":null,\"label\":\"<<\",\"margin\":[5,10,5,10],\"sizing_mode\":\"stretch_width\",\"subscribed_events\":[\"button_click\"],\"width\":50},\"id\":\"3565\",\"type\":\"Button\"},{\"attributes\":{\"margin\":[5,10,5,10],\"max_length\":5000,\"sizing_mode\":\"stretch_width\",\"value\":\"C:\\\\Users\\\\dinar\\\\Desktop\\\\gsoc\\\\app_templates\",\"width_policy\":\"max\"},\"id\":\"3552\",\"type\":\"TextInput\"},{\"attributes\":{\"disabled\":true,\"margin\":[0,0,0,0],\"max_length\":5000,\"placeholder\":\"To select an item highlight it on the left and use the arrow button to move it to the right.\",\"sizing_mode\":\"stretch_both\"},\"id\":\"3570\",\"type\":\"TextAreaInput\"},{\"attributes\":{\"disabled\":true,\"icon\":null,\"label\":\"\\u25b6\",\"margin\":[5,10,5,10],\"sizing_mode\":\"stretch_width\",\"subscribed_events\":[\"button_click\"],\"width\":25},\"id\":\"3550\",\"type\":\"Button\"},{\"attributes\":{\"margin\":[5,5,5,5],\"name\":\"VSpacer00966\",\"sizing_mode\":\"stretch_height\"},\"id\":\"3562\",\"type\":\"Spacer\"},{\"attributes\":{\"children\":[{\"id\":\"3564\"},{\"id\":\"3565\"}],\"margin\":[0,5,0,5],\"name\":\"Column00965\",\"sizing_mode\":\"stretch_width\"},\"id\":\"3563\",\"type\":\"Column\"},{\"attributes\":{\"disabled\":true,\"icon\":null,\"label\":\"\\u25c0\",\"margin\":[5,10,0,0],\"sizing_mode\":\"stretch_width\",\"subscribed_events\":[\"button_click\"],\"width\":25},\"id\":\"3549\",\"type\":\"Button\"},{\"attributes\":{\"margin\":[0,0,10,0],\"max_length\":5000,\"placeholder\":\"Filter selected options\",\"sizing_mode\":\"stretch_width\",\"width_policy\":\"max\"},\"id\":\"3569\",\"type\":\"TextInput\"},{\"attributes\":{\"margin\":[0,0,0,0],\"name\":\"Divider00976\",\"sizing_mode\":\"stretch_width\",\"style\":{\"height\":\"100%\",\"width\":\"100%\"},\"text\":\"<hr style=\\\"margin: 0px\\\">\",\"width_policy\":\"fit\"},\"id\":\"3555\",\"type\":\"Div\"}],\"root_ids\":[\"3547\",\"3571\"]},\"title\":\"Bokeh Application\",\"version\":\"2.4.3\"}};\n",
       "    var render_items = [{\"docid\":\"77a44047-40c4-4627-b948-060252ebf745\",\"root_ids\":[\"3547\"],\"roots\":{\"3547\":\"66df95a7-9c07-4a83-aa60-1dd0077c95aa\"}}];\n",
       "    root.Bokeh.embed.embed_items_notebook(docs_json, render_items);\n",
       "  }\n",
       "  if (root.Bokeh !== undefined && root.Bokeh.Panel !== undefined && ( root['vega'] !== undefined)) {\n",
       "    embed_document(root);\n",
       "  } else {\n",
       "    var attempts = 0;\n",
       "    var timer = setInterval(function(root) {\n",
       "      if (root.Bokeh !== undefined && root.Bokeh.Panel !== undefined && (root['vega'] !== undefined)) {\n",
       "        clearInterval(timer);\n",
       "        embed_document(root);\n",
       "      } else if (document.readyState == \"complete\") {\n",
       "        attempts++;\n",
       "        if (attempts > 200) {\n",
       "          clearInterval(timer);\n",
       "          console.log(\"Bokeh: ERROR: Unable to run BokehJS code because BokehJS library is missing\");\n",
       "        }\n",
       "      }\n",
       "    }, 25, root)\n",
       "  }\n",
       "})(window);</script>"
      ],
      "text/plain": [
       "FileSelector(sizing_mode='stretch_width')"
      ]
     },
     "execution_count": 51,
     "metadata": {
      "application/vnd.holoviews_exec.v0+json": {
       "id": "3547"
      }
     },
     "output_type": "execute_result"
    }
   ],
   "source": [
    "change_path = pn.widgets.FileSelector(path)\n",
    "change_path"
   ]
  },
  {
   "cell_type": "code",
   "execution_count": null,
   "id": "6cf1a8ed",
   "metadata": {},
   "outputs": [],
   "source": [
    "# \n",
    "file_selector = pn.pane.Markdown(\"\"\"\n",
    "### Select the folder\n",
    "We support .h5|.mat|.txt|.dcm|.eeg|.py|.img|.zip file extensions. \n",
    "\"\"\"\n",
    ")\n",
    "\n",
    "main_area = pn.Column(\n",
    "    file_selector,\n",
    "    change_path\n",
    ")\n",
    "\n",
    "main_area"
   ]
  },
  {
   "cell_type": "code",
   "execution_count": 47,
   "id": "7cfa11c8",
   "metadata": {},
   "outputs": [
    {
     "data": {},
     "metadata": {},
     "output_type": "display_data"
    },
    {
     "data": {
      "application/vnd.holoviews_exec.v0+json": "",
      "text/html": [
       "<div id='3117'>\n",
       "  <div class=\"bk-root\" id=\"c7a0a0f4-cac2-4c20-ac8a-001da2ce777f\" data-root-id=\"3117\"></div>\n",
       "</div>\n",
       "<script type=\"application/javascript\">(function(root) {\n",
       "  function embed_document(root) {\n",
       "    var docs_json = {\"ec1a01ba-ed71-4e6d-a88d-fc5fadc0cb7f\":{\"defs\":[{\"extends\":null,\"module\":null,\"name\":\"ReactiveHTML1\",\"overrides\":[],\"properties\":[]},{\"extends\":null,\"module\":null,\"name\":\"FlexBox1\",\"overrides\":[],\"properties\":[{\"default\":\"flex-start\",\"kind\":null,\"name\":\"align_content\"},{\"default\":\"flex-start\",\"kind\":null,\"name\":\"align_items\"},{\"default\":\"row\",\"kind\":null,\"name\":\"flex_direction\"},{\"default\":\"wrap\",\"kind\":null,\"name\":\"flex_wrap\"},{\"default\":\"flex-start\",\"kind\":null,\"name\":\"justify_content\"}]},{\"extends\":null,\"module\":null,\"name\":\"GridStack1\",\"overrides\":[],\"properties\":[{\"default\":\"warn\",\"kind\":null,\"name\":\"mode\"},{\"default\":null,\"kind\":null,\"name\":\"ncols\"},{\"default\":null,\"kind\":null,\"name\":\"nrows\"},{\"default\":true,\"kind\":null,\"name\":\"allow_resize\"},{\"default\":true,\"kind\":null,\"name\":\"allow_drag\"},{\"default\":[],\"kind\":null,\"name\":\"state\"}]},{\"extends\":null,\"module\":null,\"name\":\"click1\",\"overrides\":[],\"properties\":[{\"default\":\"\",\"kind\":null,\"name\":\"terminal_output\"},{\"default\":\"\",\"kind\":null,\"name\":\"debug_name\"},{\"default\":0,\"kind\":null,\"name\":\"clears\"}]},{\"extends\":null,\"module\":null,\"name\":\"NotificationAreaBase1\",\"overrides\":[],\"properties\":[{\"default\":\"bottom-right\",\"kind\":null,\"name\":\"position\"},{\"default\":0,\"kind\":null,\"name\":\"_clear\"}]},{\"extends\":null,\"module\":null,\"name\":\"NotificationArea1\",\"overrides\":[],\"properties\":[{\"default\":[],\"kind\":null,\"name\":\"notifications\"},{\"default\":\"bottom-right\",\"kind\":null,\"name\":\"position\"},{\"default\":0,\"kind\":null,\"name\":\"_clear\"},{\"default\":[{\"background\":\"#ffc107\",\"icon\":{\"className\":\"fas fa-exclamation-triangle\",\"color\":\"white\",\"tagName\":\"i\"},\"type\":\"warning\"},{\"background\":\"#007bff\",\"icon\":{\"className\":\"fas fa-info-circle\",\"color\":\"white\",\"tagName\":\"i\"},\"type\":\"info\"}],\"kind\":null,\"name\":\"types\"}]},{\"extends\":null,\"module\":null,\"name\":\"Notification\",\"overrides\":[],\"properties\":[{\"default\":null,\"kind\":null,\"name\":\"background\"},{\"default\":3000,\"kind\":null,\"name\":\"duration\"},{\"default\":null,\"kind\":null,\"name\":\"icon\"},{\"default\":\"\",\"kind\":null,\"name\":\"message\"},{\"default\":null,\"kind\":null,\"name\":\"notification_type\"},{\"default\":false,\"kind\":null,\"name\":\"_destroyed\"}]},{\"extends\":null,\"module\":null,\"name\":\"TemplateActions1\",\"overrides\":[],\"properties\":[{\"default\":0,\"kind\":null,\"name\":\"open_modal\"},{\"default\":0,\"kind\":null,\"name\":\"close_modal\"}]},{\"extends\":null,\"module\":null,\"name\":\"MaterialTemplateActions1\",\"overrides\":[],\"properties\":[{\"default\":0,\"kind\":null,\"name\":\"open_modal\"},{\"default\":0,\"kind\":null,\"name\":\"close_modal\"}]}],\"roots\":{\"references\":[{\"attributes\":{\"children\":[{\"id\":\"3136\"},{\"id\":\"3137\"}],\"margin\":[0,5,0,5],\"name\":\"Column00860\",\"sizing_mode\":\"stretch_width\"},\"id\":\"3135\",\"type\":\"Column\"},{\"attributes\":{\"client_comm_id\":\"f7da5dcc3ccf41919facf517f4fb89ca\",\"comm_id\":\"e31e3c9c808340809fcef5be0c71277f\",\"plot_id\":\"3117\"},\"id\":\"3145\",\"type\":\"panel.models.comm_manager.CommManager\"},{\"attributes\":{\"margin\":[0,0,10,0],\"max_length\":5000,\"placeholder\":\"Filter selected options\",\"sizing_mode\":\"stretch_width\",\"width_policy\":\"max\"},\"id\":\"3141\",\"type\":\"TextInput\"},{\"attributes\":{\"children\":[{\"id\":\"3118\"},{\"id\":\"3119\"},{\"id\":\"3143\"},{\"id\":\"3144\"}],\"margin\":[0,0,0,0],\"name\":\"Column00878\",\"sizing_mode\":\"stretch_width\"},\"id\":\"3117\",\"type\":\"Column\"},{\"attributes\":{\"css_classes\":[\"markdown\"],\"margin\":[5,5,5,5],\"name\":\"Markdown00845\",\"sizing_mode\":\"stretch_width\",\"text\":\"&lt;h3&gt;Generated Folder&lt;/h3&gt;\\n&lt;div class=&quot;codehilite&quot;&gt;&lt;pre&gt;&lt;span&gt;&lt;/span&gt;&lt;code&gt;tsv/\\n    example1.tsv\\n    example2.tsv\\njson/\\n    example1.json\\n    example2.json\\n&lt;/code&gt;&lt;/pre&gt;&lt;/div&gt;\"},\"id\":\"3143\",\"type\":\"panel.models.markup.HTML\"},{\"attributes\":{\"margin\":[5,10,5,10],\"max_length\":5000,\"sizing_mode\":\"stretch_width\",\"value\":\"C:\\\\Users\\\\dinar\\\\Desktop\\\\gsoc\\\\app_templates\",\"width_policy\":\"max\"},\"id\":\"3124\",\"type\":\"TextInput\"},{\"attributes\":{\"disabled\":true,\"icon\":null,\"label\":\"\\u2b07\",\"margin\":[5,10,0,0],\"sizing_mode\":\"stretch_width\",\"subscribed_events\":[\"button_click\"],\"width\":25},\"id\":\"3125\",\"type\":\"Button\"},{\"attributes\":{\"margin\":[0,0,0,0],\"name\":\"Divider00871\",\"sizing_mode\":\"stretch_width\",\"style\":{\"height\":\"100%\",\"width\":\"100%\"},\"text\":\"<hr style=\\\"margin: 0px\\\">\",\"width_policy\":\"fit\"},\"id\":\"3127\",\"type\":\"Div\"},{\"attributes\":{\"disabled\":true,\"icon\":null,\"label\":\"\\u2b06\",\"margin\":[5,10,5,10],\"sizing_mode\":\"stretch_width\",\"subscribed_events\":[\"button_click\"],\"width\":25},\"id\":\"3123\",\"type\":\"Button\"},{\"attributes\":{\"margin\":[0,0,0,0],\"options\":[\"hosted_app.ipynb\",\"incf_app.ipynb\",\"local_app.ipynb\"],\"size\":10,\"sizing_mode\":\"stretch_both\"},\"id\":\"3132\",\"type\":\"MultiSelect\"},{\"attributes\":{\"margin\":[5,5,5,5],\"name\":\"VSpacer00862\",\"sizing_mode\":\"stretch_height\"},\"id\":\"3138\",\"type\":\"Spacer\"},{\"attributes\":{\"css_classes\":[\"markdown\"],\"margin\":[0,0,0,0],\"name\":\"Markdown00872\",\"sizing_mode\":\"stretch_width\",\"text\":\"&lt;h3&gt;Selected files&lt;/h3&gt;\"},\"id\":\"3140\",\"type\":\"panel.models.markup.HTML\"},{\"attributes\":{\"children\":[{\"id\":\"3130\"},{\"id\":\"3131\"},{\"id\":\"3132\"}],\"margin\":[0,0,0,0],\"name\":\"Column00858\",\"sizing_mode\":\"stretch_both\"},\"id\":\"3129\",\"type\":\"Column\"},{\"attributes\":{\"disabled\":true,\"icon\":null,\"label\":\"\\u25c0\",\"margin\":[5,10,0,0],\"sizing_mode\":\"stretch_width\",\"subscribed_events\":[\"button_click\"],\"width\":25},\"id\":\"3121\",\"type\":\"Button\"},{\"attributes\":{\"css_classes\":[\"markdown\"],\"margin\":[5,5,5,5],\"name\":\"Markdown00843\",\"sizing_mode\":\"stretch_width\",\"text\":\"&lt;h2&gt;Welcome!&lt;/h2&gt;\\n&lt;p&gt;Here you can select the folder(s) that you want to transform. Beware that we are using recursive walk to select all the content \\navailable in the specified folder. That means if the folder contains a sub-folder, we will transform the content if it falls\\ninto the accepted file formats.&lt;/p&gt;\\n&lt;p&gt;Below you will see the generated folder with content as specified at &lt;a href=&quot;https://docs.google.com/document/d/1NT1ERdL41oz3NibIFRyVQ2iR8xH-dKY-lRCB4eyVeRo/edit?usp=sharing&quot;&gt;BIDS Computational Model Specification&lt;/a&gt;.\\nIf you are happy with the results, press &lt;code&gt;Transform Files&lt;/code&gt; button at the bottom of the screen. We will not start generation \\nuntil you press the button below. &lt;/p&gt;\\n&lt;h3&gt;Select Folder(s)&lt;/h3&gt;\"},\"id\":\"3118\",\"type\":\"panel.models.markup.HTML\"},{\"attributes\":{\"css_classes\":[\"markdown\"],\"margin\":[0,0,0,0],\"name\":\"Markdown00874\",\"sizing_mode\":\"stretch_width\",\"text\":\"&lt;h3&gt;File Browser&lt;/h3&gt;\"},\"id\":\"3130\",\"type\":\"panel.models.markup.HTML\"},{\"attributes\":{\"icon\":null,\"label\":\"<<\",\"margin\":[5,10,5,10],\"sizing_mode\":\"stretch_width\",\"subscribed_events\":[\"button_click\"],\"width\":50},\"id\":\"3137\",\"type\":\"Button\"},{\"attributes\":{\"margin\":[5,5,5,5],\"name\":\"VSpacer00861\",\"sizing_mode\":\"stretch_height\"},\"id\":\"3134\",\"type\":\"Spacer\"},{\"attributes\":{\"disabled\":true,\"icon\":null,\"label\":\"\\u25b6\",\"margin\":[5,10,5,10],\"sizing_mode\":\"stretch_width\",\"subscribed_events\":[\"button_click\"],\"width\":25},\"id\":\"3122\",\"type\":\"Button\"},{\"attributes\":{\"margin\":[0,0,10,0],\"max_length\":5000,\"placeholder\":\"Filter available options\",\"sizing_mode\":\"stretch_width\",\"width_policy\":\"max\"},\"id\":\"3131\",\"type\":\"TextInput\"},{\"attributes\":{\"children\":[{\"id\":\"3129\"},{\"id\":\"3133\"},{\"id\":\"3139\"}],\"margin\":[0,0,0,0],\"name\":\"Row00850\",\"sizing_mode\":\"stretch_both\",\"width\":600},\"id\":\"3128\",\"type\":\"Row\"},{\"attributes\":{\"button_type\":\"primary\",\"icon\":null,\"label\":\"Transform Files\",\"margin\":[5,10,5,10],\"sizing_mode\":\"stretch_width\",\"subscribed_events\":[\"button_click\"]},\"id\":\"3144\",\"type\":\"Button\"},{\"attributes\":{\"icon\":null,\"label\":\"\\u21bb\",\"margin\":[5,15,0,10],\"sizing_mode\":\"stretch_width\",\"subscribed_events\":[\"button_click\"],\"width\":25},\"id\":\"3126\",\"type\":\"Button\"},{\"attributes\":{\"children\":[{\"id\":\"3120\"},{\"id\":\"3127\"},{\"id\":\"3128\"}],\"margin\":[5,10,20,10],\"name\":\"Column00848\",\"sizing_mode\":\"stretch_width\"},\"id\":\"3119\",\"type\":\"Column\"},{\"attributes\":{\"icon\":null,\"label\":\">>\",\"margin\":[5,10,5,10],\"sizing_mode\":\"stretch_width\",\"subscribed_events\":[\"button_click\"],\"width\":50},\"id\":\"3136\",\"type\":\"Button\"},{\"attributes\":{\"disabled\":true,\"margin\":[0,0,0,0],\"max_length\":5000,\"placeholder\":\"To select an item highlight it on the left and use the arrow button to move it to the right.\",\"sizing_mode\":\"stretch_both\"},\"id\":\"3142\",\"type\":\"TextAreaInput\"},{\"attributes\":{\"children\":[{\"id\":\"3134\"},{\"id\":\"3135\"},{\"id\":\"3138\"}],\"margin\":[0,0,0,0],\"name\":\"Column00863\",\"sizing_mode\":\"stretch_width\"},\"id\":\"3133\",\"type\":\"Column\"},{\"attributes\":{\"children\":[{\"id\":\"3140\"},{\"id\":\"3141\"},{\"id\":\"3142\"}],\"margin\":[0,0,0,0],\"name\":\"Column00859\",\"sizing_mode\":\"stretch_both\"},\"id\":\"3139\",\"type\":\"Column\"},{\"attributes\":{\"children\":[{\"id\":\"3121\"},{\"id\":\"3122\"},{\"id\":\"3123\"},{\"id\":\"3124\"},{\"id\":\"3125\"},{\"id\":\"3126\"}],\"margin\":[0,0,0,0],\"name\":\"Row00870\",\"sizing_mode\":\"stretch_width\",\"width_policy\":\"max\"},\"id\":\"3120\",\"type\":\"Row\"}],\"root_ids\":[\"3117\",\"3145\"]},\"title\":\"Bokeh Application\",\"version\":\"2.4.3\"}};\n",
       "    var render_items = [{\"docid\":\"ec1a01ba-ed71-4e6d-a88d-fc5fadc0cb7f\",\"root_ids\":[\"3117\"],\"roots\":{\"3117\":\"c7a0a0f4-cac2-4c20-ac8a-001da2ce777f\"}}];\n",
       "    root.Bokeh.embed.embed_items_notebook(docs_json, render_items);\n",
       "  }\n",
       "  if (root.Bokeh !== undefined && root.Bokeh.Panel !== undefined && ( root['vega'] !== undefined)) {\n",
       "    embed_document(root);\n",
       "  } else {\n",
       "    var attempts = 0;\n",
       "    var timer = setInterval(function(root) {\n",
       "      if (root.Bokeh !== undefined && root.Bokeh.Panel !== undefined && (root['vega'] !== undefined)) {\n",
       "        clearInterval(timer);\n",
       "        embed_document(root);\n",
       "      } else if (document.readyState == \"complete\") {\n",
       "        attempts++;\n",
       "        if (attempts > 200) {\n",
       "          clearInterval(timer);\n",
       "          console.log(\"Bokeh: ERROR: Unable to run BokehJS code because BokehJS library is missing\");\n",
       "        }\n",
       "      }\n",
       "    }, 25, root)\n",
       "  }\n",
       "})(window);</script>"
      ],
      "text/plain": [
       "Column(sizing_mode='stretch_width')\n",
       "    [0] Markdown(str, sizing_mode='stretch_width')\n",
       "    [1] FileSelector(sizing_mode='stretch_width')\n",
       "    [2] Markdown(str, sizing_mode='stretch_width')\n",
       "    [3] Button(button_type='primary', name='Transform Files', sizing_mode='stretch_width')"
      ]
     },
     "execution_count": 47,
     "metadata": {
      "application/vnd.holoviews_exec.v0+json": {
       "id": "3117"
      }
     },
     "output_type": "execute_result"
    }
   ],
   "source": [
    "# descriptor for JSONEditor usage\n",
    "markdown = pn.pane.Markdown(\"\"\"\n",
    "## Welcome!\n",
    "\n",
    "Here you can select the folder(s) that you want to transform. Beware that we are using recursive walk to select all the content \n",
    "available in the specified folder. That means if the folder contains a sub-folder, we will transform the content if it falls\n",
    "into the accepted file formats.\n",
    "\n",
    "Below you will see the generated folder with content as specified at [BIDS Computational Model Specification](https://docs.google.com/document/d/1NT1ERdL41oz3NibIFRyVQ2iR8xH-dKY-lRCB4eyVeRo/edit?usp=sharing).\n",
    "If you are happy with the results, press `Transform Files` button at the bottom of the screen. We will not start generation \n",
    "until you press the button below. \n",
    "\n",
    "### Select Folder(s)\n",
    "\"\"\"\n",
    ")\n",
    "\n",
    "\n",
    "generated_md = pn.pane.Markdown(\"\"\"\n",
    "### Generated Folder \n",
    "\n",
    "```\n",
    "tsv/\n",
    "    example1.tsv\n",
    "    example2.tsv\n",
    "json/\n",
    "    example1.json\n",
    "    example2.json\n",
    "\n",
    "```\n",
    "\"\"\")\n",
    "\n",
    "# get current path\n",
    "path = os.getcwd()\n",
    "change_path = pn.widgets.FileSelector(path)\n",
    "\n",
    "generate_btn = pn.widgets.Button(name='Transform Files', button_type='primary')\n",
    "\n",
    "main_area = pn.Column(\n",
    "                markdown,\n",
    "                change_path,\n",
    "                generated_md,\n",
    "                generate_btn\n",
    "            )\n",
    "main_area"
   ]
  },
  {
   "cell_type": "code",
   "execution_count": 54,
   "id": "b3c6c049",
   "metadata": {},
   "outputs": [
    {
     "data": {},
     "metadata": {},
     "output_type": "display_data"
    },
    {
     "data": {
      "application/vnd.holoviews_exec.v0+json": "",
      "text/html": [
       "<div id='3639'>\n",
       "  <div class=\"bk-root\" id=\"d96628e0-ea95-483e-b8a5-d6900cad6500\" data-root-id=\"3639\"></div>\n",
       "</div>\n",
       "<script type=\"application/javascript\">(function(root) {\n",
       "  function embed_document(root) {\n",
       "    var docs_json = {\"137f3056-e6e5-466b-b5c5-0aa8598c9244\":{\"defs\":[{\"extends\":null,\"module\":null,\"name\":\"ReactiveHTML1\",\"overrides\":[],\"properties\":[]},{\"extends\":null,\"module\":null,\"name\":\"FlexBox1\",\"overrides\":[],\"properties\":[{\"default\":\"flex-start\",\"kind\":null,\"name\":\"align_content\"},{\"default\":\"flex-start\",\"kind\":null,\"name\":\"align_items\"},{\"default\":\"row\",\"kind\":null,\"name\":\"flex_direction\"},{\"default\":\"wrap\",\"kind\":null,\"name\":\"flex_wrap\"},{\"default\":\"flex-start\",\"kind\":null,\"name\":\"justify_content\"}]},{\"extends\":null,\"module\":null,\"name\":\"GridStack1\",\"overrides\":[],\"properties\":[{\"default\":\"warn\",\"kind\":null,\"name\":\"mode\"},{\"default\":null,\"kind\":null,\"name\":\"ncols\"},{\"default\":null,\"kind\":null,\"name\":\"nrows\"},{\"default\":true,\"kind\":null,\"name\":\"allow_resize\"},{\"default\":true,\"kind\":null,\"name\":\"allow_drag\"},{\"default\":[],\"kind\":null,\"name\":\"state\"}]},{\"extends\":null,\"module\":null,\"name\":\"click1\",\"overrides\":[],\"properties\":[{\"default\":\"\",\"kind\":null,\"name\":\"terminal_output\"},{\"default\":\"\",\"kind\":null,\"name\":\"debug_name\"},{\"default\":0,\"kind\":null,\"name\":\"clears\"}]},{\"extends\":null,\"module\":null,\"name\":\"NotificationAreaBase1\",\"overrides\":[],\"properties\":[{\"default\":\"bottom-right\",\"kind\":null,\"name\":\"position\"},{\"default\":0,\"kind\":null,\"name\":\"_clear\"}]},{\"extends\":null,\"module\":null,\"name\":\"NotificationArea1\",\"overrides\":[],\"properties\":[{\"default\":[],\"kind\":null,\"name\":\"notifications\"},{\"default\":\"bottom-right\",\"kind\":null,\"name\":\"position\"},{\"default\":0,\"kind\":null,\"name\":\"_clear\"},{\"default\":[{\"background\":\"#ffc107\",\"icon\":{\"className\":\"fas fa-exclamation-triangle\",\"color\":\"white\",\"tagName\":\"i\"},\"type\":\"warning\"},{\"background\":\"#007bff\",\"icon\":{\"className\":\"fas fa-info-circle\",\"color\":\"white\",\"tagName\":\"i\"},\"type\":\"info\"}],\"kind\":null,\"name\":\"types\"}]},{\"extends\":null,\"module\":null,\"name\":\"Notification\",\"overrides\":[],\"properties\":[{\"default\":null,\"kind\":null,\"name\":\"background\"},{\"default\":3000,\"kind\":null,\"name\":\"duration\"},{\"default\":null,\"kind\":null,\"name\":\"icon\"},{\"default\":\"\",\"kind\":null,\"name\":\"message\"},{\"default\":null,\"kind\":null,\"name\":\"notification_type\"},{\"default\":false,\"kind\":null,\"name\":\"_destroyed\"}]},{\"extends\":null,\"module\":null,\"name\":\"TemplateActions1\",\"overrides\":[],\"properties\":[{\"default\":0,\"kind\":null,\"name\":\"open_modal\"},{\"default\":0,\"kind\":null,\"name\":\"close_modal\"}]},{\"extends\":null,\"module\":null,\"name\":\"MaterialTemplateActions1\",\"overrides\":[],\"properties\":[{\"default\":0,\"kind\":null,\"name\":\"open_modal\"},{\"default\":0,\"kind\":null,\"name\":\"close_modal\"}]}],\"roots\":{\"references\":[{\"attributes\":{\"margin\":[0,0,0,0],\"name\":\"Column00985\",\"sizing_mode\":\"stretch_width\"},\"id\":\"3640\",\"type\":\"Column\"},{\"attributes\":{\"children\":[{\"id\":\"3640\"},{\"id\":\"3641\"}],\"margin\":[0,0,0,0],\"name\":\"Column00987\",\"sizing_mode\":\"stretch_width\"},\"id\":\"3639\",\"type\":\"Column\"},{\"attributes\":{\"margin\":[0,0,0,0],\"name\":\"Column00986\",\"sizing_mode\":\"stretch_width\"},\"id\":\"3641\",\"type\":\"Column\"},{\"attributes\":{\"client_comm_id\":\"20c6cee99a9240b6af97d87b3ff270fb\",\"comm_id\":\"8476d1909e714576b8a6ffdb72d3ac93\",\"plot_id\":\"3639\"},\"id\":\"3642\",\"type\":\"panel.models.comm_manager.CommManager\"}],\"root_ids\":[\"3639\",\"3642\"]},\"title\":\"Bokeh Application\",\"version\":\"2.4.3\"}};\n",
       "    var render_items = [{\"docid\":\"137f3056-e6e5-466b-b5c5-0aa8598c9244\",\"root_ids\":[\"3639\"],\"roots\":{\"3639\":\"d96628e0-ea95-483e-b8a5-d6900cad6500\"}}];\n",
       "    root.Bokeh.embed.embed_items_notebook(docs_json, render_items);\n",
       "  }\n",
       "  if (root.Bokeh !== undefined && root.Bokeh.Panel !== undefined && ( root['vega'] !== undefined)) {\n",
       "    embed_document(root);\n",
       "  } else {\n",
       "    var attempts = 0;\n",
       "    var timer = setInterval(function(root) {\n",
       "      if (root.Bokeh !== undefined && root.Bokeh.Panel !== undefined && (root['vega'] !== undefined)) {\n",
       "        clearInterval(timer);\n",
       "        embed_document(root);\n",
       "      } else if (document.readyState == \"complete\") {\n",
       "        attempts++;\n",
       "        if (attempts > 200) {\n",
       "          clearInterval(timer);\n",
       "          console.log(\"Bokeh: ERROR: Unable to run BokehJS code because BokehJS library is missing\");\n",
       "        }\n",
       "      }\n",
       "    }, 25, root)\n",
       "  }\n",
       "})(window);</script>"
      ],
      "text/plain": [
       "Column(sizing_mode='stretch_width')\n",
       "    [0] Column(sizing_mode='stretch_width')\n",
       "    [1] Column(sizing_mode='stretch_width')"
      ]
     },
     "execution_count": 54,
     "metadata": {
      "application/vnd.holoviews_exec.v0+json": {
       "id": "3639"
      }
     },
     "output_type": "execute_result"
    }
   ],
   "source": [
    "# user guide sidebar\n",
    "# ug_sidebar = pn.\n",
    "\n",
    "\n",
    "contents = pn.Column(\n",
    "    pn.Column(),  # sidebar\n",
    "    pn.Column()   # main area\n",
    "\n",
    ")\n",
    "\n",
    "contents"
   ]
  },
  {
   "cell_type": "code",
   "execution_count": 49,
   "id": "882511d2",
   "metadata": {},
   "outputs": [
    {
     "data": {},
     "metadata": {},
     "output_type": "display_data"
    },
    {
     "data": {
      "application/vnd.holoviews_exec.v0+json": "",
      "text/html": [
       "<div id='3146'>\n",
       "  <div class=\"bk-root\" id=\"fd8547b8-874b-4053-b224-93fb1e1e5aaa\" data-root-id=\"3146\"></div>\n",
       "</div>\n",
       "<script type=\"application/javascript\">(function(root) {\n",
       "  function embed_document(root) {\n",
       "    var docs_json = {\"b02b5b8c-32b9-4662-ba00-5bee44e4f151\":{\"defs\":[{\"extends\":null,\"module\":null,\"name\":\"ReactiveHTML1\",\"overrides\":[],\"properties\":[]},{\"extends\":null,\"module\":null,\"name\":\"FlexBox1\",\"overrides\":[],\"properties\":[{\"default\":\"flex-start\",\"kind\":null,\"name\":\"align_content\"},{\"default\":\"flex-start\",\"kind\":null,\"name\":\"align_items\"},{\"default\":\"row\",\"kind\":null,\"name\":\"flex_direction\"},{\"default\":\"wrap\",\"kind\":null,\"name\":\"flex_wrap\"},{\"default\":\"flex-start\",\"kind\":null,\"name\":\"justify_content\"}]},{\"extends\":null,\"module\":null,\"name\":\"GridStack1\",\"overrides\":[],\"properties\":[{\"default\":\"warn\",\"kind\":null,\"name\":\"mode\"},{\"default\":null,\"kind\":null,\"name\":\"ncols\"},{\"default\":null,\"kind\":null,\"name\":\"nrows\"},{\"default\":true,\"kind\":null,\"name\":\"allow_resize\"},{\"default\":true,\"kind\":null,\"name\":\"allow_drag\"},{\"default\":[],\"kind\":null,\"name\":\"state\"}]},{\"extends\":null,\"module\":null,\"name\":\"click1\",\"overrides\":[],\"properties\":[{\"default\":\"\",\"kind\":null,\"name\":\"terminal_output\"},{\"default\":\"\",\"kind\":null,\"name\":\"debug_name\"},{\"default\":0,\"kind\":null,\"name\":\"clears\"}]},{\"extends\":null,\"module\":null,\"name\":\"NotificationAreaBase1\",\"overrides\":[],\"properties\":[{\"default\":\"bottom-right\",\"kind\":null,\"name\":\"position\"},{\"default\":0,\"kind\":null,\"name\":\"_clear\"}]},{\"extends\":null,\"module\":null,\"name\":\"NotificationArea1\",\"overrides\":[],\"properties\":[{\"default\":[],\"kind\":null,\"name\":\"notifications\"},{\"default\":\"bottom-right\",\"kind\":null,\"name\":\"position\"},{\"default\":0,\"kind\":null,\"name\":\"_clear\"},{\"default\":[{\"background\":\"#ffc107\",\"icon\":{\"className\":\"fas fa-exclamation-triangle\",\"color\":\"white\",\"tagName\":\"i\"},\"type\":\"warning\"},{\"background\":\"#007bff\",\"icon\":{\"className\":\"fas fa-info-circle\",\"color\":\"white\",\"tagName\":\"i\"},\"type\":\"info\"}],\"kind\":null,\"name\":\"types\"}]},{\"extends\":null,\"module\":null,\"name\":\"Notification\",\"overrides\":[],\"properties\":[{\"default\":null,\"kind\":null,\"name\":\"background\"},{\"default\":3000,\"kind\":null,\"name\":\"duration\"},{\"default\":null,\"kind\":null,\"name\":\"icon\"},{\"default\":\"\",\"kind\":null,\"name\":\"message\"},{\"default\":null,\"kind\":null,\"name\":\"notification_type\"},{\"default\":false,\"kind\":null,\"name\":\"_destroyed\"}]},{\"extends\":null,\"module\":null,\"name\":\"TemplateActions1\",\"overrides\":[],\"properties\":[{\"default\":0,\"kind\":null,\"name\":\"open_modal\"},{\"default\":0,\"kind\":null,\"name\":\"close_modal\"}]},{\"extends\":null,\"module\":null,\"name\":\"MaterialTemplateActions1\",\"overrides\":[],\"properties\":[{\"default\":0,\"kind\":null,\"name\":\"open_modal\"},{\"default\":0,\"kind\":null,\"name\":\"close_modal\"}]}],\"roots\":{\"references\":[{\"attributes\":{\"child\":{\"id\":\"3147\"},\"name\":\"Column00878\",\"title\":\"Get Started\"},\"id\":\"3175\",\"type\":\"Panel\"},{\"attributes\":{\"disabled\":true,\"icon\":null,\"label\":\"\\u2b06\",\"margin\":[5,10,5,10],\"sizing_mode\":\"stretch_width\",\"subscribed_events\":[\"button_click\"],\"width\":25},\"id\":\"3153\",\"type\":\"Button\"},{\"attributes\":{\"children\":[{\"id\":\"3164\"},{\"id\":\"3165\"},{\"id\":\"3168\"}],\"margin\":[0,0,0,0],\"name\":\"Column00863\",\"sizing_mode\":\"stretch_width\"},\"id\":\"3163\",\"type\":\"Column\"},{\"attributes\":{\"disabled\":true,\"icon\":null,\"label\":\"\\u25b6\",\"margin\":[5,10,5,10],\"sizing_mode\":\"stretch_width\",\"subscribed_events\":[\"button_click\"],\"width\":25},\"id\":\"3210\",\"type\":\"Button\"},{\"attributes\":{\"css_classes\":[\"markdown\"],\"margin\":[5,5,5,5],\"name\":\"Markdown00845\",\"sizing_mode\":\"stretch_width\",\"text\":\"&lt;h3&gt;Generated Folder&lt;/h3&gt;\\n&lt;div class=&quot;codehilite&quot;&gt;&lt;pre&gt;&lt;span&gt;&lt;/span&gt;&lt;code&gt;tsv/\\n    example1.tsv\\n    example2.tsv\\njson/\\n    example1.json\\n    example2.json\\n&lt;/code&gt;&lt;/pre&gt;&lt;/div&gt;\"},\"id\":\"3173\",\"type\":\"panel.models.markup.HTML\"},{\"attributes\":{\"children\":[{\"id\":\"3170\"},{\"id\":\"3171\"},{\"id\":\"3172\"}],\"margin\":[0,0,0,0],\"name\":\"Column00859\",\"sizing_mode\":\"stretch_both\"},\"id\":\"3169\",\"type\":\"Column\"},{\"attributes\":{\"css_classes\":[\"markdown\"],\"margin\":[0,0,0,0],\"name\":\"Markdown00874\",\"sizing_mode\":\"stretch_width\",\"text\":\"&lt;h3&gt;File Browser&lt;/h3&gt;\"},\"id\":\"3218\",\"type\":\"panel.models.markup.HTML\"},{\"attributes\":{\"children\":[{\"id\":\"3193\"},{\"id\":\"3194\"},{\"id\":\"3197\"}],\"margin\":[0,0,0,0],\"name\":\"Column00863\",\"sizing_mode\":\"stretch_width\"},\"id\":\"3192\",\"type\":\"Column\"},{\"attributes\":{\"margin\":[0,0,0,0],\"sizing_mode\":\"stretch_width\",\"tabs\":[{\"id\":\"3175\"},{\"id\":\"3204\"},{\"id\":\"3233\"}]},\"id\":\"3146\",\"type\":\"panel.models.tabs.Tabs\"},{\"attributes\":{\"icon\":null,\"label\":\">>\",\"margin\":[5,10,5,10],\"sizing_mode\":\"stretch_width\",\"subscribed_events\":[\"button_click\"],\"width\":50},\"id\":\"3166\",\"type\":\"Button\"},{\"attributes\":{\"margin\":[5,5,5,5],\"name\":\"VSpacer00861\",\"sizing_mode\":\"stretch_height\"},\"id\":\"3193\",\"type\":\"Spacer\"},{\"attributes\":{\"margin\":[0,0,10,0],\"max_length\":5000,\"placeholder\":\"Filter selected options\",\"sizing_mode\":\"stretch_width\",\"width_policy\":\"max\"},\"id\":\"3229\",\"type\":\"TextInput\"},{\"attributes\":{\"children\":[{\"id\":\"3180\"},{\"id\":\"3181\"},{\"id\":\"3182\"},{\"id\":\"3183\"},{\"id\":\"3184\"},{\"id\":\"3185\"}],\"margin\":[0,0,0,0],\"name\":\"Row00870\",\"sizing_mode\":\"stretch_width\",\"width_policy\":\"max\"},\"id\":\"3179\",\"type\":\"Row\"},{\"attributes\":{\"margin\":[0,0,0,0],\"options\":[\"hosted_app.ipynb\",\"incf_app.ipynb\",\"local_app.ipynb\"],\"size\":10,\"sizing_mode\":\"stretch_both\"},\"id\":\"3162\",\"type\":\"MultiSelect\"},{\"attributes\":{\"css_classes\":[\"markdown\"],\"margin\":[0,0,0,0],\"name\":\"Markdown00874\",\"sizing_mode\":\"stretch_width\",\"text\":\"&lt;h3&gt;File Browser&lt;/h3&gt;\"},\"id\":\"3189\",\"type\":\"panel.models.markup.HTML\"},{\"attributes\":{\"children\":[{\"id\":\"3160\"},{\"id\":\"3161\"},{\"id\":\"3162\"}],\"margin\":[0,0,0,0],\"name\":\"Column00858\",\"sizing_mode\":\"stretch_both\"},\"id\":\"3159\",\"type\":\"Column\"},{\"attributes\":{\"disabled\":true,\"icon\":null,\"label\":\"\\u2b07\",\"margin\":[5,10,0,0],\"sizing_mode\":\"stretch_width\",\"subscribed_events\":[\"button_click\"],\"width\":25},\"id\":\"3184\",\"type\":\"Button\"},{\"attributes\":{\"children\":[{\"id\":\"3159\"},{\"id\":\"3163\"},{\"id\":\"3169\"}],\"margin\":[0,0,0,0],\"name\":\"Row00850\",\"sizing_mode\":\"stretch_both\",\"width\":600},\"id\":\"3158\",\"type\":\"Row\"},{\"attributes\":{\"disabled\":true,\"icon\":null,\"label\":\"\\u25b6\",\"margin\":[5,10,5,10],\"sizing_mode\":\"stretch_width\",\"subscribed_events\":[\"button_click\"],\"width\":25},\"id\":\"3152\",\"type\":\"Button\"},{\"attributes\":{\"margin\":[0,0,0,0],\"options\":[\"hosted_app.ipynb\",\"incf_app.ipynb\",\"local_app.ipynb\"],\"size\":10,\"sizing_mode\":\"stretch_both\"},\"id\":\"3191\",\"type\":\"MultiSelect\"},{\"attributes\":{\"css_classes\":[\"markdown\"],\"margin\":[5,5,5,5],\"name\":\"Markdown00845\",\"sizing_mode\":\"stretch_width\",\"text\":\"&lt;h3&gt;Generated Folder&lt;/h3&gt;\\n&lt;div class=&quot;codehilite&quot;&gt;&lt;pre&gt;&lt;span&gt;&lt;/span&gt;&lt;code&gt;tsv/\\n    example1.tsv\\n    example2.tsv\\njson/\\n    example1.json\\n    example2.json\\n&lt;/code&gt;&lt;/pre&gt;&lt;/div&gt;\"},\"id\":\"3202\",\"type\":\"panel.models.markup.HTML\"},{\"attributes\":{\"children\":[{\"id\":\"3188\"},{\"id\":\"3192\"},{\"id\":\"3198\"}],\"margin\":[0,0,0,0],\"name\":\"Row00850\",\"sizing_mode\":\"stretch_both\",\"width\":600},\"id\":\"3187\",\"type\":\"Row\"},{\"attributes\":{\"icon\":null,\"label\":\">>\",\"margin\":[5,10,5,10],\"sizing_mode\":\"stretch_width\",\"subscribed_events\":[\"button_click\"],\"width\":50},\"id\":\"3224\",\"type\":\"Button\"},{\"attributes\":{\"icon\":null,\"label\":\"\\u21bb\",\"margin\":[5,15,0,10],\"sizing_mode\":\"stretch_width\",\"subscribed_events\":[\"button_click\"],\"width\":25},\"id\":\"3185\",\"type\":\"Button\"},{\"attributes\":{\"disabled\":true,\"icon\":null,\"label\":\"\\u25b6\",\"margin\":[5,10,5,10],\"sizing_mode\":\"stretch_width\",\"subscribed_events\":[\"button_click\"],\"width\":25},\"id\":\"3181\",\"type\":\"Button\"},{\"attributes\":{\"margin\":[5,5,5,5],\"name\":\"VSpacer00861\",\"sizing_mode\":\"stretch_height\"},\"id\":\"3164\",\"type\":\"Spacer\"},{\"attributes\":{\"disabled\":true,\"icon\":null,\"label\":\"\\u2b06\",\"margin\":[5,10,5,10],\"sizing_mode\":\"stretch_width\",\"subscribed_events\":[\"button_click\"],\"width\":25},\"id\":\"3182\",\"type\":\"Button\"},{\"attributes\":{\"css_classes\":[\"markdown\"],\"margin\":[0,0,0,0],\"name\":\"Markdown00872\",\"sizing_mode\":\"stretch_width\",\"text\":\"&lt;h3&gt;Selected files&lt;/h3&gt;\"},\"id\":\"3228\",\"type\":\"panel.models.markup.HTML\"},{\"attributes\":{\"children\":[{\"id\":\"3206\"},{\"id\":\"3207\"},{\"id\":\"3231\"},{\"id\":\"3232\"}],\"margin\":[0,0,0,0],\"name\":\"Column00878\",\"sizing_mode\":\"stretch_width\"},\"id\":\"3205\",\"type\":\"Column\"},{\"attributes\":{\"button_type\":\"primary\",\"icon\":null,\"label\":\"Transform Files\",\"margin\":[5,10,5,10],\"sizing_mode\":\"stretch_width\",\"subscribed_events\":[\"button_click\"]},\"id\":\"3232\",\"type\":\"Button\"},{\"attributes\":{\"disabled\":true,\"icon\":null,\"label\":\"\\u25c0\",\"margin\":[5,10,0,0],\"sizing_mode\":\"stretch_width\",\"subscribed_events\":[\"button_click\"],\"width\":25},\"id\":\"3180\",\"type\":\"Button\"},{\"attributes\":{\"icon\":null,\"label\":\">>\",\"margin\":[5,10,5,10],\"sizing_mode\":\"stretch_width\",\"subscribed_events\":[\"button_click\"],\"width\":50},\"id\":\"3195\",\"type\":\"Button\"},{\"attributes\":{\"disabled\":true,\"margin\":[0,0,0,0],\"max_length\":5000,\"placeholder\":\"To select an item highlight it on the left and use the arrow button to move it to the right.\",\"sizing_mode\":\"stretch_both\"},\"id\":\"3201\",\"type\":\"TextAreaInput\"},{\"attributes\":{\"margin\":[0,0,10,0],\"max_length\":5000,\"placeholder\":\"Filter available options\",\"sizing_mode\":\"stretch_width\",\"width_policy\":\"max\"},\"id\":\"3190\",\"type\":\"TextInput\"},{\"attributes\":{\"margin\":[5,5,5,5],\"name\":\"VSpacer00862\",\"sizing_mode\":\"stretch_height\"},\"id\":\"3226\",\"type\":\"Spacer\"},{\"attributes\":{\"children\":[{\"id\":\"3195\"},{\"id\":\"3196\"}],\"margin\":[0,5,0,5],\"name\":\"Column00860\",\"sizing_mode\":\"stretch_width\"},\"id\":\"3194\",\"type\":\"Column\"},{\"attributes\":{\"css_classes\":[\"markdown\"],\"margin\":[0,0,0,0],\"name\":\"Markdown00872\",\"sizing_mode\":\"stretch_width\",\"text\":\"&lt;h3&gt;Selected files&lt;/h3&gt;\"},\"id\":\"3170\",\"type\":\"panel.models.markup.HTML\"},{\"attributes\":{\"children\":[{\"id\":\"3150\"},{\"id\":\"3157\"},{\"id\":\"3158\"}],\"margin\":[5,10,20,10],\"name\":\"Column00848\",\"sizing_mode\":\"stretch_width\"},\"id\":\"3149\",\"type\":\"Column\"},{\"attributes\":{\"disabled\":true,\"margin\":[0,0,0,0],\"max_length\":5000,\"placeholder\":\"To select an item highlight it on the left and use the arrow button to move it to the right.\",\"sizing_mode\":\"stretch_both\"},\"id\":\"3230\",\"type\":\"TextAreaInput\"},{\"attributes\":{\"children\":[{\"id\":\"3228\"},{\"id\":\"3229\"},{\"id\":\"3230\"}],\"margin\":[0,0,0,0],\"name\":\"Column00859\",\"sizing_mode\":\"stretch_both\"},\"id\":\"3227\",\"type\":\"Column\"},{\"attributes\":{\"children\":[{\"id\":\"3179\"},{\"id\":\"3186\"},{\"id\":\"3187\"}],\"margin\":[5,10,20,10],\"name\":\"Column00848\",\"sizing_mode\":\"stretch_width\"},\"id\":\"3178\",\"type\":\"Column\"},{\"attributes\":{\"children\":[{\"id\":\"3208\"},{\"id\":\"3215\"},{\"id\":\"3216\"}],\"margin\":[5,10,20,10],\"name\":\"Column00848\",\"sizing_mode\":\"stretch_width\"},\"id\":\"3207\",\"type\":\"Column\"},{\"attributes\":{\"child\":{\"id\":\"3205\"},\"name\":\"Column00878\",\"title\":\"User Guide\"},\"id\":\"3233\",\"type\":\"Panel\"},{\"attributes\":{\"css_classes\":[\"markdown\"],\"margin\":[5,5,5,5],\"name\":\"Markdown00843\",\"sizing_mode\":\"stretch_width\",\"text\":\"&lt;h2&gt;Welcome!&lt;/h2&gt;\\n&lt;p&gt;Here you can select the folder(s) that you want to transform. Beware that we are using recursive walk to select all the content \\navailable in the specified folder. That means if the folder contains a sub-folder, we will transform the content if it falls\\ninto the accepted file formats.&lt;/p&gt;\\n&lt;p&gt;Below you will see the generated folder with content as specified at &lt;a href=&quot;https://docs.google.com/document/d/1NT1ERdL41oz3NibIFRyVQ2iR8xH-dKY-lRCB4eyVeRo/edit?usp=sharing&quot;&gt;BIDS Computational Model Specification&lt;/a&gt;.\\nIf you are happy with the results, press &lt;code&gt;Transform Files&lt;/code&gt; button at the bottom of the screen. We will not start generation \\nuntil you press the button below. &lt;/p&gt;\\n&lt;h3&gt;Select Folder(s)&lt;/h3&gt;\"},\"id\":\"3206\",\"type\":\"panel.models.markup.HTML\"},{\"attributes\":{\"children\":[{\"id\":\"3218\"},{\"id\":\"3219\"},{\"id\":\"3220\"}],\"margin\":[0,0,0,0],\"name\":\"Column00858\",\"sizing_mode\":\"stretch_both\"},\"id\":\"3217\",\"type\":\"Column\"},{\"attributes\":{\"css_classes\":[\"markdown\"],\"margin\":[0,0,0,0],\"name\":\"Markdown00872\",\"sizing_mode\":\"stretch_width\",\"text\":\"&lt;h3&gt;Selected files&lt;/h3&gt;\"},\"id\":\"3199\",\"type\":\"panel.models.markup.HTML\"},{\"attributes\":{\"disabled\":true,\"icon\":null,\"label\":\"\\u2b07\",\"margin\":[5,10,0,0],\"sizing_mode\":\"stretch_width\",\"subscribed_events\":[\"button_click\"],\"width\":25},\"id\":\"3213\",\"type\":\"Button\"},{\"attributes\":{\"button_type\":\"primary\",\"icon\":null,\"label\":\"Transform Files\",\"margin\":[5,10,5,10],\"sizing_mode\":\"stretch_width\",\"subscribed_events\":[\"button_click\"]},\"id\":\"3174\",\"type\":\"Button\"},{\"attributes\":{\"children\":[{\"id\":\"3166\"},{\"id\":\"3167\"}],\"margin\":[0,5,0,5],\"name\":\"Column00860\",\"sizing_mode\":\"stretch_width\"},\"id\":\"3165\",\"type\":\"Column\"},{\"attributes\":{\"icon\":null,\"label\":\"<<\",\"margin\":[5,10,5,10],\"sizing_mode\":\"stretch_width\",\"subscribed_events\":[\"button_click\"],\"width\":50},\"id\":\"3196\",\"type\":\"Button\"},{\"attributes\":{\"margin\":[5,10,5,10],\"max_length\":5000,\"sizing_mode\":\"stretch_width\",\"value\":\"C:\\\\Users\\\\dinar\\\\Desktop\\\\gsoc\\\\app_templates\",\"width_policy\":\"max\"},\"id\":\"3212\",\"type\":\"TextInput\"},{\"attributes\":{\"margin\":[0,0,0,0],\"name\":\"Divider00871\",\"sizing_mode\":\"stretch_width\",\"style\":{\"height\":\"100%\",\"width\":\"100%\"},\"text\":\"<hr style=\\\"margin: 0px\\\">\",\"width_policy\":\"fit\"},\"id\":\"3215\",\"type\":\"Div\"},{\"attributes\":{\"children\":[{\"id\":\"3177\"},{\"id\":\"3178\"},{\"id\":\"3202\"},{\"id\":\"3203\"}],\"margin\":[0,0,0,0],\"name\":\"Column00878\",\"sizing_mode\":\"stretch_width\"},\"id\":\"3176\",\"type\":\"Column\"},{\"attributes\":{\"margin\":[0,0,10,0],\"max_length\":5000,\"placeholder\":\"Filter available options\",\"sizing_mode\":\"stretch_width\",\"width_policy\":\"max\"},\"id\":\"3161\",\"type\":\"TextInput\"},{\"attributes\":{\"margin\":[0,0,0,0],\"options\":[\"hosted_app.ipynb\",\"incf_app.ipynb\",\"local_app.ipynb\"],\"size\":10,\"sizing_mode\":\"stretch_both\"},\"id\":\"3220\",\"type\":\"MultiSelect\"},{\"attributes\":{\"child\":{\"id\":\"3176\"},\"name\":\"Column00878\",\"title\":\"View Contents\"},\"id\":\"3204\",\"type\":\"Panel\"},{\"attributes\":{\"css_classes\":[\"markdown\"],\"margin\":[5,5,5,5],\"name\":\"Markdown00843\",\"sizing_mode\":\"stretch_width\",\"text\":\"&lt;h2&gt;Welcome!&lt;/h2&gt;\\n&lt;p&gt;Here you can select the folder(s) that you want to transform. Beware that we are using recursive walk to select all the content \\navailable in the specified folder. That means if the folder contains a sub-folder, we will transform the content if it falls\\ninto the accepted file formats.&lt;/p&gt;\\n&lt;p&gt;Below you will see the generated folder with content as specified at &lt;a href=&quot;https://docs.google.com/document/d/1NT1ERdL41oz3NibIFRyVQ2iR8xH-dKY-lRCB4eyVeRo/edit?usp=sharing&quot;&gt;BIDS Computational Model Specification&lt;/a&gt;.\\nIf you are happy with the results, press &lt;code&gt;Transform Files&lt;/code&gt; button at the bottom of the screen. We will not start generation \\nuntil you press the button below. &lt;/p&gt;\\n&lt;h3&gt;Select Folder(s)&lt;/h3&gt;\"},\"id\":\"3177\",\"type\":\"panel.models.markup.HTML\"},{\"attributes\":{\"margin\":[0,0,0,0],\"name\":\"Divider00871\",\"sizing_mode\":\"stretch_width\",\"style\":{\"height\":\"100%\",\"width\":\"100%\"},\"text\":\"<hr style=\\\"margin: 0px\\\">\",\"width_policy\":\"fit\"},\"id\":\"3157\",\"type\":\"Div\"},{\"attributes\":{\"margin\":[0,0,10,0],\"max_length\":5000,\"placeholder\":\"Filter selected options\",\"sizing_mode\":\"stretch_width\",\"width_policy\":\"max\"},\"id\":\"3171\",\"type\":\"TextInput\"},{\"attributes\":{\"disabled\":true,\"margin\":[0,0,0,0],\"max_length\":5000,\"placeholder\":\"To select an item highlight it on the left and use the arrow button to move it to the right.\",\"sizing_mode\":\"stretch_both\"},\"id\":\"3172\",\"type\":\"TextAreaInput\"},{\"attributes\":{\"children\":[{\"id\":\"3222\"},{\"id\":\"3223\"},{\"id\":\"3226\"}],\"margin\":[0,0,0,0],\"name\":\"Column00863\",\"sizing_mode\":\"stretch_width\"},\"id\":\"3221\",\"type\":\"Column\"},{\"attributes\":{\"client_comm_id\":\"abcabc8fc52b4a9094b1edf1560bc331\",\"comm_id\":\"0af175d5970147f8b2a56eb831f8d21c\",\"plot_id\":\"3146\"},\"id\":\"3234\",\"type\":\"panel.models.comm_manager.CommManager\"},{\"attributes\":{\"icon\":null,\"label\":\"\\u21bb\",\"margin\":[5,15,0,10],\"sizing_mode\":\"stretch_width\",\"subscribed_events\":[\"button_click\"],\"width\":25},\"id\":\"3214\",\"type\":\"Button\"},{\"attributes\":{\"children\":[{\"id\":\"3217\"},{\"id\":\"3221\"},{\"id\":\"3227\"}],\"margin\":[0,0,0,0],\"name\":\"Row00850\",\"sizing_mode\":\"stretch_both\",\"width\":600},\"id\":\"3216\",\"type\":\"Row\"},{\"attributes\":{\"margin\":[0,0,0,0],\"name\":\"Divider00871\",\"sizing_mode\":\"stretch_width\",\"style\":{\"height\":\"100%\",\"width\":\"100%\"},\"text\":\"<hr style=\\\"margin: 0px\\\">\",\"width_policy\":\"fit\"},\"id\":\"3186\",\"type\":\"Div\"},{\"attributes\":{\"disabled\":true,\"icon\":null,\"label\":\"\\u2b06\",\"margin\":[5,10,5,10],\"sizing_mode\":\"stretch_width\",\"subscribed_events\":[\"button_click\"],\"width\":25},\"id\":\"3211\",\"type\":\"Button\"},{\"attributes\":{\"disabled\":true,\"icon\":null,\"label\":\"\\u2b07\",\"margin\":[5,10,0,0],\"sizing_mode\":\"stretch_width\",\"subscribed_events\":[\"button_click\"],\"width\":25},\"id\":\"3155\",\"type\":\"Button\"},{\"attributes\":{\"icon\":null,\"label\":\"<<\",\"margin\":[5,10,5,10],\"sizing_mode\":\"stretch_width\",\"subscribed_events\":[\"button_click\"],\"width\":50},\"id\":\"3167\",\"type\":\"Button\"},{\"attributes\":{\"icon\":null,\"label\":\"\\u21bb\",\"margin\":[5,15,0,10],\"sizing_mode\":\"stretch_width\",\"subscribed_events\":[\"button_click\"],\"width\":25},\"id\":\"3156\",\"type\":\"Button\"},{\"attributes\":{\"children\":[{\"id\":\"3209\"},{\"id\":\"3210\"},{\"id\":\"3211\"},{\"id\":\"3212\"},{\"id\":\"3213\"},{\"id\":\"3214\"}],\"margin\":[0,0,0,0],\"name\":\"Row00870\",\"sizing_mode\":\"stretch_width\",\"width_policy\":\"max\"},\"id\":\"3208\",\"type\":\"Row\"},{\"attributes\":{\"children\":[{\"id\":\"3151\"},{\"id\":\"3152\"},{\"id\":\"3153\"},{\"id\":\"3154\"},{\"id\":\"3155\"},{\"id\":\"3156\"}],\"margin\":[0,0,0,0],\"name\":\"Row00870\",\"sizing_mode\":\"stretch_width\",\"width_policy\":\"max\"},\"id\":\"3150\",\"type\":\"Row\"},{\"attributes\":{\"disabled\":true,\"icon\":null,\"label\":\"\\u25c0\",\"margin\":[5,10,0,0],\"sizing_mode\":\"stretch_width\",\"subscribed_events\":[\"button_click\"],\"width\":25},\"id\":\"3151\",\"type\":\"Button\"},{\"attributes\":{\"children\":[{\"id\":\"3148\"},{\"id\":\"3149\"},{\"id\":\"3173\"},{\"id\":\"3174\"}],\"margin\":[0,0,0,0],\"name\":\"Column00878\",\"sizing_mode\":\"stretch_width\"},\"id\":\"3147\",\"type\":\"Column\"},{\"attributes\":{\"margin\":[5,5,5,5],\"name\":\"VSpacer00861\",\"sizing_mode\":\"stretch_height\"},\"id\":\"3222\",\"type\":\"Spacer\"},{\"attributes\":{\"button_type\":\"primary\",\"icon\":null,\"label\":\"Transform Files\",\"margin\":[5,10,5,10],\"sizing_mode\":\"stretch_width\",\"subscribed_events\":[\"button_click\"]},\"id\":\"3203\",\"type\":\"Button\"},{\"attributes\":{\"css_classes\":[\"markdown\"],\"margin\":[5,5,5,5],\"name\":\"Markdown00843\",\"sizing_mode\":\"stretch_width\",\"text\":\"&lt;h2&gt;Welcome!&lt;/h2&gt;\\n&lt;p&gt;Here you can select the folder(s) that you want to transform. Beware that we are using recursive walk to select all the content \\navailable in the specified folder. That means if the folder contains a sub-folder, we will transform the content if it falls\\ninto the accepted file formats.&lt;/p&gt;\\n&lt;p&gt;Below you will see the generated folder with content as specified at &lt;a href=&quot;https://docs.google.com/document/d/1NT1ERdL41oz3NibIFRyVQ2iR8xH-dKY-lRCB4eyVeRo/edit?usp=sharing&quot;&gt;BIDS Computational Model Specification&lt;/a&gt;.\\nIf you are happy with the results, press &lt;code&gt;Transform Files&lt;/code&gt; button at the bottom of the screen. We will not start generation \\nuntil you press the button below. &lt;/p&gt;\\n&lt;h3&gt;Select Folder(s)&lt;/h3&gt;\"},\"id\":\"3148\",\"type\":\"panel.models.markup.HTML\"},{\"attributes\":{\"children\":[{\"id\":\"3189\"},{\"id\":\"3190\"},{\"id\":\"3191\"}],\"margin\":[0,0,0,0],\"name\":\"Column00858\",\"sizing_mode\":\"stretch_both\"},\"id\":\"3188\",\"type\":\"Column\"},{\"attributes\":{\"css_classes\":[\"markdown\"],\"margin\":[0,0,0,0],\"name\":\"Markdown00874\",\"sizing_mode\":\"stretch_width\",\"text\":\"&lt;h3&gt;File Browser&lt;/h3&gt;\"},\"id\":\"3160\",\"type\":\"panel.models.markup.HTML\"},{\"attributes\":{\"margin\":[0,0,10,0],\"max_length\":5000,\"placeholder\":\"Filter selected options\",\"sizing_mode\":\"stretch_width\",\"width_policy\":\"max\"},\"id\":\"3200\",\"type\":\"TextInput\"},{\"attributes\":{\"disabled\":true,\"icon\":null,\"label\":\"\\u25c0\",\"margin\":[5,10,0,0],\"sizing_mode\":\"stretch_width\",\"subscribed_events\":[\"button_click\"],\"width\":25},\"id\":\"3209\",\"type\":\"Button\"},{\"attributes\":{\"margin\":[5,10,5,10],\"max_length\":5000,\"sizing_mode\":\"stretch_width\",\"value\":\"C:\\\\Users\\\\dinar\\\\Desktop\\\\gsoc\\\\app_templates\",\"width_policy\":\"max\"},\"id\":\"3183\",\"type\":\"TextInput\"},{\"attributes\":{\"children\":[{\"id\":\"3224\"},{\"id\":\"3225\"}],\"margin\":[0,5,0,5],\"name\":\"Column00860\",\"sizing_mode\":\"stretch_width\"},\"id\":\"3223\",\"type\":\"Column\"},{\"attributes\":{\"margin\":[0,0,10,0],\"max_length\":5000,\"placeholder\":\"Filter available options\",\"sizing_mode\":\"stretch_width\",\"width_policy\":\"max\"},\"id\":\"3219\",\"type\":\"TextInput\"},{\"attributes\":{\"margin\":[5,5,5,5],\"name\":\"VSpacer00862\",\"sizing_mode\":\"stretch_height\"},\"id\":\"3197\",\"type\":\"Spacer\"},{\"attributes\":{\"margin\":[5,5,5,5],\"name\":\"VSpacer00862\",\"sizing_mode\":\"stretch_height\"},\"id\":\"3168\",\"type\":\"Spacer\"},{\"attributes\":{\"css_classes\":[\"markdown\"],\"margin\":[5,5,5,5],\"name\":\"Markdown00845\",\"sizing_mode\":\"stretch_width\",\"text\":\"&lt;h3&gt;Generated Folder&lt;/h3&gt;\\n&lt;div class=&quot;codehilite&quot;&gt;&lt;pre&gt;&lt;span&gt;&lt;/span&gt;&lt;code&gt;tsv/\\n    example1.tsv\\n    example2.tsv\\njson/\\n    example1.json\\n    example2.json\\n&lt;/code&gt;&lt;/pre&gt;&lt;/div&gt;\"},\"id\":\"3231\",\"type\":\"panel.models.markup.HTML\"},{\"attributes\":{\"margin\":[5,10,5,10],\"max_length\":5000,\"sizing_mode\":\"stretch_width\",\"value\":\"C:\\\\Users\\\\dinar\\\\Desktop\\\\gsoc\\\\app_templates\",\"width_policy\":\"max\"},\"id\":\"3154\",\"type\":\"TextInput\"},{\"attributes\":{\"icon\":null,\"label\":\"<<\",\"margin\":[5,10,5,10],\"sizing_mode\":\"stretch_width\",\"subscribed_events\":[\"button_click\"],\"width\":50},\"id\":\"3225\",\"type\":\"Button\"},{\"attributes\":{\"children\":[{\"id\":\"3199\"},{\"id\":\"3200\"},{\"id\":\"3201\"}],\"margin\":[0,0,0,0],\"name\":\"Column00859\",\"sizing_mode\":\"stretch_both\"},\"id\":\"3198\",\"type\":\"Column\"}],\"root_ids\":[\"3146\",\"3234\"]},\"title\":\"Bokeh Application\",\"version\":\"2.4.3\"}};\n",
       "    var render_items = [{\"docid\":\"b02b5b8c-32b9-4662-ba00-5bee44e4f151\",\"root_ids\":[\"3146\"],\"roots\":{\"3146\":\"fd8547b8-874b-4053-b224-93fb1e1e5aaa\"}}];\n",
       "    root.Bokeh.embed.embed_items_notebook(docs_json, render_items);\n",
       "  }\n",
       "  if (root.Bokeh !== undefined && root.Bokeh.Panel !== undefined && ( root['vega'] !== undefined)) {\n",
       "    embed_document(root);\n",
       "  } else {\n",
       "    var attempts = 0;\n",
       "    var timer = setInterval(function(root) {\n",
       "      if (root.Bokeh !== undefined && root.Bokeh.Panel !== undefined && (root['vega'] !== undefined)) {\n",
       "        clearInterval(timer);\n",
       "        embed_document(root);\n",
       "      } else if (document.readyState == \"complete\") {\n",
       "        attempts++;\n",
       "        if (attempts > 200) {\n",
       "          clearInterval(timer);\n",
       "          console.log(\"Bokeh: ERROR: Unable to run BokehJS code because BokehJS library is missing\");\n",
       "        }\n",
       "      }\n",
       "    }, 25, root)\n",
       "  }\n",
       "})(window);</script>"
      ],
      "text/plain": [
       "Tabs(sizing_mode='stretch_width')\n",
       "    [0] Column(sizing_mode='stretch_width')\n",
       "        [0] Markdown(str, sizing_mode='stretch_width')\n",
       "        [1] FileSelector(sizing_mode='stretch_width')\n",
       "        [2] Markdown(str, sizing_mode='stretch_width')\n",
       "        [3] Button(button_type='primary', name='Transform Files', sizing_mode='stretch_width')\n",
       "    [1] Column(sizing_mode='stretch_width')\n",
       "        [0] Markdown(str, sizing_mode='stretch_width')\n",
       "        [1] FileSelector(sizing_mode='stretch_width')\n",
       "        [2] Markdown(str, sizing_mode='stretch_width')\n",
       "        [3] Button(button_type='primary', name='Transform Files', sizing_mode='stretch_width')\n",
       "    [2] Column(sizing_mode='stretch_width')\n",
       "        [0] Markdown(str, sizing_mode='stretch_width')\n",
       "        [1] FileSelector(sizing_mode='stretch_width')\n",
       "        [2] Markdown(str, sizing_mode='stretch_width')\n",
       "        [3] Button(button_type='primary', name='Transform Files', sizing_mode='stretch_width')"
      ]
     },
     "execution_count": 49,
     "metadata": {
      "application/vnd.holoviews_exec.v0+json": {
       "id": "3146"
      }
     },
     "output_type": "execute_result"
    }
   ],
   "source": [
    "main = pn.Tabs(\n",
    "    ('Get Started',   main_area),\n",
    "    ('View Contents', main_area),\n",
    "    ('User Guide',    main_area)\n",
    ")\n",
    "\n",
    "main"
   ]
  },
  {
   "cell_type": "code",
   "execution_count": 50,
   "id": "1da0d81b",
   "metadata": {},
   "outputs": [
    {
     "name": "stdout",
     "output_type": "stream",
     "text": [
      "Launching server at http://localhost:53614\n"
     ]
    },
    {
     "data": {
      "text/plain": [
       "<bokeh.server.server.Server at 0x19c95b43ca0>"
      ]
     },
     "execution_count": 50,
     "metadata": {},
     "output_type": "execute_result"
    }
   ],
   "source": [
    "panel = pn.template.FastListTemplate(\n",
    "    title='Visualize | Transform | Download',\n",
    "    site='INCF',\n",
    "    main=main\n",
    ")\n",
    "\n",
    "pn.serve(panel)"
   ]
  },
  {
   "cell_type": "code",
   "execution_count": null,
   "id": "a8d3c075",
   "metadata": {},
   "outputs": [],
   "source": []
  },
  {
   "cell_type": "code",
   "execution_count": null,
   "id": "17d8abfd",
   "metadata": {},
   "outputs": [],
   "source": []
  }
 ],
 "metadata": {
  "kernelspec": {
   "display_name": "Python 3 (ipykernel)",
   "language": "python",
   "name": "python3"
  },
  "language_info": {
   "codemirror_mode": {
    "name": "ipython",
    "version": 3
   },
   "file_extension": ".py",
   "mimetype": "text/x-python",
   "name": "python",
   "nbconvert_exporter": "python",
   "pygments_lexer": "ipython3",
   "version": "3.10.4"
  }
 },
 "nbformat": 4,
 "nbformat_minor": 5
}
