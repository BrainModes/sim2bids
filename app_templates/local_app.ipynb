{
 "cells": [
  {
   "cell_type": "code",
   "execution_count": 1,
   "id": "2c5f1d07",
   "metadata": {},
   "outputs": [
    {
     "data": {
      "application/javascript": [
       "(function(root) {\n",
       "  function now() {\n",
       "    return new Date();\n",
       "  }\n",
       "\n",
       "  var force = true;\n",
       "\n",
       "  if (typeof root._bokeh_onload_callbacks === \"undefined\" || force === true) {\n",
       "    root._bokeh_onload_callbacks = [];\n",
       "    root._bokeh_is_loading = undefined;\n",
       "  }\n",
       "\n",
       "  if (typeof (root._bokeh_timeout) === \"undefined\" || force === true) {\n",
       "    root._bokeh_timeout = Date.now() + 5000;\n",
       "    root._bokeh_failed_load = false;\n",
       "  }\n",
       "\n",
       "  function run_callbacks() {\n",
       "    try {\n",
       "      root._bokeh_onload_callbacks.forEach(function(callback) {\n",
       "        if (callback != null)\n",
       "          callback();\n",
       "      });\n",
       "    } finally {\n",
       "      delete root._bokeh_onload_callbacks\n",
       "    }\n",
       "    console.debug(\"Bokeh: all callbacks have finished\");\n",
       "  }\n",
       "\n",
       "  function load_libs(css_urls, js_urls, js_modules, callback) {\n",
       "    if (css_urls == null) css_urls = [];\n",
       "    if (js_urls == null) js_urls = [];\n",
       "    if (js_modules == null) js_modules = [];\n",
       "\n",
       "    root._bokeh_onload_callbacks.push(callback);\n",
       "    if (root._bokeh_is_loading > 0) {\n",
       "      console.debug(\"Bokeh: BokehJS is being loaded, scheduling callback at\", now());\n",
       "      return null;\n",
       "    }\n",
       "    if (js_urls.length === 0 && js_modules.length === 0) {\n",
       "      run_callbacks();\n",
       "      return null;\n",
       "    }\n",
       "    console.debug(\"Bokeh: BokehJS not loaded, scheduling load and callback at\", now());\n",
       "\n",
       "    function on_load() {\n",
       "      root._bokeh_is_loading--;\n",
       "      if (root._bokeh_is_loading === 0) {\n",
       "        console.debug(\"Bokeh: all BokehJS libraries/stylesheets loaded\");\n",
       "        run_callbacks()\n",
       "      }\n",
       "    }\n",
       "\n",
       "    function on_error() {\n",
       "      console.error(\"failed to load \" + url);\n",
       "    }\n",
       "\n",
       "    for (var i = 0; i < css_urls.length; i++) {\n",
       "      var url = css_urls[i];\n",
       "      const element = document.createElement(\"link\");\n",
       "      element.onload = on_load;\n",
       "      element.onerror = on_error;\n",
       "      element.rel = \"stylesheet\";\n",
       "      element.type = \"text/css\";\n",
       "      element.href = url;\n",
       "      console.debug(\"Bokeh: injecting link tag for BokehJS stylesheet: \", url);\n",
       "      document.body.appendChild(element);\n",
       "    }\n",
       "\n",
       "    var skip = [];\n",
       "    if (window.requirejs) {\n",
       "      window.requirejs.config({'packages': {}, 'paths': {'vega-embed': 'https://cdn.jsdelivr.net/npm/vega-embed@6/build/vega-embed.min', 'vega-lite': 'https://cdn.jsdelivr.net/npm/vega-lite@5/build/vega-lite.min', 'vega': 'https://cdn.jsdelivr.net/npm/vega@5/build/vega.min', 'ace': '//cdnjs.cloudflare.com/ajax/libs/ace/1.4.7', 'jsoneditor': '//cdn.jsdelivr.net/npm/jsoneditor@9.1.9/dist/jsoneditor.min', 'gridstack': 'https://cdn.jsdelivr.net/npm/gridstack@4.2.5/dist/gridstack-h5', 'notyf': 'https://cdn.jsdelivr.net/npm/notyf@3/notyf.min'}, 'shim': {'ace/ext-language_tools': {'deps': ['ace/ace']}, 'ace/ext-modelist': {'deps': ['ace/ace']}, 'jsoneditor': {'exports': 'JSONEditor'}, 'gridstack': {'exports': 'GridStack'}}});\n",
       "      require([\"vega-embed\"], function(vegaEmbed) {\n",
       "\twindow.vegaEmbed = vegaEmbed\n",
       "\ton_load()\n",
       "      })\n",
       "      require([\"vega-lite\"], function(vl) {\n",
       "\twindow.vl = vl\n",
       "\ton_load()\n",
       "      })\n",
       "      require([\"vega\"], function(vega) {\n",
       "\twindow.vega = vega\n",
       "\ton_load()\n",
       "      })\n",
       "      require([\"ace/ace\"], function(ace) {\n",
       "\twindow.ace = ace\n",
       "\ton_load()\n",
       "      })\n",
       "      require([\"ace/ext-language_tools\"], function() {\n",
       "\ton_load()\n",
       "      })\n",
       "      require([\"ace/ext-modelist\"], function() {\n",
       "\ton_load()\n",
       "      })\n",
       "      require([\"jsoneditor\"], function(JSONEditor) {\n",
       "\twindow.JSONEditor = JSONEditor\n",
       "\ton_load()\n",
       "      })\n",
       "      require([\"gridstack\"], function(GridStack) {\n",
       "\twindow.GridStack = GridStack\n",
       "\ton_load()\n",
       "      })\n",
       "      require([\"notyf\"], function() {\n",
       "\ton_load()\n",
       "      })\n",
       "      root._bokeh_is_loading = css_urls.length + 9;\n",
       "    } else {\n",
       "      root._bokeh_is_loading = css_urls.length + js_urls.length + js_modules.length;\n",
       "    }    if (((window['vega'] !== undefined) && (!(window['vega'] instanceof HTMLElement))) || window.requirejs) {\n",
       "      var urls = ['https://cdn.jsdelivr.net/npm/vega@5'];\n",
       "      for (var i = 0; i < urls.length; i++) {\n",
       "        skip.push(urls[i])\n",
       "      }\n",
       "    }    if (((window['vegaLite'] !== undefined) && (!(window['vegaLite'] instanceof HTMLElement))) || window.requirejs) {\n",
       "      var urls = ['https://cdn.jsdelivr.net/npm/vega-lite@5'];\n",
       "      for (var i = 0; i < urls.length; i++) {\n",
       "        skip.push(urls[i])\n",
       "      }\n",
       "    }    if (((window['vegaEmbed'] !== undefined) && (!(window['vegaEmbed'] instanceof HTMLElement))) || window.requirejs) {\n",
       "      var urls = ['https://cdn.jsdelivr.net/npm/vega-embed@6'];\n",
       "      for (var i = 0; i < urls.length; i++) {\n",
       "        skip.push(urls[i])\n",
       "      }\n",
       "    }    if (((window['ace'] !== undefined) && (!(window['ace'] instanceof HTMLElement))) || window.requirejs) {\n",
       "      var urls = ['https://cdnjs.cloudflare.com/ajax/libs/ace/1.4.11/ace.js', 'https://cdnjs.cloudflare.com/ajax/libs/ace/1.4.11/ext-language_tools.js', 'https://cdnjs.cloudflare.com/ajax/libs/ace/1.4.11/ext-modelist.js'];\n",
       "      for (var i = 0; i < urls.length; i++) {\n",
       "        skip.push(urls[i])\n",
       "      }\n",
       "    }    if (((window['JSONEditor'] !== undefined) && (!(window['JSONEditor'] instanceof HTMLElement))) || window.requirejs) {\n",
       "      var urls = ['https://cdn.jsdelivr.net/npm/jsoneditor@9.1.9/dist/jsoneditor.min.js'];\n",
       "      for (var i = 0; i < urls.length; i++) {\n",
       "        skip.push(urls[i])\n",
       "      }\n",
       "    }    if (((window['GridStack'] !== undefined) && (!(window['GridStack'] instanceof HTMLElement))) || window.requirejs) {\n",
       "      var urls = ['https://cdn.jsdelivr.net/npm/gridstack@4.2.5/dist/gridstack-h5.js'];\n",
       "      for (var i = 0; i < urls.length; i++) {\n",
       "        skip.push(urls[i])\n",
       "      }\n",
       "    }    if (((window['Notyf'] !== undefined) && (!(window['Notyf'] instanceof HTMLElement))) || window.requirejs) {\n",
       "      var urls = ['https://cdn.jsdelivr.net/npm/notyf@3/notyf.min.js'];\n",
       "      for (var i = 0; i < urls.length; i++) {\n",
       "        skip.push(urls[i])\n",
       "      }\n",
       "    }    for (var i = 0; i < js_urls.length; i++) {\n",
       "      var url = js_urls[i];\n",
       "      if (skip.indexOf(url) >= 0) {\n",
       "\tif (!window.requirejs) {\n",
       "\t  on_load();\n",
       "\t}\n",
       "\tcontinue;\n",
       "      }\n",
       "      var element = document.createElement('script');\n",
       "      element.onload = on_load;\n",
       "      element.onerror = on_error;\n",
       "      element.async = false;\n",
       "      element.src = url;\n",
       "      console.debug(\"Bokeh: injecting script tag for BokehJS library: \", url);\n",
       "      document.head.appendChild(element);\n",
       "    }\n",
       "    for (var i = 0; i < js_modules.length; i++) {\n",
       "      var url = js_modules[i];\n",
       "      if (skip.indexOf(url) >= 0) {\n",
       "\tif (!window.requirejs) {\n",
       "\t  on_load();\n",
       "\t}\n",
       "\tcontinue;\n",
       "      }\n",
       "      var element = document.createElement('script');\n",
       "      element.onload = on_load;\n",
       "      element.onerror = on_error;\n",
       "      element.async = false;\n",
       "      element.src = url;\n",
       "      element.type = \"module\";\n",
       "      console.debug(\"Bokeh: injecting script tag for BokehJS library: \", url);\n",
       "      document.head.appendChild(element);\n",
       "    }\n",
       "    if (!js_urls.length && !js_modules.length) {\n",
       "      on_load()\n",
       "    }\n",
       "  };\n",
       "\n",
       "  function inject_raw_css(css) {\n",
       "    const element = document.createElement(\"style\");\n",
       "    element.appendChild(document.createTextNode(css));\n",
       "    document.body.appendChild(element);\n",
       "  }\n",
       "\n",
       "  var js_urls = [\"https://cdnjs.cloudflare.com/ajax/libs/ace/1.4.11/ace.js\", \"https://cdnjs.cloudflare.com/ajax/libs/ace/1.4.11/ext-language_tools.js\", \"https://cdnjs.cloudflare.com/ajax/libs/ace/1.4.11/ext-modelist.js\", \"https://cdn.jsdelivr.net/npm/jsoneditor@9.1.9/dist/jsoneditor.min.js\", \"https://cdn.jsdelivr.net/npm/vega@5\", \"https://cdn.jsdelivr.net/npm/vega-lite@5\", \"https://cdn.jsdelivr.net/npm/vega-embed@6\", \"https://cdn.bokeh.org/bokeh/release/bokeh-2.4.3.min.js\", \"https://cdn.bokeh.org/bokeh/release/bokeh-gl-2.4.3.min.js\", \"https://cdn.bokeh.org/bokeh/release/bokeh-widgets-2.4.3.min.js\", \"https://cdn.bokeh.org/bokeh/release/bokeh-tables-2.4.3.min.js\", \"https://cdn.bokeh.org/bokeh/release/bokeh-mathjax-2.4.3.min.js\", \"https://cdn.jsdelivr.net/npm/notyf@3/notyf.min.js\", \"https://unpkg.com/@holoviz/panel@0.13.1/dist/panel.min.js\"];\n",
       "  var js_modules = [];\n",
       "  var css_urls = [\"https://cdn.jsdelivr.net/npm/jsoneditor@9.1.9/dist/jsoneditor.min.css\", \"https://cdn.jsdelivr.net/npm/notyf@3/notyf.min.css\", \"https://cdnjs.cloudflare.com/ajax/libs/font-awesome/5.15.1/css/all.min.css\", \"https://unpkg.com/@holoviz/panel@0.13.1/dist/css/alerts.css\", \"https://unpkg.com/@holoviz/panel@0.13.1/dist/css/card.css\", \"https://unpkg.com/@holoviz/panel@0.13.1/dist/css/dataframe.css\", \"https://unpkg.com/@holoviz/panel@0.13.1/dist/css/debugger.css\", \"https://unpkg.com/@holoviz/panel@0.13.1/dist/css/json.css\", \"https://unpkg.com/@holoviz/panel@0.13.1/dist/css/loading.css\", \"https://unpkg.com/@holoviz/panel@0.13.1/dist/css/markdown.css\", \"https://unpkg.com/@holoviz/panel@0.13.1/dist/css/widgets.css\"];\n",
       "  var inline_js = [    function(Bokeh) {\n",
       "      inject_raw_css(\"\\n    .bk.pn-loading.arcs:before {\\n      background-image: url(\\\"data:image/svg+xml;base64,PHN2ZyB4bWxucz0iaHR0cDovL3d3dy53My5vcmcvMjAwMC9zdmciIHhtbG5zOnhsaW5rPSJodHRwOi8vd3d3LnczLm9yZy8xOTk5L3hsaW5rIiBzdHlsZT0ibWFyZ2luOiBhdXRvOyBiYWNrZ3JvdW5kOiBub25lOyBkaXNwbGF5OiBibG9jazsgc2hhcGUtcmVuZGVyaW5nOiBhdXRvOyIgdmlld0JveD0iMCAwIDEwMCAxMDAiIHByZXNlcnZlQXNwZWN0UmF0aW89InhNaWRZTWlkIj4gIDxjaXJjbGUgY3g9IjUwIiBjeT0iNTAiIHI9IjMyIiBzdHJva2Utd2lkdGg9IjgiIHN0cm9rZT0iI2MzYzNjMyIgc3Ryb2tlLWRhc2hhcnJheT0iNTAuMjY1NDgyNDU3NDM2NjkgNTAuMjY1NDgyNDU3NDM2NjkiIGZpbGw9Im5vbmUiIHN0cm9rZS1saW5lY2FwPSJyb3VuZCI+ICAgIDxhbmltYXRlVHJhbnNmb3JtIGF0dHJpYnV0ZU5hbWU9InRyYW5zZm9ybSIgdHlwZT0icm90YXRlIiByZXBlYXRDb3VudD0iaW5kZWZpbml0ZSIgZHVyPSIxcyIga2V5VGltZXM9IjA7MSIgdmFsdWVzPSIwIDUwIDUwOzM2MCA1MCA1MCI+PC9hbmltYXRlVHJhbnNmb3JtPiAgPC9jaXJjbGU+PC9zdmc+\\\");\\n      background-size: auto calc(min(50%, 400px));\\n    }\\n    \");\n",
       "    },    function(Bokeh) {\n",
       "      Bokeh.set_log_level(\"info\");\n",
       "    },\n",
       "function(Bokeh) {} // ensure no trailing comma for IE\n",
       "  ];\n",
       "\n",
       "  function run_inline_js() {\n",
       "    if ((root.Bokeh !== undefined) || (force === true)) {\n",
       "      for (var i = 0; i < inline_js.length; i++) {\n",
       "        inline_js[i].call(root, root.Bokeh);\n",
       "      }} else if (Date.now() < root._bokeh_timeout) {\n",
       "      setTimeout(run_inline_js, 100);\n",
       "    } else if (!root._bokeh_failed_load) {\n",
       "      console.log(\"Bokeh: BokehJS failed to load within specified timeout.\");\n",
       "      root._bokeh_failed_load = true;\n",
       "    }\n",
       "  }\n",
       "\n",
       "  if (root._bokeh_is_loading === 0) {\n",
       "    console.debug(\"Bokeh: BokehJS loaded, going straight to plotting\");\n",
       "    run_inline_js();\n",
       "  } else {\n",
       "    load_libs(css_urls, js_urls, js_modules, function() {\n",
       "      console.debug(\"Bokeh: BokehJS plotting callback run at\", now());\n",
       "      run_inline_js();\n",
       "    });\n",
       "  }\n",
       "}(window));"
      ],
      "application/vnd.holoviews_load.v0+json": "(function(root) {\n  function now() {\n    return new Date();\n  }\n\n  var force = true;\n\n  if (typeof root._bokeh_onload_callbacks === \"undefined\" || force === true) {\n    root._bokeh_onload_callbacks = [];\n    root._bokeh_is_loading = undefined;\n  }\n\n  if (typeof (root._bokeh_timeout) === \"undefined\" || force === true) {\n    root._bokeh_timeout = Date.now() + 5000;\n    root._bokeh_failed_load = false;\n  }\n\n  function run_callbacks() {\n    try {\n      root._bokeh_onload_callbacks.forEach(function(callback) {\n        if (callback != null)\n          callback();\n      });\n    } finally {\n      delete root._bokeh_onload_callbacks\n    }\n    console.debug(\"Bokeh: all callbacks have finished\");\n  }\n\n  function load_libs(css_urls, js_urls, js_modules, callback) {\n    if (css_urls == null) css_urls = [];\n    if (js_urls == null) js_urls = [];\n    if (js_modules == null) js_modules = [];\n\n    root._bokeh_onload_callbacks.push(callback);\n    if (root._bokeh_is_loading > 0) {\n      console.debug(\"Bokeh: BokehJS is being loaded, scheduling callback at\", now());\n      return null;\n    }\n    if (js_urls.length === 0 && js_modules.length === 0) {\n      run_callbacks();\n      return null;\n    }\n    console.debug(\"Bokeh: BokehJS not loaded, scheduling load and callback at\", now());\n\n    function on_load() {\n      root._bokeh_is_loading--;\n      if (root._bokeh_is_loading === 0) {\n        console.debug(\"Bokeh: all BokehJS libraries/stylesheets loaded\");\n        run_callbacks()\n      }\n    }\n\n    function on_error() {\n      console.error(\"failed to load \" + url);\n    }\n\n    for (var i = 0; i < css_urls.length; i++) {\n      var url = css_urls[i];\n      const element = document.createElement(\"link\");\n      element.onload = on_load;\n      element.onerror = on_error;\n      element.rel = \"stylesheet\";\n      element.type = \"text/css\";\n      element.href = url;\n      console.debug(\"Bokeh: injecting link tag for BokehJS stylesheet: \", url);\n      document.body.appendChild(element);\n    }\n\n    var skip = [];\n    if (window.requirejs) {\n      window.requirejs.config({'packages': {}, 'paths': {'vega-embed': 'https://cdn.jsdelivr.net/npm/vega-embed@6/build/vega-embed.min', 'vega-lite': 'https://cdn.jsdelivr.net/npm/vega-lite@5/build/vega-lite.min', 'vega': 'https://cdn.jsdelivr.net/npm/vega@5/build/vega.min', 'ace': '//cdnjs.cloudflare.com/ajax/libs/ace/1.4.7', 'jsoneditor': '//cdn.jsdelivr.net/npm/jsoneditor@9.1.9/dist/jsoneditor.min', 'gridstack': 'https://cdn.jsdelivr.net/npm/gridstack@4.2.5/dist/gridstack-h5', 'notyf': 'https://cdn.jsdelivr.net/npm/notyf@3/notyf.min'}, 'shim': {'ace/ext-language_tools': {'deps': ['ace/ace']}, 'ace/ext-modelist': {'deps': ['ace/ace']}, 'jsoneditor': {'exports': 'JSONEditor'}, 'gridstack': {'exports': 'GridStack'}}});\n      require([\"vega-embed\"], function(vegaEmbed) {\n\twindow.vegaEmbed = vegaEmbed\n\ton_load()\n      })\n      require([\"vega-lite\"], function(vl) {\n\twindow.vl = vl\n\ton_load()\n      })\n      require([\"vega\"], function(vega) {\n\twindow.vega = vega\n\ton_load()\n      })\n      require([\"ace/ace\"], function(ace) {\n\twindow.ace = ace\n\ton_load()\n      })\n      require([\"ace/ext-language_tools\"], function() {\n\ton_load()\n      })\n      require([\"ace/ext-modelist\"], function() {\n\ton_load()\n      })\n      require([\"jsoneditor\"], function(JSONEditor) {\n\twindow.JSONEditor = JSONEditor\n\ton_load()\n      })\n      require([\"gridstack\"], function(GridStack) {\n\twindow.GridStack = GridStack\n\ton_load()\n      })\n      require([\"notyf\"], function() {\n\ton_load()\n      })\n      root._bokeh_is_loading = css_urls.length + 9;\n    } else {\n      root._bokeh_is_loading = css_urls.length + js_urls.length + js_modules.length;\n    }    if (((window['vega'] !== undefined) && (!(window['vega'] instanceof HTMLElement))) || window.requirejs) {\n      var urls = ['https://cdn.jsdelivr.net/npm/vega@5'];\n      for (var i = 0; i < urls.length; i++) {\n        skip.push(urls[i])\n      }\n    }    if (((window['vegaLite'] !== undefined) && (!(window['vegaLite'] instanceof HTMLElement))) || window.requirejs) {\n      var urls = ['https://cdn.jsdelivr.net/npm/vega-lite@5'];\n      for (var i = 0; i < urls.length; i++) {\n        skip.push(urls[i])\n      }\n    }    if (((window['vegaEmbed'] !== undefined) && (!(window['vegaEmbed'] instanceof HTMLElement))) || window.requirejs) {\n      var urls = ['https://cdn.jsdelivr.net/npm/vega-embed@6'];\n      for (var i = 0; i < urls.length; i++) {\n        skip.push(urls[i])\n      }\n    }    if (((window['ace'] !== undefined) && (!(window['ace'] instanceof HTMLElement))) || window.requirejs) {\n      var urls = ['https://cdnjs.cloudflare.com/ajax/libs/ace/1.4.11/ace.js', 'https://cdnjs.cloudflare.com/ajax/libs/ace/1.4.11/ext-language_tools.js', 'https://cdnjs.cloudflare.com/ajax/libs/ace/1.4.11/ext-modelist.js'];\n      for (var i = 0; i < urls.length; i++) {\n        skip.push(urls[i])\n      }\n    }    if (((window['JSONEditor'] !== undefined) && (!(window['JSONEditor'] instanceof HTMLElement))) || window.requirejs) {\n      var urls = ['https://cdn.jsdelivr.net/npm/jsoneditor@9.1.9/dist/jsoneditor.min.js'];\n      for (var i = 0; i < urls.length; i++) {\n        skip.push(urls[i])\n      }\n    }    if (((window['GridStack'] !== undefined) && (!(window['GridStack'] instanceof HTMLElement))) || window.requirejs) {\n      var urls = ['https://cdn.jsdelivr.net/npm/gridstack@4.2.5/dist/gridstack-h5.js'];\n      for (var i = 0; i < urls.length; i++) {\n        skip.push(urls[i])\n      }\n    }    if (((window['Notyf'] !== undefined) && (!(window['Notyf'] instanceof HTMLElement))) || window.requirejs) {\n      var urls = ['https://cdn.jsdelivr.net/npm/notyf@3/notyf.min.js'];\n      for (var i = 0; i < urls.length; i++) {\n        skip.push(urls[i])\n      }\n    }    for (var i = 0; i < js_urls.length; i++) {\n      var url = js_urls[i];\n      if (skip.indexOf(url) >= 0) {\n\tif (!window.requirejs) {\n\t  on_load();\n\t}\n\tcontinue;\n      }\n      var element = document.createElement('script');\n      element.onload = on_load;\n      element.onerror = on_error;\n      element.async = false;\n      element.src = url;\n      console.debug(\"Bokeh: injecting script tag for BokehJS library: \", url);\n      document.head.appendChild(element);\n    }\n    for (var i = 0; i < js_modules.length; i++) {\n      var url = js_modules[i];\n      if (skip.indexOf(url) >= 0) {\n\tif (!window.requirejs) {\n\t  on_load();\n\t}\n\tcontinue;\n      }\n      var element = document.createElement('script');\n      element.onload = on_load;\n      element.onerror = on_error;\n      element.async = false;\n      element.src = url;\n      element.type = \"module\";\n      console.debug(\"Bokeh: injecting script tag for BokehJS library: \", url);\n      document.head.appendChild(element);\n    }\n    if (!js_urls.length && !js_modules.length) {\n      on_load()\n    }\n  };\n\n  function inject_raw_css(css) {\n    const element = document.createElement(\"style\");\n    element.appendChild(document.createTextNode(css));\n    document.body.appendChild(element);\n  }\n\n  var js_urls = [\"https://cdnjs.cloudflare.com/ajax/libs/ace/1.4.11/ace.js\", \"https://cdnjs.cloudflare.com/ajax/libs/ace/1.4.11/ext-language_tools.js\", \"https://cdnjs.cloudflare.com/ajax/libs/ace/1.4.11/ext-modelist.js\", \"https://cdn.jsdelivr.net/npm/jsoneditor@9.1.9/dist/jsoneditor.min.js\", \"https://cdn.jsdelivr.net/npm/vega@5\", \"https://cdn.jsdelivr.net/npm/vega-lite@5\", \"https://cdn.jsdelivr.net/npm/vega-embed@6\", \"https://cdn.bokeh.org/bokeh/release/bokeh-2.4.3.min.js\", \"https://cdn.bokeh.org/bokeh/release/bokeh-gl-2.4.3.min.js\", \"https://cdn.bokeh.org/bokeh/release/bokeh-widgets-2.4.3.min.js\", \"https://cdn.bokeh.org/bokeh/release/bokeh-tables-2.4.3.min.js\", \"https://cdn.bokeh.org/bokeh/release/bokeh-mathjax-2.4.3.min.js\", \"https://cdn.jsdelivr.net/npm/notyf@3/notyf.min.js\", \"https://unpkg.com/@holoviz/panel@0.13.1/dist/panel.min.js\"];\n  var js_modules = [];\n  var css_urls = [\"https://cdn.jsdelivr.net/npm/jsoneditor@9.1.9/dist/jsoneditor.min.css\", \"https://cdn.jsdelivr.net/npm/notyf@3/notyf.min.css\", \"https://cdnjs.cloudflare.com/ajax/libs/font-awesome/5.15.1/css/all.min.css\", \"https://unpkg.com/@holoviz/panel@0.13.1/dist/css/alerts.css\", \"https://unpkg.com/@holoviz/panel@0.13.1/dist/css/card.css\", \"https://unpkg.com/@holoviz/panel@0.13.1/dist/css/dataframe.css\", \"https://unpkg.com/@holoviz/panel@0.13.1/dist/css/debugger.css\", \"https://unpkg.com/@holoviz/panel@0.13.1/dist/css/json.css\", \"https://unpkg.com/@holoviz/panel@0.13.1/dist/css/loading.css\", \"https://unpkg.com/@holoviz/panel@0.13.1/dist/css/markdown.css\", \"https://unpkg.com/@holoviz/panel@0.13.1/dist/css/widgets.css\"];\n  var inline_js = [    function(Bokeh) {\n      inject_raw_css(\"\\n    .bk.pn-loading.arcs:before {\\n      background-image: url(\\\"data:image/svg+xml;base64,PHN2ZyB4bWxucz0iaHR0cDovL3d3dy53My5vcmcvMjAwMC9zdmciIHhtbG5zOnhsaW5rPSJodHRwOi8vd3d3LnczLm9yZy8xOTk5L3hsaW5rIiBzdHlsZT0ibWFyZ2luOiBhdXRvOyBiYWNrZ3JvdW5kOiBub25lOyBkaXNwbGF5OiBibG9jazsgc2hhcGUtcmVuZGVyaW5nOiBhdXRvOyIgdmlld0JveD0iMCAwIDEwMCAxMDAiIHByZXNlcnZlQXNwZWN0UmF0aW89InhNaWRZTWlkIj4gIDxjaXJjbGUgY3g9IjUwIiBjeT0iNTAiIHI9IjMyIiBzdHJva2Utd2lkdGg9IjgiIHN0cm9rZT0iI2MzYzNjMyIgc3Ryb2tlLWRhc2hhcnJheT0iNTAuMjY1NDgyNDU3NDM2NjkgNTAuMjY1NDgyNDU3NDM2NjkiIGZpbGw9Im5vbmUiIHN0cm9rZS1saW5lY2FwPSJyb3VuZCI+ICAgIDxhbmltYXRlVHJhbnNmb3JtIGF0dHJpYnV0ZU5hbWU9InRyYW5zZm9ybSIgdHlwZT0icm90YXRlIiByZXBlYXRDb3VudD0iaW5kZWZpbml0ZSIgZHVyPSIxcyIga2V5VGltZXM9IjA7MSIgdmFsdWVzPSIwIDUwIDUwOzM2MCA1MCA1MCI+PC9hbmltYXRlVHJhbnNmb3JtPiAgPC9jaXJjbGU+PC9zdmc+\\\");\\n      background-size: auto calc(min(50%, 400px));\\n    }\\n    \");\n    },    function(Bokeh) {\n      Bokeh.set_log_level(\"info\");\n    },\nfunction(Bokeh) {} // ensure no trailing comma for IE\n  ];\n\n  function run_inline_js() {\n    if ((root.Bokeh !== undefined) || (force === true)) {\n      for (var i = 0; i < inline_js.length; i++) {\n        inline_js[i].call(root, root.Bokeh);\n      }} else if (Date.now() < root._bokeh_timeout) {\n      setTimeout(run_inline_js, 100);\n    } else if (!root._bokeh_failed_load) {\n      console.log(\"Bokeh: BokehJS failed to load within specified timeout.\");\n      root._bokeh_failed_load = true;\n    }\n  }\n\n  if (root._bokeh_is_loading === 0) {\n    console.debug(\"Bokeh: BokehJS loaded, going straight to plotting\");\n    run_inline_js();\n  } else {\n    load_libs(css_urls, js_urls, js_modules, function() {\n      console.debug(\"Bokeh: BokehJS plotting callback run at\", now());\n      run_inline_js();\n    });\n  }\n}(window));"
     },
     "metadata": {},
     "output_type": "display_data"
    },
    {
     "data": {
      "application/javascript": [
       "\n",
       "if ((window.PyViz === undefined) || (window.PyViz instanceof HTMLElement)) {\n",
       "  window.PyViz = {comms: {}, comm_status:{}, kernels:{}, receivers: {}, plot_index: []}\n",
       "}\n",
       "\n",
       "\n",
       "    function JupyterCommManager() {\n",
       "    }\n",
       "\n",
       "    JupyterCommManager.prototype.register_target = function(plot_id, comm_id, msg_handler) {\n",
       "      if (window.comm_manager || ((window.Jupyter !== undefined) && (Jupyter.notebook.kernel != null))) {\n",
       "        var comm_manager = window.comm_manager || Jupyter.notebook.kernel.comm_manager;\n",
       "        comm_manager.register_target(comm_id, function(comm) {\n",
       "          comm.on_msg(msg_handler);\n",
       "        });\n",
       "      } else if ((plot_id in window.PyViz.kernels) && (window.PyViz.kernels[plot_id])) {\n",
       "        window.PyViz.kernels[plot_id].registerCommTarget(comm_id, function(comm) {\n",
       "          comm.onMsg = msg_handler;\n",
       "        });\n",
       "      } else if (typeof google != 'undefined' && google.colab.kernel != null) {\n",
       "        google.colab.kernel.comms.registerTarget(comm_id, (comm) => {\n",
       "          var messages = comm.messages[Symbol.asyncIterator]();\n",
       "          function processIteratorResult(result) {\n",
       "            var message = result.value;\n",
       "            console.log(message)\n",
       "            var content = {data: message.data, comm_id};\n",
       "            var buffers = []\n",
       "            for (var buffer of message.buffers || []) {\n",
       "              buffers.push(new DataView(buffer))\n",
       "            }\n",
       "            var metadata = message.metadata || {};\n",
       "            var msg = {content, buffers, metadata}\n",
       "            msg_handler(msg);\n",
       "            return messages.next().then(processIteratorResult);\n",
       "          }\n",
       "          return messages.next().then(processIteratorResult);\n",
       "        })\n",
       "      }\n",
       "    }\n",
       "\n",
       "    JupyterCommManager.prototype.get_client_comm = function(plot_id, comm_id, msg_handler) {\n",
       "      if (comm_id in window.PyViz.comms) {\n",
       "        return window.PyViz.comms[comm_id];\n",
       "      } else if (window.comm_manager || ((window.Jupyter !== undefined) && (Jupyter.notebook.kernel != null))) {\n",
       "        var comm_manager = window.comm_manager || Jupyter.notebook.kernel.comm_manager;\n",
       "        var comm = comm_manager.new_comm(comm_id, {}, {}, {}, comm_id);\n",
       "        if (msg_handler) {\n",
       "          comm.on_msg(msg_handler);\n",
       "        }\n",
       "      } else if ((plot_id in window.PyViz.kernels) && (window.PyViz.kernels[plot_id])) {\n",
       "        var comm = window.PyViz.kernels[plot_id].connectToComm(comm_id);\n",
       "        comm.open();\n",
       "        if (msg_handler) {\n",
       "          comm.onMsg = msg_handler;\n",
       "        }\n",
       "      } else if (typeof google != 'undefined' && google.colab.kernel != null) {\n",
       "        var comm_promise = google.colab.kernel.comms.open(comm_id)\n",
       "        comm_promise.then((comm) => {\n",
       "          window.PyViz.comms[comm_id] = comm;\n",
       "          if (msg_handler) {\n",
       "            var messages = comm.messages[Symbol.asyncIterator]();\n",
       "            function processIteratorResult(result) {\n",
       "              var message = result.value;\n",
       "              var content = {data: message.data};\n",
       "              var metadata = message.metadata || {comm_id};\n",
       "              var msg = {content, metadata}\n",
       "              msg_handler(msg);\n",
       "              return messages.next().then(processIteratorResult);\n",
       "            }\n",
       "            return messages.next().then(processIteratorResult);\n",
       "          }\n",
       "        }) \n",
       "        var sendClosure = (data, metadata, buffers, disposeOnDone) => {\n",
       "          return comm_promise.then((comm) => {\n",
       "            comm.send(data, metadata, buffers, disposeOnDone);\n",
       "          });\n",
       "        };\n",
       "        var comm = {\n",
       "          send: sendClosure\n",
       "        };\n",
       "      }\n",
       "      window.PyViz.comms[comm_id] = comm;\n",
       "      return comm;\n",
       "    }\n",
       "    window.PyViz.comm_manager = new JupyterCommManager();\n",
       "    \n",
       "\n",
       "\n",
       "var JS_MIME_TYPE = 'application/javascript';\n",
       "var HTML_MIME_TYPE = 'text/html';\n",
       "var EXEC_MIME_TYPE = 'application/vnd.holoviews_exec.v0+json';\n",
       "var CLASS_NAME = 'output';\n",
       "\n",
       "/**\n",
       " * Render data to the DOM node\n",
       " */\n",
       "function render(props, node) {\n",
       "  var div = document.createElement(\"div\");\n",
       "  var script = document.createElement(\"script\");\n",
       "  node.appendChild(div);\n",
       "  node.appendChild(script);\n",
       "}\n",
       "\n",
       "/**\n",
       " * Handle when a new output is added\n",
       " */\n",
       "function handle_add_output(event, handle) {\n",
       "  var output_area = handle.output_area;\n",
       "  var output = handle.output;\n",
       "  if ((output.data == undefined) || (!output.data.hasOwnProperty(EXEC_MIME_TYPE))) {\n",
       "    return\n",
       "  }\n",
       "  var id = output.metadata[EXEC_MIME_TYPE][\"id\"];\n",
       "  var toinsert = output_area.element.find(\".\" + CLASS_NAME.split(' ')[0]);\n",
       "  if (id !== undefined) {\n",
       "    var nchildren = toinsert.length;\n",
       "    var html_node = toinsert[nchildren-1].children[0];\n",
       "    html_node.innerHTML = output.data[HTML_MIME_TYPE];\n",
       "    var scripts = [];\n",
       "    var nodelist = html_node.querySelectorAll(\"script\");\n",
       "    for (var i in nodelist) {\n",
       "      if (nodelist.hasOwnProperty(i)) {\n",
       "        scripts.push(nodelist[i])\n",
       "      }\n",
       "    }\n",
       "\n",
       "    scripts.forEach( function (oldScript) {\n",
       "      var newScript = document.createElement(\"script\");\n",
       "      var attrs = [];\n",
       "      var nodemap = oldScript.attributes;\n",
       "      for (var j in nodemap) {\n",
       "        if (nodemap.hasOwnProperty(j)) {\n",
       "          attrs.push(nodemap[j])\n",
       "        }\n",
       "      }\n",
       "      attrs.forEach(function(attr) { newScript.setAttribute(attr.name, attr.value) });\n",
       "      newScript.appendChild(document.createTextNode(oldScript.innerHTML));\n",
       "      oldScript.parentNode.replaceChild(newScript, oldScript);\n",
       "    });\n",
       "    if (JS_MIME_TYPE in output.data) {\n",
       "      toinsert[nchildren-1].children[1].textContent = output.data[JS_MIME_TYPE];\n",
       "    }\n",
       "    output_area._hv_plot_id = id;\n",
       "    if ((window.Bokeh !== undefined) && (id in Bokeh.index)) {\n",
       "      window.PyViz.plot_index[id] = Bokeh.index[id];\n",
       "    } else {\n",
       "      window.PyViz.plot_index[id] = null;\n",
       "    }\n",
       "  } else if (output.metadata[EXEC_MIME_TYPE][\"server_id\"] !== undefined) {\n",
       "    var bk_div = document.createElement(\"div\");\n",
       "    bk_div.innerHTML = output.data[HTML_MIME_TYPE];\n",
       "    var script_attrs = bk_div.children[0].attributes;\n",
       "    for (var i = 0; i < script_attrs.length; i++) {\n",
       "      toinsert[toinsert.length - 1].childNodes[1].setAttribute(script_attrs[i].name, script_attrs[i].value);\n",
       "    }\n",
       "    // store reference to server id on output_area\n",
       "    output_area._bokeh_server_id = output.metadata[EXEC_MIME_TYPE][\"server_id\"];\n",
       "  }\n",
       "}\n",
       "\n",
       "/**\n",
       " * Handle when an output is cleared or removed\n",
       " */\n",
       "function handle_clear_output(event, handle) {\n",
       "  var id = handle.cell.output_area._hv_plot_id;\n",
       "  var server_id = handle.cell.output_area._bokeh_server_id;\n",
       "  if (((id === undefined) || !(id in PyViz.plot_index)) && (server_id !== undefined)) { return; }\n",
       "  var comm = window.PyViz.comm_manager.get_client_comm(\"hv-extension-comm\", \"hv-extension-comm\", function () {});\n",
       "  if (server_id !== null) {\n",
       "    comm.send({event_type: 'server_delete', 'id': server_id});\n",
       "    return;\n",
       "  } else if (comm !== null) {\n",
       "    comm.send({event_type: 'delete', 'id': id});\n",
       "  }\n",
       "  delete PyViz.plot_index[id];\n",
       "  if ((window.Bokeh !== undefined) & (id in window.Bokeh.index)) {\n",
       "    var doc = window.Bokeh.index[id].model.document\n",
       "    doc.clear();\n",
       "    const i = window.Bokeh.documents.indexOf(doc);\n",
       "    if (i > -1) {\n",
       "      window.Bokeh.documents.splice(i, 1);\n",
       "    }\n",
       "  }\n",
       "}\n",
       "\n",
       "/**\n",
       " * Handle kernel restart event\n",
       " */\n",
       "function handle_kernel_cleanup(event, handle) {\n",
       "  delete PyViz.comms[\"hv-extension-comm\"];\n",
       "  window.PyViz.plot_index = {}\n",
       "}\n",
       "\n",
       "/**\n",
       " * Handle update_display_data messages\n",
       " */\n",
       "function handle_update_output(event, handle) {\n",
       "  handle_clear_output(event, {cell: {output_area: handle.output_area}})\n",
       "  handle_add_output(event, handle)\n",
       "}\n",
       "\n",
       "function register_renderer(events, OutputArea) {\n",
       "  function append_mime(data, metadata, element) {\n",
       "    // create a DOM node to render to\n",
       "    var toinsert = this.create_output_subarea(\n",
       "    metadata,\n",
       "    CLASS_NAME,\n",
       "    EXEC_MIME_TYPE\n",
       "    );\n",
       "    this.keyboard_manager.register_events(toinsert);\n",
       "    // Render to node\n",
       "    var props = {data: data, metadata: metadata[EXEC_MIME_TYPE]};\n",
       "    render(props, toinsert[0]);\n",
       "    element.append(toinsert);\n",
       "    return toinsert\n",
       "  }\n",
       "\n",
       "  events.on('output_added.OutputArea', handle_add_output);\n",
       "  events.on('output_updated.OutputArea', handle_update_output);\n",
       "  events.on('clear_output.CodeCell', handle_clear_output);\n",
       "  events.on('delete.Cell', handle_clear_output);\n",
       "  events.on('kernel_ready.Kernel', handle_kernel_cleanup);\n",
       "\n",
       "  OutputArea.prototype.register_mime_type(EXEC_MIME_TYPE, append_mime, {\n",
       "    safe: true,\n",
       "    index: 0\n",
       "  });\n",
       "}\n",
       "\n",
       "if (window.Jupyter !== undefined) {\n",
       "  try {\n",
       "    var events = require('base/js/events');\n",
       "    var OutputArea = require('notebook/js/outputarea').OutputArea;\n",
       "    if (OutputArea.prototype.mime_types().indexOf(EXEC_MIME_TYPE) == -1) {\n",
       "      register_renderer(events, OutputArea);\n",
       "    }\n",
       "  } catch(err) {\n",
       "  }\n",
       "}\n"
      ],
      "application/vnd.holoviews_load.v0+json": "\nif ((window.PyViz === undefined) || (window.PyViz instanceof HTMLElement)) {\n  window.PyViz = {comms: {}, comm_status:{}, kernels:{}, receivers: {}, plot_index: []}\n}\n\n\n    function JupyterCommManager() {\n    }\n\n    JupyterCommManager.prototype.register_target = function(plot_id, comm_id, msg_handler) {\n      if (window.comm_manager || ((window.Jupyter !== undefined) && (Jupyter.notebook.kernel != null))) {\n        var comm_manager = window.comm_manager || Jupyter.notebook.kernel.comm_manager;\n        comm_manager.register_target(comm_id, function(comm) {\n          comm.on_msg(msg_handler);\n        });\n      } else if ((plot_id in window.PyViz.kernels) && (window.PyViz.kernels[plot_id])) {\n        window.PyViz.kernels[plot_id].registerCommTarget(comm_id, function(comm) {\n          comm.onMsg = msg_handler;\n        });\n      } else if (typeof google != 'undefined' && google.colab.kernel != null) {\n        google.colab.kernel.comms.registerTarget(comm_id, (comm) => {\n          var messages = comm.messages[Symbol.asyncIterator]();\n          function processIteratorResult(result) {\n            var message = result.value;\n            console.log(message)\n            var content = {data: message.data, comm_id};\n            var buffers = []\n            for (var buffer of message.buffers || []) {\n              buffers.push(new DataView(buffer))\n            }\n            var metadata = message.metadata || {};\n            var msg = {content, buffers, metadata}\n            msg_handler(msg);\n            return messages.next().then(processIteratorResult);\n          }\n          return messages.next().then(processIteratorResult);\n        })\n      }\n    }\n\n    JupyterCommManager.prototype.get_client_comm = function(plot_id, comm_id, msg_handler) {\n      if (comm_id in window.PyViz.comms) {\n        return window.PyViz.comms[comm_id];\n      } else if (window.comm_manager || ((window.Jupyter !== undefined) && (Jupyter.notebook.kernel != null))) {\n        var comm_manager = window.comm_manager || Jupyter.notebook.kernel.comm_manager;\n        var comm = comm_manager.new_comm(comm_id, {}, {}, {}, comm_id);\n        if (msg_handler) {\n          comm.on_msg(msg_handler);\n        }\n      } else if ((plot_id in window.PyViz.kernels) && (window.PyViz.kernels[plot_id])) {\n        var comm = window.PyViz.kernels[plot_id].connectToComm(comm_id);\n        comm.open();\n        if (msg_handler) {\n          comm.onMsg = msg_handler;\n        }\n      } else if (typeof google != 'undefined' && google.colab.kernel != null) {\n        var comm_promise = google.colab.kernel.comms.open(comm_id)\n        comm_promise.then((comm) => {\n          window.PyViz.comms[comm_id] = comm;\n          if (msg_handler) {\n            var messages = comm.messages[Symbol.asyncIterator]();\n            function processIteratorResult(result) {\n              var message = result.value;\n              var content = {data: message.data};\n              var metadata = message.metadata || {comm_id};\n              var msg = {content, metadata}\n              msg_handler(msg);\n              return messages.next().then(processIteratorResult);\n            }\n            return messages.next().then(processIteratorResult);\n          }\n        }) \n        var sendClosure = (data, metadata, buffers, disposeOnDone) => {\n          return comm_promise.then((comm) => {\n            comm.send(data, metadata, buffers, disposeOnDone);\n          });\n        };\n        var comm = {\n          send: sendClosure\n        };\n      }\n      window.PyViz.comms[comm_id] = comm;\n      return comm;\n    }\n    window.PyViz.comm_manager = new JupyterCommManager();\n    \n\n\nvar JS_MIME_TYPE = 'application/javascript';\nvar HTML_MIME_TYPE = 'text/html';\nvar EXEC_MIME_TYPE = 'application/vnd.holoviews_exec.v0+json';\nvar CLASS_NAME = 'output';\n\n/**\n * Render data to the DOM node\n */\nfunction render(props, node) {\n  var div = document.createElement(\"div\");\n  var script = document.createElement(\"script\");\n  node.appendChild(div);\n  node.appendChild(script);\n}\n\n/**\n * Handle when a new output is added\n */\nfunction handle_add_output(event, handle) {\n  var output_area = handle.output_area;\n  var output = handle.output;\n  if ((output.data == undefined) || (!output.data.hasOwnProperty(EXEC_MIME_TYPE))) {\n    return\n  }\n  var id = output.metadata[EXEC_MIME_TYPE][\"id\"];\n  var toinsert = output_area.element.find(\".\" + CLASS_NAME.split(' ')[0]);\n  if (id !== undefined) {\n    var nchildren = toinsert.length;\n    var html_node = toinsert[nchildren-1].children[0];\n    html_node.innerHTML = output.data[HTML_MIME_TYPE];\n    var scripts = [];\n    var nodelist = html_node.querySelectorAll(\"script\");\n    for (var i in nodelist) {\n      if (nodelist.hasOwnProperty(i)) {\n        scripts.push(nodelist[i])\n      }\n    }\n\n    scripts.forEach( function (oldScript) {\n      var newScript = document.createElement(\"script\");\n      var attrs = [];\n      var nodemap = oldScript.attributes;\n      for (var j in nodemap) {\n        if (nodemap.hasOwnProperty(j)) {\n          attrs.push(nodemap[j])\n        }\n      }\n      attrs.forEach(function(attr) { newScript.setAttribute(attr.name, attr.value) });\n      newScript.appendChild(document.createTextNode(oldScript.innerHTML));\n      oldScript.parentNode.replaceChild(newScript, oldScript);\n    });\n    if (JS_MIME_TYPE in output.data) {\n      toinsert[nchildren-1].children[1].textContent = output.data[JS_MIME_TYPE];\n    }\n    output_area._hv_plot_id = id;\n    if ((window.Bokeh !== undefined) && (id in Bokeh.index)) {\n      window.PyViz.plot_index[id] = Bokeh.index[id];\n    } else {\n      window.PyViz.plot_index[id] = null;\n    }\n  } else if (output.metadata[EXEC_MIME_TYPE][\"server_id\"] !== undefined) {\n    var bk_div = document.createElement(\"div\");\n    bk_div.innerHTML = output.data[HTML_MIME_TYPE];\n    var script_attrs = bk_div.children[0].attributes;\n    for (var i = 0; i < script_attrs.length; i++) {\n      toinsert[toinsert.length - 1].childNodes[1].setAttribute(script_attrs[i].name, script_attrs[i].value);\n    }\n    // store reference to server id on output_area\n    output_area._bokeh_server_id = output.metadata[EXEC_MIME_TYPE][\"server_id\"];\n  }\n}\n\n/**\n * Handle when an output is cleared or removed\n */\nfunction handle_clear_output(event, handle) {\n  var id = handle.cell.output_area._hv_plot_id;\n  var server_id = handle.cell.output_area._bokeh_server_id;\n  if (((id === undefined) || !(id in PyViz.plot_index)) && (server_id !== undefined)) { return; }\n  var comm = window.PyViz.comm_manager.get_client_comm(\"hv-extension-comm\", \"hv-extension-comm\", function () {});\n  if (server_id !== null) {\n    comm.send({event_type: 'server_delete', 'id': server_id});\n    return;\n  } else if (comm !== null) {\n    comm.send({event_type: 'delete', 'id': id});\n  }\n  delete PyViz.plot_index[id];\n  if ((window.Bokeh !== undefined) & (id in window.Bokeh.index)) {\n    var doc = window.Bokeh.index[id].model.document\n    doc.clear();\n    const i = window.Bokeh.documents.indexOf(doc);\n    if (i > -1) {\n      window.Bokeh.documents.splice(i, 1);\n    }\n  }\n}\n\n/**\n * Handle kernel restart event\n */\nfunction handle_kernel_cleanup(event, handle) {\n  delete PyViz.comms[\"hv-extension-comm\"];\n  window.PyViz.plot_index = {}\n}\n\n/**\n * Handle update_display_data messages\n */\nfunction handle_update_output(event, handle) {\n  handle_clear_output(event, {cell: {output_area: handle.output_area}})\n  handle_add_output(event, handle)\n}\n\nfunction register_renderer(events, OutputArea) {\n  function append_mime(data, metadata, element) {\n    // create a DOM node to render to\n    var toinsert = this.create_output_subarea(\n    metadata,\n    CLASS_NAME,\n    EXEC_MIME_TYPE\n    );\n    this.keyboard_manager.register_events(toinsert);\n    // Render to node\n    var props = {data: data, metadata: metadata[EXEC_MIME_TYPE]};\n    render(props, toinsert[0]);\n    element.append(toinsert);\n    return toinsert\n  }\n\n  events.on('output_added.OutputArea', handle_add_output);\n  events.on('output_updated.OutputArea', handle_update_output);\n  events.on('clear_output.CodeCell', handle_clear_output);\n  events.on('delete.Cell', handle_clear_output);\n  events.on('kernel_ready.Kernel', handle_kernel_cleanup);\n\n  OutputArea.prototype.register_mime_type(EXEC_MIME_TYPE, append_mime, {\n    safe: true,\n    index: 0\n  });\n}\n\nif (window.Jupyter !== undefined) {\n  try {\n    var events = require('base/js/events');\n    var OutputArea = require('notebook/js/outputarea').OutputArea;\n    if (OutputArea.prototype.mime_types().indexOf(EXEC_MIME_TYPE) == -1) {\n      register_renderer(events, OutputArea);\n    }\n  } catch(err) {\n  }\n}\n"
     },
     "metadata": {},
     "output_type": "display_data"
    },
    {
     "data": {
      "text/html": [
       "<style>.bk-root, .bk-root .bk:before, .bk-root .bk:after {\n",
       "  font-family: var(--jp-ui-font-size1);\n",
       "  font-size: var(--jp-ui-font-size1);\n",
       "  color: var(--jp-ui-font-color1);\n",
       "}\n",
       "</style>"
      ]
     },
     "metadata": {},
     "output_type": "display_data"
    }
   ],
   "source": [
    "import io\n",
    "import os\n",
    "import panel as pn\n",
    "import numpy as np\n",
    "import pandas as pd\n",
    "\n",
    "pn.extension('vega', 'ace', 'jsoneditor', 'ipywidgets', sizing_mode='stretch_width')"
   ]
  },
  {
   "cell_type": "markdown",
   "id": "e6702065",
   "metadata": {},
   "source": [
    "### Option 1\n",
    "\n",
    "This option has the folder opener in the sidebar (left) area.\n"
   ]
  },
  {
   "cell_type": "code",
   "execution_count": 2,
   "id": "6ad601ae",
   "metadata": {},
   "outputs": [
    {
     "data": {},
     "metadata": {},
     "output_type": "display_data"
    },
    {
     "data": {
      "application/vnd.holoviews_exec.v0+json": "",
      "text/html": [
       "<div id='1002'>\n",
       "  <div class=\"bk-root\" id=\"cc3f3789-e68a-4ac1-b5bf-a4cb18822513\" data-root-id=\"1002\"></div>\n",
       "</div>\n",
       "<script type=\"application/javascript\">(function(root) {\n",
       "  function embed_document(root) {\n",
       "    var docs_json = {\"b6551aeb-e33e-457d-b608-925651643a01\":{\"defs\":[{\"extends\":null,\"module\":null,\"name\":\"ReactiveHTML1\",\"overrides\":[],\"properties\":[]},{\"extends\":null,\"module\":null,\"name\":\"FlexBox1\",\"overrides\":[],\"properties\":[{\"default\":\"flex-start\",\"kind\":null,\"name\":\"align_content\"},{\"default\":\"flex-start\",\"kind\":null,\"name\":\"align_items\"},{\"default\":\"row\",\"kind\":null,\"name\":\"flex_direction\"},{\"default\":\"wrap\",\"kind\":null,\"name\":\"flex_wrap\"},{\"default\":\"flex-start\",\"kind\":null,\"name\":\"justify_content\"}]},{\"extends\":null,\"module\":null,\"name\":\"GridStack1\",\"overrides\":[],\"properties\":[{\"default\":\"warn\",\"kind\":null,\"name\":\"mode\"},{\"default\":null,\"kind\":null,\"name\":\"ncols\"},{\"default\":null,\"kind\":null,\"name\":\"nrows\"},{\"default\":true,\"kind\":null,\"name\":\"allow_resize\"},{\"default\":true,\"kind\":null,\"name\":\"allow_drag\"},{\"default\":[],\"kind\":null,\"name\":\"state\"}]},{\"extends\":null,\"module\":null,\"name\":\"click1\",\"overrides\":[],\"properties\":[{\"default\":\"\",\"kind\":null,\"name\":\"terminal_output\"},{\"default\":\"\",\"kind\":null,\"name\":\"debug_name\"},{\"default\":0,\"kind\":null,\"name\":\"clears\"}]},{\"extends\":null,\"module\":null,\"name\":\"NotificationAreaBase1\",\"overrides\":[],\"properties\":[{\"default\":\"bottom-right\",\"kind\":null,\"name\":\"position\"},{\"default\":0,\"kind\":null,\"name\":\"_clear\"}]},{\"extends\":null,\"module\":null,\"name\":\"NotificationArea1\",\"overrides\":[],\"properties\":[{\"default\":[],\"kind\":null,\"name\":\"notifications\"},{\"default\":\"bottom-right\",\"kind\":null,\"name\":\"position\"},{\"default\":0,\"kind\":null,\"name\":\"_clear\"},{\"default\":[{\"background\":\"#ffc107\",\"icon\":{\"className\":\"fas fa-exclamation-triangle\",\"color\":\"white\",\"tagName\":\"i\"},\"type\":\"warning\"},{\"background\":\"#007bff\",\"icon\":{\"className\":\"fas fa-info-circle\",\"color\":\"white\",\"tagName\":\"i\"},\"type\":\"info\"}],\"kind\":null,\"name\":\"types\"}]},{\"extends\":null,\"module\":null,\"name\":\"Notification\",\"overrides\":[],\"properties\":[{\"default\":null,\"kind\":null,\"name\":\"background\"},{\"default\":3000,\"kind\":null,\"name\":\"duration\"},{\"default\":null,\"kind\":null,\"name\":\"icon\"},{\"default\":\"\",\"kind\":null,\"name\":\"message\"},{\"default\":null,\"kind\":null,\"name\":\"notification_type\"},{\"default\":false,\"kind\":null,\"name\":\"_destroyed\"}]},{\"extends\":null,\"module\":null,\"name\":\"TemplateActions1\",\"overrides\":[],\"properties\":[{\"default\":0,\"kind\":null,\"name\":\"open_modal\"},{\"default\":0,\"kind\":null,\"name\":\"close_modal\"}]},{\"extends\":null,\"module\":null,\"name\":\"MaterialTemplateActions1\",\"overrides\":[],\"properties\":[{\"default\":0,\"kind\":null,\"name\":\"open_modal\"},{\"default\":0,\"kind\":null,\"name\":\"close_modal\"}]}],\"roots\":{\"references\":[{\"attributes\":{\"reload\":false},\"id\":\"1004\",\"type\":\"panel.models.location.Location\"},{\"attributes\":{\"client_comm_id\":\"6ff723505c6a42259e665c0f676ba693\",\"comm_id\":\"6b2700c1c28e4bc5ab608f528d0e4f8f\",\"plot_id\":\"1002\"},\"id\":\"1003\",\"type\":\"panel.models.comm_manager.CommManager\"},{\"attributes\":{\"labels\":[\"Ignore Warnings\",\"Ignore NIfTI Headers\",\"Skip Subject Filename Consistency Check\"],\"margin\":[5,10,5,10],\"sizing_mode\":\"stretch_width\"},\"id\":\"1002\",\"type\":\"CheckboxGroup\"}],\"root_ids\":[\"1002\",\"1003\",\"1004\"]},\"title\":\"Bokeh Application\",\"version\":\"2.4.3\"}};\n",
       "    var render_items = [{\"docid\":\"b6551aeb-e33e-457d-b608-925651643a01\",\"root_ids\":[\"1002\"],\"roots\":{\"1002\":\"cc3f3789-e68a-4ac1-b5bf-a4cb18822513\"}}];\n",
       "    root.Bokeh.embed.embed_items_notebook(docs_json, render_items);\n",
       "  }\n",
       "  if (root.Bokeh !== undefined && root.Bokeh.Panel !== undefined && ( root['vega'] !== undefined)) {\n",
       "    embed_document(root);\n",
       "  } else {\n",
       "    var attempts = 0;\n",
       "    var timer = setInterval(function(root) {\n",
       "      if (root.Bokeh !== undefined && root.Bokeh.Panel !== undefined && (root['vega'] !== undefined)) {\n",
       "        clearInterval(timer);\n",
       "        embed_document(root);\n",
       "      } else if (document.readyState == \"complete\") {\n",
       "        attempts++;\n",
       "        if (attempts > 200) {\n",
       "          clearInterval(timer);\n",
       "          console.log(\"Bokeh: ERROR: Unable to run BokehJS code because BokehJS library is missing\");\n",
       "        }\n",
       "      }\n",
       "    }, 25, root)\n",
       "  }\n",
       "})(window);</script>"
      ],
      "text/plain": [
       "CheckBoxGroup(name='File option', options=['Ignore Warnings', ...], sizing_mode='stretch_width')"
      ]
     },
     "execution_count": 2,
     "metadata": {
      "application/vnd.holoviews_exec.v0+json": {
       "id": "1002"
      }
     },
     "output_type": "execute_result"
    }
   ],
   "source": [
    "checkbox = pn.widgets.CheckBoxGroup(\n",
    "    name='File option', options=['Ignore Warnings',\n",
    "                               'Ignore NIfTI Headers',\n",
    "                               'Skip Subject Filename Consistency Check'],\n",
    "    inline=False\n",
    ")\n",
    "\n",
    "checkbox"
   ]
  },
  {
   "cell_type": "code",
   "execution_count": 65,
   "id": "f98e0ca1",
   "metadata": {},
   "outputs": [
    {
     "data": {},
     "metadata": {},
     "output_type": "display_data"
    },
    {
     "data": {
      "application/vnd.holoviews_exec.v0+json": "",
      "text/html": [
       "<div id='3251'>\n",
       "  <div class=\"bk-root\" id=\"c839c093-e832-4a7d-99b4-b9637f7166a8\" data-root-id=\"3251\"></div>\n",
       "</div>\n",
       "<script type=\"application/javascript\">(function(root) {\n",
       "  function embed_document(root) {\n",
       "    var docs_json = {\"c033d3d3-336e-4956-b4ca-f7181384fea1\":{\"defs\":[{\"extends\":null,\"module\":null,\"name\":\"ReactiveHTML1\",\"overrides\":[],\"properties\":[]},{\"extends\":null,\"module\":null,\"name\":\"FlexBox1\",\"overrides\":[],\"properties\":[{\"default\":\"flex-start\",\"kind\":null,\"name\":\"align_content\"},{\"default\":\"flex-start\",\"kind\":null,\"name\":\"align_items\"},{\"default\":\"row\",\"kind\":null,\"name\":\"flex_direction\"},{\"default\":\"wrap\",\"kind\":null,\"name\":\"flex_wrap\"},{\"default\":\"flex-start\",\"kind\":null,\"name\":\"justify_content\"}]},{\"extends\":null,\"module\":null,\"name\":\"GridStack1\",\"overrides\":[],\"properties\":[{\"default\":\"warn\",\"kind\":null,\"name\":\"mode\"},{\"default\":null,\"kind\":null,\"name\":\"ncols\"},{\"default\":null,\"kind\":null,\"name\":\"nrows\"},{\"default\":true,\"kind\":null,\"name\":\"allow_resize\"},{\"default\":true,\"kind\":null,\"name\":\"allow_drag\"},{\"default\":[],\"kind\":null,\"name\":\"state\"}]},{\"extends\":null,\"module\":null,\"name\":\"click1\",\"overrides\":[],\"properties\":[{\"default\":\"\",\"kind\":null,\"name\":\"terminal_output\"},{\"default\":\"\",\"kind\":null,\"name\":\"debug_name\"},{\"default\":0,\"kind\":null,\"name\":\"clears\"}]},{\"extends\":null,\"module\":null,\"name\":\"NotificationAreaBase1\",\"overrides\":[],\"properties\":[{\"default\":\"bottom-right\",\"kind\":null,\"name\":\"position\"},{\"default\":0,\"kind\":null,\"name\":\"_clear\"}]},{\"extends\":null,\"module\":null,\"name\":\"NotificationArea1\",\"overrides\":[],\"properties\":[{\"default\":[],\"kind\":null,\"name\":\"notifications\"},{\"default\":\"bottom-right\",\"kind\":null,\"name\":\"position\"},{\"default\":0,\"kind\":null,\"name\":\"_clear\"},{\"default\":[{\"background\":\"#ffc107\",\"icon\":{\"className\":\"fas fa-exclamation-triangle\",\"color\":\"white\",\"tagName\":\"i\"},\"type\":\"warning\"},{\"background\":\"#007bff\",\"icon\":{\"className\":\"fas fa-info-circle\",\"color\":\"white\",\"tagName\":\"i\"},\"type\":\"info\"}],\"kind\":null,\"name\":\"types\"}]},{\"extends\":null,\"module\":null,\"name\":\"Notification\",\"overrides\":[],\"properties\":[{\"default\":null,\"kind\":null,\"name\":\"background\"},{\"default\":3000,\"kind\":null,\"name\":\"duration\"},{\"default\":null,\"kind\":null,\"name\":\"icon\"},{\"default\":\"\",\"kind\":null,\"name\":\"message\"},{\"default\":null,\"kind\":null,\"name\":\"notification_type\"},{\"default\":false,\"kind\":null,\"name\":\"_destroyed\"}]},{\"extends\":null,\"module\":null,\"name\":\"TemplateActions1\",\"overrides\":[],\"properties\":[{\"default\":0,\"kind\":null,\"name\":\"open_modal\"},{\"default\":0,\"kind\":null,\"name\":\"close_modal\"}]},{\"extends\":null,\"module\":null,\"name\":\"MaterialTemplateActions1\",\"overrides\":[],\"properties\":[{\"default\":0,\"kind\":null,\"name\":\"open_modal\"},{\"default\":0,\"kind\":null,\"name\":\"close_modal\"}]}],\"roots\":{\"references\":[{\"attributes\":{\"margin\":[0,0,10,0],\"max_length\":5000,\"placeholder\":\"Filter selected options\",\"sizing_mode\":\"stretch_width\",\"width_policy\":\"max\"},\"id\":\"3275\",\"type\":\"TextInput\"},{\"attributes\":{\"disabled\":true,\"icon\":null,\"label\":\"\\u2b07\",\"margin\":[5,10,0,0],\"sizing_mode\":\"stretch_width\",\"subscribed_events\":[\"button_click\"],\"width\":25},\"id\":\"3259\",\"type\":\"Button\"},{\"attributes\":{\"margin\":[0,0,0,0],\"options\":[\"\\ud83d\\udcc1app_templates\",\"\\ud83d\\udcc1data\",\"\\ud83d\\udcc1docs\",\"\\ud83d\\udcc1examples\",\"\\ud83d\\udcc1ignore\",\"\\ud83d\\udcc1incf\",\"\\ud83d\\udcc1output\",\"\\ud83d\\udcc1tests\",\"AUTHORS.rst\",\"CONTRIBUTING.rst\",\"HISTORY.rst\",\"LICENSE\",\"MANIFEST.in\",\"Makefile\",\"README.rst\",\"requirements.txt\",\"requirements_dev.txt\",\"setup.cfg\",\"setup.py\",\"tox.ini\"],\"size\":10,\"sizing_mode\":\"stretch_both\"},\"id\":\"3266\",\"type\":\"MultiSelect\"},{\"attributes\":{\"children\":[{\"id\":\"3254\"},{\"id\":\"3261\"},{\"id\":\"3262\"}],\"margin\":[5,10,20,10],\"name\":\"Column00861\",\"sizing_mode\":\"stretch_width\"},\"id\":\"3253\",\"type\":\"Column\"},{\"attributes\":{\"labels\":[\"Traverse all folders\",\"Ignore Warnings\",\"Ignore NIfTI Headers\",\"Skip Subject Filename Consistency Check\"],\"margin\":[5,10,5,10],\"sizing_mode\":\"stretch_width\"},\"id\":\"3278\",\"type\":\"CheckboxGroup\"},{\"attributes\":{\"margin\":[5,5,5,5],\"name\":\"VSpacer00875\",\"sizing_mode\":\"stretch_height\"},\"id\":\"3272\",\"type\":\"Spacer\"},{\"attributes\":{\"css_classes\":[\"markdown\"],\"margin\":[10,0,0,0],\"name\":\"Markdown00892\",\"sizing_mode\":\"stretch_width\",\"text\":\"&lt;p&gt;&lt;strong&gt;Select options&lt;/strong&gt;:&lt;/p&gt;\"},\"id\":\"3277\",\"type\":\"panel.models.markup.HTML\"},{\"attributes\":{\"margin\":[5,10,5,10],\"max_length\":5000,\"sizing_mode\":\"stretch_width\",\"value\":\"C:\\\\Users\\\\dinar\\\\Desktop\\\\gsoc\",\"width_policy\":\"max\"},\"id\":\"3258\",\"type\":\"TextInput\"},{\"attributes\":{\"margin\":[0,0,10,0],\"max_length\":5000,\"placeholder\":\"Filter available options\",\"sizing_mode\":\"stretch_width\",\"width_policy\":\"max\"},\"id\":\"3265\",\"type\":\"TextInput\"},{\"attributes\":{\"css_classes\":[\"markdown\"],\"margin\":[5,5,5,5],\"name\":\"Markdown00890\",\"sizing_mode\":\"stretch_width\",\"text\":\"&lt;h3&gt;Select folder location&lt;/h3&gt;\\n&lt;p&gt;We support .mat|.txt|.dcm|.eeg|.py|.img|.zip file extensions. This function will not upload any\\nfolders to the app. Instead, it will automatically select and show the files that pass the accepted file extension\\nthreshold. There is no file size limit.&lt;/p&gt;\"},\"id\":\"3252\",\"type\":\"panel.models.markup.HTML\"},{\"attributes\":{\"margin\":[0,0,0,0],\"name\":\"Divider00884\",\"sizing_mode\":\"stretch_width\",\"style\":{\"height\":\"100%\",\"width\":\"100%\"},\"text\":\"<hr style=\\\"margin: 0px\\\">\",\"width_policy\":\"fit\"},\"id\":\"3261\",\"type\":\"Div\"},{\"attributes\":{\"disabled\":true,\"margin\":[0,0,0,0],\"max_length\":5000,\"placeholder\":\"To select an item highlight it on the left and use the arrow button to move it to the right.\",\"sizing_mode\":\"stretch_both\"},\"id\":\"3276\",\"type\":\"TextAreaInput\"},{\"attributes\":{\"icon\":null,\"label\":\"<<\",\"margin\":[5,10,5,10],\"sizing_mode\":\"stretch_width\",\"subscribed_events\":[\"button_click\"],\"width\":50},\"id\":\"3271\",\"type\":\"Button\"},{\"attributes\":{\"disabled\":true,\"icon\":null,\"label\":\"\\u25b6\",\"margin\":[5,10,5,10],\"sizing_mode\":\"stretch_width\",\"subscribed_events\":[\"button_click\"],\"width\":25},\"id\":\"3256\",\"type\":\"Button\"},{\"attributes\":{\"children\":[{\"id\":\"3274\"},{\"id\":\"3275\"},{\"id\":\"3276\"}],\"margin\":[0,0,0,0],\"name\":\"Column00872\",\"sizing_mode\":\"stretch_both\"},\"id\":\"3273\",\"type\":\"Column\"},{\"attributes\":{\"css_classes\":[\"markdown\"],\"margin\":[0,0,0,0],\"name\":\"Markdown00887\",\"sizing_mode\":\"stretch_width\",\"text\":\"&lt;h3&gt;File Browser&lt;/h3&gt;\"},\"id\":\"3264\",\"type\":\"panel.models.markup.HTML\"},{\"attributes\":{\"children\":[{\"id\":\"3270\"},{\"id\":\"3271\"}],\"margin\":[0,5,0,5],\"name\":\"Column00873\",\"sizing_mode\":\"stretch_width\"},\"id\":\"3269\",\"type\":\"Column\"},{\"attributes\":{\"disabled\":true,\"icon\":null,\"label\":\"\\u25c0\",\"margin\":[5,10,0,0],\"sizing_mode\":\"stretch_width\",\"subscribed_events\":[\"button_click\"],\"width\":25},\"id\":\"3255\",\"type\":\"Button\"},{\"attributes\":{\"children\":[{\"id\":\"3268\"},{\"id\":\"3269\"},{\"id\":\"3272\"}],\"margin\":[0,0,0,0],\"name\":\"Column00876\",\"sizing_mode\":\"stretch_width\"},\"id\":\"3267\",\"type\":\"Column\"},{\"attributes\":{\"margin\":[5,5,5,5],\"name\":\"VSpacer00874\",\"sizing_mode\":\"stretch_height\"},\"id\":\"3268\",\"type\":\"Spacer\"},{\"attributes\":{\"icon\":null,\"label\":\"\\u21bb\",\"margin\":[5,15,0,10],\"sizing_mode\":\"stretch_width\",\"subscribed_events\":[\"button_click\"],\"width\":25},\"id\":\"3260\",\"type\":\"Button\"},{\"attributes\":{\"children\":[{\"id\":\"3255\"},{\"id\":\"3256\"},{\"id\":\"3257\"},{\"id\":\"3258\"},{\"id\":\"3259\"},{\"id\":\"3260\"}],\"margin\":[0,0,0,0],\"name\":\"Row00883\",\"sizing_mode\":\"stretch_width\",\"width_policy\":\"max\"},\"id\":\"3254\",\"type\":\"Row\"},{\"attributes\":{\"children\":[{\"id\":\"3264\"},{\"id\":\"3265\"},{\"id\":\"3266\"}],\"margin\":[0,0,0,0],\"name\":\"Column00871\",\"sizing_mode\":\"stretch_both\"},\"id\":\"3263\",\"type\":\"Column\"},{\"attributes\":{\"client_comm_id\":\"3f4b00ea6aaa4f2495cfbba9845df99d\",\"comm_id\":\"11ebe9160c334d6a95b2434243ea3918\",\"plot_id\":\"3251\"},\"id\":\"3279\",\"type\":\"panel.models.comm_manager.CommManager\"},{\"attributes\":{\"icon\":null,\"label\":\">>\",\"margin\":[5,10,5,10],\"sizing_mode\":\"stretch_width\",\"subscribed_events\":[\"button_click\"],\"width\":50},\"id\":\"3270\",\"type\":\"Button\"},{\"attributes\":{\"children\":[{\"id\":\"3263\"},{\"id\":\"3267\"},{\"id\":\"3273\"}],\"margin\":[0,0,0,0],\"name\":\"Row00863\",\"sizing_mode\":\"stretch_both\",\"width\":600},\"id\":\"3262\",\"type\":\"Row\"},{\"attributes\":{\"css_classes\":[\"markdown\"],\"margin\":[0,0,0,0],\"name\":\"Markdown00885\",\"sizing_mode\":\"stretch_width\",\"text\":\"&lt;h3&gt;Selected files&lt;/h3&gt;\"},\"id\":\"3274\",\"type\":\"panel.models.markup.HTML\"},{\"attributes\":{\"children\":[{\"id\":\"3252\"},{\"id\":\"3253\"},{\"id\":\"3277\"},{\"id\":\"3278\"}],\"margin\":[0,0,0,0],\"name\":\"Column00894\",\"sizing_mode\":\"stretch_width\",\"width\":400},\"id\":\"3251\",\"type\":\"Column\"},{\"attributes\":{\"disabled\":true,\"icon\":null,\"label\":\"\\u2b06\",\"margin\":[5,10,5,10],\"sizing_mode\":\"stretch_width\",\"subscribed_events\":[\"button_click\"],\"width\":25},\"id\":\"3257\",\"type\":\"Button\"}],\"root_ids\":[\"3251\",\"3279\"]},\"title\":\"Bokeh Application\",\"version\":\"2.4.3\"}};\n",
       "    var render_items = [{\"docid\":\"c033d3d3-336e-4956-b4ca-f7181384fea1\",\"root_ids\":[\"3251\"],\"roots\":{\"3251\":\"c839c093-e832-4a7d-99b4-b9637f7166a8\"}}];\n",
       "    root.Bokeh.embed.embed_items_notebook(docs_json, render_items);\n",
       "  }\n",
       "  if (root.Bokeh !== undefined && root.Bokeh.Panel !== undefined && ( root['vega'] !== undefined)) {\n",
       "    embed_document(root);\n",
       "  } else {\n",
       "    var attempts = 0;\n",
       "    var timer = setInterval(function(root) {\n",
       "      if (root.Bokeh !== undefined && root.Bokeh.Panel !== undefined && (root['vega'] !== undefined)) {\n",
       "        clearInterval(timer);\n",
       "        embed_document(root);\n",
       "      } else if (document.readyState == \"complete\") {\n",
       "        attempts++;\n",
       "        if (attempts > 200) {\n",
       "          clearInterval(timer);\n",
       "          console.log(\"Bokeh: ERROR: Unable to run BokehJS code because BokehJS library is missing\");\n",
       "        }\n",
       "      }\n",
       "    }, 25, root)\n",
       "  }\n",
       "})(window);</script>"
      ],
      "text/plain": [
       "Column(sizing_mode='stretch_width', width=400)\n",
       "    [0] Markdown(str, sizing_mode='stretch_width')\n",
       "    [1] FileSelector(directory='C:\\\\Users\\\\dinar\\\\Desktop..., sizing_mode='stretch_width')\n",
       "    [2] Markdown(str, margin=(10, 0, 0, 0), sizing_mode='stretch_width')\n",
       "    [3] CheckBoxGroup(name='File option', options=['Traverse all folders', ...], sizing_mode='stretch_width')"
      ]
     },
     "execution_count": 65,
     "metadata": {
      "application/vnd.holoviews_exec.v0+json": {
       "id": "3251"
      }
     },
     "output_type": "execute_result"
    }
   ],
   "source": [
    "# get current path\n",
    "path = '../'\n",
    "change_path = pn.widgets.FileSelector(path)\n",
    "\n",
    "# path specification\n",
    "path_selector = pn.Column(\n",
    "    pn.pane.Markdown(\"\"\"\n",
    "    ### Select folder location\n",
    "    We support .mat|.txt|.dcm|.eeg|.py|.img|.zip file extensions. This function will not upload any\n",
    "    folders to the app. Instead, it will automatically select and show the files that pass the accepted file extension\n",
    "    threshold. There is no file size limit.\n",
    "    \"\"\"),\n",
    "    change_path,\n",
    "    pn.pane.Markdown(\"\"\"\n",
    "    **Select options**:\n",
    "    \"\"\", margin=(10,0,0,0)),\n",
    "    checkbox,\n",
    "    width=400\n",
    ")\n",
    "\n",
    "path_selector"
   ]
  },
  {
   "cell_type": "code",
   "execution_count": 68,
   "id": "77ecee6d",
   "metadata": {},
   "outputs": [
    {
     "data": {},
     "metadata": {},
     "output_type": "display_data"
    },
    {
     "data": {
      "application/vnd.holoviews_exec.v0+json": "",
      "text/html": [
       "<div id='3428'>\n",
       "  <div class=\"bk-root\" id=\"ea356576-cd03-4cde-8b68-b978c3e186da\" data-root-id=\"3428\"></div>\n",
       "</div>\n",
       "<script type=\"application/javascript\">(function(root) {\n",
       "  function embed_document(root) {\n",
       "    var docs_json = {\"9206d4de-3790-444d-974d-e196ac2ee9d5\":{\"defs\":[{\"extends\":null,\"module\":null,\"name\":\"ReactiveHTML1\",\"overrides\":[],\"properties\":[]},{\"extends\":null,\"module\":null,\"name\":\"FlexBox1\",\"overrides\":[],\"properties\":[{\"default\":\"flex-start\",\"kind\":null,\"name\":\"align_content\"},{\"default\":\"flex-start\",\"kind\":null,\"name\":\"align_items\"},{\"default\":\"row\",\"kind\":null,\"name\":\"flex_direction\"},{\"default\":\"wrap\",\"kind\":null,\"name\":\"flex_wrap\"},{\"default\":\"flex-start\",\"kind\":null,\"name\":\"justify_content\"}]},{\"extends\":null,\"module\":null,\"name\":\"GridStack1\",\"overrides\":[],\"properties\":[{\"default\":\"warn\",\"kind\":null,\"name\":\"mode\"},{\"default\":null,\"kind\":null,\"name\":\"ncols\"},{\"default\":null,\"kind\":null,\"name\":\"nrows\"},{\"default\":true,\"kind\":null,\"name\":\"allow_resize\"},{\"default\":true,\"kind\":null,\"name\":\"allow_drag\"},{\"default\":[],\"kind\":null,\"name\":\"state\"}]},{\"extends\":null,\"module\":null,\"name\":\"click1\",\"overrides\":[],\"properties\":[{\"default\":\"\",\"kind\":null,\"name\":\"terminal_output\"},{\"default\":\"\",\"kind\":null,\"name\":\"debug_name\"},{\"default\":0,\"kind\":null,\"name\":\"clears\"}]},{\"extends\":null,\"module\":null,\"name\":\"NotificationAreaBase1\",\"overrides\":[],\"properties\":[{\"default\":\"bottom-right\",\"kind\":null,\"name\":\"position\"},{\"default\":0,\"kind\":null,\"name\":\"_clear\"}]},{\"extends\":null,\"module\":null,\"name\":\"NotificationArea1\",\"overrides\":[],\"properties\":[{\"default\":[],\"kind\":null,\"name\":\"notifications\"},{\"default\":\"bottom-right\",\"kind\":null,\"name\":\"position\"},{\"default\":0,\"kind\":null,\"name\":\"_clear\"},{\"default\":[{\"background\":\"#ffc107\",\"icon\":{\"className\":\"fas fa-exclamation-triangle\",\"color\":\"white\",\"tagName\":\"i\"},\"type\":\"warning\"},{\"background\":\"#007bff\",\"icon\":{\"className\":\"fas fa-info-circle\",\"color\":\"white\",\"tagName\":\"i\"},\"type\":\"info\"}],\"kind\":null,\"name\":\"types\"}]},{\"extends\":null,\"module\":null,\"name\":\"Notification\",\"overrides\":[],\"properties\":[{\"default\":null,\"kind\":null,\"name\":\"background\"},{\"default\":3000,\"kind\":null,\"name\":\"duration\"},{\"default\":null,\"kind\":null,\"name\":\"icon\"},{\"default\":\"\",\"kind\":null,\"name\":\"message\"},{\"default\":null,\"kind\":null,\"name\":\"notification_type\"},{\"default\":false,\"kind\":null,\"name\":\"_destroyed\"}]},{\"extends\":null,\"module\":null,\"name\":\"TemplateActions1\",\"overrides\":[],\"properties\":[{\"default\":0,\"kind\":null,\"name\":\"open_modal\"},{\"default\":0,\"kind\":null,\"name\":\"close_modal\"}]},{\"extends\":null,\"module\":null,\"name\":\"MaterialTemplateActions1\",\"overrides\":[],\"properties\":[{\"default\":0,\"kind\":null,\"name\":\"open_modal\"},{\"default\":0,\"kind\":null,\"name\":\"close_modal\"}]}],\"roots\":{\"references\":[{\"attributes\":{\"disabled\":true,\"icon\":null,\"label\":\"\\u2b07\",\"margin\":[5,10,0,0],\"sizing_mode\":\"stretch_width\",\"subscribed_events\":[\"button_click\"],\"width\":25},\"id\":\"3524\",\"type\":\"Button\"},{\"attributes\":{\"margin\":[0,0,0,0],\"options\":[\"\\ud83d\\udcc1data\"],\"size\":10,\"sizing_mode\":\"stretch_both\"},\"id\":\"3454\",\"type\":\"MultiSelect\"},{\"attributes\":{\"disabled\":true,\"icon\":null,\"label\":\"\\u2b06\",\"margin\":[5,10,5,10],\"sizing_mode\":\"stretch_width\",\"subscribed_events\":[\"button_click\"],\"width\":25},\"id\":\"3435\",\"type\":\"Button\"},{\"attributes\":{\"css_classes\":[\"markdown\"],\"margin\":[10,0,0,0],\"name\":\"Markdown00892\",\"sizing_mode\":\"stretch_width\",\"text\":\"&lt;p&gt;&lt;strong&gt;Select options&lt;/strong&gt;:&lt;/p&gt;\"},\"id\":\"3484\",\"type\":\"panel.models.markup.HTML\"},{\"attributes\":{\"children\":[{\"id\":\"3475\"},{\"id\":\"3476\"},{\"id\":\"3479\"}],\"margin\":[0,0,0,0],\"name\":\"Column00876\",\"sizing_mode\":\"stretch_width\"},\"id\":\"3474\",\"type\":\"Column\"},{\"attributes\":{\"children\":[{\"id\":\"3490\"},{\"id\":\"3497\"},{\"id\":\"3498\"}],\"margin\":[5,10,20,10],\"name\":\"Column00861\",\"sizing_mode\":\"stretch_width\"},\"id\":\"3489\",\"type\":\"Column\"},{\"attributes\":{\"margin\":[0,0,0,0],\"name\":\"Divider00884\",\"sizing_mode\":\"stretch_width\",\"style\":{\"height\":\"100%\",\"width\":\"100%\"},\"text\":\"<hr style=\\\"margin: 0px\\\">\",\"width_policy\":\"fit\"},\"id\":\"3497\",\"type\":\"Div\"},{\"attributes\":{\"margin\":[0,0,10,0],\"max_length\":5000,\"placeholder\":\"Filter selected options\",\"sizing_mode\":\"stretch_width\",\"width_policy\":\"max\"},\"id\":\"3511\",\"type\":\"TextInput\"},{\"attributes\":{\"margin\":[0,0,0,0],\"options\":[\"\\ud83d\\udcc1data\"],\"size\":10,\"sizing_mode\":\"stretch_both\"},\"id\":\"3541\",\"type\":\"MultiSelect\"},{\"attributes\":{\"disabled\":true,\"icon\":null,\"label\":\"\\u25b6\",\"margin\":[5,10,5,10],\"sizing_mode\":\"stretch_width\",\"subscribed_events\":[\"button_click\"],\"width\":25},\"id\":\"3521\",\"type\":\"Button\"},{\"attributes\":{\"css_classes\":[\"markdown\"],\"margin\":[0,0,0,0],\"name\":\"Markdown00887\",\"sizing_mode\":\"stretch_width\",\"text\":\"&lt;h3&gt;File Browser&lt;/h3&gt;\"},\"id\":\"3471\",\"type\":\"panel.models.markup.HTML\"},{\"attributes\":{\"icon\":null,\"label\":\"\\u21bb\",\"margin\":[5,15,0,10],\"sizing_mode\":\"stretch_width\",\"subscribed_events\":[\"button_click\"],\"width\":25},\"id\":\"3467\",\"type\":\"Button\"},{\"attributes\":{\"margin\":[5,5,5,5],\"name\":\"VSpacer00874\",\"sizing_mode\":\"stretch_height\"},\"id\":\"3533\",\"type\":\"Spacer\"},{\"attributes\":{\"css_classes\":[\"markdown\"],\"margin\":[5,5,5,5],\"name\":\"Markdown00890\",\"sizing_mode\":\"stretch_width\",\"text\":\"&lt;h3&gt;Select folder location&lt;/h3&gt;\\n&lt;p&gt;We support .mat|.txt|.dcm|.eeg|.py|.img|.zip file extensions. This function will not upload any\\nfolders to the app. Instead, it will automatically select and show the files that pass the accepted file extension\\nthreshold. There is no file size limit.&lt;/p&gt;\"},\"id\":\"3488\",\"type\":\"panel.models.markup.HTML\"},{\"attributes\":{\"css_classes\":[\"markdown\"],\"margin\":[10,0,0,0],\"name\":\"Markdown00892\",\"sizing_mode\":\"stretch_width\",\"text\":\"&lt;p&gt;&lt;strong&gt;Select options&lt;/strong&gt;:&lt;/p&gt;\"},\"id\":\"3513\",\"type\":\"panel.models.markup.HTML\"},{\"attributes\":{\"children\":[{\"id\":\"3500\"},{\"id\":\"3501\"},{\"id\":\"3502\"}],\"margin\":[0,0,0,0],\"name\":\"Column00871\",\"sizing_mode\":\"stretch_both\"},\"id\":\"3499\",\"type\":\"Column\"},{\"attributes\":{\"disabled\":true,\"icon\":null,\"label\":\"\\u2b06\",\"margin\":[5,10,5,10],\"sizing_mode\":\"stretch_width\",\"subscribed_events\":[\"button_click\"],\"width\":25},\"id\":\"3522\",\"type\":\"Button\"},{\"attributes\":{\"margin\":[5,10,5,10],\"max_length\":5000,\"sizing_mode\":\"stretch_width\",\"value\":\"C:\\\\Users\\\\dinar\\\\Desktop\\\\gsoc\",\"width_policy\":\"max\"},\"id\":\"3465\",\"type\":\"TextInput\"},{\"attributes\":{\"disabled\":true,\"icon\":null,\"label\":\"\\u25c0\",\"margin\":[5,10,0,0],\"sizing_mode\":\"stretch_width\",\"subscribed_events\":[\"button_click\"],\"width\":25},\"id\":\"3520\",\"type\":\"Button\"},{\"attributes\":{\"children\":[{\"id\":\"3462\"},{\"id\":\"3463\"},{\"id\":\"3464\"},{\"id\":\"3465\"},{\"id\":\"3466\"},{\"id\":\"3467\"}],\"margin\":[0,0,0,0],\"name\":\"Row00883\",\"sizing_mode\":\"stretch_width\",\"width_policy\":\"max\"},\"id\":\"3461\",\"type\":\"Row\"},{\"attributes\":{\"margin\":[0,0,10,0],\"max_length\":5000,\"placeholder\":\"Filter selected options\",\"sizing_mode\":\"stretch_width\",\"width_policy\":\"max\"},\"id\":\"3482\",\"type\":\"TextInput\"},{\"attributes\":{\"child\":{\"id\":\"3516\"},\"name\":\"Column00894\",\"title\":\"Settings\"},\"id\":\"3544\",\"type\":\"Panel\"},{\"attributes\":{\"margin\":[0,0,0,0],\"options\":[\"\\ud83d\\udcc1data\"],\"size\":10,\"sizing_mode\":\"stretch_both\"},\"id\":\"3512\",\"type\":\"MultiSelect\"},{\"attributes\":{\"children\":[{\"id\":\"3539\"},{\"id\":\"3540\"},{\"id\":\"3541\"}],\"margin\":[0,0,0,0],\"name\":\"Column00872\",\"sizing_mode\":\"stretch_both\"},\"id\":\"3538\",\"type\":\"Column\"},{\"attributes\":{\"margin\":[0,0,0,0],\"name\":\"Divider00884\",\"sizing_mode\":\"stretch_width\",\"style\":{\"height\":\"100%\",\"width\":\"100%\"},\"text\":\"<hr style=\\\"margin: 0px\\\">\",\"width_policy\":\"fit\"},\"id\":\"3468\",\"type\":\"Div\"},{\"attributes\":{\"icon\":null,\"label\":\">>\",\"margin\":[5,10,5,10],\"sizing_mode\":\"stretch_width\",\"subscribed_events\":[\"button_click\"],\"width\":50},\"id\":\"3448\",\"type\":\"Button\"},{\"attributes\":{\"margin\":[5,5,5,5],\"name\":\"VSpacer00875\",\"sizing_mode\":\"stretch_height\"},\"id\":\"3508\",\"type\":\"Spacer\"},{\"attributes\":{\"children\":[{\"id\":\"3459\"},{\"id\":\"3460\"},{\"id\":\"3484\"},{\"id\":\"3485\"}],\"margin\":[0,0,0,0],\"name\":\"Column00894\",\"sizing_mode\":\"stretch_width\",\"width\":400},\"id\":\"3458\",\"type\":\"Column\"},{\"attributes\":{\"children\":[{\"id\":\"3529\"},{\"id\":\"3530\"},{\"id\":\"3531\"}],\"margin\":[0,0,0,0],\"name\":\"Column00871\",\"sizing_mode\":\"stretch_both\"},\"id\":\"3528\",\"type\":\"Column\"},{\"attributes\":{\"margin\":[0,0,0,0],\"name\":\"Divider00884\",\"sizing_mode\":\"stretch_width\",\"style\":{\"height\":\"100%\",\"width\":\"100%\"},\"text\":\"<hr style=\\\"margin: 0px\\\">\",\"width_policy\":\"fit\"},\"id\":\"3439\",\"type\":\"Div\"},{\"attributes\":{\"margin\":[0,0,10,0],\"max_length\":5000,\"placeholder\":\"Filter available options\",\"sizing_mode\":\"stretch_width\",\"width_policy\":\"max\"},\"id\":\"3501\",\"type\":\"TextInput\"},{\"attributes\":{\"icon\":null,\"label\":\">>\",\"margin\":[5,10,5,10],\"sizing_mode\":\"stretch_width\",\"subscribed_events\":[\"button_click\"],\"width\":50},\"id\":\"3477\",\"type\":\"Button\"},{\"attributes\":{\"css_classes\":[\"markdown\"],\"margin\":[5,5,5,5],\"name\":\"Markdown00890\",\"sizing_mode\":\"stretch_width\",\"text\":\"&lt;h3&gt;Select folder location&lt;/h3&gt;\\n&lt;p&gt;We support .mat|.txt|.dcm|.eeg|.py|.img|.zip file extensions. This function will not upload any\\nfolders to the app. Instead, it will automatically select and show the files that pass the accepted file extension\\nthreshold. There is no file size limit.&lt;/p&gt;\"},\"id\":\"3517\",\"type\":\"panel.models.markup.HTML\"},{\"attributes\":{\"labels\":[\"Traverse all folders\",\"Ignore Warnings\",\"Ignore NIfTI Headers\",\"Skip Subject Filename Consistency Check\"],\"margin\":[5,10,5,10],\"sizing_mode\":\"stretch_width\"},\"id\":\"3456\",\"type\":\"CheckboxGroup\"},{\"attributes\":{\"labels\":[\"Traverse all folders\",\"Ignore Warnings\",\"Ignore NIfTI Headers\",\"Skip Subject Filename Consistency Check\"],\"margin\":[5,10,5,10],\"sizing_mode\":\"stretch_width\"},\"id\":\"3543\",\"type\":\"CheckboxGroup\"},{\"attributes\":{\"css_classes\":[\"markdown\"],\"margin\":[0,0,0,0],\"name\":\"Markdown00885\",\"sizing_mode\":\"stretch_width\",\"text\":\"&lt;h3&gt;Selected files&lt;/h3&gt;\"},\"id\":\"3510\",\"type\":\"panel.models.markup.HTML\"},{\"attributes\":{\"css_classes\":[\"markdown\"],\"margin\":[0,0,0,0],\"name\":\"Markdown00887\",\"sizing_mode\":\"stretch_width\",\"text\":\"&lt;h3&gt;File Browser&lt;/h3&gt;\"},\"id\":\"3529\",\"type\":\"panel.models.markup.HTML\"},{\"attributes\":{\"margin\":[0,0,0,0],\"options\":[\"\\ud83d\\udcc1app_templates\",\"\\ud83d\\udcc1docs\",\"\\ud83d\\udcc1examples\",\"\\ud83d\\udcc1ignore\",\"\\ud83d\\udcc1incf\",\"\\ud83d\\udcc1output\",\"\\ud83d\\udcc1tests\",\"AUTHORS.rst\",\"CONTRIBUTING.rst\",\"HISTORY.rst\",\"LICENSE\",\"MANIFEST.in\",\"Makefile\",\"README.rst\",\"requirements.txt\",\"requirements_dev.txt\",\"setup.cfg\",\"setup.py\",\"tox.ini\"],\"size\":10,\"sizing_mode\":\"stretch_both\"},\"id\":\"3531\",\"type\":\"MultiSelect\"},{\"attributes\":{\"css_classes\":[\"markdown\"],\"margin\":[0,0,0,0],\"name\":\"Markdown00887\",\"sizing_mode\":\"stretch_width\",\"text\":\"&lt;h3&gt;File Browser&lt;/h3&gt;\"},\"id\":\"3442\",\"type\":\"panel.models.markup.HTML\"},{\"attributes\":{\"disabled\":true,\"icon\":null,\"label\":\"\\u2b07\",\"margin\":[5,10,0,0],\"sizing_mode\":\"stretch_width\",\"subscribed_events\":[\"button_click\"],\"width\":25},\"id\":\"3437\",\"type\":\"Button\"},{\"attributes\":{\"children\":[{\"id\":\"3448\"},{\"id\":\"3449\"}],\"margin\":[0,5,0,5],\"name\":\"Column00873\",\"sizing_mode\":\"stretch_width\"},\"id\":\"3447\",\"type\":\"Column\"},{\"attributes\":{\"margin\":[0,0,10,0],\"max_length\":5000,\"placeholder\":\"Filter available options\",\"sizing_mode\":\"stretch_width\",\"width_policy\":\"max\"},\"id\":\"3530\",\"type\":\"TextInput\"},{\"attributes\":{\"icon\":null,\"label\":\"<<\",\"margin\":[5,10,5,10],\"sizing_mode\":\"stretch_width\",\"subscribed_events\":[\"button_click\"],\"width\":50},\"id\":\"3478\",\"type\":\"Button\"},{\"attributes\":{\"margin\":[0,0,0,0],\"options\":[\"\\ud83d\\udcc1app_templates\",\"\\ud83d\\udcc1docs\",\"\\ud83d\\udcc1examples\",\"\\ud83d\\udcc1ignore\",\"\\ud83d\\udcc1incf\",\"\\ud83d\\udcc1output\",\"\\ud83d\\udcc1tests\",\"AUTHORS.rst\",\"CONTRIBUTING.rst\",\"HISTORY.rst\",\"LICENSE\",\"MANIFEST.in\",\"Makefile\",\"README.rst\",\"requirements.txt\",\"requirements_dev.txt\",\"setup.cfg\",\"setup.py\",\"tox.ini\"],\"size\":10,\"sizing_mode\":\"stretch_both\"},\"id\":\"3502\",\"type\":\"MultiSelect\"},{\"attributes\":{\"css_classes\":[\"markdown\"],\"margin\":[0,0,0,0],\"name\":\"Markdown00885\",\"sizing_mode\":\"stretch_width\",\"text\":\"&lt;h3&gt;Selected files&lt;/h3&gt;\"},\"id\":\"3539\",\"type\":\"panel.models.markup.HTML\"},{\"attributes\":{\"margin\":[5,10,5,10],\"max_length\":5000,\"sizing_mode\":\"stretch_width\",\"value\":\"C:\\\\Users\\\\dinar\\\\Desktop\\\\gsoc\",\"width_policy\":\"max\"},\"id\":\"3436\",\"type\":\"TextInput\"},{\"attributes\":{\"children\":[{\"id\":\"3488\"},{\"id\":\"3489\"},{\"id\":\"3513\"},{\"id\":\"3514\"}],\"margin\":[0,0,0,0],\"name\":\"Column00894\",\"sizing_mode\":\"stretch_width\",\"width\":400},\"id\":\"3487\",\"type\":\"Column\"},{\"attributes\":{\"children\":[{\"id\":\"3471\"},{\"id\":\"3472\"},{\"id\":\"3473\"}],\"margin\":[0,0,0,0],\"name\":\"Column00871\",\"sizing_mode\":\"stretch_both\"},\"id\":\"3470\",\"type\":\"Column\"},{\"attributes\":{\"margin\":[5,5,5,5],\"name\":\"VSpacer00874\",\"sizing_mode\":\"stretch_height\"},\"id\":\"3504\",\"type\":\"Spacer\"},{\"attributes\":{\"client_comm_id\":\"294223cf7e3d4874a2eb68f85f440d96\",\"comm_id\":\"921f4d1dec4d4a10b8fafbf0ea388f36\",\"plot_id\":\"3428\"},\"id\":\"3545\",\"type\":\"panel.models.comm_manager.CommManager\"},{\"attributes\":{\"disabled\":true,\"icon\":null,\"label\":\"\\u25b6\",\"margin\":[5,10,5,10],\"sizing_mode\":\"stretch_width\",\"subscribed_events\":[\"button_click\"],\"width\":25},\"id\":\"3463\",\"type\":\"Button\"},{\"attributes\":{\"children\":[{\"id\":\"3533\"},{\"id\":\"3534\"},{\"id\":\"3537\"}],\"margin\":[0,0,0,0],\"name\":\"Column00876\",\"sizing_mode\":\"stretch_width\"},\"id\":\"3532\",\"type\":\"Column\"},{\"attributes\":{\"margin\":[5,5,5,5],\"name\":\"VSpacer00875\",\"sizing_mode\":\"stretch_height\"},\"id\":\"3479\",\"type\":\"Spacer\"},{\"attributes\":{\"margin\":[5,5,5,5],\"name\":\"VSpacer00875\",\"sizing_mode\":\"stretch_height\"},\"id\":\"3450\",\"type\":\"Spacer\"},{\"attributes\":{\"icon\":null,\"label\":\"<<\",\"margin\":[5,10,5,10],\"sizing_mode\":\"stretch_width\",\"subscribed_events\":[\"button_click\"],\"width\":50},\"id\":\"3449\",\"type\":\"Button\"},{\"attributes\":{\"css_classes\":[\"markdown\"],\"margin\":[10,0,0,0],\"name\":\"Markdown00892\",\"sizing_mode\":\"stretch_width\",\"text\":\"&lt;p&gt;&lt;strong&gt;Select options&lt;/strong&gt;:&lt;/p&gt;\"},\"id\":\"3455\",\"type\":\"panel.models.markup.HTML\"},{\"attributes\":{\"children\":[{\"id\":\"3519\"},{\"id\":\"3526\"},{\"id\":\"3527\"}],\"margin\":[5,10,20,10],\"name\":\"Column00861\",\"sizing_mode\":\"stretch_width\"},\"id\":\"3518\",\"type\":\"Column\"},{\"attributes\":{\"margin\":[0,0,0,0],\"name\":\"Divider00884\",\"sizing_mode\":\"stretch_width\",\"style\":{\"height\":\"100%\",\"width\":\"100%\"},\"text\":\"<hr style=\\\"margin: 0px\\\">\",\"width_policy\":\"fit\"},\"id\":\"3526\",\"type\":\"Div\"},{\"attributes\":{\"icon\":null,\"label\":\"\\u21bb\",\"margin\":[5,15,0,10],\"sizing_mode\":\"stretch_width\",\"subscribed_events\":[\"button_click\"],\"width\":25},\"id\":\"3496\",\"type\":\"Button\"},{\"attributes\":{\"child\":{\"id\":\"3429\"},\"name\":\"Column00894\",\"title\":\"Settings\"},\"id\":\"3457\",\"type\":\"Panel\"},{\"attributes\":{\"disabled\":true,\"icon\":null,\"label\":\"\\u2b07\",\"margin\":[5,10,0,0],\"sizing_mode\":\"stretch_width\",\"subscribed_events\":[\"button_click\"],\"width\":25},\"id\":\"3466\",\"type\":\"Button\"},{\"attributes\":{\"children\":[{\"id\":\"3481\"},{\"id\":\"3482\"},{\"id\":\"3483\"}],\"margin\":[0,0,0,0],\"name\":\"Column00872\",\"sizing_mode\":\"stretch_both\"},\"id\":\"3480\",\"type\":\"Column\"},{\"attributes\":{\"children\":[{\"id\":\"3535\"},{\"id\":\"3536\"}],\"margin\":[0,5,0,5],\"name\":\"Column00873\",\"sizing_mode\":\"stretch_width\"},\"id\":\"3534\",\"type\":\"Column\"},{\"attributes\":{\"margin\":[0,0,10,0],\"max_length\":5000,\"placeholder\":\"Filter available options\",\"sizing_mode\":\"stretch_width\",\"width_policy\":\"max\"},\"id\":\"3443\",\"type\":\"TextInput\"},{\"attributes\":{\"css_classes\":[\"markdown\"],\"margin\":[5,5,5,5],\"name\":\"Markdown00890\",\"sizing_mode\":\"stretch_width\",\"text\":\"&lt;h3&gt;Select folder location&lt;/h3&gt;\\n&lt;p&gt;We support .mat|.txt|.dcm|.eeg|.py|.img|.zip file extensions. This function will not upload any\\nfolders to the app. Instead, it will automatically select and show the files that pass the accepted file extension\\nthreshold. There is no file size limit.&lt;/p&gt;\"},\"id\":\"3430\",\"type\":\"panel.models.markup.HTML\"},{\"attributes\":{\"children\":[{\"id\":\"3470\"},{\"id\":\"3474\"},{\"id\":\"3480\"}],\"margin\":[0,0,0,0],\"name\":\"Row00863\",\"sizing_mode\":\"stretch_both\",\"width\":600},\"id\":\"3469\",\"type\":\"Row\"},{\"attributes\":{\"child\":{\"id\":\"3487\"},\"name\":\"Column00894\",\"title\":\"Settings\"},\"id\":\"3515\",\"type\":\"Panel\"},{\"attributes\":{\"labels\":[\"Traverse all folders\",\"Ignore Warnings\",\"Ignore NIfTI Headers\",\"Skip Subject Filename Consistency Check\"],\"margin\":[5,10,5,10],\"sizing_mode\":\"stretch_width\"},\"id\":\"3485\",\"type\":\"CheckboxGroup\"},{\"attributes\":{\"margin\":[5,5,5,5],\"name\":\"VSpacer00875\",\"sizing_mode\":\"stretch_height\"},\"id\":\"3537\",\"type\":\"Spacer\"},{\"attributes\":{\"disabled\":true,\"icon\":null,\"label\":\"\\u2b06\",\"margin\":[5,10,5,10],\"sizing_mode\":\"stretch_width\",\"subscribed_events\":[\"button_click\"],\"width\":25},\"id\":\"3493\",\"type\":\"Button\"},{\"attributes\":{\"disabled\":true,\"icon\":null,\"label\":\"\\u2b06\",\"margin\":[5,10,5,10],\"sizing_mode\":\"stretch_width\",\"subscribed_events\":[\"button_click\"],\"width\":25},\"id\":\"3464\",\"type\":\"Button\"},{\"attributes\":{\"css_classes\":[\"markdown\"],\"margin\":[5,5,5,5],\"name\":\"Markdown00890\",\"sizing_mode\":\"stretch_width\",\"text\":\"&lt;h3&gt;Select folder location&lt;/h3&gt;\\n&lt;p&gt;We support .mat|.txt|.dcm|.eeg|.py|.img|.zip file extensions. This function will not upload any\\nfolders to the app. Instead, it will automatically select and show the files that pass the accepted file extension\\nthreshold. There is no file size limit.&lt;/p&gt;\"},\"id\":\"3459\",\"type\":\"panel.models.markup.HTML\"},{\"attributes\":{\"children\":[{\"id\":\"3477\"},{\"id\":\"3478\"}],\"margin\":[0,5,0,5],\"name\":\"Column00873\",\"sizing_mode\":\"stretch_width\"},\"id\":\"3476\",\"type\":\"Column\"},{\"attributes\":{\"labels\":[\"Traverse all folders\",\"Ignore Warnings\",\"Ignore NIfTI Headers\",\"Skip Subject Filename Consistency Check\"],\"margin\":[5,10,5,10],\"sizing_mode\":\"stretch_width\"},\"id\":\"3514\",\"type\":\"CheckboxGroup\"},{\"attributes\":{\"disabled\":true,\"icon\":null,\"label\":\"\\u25c0\",\"margin\":[5,10,0,0],\"sizing_mode\":\"stretch_width\",\"subscribed_events\":[\"button_click\"],\"width\":25},\"id\":\"3433\",\"type\":\"Button\"},{\"attributes\":{\"children\":[{\"id\":\"3499\"},{\"id\":\"3503\"},{\"id\":\"3509\"}],\"margin\":[0,0,0,0],\"name\":\"Row00863\",\"sizing_mode\":\"stretch_both\",\"width\":600},\"id\":\"3498\",\"type\":\"Row\"},{\"attributes\":{\"children\":[{\"id\":\"3441\"},{\"id\":\"3445\"},{\"id\":\"3451\"}],\"margin\":[0,0,0,0],\"name\":\"Row00863\",\"sizing_mode\":\"stretch_both\",\"width\":600},\"id\":\"3440\",\"type\":\"Row\"},{\"attributes\":{\"margin\":[0,0,10,0],\"max_length\":5000,\"placeholder\":\"Filter available options\",\"sizing_mode\":\"stretch_width\",\"width_policy\":\"max\"},\"id\":\"3472\",\"type\":\"TextInput\"},{\"attributes\":{\"icon\":null,\"label\":\"\\u21bb\",\"margin\":[5,15,0,10],\"sizing_mode\":\"stretch_width\",\"subscribed_events\":[\"button_click\"],\"width\":25},\"id\":\"3525\",\"type\":\"Button\"},{\"attributes\":{\"children\":[{\"id\":\"3510\"},{\"id\":\"3511\"},{\"id\":\"3512\"}],\"margin\":[0,0,0,0],\"name\":\"Column00872\",\"sizing_mode\":\"stretch_both\"},\"id\":\"3509\",\"type\":\"Column\"},{\"attributes\":{\"children\":[{\"id\":\"3528\"},{\"id\":\"3532\"},{\"id\":\"3538\"}],\"margin\":[0,0,0,0],\"name\":\"Row00863\",\"sizing_mode\":\"stretch_both\",\"width\":600},\"id\":\"3527\",\"type\":\"Row\"},{\"attributes\":{\"margin\":[5,10,5,10],\"max_length\":5000,\"sizing_mode\":\"stretch_width\",\"value\":\"C:\\\\Users\\\\dinar\\\\Desktop\\\\gsoc\",\"width_policy\":\"max\"},\"id\":\"3523\",\"type\":\"TextInput\"},{\"attributes\":{\"children\":[{\"id\":\"3442\"},{\"id\":\"3443\"},{\"id\":\"3444\"}],\"margin\":[0,0,0,0],\"name\":\"Column00871\",\"sizing_mode\":\"stretch_both\"},\"id\":\"3441\",\"type\":\"Column\"},{\"attributes\":{\"disabled\":true,\"icon\":null,\"label\":\"\\u2b07\",\"margin\":[5,10,0,0],\"sizing_mode\":\"stretch_width\",\"subscribed_events\":[\"button_click\"],\"width\":25},\"id\":\"3495\",\"type\":\"Button\"},{\"attributes\":{\"children\":[{\"id\":\"3517\"},{\"id\":\"3518\"},{\"id\":\"3542\"},{\"id\":\"3543\"}],\"margin\":[0,0,0,0],\"name\":\"Column00894\",\"sizing_mode\":\"stretch_width\",\"width\":400},\"id\":\"3516\",\"type\":\"Column\"},{\"attributes\":{\"margin\":[0,0,0,0],\"options\":[\"\\ud83d\\udcc1data\"],\"size\":10,\"sizing_mode\":\"stretch_both\"},\"id\":\"3483\",\"type\":\"MultiSelect\"},{\"attributes\":{\"child\":{\"id\":\"3458\"},\"name\":\"Column00894\",\"title\":\"Settings\"},\"id\":\"3486\",\"type\":\"Panel\"},{\"attributes\":{\"disabled\":true,\"icon\":null,\"label\":\"\\u25c0\",\"margin\":[5,10,0,0],\"sizing_mode\":\"stretch_width\",\"subscribed_events\":[\"button_click\"],\"width\":25},\"id\":\"3462\",\"type\":\"Button\"},{\"attributes\":{\"margin\":[5,10,5,10],\"max_length\":5000,\"sizing_mode\":\"stretch_width\",\"value\":\"C:\\\\Users\\\\dinar\\\\Desktop\\\\gsoc\",\"width_policy\":\"max\"},\"id\":\"3494\",\"type\":\"TextInput\"},{\"attributes\":{\"icon\":null,\"label\":\">>\",\"margin\":[5,10,5,10],\"sizing_mode\":\"stretch_width\",\"subscribed_events\":[\"button_click\"],\"width\":50},\"id\":\"3535\",\"type\":\"Button\"},{\"attributes\":{\"children\":[{\"id\":\"3430\"},{\"id\":\"3431\"},{\"id\":\"3455\"},{\"id\":\"3456\"}],\"margin\":[0,0,0,0],\"name\":\"Column00894\",\"sizing_mode\":\"stretch_width\",\"width\":400},\"id\":\"3429\",\"type\":\"Column\"},{\"attributes\":{\"children\":[{\"id\":\"3432\"},{\"id\":\"3439\"},{\"id\":\"3440\"}],\"margin\":[5,10,20,10],\"name\":\"Column00861\",\"sizing_mode\":\"stretch_width\"},\"id\":\"3431\",\"type\":\"Column\"},{\"attributes\":{\"margin\":[20,20,20,20],\"sizing_mode\":\"stretch_width\",\"tabs\":[{\"id\":\"3457\"},{\"id\":\"3486\"},{\"id\":\"3515\"},{\"id\":\"3544\"}]},\"id\":\"3428\",\"type\":\"panel.models.tabs.Tabs\"},{\"attributes\":{\"css_classes\":[\"markdown\"],\"margin\":[0,0,0,0],\"name\":\"Markdown00887\",\"sizing_mode\":\"stretch_width\",\"text\":\"&lt;h3&gt;File Browser&lt;/h3&gt;\"},\"id\":\"3500\",\"type\":\"panel.models.markup.HTML\"},{\"attributes\":{\"css_classes\":[\"markdown\"],\"margin\":[0,0,0,0],\"name\":\"Markdown00885\",\"sizing_mode\":\"stretch_width\",\"text\":\"&lt;h3&gt;Selected files&lt;/h3&gt;\"},\"id\":\"3481\",\"type\":\"panel.models.markup.HTML\"},{\"attributes\":{\"css_classes\":[\"markdown\"],\"margin\":[10,0,0,0],\"name\":\"Markdown00892\",\"sizing_mode\":\"stretch_width\",\"text\":\"&lt;p&gt;&lt;strong&gt;Select options&lt;/strong&gt;:&lt;/p&gt;\"},\"id\":\"3542\",\"type\":\"panel.models.markup.HTML\"},{\"attributes\":{\"margin\":[0,0,10,0],\"max_length\":5000,\"placeholder\":\"Filter selected options\",\"sizing_mode\":\"stretch_width\",\"width_policy\":\"max\"},\"id\":\"3453\",\"type\":\"TextInput\"},{\"attributes\":{\"margin\":[5,5,5,5],\"name\":\"VSpacer00874\",\"sizing_mode\":\"stretch_height\"},\"id\":\"3446\",\"type\":\"Spacer\"},{\"attributes\":{\"icon\":null,\"label\":\"<<\",\"margin\":[5,10,5,10],\"sizing_mode\":\"stretch_width\",\"subscribed_events\":[\"button_click\"],\"width\":50},\"id\":\"3507\",\"type\":\"Button\"},{\"attributes\":{\"children\":[{\"id\":\"3504\"},{\"id\":\"3505\"},{\"id\":\"3508\"}],\"margin\":[0,0,0,0],\"name\":\"Column00876\",\"sizing_mode\":\"stretch_width\"},\"id\":\"3503\",\"type\":\"Column\"},{\"attributes\":{\"disabled\":true,\"icon\":null,\"label\":\"\\u25c0\",\"margin\":[5,10,0,0],\"sizing_mode\":\"stretch_width\",\"subscribed_events\":[\"button_click\"],\"width\":25},\"id\":\"3491\",\"type\":\"Button\"},{\"attributes\":{\"disabled\":true,\"icon\":null,\"label\":\"\\u25b6\",\"margin\":[5,10,5,10],\"sizing_mode\":\"stretch_width\",\"subscribed_events\":[\"button_click\"],\"width\":25},\"id\":\"3434\",\"type\":\"Button\"},{\"attributes\":{\"margin\":[5,5,5,5],\"name\":\"VSpacer00874\",\"sizing_mode\":\"stretch_height\"},\"id\":\"3475\",\"type\":\"Spacer\"},{\"attributes\":{\"css_classes\":[\"markdown\"],\"margin\":[0,0,0,0],\"name\":\"Markdown00885\",\"sizing_mode\":\"stretch_width\",\"text\":\"&lt;h3&gt;Selected files&lt;/h3&gt;\"},\"id\":\"3452\",\"type\":\"panel.models.markup.HTML\"},{\"attributes\":{\"disabled\":true,\"icon\":null,\"label\":\"\\u25b6\",\"margin\":[5,10,5,10],\"sizing_mode\":\"stretch_width\",\"subscribed_events\":[\"button_click\"],\"width\":25},\"id\":\"3492\",\"type\":\"Button\"},{\"attributes\":{\"margin\":[0,0,0,0],\"options\":[\"\\ud83d\\udcc1app_templates\",\"\\ud83d\\udcc1docs\",\"\\ud83d\\udcc1examples\",\"\\ud83d\\udcc1ignore\",\"\\ud83d\\udcc1incf\",\"\\ud83d\\udcc1output\",\"\\ud83d\\udcc1tests\",\"AUTHORS.rst\",\"CONTRIBUTING.rst\",\"HISTORY.rst\",\"LICENSE\",\"MANIFEST.in\",\"Makefile\",\"README.rst\",\"requirements.txt\",\"requirements_dev.txt\",\"setup.cfg\",\"setup.py\",\"tox.ini\"],\"size\":10,\"sizing_mode\":\"stretch_both\"},\"id\":\"3444\",\"type\":\"MultiSelect\"},{\"attributes\":{\"icon\":null,\"label\":\"<<\",\"margin\":[5,10,5,10],\"sizing_mode\":\"stretch_width\",\"subscribed_events\":[\"button_click\"],\"width\":50},\"id\":\"3536\",\"type\":\"Button\"},{\"attributes\":{\"margin\":[0,0,0,0],\"options\":[\"\\ud83d\\udcc1app_templates\",\"\\ud83d\\udcc1docs\",\"\\ud83d\\udcc1examples\",\"\\ud83d\\udcc1ignore\",\"\\ud83d\\udcc1incf\",\"\\ud83d\\udcc1output\",\"\\ud83d\\udcc1tests\",\"AUTHORS.rst\",\"CONTRIBUTING.rst\",\"HISTORY.rst\",\"LICENSE\",\"MANIFEST.in\",\"Makefile\",\"README.rst\",\"requirements.txt\",\"requirements_dev.txt\",\"setup.cfg\",\"setup.py\",\"tox.ini\"],\"size\":10,\"sizing_mode\":\"stretch_both\"},\"id\":\"3473\",\"type\":\"MultiSelect\"},{\"attributes\":{\"children\":[{\"id\":\"3491\"},{\"id\":\"3492\"},{\"id\":\"3493\"},{\"id\":\"3494\"},{\"id\":\"3495\"},{\"id\":\"3496\"}],\"margin\":[0,0,0,0],\"name\":\"Row00883\",\"sizing_mode\":\"stretch_width\",\"width_policy\":\"max\"},\"id\":\"3490\",\"type\":\"Row\"},{\"attributes\":{\"children\":[{\"id\":\"3452\"},{\"id\":\"3453\"},{\"id\":\"3454\"}],\"margin\":[0,0,0,0],\"name\":\"Column00872\",\"sizing_mode\":\"stretch_both\"},\"id\":\"3451\",\"type\":\"Column\"},{\"attributes\":{\"margin\":[0,0,10,0],\"max_length\":5000,\"placeholder\":\"Filter selected options\",\"sizing_mode\":\"stretch_width\",\"width_policy\":\"max\"},\"id\":\"3540\",\"type\":\"TextInput\"},{\"attributes\":{\"icon\":null,\"label\":\"\\u21bb\",\"margin\":[5,15,0,10],\"sizing_mode\":\"stretch_width\",\"subscribed_events\":[\"button_click\"],\"width\":25},\"id\":\"3438\",\"type\":\"Button\"},{\"attributes\":{\"icon\":null,\"label\":\">>\",\"margin\":[5,10,5,10],\"sizing_mode\":\"stretch_width\",\"subscribed_events\":[\"button_click\"],\"width\":50},\"id\":\"3506\",\"type\":\"Button\"},{\"attributes\":{\"children\":[{\"id\":\"3433\"},{\"id\":\"3434\"},{\"id\":\"3435\"},{\"id\":\"3436\"},{\"id\":\"3437\"},{\"id\":\"3438\"}],\"margin\":[0,0,0,0],\"name\":\"Row00883\",\"sizing_mode\":\"stretch_width\",\"width_policy\":\"max\"},\"id\":\"3432\",\"type\":\"Row\"},{\"attributes\":{\"children\":[{\"id\":\"3520\"},{\"id\":\"3521\"},{\"id\":\"3522\"},{\"id\":\"3523\"},{\"id\":\"3524\"},{\"id\":\"3525\"}],\"margin\":[0,0,0,0],\"name\":\"Row00883\",\"sizing_mode\":\"stretch_width\",\"width_policy\":\"max\"},\"id\":\"3519\",\"type\":\"Row\"},{\"attributes\":{\"children\":[{\"id\":\"3461\"},{\"id\":\"3468\"},{\"id\":\"3469\"}],\"margin\":[5,10,20,10],\"name\":\"Column00861\",\"sizing_mode\":\"stretch_width\"},\"id\":\"3460\",\"type\":\"Column\"},{\"attributes\":{\"children\":[{\"id\":\"3506\"},{\"id\":\"3507\"}],\"margin\":[0,5,0,5],\"name\":\"Column00873\",\"sizing_mode\":\"stretch_width\"},\"id\":\"3505\",\"type\":\"Column\"},{\"attributes\":{\"children\":[{\"id\":\"3446\"},{\"id\":\"3447\"},{\"id\":\"3450\"}],\"margin\":[0,0,0,0],\"name\":\"Column00876\",\"sizing_mode\":\"stretch_width\"},\"id\":\"3445\",\"type\":\"Column\"}],\"root_ids\":[\"3428\",\"3545\"]},\"title\":\"Bokeh Application\",\"version\":\"2.4.3\"}};\n",
       "    var render_items = [{\"docid\":\"9206d4de-3790-444d-974d-e196ac2ee9d5\",\"root_ids\":[\"3428\"],\"roots\":{\"3428\":\"ea356576-cd03-4cde-8b68-b978c3e186da\"}}];\n",
       "    root.Bokeh.embed.embed_items_notebook(docs_json, render_items);\n",
       "  }\n",
       "  if (root.Bokeh !== undefined && root.Bokeh.Panel !== undefined && ( root['vega'] !== undefined)) {\n",
       "    embed_document(root);\n",
       "  } else {\n",
       "    var attempts = 0;\n",
       "    var timer = setInterval(function(root) {\n",
       "      if (root.Bokeh !== undefined && root.Bokeh.Panel !== undefined && (root['vega'] !== undefined)) {\n",
       "        clearInterval(timer);\n",
       "        embed_document(root);\n",
       "      } else if (document.readyState == \"complete\") {\n",
       "        attempts++;\n",
       "        if (attempts > 200) {\n",
       "          clearInterval(timer);\n",
       "          console.log(\"Bokeh: ERROR: Unable to run BokehJS code because BokehJS library is missing\");\n",
       "        }\n",
       "      }\n",
       "    }, 25, root)\n",
       "  }\n",
       "})(window);</script>"
      ],
      "text/plain": [
       "Tabs(margin=(20, 20, 20, 20), sizing_mode='stretch_width')\n",
       "    [0] Column(sizing_mode='stretch_width', width=400)\n",
       "        [0] Markdown(str, sizing_mode='stretch_width')\n",
       "        [1] FileSelector(directory='C:\\\\Users\\\\dinar\\\\Desktop..., sizing_mode='stretch_width', value=['C:\\\\Users\\\\dinar\\\\Deskto...])\n",
       "        [2] Markdown(str, margin=(10, 0, 0, 0), sizing_mode='stretch_width')\n",
       "        [3] CheckBoxGroup(name='File option', options=['Traverse all folders', ...], sizing_mode='stretch_width')\n",
       "    [1] Column(sizing_mode='stretch_width', width=400)\n",
       "        [0] Markdown(str, sizing_mode='stretch_width')\n",
       "        [1] FileSelector(directory='C:\\\\Users\\\\dinar\\\\Desktop..., sizing_mode='stretch_width', value=['C:\\\\Users\\\\dinar\\\\Deskto...])\n",
       "        [2] Markdown(str, margin=(10, 0, 0, 0), sizing_mode='stretch_width')\n",
       "        [3] CheckBoxGroup(name='File option', options=['Traverse all folders', ...], sizing_mode='stretch_width')\n",
       "    [2] Column(sizing_mode='stretch_width', width=400)\n",
       "        [0] Markdown(str, sizing_mode='stretch_width')\n",
       "        [1] FileSelector(directory='C:\\\\Users\\\\dinar\\\\Desktop..., sizing_mode='stretch_width', value=['C:\\\\Users\\\\dinar\\\\Deskto...])\n",
       "        [2] Markdown(str, margin=(10, 0, 0, 0), sizing_mode='stretch_width')\n",
       "        [3] CheckBoxGroup(name='File option', options=['Traverse all folders', ...], sizing_mode='stretch_width')\n",
       "    [3] Column(sizing_mode='stretch_width', width=400)\n",
       "        [0] Markdown(str, sizing_mode='stretch_width')\n",
       "        [1] FileSelector(directory='C:\\\\Users\\\\dinar\\\\Desktop..., sizing_mode='stretch_width', value=['C:\\\\Users\\\\dinar\\\\Deskto...])\n",
       "        [2] Markdown(str, margin=(10, 0, 0, 0), sizing_mode='stretch_width')\n",
       "        [3] CheckBoxGroup(name='File option', options=['Traverse all folders', ...], sizing_mode='stretch_width')"
      ]
     },
     "execution_count": 68,
     "metadata": {
      "application/vnd.holoviews_exec.v0+json": {
       "id": "3428"
      }
     },
     "output_type": "execute_result"
    }
   ],
   "source": [
    "# put everything together in tabs\n",
    "sidebar = pn.Tabs(\n",
    "    ('Settings', path_selector),\n",
    "    ('Settings', path_selector),\n",
    "    ('Settings', path_selector),\n",
    "    ('Settings', path_selector),\n",
    "    margin=(20, 20, 20, 20)\n",
    ")\n",
    "\n",
    "sidebar"
   ]
  },
  {
   "cell_type": "code",
   "execution_count": 69,
   "id": "cb2b9015",
   "metadata": {},
   "outputs": [
    {
     "data": {},
     "metadata": {},
     "output_type": "display_data"
    },
    {
     "data": {
      "application/vnd.holoviews_exec.v0+json": "",
      "text/html": [
       "<div id='3546'>\n",
       "  <div class=\"bk-root\" id=\"e8f4c64b-987b-4f44-b38c-57c56ab8c43e\" data-root-id=\"3546\"></div>\n",
       "</div>\n",
       "<script type=\"application/javascript\">(function(root) {\n",
       "  function embed_document(root) {\n",
       "    var docs_json = {\"dd02d12b-1725-4288-a4ff-b1a933c4adb8\":{\"defs\":[{\"extends\":null,\"module\":null,\"name\":\"ReactiveHTML1\",\"overrides\":[],\"properties\":[]},{\"extends\":null,\"module\":null,\"name\":\"FlexBox1\",\"overrides\":[],\"properties\":[{\"default\":\"flex-start\",\"kind\":null,\"name\":\"align_content\"},{\"default\":\"flex-start\",\"kind\":null,\"name\":\"align_items\"},{\"default\":\"row\",\"kind\":null,\"name\":\"flex_direction\"},{\"default\":\"wrap\",\"kind\":null,\"name\":\"flex_wrap\"},{\"default\":\"flex-start\",\"kind\":null,\"name\":\"justify_content\"}]},{\"extends\":null,\"module\":null,\"name\":\"GridStack1\",\"overrides\":[],\"properties\":[{\"default\":\"warn\",\"kind\":null,\"name\":\"mode\"},{\"default\":null,\"kind\":null,\"name\":\"ncols\"},{\"default\":null,\"kind\":null,\"name\":\"nrows\"},{\"default\":true,\"kind\":null,\"name\":\"allow_resize\"},{\"default\":true,\"kind\":null,\"name\":\"allow_drag\"},{\"default\":[],\"kind\":null,\"name\":\"state\"}]},{\"extends\":null,\"module\":null,\"name\":\"click1\",\"overrides\":[],\"properties\":[{\"default\":\"\",\"kind\":null,\"name\":\"terminal_output\"},{\"default\":\"\",\"kind\":null,\"name\":\"debug_name\"},{\"default\":0,\"kind\":null,\"name\":\"clears\"}]},{\"extends\":null,\"module\":null,\"name\":\"NotificationAreaBase1\",\"overrides\":[],\"properties\":[{\"default\":\"bottom-right\",\"kind\":null,\"name\":\"position\"},{\"default\":0,\"kind\":null,\"name\":\"_clear\"}]},{\"extends\":null,\"module\":null,\"name\":\"NotificationArea1\",\"overrides\":[],\"properties\":[{\"default\":[],\"kind\":null,\"name\":\"notifications\"},{\"default\":\"bottom-right\",\"kind\":null,\"name\":\"position\"},{\"default\":0,\"kind\":null,\"name\":\"_clear\"},{\"default\":[{\"background\":\"#ffc107\",\"icon\":{\"className\":\"fas fa-exclamation-triangle\",\"color\":\"white\",\"tagName\":\"i\"},\"type\":\"warning\"},{\"background\":\"#007bff\",\"icon\":{\"className\":\"fas fa-info-circle\",\"color\":\"white\",\"tagName\":\"i\"},\"type\":\"info\"}],\"kind\":null,\"name\":\"types\"}]},{\"extends\":null,\"module\":null,\"name\":\"Notification\",\"overrides\":[],\"properties\":[{\"default\":null,\"kind\":null,\"name\":\"background\"},{\"default\":3000,\"kind\":null,\"name\":\"duration\"},{\"default\":null,\"kind\":null,\"name\":\"icon\"},{\"default\":\"\",\"kind\":null,\"name\":\"message\"},{\"default\":null,\"kind\":null,\"name\":\"notification_type\"},{\"default\":false,\"kind\":null,\"name\":\"_destroyed\"}]},{\"extends\":null,\"module\":null,\"name\":\"TemplateActions1\",\"overrides\":[],\"properties\":[{\"default\":0,\"kind\":null,\"name\":\"open_modal\"},{\"default\":0,\"kind\":null,\"name\":\"close_modal\"}]},{\"extends\":null,\"module\":null,\"name\":\"MaterialTemplateActions1\",\"overrides\":[],\"properties\":[{\"default\":0,\"kind\":null,\"name\":\"open_modal\"},{\"default\":0,\"kind\":null,\"name\":\"close_modal\"}]}],\"roots\":{\"references\":[{\"attributes\":{\"client_comm_id\":\"e3296e9899164732a5ef3026ecf9a23a\",\"comm_id\":\"0e19e74e6bb84bc1a7e9fb22fe2c3866\",\"plot_id\":\"3546\"},\"id\":\"3547\",\"type\":\"panel.models.comm_manager.CommManager\"},{\"attributes\":{\"css_classes\":[\"markdown\"],\"margin\":[5,5,5,5],\"name\":\"Markdown00906\",\"sizing_mode\":\"stretch_width\",\"text\":\"&lt;h3&gt;Welcome!&lt;/h3&gt;\\n&lt;p&gt;This is a placeholder for the uploaded &amp;amp; transformed files. Prior to downloading the processed files,\\nyou can rename, open, and visualize the results. Visualizations will be available in the tab under &amp;ldquo;Visualize Data&amp;rdquo;. There&amp;rsquo;s\\nextra space for new ideas. Of course, we can keep expanding them or even make them closeable.&lt;/p&gt;\\n&lt;hr&gt;\\n&lt;p&gt;For now, the editor below lets us change the names on the fly. You can click on any name below &amp;amp; make your changes.\\nI&amp;rsquo;m planning on showing the rendered/processed file structure in a tree structure. For example, if there are TSV files, we can\\nstore them in an allocated folder:&lt;/p&gt;\\n&lt;div class=&quot;codehilite&quot;&gt;&lt;pre&gt;&lt;span&gt;&lt;/span&gt;&lt;code&gt;tsv/\\n    example1.tsv\\n    example2.tsv\\njson/\\n    example1.json\\n    example2.json\\n&lt;/code&gt;&lt;/pre&gt;&lt;/div&gt;\"},\"id\":\"3546\",\"type\":\"panel.models.markup.HTML\"}],\"root_ids\":[\"3546\",\"3547\"]},\"title\":\"Bokeh Application\",\"version\":\"2.4.3\"}};\n",
       "    var render_items = [{\"docid\":\"dd02d12b-1725-4288-a4ff-b1a933c4adb8\",\"root_ids\":[\"3546\"],\"roots\":{\"3546\":\"e8f4c64b-987b-4f44-b38c-57c56ab8c43e\"}}];\n",
       "    root.Bokeh.embed.embed_items_notebook(docs_json, render_items);\n",
       "  }\n",
       "  if (root.Bokeh !== undefined && root.Bokeh.Panel !== undefined && ( root['vega'] !== undefined)) {\n",
       "    embed_document(root);\n",
       "  } else {\n",
       "    var attempts = 0;\n",
       "    var timer = setInterval(function(root) {\n",
       "      if (root.Bokeh !== undefined && root.Bokeh.Panel !== undefined && (root['vega'] !== undefined)) {\n",
       "        clearInterval(timer);\n",
       "        embed_document(root);\n",
       "      } else if (document.readyState == \"complete\") {\n",
       "        attempts++;\n",
       "        if (attempts > 200) {\n",
       "          clearInterval(timer);\n",
       "          console.log(\"Bokeh: ERROR: Unable to run BokehJS code because BokehJS library is missing\");\n",
       "        }\n",
       "      }\n",
       "    }, 25, root)\n",
       "  }\n",
       "})(window);</script>"
      ],
      "text/plain": [
       "Markdown(str, sizing_mode='stretch_width')"
      ]
     },
     "execution_count": 69,
     "metadata": {
      "application/vnd.holoviews_exec.v0+json": {
       "id": "3546"
      }
     },
     "output_type": "execute_result"
    }
   ],
   "source": [
    "# descriptor for JSONEditor usage\n",
    "markdown = pn.pane.Markdown(\"\"\"\n",
    "### Welcome!\n",
    "This is a placeholder for the uploaded & transformed files. Prior to downloading the processed files,\n",
    "you can rename, open, and visualize the results. Visualizations will be available in the tab under \"Visualize Data\". There's\n",
    "extra space for new ideas. Of course, we can keep expanding them or even make them closeable.\n",
    "\n",
    "---\n",
    "\n",
    "For now, the editor below lets us change the names on the fly. You can click on any name below & make your changes.\n",
    "I'm planning on showing the rendered/processed file structure in a tree structure. For example, if there are TSV files, we can\n",
    "store them in an allocated folder:\n",
    "\n",
    "```\n",
    "tsv/\n",
    "    example1.tsv\n",
    "    example2.tsv\n",
    "json/\n",
    "    example1.json\n",
    "    example2.json\n",
    "\n",
    "```\n",
    "\n",
    "\"\"\"\n",
    ")\n",
    "\n",
    "json_editor = pn.widgets.JSONEditor(\n",
    "    schema={\n",
    "      \"title\": \"Files structure\",\n",
    "      \"type\": \"object\",\n",
    "      \"properties\": {\n",
    "        \"name\": {\n",
    "          \"type\": \"string\",\n",
    "          \"description\": \"filename\"\n",
    "        },\n",
    "        \"name2\": {\n",
    "          \"type\": \"string\",\n",
    "          \"description\": \"filename\"\n",
    "        },\n",
    "        \"name3\": {\n",
    "          \"type\": \"string\",\n",
    "          \"description\": \"filename\",\n",
    "        }\n",
    "      }\n",
    "    },\n",
    "    value={\n",
    "        'name':  'filename',\n",
    "        'name2': 'filename',\n",
    "        'name3': 'filename'\n",
    "    }, margin=(10, 50, 10, 50))\n",
    "\n",
    "markdown"
   ]
  },
  {
   "cell_type": "code",
   "execution_count": 70,
   "id": "9c31f2bd",
   "metadata": {},
   "outputs": [],
   "source": [
    "ace = pn.widgets.Ace(readonly=True, width=800, height=200, language='python', theme='monokai', value=\\\n",
    "\"\"\"slider = pn.widgets.IntSlider(start=0, end=10)\n",
    "\n",
    "def slideshow(index):\n",
    "    url = f\"https://picsum.photos/800/300?image={index}\"\n",
    "    return pn.pane.JPG(url)\n",
    "\n",
    "output = pn.bind(slideshow, slider)\n",
    "\n",
    "app = pn.Column(slider, output)\"\"\")\n",
    "\n",
    "main = pn.Tabs(\n",
    "    ('Interactive Files', pn.Column(markdown, json_editor)),\n",
    "    ('Visualize Data',    pn.Column(markdown, json_editor)),\n",
    "    ('Update Code',       ace),\n",
    "    ('Extra Space',       pn.Column(markdown, json_editor))\n",
    ")\n",
    "\n",
    "# main"
   ]
  },
  {
   "cell_type": "code",
   "execution_count": 7,
   "id": "00196c8b",
   "metadata": {},
   "outputs": [],
   "source": [
    "panel = pn.template.FastListTemplate(\n",
    "    title='Store | Validate | Visualize | Download',\n",
    "    site='INCF',\n",
    "    sidebar=sidebar,\n",
    "    sidebar_width=700,\n",
    "    main=main\n",
    ")\n",
    "\n",
    "# pn.serve(panel)"
   ]
  },
  {
   "cell_type": "markdown",
   "id": "a1b66392",
   "metadata": {},
   "source": [
    "### Option 2\n",
    "\n",
    "This option has the folder opener in the main area.\n"
   ]
  },
  {
   "cell_type": "code",
   "execution_count": 8,
   "id": "3ed63249",
   "metadata": {},
   "outputs": [
    {
     "data": {},
     "metadata": {},
     "output_type": "display_data"
    },
    {
     "data": {
      "application/vnd.holoviews_exec.v0+json": "",
      "text/html": [
       "<div id='1154'>\n",
       "  <div class=\"bk-root\" id=\"6ec6503a-df56-4a61-bbf4-52bd765d03cc\" data-root-id=\"1154\"></div>\n",
       "</div>\n",
       "<script type=\"application/javascript\">(function(root) {\n",
       "  function embed_document(root) {\n",
       "    var docs_json = {\"954410fa-8438-4acc-ad2e-8f6765915efa\":{\"defs\":[{\"extends\":null,\"module\":null,\"name\":\"ReactiveHTML1\",\"overrides\":[],\"properties\":[]},{\"extends\":null,\"module\":null,\"name\":\"FlexBox1\",\"overrides\":[],\"properties\":[{\"default\":\"flex-start\",\"kind\":null,\"name\":\"align_content\"},{\"default\":\"flex-start\",\"kind\":null,\"name\":\"align_items\"},{\"default\":\"row\",\"kind\":null,\"name\":\"flex_direction\"},{\"default\":\"wrap\",\"kind\":null,\"name\":\"flex_wrap\"},{\"default\":\"flex-start\",\"kind\":null,\"name\":\"justify_content\"}]},{\"extends\":null,\"module\":null,\"name\":\"GridStack1\",\"overrides\":[],\"properties\":[{\"default\":\"warn\",\"kind\":null,\"name\":\"mode\"},{\"default\":null,\"kind\":null,\"name\":\"ncols\"},{\"default\":null,\"kind\":null,\"name\":\"nrows\"},{\"default\":true,\"kind\":null,\"name\":\"allow_resize\"},{\"default\":true,\"kind\":null,\"name\":\"allow_drag\"},{\"default\":[],\"kind\":null,\"name\":\"state\"}]},{\"extends\":null,\"module\":null,\"name\":\"click1\",\"overrides\":[],\"properties\":[{\"default\":\"\",\"kind\":null,\"name\":\"terminal_output\"},{\"default\":\"\",\"kind\":null,\"name\":\"debug_name\"},{\"default\":0,\"kind\":null,\"name\":\"clears\"}]},{\"extends\":null,\"module\":null,\"name\":\"NotificationAreaBase1\",\"overrides\":[],\"properties\":[{\"default\":\"bottom-right\",\"kind\":null,\"name\":\"position\"},{\"default\":0,\"kind\":null,\"name\":\"_clear\"}]},{\"extends\":null,\"module\":null,\"name\":\"NotificationArea1\",\"overrides\":[],\"properties\":[{\"default\":[],\"kind\":null,\"name\":\"notifications\"},{\"default\":\"bottom-right\",\"kind\":null,\"name\":\"position\"},{\"default\":0,\"kind\":null,\"name\":\"_clear\"},{\"default\":[{\"background\":\"#ffc107\",\"icon\":{\"className\":\"fas fa-exclamation-triangle\",\"color\":\"white\",\"tagName\":\"i\"},\"type\":\"warning\"},{\"background\":\"#007bff\",\"icon\":{\"className\":\"fas fa-info-circle\",\"color\":\"white\",\"tagName\":\"i\"},\"type\":\"info\"}],\"kind\":null,\"name\":\"types\"}]},{\"extends\":null,\"module\":null,\"name\":\"Notification\",\"overrides\":[],\"properties\":[{\"default\":null,\"kind\":null,\"name\":\"background\"},{\"default\":3000,\"kind\":null,\"name\":\"duration\"},{\"default\":null,\"kind\":null,\"name\":\"icon\"},{\"default\":\"\",\"kind\":null,\"name\":\"message\"},{\"default\":null,\"kind\":null,\"name\":\"notification_type\"},{\"default\":false,\"kind\":null,\"name\":\"_destroyed\"}]},{\"extends\":null,\"module\":null,\"name\":\"TemplateActions1\",\"overrides\":[],\"properties\":[{\"default\":0,\"kind\":null,\"name\":\"open_modal\"},{\"default\":0,\"kind\":null,\"name\":\"close_modal\"}]},{\"extends\":null,\"module\":null,\"name\":\"MaterialTemplateActions1\",\"overrides\":[],\"properties\":[{\"default\":0,\"kind\":null,\"name\":\"open_modal\"},{\"default\":0,\"kind\":null,\"name\":\"close_modal\"}]}],\"roots\":{\"references\":[{\"attributes\":{\"children\":[{\"id\":\"1155\"},{\"id\":\"1156\"}],\"margin\":[0,0,0,0],\"name\":\"Column00185\",\"sizing_mode\":\"stretch_width\",\"width\":400},\"id\":\"1154\",\"type\":\"Column\"},{\"attributes\":{\"labels\":[\"Traverse all folders\",\"Ignore Warnings\",\"Ignore NIfTI Headers\",\"Skip Subject Filename Consistency Check\"],\"margin\":[5,10,5,10],\"sizing_mode\":\"stretch_width\"},\"id\":\"1156\",\"type\":\"CheckboxGroup\"},{\"attributes\":{\"client_comm_id\":\"be8ad3d22c5545e4aac579ef877509a0\",\"comm_id\":\"ab48ed1eaa6643729080fec9d94f335a\",\"plot_id\":\"1154\"},\"id\":\"1157\",\"type\":\"panel.models.comm_manager.CommManager\"},{\"attributes\":{\"css_classes\":[\"markdown\"],\"margin\":[10,0,0,0],\"name\":\"Markdown00183\",\"sizing_mode\":\"stretch_width\",\"text\":\"&lt;p&gt;&lt;strong&gt;Select options&lt;/strong&gt;:&lt;/p&gt;\"},\"id\":\"1155\",\"type\":\"panel.models.markup.HTML\"}],\"root_ids\":[\"1154\",\"1157\"]},\"title\":\"Bokeh Application\",\"version\":\"2.4.3\"}};\n",
       "    var render_items = [{\"docid\":\"954410fa-8438-4acc-ad2e-8f6765915efa\",\"root_ids\":[\"1154\"],\"roots\":{\"1154\":\"6ec6503a-df56-4a61-bbf4-52bd765d03cc\"}}];\n",
       "    root.Bokeh.embed.embed_items_notebook(docs_json, render_items);\n",
       "  }\n",
       "  if (root.Bokeh !== undefined && root.Bokeh.Panel !== undefined && ( root['vega'] !== undefined)) {\n",
       "    embed_document(root);\n",
       "  } else {\n",
       "    var attempts = 0;\n",
       "    var timer = setInterval(function(root) {\n",
       "      if (root.Bokeh !== undefined && root.Bokeh.Panel !== undefined && (root['vega'] !== undefined)) {\n",
       "        clearInterval(timer);\n",
       "        embed_document(root);\n",
       "      } else if (document.readyState == \"complete\") {\n",
       "        attempts++;\n",
       "        if (attempts > 200) {\n",
       "          clearInterval(timer);\n",
       "          console.log(\"Bokeh: ERROR: Unable to run BokehJS code because BokehJS library is missing\");\n",
       "        }\n",
       "      }\n",
       "    }, 25, root)\n",
       "  }\n",
       "})(window);</script>"
      ],
      "text/plain": [
       "Column(sizing_mode='stretch_width', width=400)\n",
       "    [0] Markdown(str, margin=(10, 0, 0, 0), sizing_mode='stretch_width')\n",
       "    [1] CheckBoxGroup(name='File option', options=['Traverse all folders', ...], sizing_mode='stretch_width')"
      ]
     },
     "execution_count": 8,
     "metadata": {
      "application/vnd.holoviews_exec.v0+json": {
       "id": "1154"
      }
     },
     "output_type": "execute_result"
    }
   ],
   "source": [
    "checkbox = pn.widgets.CheckBoxGroup(\n",
    "    name='File option', options=[\n",
    "        'Traverse all folders',\n",
    "        'Ignore Warnings',\n",
    "        'Ignore NIfTI Headers',\n",
    "        'Skip Subject Filename Consistency Check'],\n",
    "    inline=False\n",
    ")\n",
    "\n",
    "checkbox\n",
    "\n",
    "# settings\n",
    "left = pn.Column(\n",
    "    pn.pane.Markdown(\"\"\"\n",
    "    **Select options**:\n",
    "    \"\"\", margin=(10,0,0,0)),\n",
    "    checkbox,\n",
    "    width=400\n",
    ")\n",
    "\n",
    "left"
   ]
  },
  {
   "cell_type": "code",
   "execution_count": 9,
   "id": "42f7280e",
   "metadata": {},
   "outputs": [
    {
     "data": {},
     "metadata": {},
     "output_type": "display_data"
    },
    {
     "data": {
      "application/vnd.holoviews_exec.v0+json": "",
      "text/html": [
       "<div id='1158'>\n",
       "  <div class=\"bk-root\" id=\"5a0501df-84da-4990-aa04-087f395bf55a\" data-root-id=\"1158\"></div>\n",
       "</div>\n",
       "<script type=\"application/javascript\">(function(root) {\n",
       "  function embed_document(root) {\n",
       "    var docs_json = {\"1c5335fe-be47-465e-a5ba-0819deb8221c\":{\"defs\":[{\"extends\":null,\"module\":null,\"name\":\"ReactiveHTML1\",\"overrides\":[],\"properties\":[]},{\"extends\":null,\"module\":null,\"name\":\"FlexBox1\",\"overrides\":[],\"properties\":[{\"default\":\"flex-start\",\"kind\":null,\"name\":\"align_content\"},{\"default\":\"flex-start\",\"kind\":null,\"name\":\"align_items\"},{\"default\":\"row\",\"kind\":null,\"name\":\"flex_direction\"},{\"default\":\"wrap\",\"kind\":null,\"name\":\"flex_wrap\"},{\"default\":\"flex-start\",\"kind\":null,\"name\":\"justify_content\"}]},{\"extends\":null,\"module\":null,\"name\":\"GridStack1\",\"overrides\":[],\"properties\":[{\"default\":\"warn\",\"kind\":null,\"name\":\"mode\"},{\"default\":null,\"kind\":null,\"name\":\"ncols\"},{\"default\":null,\"kind\":null,\"name\":\"nrows\"},{\"default\":true,\"kind\":null,\"name\":\"allow_resize\"},{\"default\":true,\"kind\":null,\"name\":\"allow_drag\"},{\"default\":[],\"kind\":null,\"name\":\"state\"}]},{\"extends\":null,\"module\":null,\"name\":\"click1\",\"overrides\":[],\"properties\":[{\"default\":\"\",\"kind\":null,\"name\":\"terminal_output\"},{\"default\":\"\",\"kind\":null,\"name\":\"debug_name\"},{\"default\":0,\"kind\":null,\"name\":\"clears\"}]},{\"extends\":null,\"module\":null,\"name\":\"NotificationAreaBase1\",\"overrides\":[],\"properties\":[{\"default\":\"bottom-right\",\"kind\":null,\"name\":\"position\"},{\"default\":0,\"kind\":null,\"name\":\"_clear\"}]},{\"extends\":null,\"module\":null,\"name\":\"NotificationArea1\",\"overrides\":[],\"properties\":[{\"default\":[],\"kind\":null,\"name\":\"notifications\"},{\"default\":\"bottom-right\",\"kind\":null,\"name\":\"position\"},{\"default\":0,\"kind\":null,\"name\":\"_clear\"},{\"default\":[{\"background\":\"#ffc107\",\"icon\":{\"className\":\"fas fa-exclamation-triangle\",\"color\":\"white\",\"tagName\":\"i\"},\"type\":\"warning\"},{\"background\":\"#007bff\",\"icon\":{\"className\":\"fas fa-info-circle\",\"color\":\"white\",\"tagName\":\"i\"},\"type\":\"info\"}],\"kind\":null,\"name\":\"types\"}]},{\"extends\":null,\"module\":null,\"name\":\"Notification\",\"overrides\":[],\"properties\":[{\"default\":null,\"kind\":null,\"name\":\"background\"},{\"default\":3000,\"kind\":null,\"name\":\"duration\"},{\"default\":null,\"kind\":null,\"name\":\"icon\"},{\"default\":\"\",\"kind\":null,\"name\":\"message\"},{\"default\":null,\"kind\":null,\"name\":\"notification_type\"},{\"default\":false,\"kind\":null,\"name\":\"_destroyed\"}]},{\"extends\":null,\"module\":null,\"name\":\"TemplateActions1\",\"overrides\":[],\"properties\":[{\"default\":0,\"kind\":null,\"name\":\"open_modal\"},{\"default\":0,\"kind\":null,\"name\":\"close_modal\"}]},{\"extends\":null,\"module\":null,\"name\":\"MaterialTemplateActions1\",\"overrides\":[],\"properties\":[{\"default\":0,\"kind\":null,\"name\":\"open_modal\"},{\"default\":0,\"kind\":null,\"name\":\"close_modal\"}]}],\"roots\":{\"references\":[{\"attributes\":{\"children\":[{\"id\":\"1160\"},{\"id\":\"1161\"}],\"margin\":[0,0,0,0],\"name\":\"Column00185\",\"sizing_mode\":\"stretch_width\",\"width\":400},\"id\":\"1159\",\"type\":\"Column\"},{\"attributes\":{\"css_classes\":[\"markdown\"],\"margin\":[10,0,0,0],\"name\":\"Markdown00183\",\"sizing_mode\":\"stretch_width\",\"text\":\"&lt;p&gt;&lt;strong&gt;Select options&lt;/strong&gt;:&lt;/p&gt;\"},\"id\":\"1160\",\"type\":\"panel.models.markup.HTML\"},{\"attributes\":{\"margin\":[20,20,20,20],\"sizing_mode\":\"stretch_width\",\"tabs\":[{\"id\":\"1162\"},{\"id\":\"1166\"},{\"id\":\"1170\"},{\"id\":\"1174\"}]},\"id\":\"1158\",\"type\":\"panel.models.tabs.Tabs\"},{\"attributes\":{\"child\":{\"id\":\"1159\"},\"name\":\"Column00185\",\"title\":\"Settings\"},\"id\":\"1162\",\"type\":\"Panel\"},{\"attributes\":{\"children\":[{\"id\":\"1164\"},{\"id\":\"1165\"}],\"margin\":[0,0,0,0],\"name\":\"Column00185\",\"sizing_mode\":\"stretch_width\",\"width\":400},\"id\":\"1163\",\"type\":\"Column\"},{\"attributes\":{\"labels\":[\"Traverse all folders\",\"Ignore Warnings\",\"Ignore NIfTI Headers\",\"Skip Subject Filename Consistency Check\"],\"margin\":[5,10,5,10],\"sizing_mode\":\"stretch_width\"},\"id\":\"1161\",\"type\":\"CheckboxGroup\"},{\"attributes\":{\"css_classes\":[\"markdown\"],\"margin\":[10,0,0,0],\"name\":\"Markdown00183\",\"sizing_mode\":\"stretch_width\",\"text\":\"&lt;p&gt;&lt;strong&gt;Select options&lt;/strong&gt;:&lt;/p&gt;\"},\"id\":\"1164\",\"type\":\"panel.models.markup.HTML\"},{\"attributes\":{\"client_comm_id\":\"1788f9655ec6452c81f172830e759b46\",\"comm_id\":\"e8f0962d40ba48228a4414515c5f8f5f\",\"plot_id\":\"1158\"},\"id\":\"1175\",\"type\":\"panel.models.comm_manager.CommManager\"},{\"attributes\":{\"children\":[{\"id\":\"1168\"},{\"id\":\"1169\"}],\"margin\":[0,0,0,0],\"name\":\"Column00185\",\"sizing_mode\":\"stretch_width\",\"width\":400},\"id\":\"1167\",\"type\":\"Column\"},{\"attributes\":{\"children\":[{\"id\":\"1172\"},{\"id\":\"1173\"}],\"margin\":[0,0,0,0],\"name\":\"Column00185\",\"sizing_mode\":\"stretch_width\",\"width\":400},\"id\":\"1171\",\"type\":\"Column\"},{\"attributes\":{\"labels\":[\"Traverse all folders\",\"Ignore Warnings\",\"Ignore NIfTI Headers\",\"Skip Subject Filename Consistency Check\"],\"margin\":[5,10,5,10],\"sizing_mode\":\"stretch_width\"},\"id\":\"1173\",\"type\":\"CheckboxGroup\"},{\"attributes\":{\"labels\":[\"Traverse all folders\",\"Ignore Warnings\",\"Ignore NIfTI Headers\",\"Skip Subject Filename Consistency Check\"],\"margin\":[5,10,5,10],\"sizing_mode\":\"stretch_width\"},\"id\":\"1169\",\"type\":\"CheckboxGroup\"},{\"attributes\":{\"labels\":[\"Traverse all folders\",\"Ignore Warnings\",\"Ignore NIfTI Headers\",\"Skip Subject Filename Consistency Check\"],\"margin\":[5,10,5,10],\"sizing_mode\":\"stretch_width\"},\"id\":\"1165\",\"type\":\"CheckboxGroup\"},{\"attributes\":{\"css_classes\":[\"markdown\"],\"margin\":[10,0,0,0],\"name\":\"Markdown00183\",\"sizing_mode\":\"stretch_width\",\"text\":\"&lt;p&gt;&lt;strong&gt;Select options&lt;/strong&gt;:&lt;/p&gt;\"},\"id\":\"1168\",\"type\":\"panel.models.markup.HTML\"},{\"attributes\":{\"child\":{\"id\":\"1171\"},\"name\":\"Column00185\",\"title\":\"Settings\"},\"id\":\"1174\",\"type\":\"Panel\"},{\"attributes\":{\"child\":{\"id\":\"1163\"},\"name\":\"Column00185\",\"title\":\"Settings\"},\"id\":\"1166\",\"type\":\"Panel\"},{\"attributes\":{\"child\":{\"id\":\"1167\"},\"name\":\"Column00185\",\"title\":\"Settings\"},\"id\":\"1170\",\"type\":\"Panel\"},{\"attributes\":{\"css_classes\":[\"markdown\"],\"margin\":[10,0,0,0],\"name\":\"Markdown00183\",\"sizing_mode\":\"stretch_width\",\"text\":\"&lt;p&gt;&lt;strong&gt;Select options&lt;/strong&gt;:&lt;/p&gt;\"},\"id\":\"1172\",\"type\":\"panel.models.markup.HTML\"}],\"root_ids\":[\"1158\",\"1175\"]},\"title\":\"Bokeh Application\",\"version\":\"2.4.3\"}};\n",
       "    var render_items = [{\"docid\":\"1c5335fe-be47-465e-a5ba-0819deb8221c\",\"root_ids\":[\"1158\"],\"roots\":{\"1158\":\"5a0501df-84da-4990-aa04-087f395bf55a\"}}];\n",
       "    root.Bokeh.embed.embed_items_notebook(docs_json, render_items);\n",
       "  }\n",
       "  if (root.Bokeh !== undefined && root.Bokeh.Panel !== undefined && ( root['vega'] !== undefined)) {\n",
       "    embed_document(root);\n",
       "  } else {\n",
       "    var attempts = 0;\n",
       "    var timer = setInterval(function(root) {\n",
       "      if (root.Bokeh !== undefined && root.Bokeh.Panel !== undefined && (root['vega'] !== undefined)) {\n",
       "        clearInterval(timer);\n",
       "        embed_document(root);\n",
       "      } else if (document.readyState == \"complete\") {\n",
       "        attempts++;\n",
       "        if (attempts > 200) {\n",
       "          clearInterval(timer);\n",
       "          console.log(\"Bokeh: ERROR: Unable to run BokehJS code because BokehJS library is missing\");\n",
       "        }\n",
       "      }\n",
       "    }, 25, root)\n",
       "  }\n",
       "})(window);</script>"
      ],
      "text/plain": [
       "Tabs(margin=(20, 20, 20, 20), sizing_mode='stretch_width')\n",
       "    [0] Column(sizing_mode='stretch_width', width=400)\n",
       "        [0] Markdown(str, margin=(10, 0, 0, 0), sizing_mode='stretch_width')\n",
       "        [1] CheckBoxGroup(name='File option', options=['Traverse all folders', ...], sizing_mode='stretch_width')\n",
       "    [1] Column(sizing_mode='stretch_width', width=400)\n",
       "        [0] Markdown(str, margin=(10, 0, 0, 0), sizing_mode='stretch_width')\n",
       "        [1] CheckBoxGroup(name='File option', options=['Traverse all folders', ...], sizing_mode='stretch_width')\n",
       "    [2] Column(sizing_mode='stretch_width', width=400)\n",
       "        [0] Markdown(str, margin=(10, 0, 0, 0), sizing_mode='stretch_width')\n",
       "        [1] CheckBoxGroup(name='File option', options=['Traverse all folders', ...], sizing_mode='stretch_width')\n",
       "    [3] Column(sizing_mode='stretch_width', width=400)\n",
       "        [0] Markdown(str, margin=(10, 0, 0, 0), sizing_mode='stretch_width')\n",
       "        [1] CheckBoxGroup(name='File option', options=['Traverse all folders', ...], sizing_mode='stretch_width')"
      ]
     },
     "execution_count": 9,
     "metadata": {
      "application/vnd.holoviews_exec.v0+json": {
       "id": "1158"
      }
     },
     "output_type": "execute_result"
    }
   ],
   "source": [
    "# put everything together in tabs\n",
    "sidebar = pn.Tabs(\n",
    "    ('Settings', left),\n",
    "    ('Settings', left),\n",
    "    ('Settings', left),\n",
    "    ('Settings', left),\n",
    "    margin=(20, 20, 20, 20)\n",
    ")\n",
    "\n",
    "sidebar"
   ]
  },
  {
   "cell_type": "code",
   "execution_count": 71,
   "id": "d2b580a5",
   "metadata": {},
   "outputs": [
    {
     "data": {},
     "metadata": {},
     "output_type": "display_data"
    },
    {
     "data": {
      "application/vnd.holoviews_exec.v0+json": "",
      "text/html": [
       "<div id='3548'>\n",
       "  <div class=\"bk-root\" id=\"7617f7df-e7c5-41b0-b218-fa42cab809bd\" data-root-id=\"3548\"></div>\n",
       "</div>\n",
       "<script type=\"application/javascript\">(function(root) {\n",
       "  function embed_document(root) {\n",
       "    var docs_json = {\"7d4926ba-4b2b-4cc2-86a4-c02e7bd09cdd\":{\"defs\":[{\"extends\":null,\"module\":null,\"name\":\"ReactiveHTML1\",\"overrides\":[],\"properties\":[]},{\"extends\":null,\"module\":null,\"name\":\"FlexBox1\",\"overrides\":[],\"properties\":[{\"default\":\"flex-start\",\"kind\":null,\"name\":\"align_content\"},{\"default\":\"flex-start\",\"kind\":null,\"name\":\"align_items\"},{\"default\":\"row\",\"kind\":null,\"name\":\"flex_direction\"},{\"default\":\"wrap\",\"kind\":null,\"name\":\"flex_wrap\"},{\"default\":\"flex-start\",\"kind\":null,\"name\":\"justify_content\"}]},{\"extends\":null,\"module\":null,\"name\":\"GridStack1\",\"overrides\":[],\"properties\":[{\"default\":\"warn\",\"kind\":null,\"name\":\"mode\"},{\"default\":null,\"kind\":null,\"name\":\"ncols\"},{\"default\":null,\"kind\":null,\"name\":\"nrows\"},{\"default\":true,\"kind\":null,\"name\":\"allow_resize\"},{\"default\":true,\"kind\":null,\"name\":\"allow_drag\"},{\"default\":[],\"kind\":null,\"name\":\"state\"}]},{\"extends\":null,\"module\":null,\"name\":\"click1\",\"overrides\":[],\"properties\":[{\"default\":\"\",\"kind\":null,\"name\":\"terminal_output\"},{\"default\":\"\",\"kind\":null,\"name\":\"debug_name\"},{\"default\":0,\"kind\":null,\"name\":\"clears\"}]},{\"extends\":null,\"module\":null,\"name\":\"NotificationAreaBase1\",\"overrides\":[],\"properties\":[{\"default\":\"bottom-right\",\"kind\":null,\"name\":\"position\"},{\"default\":0,\"kind\":null,\"name\":\"_clear\"}]},{\"extends\":null,\"module\":null,\"name\":\"NotificationArea1\",\"overrides\":[],\"properties\":[{\"default\":[],\"kind\":null,\"name\":\"notifications\"},{\"default\":\"bottom-right\",\"kind\":null,\"name\":\"position\"},{\"default\":0,\"kind\":null,\"name\":\"_clear\"},{\"default\":[{\"background\":\"#ffc107\",\"icon\":{\"className\":\"fas fa-exclamation-triangle\",\"color\":\"white\",\"tagName\":\"i\"},\"type\":\"warning\"},{\"background\":\"#007bff\",\"icon\":{\"className\":\"fas fa-info-circle\",\"color\":\"white\",\"tagName\":\"i\"},\"type\":\"info\"}],\"kind\":null,\"name\":\"types\"}]},{\"extends\":null,\"module\":null,\"name\":\"Notification\",\"overrides\":[],\"properties\":[{\"default\":null,\"kind\":null,\"name\":\"background\"},{\"default\":3000,\"kind\":null,\"name\":\"duration\"},{\"default\":null,\"kind\":null,\"name\":\"icon\"},{\"default\":\"\",\"kind\":null,\"name\":\"message\"},{\"default\":null,\"kind\":null,\"name\":\"notification_type\"},{\"default\":false,\"kind\":null,\"name\":\"_destroyed\"}]},{\"extends\":null,\"module\":null,\"name\":\"TemplateActions1\",\"overrides\":[],\"properties\":[{\"default\":0,\"kind\":null,\"name\":\"open_modal\"},{\"default\":0,\"kind\":null,\"name\":\"close_modal\"}]},{\"extends\":null,\"module\":null,\"name\":\"MaterialTemplateActions1\",\"overrides\":[],\"properties\":[{\"default\":0,\"kind\":null,\"name\":\"open_modal\"},{\"default\":0,\"kind\":null,\"name\":\"close_modal\"}]}],\"roots\":{\"references\":[{\"attributes\":{\"margin\":[0,0,10,0],\"max_length\":5000,\"placeholder\":\"Filter selected options\",\"sizing_mode\":\"stretch_width\",\"width_policy\":\"max\"},\"id\":\"3572\",\"type\":\"TextInput\"},{\"attributes\":{\"children\":[{\"id\":\"3551\"},{\"id\":\"3558\"},{\"id\":\"3559\"}],\"margin\":[5,10,20,10],\"name\":\"Column00861\",\"sizing_mode\":\"stretch_width\"},\"id\":\"3550\",\"type\":\"Column\"},{\"attributes\":{\"disabled\":true,\"icon\":null,\"label\":\"\\u2b07\",\"margin\":[5,10,0,0],\"sizing_mode\":\"stretch_width\",\"subscribed_events\":[\"button_click\"],\"width\":25},\"id\":\"3556\",\"type\":\"Button\"},{\"attributes\":{\"margin\":[5,5,5,5],\"name\":\"VSpacer00875\",\"sizing_mode\":\"stretch_height\"},\"id\":\"3569\",\"type\":\"Spacer\"},{\"attributes\":{\"icon\":null,\"label\":\">>\",\"margin\":[5,10,5,10],\"sizing_mode\":\"stretch_width\",\"subscribed_events\":[\"button_click\"],\"width\":50},\"id\":\"3567\",\"type\":\"Button\"},{\"attributes\":{\"css_classes\":[\"markdown\"],\"margin\":[5,5,5,5],\"name\":\"Markdown00917\",\"sizing_mode\":\"stretch_width\",\"text\":\"&lt;h3&gt;Select the folder&lt;/h3&gt;\\n&lt;p&gt;We support .mat|.txt|.dcm|.eeg|.py|.img|.zip file extensions. This function will not upload any\\nfolders to the app. Instead, it will automatically select and show the files that pass the accepted file extension\\nthreshold. There is no file size limit.&lt;/p&gt;\"},\"id\":\"3549\",\"type\":\"panel.models.markup.HTML\"},{\"attributes\":{\"margin\":[0,0,10,0],\"max_length\":5000,\"placeholder\":\"Filter available options\",\"sizing_mode\":\"stretch_width\",\"width_policy\":\"max\"},\"id\":\"3562\",\"type\":\"TextInput\"},{\"attributes\":{\"client_comm_id\":\"cad605d5da244f08811fdb852160a239\",\"comm_id\":\"68dcb94013ee45d983c3466379f8e707\",\"plot_id\":\"3548\"},\"id\":\"3574\",\"type\":\"panel.models.comm_manager.CommManager\"},{\"attributes\":{\"margin\":[5,10,5,10],\"max_length\":5000,\"sizing_mode\":\"stretch_width\",\"value\":\"C:\\\\Users\\\\dinar\\\\Desktop\\\\gsoc\",\"width_policy\":\"max\"},\"id\":\"3555\",\"type\":\"TextInput\"},{\"attributes\":{\"icon\":null,\"label\":\"<<\",\"margin\":[5,10,5,10],\"sizing_mode\":\"stretch_width\",\"subscribed_events\":[\"button_click\"],\"width\":50},\"id\":\"3568\",\"type\":\"Button\"},{\"attributes\":{\"children\":[{\"id\":\"3565\"},{\"id\":\"3566\"},{\"id\":\"3569\"}],\"margin\":[0,0,0,0],\"name\":\"Column00876\",\"sizing_mode\":\"stretch_width\"},\"id\":\"3564\",\"type\":\"Column\"},{\"attributes\":{\"icon\":null,\"label\":\"\\u21bb\",\"margin\":[5,15,0,10],\"sizing_mode\":\"stretch_width\",\"subscribed_events\":[\"button_click\"],\"width\":25},\"id\":\"3557\",\"type\":\"Button\"},{\"attributes\":{\"css_classes\":[\"markdown\"],\"margin\":[0,0,0,0],\"name\":\"Markdown00885\",\"sizing_mode\":\"stretch_width\",\"text\":\"&lt;h3&gt;Selected files&lt;/h3&gt;\"},\"id\":\"3571\",\"type\":\"panel.models.markup.HTML\"},{\"attributes\":{\"children\":[{\"id\":\"3560\"},{\"id\":\"3564\"},{\"id\":\"3570\"}],\"margin\":[0,0,0,0],\"name\":\"Row00863\",\"sizing_mode\":\"stretch_both\",\"width\":600},\"id\":\"3559\",\"type\":\"Row\"},{\"attributes\":{\"children\":[{\"id\":\"3549\"},{\"id\":\"3550\"}],\"margin\":[0,0,0,0],\"name\":\"Column00919\",\"sizing_mode\":\"stretch_width\"},\"id\":\"3548\",\"type\":\"Column\"},{\"attributes\":{\"children\":[{\"id\":\"3552\"},{\"id\":\"3553\"},{\"id\":\"3554\"},{\"id\":\"3555\"},{\"id\":\"3556\"},{\"id\":\"3557\"}],\"margin\":[0,0,0,0],\"name\":\"Row00883\",\"sizing_mode\":\"stretch_width\",\"width_policy\":\"max\"},\"id\":\"3551\",\"type\":\"Row\"},{\"attributes\":{\"margin\":[0,0,0,0],\"options\":[\"\\ud83d\\udcc1app_templates\",\"\\ud83d\\udcc1docs\",\"\\ud83d\\udcc1examples\",\"\\ud83d\\udcc1ignore\",\"\\ud83d\\udcc1incf\",\"\\ud83d\\udcc1output\",\"\\ud83d\\udcc1tests\",\"AUTHORS.rst\",\"CONTRIBUTING.rst\",\"HISTORY.rst\",\"LICENSE\",\"MANIFEST.in\",\"Makefile\",\"README.rst\",\"requirements.txt\",\"requirements_dev.txt\",\"setup.cfg\",\"setup.py\",\"tox.ini\"],\"size\":10,\"sizing_mode\":\"stretch_both\"},\"id\":\"3563\",\"type\":\"MultiSelect\"},{\"attributes\":{\"disabled\":true,\"icon\":null,\"label\":\"\\u25c0\",\"margin\":[5,10,0,0],\"sizing_mode\":\"stretch_width\",\"subscribed_events\":[\"button_click\"],\"width\":25},\"id\":\"3552\",\"type\":\"Button\"},{\"attributes\":{\"children\":[{\"id\":\"3571\"},{\"id\":\"3572\"},{\"id\":\"3573\"}],\"margin\":[0,0,0,0],\"name\":\"Column00872\",\"sizing_mode\":\"stretch_both\"},\"id\":\"3570\",\"type\":\"Column\"},{\"attributes\":{\"disabled\":true,\"icon\":null,\"label\":\"\\u25b6\",\"margin\":[5,10,5,10],\"sizing_mode\":\"stretch_width\",\"subscribed_events\":[\"button_click\"],\"width\":25},\"id\":\"3553\",\"type\":\"Button\"},{\"attributes\":{\"margin\":[5,5,5,5],\"name\":\"VSpacer00874\",\"sizing_mode\":\"stretch_height\"},\"id\":\"3565\",\"type\":\"Spacer\"},{\"attributes\":{\"children\":[{\"id\":\"3567\"},{\"id\":\"3568\"}],\"margin\":[0,5,0,5],\"name\":\"Column00873\",\"sizing_mode\":\"stretch_width\"},\"id\":\"3566\",\"type\":\"Column\"},{\"attributes\":{\"margin\":[0,0,0,0],\"options\":[\"\\ud83d\\udcc1data\"],\"size\":10,\"sizing_mode\":\"stretch_both\"},\"id\":\"3573\",\"type\":\"MultiSelect\"},{\"attributes\":{\"css_classes\":[\"markdown\"],\"margin\":[0,0,0,0],\"name\":\"Markdown00887\",\"sizing_mode\":\"stretch_width\",\"text\":\"&lt;h3&gt;File Browser&lt;/h3&gt;\"},\"id\":\"3561\",\"type\":\"panel.models.markup.HTML\"},{\"attributes\":{\"margin\":[0,0,0,0],\"name\":\"Divider00884\",\"sizing_mode\":\"stretch_width\",\"style\":{\"height\":\"100%\",\"width\":\"100%\"},\"text\":\"<hr style=\\\"margin: 0px\\\">\",\"width_policy\":\"fit\"},\"id\":\"3558\",\"type\":\"Div\"},{\"attributes\":{\"disabled\":true,\"icon\":null,\"label\":\"\\u2b06\",\"margin\":[5,10,5,10],\"sizing_mode\":\"stretch_width\",\"subscribed_events\":[\"button_click\"],\"width\":25},\"id\":\"3554\",\"type\":\"Button\"},{\"attributes\":{\"children\":[{\"id\":\"3561\"},{\"id\":\"3562\"},{\"id\":\"3563\"}],\"margin\":[0,0,0,0],\"name\":\"Column00871\",\"sizing_mode\":\"stretch_both\"},\"id\":\"3560\",\"type\":\"Column\"}],\"root_ids\":[\"3548\",\"3574\"]},\"title\":\"Bokeh Application\",\"version\":\"2.4.3\"}};\n",
       "    var render_items = [{\"docid\":\"7d4926ba-4b2b-4cc2-86a4-c02e7bd09cdd\",\"root_ids\":[\"3548\"],\"roots\":{\"3548\":\"7617f7df-e7c5-41b0-b218-fa42cab809bd\"}}];\n",
       "    root.Bokeh.embed.embed_items_notebook(docs_json, render_items);\n",
       "  }\n",
       "  if (root.Bokeh !== undefined && root.Bokeh.Panel !== undefined && ( root['vega'] !== undefined)) {\n",
       "    embed_document(root);\n",
       "  } else {\n",
       "    var attempts = 0;\n",
       "    var timer = setInterval(function(root) {\n",
       "      if (root.Bokeh !== undefined && root.Bokeh.Panel !== undefined && (root['vega'] !== undefined)) {\n",
       "        clearInterval(timer);\n",
       "        embed_document(root);\n",
       "      } else if (document.readyState == \"complete\") {\n",
       "        attempts++;\n",
       "        if (attempts > 200) {\n",
       "          clearInterval(timer);\n",
       "          console.log(\"Bokeh: ERROR: Unable to run BokehJS code because BokehJS library is missing\");\n",
       "        }\n",
       "      }\n",
       "    }, 25, root)\n",
       "  }\n",
       "})(window);</script>"
      ],
      "text/plain": [
       "Column(sizing_mode='stretch_width')\n",
       "    [0] Markdown(str, sizing_mode='stretch_width')\n",
       "    [1] FileSelector(directory='C:\\\\Users\\\\dinar\\\\Desktop..., sizing_mode='stretch_width', value=['C:\\\\Users\\\\dinar\\\\Deskto...])"
      ]
     },
     "execution_count": 71,
     "metadata": {
      "application/vnd.holoviews_exec.v0+json": {
       "id": "3548"
      }
     },
     "output_type": "execute_result"
    }
   ],
   "source": [
    "file_selector = pn.pane.Markdown(\"\"\"\n",
    "### Select the folder\n",
    "We support .mat|.txt|.dcm|.eeg|.py|.img|.zip file extensions. This function will not upload any\n",
    "folders to the app. Instead, it will automatically select and show the files that pass the accepted file extension\n",
    "threshold. There is no file size limit.\n",
    "\"\"\"\n",
    ")\n",
    "\n",
    "main_area = pn.Column(\n",
    "    file_selector,\n",
    "    change_path\n",
    ")\n",
    "\n",
    "main_area"
   ]
  },
  {
   "cell_type": "code",
   "execution_count": 11,
   "id": "58717f1e",
   "metadata": {},
   "outputs": [
    {
     "data": {},
     "metadata": {},
     "output_type": "display_data"
    },
    {
     "data": {
      "application/vnd.holoviews_exec.v0+json": "",
      "text/html": [
       "<div id='1203'>\n",
       "  <div class=\"bk-root\" id=\"490718bb-bda6-4719-9399-71027d0e8561\" data-root-id=\"1203\"></div>\n",
       "</div>\n",
       "<script type=\"application/javascript\">(function(root) {\n",
       "  function embed_document(root) {\n",
       "    var docs_json = {\"6cc9cc01-3f99-44bf-b1ce-7f911d8a1de3\":{\"defs\":[{\"extends\":null,\"module\":null,\"name\":\"ReactiveHTML1\",\"overrides\":[],\"properties\":[]},{\"extends\":null,\"module\":null,\"name\":\"FlexBox1\",\"overrides\":[],\"properties\":[{\"default\":\"flex-start\",\"kind\":null,\"name\":\"align_content\"},{\"default\":\"flex-start\",\"kind\":null,\"name\":\"align_items\"},{\"default\":\"row\",\"kind\":null,\"name\":\"flex_direction\"},{\"default\":\"wrap\",\"kind\":null,\"name\":\"flex_wrap\"},{\"default\":\"flex-start\",\"kind\":null,\"name\":\"justify_content\"}]},{\"extends\":null,\"module\":null,\"name\":\"GridStack1\",\"overrides\":[],\"properties\":[{\"default\":\"warn\",\"kind\":null,\"name\":\"mode\"},{\"default\":null,\"kind\":null,\"name\":\"ncols\"},{\"default\":null,\"kind\":null,\"name\":\"nrows\"},{\"default\":true,\"kind\":null,\"name\":\"allow_resize\"},{\"default\":true,\"kind\":null,\"name\":\"allow_drag\"},{\"default\":[],\"kind\":null,\"name\":\"state\"}]},{\"extends\":null,\"module\":null,\"name\":\"click1\",\"overrides\":[],\"properties\":[{\"default\":\"\",\"kind\":null,\"name\":\"terminal_output\"},{\"default\":\"\",\"kind\":null,\"name\":\"debug_name\"},{\"default\":0,\"kind\":null,\"name\":\"clears\"}]},{\"extends\":null,\"module\":null,\"name\":\"NotificationAreaBase1\",\"overrides\":[],\"properties\":[{\"default\":\"bottom-right\",\"kind\":null,\"name\":\"position\"},{\"default\":0,\"kind\":null,\"name\":\"_clear\"}]},{\"extends\":null,\"module\":null,\"name\":\"NotificationArea1\",\"overrides\":[],\"properties\":[{\"default\":[],\"kind\":null,\"name\":\"notifications\"},{\"default\":\"bottom-right\",\"kind\":null,\"name\":\"position\"},{\"default\":0,\"kind\":null,\"name\":\"_clear\"},{\"default\":[{\"background\":\"#ffc107\",\"icon\":{\"className\":\"fas fa-exclamation-triangle\",\"color\":\"white\",\"tagName\":\"i\"},\"type\":\"warning\"},{\"background\":\"#007bff\",\"icon\":{\"className\":\"fas fa-info-circle\",\"color\":\"white\",\"tagName\":\"i\"},\"type\":\"info\"}],\"kind\":null,\"name\":\"types\"}]},{\"extends\":null,\"module\":null,\"name\":\"Notification\",\"overrides\":[],\"properties\":[{\"default\":null,\"kind\":null,\"name\":\"background\"},{\"default\":3000,\"kind\":null,\"name\":\"duration\"},{\"default\":null,\"kind\":null,\"name\":\"icon\"},{\"default\":\"\",\"kind\":null,\"name\":\"message\"},{\"default\":null,\"kind\":null,\"name\":\"notification_type\"},{\"default\":false,\"kind\":null,\"name\":\"_destroyed\"}]},{\"extends\":null,\"module\":null,\"name\":\"TemplateActions1\",\"overrides\":[],\"properties\":[{\"default\":0,\"kind\":null,\"name\":\"open_modal\"},{\"default\":0,\"kind\":null,\"name\":\"close_modal\"}]},{\"extends\":null,\"module\":null,\"name\":\"MaterialTemplateActions1\",\"overrides\":[],\"properties\":[{\"default\":0,\"kind\":null,\"name\":\"open_modal\"},{\"default\":0,\"kind\":null,\"name\":\"close_modal\"}]}],\"roots\":{\"references\":[{\"attributes\":{\"css_classes\":[\"markdown\"],\"margin\":[5,5,5,5],\"name\":\"Markdown00196\",\"sizing_mode\":\"stretch_width\",\"text\":\"&lt;h3&gt;Welcome!&lt;/h3&gt;\\n&lt;p&gt;This is a placeholder for the uploaded &amp;amp; transformed files. Prior to downloading the processed files,\\nyou can rename, open, and visualize the results. Visualizations will be available in the tab under &amp;ldquo;Visualize Data&amp;rdquo;. There&amp;rsquo;s\\nextra space for new ideas. Of course, we can keep expanding them or even make them closeable.&lt;/p&gt;\\n&lt;hr&gt;\\n&lt;p&gt;For now, the editor below lets us change the names on the fly. You can click on any name below &amp;amp; make your changes.\\nI&amp;rsquo;m planning on showing the rendered/processed file structure in a tree structure. For example, if there are TSV files, we can\\nstore them in an allocated folder:&lt;/p&gt;\\n&lt;div class=&quot;codehilite&quot;&gt;&lt;pre&gt;&lt;span&gt;&lt;/span&gt;&lt;code&gt;tsv/\\n    example1.tsv\\n    example2.tsv\\njson/\\n    example1.json\\n    example2.json\\n&lt;/code&gt;&lt;/pre&gt;&lt;/div&gt;\"},\"id\":\"1203\",\"type\":\"panel.models.markup.HTML\"},{\"attributes\":{\"client_comm_id\":\"d7c46d7c591246b8a7f03f86b4530a27\",\"comm_id\":\"6e353ad2e10d4b28ab73d7a7a0230589\",\"plot_id\":\"1203\"},\"id\":\"1204\",\"type\":\"panel.models.comm_manager.CommManager\"}],\"root_ids\":[\"1203\",\"1204\"]},\"title\":\"Bokeh Application\",\"version\":\"2.4.3\"}};\n",
       "    var render_items = [{\"docid\":\"6cc9cc01-3f99-44bf-b1ce-7f911d8a1de3\",\"root_ids\":[\"1203\"],\"roots\":{\"1203\":\"490718bb-bda6-4719-9399-71027d0e8561\"}}];\n",
       "    root.Bokeh.embed.embed_items_notebook(docs_json, render_items);\n",
       "  }\n",
       "  if (root.Bokeh !== undefined && root.Bokeh.Panel !== undefined && ( root['vega'] !== undefined)) {\n",
       "    embed_document(root);\n",
       "  } else {\n",
       "    var attempts = 0;\n",
       "    var timer = setInterval(function(root) {\n",
       "      if (root.Bokeh !== undefined && root.Bokeh.Panel !== undefined && (root['vega'] !== undefined)) {\n",
       "        clearInterval(timer);\n",
       "        embed_document(root);\n",
       "      } else if (document.readyState == \"complete\") {\n",
       "        attempts++;\n",
       "        if (attempts > 200) {\n",
       "          clearInterval(timer);\n",
       "          console.log(\"Bokeh: ERROR: Unable to run BokehJS code because BokehJS library is missing\");\n",
       "        }\n",
       "      }\n",
       "    }, 25, root)\n",
       "  }\n",
       "})(window);</script>"
      ],
      "text/plain": [
       "Markdown(str, sizing_mode='stretch_width')"
      ]
     },
     "execution_count": 11,
     "metadata": {
      "application/vnd.holoviews_exec.v0+json": {
       "id": "1203"
      }
     },
     "output_type": "execute_result"
    }
   ],
   "source": [
    "# descriptor for JSONEditor usage\n",
    "markdown = pn.pane.Markdown(\"\"\"\n",
    "### Welcome!\n",
    "This is a placeholder for the uploaded & transformed files. Prior to downloading the processed files,\n",
    "you can rename, open, and visualize the results. Visualizations will be available in the tab under \"Visualize Data\". There's\n",
    "extra space for new ideas. Of course, we can keep expanding them or even make them closeable.\n",
    "\n",
    "---\n",
    "\n",
    "For now, the editor below lets us change the names on the fly. You can click on any name below & make your changes.\n",
    "I'm planning on showing the rendered/processed file structure in a tree structure. For example, if there are TSV files, we can\n",
    "store them in an allocated folder:\n",
    "\n",
    "```\n",
    "tsv/\n",
    "    example1.tsv\n",
    "    example2.tsv\n",
    "json/\n",
    "    example1.json\n",
    "    example2.json\n",
    "\n",
    "```\n",
    "\n",
    "\"\"\"\n",
    ")\n",
    "\n",
    "json_editor = pn.widgets.JSONEditor(\n",
    "    schema={\n",
    "      \"title\": \"Files structure\",\n",
    "      \"type\": \"object\",\n",
    "      \"properties\": {\n",
    "        \"name\": {\n",
    "          \"type\": \"string\",\n",
    "          \"description\": \"filename\"\n",
    "        },\n",
    "        \"name2\": {\n",
    "          \"type\": \"string\",\n",
    "          \"description\": \"filename\"\n",
    "        },\n",
    "        \"name3\": {\n",
    "          \"type\": \"string\",\n",
    "          \"description\": \"filename\",\n",
    "        }\n",
    "      }\n",
    "    },\n",
    "    value={\n",
    "        'name':  'filename',\n",
    "        'name2': 'filename',\n",
    "        'name3': 'filename'\n",
    "    }, margin=(10, 50, 10, 50))\n",
    "\n",
    "markdown"
   ]
  },
  {
   "cell_type": "code",
   "execution_count": 12,
   "id": "bfd0e669",
   "metadata": {},
   "outputs": [
    {
     "data": {},
     "metadata": {},
     "output_type": "display_data"
    },
    {
     "data": {
      "application/vnd.holoviews_exec.v0+json": "",
      "text/html": [
       "<div id='1205'>\n",
       "  <div class=\"bk-root\" id=\"53e5a87e-5a69-4a7e-bd25-8cd40f0f5824\" data-root-id=\"1205\"></div>\n",
       "</div>\n",
       "<script type=\"application/javascript\">(function(root) {\n",
       "  function embed_document(root) {\n",
       "    var docs_json = {\"e046a1ae-2c59-4af9-8b6b-53f697653d4a\":{\"defs\":[{\"extends\":null,\"module\":null,\"name\":\"ReactiveHTML1\",\"overrides\":[],\"properties\":[]},{\"extends\":null,\"module\":null,\"name\":\"FlexBox1\",\"overrides\":[],\"properties\":[{\"default\":\"flex-start\",\"kind\":null,\"name\":\"align_content\"},{\"default\":\"flex-start\",\"kind\":null,\"name\":\"align_items\"},{\"default\":\"row\",\"kind\":null,\"name\":\"flex_direction\"},{\"default\":\"wrap\",\"kind\":null,\"name\":\"flex_wrap\"},{\"default\":\"flex-start\",\"kind\":null,\"name\":\"justify_content\"}]},{\"extends\":null,\"module\":null,\"name\":\"GridStack1\",\"overrides\":[],\"properties\":[{\"default\":\"warn\",\"kind\":null,\"name\":\"mode\"},{\"default\":null,\"kind\":null,\"name\":\"ncols\"},{\"default\":null,\"kind\":null,\"name\":\"nrows\"},{\"default\":true,\"kind\":null,\"name\":\"allow_resize\"},{\"default\":true,\"kind\":null,\"name\":\"allow_drag\"},{\"default\":[],\"kind\":null,\"name\":\"state\"}]},{\"extends\":null,\"module\":null,\"name\":\"click1\",\"overrides\":[],\"properties\":[{\"default\":\"\",\"kind\":null,\"name\":\"terminal_output\"},{\"default\":\"\",\"kind\":null,\"name\":\"debug_name\"},{\"default\":0,\"kind\":null,\"name\":\"clears\"}]},{\"extends\":null,\"module\":null,\"name\":\"NotificationAreaBase1\",\"overrides\":[],\"properties\":[{\"default\":\"bottom-right\",\"kind\":null,\"name\":\"position\"},{\"default\":0,\"kind\":null,\"name\":\"_clear\"}]},{\"extends\":null,\"module\":null,\"name\":\"NotificationArea1\",\"overrides\":[],\"properties\":[{\"default\":[],\"kind\":null,\"name\":\"notifications\"},{\"default\":\"bottom-right\",\"kind\":null,\"name\":\"position\"},{\"default\":0,\"kind\":null,\"name\":\"_clear\"},{\"default\":[{\"background\":\"#ffc107\",\"icon\":{\"className\":\"fas fa-exclamation-triangle\",\"color\":\"white\",\"tagName\":\"i\"},\"type\":\"warning\"},{\"background\":\"#007bff\",\"icon\":{\"className\":\"fas fa-info-circle\",\"color\":\"white\",\"tagName\":\"i\"},\"type\":\"info\"}],\"kind\":null,\"name\":\"types\"}]},{\"extends\":null,\"module\":null,\"name\":\"Notification\",\"overrides\":[],\"properties\":[{\"default\":null,\"kind\":null,\"name\":\"background\"},{\"default\":3000,\"kind\":null,\"name\":\"duration\"},{\"default\":null,\"kind\":null,\"name\":\"icon\"},{\"default\":\"\",\"kind\":null,\"name\":\"message\"},{\"default\":null,\"kind\":null,\"name\":\"notification_type\"},{\"default\":false,\"kind\":null,\"name\":\"_destroyed\"}]},{\"extends\":null,\"module\":null,\"name\":\"TemplateActions1\",\"overrides\":[],\"properties\":[{\"default\":0,\"kind\":null,\"name\":\"open_modal\"},{\"default\":0,\"kind\":null,\"name\":\"close_modal\"}]},{\"extends\":null,\"module\":null,\"name\":\"MaterialTemplateActions1\",\"overrides\":[],\"properties\":[{\"default\":0,\"kind\":null,\"name\":\"open_modal\"},{\"default\":0,\"kind\":null,\"name\":\"close_modal\"}]}],\"roots\":{\"references\":[{\"attributes\":{\"css_classes\":[\"markdown\"],\"margin\":[5,5,5,5],\"name\":\"Markdown00196\",\"sizing_mode\":\"stretch_width\",\"text\":\"&lt;h3&gt;Welcome!&lt;/h3&gt;\\n&lt;p&gt;This is a placeholder for the uploaded &amp;amp; transformed files. Prior to downloading the processed files,\\nyou can rename, open, and visualize the results. Visualizations will be available in the tab under &amp;ldquo;Visualize Data&amp;rdquo;. There&amp;rsquo;s\\nextra space for new ideas. Of course, we can keep expanding them or even make them closeable.&lt;/p&gt;\\n&lt;hr&gt;\\n&lt;p&gt;For now, the editor below lets us change the names on the fly. You can click on any name below &amp;amp; make your changes.\\nI&amp;rsquo;m planning on showing the rendered/processed file structure in a tree structure. For example, if there are TSV files, we can\\nstore them in an allocated folder:&lt;/p&gt;\\n&lt;div class=&quot;codehilite&quot;&gt;&lt;pre&gt;&lt;span&gt;&lt;/span&gt;&lt;code&gt;tsv/\\n    example1.tsv\\n    example2.tsv\\njson/\\n    example1.json\\n    example2.json\\n&lt;/code&gt;&lt;/pre&gt;&lt;/div&gt;\"},\"id\":\"1238\",\"type\":\"panel.models.markup.HTML\"},{\"attributes\":{\"disabled\":true,\"icon\":null,\"label\":\"\\u2b06\",\"margin\":[5,10,5,10],\"sizing_mode\":\"stretch_width\",\"subscribed_events\":[\"button_click\"],\"width\":25},\"id\":\"1212\",\"type\":\"Button\"},{\"attributes\":{\"margin\":[5,5,5,5],\"name\":\"VSpacer00119\",\"sizing_mode\":\"stretch_height\"},\"id\":\"1223\",\"type\":\"Spacer\"},{\"attributes\":{\"code\":\"slider = pn.widgets.IntSlider(start=0, end=10)\\n\\ndef slideshow(index):\\n    url = f\\\"https://picsum.photos/800/300?image={index}\\\"\\n    return pn.pane.JPG(url)\\n\\noutput = pn.bind(slideshow, slider)\\n\\napp = pn.Column(slider, output)\",\"disabled\":true,\"filename\":\"\",\"height\":200,\"js_property_callbacks\":{\"change:disabled\":[{\"id\":\"1248\"}],\"change:readonly\":[{\"id\":\"1247\"}]},\"language\":\"python\",\"margin\":[5,10,5,10],\"readonly\":true,\"sizing_mode\":\"fixed\",\"theme\":\"monokai\",\"width\":800},\"id\":\"1241\",\"type\":\"panel.models.ace.AcePlot\"},{\"attributes\":{\"data\":{\"name\":\"filename\",\"name2\":\"filename\",\"name3\":\"filename\"},\"margin\":[10,50,10,50],\"name\":\"\",\"schema\":{\"properties\":{\"name\":{\"description\":\"filename\",\"type\":\"string\"},\"name2\":{\"description\":\"filename\",\"type\":\"string\"},\"name3\":{\"description\":\"filename\",\"type\":\"string\"}},\"title\":\"Files structure\",\"type\":\"object\"},\"sizing_mode\":\"stretch_width\"},\"id\":\"1245\",\"type\":\"panel.models.json_editor.JSONEditor\"},{\"attributes\":{\"css_classes\":[\"markdown\"],\"margin\":[5,5,5,5],\"name\":\"Markdown00191\",\"sizing_mode\":\"stretch_width\",\"text\":\"&lt;h3&gt;Select the folder&lt;/h3&gt;\\n&lt;p&gt;We support .mat|.txt|.dcm|.eeg|.py|.img|.zip file extensions. This function will not upload any\\nfolders to the app. Instead, it will automatically select and show the files that pass the accepted file extension\\nthreshold. There is no file size limit.&lt;/p&gt;\"},\"id\":\"1207\",\"type\":\"panel.models.markup.HTML\"},{\"attributes\":{\"disabled\":true,\"icon\":null,\"label\":\"\\u25c0\",\"margin\":[5,10,0,0],\"sizing_mode\":\"stretch_width\",\"subscribed_events\":[\"button_click\"],\"width\":25},\"id\":\"1210\",\"type\":\"Button\"},{\"attributes\":{\"margin\":[0,0,10,0],\"max_length\":5000,\"placeholder\":\"Filter selected options\",\"sizing_mode\":\"stretch_width\",\"width_policy\":\"max\"},\"id\":\"1230\",\"type\":\"TextInput\"},{\"attributes\":{\"margin\":[0,0,0,0],\"name\":\"Divider00129\",\"sizing_mode\":\"stretch_width\",\"style\":{\"height\":\"100%\",\"width\":\"100%\"},\"text\":\"<hr style=\\\"margin: 0px\\\">\",\"width_policy\":\"fit\"},\"id\":\"1216\",\"type\":\"Div\"},{\"attributes\":{\"margin\":[0,0,10,0],\"max_length\":5000,\"placeholder\":\"Filter available options\",\"sizing_mode\":\"stretch_width\",\"width_policy\":\"max\"},\"id\":\"1220\",\"type\":\"TextInput\"},{\"attributes\":{\"css_classes\":[\"markdown\"],\"margin\":[0,0,0,0],\"name\":\"Markdown00130\",\"sizing_mode\":\"stretch_width\",\"text\":\"&lt;h3&gt;Selected files&lt;/h3&gt;\"},\"id\":\"1229\",\"type\":\"panel.models.markup.HTML\"},{\"attributes\":{\"icon\":null,\"label\":\"\\u21bb\",\"margin\":[5,15,0,10],\"sizing_mode\":\"stretch_width\",\"subscribed_events\":[\"button_click\"],\"width\":25},\"id\":\"1215\",\"type\":\"Button\"},{\"attributes\":{\"children\":[{\"id\":\"1210\"},{\"id\":\"1211\"},{\"id\":\"1212\"},{\"id\":\"1213\"},{\"id\":\"1214\"},{\"id\":\"1215\"}],\"margin\":[0,0,0,0],\"name\":\"Row00128\",\"sizing_mode\":\"stretch_width\",\"width_policy\":\"max\"},\"id\":\"1209\",\"type\":\"Row\"},{\"attributes\":{\"margin\":[0,0,0,0],\"sizing_mode\":\"stretch_width\",\"tabs\":[{\"id\":\"1232\"},{\"id\":\"1236\"},{\"id\":\"1240\"},{\"id\":\"1242\"},{\"id\":\"1246\"}]},\"id\":\"1205\",\"type\":\"panel.models.tabs.Tabs\"},{\"attributes\":{\"children\":[{\"id\":\"1244\"},{\"id\":\"1245\"}],\"margin\":[0,0,0,0],\"name\":\"Column00203\",\"sizing_mode\":\"stretch_width\"},\"id\":\"1243\",\"type\":\"Column\"},{\"attributes\":{\"css_classes\":[\"markdown\"],\"margin\":[5,5,5,5],\"name\":\"Markdown00196\",\"sizing_mode\":\"stretch_width\",\"text\":\"&lt;h3&gt;Welcome!&lt;/h3&gt;\\n&lt;p&gt;This is a placeholder for the uploaded &amp;amp; transformed files. Prior to downloading the processed files,\\nyou can rename, open, and visualize the results. Visualizations will be available in the tab under &amp;ldquo;Visualize Data&amp;rdquo;. There&amp;rsquo;s\\nextra space for new ideas. Of course, we can keep expanding them or even make them closeable.&lt;/p&gt;\\n&lt;hr&gt;\\n&lt;p&gt;For now, the editor below lets us change the names on the fly. You can click on any name below &amp;amp; make your changes.\\nI&amp;rsquo;m planning on showing the rendered/processed file structure in a tree structure. For example, if there are TSV files, we can\\nstore them in an allocated folder:&lt;/p&gt;\\n&lt;div class=&quot;codehilite&quot;&gt;&lt;pre&gt;&lt;span&gt;&lt;/span&gt;&lt;code&gt;tsv/\\n    example1.tsv\\n    example2.tsv\\njson/\\n    example1.json\\n    example2.json\\n&lt;/code&gt;&lt;/pre&gt;&lt;/div&gt;\"},\"id\":\"1234\",\"type\":\"panel.models.markup.HTML\"},{\"attributes\":{\"margin\":[5,10,5,10],\"max_length\":5000,\"sizing_mode\":\"stretch_width\",\"value\":\"C:\\\\Users\\\\dinar\\\\Desktop\\\\gsoc\\\\app_templates\",\"width_policy\":\"max\"},\"id\":\"1213\",\"type\":\"TextInput\"},{\"attributes\":{\"children\":[{\"id\":\"1207\"},{\"id\":\"1208\"}],\"margin\":[0,0,0,0],\"name\":\"Column00193\",\"sizing_mode\":\"stretch_width\"},\"id\":\"1206\",\"type\":\"Column\"},{\"attributes\":{\"data\":{\"name\":\"filename\",\"name2\":\"filename\",\"name3\":\"filename\"},\"margin\":[10,50,10,50],\"name\":\"\",\"schema\":{\"properties\":{\"name\":{\"description\":\"filename\",\"type\":\"string\"},\"name2\":{\"description\":\"filename\",\"type\":\"string\"},\"name3\":{\"description\":\"filename\",\"type\":\"string\"}},\"title\":\"Files structure\",\"type\":\"object\"},\"sizing_mode\":\"stretch_width\"},\"id\":\"1235\",\"type\":\"panel.models.json_editor.JSONEditor\"},{\"attributes\":{\"args\":{\"bidirectional\":true,\"properties\":{\"readonly\":\"disabled\"},\"source\":{\"id\":\"1241\"},\"target\":{\"id\":\"1241\"}},\"code\":\"\\n    var value = source['disabled'];\\n    value = value;\\n    value = value;\\n    try {\\n      var property = target.properties['readonly'];\\n      if (property !== undefined) { property.validate(value); }\\n    } catch(err) {\\n      console.log('WARNING: Could not set readonly on target, raised error: ' + err);\\n      return;\\n    }\\n    try {\\n      target['readonly'] = value;\\n    } catch(err) {\\n      console.log(err)\\n    }\\n    \",\"tags\":[[2336885528688,[null,\"readonly\"],[null,\"disabled\"]]]},\"id\":\"1248\",\"type\":\"CustomJS\"},{\"attributes\":{\"children\":[{\"id\":\"1209\"},{\"id\":\"1216\"},{\"id\":\"1217\"}],\"margin\":[5,10,20,10],\"name\":\"Column00106\",\"sizing_mode\":\"stretch_width\"},\"id\":\"1208\",\"type\":\"Column\"},{\"attributes\":{\"child\":{\"id\":\"1233\"},\"name\":\"Column00201\",\"title\":\"Interactive Files\"},\"id\":\"1236\",\"type\":\"Panel\"},{\"attributes\":{\"margin\":[0,0,0,0],\"options\":[\"hosted_app.ipynb\",\"incf_app.ipynb\",\"local_app.ipynb\"],\"size\":10,\"sizing_mode\":\"stretch_both\"},\"id\":\"1221\",\"type\":\"MultiSelect\"},{\"attributes\":{\"css_classes\":[\"markdown\"],\"margin\":[5,5,5,5],\"name\":\"Markdown00196\",\"sizing_mode\":\"stretch_width\",\"text\":\"&lt;h3&gt;Welcome!&lt;/h3&gt;\\n&lt;p&gt;This is a placeholder for the uploaded &amp;amp; transformed files. Prior to downloading the processed files,\\nyou can rename, open, and visualize the results. Visualizations will be available in the tab under &amp;ldquo;Visualize Data&amp;rdquo;. There&amp;rsquo;s\\nextra space for new ideas. Of course, we can keep expanding them or even make them closeable.&lt;/p&gt;\\n&lt;hr&gt;\\n&lt;p&gt;For now, the editor below lets us change the names on the fly. You can click on any name below &amp;amp; make your changes.\\nI&amp;rsquo;m planning on showing the rendered/processed file structure in a tree structure. For example, if there are TSV files, we can\\nstore them in an allocated folder:&lt;/p&gt;\\n&lt;div class=&quot;codehilite&quot;&gt;&lt;pre&gt;&lt;span&gt;&lt;/span&gt;&lt;code&gt;tsv/\\n    example1.tsv\\n    example2.tsv\\njson/\\n    example1.json\\n    example2.json\\n&lt;/code&gt;&lt;/pre&gt;&lt;/div&gt;\"},\"id\":\"1244\",\"type\":\"panel.models.markup.HTML\"},{\"attributes\":{\"child\":{\"id\":\"1237\"},\"name\":\"Column00202\",\"title\":\"Visualize Data\"},\"id\":\"1240\",\"type\":\"Panel\"},{\"attributes\":{\"disabled\":true,\"icon\":null,\"label\":\"\\u2b07\",\"margin\":[5,10,0,0],\"sizing_mode\":\"stretch_width\",\"subscribed_events\":[\"button_click\"],\"width\":25},\"id\":\"1214\",\"type\":\"Button\"},{\"attributes\":{\"child\":{\"id\":\"1241\"},\"name\":\"\",\"title\":\"Update Code\"},\"id\":\"1242\",\"type\":\"Panel\"},{\"attributes\":{\"children\":[{\"id\":\"1223\"},{\"id\":\"1224\"},{\"id\":\"1227\"}],\"margin\":[0,0,0,0],\"name\":\"Column00121\",\"sizing_mode\":\"stretch_width\"},\"id\":\"1222\",\"type\":\"Column\"},{\"attributes\":{\"disabled\":true,\"margin\":[0,0,0,0],\"max_length\":5000,\"placeholder\":\"To select an item highlight it on the left and use the arrow button to move it to the right.\",\"sizing_mode\":\"stretch_both\"},\"id\":\"1231\",\"type\":\"TextAreaInput\"},{\"attributes\":{\"args\":{\"bidirectional\":true,\"properties\":{\"readonly\":\"disabled\"},\"source\":{\"id\":\"1241\"},\"target\":{\"id\":\"1241\"}},\"code\":\"\\n    var value = source['readonly'];\\n    value = value;\\n    value = value;\\n    try {\\n      var property = target.properties['disabled'];\\n      if (property !== undefined) { property.validate(value); }\\n    } catch(err) {\\n      console.log('WARNING: Could not set disabled on target, raised error: ' + err);\\n      return;\\n    }\\n    try {\\n      target['disabled'] = value;\\n    } catch(err) {\\n      console.log(err)\\n    }\\n    \",\"tags\":[[2336885528688,[null,\"readonly\"],[null,\"disabled\"]]]},\"id\":\"1247\",\"type\":\"CustomJS\"},{\"attributes\":{\"data\":{\"name\":\"filename\",\"name2\":\"filename\",\"name3\":\"filename\"},\"margin\":[10,50,10,50],\"name\":\"\",\"schema\":{\"properties\":{\"name\":{\"description\":\"filename\",\"type\":\"string\"},\"name2\":{\"description\":\"filename\",\"type\":\"string\"},\"name3\":{\"description\":\"filename\",\"type\":\"string\"}},\"title\":\"Files structure\",\"type\":\"object\"},\"sizing_mode\":\"stretch_width\"},\"id\":\"1239\",\"type\":\"panel.models.json_editor.JSONEditor\"},{\"attributes\":{\"children\":[{\"id\":\"1219\"},{\"id\":\"1220\"},{\"id\":\"1221\"}],\"margin\":[0,0,0,0],\"name\":\"Column00116\",\"sizing_mode\":\"stretch_both\"},\"id\":\"1218\",\"type\":\"Column\"},{\"attributes\":{\"children\":[{\"id\":\"1229\"},{\"id\":\"1230\"},{\"id\":\"1231\"}],\"margin\":[0,0,0,0],\"name\":\"Column00117\",\"sizing_mode\":\"stretch_both\"},\"id\":\"1228\",\"type\":\"Column\"},{\"attributes\":{\"client_comm_id\":\"8a0dc56d20d843ef8405ef8dd37c8ff9\",\"comm_id\":\"8d492150a45b4f4282d2730d8a6503e8\",\"plot_id\":\"1205\"},\"id\":\"1249\",\"type\":\"panel.models.comm_manager.CommManager\"},{\"attributes\":{\"icon\":null,\"label\":\"<<\",\"margin\":[5,10,5,10],\"sizing_mode\":\"stretch_width\",\"subscribed_events\":[\"button_click\"],\"width\":50},\"id\":\"1226\",\"type\":\"Button\"},{\"attributes\":{\"child\":{\"id\":\"1243\"},\"name\":\"Column00203\",\"title\":\"Extra Space\"},\"id\":\"1246\",\"type\":\"Panel\"},{\"attributes\":{\"disabled\":true,\"icon\":null,\"label\":\"\\u25b6\",\"margin\":[5,10,5,10],\"sizing_mode\":\"stretch_width\",\"subscribed_events\":[\"button_click\"],\"width\":25},\"id\":\"1211\",\"type\":\"Button\"},{\"attributes\":{\"child\":{\"id\":\"1206\"},\"name\":\"Column00193\",\"title\":\"File Selection\"},\"id\":\"1232\",\"type\":\"Panel\"},{\"attributes\":{\"margin\":[5,5,5,5],\"name\":\"VSpacer00120\",\"sizing_mode\":\"stretch_height\"},\"id\":\"1227\",\"type\":\"Spacer\"},{\"attributes\":{\"icon\":null,\"label\":\">>\",\"margin\":[5,10,5,10],\"sizing_mode\":\"stretch_width\",\"subscribed_events\":[\"button_click\"],\"width\":50},\"id\":\"1225\",\"type\":\"Button\"},{\"attributes\":{\"children\":[{\"id\":\"1225\"},{\"id\":\"1226\"}],\"margin\":[0,5,0,5],\"name\":\"Column00118\",\"sizing_mode\":\"stretch_width\"},\"id\":\"1224\",\"type\":\"Column\"},{\"attributes\":{\"children\":[{\"id\":\"1234\"},{\"id\":\"1235\"}],\"margin\":[0,0,0,0],\"name\":\"Column00201\",\"sizing_mode\":\"stretch_width\"},\"id\":\"1233\",\"type\":\"Column\"},{\"attributes\":{\"children\":[{\"id\":\"1238\"},{\"id\":\"1239\"}],\"margin\":[0,0,0,0],\"name\":\"Column00202\",\"sizing_mode\":\"stretch_width\"},\"id\":\"1237\",\"type\":\"Column\"},{\"attributes\":{\"css_classes\":[\"markdown\"],\"margin\":[0,0,0,0],\"name\":\"Markdown00132\",\"sizing_mode\":\"stretch_width\",\"text\":\"&lt;h3&gt;File Browser&lt;/h3&gt;\"},\"id\":\"1219\",\"type\":\"panel.models.markup.HTML\"},{\"attributes\":{\"children\":[{\"id\":\"1218\"},{\"id\":\"1222\"},{\"id\":\"1228\"}],\"margin\":[0,0,0,0],\"name\":\"Row00108\",\"sizing_mode\":\"stretch_both\",\"width\":600},\"id\":\"1217\",\"type\":\"Row\"}],\"root_ids\":[\"1205\",\"1249\"]},\"title\":\"Bokeh Application\",\"version\":\"2.4.3\"}};\n",
       "    var render_items = [{\"docid\":\"e046a1ae-2c59-4af9-8b6b-53f697653d4a\",\"root_ids\":[\"1205\"],\"roots\":{\"1205\":\"53e5a87e-5a69-4a7e-bd25-8cd40f0f5824\"}}];\n",
       "    root.Bokeh.embed.embed_items_notebook(docs_json, render_items);\n",
       "  }\n",
       "  if (root.Bokeh !== undefined && root.Bokeh.Panel !== undefined && ( root['vega'] !== undefined)) {\n",
       "    embed_document(root);\n",
       "  } else {\n",
       "    var attempts = 0;\n",
       "    var timer = setInterval(function(root) {\n",
       "      if (root.Bokeh !== undefined && root.Bokeh.Panel !== undefined && (root['vega'] !== undefined)) {\n",
       "        clearInterval(timer);\n",
       "        embed_document(root);\n",
       "      } else if (document.readyState == \"complete\") {\n",
       "        attempts++;\n",
       "        if (attempts > 200) {\n",
       "          clearInterval(timer);\n",
       "          console.log(\"Bokeh: ERROR: Unable to run BokehJS code because BokehJS library is missing\");\n",
       "        }\n",
       "      }\n",
       "    }, 25, root)\n",
       "  }\n",
       "})(window);</script>"
      ],
      "text/plain": [
       "Tabs(sizing_mode='stretch_width')\n",
       "    [0] Column(sizing_mode='stretch_width')\n",
       "        [0] Markdown(str, sizing_mode='stretch_width')\n",
       "        [1] FileSelector(sizing_mode='stretch_width')\n",
       "    [1] Column(sizing_mode='stretch_width')\n",
       "        [0] Markdown(str, sizing_mode='stretch_width')\n",
       "        [1] JSONEditor(margin=(10, 50, 10, 50), schema={'title': 'Files structure...}, sizing_mode='stretch_width', value={'name': 'filename', ...})\n",
       "    [2] Column(sizing_mode='stretch_width')\n",
       "        [0] Markdown(str, sizing_mode='stretch_width')\n",
       "        [1] JSONEditor(margin=(10, 50, 10, 50), schema={'title': 'Files structure...}, sizing_mode='stretch_width', value={'name': 'filename', ...})\n",
       "    [3] Ace(disabled=True, height=200, language='python', readonly=True, sizing_mode='fixed', theme='monokai', value='slider = pn.widgets.IntSl..., width=800)\n",
       "    [4] Column(sizing_mode='stretch_width')\n",
       "        [0] Markdown(str, sizing_mode='stretch_width')\n",
       "        [1] JSONEditor(margin=(10, 50, 10, 50), schema={'title': 'Files structure...}, sizing_mode='stretch_width', value={'name': 'filename', ...})"
      ]
     },
     "execution_count": 12,
     "metadata": {
      "application/vnd.holoviews_exec.v0+json": {
       "id": "1205"
      }
     },
     "output_type": "execute_result"
    }
   ],
   "source": [
    "main = pn.Tabs(\n",
    "    ('File Selection', main_area),\n",
    "    ('Interactive Files', pn.Column(markdown, json_editor)),\n",
    "    ('Visualize Data',    pn.Column(markdown, json_editor)),\n",
    "    ('Update Code',       ace),\n",
    "    ('Extra Space',       pn.Column(markdown, json_editor))\n",
    ")\n",
    "\n",
    "main"
   ]
  },
  {
   "cell_type": "code",
   "execution_count": 13,
   "id": "175311cd",
   "metadata": {},
   "outputs": [],
   "source": [
    "panel = pn.template.FastListTemplate(\n",
    "    title='Store | Validate | Visualize | Download',\n",
    "    site='INCF',\n",
    "    sidebar=sidebar,\n",
    "    sidebar_width=300,\n",
    "    main=main\n",
    ")\n",
    "\n",
    "# pn.serve(panel)"
   ]
  },
  {
   "cell_type": "code",
   "execution_count": null,
   "id": "6df554bd",
   "metadata": {},
   "outputs": [],
   "source": []
  },
  {
   "cell_type": "code",
   "execution_count": null,
   "id": "5c7f593e",
   "metadata": {},
   "outputs": [],
   "source": []
  },
  {
   "cell_type": "markdown",
   "id": "1b2ffe15",
   "metadata": {},
   "source": [
    "### Final version"
   ]
  },
  {
   "cell_type": "code",
   "execution_count": 14,
   "id": "99ace3aa",
   "metadata": {},
   "outputs": [
    {
     "data": {},
     "metadata": {},
     "output_type": "display_data"
    },
    {
     "data": {
      "application/vnd.holoviews_exec.v0+json": "",
      "text/html": [
       "<div id='1250'>\n",
       "  <div class=\"bk-root\" id=\"c212d7a6-edcc-402d-9b2e-5276ffc47b64\" data-root-id=\"1250\"></div>\n",
       "</div>\n",
       "<script type=\"application/javascript\">(function(root) {\n",
       "  function embed_document(root) {\n",
       "    var docs_json = {\"d683b8d5-c00c-4965-be1a-6f5f5565b0d9\":{\"defs\":[{\"extends\":null,\"module\":null,\"name\":\"ReactiveHTML1\",\"overrides\":[],\"properties\":[]},{\"extends\":null,\"module\":null,\"name\":\"FlexBox1\",\"overrides\":[],\"properties\":[{\"default\":\"flex-start\",\"kind\":null,\"name\":\"align_content\"},{\"default\":\"flex-start\",\"kind\":null,\"name\":\"align_items\"},{\"default\":\"row\",\"kind\":null,\"name\":\"flex_direction\"},{\"default\":\"wrap\",\"kind\":null,\"name\":\"flex_wrap\"},{\"default\":\"flex-start\",\"kind\":null,\"name\":\"justify_content\"}]},{\"extends\":null,\"module\":null,\"name\":\"GridStack1\",\"overrides\":[],\"properties\":[{\"default\":\"warn\",\"kind\":null,\"name\":\"mode\"},{\"default\":null,\"kind\":null,\"name\":\"ncols\"},{\"default\":null,\"kind\":null,\"name\":\"nrows\"},{\"default\":true,\"kind\":null,\"name\":\"allow_resize\"},{\"default\":true,\"kind\":null,\"name\":\"allow_drag\"},{\"default\":[],\"kind\":null,\"name\":\"state\"}]},{\"extends\":null,\"module\":null,\"name\":\"click1\",\"overrides\":[],\"properties\":[{\"default\":\"\",\"kind\":null,\"name\":\"terminal_output\"},{\"default\":\"\",\"kind\":null,\"name\":\"debug_name\"},{\"default\":0,\"kind\":null,\"name\":\"clears\"}]},{\"extends\":null,\"module\":null,\"name\":\"NotificationAreaBase1\",\"overrides\":[],\"properties\":[{\"default\":\"bottom-right\",\"kind\":null,\"name\":\"position\"},{\"default\":0,\"kind\":null,\"name\":\"_clear\"}]},{\"extends\":null,\"module\":null,\"name\":\"NotificationArea1\",\"overrides\":[],\"properties\":[{\"default\":[],\"kind\":null,\"name\":\"notifications\"},{\"default\":\"bottom-right\",\"kind\":null,\"name\":\"position\"},{\"default\":0,\"kind\":null,\"name\":\"_clear\"},{\"default\":[{\"background\":\"#ffc107\",\"icon\":{\"className\":\"fas fa-exclamation-triangle\",\"color\":\"white\",\"tagName\":\"i\"},\"type\":\"warning\"},{\"background\":\"#007bff\",\"icon\":{\"className\":\"fas fa-info-circle\",\"color\":\"white\",\"tagName\":\"i\"},\"type\":\"info\"}],\"kind\":null,\"name\":\"types\"}]},{\"extends\":null,\"module\":null,\"name\":\"Notification\",\"overrides\":[],\"properties\":[{\"default\":null,\"kind\":null,\"name\":\"background\"},{\"default\":3000,\"kind\":null,\"name\":\"duration\"},{\"default\":null,\"kind\":null,\"name\":\"icon\"},{\"default\":\"\",\"kind\":null,\"name\":\"message\"},{\"default\":null,\"kind\":null,\"name\":\"notification_type\"},{\"default\":false,\"kind\":null,\"name\":\"_destroyed\"}]},{\"extends\":null,\"module\":null,\"name\":\"TemplateActions1\",\"overrides\":[],\"properties\":[{\"default\":0,\"kind\":null,\"name\":\"open_modal\"},{\"default\":0,\"kind\":null,\"name\":\"close_modal\"}]},{\"extends\":null,\"module\":null,\"name\":\"MaterialTemplateActions1\",\"overrides\":[],\"properties\":[{\"default\":0,\"kind\":null,\"name\":\"open_modal\"},{\"default\":0,\"kind\":null,\"name\":\"close_modal\"}]}],\"roots\":{\"references\":[{\"attributes\":{\"margin\":[5,10,5,10],\"max_length\":5000,\"sizing_mode\":\"stretch_width\",\"value\":\"C:\\\\Users\\\\dinar\\\\Desktop\\\\gsoc\\\\app_templates\",\"width_policy\":\"max\"},\"id\":\"1255\",\"type\":\"TextInput\"},{\"attributes\":{\"css_classes\":[\"markdown\"],\"margin\":[0,0,0,0],\"name\":\"Markdown00260\",\"sizing_mode\":\"stretch_width\",\"text\":\"&lt;h3&gt;File Browser&lt;/h3&gt;\"},\"id\":\"1261\",\"type\":\"panel.models.markup.HTML\"},{\"attributes\":{\"margin\":[0,0,10,0],\"max_length\":5000,\"placeholder\":\"Filter selected options\",\"sizing_mode\":\"stretch_width\",\"width_policy\":\"max\"},\"id\":\"1272\",\"type\":\"TextInput\"},{\"attributes\":{\"icon\":null,\"label\":\">>\",\"margin\":[5,10,5,10],\"sizing_mode\":\"stretch_width\",\"subscribed_events\":[\"button_click\"],\"width\":50},\"id\":\"1267\",\"type\":\"Button\"},{\"attributes\":{\"icon\":null,\"label\":\"\\u21bb\",\"margin\":[5,15,0,10],\"sizing_mode\":\"stretch_width\",\"subscribed_events\":[\"button_click\"],\"width\":25},\"id\":\"1257\",\"type\":\"Button\"},{\"attributes\":{\"icon\":null,\"label\":\"<<\",\"margin\":[5,10,5,10],\"sizing_mode\":\"stretch_width\",\"subscribed_events\":[\"button_click\"],\"width\":50},\"id\":\"1268\",\"type\":\"Button\"},{\"attributes\":{\"margin\":[0,0,10,0],\"max_length\":5000,\"placeholder\":\"Filter available options\",\"sizing_mode\":\"stretch_width\",\"width_policy\":\"max\"},\"id\":\"1262\",\"type\":\"TextInput\"},{\"attributes\":{\"children\":[{\"id\":\"1267\"},{\"id\":\"1268\"}],\"margin\":[0,5,0,5],\"name\":\"Column00246\",\"sizing_mode\":\"stretch_width\"},\"id\":\"1266\",\"type\":\"Column\"},{\"attributes\":{\"margin\":[5,5,5,5],\"name\":\"VSpacer00247\",\"sizing_mode\":\"stretch_height\"},\"id\":\"1265\",\"type\":\"Spacer\"},{\"attributes\":{\"children\":[{\"id\":\"1260\"},{\"id\":\"1264\"},{\"id\":\"1270\"}],\"margin\":[0,0,0,0],\"name\":\"Row00236\",\"sizing_mode\":\"stretch_both\",\"width\":600},\"id\":\"1259\",\"type\":\"Row\"},{\"attributes\":{\"children\":[{\"id\":\"1265\"},{\"id\":\"1266\"},{\"id\":\"1269\"}],\"margin\":[0,0,0,0],\"name\":\"Column00249\",\"sizing_mode\":\"stretch_width\"},\"id\":\"1264\",\"type\":\"Column\"},{\"attributes\":{\"children\":[{\"id\":\"1251\"},{\"id\":\"1258\"},{\"id\":\"1259\"}],\"margin\":[5,10,20,10],\"name\":\"Column00234\",\"sizing_mode\":\"stretch_width\"},\"id\":\"1250\",\"type\":\"Column\"},{\"attributes\":{\"margin\":[0,0,0,0],\"name\":\"Divider00257\",\"sizing_mode\":\"stretch_width\",\"style\":{\"height\":\"100%\",\"width\":\"100%\"},\"text\":\"<hr style=\\\"margin: 0px\\\">\",\"width_policy\":\"fit\"},\"id\":\"1258\",\"type\":\"Div\"},{\"attributes\":{\"children\":[{\"id\":\"1261\"},{\"id\":\"1262\"},{\"id\":\"1263\"}],\"margin\":[0,0,0,0],\"name\":\"Column00244\",\"sizing_mode\":\"stretch_both\"},\"id\":\"1260\",\"type\":\"Column\"},{\"attributes\":{\"margin\":[0,0,0,0],\"options\":[\"hosted_app.ipynb\",\"incf_app.ipynb\",\"local_app.ipynb\"],\"size\":10,\"sizing_mode\":\"stretch_both\"},\"id\":\"1263\",\"type\":\"MultiSelect\"},{\"attributes\":{\"children\":[{\"id\":\"1252\"},{\"id\":\"1253\"},{\"id\":\"1254\"},{\"id\":\"1255\"},{\"id\":\"1256\"},{\"id\":\"1257\"}],\"margin\":[0,0,0,0],\"name\":\"Row00256\",\"sizing_mode\":\"stretch_width\",\"width_policy\":\"max\"},\"id\":\"1251\",\"type\":\"Row\"},{\"attributes\":{\"disabled\":true,\"margin\":[0,0,0,0],\"max_length\":5000,\"placeholder\":\"To select an item highlight it on the left and use the arrow button to move it to the right.\",\"sizing_mode\":\"stretch_both\"},\"id\":\"1273\",\"type\":\"TextAreaInput\"},{\"attributes\":{\"children\":[{\"id\":\"1271\"},{\"id\":\"1272\"},{\"id\":\"1273\"}],\"margin\":[0,0,0,0],\"name\":\"Column00245\",\"sizing_mode\":\"stretch_both\"},\"id\":\"1270\",\"type\":\"Column\"},{\"attributes\":{\"disabled\":true,\"icon\":null,\"label\":\"\\u25c0\",\"margin\":[5,10,0,0],\"sizing_mode\":\"stretch_width\",\"subscribed_events\":[\"button_click\"],\"width\":25},\"id\":\"1252\",\"type\":\"Button\"},{\"attributes\":{\"css_classes\":[\"markdown\"],\"margin\":[0,0,0,0],\"name\":\"Markdown00258\",\"sizing_mode\":\"stretch_width\",\"text\":\"&lt;h3&gt;Selected files&lt;/h3&gt;\"},\"id\":\"1271\",\"type\":\"panel.models.markup.HTML\"},{\"attributes\":{\"margin\":[5,5,5,5],\"name\":\"VSpacer00248\",\"sizing_mode\":\"stretch_height\"},\"id\":\"1269\",\"type\":\"Spacer\"},{\"attributes\":{\"disabled\":true,\"icon\":null,\"label\":\"\\u25b6\",\"margin\":[5,10,5,10],\"sizing_mode\":\"stretch_width\",\"subscribed_events\":[\"button_click\"],\"width\":25},\"id\":\"1253\",\"type\":\"Button\"},{\"attributes\":{\"client_comm_id\":\"40ed0ad5a1874d84bb3dea63a2c705bf\",\"comm_id\":\"e56c2de8186b4836b16ddc5c9c005c41\",\"plot_id\":\"1250\"},\"id\":\"1274\",\"type\":\"panel.models.comm_manager.CommManager\"},{\"attributes\":{\"disabled\":true,\"icon\":null,\"label\":\"\\u2b06\",\"margin\":[5,10,5,10],\"sizing_mode\":\"stretch_width\",\"subscribed_events\":[\"button_click\"],\"width\":25},\"id\":\"1254\",\"type\":\"Button\"},{\"attributes\":{\"disabled\":true,\"icon\":null,\"label\":\"\\u2b07\",\"margin\":[5,10,0,0],\"sizing_mode\":\"stretch_width\",\"subscribed_events\":[\"button_click\"],\"width\":25},\"id\":\"1256\",\"type\":\"Button\"}],\"root_ids\":[\"1250\",\"1274\"]},\"title\":\"Bokeh Application\",\"version\":\"2.4.3\"}};\n",
       "    var render_items = [{\"docid\":\"d683b8d5-c00c-4965-be1a-6f5f5565b0d9\",\"root_ids\":[\"1250\"],\"roots\":{\"1250\":\"c212d7a6-edcc-402d-9b2e-5276ffc47b64\"}}];\n",
       "    root.Bokeh.embed.embed_items_notebook(docs_json, render_items);\n",
       "  }\n",
       "  if (root.Bokeh !== undefined && root.Bokeh.Panel !== undefined && ( root['vega'] !== undefined)) {\n",
       "    embed_document(root);\n",
       "  } else {\n",
       "    var attempts = 0;\n",
       "    var timer = setInterval(function(root) {\n",
       "      if (root.Bokeh !== undefined && root.Bokeh.Panel !== undefined && (root['vega'] !== undefined)) {\n",
       "        clearInterval(timer);\n",
       "        embed_document(root);\n",
       "      } else if (document.readyState == \"complete\") {\n",
       "        attempts++;\n",
       "        if (attempts > 200) {\n",
       "          clearInterval(timer);\n",
       "          console.log(\"Bokeh: ERROR: Unable to run BokehJS code because BokehJS library is missing\");\n",
       "        }\n",
       "      }\n",
       "    }, 25, root)\n",
       "  }\n",
       "})(window);</script>"
      ],
      "text/plain": [
       "FileSelector(sizing_mode='stretch_width')"
      ]
     },
     "execution_count": 14,
     "metadata": {
      "application/vnd.holoviews_exec.v0+json": {
       "id": "1250"
      }
     },
     "output_type": "execute_result"
    }
   ],
   "source": [
    "change_path = pn.widgets.FileSelector(path)\n",
    "change_path"
   ]
  },
  {
   "cell_type": "code",
   "execution_count": 15,
   "id": "6c7bbe7e",
   "metadata": {},
   "outputs": [
    {
     "data": {},
     "metadata": {},
     "output_type": "display_data"
    },
    {
     "data": {
      "application/vnd.holoviews_exec.v0+json": "",
      "text/html": [
       "<div id='1275'>\n",
       "  <div class=\"bk-root\" id=\"4530dbdc-49b0-4926-b163-69118449786b\" data-root-id=\"1275\"></div>\n",
       "</div>\n",
       "<script type=\"application/javascript\">(function(root) {\n",
       "  function embed_document(root) {\n",
       "    var docs_json = {\"1797ad4c-c9f9-4499-bc09-ce417b5d932a\":{\"defs\":[{\"extends\":null,\"module\":null,\"name\":\"ReactiveHTML1\",\"overrides\":[],\"properties\":[]},{\"extends\":null,\"module\":null,\"name\":\"FlexBox1\",\"overrides\":[],\"properties\":[{\"default\":\"flex-start\",\"kind\":null,\"name\":\"align_content\"},{\"default\":\"flex-start\",\"kind\":null,\"name\":\"align_items\"},{\"default\":\"row\",\"kind\":null,\"name\":\"flex_direction\"},{\"default\":\"wrap\",\"kind\":null,\"name\":\"flex_wrap\"},{\"default\":\"flex-start\",\"kind\":null,\"name\":\"justify_content\"}]},{\"extends\":null,\"module\":null,\"name\":\"GridStack1\",\"overrides\":[],\"properties\":[{\"default\":\"warn\",\"kind\":null,\"name\":\"mode\"},{\"default\":null,\"kind\":null,\"name\":\"ncols\"},{\"default\":null,\"kind\":null,\"name\":\"nrows\"},{\"default\":true,\"kind\":null,\"name\":\"allow_resize\"},{\"default\":true,\"kind\":null,\"name\":\"allow_drag\"},{\"default\":[],\"kind\":null,\"name\":\"state\"}]},{\"extends\":null,\"module\":null,\"name\":\"click1\",\"overrides\":[],\"properties\":[{\"default\":\"\",\"kind\":null,\"name\":\"terminal_output\"},{\"default\":\"\",\"kind\":null,\"name\":\"debug_name\"},{\"default\":0,\"kind\":null,\"name\":\"clears\"}]},{\"extends\":null,\"module\":null,\"name\":\"NotificationAreaBase1\",\"overrides\":[],\"properties\":[{\"default\":\"bottom-right\",\"kind\":null,\"name\":\"position\"},{\"default\":0,\"kind\":null,\"name\":\"_clear\"}]},{\"extends\":null,\"module\":null,\"name\":\"NotificationArea1\",\"overrides\":[],\"properties\":[{\"default\":[],\"kind\":null,\"name\":\"notifications\"},{\"default\":\"bottom-right\",\"kind\":null,\"name\":\"position\"},{\"default\":0,\"kind\":null,\"name\":\"_clear\"},{\"default\":[{\"background\":\"#ffc107\",\"icon\":{\"className\":\"fas fa-exclamation-triangle\",\"color\":\"white\",\"tagName\":\"i\"},\"type\":\"warning\"},{\"background\":\"#007bff\",\"icon\":{\"className\":\"fas fa-info-circle\",\"color\":\"white\",\"tagName\":\"i\"},\"type\":\"info\"}],\"kind\":null,\"name\":\"types\"}]},{\"extends\":null,\"module\":null,\"name\":\"Notification\",\"overrides\":[],\"properties\":[{\"default\":null,\"kind\":null,\"name\":\"background\"},{\"default\":3000,\"kind\":null,\"name\":\"duration\"},{\"default\":null,\"kind\":null,\"name\":\"icon\"},{\"default\":\"\",\"kind\":null,\"name\":\"message\"},{\"default\":null,\"kind\":null,\"name\":\"notification_type\"},{\"default\":false,\"kind\":null,\"name\":\"_destroyed\"}]},{\"extends\":null,\"module\":null,\"name\":\"TemplateActions1\",\"overrides\":[],\"properties\":[{\"default\":0,\"kind\":null,\"name\":\"open_modal\"},{\"default\":0,\"kind\":null,\"name\":\"close_modal\"}]},{\"extends\":null,\"module\":null,\"name\":\"MaterialTemplateActions1\",\"overrides\":[],\"properties\":[{\"default\":0,\"kind\":null,\"name\":\"open_modal\"},{\"default\":0,\"kind\":null,\"name\":\"close_modal\"}]}],\"roots\":{\"references\":[{\"attributes\":{\"disabled\":true,\"margin\":[0,0,0,0],\"max_length\":5000,\"placeholder\":\"To select an item highlight it on the left and use the arrow button to move it to the right.\",\"sizing_mode\":\"stretch_both\"},\"id\":\"1300\",\"type\":\"TextAreaInput\"},{\"attributes\":{\"margin\":[5,5,5,5],\"name\":\"VSpacer00247\",\"sizing_mode\":\"stretch_height\"},\"id\":\"1292\",\"type\":\"Spacer\"},{\"attributes\":{\"children\":[{\"id\":\"1292\"},{\"id\":\"1293\"},{\"id\":\"1296\"}],\"margin\":[0,0,0,0],\"name\":\"Column00249\",\"sizing_mode\":\"stretch_width\"},\"id\":\"1291\",\"type\":\"Column\"},{\"attributes\":{\"client_comm_id\":\"4c438d19f4984e9e82fa1185d094d110\",\"comm_id\":\"a8a7522fc7d3424fb5190c77334e6598\",\"plot_id\":\"1275\"},\"id\":\"1301\",\"type\":\"panel.models.comm_manager.CommManager\"},{\"attributes\":{\"margin\":[0,0,0,0],\"name\":\"Divider00257\",\"sizing_mode\":\"stretch_width\",\"style\":{\"height\":\"100%\",\"width\":\"100%\"},\"text\":\"<hr style=\\\"margin: 0px\\\">\",\"width_policy\":\"fit\"},\"id\":\"1285\",\"type\":\"Div\"},{\"attributes\":{\"disabled\":true,\"icon\":null,\"label\":\"\\u25c0\",\"margin\":[5,10,0,0],\"sizing_mode\":\"stretch_width\",\"subscribed_events\":[\"button_click\"],\"width\":25},\"id\":\"1279\",\"type\":\"Button\"},{\"attributes\":{\"icon\":null,\"label\":\"\\u21bb\",\"margin\":[5,15,0,10],\"sizing_mode\":\"stretch_width\",\"subscribed_events\":[\"button_click\"],\"width\":25},\"id\":\"1284\",\"type\":\"Button\"},{\"attributes\":{\"children\":[{\"id\":\"1276\"},{\"id\":\"1277\"}],\"margin\":[0,0,0,0],\"name\":\"Column00267\",\"sizing_mode\":\"stretch_width\"},\"id\":\"1275\",\"type\":\"Column\"},{\"attributes\":{\"margin\":[5,5,5,5],\"name\":\"VSpacer00248\",\"sizing_mode\":\"stretch_height\"},\"id\":\"1296\",\"type\":\"Spacer\"},{\"attributes\":{\"children\":[{\"id\":\"1298\"},{\"id\":\"1299\"},{\"id\":\"1300\"}],\"margin\":[0,0,0,0],\"name\":\"Column00245\",\"sizing_mode\":\"stretch_both\"},\"id\":\"1297\",\"type\":\"Column\"},{\"attributes\":{\"margin\":[5,10,5,10],\"max_length\":5000,\"sizing_mode\":\"stretch_width\",\"value\":\"C:\\\\Users\\\\dinar\\\\Desktop\\\\gsoc\\\\app_templates\",\"width_policy\":\"max\"},\"id\":\"1282\",\"type\":\"TextInput\"},{\"attributes\":{\"disabled\":true,\"icon\":null,\"label\":\"\\u2b07\",\"margin\":[5,10,0,0],\"sizing_mode\":\"stretch_width\",\"subscribed_events\":[\"button_click\"],\"width\":25},\"id\":\"1283\",\"type\":\"Button\"},{\"attributes\":{\"disabled\":true,\"icon\":null,\"label\":\"\\u2b06\",\"margin\":[5,10,5,10],\"sizing_mode\":\"stretch_width\",\"subscribed_events\":[\"button_click\"],\"width\":25},\"id\":\"1281\",\"type\":\"Button\"},{\"attributes\":{\"disabled\":true,\"icon\":null,\"label\":\"\\u25b6\",\"margin\":[5,10,5,10],\"sizing_mode\":\"stretch_width\",\"subscribed_events\":[\"button_click\"],\"width\":25},\"id\":\"1280\",\"type\":\"Button\"},{\"attributes\":{\"css_classes\":[\"markdown\"],\"margin\":[5,5,5,5],\"name\":\"Markdown00265\",\"sizing_mode\":\"stretch_width\",\"text\":\"&lt;h3&gt;Select the folder&lt;/h3&gt;\\n&lt;p&gt;We support .h5|.mat|.txt|.dcm|.eeg|.py|.img|.zip file extensions.&lt;/p&gt;\"},\"id\":\"1276\",\"type\":\"panel.models.markup.HTML\"},{\"attributes\":{\"css_classes\":[\"markdown\"],\"margin\":[0,0,0,0],\"name\":\"Markdown00260\",\"sizing_mode\":\"stretch_width\",\"text\":\"&lt;h3&gt;File Browser&lt;/h3&gt;\"},\"id\":\"1288\",\"type\":\"panel.models.markup.HTML\"},{\"attributes\":{\"css_classes\":[\"markdown\"],\"margin\":[0,0,0,0],\"name\":\"Markdown00258\",\"sizing_mode\":\"stretch_width\",\"text\":\"&lt;h3&gt;Selected files&lt;/h3&gt;\"},\"id\":\"1298\",\"type\":\"panel.models.markup.HTML\"},{\"attributes\":{\"children\":[{\"id\":\"1278\"},{\"id\":\"1285\"},{\"id\":\"1286\"}],\"margin\":[5,10,20,10],\"name\":\"Column00234\",\"sizing_mode\":\"stretch_width\"},\"id\":\"1277\",\"type\":\"Column\"},{\"attributes\":{\"margin\":[0,0,10,0],\"max_length\":5000,\"placeholder\":\"Filter selected options\",\"sizing_mode\":\"stretch_width\",\"width_policy\":\"max\"},\"id\":\"1299\",\"type\":\"TextInput\"},{\"attributes\":{\"children\":[{\"id\":\"1288\"},{\"id\":\"1289\"},{\"id\":\"1290\"}],\"margin\":[0,0,0,0],\"name\":\"Column00244\",\"sizing_mode\":\"stretch_both\"},\"id\":\"1287\",\"type\":\"Column\"},{\"attributes\":{\"children\":[{\"id\":\"1279\"},{\"id\":\"1280\"},{\"id\":\"1281\"},{\"id\":\"1282\"},{\"id\":\"1283\"},{\"id\":\"1284\"}],\"margin\":[0,0,0,0],\"name\":\"Row00256\",\"sizing_mode\":\"stretch_width\",\"width_policy\":\"max\"},\"id\":\"1278\",\"type\":\"Row\"},{\"attributes\":{\"margin\":[0,0,0,0],\"options\":[\"hosted_app.ipynb\",\"incf_app.ipynb\",\"local_app.ipynb\"],\"size\":10,\"sizing_mode\":\"stretch_both\"},\"id\":\"1290\",\"type\":\"MultiSelect\"},{\"attributes\":{\"children\":[{\"id\":\"1287\"},{\"id\":\"1291\"},{\"id\":\"1297\"}],\"margin\":[0,0,0,0],\"name\":\"Row00236\",\"sizing_mode\":\"stretch_both\",\"width\":600},\"id\":\"1286\",\"type\":\"Row\"},{\"attributes\":{\"children\":[{\"id\":\"1294\"},{\"id\":\"1295\"}],\"margin\":[0,5,0,5],\"name\":\"Column00246\",\"sizing_mode\":\"stretch_width\"},\"id\":\"1293\",\"type\":\"Column\"},{\"attributes\":{\"margin\":[0,0,10,0],\"max_length\":5000,\"placeholder\":\"Filter available options\",\"sizing_mode\":\"stretch_width\",\"width_policy\":\"max\"},\"id\":\"1289\",\"type\":\"TextInput\"},{\"attributes\":{\"icon\":null,\"label\":\">>\",\"margin\":[5,10,5,10],\"sizing_mode\":\"stretch_width\",\"subscribed_events\":[\"button_click\"],\"width\":50},\"id\":\"1294\",\"type\":\"Button\"},{\"attributes\":{\"icon\":null,\"label\":\"<<\",\"margin\":[5,10,5,10],\"sizing_mode\":\"stretch_width\",\"subscribed_events\":[\"button_click\"],\"width\":50},\"id\":\"1295\",\"type\":\"Button\"}],\"root_ids\":[\"1275\",\"1301\"]},\"title\":\"Bokeh Application\",\"version\":\"2.4.3\"}};\n",
       "    var render_items = [{\"docid\":\"1797ad4c-c9f9-4499-bc09-ce417b5d932a\",\"root_ids\":[\"1275\"],\"roots\":{\"1275\":\"4530dbdc-49b0-4926-b163-69118449786b\"}}];\n",
       "    root.Bokeh.embed.embed_items_notebook(docs_json, render_items);\n",
       "  }\n",
       "  if (root.Bokeh !== undefined && root.Bokeh.Panel !== undefined && ( root['vega'] !== undefined)) {\n",
       "    embed_document(root);\n",
       "  } else {\n",
       "    var attempts = 0;\n",
       "    var timer = setInterval(function(root) {\n",
       "      if (root.Bokeh !== undefined && root.Bokeh.Panel !== undefined && (root['vega'] !== undefined)) {\n",
       "        clearInterval(timer);\n",
       "        embed_document(root);\n",
       "      } else if (document.readyState == \"complete\") {\n",
       "        attempts++;\n",
       "        if (attempts > 200) {\n",
       "          clearInterval(timer);\n",
       "          console.log(\"Bokeh: ERROR: Unable to run BokehJS code because BokehJS library is missing\");\n",
       "        }\n",
       "      }\n",
       "    }, 25, root)\n",
       "  }\n",
       "})(window);</script>"
      ],
      "text/plain": [
       "Column(sizing_mode='stretch_width')\n",
       "    [0] Markdown(str, sizing_mode='stretch_width')\n",
       "    [1] FileSelector(sizing_mode='stretch_width')"
      ]
     },
     "execution_count": 15,
     "metadata": {
      "application/vnd.holoviews_exec.v0+json": {
       "id": "1275"
      }
     },
     "output_type": "execute_result"
    }
   ],
   "source": [
    "#\n",
    "file_selector = pn.pane.Markdown(\"\"\"\n",
    "### Select the folder\n",
    "We support .h5|.mat|.txt|.dcm|.eeg|.py|.img|.zip file extensions.\n",
    "\"\"\"\n",
    ")\n",
    "\n",
    "main_area = pn.Column(\n",
    "    file_selector,\n",
    "    change_path\n",
    ")\n",
    "\n",
    "main_area"
   ]
  },
  {
   "cell_type": "code",
   "execution_count": 16,
   "id": "a55cb6c9",
   "metadata": {},
   "outputs": [
    {
     "data": {},
     "metadata": {},
     "output_type": "display_data"
    },
    {
     "data": {
      "application/vnd.holoviews_exec.v0+json": "",
      "text/html": [
       "<div id='1302'>\n",
       "  <div class=\"bk-root\" id=\"ecf03212-5f3a-40f9-ae44-0f6268e16691\" data-root-id=\"1302\"></div>\n",
       "</div>\n",
       "<script type=\"application/javascript\">(function(root) {\n",
       "  function embed_document(root) {\n",
       "    var docs_json = {\"af8af98e-9d7c-41e1-879d-5ad75e47f05a\":{\"defs\":[{\"extends\":null,\"module\":null,\"name\":\"ReactiveHTML1\",\"overrides\":[],\"properties\":[]},{\"extends\":null,\"module\":null,\"name\":\"FlexBox1\",\"overrides\":[],\"properties\":[{\"default\":\"flex-start\",\"kind\":null,\"name\":\"align_content\"},{\"default\":\"flex-start\",\"kind\":null,\"name\":\"align_items\"},{\"default\":\"row\",\"kind\":null,\"name\":\"flex_direction\"},{\"default\":\"wrap\",\"kind\":null,\"name\":\"flex_wrap\"},{\"default\":\"flex-start\",\"kind\":null,\"name\":\"justify_content\"}]},{\"extends\":null,\"module\":null,\"name\":\"GridStack1\",\"overrides\":[],\"properties\":[{\"default\":\"warn\",\"kind\":null,\"name\":\"mode\"},{\"default\":null,\"kind\":null,\"name\":\"ncols\"},{\"default\":null,\"kind\":null,\"name\":\"nrows\"},{\"default\":true,\"kind\":null,\"name\":\"allow_resize\"},{\"default\":true,\"kind\":null,\"name\":\"allow_drag\"},{\"default\":[],\"kind\":null,\"name\":\"state\"}]},{\"extends\":null,\"module\":null,\"name\":\"click1\",\"overrides\":[],\"properties\":[{\"default\":\"\",\"kind\":null,\"name\":\"terminal_output\"},{\"default\":\"\",\"kind\":null,\"name\":\"debug_name\"},{\"default\":0,\"kind\":null,\"name\":\"clears\"}]},{\"extends\":null,\"module\":null,\"name\":\"NotificationAreaBase1\",\"overrides\":[],\"properties\":[{\"default\":\"bottom-right\",\"kind\":null,\"name\":\"position\"},{\"default\":0,\"kind\":null,\"name\":\"_clear\"}]},{\"extends\":null,\"module\":null,\"name\":\"NotificationArea1\",\"overrides\":[],\"properties\":[{\"default\":[],\"kind\":null,\"name\":\"notifications\"},{\"default\":\"bottom-right\",\"kind\":null,\"name\":\"position\"},{\"default\":0,\"kind\":null,\"name\":\"_clear\"},{\"default\":[{\"background\":\"#ffc107\",\"icon\":{\"className\":\"fas fa-exclamation-triangle\",\"color\":\"white\",\"tagName\":\"i\"},\"type\":\"warning\"},{\"background\":\"#007bff\",\"icon\":{\"className\":\"fas fa-info-circle\",\"color\":\"white\",\"tagName\":\"i\"},\"type\":\"info\"}],\"kind\":null,\"name\":\"types\"}]},{\"extends\":null,\"module\":null,\"name\":\"Notification\",\"overrides\":[],\"properties\":[{\"default\":null,\"kind\":null,\"name\":\"background\"},{\"default\":3000,\"kind\":null,\"name\":\"duration\"},{\"default\":null,\"kind\":null,\"name\":\"icon\"},{\"default\":\"\",\"kind\":null,\"name\":\"message\"},{\"default\":null,\"kind\":null,\"name\":\"notification_type\"},{\"default\":false,\"kind\":null,\"name\":\"_destroyed\"}]},{\"extends\":null,\"module\":null,\"name\":\"TemplateActions1\",\"overrides\":[],\"properties\":[{\"default\":0,\"kind\":null,\"name\":\"open_modal\"},{\"default\":0,\"kind\":null,\"name\":\"close_modal\"}]},{\"extends\":null,\"module\":null,\"name\":\"MaterialTemplateActions1\",\"overrides\":[],\"properties\":[{\"default\":0,\"kind\":null,\"name\":\"open_modal\"},{\"default\":0,\"kind\":null,\"name\":\"close_modal\"}]}],\"roots\":{\"references\":[{\"attributes\":{\"css_classes\":[\"markdown\"],\"margin\":[5,5,5,5],\"name\":\"Markdown00270\",\"sizing_mode\":\"stretch_width\",\"text\":\"&lt;h2&gt;Welcome!&lt;/h2&gt;\\n&lt;p&gt;Here you can select the folder(s) that you want to transform. Beware that we are using recursive walk to select all the content\\navailable in the specified folder. That means if the folder contains a sub-folder, we will transform the content if it falls\\ninto the accepted file formats.&lt;/p&gt;\\n&lt;p&gt;Below you will see the generated folder with content as specified at &lt;a href=&quot;https://docs.google.com/document/d/1NT1ERdL41oz3NibIFRyVQ2iR8xH-dKY-lRCB4eyVeRo/edit?usp=sharing&quot;&gt;BIDS Computational Model Specification&lt;/a&gt;.\\nIf you are happy with the results, press &lt;code&gt;Transform Files&lt;/code&gt; button at the bottom of the screen. We will not start generation\\nuntil you press the button below.&lt;/p&gt;\\n&lt;h3&gt;Select Folder(s)&lt;/h3&gt;\"},\"id\":\"1303\",\"type\":\"panel.models.markup.HTML\"},{\"attributes\":{\"disabled\":true,\"icon\":null,\"label\":\"\\u25c0\",\"margin\":[5,10,0,0],\"sizing_mode\":\"stretch_width\",\"subscribed_events\":[\"button_click\"],\"width\":25},\"id\":\"1306\",\"type\":\"Button\"},{\"attributes\":{\"children\":[{\"id\":\"1314\"},{\"id\":\"1318\"},{\"id\":\"1324\"}],\"margin\":[0,0,0,0],\"name\":\"Row00277\",\"sizing_mode\":\"stretch_both\",\"width\":600},\"id\":\"1313\",\"type\":\"Row\"},{\"attributes\":{\"margin\":[0,0,10,0],\"max_length\":5000,\"placeholder\":\"Filter available options\",\"sizing_mode\":\"stretch_width\",\"width_policy\":\"max\"},\"id\":\"1316\",\"type\":\"TextInput\"},{\"attributes\":{\"children\":[{\"id\":\"1306\"},{\"id\":\"1307\"},{\"id\":\"1308\"},{\"id\":\"1309\"},{\"id\":\"1310\"},{\"id\":\"1311\"}],\"margin\":[0,0,0,0],\"name\":\"Row00297\",\"sizing_mode\":\"stretch_width\",\"width_policy\":\"max\"},\"id\":\"1305\",\"type\":\"Row\"},{\"attributes\":{\"icon\":null,\"label\":\">>\",\"margin\":[5,10,5,10],\"sizing_mode\":\"stretch_width\",\"subscribed_events\":[\"button_click\"],\"width\":50},\"id\":\"1321\",\"type\":\"Button\"},{\"attributes\":{\"margin\":[0,0,0,0],\"name\":\"Divider00298\",\"sizing_mode\":\"stretch_width\",\"style\":{\"height\":\"100%\",\"width\":\"100%\"},\"text\":\"<hr style=\\\"margin: 0px\\\">\",\"width_policy\":\"fit\"},\"id\":\"1312\",\"type\":\"Div\"},{\"attributes\":{\"children\":[{\"id\":\"1305\"},{\"id\":\"1312\"},{\"id\":\"1313\"}],\"margin\":[5,10,20,10],\"name\":\"Column00275\",\"sizing_mode\":\"stretch_width\"},\"id\":\"1304\",\"type\":\"Column\"},{\"attributes\":{\"children\":[{\"id\":\"1315\"},{\"id\":\"1316\"},{\"id\":\"1317\"}],\"margin\":[0,0,0,0],\"name\":\"Column00285\",\"sizing_mode\":\"stretch_both\"},\"id\":\"1314\",\"type\":\"Column\"},{\"attributes\":{\"disabled\":true,\"icon\":null,\"label\":\"\\u2b07\",\"margin\":[5,10,0,0],\"sizing_mode\":\"stretch_width\",\"subscribed_events\":[\"button_click\"],\"width\":25},\"id\":\"1310\",\"type\":\"Button\"},{\"attributes\":{\"icon\":null,\"label\":\"<<\",\"margin\":[5,10,5,10],\"sizing_mode\":\"stretch_width\",\"subscribed_events\":[\"button_click\"],\"width\":50},\"id\":\"1322\",\"type\":\"Button\"},{\"attributes\":{\"margin\":[5,5,5,5],\"name\":\"VSpacer00289\",\"sizing_mode\":\"stretch_height\"},\"id\":\"1323\",\"type\":\"Spacer\"},{\"attributes\":{\"margin\":[5,5,5,5],\"name\":\"VSpacer00288\",\"sizing_mode\":\"stretch_height\"},\"id\":\"1319\",\"type\":\"Spacer\"},{\"attributes\":{\"margin\":[5,10,5,10],\"max_length\":5000,\"sizing_mode\":\"stretch_width\",\"value\":\"C:\\\\Users\\\\dinar\\\\Desktop\\\\gsoc\\\\app_templates\",\"width_policy\":\"max\"},\"id\":\"1309\",\"type\":\"TextInput\"},{\"attributes\":{\"children\":[{\"id\":\"1321\"},{\"id\":\"1322\"}],\"margin\":[0,5,0,5],\"name\":\"Column00287\",\"sizing_mode\":\"stretch_width\"},\"id\":\"1320\",\"type\":\"Column\"},{\"attributes\":{\"disabled\":true,\"icon\":null,\"label\":\"\\u25b6\",\"margin\":[5,10,5,10],\"sizing_mode\":\"stretch_width\",\"subscribed_events\":[\"button_click\"],\"width\":25},\"id\":\"1307\",\"type\":\"Button\"},{\"attributes\":{\"css_classes\":[\"markdown\"],\"margin\":[0,0,0,0],\"name\":\"Markdown00301\",\"sizing_mode\":\"stretch_width\",\"text\":\"&lt;h3&gt;File Browser&lt;/h3&gt;\"},\"id\":\"1315\",\"type\":\"panel.models.markup.HTML\"},{\"attributes\":{\"css_classes\":[\"markdown\"],\"margin\":[5,5,5,5],\"name\":\"Markdown00272\",\"sizing_mode\":\"stretch_width\",\"text\":\"&lt;h3&gt;Generated Folder&lt;/h3&gt;\\n&lt;div class=&quot;codehilite&quot;&gt;&lt;pre&gt;&lt;span&gt;&lt;/span&gt;&lt;code&gt;tsv/\\n    example1.tsv\\n    example2.tsv\\njson/\\n    example1.json\\n    example2.json\\n&lt;/code&gt;&lt;/pre&gt;&lt;/div&gt;\"},\"id\":\"1328\",\"type\":\"panel.models.markup.HTML\"},{\"attributes\":{\"css_classes\":[\"markdown\"],\"margin\":[0,0,0,0],\"name\":\"Markdown00299\",\"sizing_mode\":\"stretch_width\",\"text\":\"&lt;h3&gt;Selected files&lt;/h3&gt;\"},\"id\":\"1325\",\"type\":\"panel.models.markup.HTML\"},{\"attributes\":{\"button_type\":\"primary\",\"icon\":null,\"label\":\"Transform Files\",\"margin\":[5,10,5,10],\"sizing_mode\":\"stretch_width\",\"subscribed_events\":[\"button_click\"]},\"id\":\"1329\",\"type\":\"Button\"},{\"attributes\":{\"disabled\":true,\"icon\":null,\"label\":\"\\u2b06\",\"margin\":[5,10,5,10],\"sizing_mode\":\"stretch_width\",\"subscribed_events\":[\"button_click\"],\"width\":25},\"id\":\"1308\",\"type\":\"Button\"},{\"attributes\":{\"margin\":[0,0,10,0],\"max_length\":5000,\"placeholder\":\"Filter selected options\",\"sizing_mode\":\"stretch_width\",\"width_policy\":\"max\"},\"id\":\"1326\",\"type\":\"TextInput\"},{\"attributes\":{\"children\":[{\"id\":\"1319\"},{\"id\":\"1320\"},{\"id\":\"1323\"}],\"margin\":[0,0,0,0],\"name\":\"Column00290\",\"sizing_mode\":\"stretch_width\"},\"id\":\"1318\",\"type\":\"Column\"},{\"attributes\":{\"disabled\":true,\"margin\":[0,0,0,0],\"max_length\":5000,\"placeholder\":\"To select an item highlight it on the left and use the arrow button to move it to the right.\",\"sizing_mode\":\"stretch_both\"},\"id\":\"1327\",\"type\":\"TextAreaInput\"},{\"attributes\":{\"children\":[{\"id\":\"1303\"},{\"id\":\"1304\"},{\"id\":\"1328\"},{\"id\":\"1329\"}],\"margin\":[0,0,0,0],\"name\":\"Column00305\",\"sizing_mode\":\"stretch_width\"},\"id\":\"1302\",\"type\":\"Column\"},{\"attributes\":{\"children\":[{\"id\":\"1325\"},{\"id\":\"1326\"},{\"id\":\"1327\"}],\"margin\":[0,0,0,0],\"name\":\"Column00286\",\"sizing_mode\":\"stretch_both\"},\"id\":\"1324\",\"type\":\"Column\"},{\"attributes\":{\"client_comm_id\":\"df9f423004fa4dd98eca080ac463614b\",\"comm_id\":\"a75f9d1ad13c45ab8c4cb6dbe732974e\",\"plot_id\":\"1302\"},\"id\":\"1330\",\"type\":\"panel.models.comm_manager.CommManager\"},{\"attributes\":{\"icon\":null,\"label\":\"\\u21bb\",\"margin\":[5,15,0,10],\"sizing_mode\":\"stretch_width\",\"subscribed_events\":[\"button_click\"],\"width\":25},\"id\":\"1311\",\"type\":\"Button\"},{\"attributes\":{\"margin\":[0,0,0,0],\"options\":[\"hosted_app.ipynb\",\"incf_app.ipynb\",\"local_app.ipynb\"],\"size\":10,\"sizing_mode\":\"stretch_both\"},\"id\":\"1317\",\"type\":\"MultiSelect\"}],\"root_ids\":[\"1302\",\"1330\"]},\"title\":\"Bokeh Application\",\"version\":\"2.4.3\"}};\n",
       "    var render_items = [{\"docid\":\"af8af98e-9d7c-41e1-879d-5ad75e47f05a\",\"root_ids\":[\"1302\"],\"roots\":{\"1302\":\"ecf03212-5f3a-40f9-ae44-0f6268e16691\"}}];\n",
       "    root.Bokeh.embed.embed_items_notebook(docs_json, render_items);\n",
       "  }\n",
       "  if (root.Bokeh !== undefined && root.Bokeh.Panel !== undefined && ( root['vega'] !== undefined)) {\n",
       "    embed_document(root);\n",
       "  } else {\n",
       "    var attempts = 0;\n",
       "    var timer = setInterval(function(root) {\n",
       "      if (root.Bokeh !== undefined && root.Bokeh.Panel !== undefined && (root['vega'] !== undefined)) {\n",
       "        clearInterval(timer);\n",
       "        embed_document(root);\n",
       "      } else if (document.readyState == \"complete\") {\n",
       "        attempts++;\n",
       "        if (attempts > 200) {\n",
       "          clearInterval(timer);\n",
       "          console.log(\"Bokeh: ERROR: Unable to run BokehJS code because BokehJS library is missing\");\n",
       "        }\n",
       "      }\n",
       "    }, 25, root)\n",
       "  }\n",
       "})(window);</script>"
      ],
      "text/plain": [
       "Column(sizing_mode='stretch_width')\n",
       "    [0] Markdown(str, sizing_mode='stretch_width')\n",
       "    [1] FileSelector(sizing_mode='stretch_width')\n",
       "    [2] Markdown(str, sizing_mode='stretch_width')\n",
       "    [3] Button(button_type='primary', name='Transform Files', sizing_mode='stretch_width')"
      ]
     },
     "execution_count": 16,
     "metadata": {
      "application/vnd.holoviews_exec.v0+json": {
       "id": "1302"
      }
     },
     "output_type": "execute_result"
    }
   ],
   "source": [
    "# descriptor for JSONEditor usage\n",
    "markdown = pn.pane.Markdown(\"\"\"\n",
    "## Welcome!\n",
    "\n",
    "Here you can select the folder(s) that you want to transform. Beware that we are using recursive walk to select all the content\n",
    "available in the specified folder. That means if the folder contains a sub-folder, we will transform the content if it falls\n",
    "into the accepted file formats.\n",
    "\n",
    "Below you will see the generated folder with content as specified at [BIDS Computational Model Specification](https://docs.google.com/document/d/1NT1ERdL41oz3NibIFRyVQ2iR8xH-dKY-lRCB4eyVeRo/edit?usp=sharing).\n",
    "If you are happy with the results, press `Transform Files` button at the bottom of the screen. We will not start generation\n",
    "until you press the button below.\n",
    "\n",
    "### Select Folder(s)\n",
    "\"\"\"\n",
    ")\n",
    "\n",
    "\n",
    "generated_md = pn.pane.Markdown(\"\"\"\n",
    "### Generated Folder\n",
    "\n",
    "```\n",
    "tsv/\n",
    "    example1.tsv\n",
    "    example2.tsv\n",
    "json/\n",
    "    example1.json\n",
    "    example2.json\n",
    "\n",
    "```\n",
    "\"\"\")\n",
    "\n",
    "# get current path\n",
    "path = os.getcwd()\n",
    "change_path = pn.widgets.FileSelector(path)\n",
    "\n",
    "generate_btn = pn.widgets.Button(name='Transform Files', button_type='primary')\n",
    "\n",
    "main_area = pn.Column(\n",
    "                markdown,\n",
    "                change_path,\n",
    "                generated_md,\n",
    "                generate_btn\n",
    "            )\n",
    "main_area"
   ]
  },
  {
   "cell_type": "code",
   "execution_count": 17,
   "id": "352f5262",
   "metadata": {},
   "outputs": [
    {
     "data": {},
     "metadata": {},
     "output_type": "display_data"
    },
    {
     "data": {
      "application/vnd.holoviews_exec.v0+json": "",
      "text/html": [
       "<div id='1331'>\n",
       "  <div class=\"bk-root\" id=\"dd92c906-331a-46fc-ae1a-fafd290cb646\" data-root-id=\"1331\"></div>\n",
       "</div>\n",
       "<script type=\"application/javascript\">(function(root) {\n",
       "  function embed_document(root) {\n",
       "    var docs_json = {\"9d721797-7345-4ae7-ad57-860874b7f0ef\":{\"defs\":[{\"extends\":null,\"module\":null,\"name\":\"ReactiveHTML1\",\"overrides\":[],\"properties\":[]},{\"extends\":null,\"module\":null,\"name\":\"FlexBox1\",\"overrides\":[],\"properties\":[{\"default\":\"flex-start\",\"kind\":null,\"name\":\"align_content\"},{\"default\":\"flex-start\",\"kind\":null,\"name\":\"align_items\"},{\"default\":\"row\",\"kind\":null,\"name\":\"flex_direction\"},{\"default\":\"wrap\",\"kind\":null,\"name\":\"flex_wrap\"},{\"default\":\"flex-start\",\"kind\":null,\"name\":\"justify_content\"}]},{\"extends\":null,\"module\":null,\"name\":\"GridStack1\",\"overrides\":[],\"properties\":[{\"default\":\"warn\",\"kind\":null,\"name\":\"mode\"},{\"default\":null,\"kind\":null,\"name\":\"ncols\"},{\"default\":null,\"kind\":null,\"name\":\"nrows\"},{\"default\":true,\"kind\":null,\"name\":\"allow_resize\"},{\"default\":true,\"kind\":null,\"name\":\"allow_drag\"},{\"default\":[],\"kind\":null,\"name\":\"state\"}]},{\"extends\":null,\"module\":null,\"name\":\"click1\",\"overrides\":[],\"properties\":[{\"default\":\"\",\"kind\":null,\"name\":\"terminal_output\"},{\"default\":\"\",\"kind\":null,\"name\":\"debug_name\"},{\"default\":0,\"kind\":null,\"name\":\"clears\"}]},{\"extends\":null,\"module\":null,\"name\":\"NotificationAreaBase1\",\"overrides\":[],\"properties\":[{\"default\":\"bottom-right\",\"kind\":null,\"name\":\"position\"},{\"default\":0,\"kind\":null,\"name\":\"_clear\"}]},{\"extends\":null,\"module\":null,\"name\":\"NotificationArea1\",\"overrides\":[],\"properties\":[{\"default\":[],\"kind\":null,\"name\":\"notifications\"},{\"default\":\"bottom-right\",\"kind\":null,\"name\":\"position\"},{\"default\":0,\"kind\":null,\"name\":\"_clear\"},{\"default\":[{\"background\":\"#ffc107\",\"icon\":{\"className\":\"fas fa-exclamation-triangle\",\"color\":\"white\",\"tagName\":\"i\"},\"type\":\"warning\"},{\"background\":\"#007bff\",\"icon\":{\"className\":\"fas fa-info-circle\",\"color\":\"white\",\"tagName\":\"i\"},\"type\":\"info\"}],\"kind\":null,\"name\":\"types\"}]},{\"extends\":null,\"module\":null,\"name\":\"Notification\",\"overrides\":[],\"properties\":[{\"default\":null,\"kind\":null,\"name\":\"background\"},{\"default\":3000,\"kind\":null,\"name\":\"duration\"},{\"default\":null,\"kind\":null,\"name\":\"icon\"},{\"default\":\"\",\"kind\":null,\"name\":\"message\"},{\"default\":null,\"kind\":null,\"name\":\"notification_type\"},{\"default\":false,\"kind\":null,\"name\":\"_destroyed\"}]},{\"extends\":null,\"module\":null,\"name\":\"TemplateActions1\",\"overrides\":[],\"properties\":[{\"default\":0,\"kind\":null,\"name\":\"open_modal\"},{\"default\":0,\"kind\":null,\"name\":\"close_modal\"}]},{\"extends\":null,\"module\":null,\"name\":\"MaterialTemplateActions1\",\"overrides\":[],\"properties\":[{\"default\":0,\"kind\":null,\"name\":\"open_modal\"},{\"default\":0,\"kind\":null,\"name\":\"close_modal\"}]}],\"roots\":{\"references\":[{\"attributes\":{\"css_classes\":[\"markdown\"],\"margin\":[5,5,5,5],\"name\":\"Markdown00308\",\"sizing_mode\":\"stretch_width\",\"text\":\"&lt;h3&gt;Table of Content&lt;/h3&gt;\\n&lt;ul&gt;\\n&lt;li&gt;&lt;a href=&quot;#intro&quot;&gt;Introduction&lt;/a&gt;&lt;/li&gt;\\n&lt;li&gt;&lt;a href=&quot;#sup_files&quot;&gt;Supported Files&lt;/a&gt;&lt;/li&gt;\\n&lt;li&gt;&lt;a href=&quot;#how-to&quot;&gt;How to use the app&lt;/a&gt;&lt;/li&gt;\\n&lt;/ul&gt;\\n&lt;h4&gt;Introduction &lt;a name=&quot;intro&quot;&gt;&lt;/a&gt;&lt;/h4&gt;\\n&lt;p&gt;Lorem Ipsum is simply dummy text of the printing and typesetting industry. Lorem Ipsum has been the industry&amp;rsquo;s standard dummy text ever since the 1500s, when an unknown printer took a galley of type and scrambled it to make a type specimen book. It has survived not only five centuries, but also the leap into electronic typesetting, remaining essentially unchanged. It was popularised in the 1960s with the release of Letraset sheets containing Lorem Ipsum passages, and more recently with desktop publishing software like Aldus PageMaker including versions of Lorem Ipsum.&lt;/p&gt;\\n&lt;h4&gt;Supported Files &lt;a name=&quot;sup_files&quot;&gt;&lt;/a&gt;&lt;/h4&gt;\\n&lt;p&gt;Lorem Ipsum is simply dummy text of the printing and typesetting industry. Lorem Ipsum has been the industry&amp;rsquo;s standard dummy text ever since the 1500s, when an unknown printer took a galley of type and scrambled it to make a type specimen book. It has survived not only five centuries, but also the leap into electronic typesetting, remaining essentially unchanged. It was popularised in the 1960s with the release of Letraset sheets containing Lorem Ipsum passages, and more recently with desktop publishing software like Aldus PageMaker including versions of Lorem Ipsum.&lt;/p&gt;\\n&lt;h4&gt;How to use the app &lt;a name=&quot;how-to&quot;&gt;&lt;/a&gt;&lt;/h4&gt;\\n&lt;p&gt;Lorem Ipsum is simply dummy text of the printing and typesetting industry. Lorem Ipsum has been the industry&amp;rsquo;s standard dummy text ever since the 1500s, when an unknown printer took a galley of type and scrambled it to make a type specimen book. It has survived not only five centuries, but also the leap into electronic typesetting, remaining essentially unchanged. It was popularised in the 1960s with the release of Letraset sheets containing Lorem Ipsum passages, and more recently with desktop publishing software like Aldus PageMaker including versions of Lorem Ipsum.&lt;/p&gt;\"},\"id\":\"1331\",\"type\":\"panel.models.markup.HTML\"},{\"attributes\":{\"client_comm_id\":\"5ad598cd660b419da1928b7f845efa63\",\"comm_id\":\"858acdb0cd9841a1a5a994c3c497b81c\",\"plot_id\":\"1331\"},\"id\":\"1332\",\"type\":\"panel.models.comm_manager.CommManager\"}],\"root_ids\":[\"1331\",\"1332\"]},\"title\":\"Bokeh Application\",\"version\":\"2.4.3\"}};\n",
       "    var render_items = [{\"docid\":\"9d721797-7345-4ae7-ad57-860874b7f0ef\",\"root_ids\":[\"1331\"],\"roots\":{\"1331\":\"dd92c906-331a-46fc-ae1a-fafd290cb646\"}}];\n",
       "    root.Bokeh.embed.embed_items_notebook(docs_json, render_items);\n",
       "  }\n",
       "  if (root.Bokeh !== undefined && root.Bokeh.Panel !== undefined && ( root['vega'] !== undefined)) {\n",
       "    embed_document(root);\n",
       "  } else {\n",
       "    var attempts = 0;\n",
       "    var timer = setInterval(function(root) {\n",
       "      if (root.Bokeh !== undefined && root.Bokeh.Panel !== undefined && (root['vega'] !== undefined)) {\n",
       "        clearInterval(timer);\n",
       "        embed_document(root);\n",
       "      } else if (document.readyState == \"complete\") {\n",
       "        attempts++;\n",
       "        if (attempts > 200) {\n",
       "          clearInterval(timer);\n",
       "          console.log(\"Bokeh: ERROR: Unable to run BokehJS code because BokehJS library is missing\");\n",
       "        }\n",
       "      }\n",
       "    }, 25, root)\n",
       "  }\n",
       "})(window);</script>"
      ],
      "text/plain": [
       "Markdown(str, sizing_mode='stretch_width')"
      ]
     },
     "execution_count": 17,
     "metadata": {
      "application/vnd.holoviews_exec.v0+json": {
       "id": "1331"
      }
     },
     "output_type": "execute_result"
    }
   ],
   "source": [
    "# user guide sidebar\n",
    "# ug_sidebar = pn.Column(\n",
    "#     pn.pane.Markdown(\"\"\"\n",
    "\n",
    "\n",
    "#     \"\"\")\n",
    "\n",
    "# )\n",
    "\n",
    "\n",
    "# contents = pn.Column(\n",
    "#     pn.Column(),  # sidebar\n",
    "#     pn.Column()   # main area\n",
    "\n",
    "# )\n",
    "\n",
    "contents = pn.pane.Markdown(\"\"\"\n",
    "### Table of Content\n",
    "- [Introduction](#intro)\n",
    "- [Supported Files](#sup_files)\n",
    "- [How to use the app](#how-to)\n",
    "\n",
    "\n",
    "#### Introduction <a name=\"intro\"></a>\n",
    "\n",
    "Lorem Ipsum is simply dummy text of the printing and typesetting industry. Lorem Ipsum has been the industry's standard dummy text ever since the 1500s, when an unknown printer took a galley of type and scrambled it to make a type specimen book. It has survived not only five centuries, but also the leap into electronic typesetting, remaining essentially unchanged. It was popularised in the 1960s with the release of Letraset sheets containing Lorem Ipsum passages, and more recently with desktop publishing software like Aldus PageMaker including versions of Lorem Ipsum.\n",
    "\n",
    "\n",
    "#### Supported Files <a name=\"sup_files\"></a>\n",
    "Lorem Ipsum is simply dummy text of the printing and typesetting industry. Lorem Ipsum has been the industry's standard dummy text ever since the 1500s, when an unknown printer took a galley of type and scrambled it to make a type specimen book. It has survived not only five centuries, but also the leap into electronic typesetting, remaining essentially unchanged. It was popularised in the 1960s with the release of Letraset sheets containing Lorem Ipsum passages, and more recently with desktop publishing software like Aldus PageMaker including versions of Lorem Ipsum.\n",
    "\n",
    "\n",
    "#### How to use the app <a name=\"how-to\"></a>\n",
    "Lorem Ipsum is simply dummy text of the printing and typesetting industry. Lorem Ipsum has been the industry's standard dummy text ever since the 1500s, when an unknown printer took a galley of type and scrambled it to make a type specimen book. It has survived not only five centuries, but also the leap into electronic typesetting, remaining essentially unchanged. It was popularised in the 1960s with the release of Letraset sheets containing Lorem Ipsum passages, and more recently with desktop publishing software like Aldus PageMaker including versions of Lorem Ipsum.\n",
    "\n",
    "\"\"\")\n",
    "\n",
    "contents"
   ]
  },
  {
   "cell_type": "code",
   "execution_count": 67,
   "id": "bcb1856d",
   "metadata": {},
   "outputs": [
    {
     "data": {},
     "metadata": {},
     "output_type": "display_data"
    },
    {
     "data": {
      "application/vnd.holoviews_exec.v0+json": "",
      "text/html": [
       "<div id='3366'>\n",
       "  <div class=\"bk-root\" id=\"d6832d40-d213-4b6d-8d61-5b08f49a3ed4\" data-root-id=\"3366\"></div>\n",
       "</div>\n",
       "<script type=\"application/javascript\">(function(root) {\n",
       "  function embed_document(root) {\n",
       "    var docs_json = {\"8b0a0f1b-fd3c-48e1-9f1c-15d962416218\":{\"defs\":[{\"extends\":null,\"module\":null,\"name\":\"ReactiveHTML1\",\"overrides\":[],\"properties\":[]},{\"extends\":null,\"module\":null,\"name\":\"FlexBox1\",\"overrides\":[],\"properties\":[{\"default\":\"flex-start\",\"kind\":null,\"name\":\"align_content\"},{\"default\":\"flex-start\",\"kind\":null,\"name\":\"align_items\"},{\"default\":\"row\",\"kind\":null,\"name\":\"flex_direction\"},{\"default\":\"wrap\",\"kind\":null,\"name\":\"flex_wrap\"},{\"default\":\"flex-start\",\"kind\":null,\"name\":\"justify_content\"}]},{\"extends\":null,\"module\":null,\"name\":\"GridStack1\",\"overrides\":[],\"properties\":[{\"default\":\"warn\",\"kind\":null,\"name\":\"mode\"},{\"default\":null,\"kind\":null,\"name\":\"ncols\"},{\"default\":null,\"kind\":null,\"name\":\"nrows\"},{\"default\":true,\"kind\":null,\"name\":\"allow_resize\"},{\"default\":true,\"kind\":null,\"name\":\"allow_drag\"},{\"default\":[],\"kind\":null,\"name\":\"state\"}]},{\"extends\":null,\"module\":null,\"name\":\"click1\",\"overrides\":[],\"properties\":[{\"default\":\"\",\"kind\":null,\"name\":\"terminal_output\"},{\"default\":\"\",\"kind\":null,\"name\":\"debug_name\"},{\"default\":0,\"kind\":null,\"name\":\"clears\"}]},{\"extends\":null,\"module\":null,\"name\":\"NotificationAreaBase1\",\"overrides\":[],\"properties\":[{\"default\":\"bottom-right\",\"kind\":null,\"name\":\"position\"},{\"default\":0,\"kind\":null,\"name\":\"_clear\"}]},{\"extends\":null,\"module\":null,\"name\":\"NotificationArea1\",\"overrides\":[],\"properties\":[{\"default\":[],\"kind\":null,\"name\":\"notifications\"},{\"default\":\"bottom-right\",\"kind\":null,\"name\":\"position\"},{\"default\":0,\"kind\":null,\"name\":\"_clear\"},{\"default\":[{\"background\":\"#ffc107\",\"icon\":{\"className\":\"fas fa-exclamation-triangle\",\"color\":\"white\",\"tagName\":\"i\"},\"type\":\"warning\"},{\"background\":\"#007bff\",\"icon\":{\"className\":\"fas fa-info-circle\",\"color\":\"white\",\"tagName\":\"i\"},\"type\":\"info\"}],\"kind\":null,\"name\":\"types\"}]},{\"extends\":null,\"module\":null,\"name\":\"Notification\",\"overrides\":[],\"properties\":[{\"default\":null,\"kind\":null,\"name\":\"background\"},{\"default\":3000,\"kind\":null,\"name\":\"duration\"},{\"default\":null,\"kind\":null,\"name\":\"icon\"},{\"default\":\"\",\"kind\":null,\"name\":\"message\"},{\"default\":null,\"kind\":null,\"name\":\"notification_type\"},{\"default\":false,\"kind\":null,\"name\":\"_destroyed\"}]},{\"extends\":null,\"module\":null,\"name\":\"TemplateActions1\",\"overrides\":[],\"properties\":[{\"default\":0,\"kind\":null,\"name\":\"open_modal\"},{\"default\":0,\"kind\":null,\"name\":\"close_modal\"}]},{\"extends\":null,\"module\":null,\"name\":\"MaterialTemplateActions1\",\"overrides\":[],\"properties\":[{\"default\":0,\"kind\":null,\"name\":\"open_modal\"},{\"default\":0,\"kind\":null,\"name\":\"close_modal\"}]}],\"roots\":{\"references\":[{\"attributes\":{\"css_classes\":[\"markdown\"],\"margin\":[5,5,5,5],\"name\":\"Markdown00308\",\"sizing_mode\":\"stretch_width\",\"text\":\"&lt;h3&gt;Table of Content&lt;/h3&gt;\\n&lt;ul&gt;\\n&lt;li&gt;&lt;a href=&quot;#intro&quot;&gt;Introduction&lt;/a&gt;&lt;/li&gt;\\n&lt;li&gt;&lt;a href=&quot;#sup_files&quot;&gt;Supported Files&lt;/a&gt;&lt;/li&gt;\\n&lt;li&gt;&lt;a href=&quot;#how-to&quot;&gt;How to use the app&lt;/a&gt;&lt;/li&gt;\\n&lt;/ul&gt;\\n&lt;h4&gt;Introduction &lt;a name=&quot;intro&quot;&gt;&lt;/a&gt;&lt;/h4&gt;\\n&lt;p&gt;Lorem Ipsum is simply dummy text of the printing and typesetting industry. Lorem Ipsum has been the industry&amp;rsquo;s standard dummy text ever since the 1500s, when an unknown printer took a galley of type and scrambled it to make a type specimen book. It has survived not only five centuries, but also the leap into electronic typesetting, remaining essentially unchanged. It was popularised in the 1960s with the release of Letraset sheets containing Lorem Ipsum passages, and more recently with desktop publishing software like Aldus PageMaker including versions of Lorem Ipsum.&lt;/p&gt;\\n&lt;h4&gt;Supported Files &lt;a name=&quot;sup_files&quot;&gt;&lt;/a&gt;&lt;/h4&gt;\\n&lt;p&gt;Lorem Ipsum is simply dummy text of the printing and typesetting industry. Lorem Ipsum has been the industry&amp;rsquo;s standard dummy text ever since the 1500s, when an unknown printer took a galley of type and scrambled it to make a type specimen book. It has survived not only five centuries, but also the leap into electronic typesetting, remaining essentially unchanged. It was popularised in the 1960s with the release of Letraset sheets containing Lorem Ipsum passages, and more recently with desktop publishing software like Aldus PageMaker including versions of Lorem Ipsum.&lt;/p&gt;\\n&lt;h4&gt;How to use the app &lt;a name=&quot;how-to&quot;&gt;&lt;/a&gt;&lt;/h4&gt;\\n&lt;p&gt;Lorem Ipsum is simply dummy text of the printing and typesetting industry. Lorem Ipsum has been the industry&amp;rsquo;s standard dummy text ever since the 1500s, when an unknown printer took a galley of type and scrambled it to make a type specimen book. It has survived not only five centuries, but also the leap into electronic typesetting, remaining essentially unchanged. It was popularised in the 1960s with the release of Letraset sheets containing Lorem Ipsum passages, and more recently with desktop publishing software like Aldus PageMaker including versions of Lorem Ipsum.&lt;/p&gt;\"},\"id\":\"3425\",\"type\":\"panel.models.markup.HTML\"},{\"attributes\":{\"children\":[{\"id\":\"3390\"},{\"id\":\"3391\"},{\"id\":\"3392\"}],\"margin\":[0,0,0,0],\"name\":\"Column00286\",\"sizing_mode\":\"stretch_both\"},\"id\":\"3389\",\"type\":\"Column\"},{\"attributes\":{\"margin\":[0,0,0,0],\"options\":[\"hosted_app.ipynb\",\"incf_app.ipynb\",\"local_app.ipynb\"],\"size\":10,\"sizing_mode\":\"stretch_both\"},\"id\":\"3411\",\"type\":\"MultiSelect\"},{\"attributes\":{\"button_type\":\"primary\",\"icon\":null,\"label\":\"Transform Files\",\"margin\":[5,10,5,10],\"sizing_mode\":\"stretch_width\",\"subscribed_events\":[\"button_click\"]},\"id\":\"3394\",\"type\":\"Button\"},{\"attributes\":{\"css_classes\":[\"markdown\"],\"margin\":[0,0,0,0],\"name\":\"Markdown00299\",\"sizing_mode\":\"stretch_width\",\"text\":\"&lt;h3&gt;Selected files&lt;/h3&gt;\"},\"id\":\"3419\",\"type\":\"panel.models.markup.HTML\"},{\"attributes\":{\"button_type\":\"primary\",\"icon\":null,\"label\":\"Transform Files\",\"margin\":[5,10,5,10],\"sizing_mode\":\"stretch_width\",\"subscribed_events\":[\"button_click\"]},\"id\":\"3423\",\"type\":\"Button\"},{\"attributes\":{\"css_classes\":[\"markdown\"],\"margin\":[5,5,5,5],\"name\":\"Markdown00270\",\"sizing_mode\":\"stretch_width\",\"text\":\"&lt;h2&gt;Welcome!&lt;/h2&gt;\\n&lt;p&gt;Here you can select the folder(s) that you want to transform. Beware that we are using recursive walk to select all the content\\navailable in the specified folder. That means if the folder contains a sub-folder, we will transform the content if it falls\\ninto the accepted file formats.&lt;/p&gt;\\n&lt;p&gt;Below you will see the generated folder with content as specified at &lt;a href=&quot;https://docs.google.com/document/d/1NT1ERdL41oz3NibIFRyVQ2iR8xH-dKY-lRCB4eyVeRo/edit?usp=sharing&quot;&gt;BIDS Computational Model Specification&lt;/a&gt;.\\nIf you are happy with the results, press &lt;code&gt;Transform Files&lt;/code&gt; button at the bottom of the screen. We will not start generation\\nuntil you press the button below.&lt;/p&gt;\\n&lt;h3&gt;Select Folder(s)&lt;/h3&gt;\"},\"id\":\"3397\",\"type\":\"panel.models.markup.HTML\"},{\"attributes\":{\"css_classes\":[\"markdown\"],\"margin\":[5,5,5,5],\"name\":\"Markdown00272\",\"sizing_mode\":\"stretch_width\",\"text\":\"&lt;h3&gt;Generated Folder&lt;/h3&gt;\\n&lt;div class=&quot;codehilite&quot;&gt;&lt;pre&gt;&lt;span&gt;&lt;/span&gt;&lt;code&gt;tsv/\\n    example1.tsv\\n    example2.tsv\\njson/\\n    example1.json\\n    example2.json\\n&lt;/code&gt;&lt;/pre&gt;&lt;/div&gt;\"},\"id\":\"3393\",\"type\":\"panel.models.markup.HTML\"},{\"attributes\":{\"child\":{\"id\":\"3396\"},\"name\":\"Column00305\",\"title\":\"View Contents\"},\"id\":\"3424\",\"type\":\"Panel\"},{\"attributes\":{\"margin\":[0,0,0,0],\"sizing_mode\":\"stretch_width\",\"tabs\":[{\"id\":\"3395\"},{\"id\":\"3424\"},{\"id\":\"3426\"}]},\"id\":\"3366\",\"type\":\"panel.models.tabs.Tabs\"},{\"attributes\":{\"disabled\":true,\"icon\":null,\"label\":\"\\u25b6\",\"margin\":[5,10,5,10],\"sizing_mode\":\"stretch_width\",\"subscribed_events\":[\"button_click\"],\"width\":25},\"id\":\"3372\",\"type\":\"Button\"},{\"attributes\":{\"margin\":[0,0,10,0],\"max_length\":5000,\"placeholder\":\"Filter available options\",\"sizing_mode\":\"stretch_width\",\"width_policy\":\"max\"},\"id\":\"3410\",\"type\":\"TextInput\"},{\"attributes\":{\"margin\":[0,0,0,0],\"name\":\"Divider00298\",\"sizing_mode\":\"stretch_width\",\"style\":{\"height\":\"100%\",\"width\":\"100%\"},\"text\":\"<hr style=\\\"margin: 0px\\\">\",\"width_policy\":\"fit\"},\"id\":\"3377\",\"type\":\"Div\"},{\"attributes\":{\"margin\":[5,5,5,5],\"name\":\"VSpacer00288\",\"sizing_mode\":\"stretch_height\"},\"id\":\"3413\",\"type\":\"Spacer\"},{\"attributes\":{\"margin\":[0,0,0,0],\"name\":\"Divider00298\",\"sizing_mode\":\"stretch_width\",\"style\":{\"height\":\"100%\",\"width\":\"100%\"},\"text\":\"<hr style=\\\"margin: 0px\\\">\",\"width_policy\":\"fit\"},\"id\":\"3406\",\"type\":\"Div\"},{\"attributes\":{\"children\":[{\"id\":\"3386\"},{\"id\":\"3387\"}],\"margin\":[0,5,0,5],\"name\":\"Column00287\",\"sizing_mode\":\"stretch_width\"},\"id\":\"3385\",\"type\":\"Column\"},{\"attributes\":{\"client_comm_id\":\"e1c88eaaf3c04660a3321f81064b5351\",\"comm_id\":\"eb677b7c6d90411e9dd87b1e4f490ff6\",\"plot_id\":\"3366\"},\"id\":\"3427\",\"type\":\"panel.models.comm_manager.CommManager\"},{\"attributes\":{\"children\":[{\"id\":\"3400\"},{\"id\":\"3401\"},{\"id\":\"3402\"},{\"id\":\"3403\"},{\"id\":\"3404\"},{\"id\":\"3405\"}],\"margin\":[0,0,0,0],\"name\":\"Row00297\",\"sizing_mode\":\"stretch_width\",\"width_policy\":\"max\"},\"id\":\"3399\",\"type\":\"Row\"},{\"attributes\":{\"children\":[{\"id\":\"3413\"},{\"id\":\"3414\"},{\"id\":\"3417\"}],\"margin\":[0,0,0,0],\"name\":\"Column00290\",\"sizing_mode\":\"stretch_width\"},\"id\":\"3412\",\"type\":\"Column\"},{\"attributes\":{\"css_classes\":[\"markdown\"],\"margin\":[0,0,0,0],\"name\":\"Markdown00301\",\"sizing_mode\":\"stretch_width\",\"text\":\"&lt;h3&gt;File Browser&lt;/h3&gt;\"},\"id\":\"3409\",\"type\":\"panel.models.markup.HTML\"},{\"attributes\":{\"margin\":[0,0,10,0],\"max_length\":5000,\"placeholder\":\"Filter available options\",\"sizing_mode\":\"stretch_width\",\"width_policy\":\"max\"},\"id\":\"3381\",\"type\":\"TextInput\"},{\"attributes\":{\"margin\":[5,10,5,10],\"max_length\":5000,\"sizing_mode\":\"stretch_width\",\"value\":\"C:\\\\Users\\\\dinar\\\\Desktop\\\\gsoc\\\\app_templates\",\"width_policy\":\"max\"},\"id\":\"3374\",\"type\":\"TextInput\"},{\"attributes\":{\"children\":[{\"id\":\"3408\"},{\"id\":\"3412\"},{\"id\":\"3418\"}],\"margin\":[0,0,0,0],\"name\":\"Row00277\",\"sizing_mode\":\"stretch_both\",\"width\":600},\"id\":\"3407\",\"type\":\"Row\"},{\"attributes\":{\"disabled\":true,\"margin\":[0,0,0,0],\"max_length\":5000,\"placeholder\":\"To select an item highlight it on the left and use the arrow button to move it to the right.\",\"sizing_mode\":\"stretch_both\"},\"id\":\"3392\",\"type\":\"TextAreaInput\"},{\"attributes\":{\"disabled\":true,\"icon\":null,\"label\":\"\\u2b07\",\"margin\":[5,10,0,0],\"sizing_mode\":\"stretch_width\",\"subscribed_events\":[\"button_click\"],\"width\":25},\"id\":\"3404\",\"type\":\"Button\"},{\"attributes\":{\"child\":{\"id\":\"3367\"},\"name\":\"Column00305\",\"title\":\"Get Started\"},\"id\":\"3395\",\"type\":\"Panel\"},{\"attributes\":{\"margin\":[5,5,5,5],\"name\":\"VSpacer00289\",\"sizing_mode\":\"stretch_height\"},\"id\":\"3417\",\"type\":\"Spacer\"},{\"attributes\":{\"child\":{\"id\":\"3425\"},\"name\":\"Markdown00308\",\"title\":\"User Guide\"},\"id\":\"3426\",\"type\":\"Panel\"},{\"attributes\":{\"children\":[{\"id\":\"3399\"},{\"id\":\"3406\"},{\"id\":\"3407\"}],\"margin\":[5,10,20,10],\"name\":\"Column00275\",\"sizing_mode\":\"stretch_width\"},\"id\":\"3398\",\"type\":\"Column\"},{\"attributes\":{\"margin\":[0,0,0,0],\"options\":[\"hosted_app.ipynb\",\"incf_app.ipynb\",\"local_app.ipynb\"],\"size\":10,\"sizing_mode\":\"stretch_both\"},\"id\":\"3382\",\"type\":\"MultiSelect\"},{\"attributes\":{\"margin\":[0,0,10,0],\"max_length\":5000,\"placeholder\":\"Filter selected options\",\"sizing_mode\":\"stretch_width\",\"width_policy\":\"max\"},\"id\":\"3420\",\"type\":\"TextInput\"},{\"attributes\":{\"children\":[{\"id\":\"3380\"},{\"id\":\"3381\"},{\"id\":\"3382\"}],\"margin\":[0,0,0,0],\"name\":\"Column00285\",\"sizing_mode\":\"stretch_both\"},\"id\":\"3379\",\"type\":\"Column\"},{\"attributes\":{\"margin\":[0,0,10,0],\"max_length\":5000,\"placeholder\":\"Filter selected options\",\"sizing_mode\":\"stretch_width\",\"width_policy\":\"max\"},\"id\":\"3391\",\"type\":\"TextInput\"},{\"attributes\":{\"disabled\":true,\"icon\":null,\"label\":\"\\u2b06\",\"margin\":[5,10,5,10],\"sizing_mode\":\"stretch_width\",\"subscribed_events\":[\"button_click\"],\"width\":25},\"id\":\"3402\",\"type\":\"Button\"},{\"attributes\":{\"disabled\":true,\"icon\":null,\"label\":\"\\u25b6\",\"margin\":[5,10,5,10],\"sizing_mode\":\"stretch_width\",\"subscribed_events\":[\"button_click\"],\"width\":25},\"id\":\"3401\",\"type\":\"Button\"},{\"attributes\":{\"css_classes\":[\"markdown\"],\"margin\":[5,5,5,5],\"name\":\"Markdown00272\",\"sizing_mode\":\"stretch_width\",\"text\":\"&lt;h3&gt;Generated Folder&lt;/h3&gt;\\n&lt;div class=&quot;codehilite&quot;&gt;&lt;pre&gt;&lt;span&gt;&lt;/span&gt;&lt;code&gt;tsv/\\n    example1.tsv\\n    example2.tsv\\njson/\\n    example1.json\\n    example2.json\\n&lt;/code&gt;&lt;/pre&gt;&lt;/div&gt;\"},\"id\":\"3422\",\"type\":\"panel.models.markup.HTML\"},{\"attributes\":{\"children\":[{\"id\":\"3384\"},{\"id\":\"3385\"},{\"id\":\"3388\"}],\"margin\":[0,0,0,0],\"name\":\"Column00290\",\"sizing_mode\":\"stretch_width\"},\"id\":\"3383\",\"type\":\"Column\"},{\"attributes\":{\"icon\":null,\"label\":\"<<\",\"margin\":[5,10,5,10],\"sizing_mode\":\"stretch_width\",\"subscribed_events\":[\"button_click\"],\"width\":50},\"id\":\"3387\",\"type\":\"Button\"},{\"attributes\":{\"children\":[{\"id\":\"3371\"},{\"id\":\"3372\"},{\"id\":\"3373\"},{\"id\":\"3374\"},{\"id\":\"3375\"},{\"id\":\"3376\"}],\"margin\":[0,0,0,0],\"name\":\"Row00297\",\"sizing_mode\":\"stretch_width\",\"width_policy\":\"max\"},\"id\":\"3370\",\"type\":\"Row\"},{\"attributes\":{\"children\":[{\"id\":\"3419\"},{\"id\":\"3420\"},{\"id\":\"3421\"}],\"margin\":[0,0,0,0],\"name\":\"Column00286\",\"sizing_mode\":\"stretch_both\"},\"id\":\"3418\",\"type\":\"Column\"},{\"attributes\":{\"margin\":[5,5,5,5],\"name\":\"VSpacer00289\",\"sizing_mode\":\"stretch_height\"},\"id\":\"3388\",\"type\":\"Spacer\"},{\"attributes\":{\"icon\":null,\"label\":\">>\",\"margin\":[5,10,5,10],\"sizing_mode\":\"stretch_width\",\"subscribed_events\":[\"button_click\"],\"width\":50},\"id\":\"3386\",\"type\":\"Button\"},{\"attributes\":{\"icon\":null,\"label\":\">>\",\"margin\":[5,10,5,10],\"sizing_mode\":\"stretch_width\",\"subscribed_events\":[\"button_click\"],\"width\":50},\"id\":\"3415\",\"type\":\"Button\"},{\"attributes\":{\"css_classes\":[\"markdown\"],\"margin\":[0,0,0,0],\"name\":\"Markdown00299\",\"sizing_mode\":\"stretch_width\",\"text\":\"&lt;h3&gt;Selected files&lt;/h3&gt;\"},\"id\":\"3390\",\"type\":\"panel.models.markup.HTML\"},{\"attributes\":{\"margin\":[5,10,5,10],\"max_length\":5000,\"sizing_mode\":\"stretch_width\",\"value\":\"C:\\\\Users\\\\dinar\\\\Desktop\\\\gsoc\\\\app_templates\",\"width_policy\":\"max\"},\"id\":\"3403\",\"type\":\"TextInput\"},{\"attributes\":{\"disabled\":true,\"margin\":[0,0,0,0],\"max_length\":5000,\"placeholder\":\"To select an item highlight it on the left and use the arrow button to move it to the right.\",\"sizing_mode\":\"stretch_both\"},\"id\":\"3421\",\"type\":\"TextAreaInput\"},{\"attributes\":{\"children\":[{\"id\":\"3379\"},{\"id\":\"3383\"},{\"id\":\"3389\"}],\"margin\":[0,0,0,0],\"name\":\"Row00277\",\"sizing_mode\":\"stretch_both\",\"width\":600},\"id\":\"3378\",\"type\":\"Row\"},{\"attributes\":{\"children\":[{\"id\":\"3415\"},{\"id\":\"3416\"}],\"margin\":[0,5,0,5],\"name\":\"Column00287\",\"sizing_mode\":\"stretch_width\"},\"id\":\"3414\",\"type\":\"Column\"},{\"attributes\":{\"css_classes\":[\"markdown\"],\"margin\":[5,5,5,5],\"name\":\"Markdown00270\",\"sizing_mode\":\"stretch_width\",\"text\":\"&lt;h2&gt;Welcome!&lt;/h2&gt;\\n&lt;p&gt;Here you can select the folder(s) that you want to transform. Beware that we are using recursive walk to select all the content\\navailable in the specified folder. That means if the folder contains a sub-folder, we will transform the content if it falls\\ninto the accepted file formats.&lt;/p&gt;\\n&lt;p&gt;Below you will see the generated folder with content as specified at &lt;a href=&quot;https://docs.google.com/document/d/1NT1ERdL41oz3NibIFRyVQ2iR8xH-dKY-lRCB4eyVeRo/edit?usp=sharing&quot;&gt;BIDS Computational Model Specification&lt;/a&gt;.\\nIf you are happy with the results, press &lt;code&gt;Transform Files&lt;/code&gt; button at the bottom of the screen. We will not start generation\\nuntil you press the button below.&lt;/p&gt;\\n&lt;h3&gt;Select Folder(s)&lt;/h3&gt;\"},\"id\":\"3368\",\"type\":\"panel.models.markup.HTML\"},{\"attributes\":{\"children\":[{\"id\":\"3370\"},{\"id\":\"3377\"},{\"id\":\"3378\"}],\"margin\":[5,10,20,10],\"name\":\"Column00275\",\"sizing_mode\":\"stretch_width\"},\"id\":\"3369\",\"type\":\"Column\"},{\"attributes\":{\"disabled\":true,\"icon\":null,\"label\":\"\\u2b07\",\"margin\":[5,10,0,0],\"sizing_mode\":\"stretch_width\",\"subscribed_events\":[\"button_click\"],\"width\":25},\"id\":\"3375\",\"type\":\"Button\"},{\"attributes\":{\"children\":[{\"id\":\"3409\"},{\"id\":\"3410\"},{\"id\":\"3411\"}],\"margin\":[0,0,0,0],\"name\":\"Column00285\",\"sizing_mode\":\"stretch_both\"},\"id\":\"3408\",\"type\":\"Column\"},{\"attributes\":{\"icon\":null,\"label\":\"\\u21bb\",\"margin\":[5,15,0,10],\"sizing_mode\":\"stretch_width\",\"subscribed_events\":[\"button_click\"],\"width\":25},\"id\":\"3376\",\"type\":\"Button\"},{\"attributes\":{\"css_classes\":[\"markdown\"],\"margin\":[0,0,0,0],\"name\":\"Markdown00301\",\"sizing_mode\":\"stretch_width\",\"text\":\"&lt;h3&gt;File Browser&lt;/h3&gt;\"},\"id\":\"3380\",\"type\":\"panel.models.markup.HTML\"},{\"attributes\":{\"disabled\":true,\"icon\":null,\"label\":\"\\u2b06\",\"margin\":[5,10,5,10],\"sizing_mode\":\"stretch_width\",\"subscribed_events\":[\"button_click\"],\"width\":25},\"id\":\"3373\",\"type\":\"Button\"},{\"attributes\":{\"margin\":[5,5,5,5],\"name\":\"VSpacer00288\",\"sizing_mode\":\"stretch_height\"},\"id\":\"3384\",\"type\":\"Spacer\"},{\"attributes\":{\"icon\":null,\"label\":\"<<\",\"margin\":[5,10,5,10],\"sizing_mode\":\"stretch_width\",\"subscribed_events\":[\"button_click\"],\"width\":50},\"id\":\"3416\",\"type\":\"Button\"},{\"attributes\":{\"disabled\":true,\"icon\":null,\"label\":\"\\u25c0\",\"margin\":[5,10,0,0],\"sizing_mode\":\"stretch_width\",\"subscribed_events\":[\"button_click\"],\"width\":25},\"id\":\"3371\",\"type\":\"Button\"},{\"attributes\":{\"children\":[{\"id\":\"3368\"},{\"id\":\"3369\"},{\"id\":\"3393\"},{\"id\":\"3394\"}],\"margin\":[0,0,0,0],\"name\":\"Column00305\",\"sizing_mode\":\"stretch_width\"},\"id\":\"3367\",\"type\":\"Column\"},{\"attributes\":{\"children\":[{\"id\":\"3397\"},{\"id\":\"3398\"},{\"id\":\"3422\"},{\"id\":\"3423\"}],\"margin\":[0,0,0,0],\"name\":\"Column00305\",\"sizing_mode\":\"stretch_width\"},\"id\":\"3396\",\"type\":\"Column\"},{\"attributes\":{\"icon\":null,\"label\":\"\\u21bb\",\"margin\":[5,15,0,10],\"sizing_mode\":\"stretch_width\",\"subscribed_events\":[\"button_click\"],\"width\":25},\"id\":\"3405\",\"type\":\"Button\"},{\"attributes\":{\"disabled\":true,\"icon\":null,\"label\":\"\\u25c0\",\"margin\":[5,10,0,0],\"sizing_mode\":\"stretch_width\",\"subscribed_events\":[\"button_click\"],\"width\":25},\"id\":\"3400\",\"type\":\"Button\"}],\"root_ids\":[\"3366\",\"3427\"]},\"title\":\"Bokeh Application\",\"version\":\"2.4.3\"}};\n",
       "    var render_items = [{\"docid\":\"8b0a0f1b-fd3c-48e1-9f1c-15d962416218\",\"root_ids\":[\"3366\"],\"roots\":{\"3366\":\"d6832d40-d213-4b6d-8d61-5b08f49a3ed4\"}}];\n",
       "    root.Bokeh.embed.embed_items_notebook(docs_json, render_items);\n",
       "  }\n",
       "  if (root.Bokeh !== undefined && root.Bokeh.Panel !== undefined && ( root['vega'] !== undefined)) {\n",
       "    embed_document(root);\n",
       "  } else {\n",
       "    var attempts = 0;\n",
       "    var timer = setInterval(function(root) {\n",
       "      if (root.Bokeh !== undefined && root.Bokeh.Panel !== undefined && (root['vega'] !== undefined)) {\n",
       "        clearInterval(timer);\n",
       "        embed_document(root);\n",
       "      } else if (document.readyState == \"complete\") {\n",
       "        attempts++;\n",
       "        if (attempts > 200) {\n",
       "          clearInterval(timer);\n",
       "          console.log(\"Bokeh: ERROR: Unable to run BokehJS code because BokehJS library is missing\");\n",
       "        }\n",
       "      }\n",
       "    }, 25, root)\n",
       "  }\n",
       "})(window);</script>"
      ],
      "text/plain": [
       "Tabs(sizing_mode='stretch_width')\n",
       "    [0] Column(sizing_mode='stretch_width')\n",
       "        [0] Markdown(str, sizing_mode='stretch_width')\n",
       "        [1] FileSelector(sizing_mode='stretch_width')\n",
       "        [2] Markdown(str, sizing_mode='stretch_width')\n",
       "        [3] Button(button_type='primary', name='Transform Files', sizing_mode='stretch_width')\n",
       "    [1] Column(sizing_mode='stretch_width')\n",
       "        [0] Markdown(str, sizing_mode='stretch_width')\n",
       "        [1] FileSelector(sizing_mode='stretch_width')\n",
       "        [2] Markdown(str, sizing_mode='stretch_width')\n",
       "        [3] Button(button_type='primary', name='Transform Files', sizing_mode='stretch_width')\n",
       "    [2] Markdown(str, sizing_mode='stretch_width')"
      ]
     },
     "execution_count": 67,
     "metadata": {
      "application/vnd.holoviews_exec.v0+json": {
       "id": "3366"
      }
     },
     "output_type": "execute_result"
    }
   ],
   "source": [
    "main = pn.Tabs(\n",
    "    ('Get Started',   main_area),\n",
    "    ('View Contents', main_area),\n",
    "    ('User Guide',    contents)\n",
    ")\n",
    "\n",
    "main"
   ]
  },
  {
   "cell_type": "code",
   "execution_count": 19,
   "id": "01829a26",
   "metadata": {},
   "outputs": [
    {
     "name": "stdout",
     "output_type": "stream",
     "text": [
      "Launching server at http://localhost:54232\n"
     ]
    },
    {
     "data": {
      "text/plain": [
       "<bokeh.server.server.Server at 0x2201d1f9690>"
      ]
     },
     "execution_count": 19,
     "metadata": {},
     "output_type": "execute_result"
    }
   ],
   "source": [
    "panel = pn.template.FastListTemplate(\n",
    "    title='Visualize | Transform | Download',\n",
    "    site='INCF',\n",
    "    main=main\n",
    ")\n",
    "\n",
    "# pn.serve(panel)"
   ]
  },
  {
   "cell_type": "code",
   "execution_count": null,
   "id": "9a75e095",
   "metadata": {},
   "outputs": [],
   "source": []
  },
  {
   "cell_type": "code",
   "execution_count": null,
   "id": "fc782d40",
   "metadata": {},
   "outputs": [],
   "source": []
  },
  {
   "cell_type": "code",
   "execution_count": 61,
   "id": "9b3694ea",
   "metadata": {},
   "outputs": [
    {
     "data": {},
     "metadata": {},
     "output_type": "display_data"
    },
    {
     "data": {
      "application/vnd.holoviews_exec.v0+json": "",
      "text/html": [
       "<div id='3010'>\n",
       "  <div class=\"bk-root\" id=\"875b6943-c71f-46c8-9616-fa0807d9f2fb\" data-root-id=\"3010\"></div>\n",
       "</div>\n",
       "<script type=\"application/javascript\">(function(root) {\n",
       "  function embed_document(root) {\n",
       "    var docs_json = {\"a42274db-baea-463e-b805-b2a6b89c1f79\":{\"defs\":[{\"extends\":null,\"module\":null,\"name\":\"ReactiveHTML1\",\"overrides\":[],\"properties\":[]},{\"extends\":null,\"module\":null,\"name\":\"FlexBox1\",\"overrides\":[],\"properties\":[{\"default\":\"flex-start\",\"kind\":null,\"name\":\"align_content\"},{\"default\":\"flex-start\",\"kind\":null,\"name\":\"align_items\"},{\"default\":\"row\",\"kind\":null,\"name\":\"flex_direction\"},{\"default\":\"wrap\",\"kind\":null,\"name\":\"flex_wrap\"},{\"default\":\"flex-start\",\"kind\":null,\"name\":\"justify_content\"}]},{\"extends\":null,\"module\":null,\"name\":\"GridStack1\",\"overrides\":[],\"properties\":[{\"default\":\"warn\",\"kind\":null,\"name\":\"mode\"},{\"default\":null,\"kind\":null,\"name\":\"ncols\"},{\"default\":null,\"kind\":null,\"name\":\"nrows\"},{\"default\":true,\"kind\":null,\"name\":\"allow_resize\"},{\"default\":true,\"kind\":null,\"name\":\"allow_drag\"},{\"default\":[],\"kind\":null,\"name\":\"state\"}]},{\"extends\":null,\"module\":null,\"name\":\"click1\",\"overrides\":[],\"properties\":[{\"default\":\"\",\"kind\":null,\"name\":\"terminal_output\"},{\"default\":\"\",\"kind\":null,\"name\":\"debug_name\"},{\"default\":0,\"kind\":null,\"name\":\"clears\"}]},{\"extends\":null,\"module\":null,\"name\":\"NotificationAreaBase1\",\"overrides\":[],\"properties\":[{\"default\":\"bottom-right\",\"kind\":null,\"name\":\"position\"},{\"default\":0,\"kind\":null,\"name\":\"_clear\"}]},{\"extends\":null,\"module\":null,\"name\":\"NotificationArea1\",\"overrides\":[],\"properties\":[{\"default\":[],\"kind\":null,\"name\":\"notifications\"},{\"default\":\"bottom-right\",\"kind\":null,\"name\":\"position\"},{\"default\":0,\"kind\":null,\"name\":\"_clear\"},{\"default\":[{\"background\":\"#ffc107\",\"icon\":{\"className\":\"fas fa-exclamation-triangle\",\"color\":\"white\",\"tagName\":\"i\"},\"type\":\"warning\"},{\"background\":\"#007bff\",\"icon\":{\"className\":\"fas fa-info-circle\",\"color\":\"white\",\"tagName\":\"i\"},\"type\":\"info\"}],\"kind\":null,\"name\":\"types\"}]},{\"extends\":null,\"module\":null,\"name\":\"Notification\",\"overrides\":[],\"properties\":[{\"default\":null,\"kind\":null,\"name\":\"background\"},{\"default\":3000,\"kind\":null,\"name\":\"duration\"},{\"default\":null,\"kind\":null,\"name\":\"icon\"},{\"default\":\"\",\"kind\":null,\"name\":\"message\"},{\"default\":null,\"kind\":null,\"name\":\"notification_type\"},{\"default\":false,\"kind\":null,\"name\":\"_destroyed\"}]},{\"extends\":null,\"module\":null,\"name\":\"TemplateActions1\",\"overrides\":[],\"properties\":[{\"default\":0,\"kind\":null,\"name\":\"open_modal\"},{\"default\":0,\"kind\":null,\"name\":\"close_modal\"}]},{\"extends\":null,\"module\":null,\"name\":\"MaterialTemplateActions1\",\"overrides\":[],\"properties\":[{\"default\":0,\"kind\":null,\"name\":\"open_modal\"},{\"default\":0,\"kind\":null,\"name\":\"close_modal\"}]}],\"roots\":{\"references\":[{\"attributes\":{\"button_type\":\"light\",\"icon\":null,\"label\":\"BIDS Computational Data Standard\",\"margin\":[5,10,5,10],\"sizing_mode\":\"stretch_width\",\"subscribed_events\":[\"button_click\"],\"width\":100},\"id\":\"3015\",\"type\":\"Button\"},{\"attributes\":{\"children\":[{\"id\":\"3011\"},{\"id\":\"3012\"},{\"id\":\"3013\"},{\"id\":\"3014\"},{\"id\":\"3015\"}],\"margin\":[20,0,0,0],\"name\":\"Row00811\",\"sizing_mode\":\"stretch_width\"},\"id\":\"3010\",\"type\":\"Row\"},{\"attributes\":{\"button_type\":\"light\",\"icon\":null,\"label\":\"Supported Files\",\"margin\":[5,10,5,10],\"sizing_mode\":\"stretch_width\",\"subscribed_events\":[\"button_click\"],\"width\":100},\"id\":\"3012\",\"type\":\"Button\"},{\"attributes\":{\"client_comm_id\":\"f97e5675a1bb41789a14ea2dd0f943e3\",\"comm_id\":\"bbdbba90ce3f41b2a68d2b158c8e4631\",\"plot_id\":\"3010\"},\"id\":\"3016\",\"type\":\"panel.models.comm_manager.CommManager\"},{\"attributes\":{\"button_type\":\"light\",\"icon\":null,\"label\":\"How to use the app\",\"margin\":[5,10,5,10],\"sizing_mode\":\"stretch_width\",\"subscribed_events\":[\"button_click\"],\"width\":100},\"id\":\"3014\",\"type\":\"Button\"},{\"attributes\":{\"button_type\":\"light\",\"icon\":null,\"label\":\"Introduction\",\"margin\":[5,10,5,10],\"sizing_mode\":\"stretch_width\",\"subscribed_events\":[\"button_click\"],\"width\":100},\"id\":\"3011\",\"type\":\"Button\"},{\"attributes\":{\"button_type\":\"light\",\"icon\":null,\"label\":\"Transforming Data\",\"margin\":[5,10,5,10],\"sizing_mode\":\"stretch_width\",\"subscribed_events\":[\"button_click\"],\"width\":100},\"id\":\"3013\",\"type\":\"Button\"}],\"root_ids\":[\"3010\",\"3016\"]},\"title\":\"Bokeh Application\",\"version\":\"2.4.3\"}};\n",
       "    var render_items = [{\"docid\":\"a42274db-baea-463e-b805-b2a6b89c1f79\",\"root_ids\":[\"3010\"],\"roots\":{\"3010\":\"875b6943-c71f-46c8-9616-fa0807d9f2fb\"}}];\n",
       "    root.Bokeh.embed.embed_items_notebook(docs_json, render_items);\n",
       "  }\n",
       "  if (root.Bokeh !== undefined && root.Bokeh.Panel !== undefined && ( root['vega'] !== undefined)) {\n",
       "    embed_document(root);\n",
       "  } else {\n",
       "    var attempts = 0;\n",
       "    var timer = setInterval(function(root) {\n",
       "      if (root.Bokeh !== undefined && root.Bokeh.Panel !== undefined && (root['vega'] !== undefined)) {\n",
       "        clearInterval(timer);\n",
       "        embed_document(root);\n",
       "      } else if (document.readyState == \"complete\") {\n",
       "        attempts++;\n",
       "        if (attempts > 200) {\n",
       "          clearInterval(timer);\n",
       "          console.log(\"Bokeh: ERROR: Unable to run BokehJS code because BokehJS library is missing\");\n",
       "        }\n",
       "      }\n",
       "    }, 25, root)\n",
       "  }\n",
       "})(window);</script>"
      ],
      "text/plain": [
       "Row(margin=(20, 0, 0, 0), sizing_mode='stretch_width')\n",
       "    [0] Button(button_type='light', name='Introduction', sizing_mode='stretch_width', width=100)\n",
       "    [1] Button(button_type='light', name='Supported Files', sizing_mode='stretch_width', width=100)\n",
       "    [2] Button(button_type='light', name='Transforming Data', sizing_mode='stretch_width', width=100)\n",
       "    [3] Button(button_type='light', name='How to use the app', sizing_mode='stretch_width', width=100)\n",
       "    [4] Button(button_type='light', name='BIDS Computational D..., sizing_mode='stretch_width', width=100)"
      ]
     },
     "execution_count": 61,
     "metadata": {
      "application/vnd.holoviews_exec.v0+json": {
       "id": "3010"
      }
     },
     "output_type": "execute_result"
    }
   ],
   "source": [
    "# user guide v2\n",
    "intro = pn.widgets.Button(name='Introduction', button_type='light', value=True, width=100)\n",
    "sup_files = pn.widgets.Button(name='Supported Files', button_type='light', width=100)\n",
    "transform = pn.widgets.Button(name='Transforming Data', button_type='light', width=100)\n",
    "how_to = pn.widgets.Button(name='How to use the app', button_type='light', width=100)\n",
    "bep034 = pn.widgets.Button(name='BIDS Computational Data Standard', button_type='light', width=100)\n",
    "\n",
    "ug_sidebar = pn.Row(\n",
    "    intro,\n",
    "    sup_files,\n",
    "    transform,\n",
    "    how_to,\n",
    "    bep034,\n",
    "    margin=(20, 0, 0, 0)\n",
    ")\n",
    "\n",
    "ug_sidebar"
   ]
  },
  {
   "cell_type": "code",
   "execution_count": 53,
   "id": "ec891fad",
   "metadata": {},
   "outputs": [
    {
     "data": {},
     "metadata": {},
     "output_type": "display_data"
    },
    {
     "data": {
      "application/vnd.holoviews_exec.v0+json": "",
      "text/html": [
       "<div id='2604'>\n",
       "  <div class=\"bk-root\" id=\"85b5cb3c-d0a3-4844-b434-fbf987619aab\" data-root-id=\"2604\"></div>\n",
       "</div>\n",
       "<script type=\"application/javascript\">(function(root) {\n",
       "  function embed_document(root) {\n",
       "    var docs_json = {\"d85dff1c-5b25-4a46-b589-313fe25debcd\":{\"defs\":[{\"extends\":null,\"module\":null,\"name\":\"ReactiveHTML1\",\"overrides\":[],\"properties\":[]},{\"extends\":null,\"module\":null,\"name\":\"FlexBox1\",\"overrides\":[],\"properties\":[{\"default\":\"flex-start\",\"kind\":null,\"name\":\"align_content\"},{\"default\":\"flex-start\",\"kind\":null,\"name\":\"align_items\"},{\"default\":\"row\",\"kind\":null,\"name\":\"flex_direction\"},{\"default\":\"wrap\",\"kind\":null,\"name\":\"flex_wrap\"},{\"default\":\"flex-start\",\"kind\":null,\"name\":\"justify_content\"}]},{\"extends\":null,\"module\":null,\"name\":\"GridStack1\",\"overrides\":[],\"properties\":[{\"default\":\"warn\",\"kind\":null,\"name\":\"mode\"},{\"default\":null,\"kind\":null,\"name\":\"ncols\"},{\"default\":null,\"kind\":null,\"name\":\"nrows\"},{\"default\":true,\"kind\":null,\"name\":\"allow_resize\"},{\"default\":true,\"kind\":null,\"name\":\"allow_drag\"},{\"default\":[],\"kind\":null,\"name\":\"state\"}]},{\"extends\":null,\"module\":null,\"name\":\"click1\",\"overrides\":[],\"properties\":[{\"default\":\"\",\"kind\":null,\"name\":\"terminal_output\"},{\"default\":\"\",\"kind\":null,\"name\":\"debug_name\"},{\"default\":0,\"kind\":null,\"name\":\"clears\"}]},{\"extends\":null,\"module\":null,\"name\":\"NotificationAreaBase1\",\"overrides\":[],\"properties\":[{\"default\":\"bottom-right\",\"kind\":null,\"name\":\"position\"},{\"default\":0,\"kind\":null,\"name\":\"_clear\"}]},{\"extends\":null,\"module\":null,\"name\":\"NotificationArea1\",\"overrides\":[],\"properties\":[{\"default\":[],\"kind\":null,\"name\":\"notifications\"},{\"default\":\"bottom-right\",\"kind\":null,\"name\":\"position\"},{\"default\":0,\"kind\":null,\"name\":\"_clear\"},{\"default\":[{\"background\":\"#ffc107\",\"icon\":{\"className\":\"fas fa-exclamation-triangle\",\"color\":\"white\",\"tagName\":\"i\"},\"type\":\"warning\"},{\"background\":\"#007bff\",\"icon\":{\"className\":\"fas fa-info-circle\",\"color\":\"white\",\"tagName\":\"i\"},\"type\":\"info\"}],\"kind\":null,\"name\":\"types\"}]},{\"extends\":null,\"module\":null,\"name\":\"Notification\",\"overrides\":[],\"properties\":[{\"default\":null,\"kind\":null,\"name\":\"background\"},{\"default\":3000,\"kind\":null,\"name\":\"duration\"},{\"default\":null,\"kind\":null,\"name\":\"icon\"},{\"default\":\"\",\"kind\":null,\"name\":\"message\"},{\"default\":null,\"kind\":null,\"name\":\"notification_type\"},{\"default\":false,\"kind\":null,\"name\":\"_destroyed\"}]},{\"extends\":null,\"module\":null,\"name\":\"TemplateActions1\",\"overrides\":[],\"properties\":[{\"default\":0,\"kind\":null,\"name\":\"open_modal\"},{\"default\":0,\"kind\":null,\"name\":\"close_modal\"}]},{\"extends\":null,\"module\":null,\"name\":\"MaterialTemplateActions1\",\"overrides\":[],\"properties\":[{\"default\":0,\"kind\":null,\"name\":\"open_modal\"},{\"default\":0,\"kind\":null,\"name\":\"close_modal\"}]}],\"roots\":{\"references\":[{\"attributes\":{\"css_classes\":[\"markdown\"],\"margin\":[5,5,5,5],\"name\":\"Markdown00701\",\"sizing_mode\":\"stretch_width\",\"text\":\"&lt;h4&gt;Introduction &lt;a name=&quot;intro&quot;&gt;&lt;/a&gt;&lt;/h4&gt;\\n&lt;p&gt;Lorem ipsum dolor sit amet, consectetur adipiscing elit, sed do eiusmod tempor incididunt ut labore et dolore magna aliqua. Et ultrices neque ornare aenean euismod elementum nisi. Tincidunt ornare massa eget egestas purus viverra. Quis blandit turpis cursus in hac. Dictum varius duis at consectetur lorem donec. Phasellus faucibus scelerisque eleifend donec pretium vulputate sapien nec. Ipsum nunc aliquet bibendum enim facilisis gravida neque. Odio aenean sed adipiscing diam donec. Massa tincidunt nunc pulvinar sapien et. Nibh nisl condimentum id venenatis a condimentum. Congue quisque egestas diam in arcu cursus. Aenean vel elit scelerisque mauris. Sit amet justo donec enim. Habitant morbi tristique senectus et.&lt;/p&gt;\\n&lt;p&gt;Praesent elementum facilisis leo vel fringilla est ullamcorper. Urna molestie at elementum eu facilisis sed. Maecenas pharetra convallis posuere morbi leo urna molestie. Ultricies lacus sed turpis tincidunt id aliquet risus feugiat in. Facilisi cras fermentum odio eu feugiat pretium nibh ipsum. Sem integer vitae justo eget magna fermentum iaculis. Sollicitudin tempor id eu nisl nunc mi ipsum faucibus vitae. Mauris augue neque gravida in fermentum. Scelerisque eu ultrices vitae auctor eu augue. Sed cras ornare arcu dui.&lt;/p&gt;\\n&lt;p&gt;In mollis nunc sed id semper risus. Velit ut tortor pretium viverra suspendisse. Viverra adipiscing at in tellus integer. Ultricies lacus sed turpis tincidunt. Vitae purus faucibus ornare suspendisse. Arcu cursus vitae congue mauris rhoncus aenean vel elit. Vestibulum lorem sed risus ultricies tristique. A erat nam at lectus urna duis convallis. Etiam erat velit scelerisque in dictum non. Sit amet facilisis magna etiam tempor. Purus gravida quis blandit turpis cursus in hac. Ultricies tristique nulla aliquet enim tortor at auctor.&lt;/p&gt;\\n&lt;p&gt;Quam vulputate dignissim suspendisse in est. Adipiscing tristique risus nec feugiat. Faucibus interdum posuere lorem ipsum dolor sit amet consectetur. Et leo duis ut diam quam nulla porttitor massa. Nisl nisi scelerisque eu ultrices vitae. Sit amet cursus sit amet dictum. Sodales ut eu sem integer vitae justo eget magna. Arcu vitae elementum curabitur vitae. Lobortis elementum nibh tellus molestie. Sit amet est placerat in egestas erat imperdiet sed euismod. Quis enim lobortis scelerisque fermentum dui faucibus in. Nunc mattis enim ut tellus. Accumsan tortor posuere ac ut consequat semper viverra nam libero.&lt;/p&gt;\\n&lt;p&gt;Est velit egestas dui id ornare arcu. A arcu cursus vitae congue mauris. Semper feugiat nibh sed pulvinar proin gravida hendrerit lectus. Malesuada fames ac turpis egestas sed tempus urna et pharetra. Tortor posuere ac ut consequat semper. Etiam dignissim diam quis enim. Leo vel orci porta non pulvinar neque laoreet suspendisse interdum. Ligula ullamcorper malesuada proin libero nunc consequat interdum varius. Eu scelerisque felis imperdiet proin fermentum leo vel. Auctor elit sed vulputate mi sit amet mauris. Et netus et malesuada fames ac turpis egestas. Nisl vel pretium lectus quam id. Amet risus nullam eget felis eget nunc. Tincidunt dui ut ornare lectus sit amet est. Eu consequat ac felis donec et odio pellentesque. Aliquam nulla facilisi cras fermentum odio eu feugiat pretium nibh. Et netus et malesuada fames ac turpis. Mi proin sed libero enim sed. Et malesuada fames ac turpis egestas integer eget aliquet.&lt;/p&gt;\"},\"id\":\"2605\",\"type\":\"panel.models.markup.HTML\"},{\"attributes\":{\"client_comm_id\":\"ce0fcfa92a3f40c5a4f9f2a00834ff42\",\"comm_id\":\"ef571041827643b6ae9f4c0747a27ff3\",\"plot_id\":\"2604\"},\"id\":\"2606\",\"type\":\"panel.models.comm_manager.CommManager\"},{\"attributes\":{\"children\":[{\"id\":\"2605\"}],\"margin\":[0,0,0,0],\"name\":\"Column00703\",\"sizing_mode\":\"stretch_width\"},\"id\":\"2604\",\"type\":\"Column\"}],\"root_ids\":[\"2604\",\"2606\"]},\"title\":\"Bokeh Application\",\"version\":\"2.4.3\"}};\n",
       "    var render_items = [{\"docid\":\"d85dff1c-5b25-4a46-b589-313fe25debcd\",\"root_ids\":[\"2604\"],\"roots\":{\"2604\":\"85b5cb3c-d0a3-4844-b434-fbf987619aab\"}}];\n",
       "    root.Bokeh.embed.embed_items_notebook(docs_json, render_items);\n",
       "  }\n",
       "  if (root.Bokeh !== undefined && root.Bokeh.Panel !== undefined && ( root['vega'] !== undefined)) {\n",
       "    embed_document(root);\n",
       "  } else {\n",
       "    var attempts = 0;\n",
       "    var timer = setInterval(function(root) {\n",
       "      if (root.Bokeh !== undefined && root.Bokeh.Panel !== undefined && (root['vega'] !== undefined)) {\n",
       "        clearInterval(timer);\n",
       "        embed_document(root);\n",
       "      } else if (document.readyState == \"complete\") {\n",
       "        attempts++;\n",
       "        if (attempts > 200) {\n",
       "          clearInterval(timer);\n",
       "          console.log(\"Bokeh: ERROR: Unable to run BokehJS code because BokehJS library is missing\");\n",
       "        }\n",
       "      }\n",
       "    }, 25, root)\n",
       "  }\n",
       "})(window);</script>"
      ],
      "text/plain": [
       "Column(sizing_mode='stretch_width')\n",
       "    [0] Markdown(str, sizing_mode='stretch_width')"
      ]
     },
     "execution_count": 53,
     "metadata": {
      "application/vnd.holoviews_exec.v0+json": {
       "id": "2604"
      }
     },
     "output_type": "execute_result"
    }
   ],
   "source": [
    "ug_main = pn.Column(pn.pane.Markdown('''\n",
    "#### Introduction <a name=\"intro\"></a>\n",
    "\n",
    "Lorem ipsum dolor sit amet, consectetur adipiscing elit, sed do eiusmod tempor incididunt ut labore et dolore magna aliqua. Et ultrices neque ornare aenean euismod elementum nisi. Tincidunt ornare massa eget egestas purus viverra. Quis blandit turpis cursus in hac. Dictum varius duis at consectetur lorem donec. Phasellus faucibus scelerisque eleifend donec pretium vulputate sapien nec. Ipsum nunc aliquet bibendum enim facilisis gravida neque. Odio aenean sed adipiscing diam donec. Massa tincidunt nunc pulvinar sapien et. Nibh nisl condimentum id venenatis a condimentum. Congue quisque egestas diam in arcu cursus. Aenean vel elit scelerisque mauris. Sit amet justo donec enim. Habitant morbi tristique senectus et.\n",
    "\n",
    "\n",
    "Praesent elementum facilisis leo vel fringilla est ullamcorper. Urna molestie at elementum eu facilisis sed. Maecenas pharetra convallis posuere morbi leo urna molestie. Ultricies lacus sed turpis tincidunt id aliquet risus feugiat in. Facilisi cras fermentum odio eu feugiat pretium nibh ipsum. Sem integer vitae justo eget magna fermentum iaculis. Sollicitudin tempor id eu nisl nunc mi ipsum faucibus vitae. Mauris augue neque gravida in fermentum. Scelerisque eu ultrices vitae auctor eu augue. Sed cras ornare arcu dui.\n",
    "\n",
    "\n",
    "In mollis nunc sed id semper risus. Velit ut tortor pretium viverra suspendisse. Viverra adipiscing at in tellus integer. Ultricies lacus sed turpis tincidunt. Vitae purus faucibus ornare suspendisse. Arcu cursus vitae congue mauris rhoncus aenean vel elit. Vestibulum lorem sed risus ultricies tristique. A erat nam at lectus urna duis convallis. Etiam erat velit scelerisque in dictum non. Sit amet facilisis magna etiam tempor. Purus gravida quis blandit turpis cursus in hac. Ultricies tristique nulla aliquet enim tortor at auctor.\n",
    "\n",
    "\n",
    "Quam vulputate dignissim suspendisse in est. Adipiscing tristique risus nec feugiat. Faucibus interdum posuere lorem ipsum dolor sit amet consectetur. Et leo duis ut diam quam nulla porttitor massa. Nisl nisi scelerisque eu ultrices vitae. Sit amet cursus sit amet dictum. Sodales ut eu sem integer vitae justo eget magna. Arcu vitae elementum curabitur vitae. Lobortis elementum nibh tellus molestie. Sit amet est placerat in egestas erat imperdiet sed euismod. Quis enim lobortis scelerisque fermentum dui faucibus in. Nunc mattis enim ut tellus. Accumsan tortor posuere ac ut consequat semper viverra nam libero.\n",
    "\n",
    "\n",
    "Est velit egestas dui id ornare arcu. A arcu cursus vitae congue mauris. Semper feugiat nibh sed pulvinar proin gravida hendrerit lectus. Malesuada fames ac turpis egestas sed tempus urna et pharetra. Tortor posuere ac ut consequat semper. Etiam dignissim diam quis enim. Leo vel orci porta non pulvinar neque laoreet suspendisse interdum. Ligula ullamcorper malesuada proin libero nunc consequat interdum varius. Eu scelerisque felis imperdiet proin fermentum leo vel. Auctor elit sed vulputate mi sit amet mauris. Et netus et malesuada fames ac turpis egestas. Nisl vel pretium lectus quam id. Amet risus nullam eget felis eget nunc. Tincidunt dui ut ornare lectus sit amet est. Eu consequat ac felis donec et odio pellentesque. Aliquam nulla facilisi cras fermentum odio eu feugiat pretium nibh. Et netus et malesuada fames ac turpis. Mi proin sed libero enim sed. Et malesuada fames ac turpis egestas integer eget aliquet.'''))\n",
    "\n",
    "ug_main"
   ]
  },
  {
   "cell_type": "code",
   "execution_count": 62,
   "id": "1c54047e",
   "metadata": {},
   "outputs": [
    {
     "data": {},
     "metadata": {},
     "output_type": "display_data"
    },
    {
     "data": {
      "application/vnd.holoviews_exec.v0+json": "",
      "text/html": [
       "<div id='3017'>\n",
       "  <div class=\"bk-root\" id=\"5aaa5db8-a67f-4a89-960f-5502a294ebd3\" data-root-id=\"3017\"></div>\n",
       "</div>\n",
       "<script type=\"application/javascript\">(function(root) {\n",
       "  function embed_document(root) {\n",
       "    var docs_json = {\"805adf60-4d8b-418f-9135-c61368d59294\":{\"defs\":[{\"extends\":null,\"module\":null,\"name\":\"ReactiveHTML1\",\"overrides\":[],\"properties\":[]},{\"extends\":null,\"module\":null,\"name\":\"FlexBox1\",\"overrides\":[],\"properties\":[{\"default\":\"flex-start\",\"kind\":null,\"name\":\"align_content\"},{\"default\":\"flex-start\",\"kind\":null,\"name\":\"align_items\"},{\"default\":\"row\",\"kind\":null,\"name\":\"flex_direction\"},{\"default\":\"wrap\",\"kind\":null,\"name\":\"flex_wrap\"},{\"default\":\"flex-start\",\"kind\":null,\"name\":\"justify_content\"}]},{\"extends\":null,\"module\":null,\"name\":\"GridStack1\",\"overrides\":[],\"properties\":[{\"default\":\"warn\",\"kind\":null,\"name\":\"mode\"},{\"default\":null,\"kind\":null,\"name\":\"ncols\"},{\"default\":null,\"kind\":null,\"name\":\"nrows\"},{\"default\":true,\"kind\":null,\"name\":\"allow_resize\"},{\"default\":true,\"kind\":null,\"name\":\"allow_drag\"},{\"default\":[],\"kind\":null,\"name\":\"state\"}]},{\"extends\":null,\"module\":null,\"name\":\"click1\",\"overrides\":[],\"properties\":[{\"default\":\"\",\"kind\":null,\"name\":\"terminal_output\"},{\"default\":\"\",\"kind\":null,\"name\":\"debug_name\"},{\"default\":0,\"kind\":null,\"name\":\"clears\"}]},{\"extends\":null,\"module\":null,\"name\":\"NotificationAreaBase1\",\"overrides\":[],\"properties\":[{\"default\":\"bottom-right\",\"kind\":null,\"name\":\"position\"},{\"default\":0,\"kind\":null,\"name\":\"_clear\"}]},{\"extends\":null,\"module\":null,\"name\":\"NotificationArea1\",\"overrides\":[],\"properties\":[{\"default\":[],\"kind\":null,\"name\":\"notifications\"},{\"default\":\"bottom-right\",\"kind\":null,\"name\":\"position\"},{\"default\":0,\"kind\":null,\"name\":\"_clear\"},{\"default\":[{\"background\":\"#ffc107\",\"icon\":{\"className\":\"fas fa-exclamation-triangle\",\"color\":\"white\",\"tagName\":\"i\"},\"type\":\"warning\"},{\"background\":\"#007bff\",\"icon\":{\"className\":\"fas fa-info-circle\",\"color\":\"white\",\"tagName\":\"i\"},\"type\":\"info\"}],\"kind\":null,\"name\":\"types\"}]},{\"extends\":null,\"module\":null,\"name\":\"Notification\",\"overrides\":[],\"properties\":[{\"default\":null,\"kind\":null,\"name\":\"background\"},{\"default\":3000,\"kind\":null,\"name\":\"duration\"},{\"default\":null,\"kind\":null,\"name\":\"icon\"},{\"default\":\"\",\"kind\":null,\"name\":\"message\"},{\"default\":null,\"kind\":null,\"name\":\"notification_type\"},{\"default\":false,\"kind\":null,\"name\":\"_destroyed\"}]},{\"extends\":null,\"module\":null,\"name\":\"TemplateActions1\",\"overrides\":[],\"properties\":[{\"default\":0,\"kind\":null,\"name\":\"open_modal\"},{\"default\":0,\"kind\":null,\"name\":\"close_modal\"}]},{\"extends\":null,\"module\":null,\"name\":\"MaterialTemplateActions1\",\"overrides\":[],\"properties\":[{\"default\":0,\"kind\":null,\"name\":\"open_modal\"},{\"default\":0,\"kind\":null,\"name\":\"close_modal\"}]}],\"roots\":{\"references\":[{\"attributes\":{\"button_type\":\"light\",\"icon\":null,\"label\":\"Transforming Data\",\"margin\":[5,10,5,10],\"sizing_mode\":\"stretch_width\",\"subscribed_events\":[\"button_click\"],\"width\":100},\"id\":\"3021\",\"type\":\"Button\"},{\"attributes\":{\"button_type\":\"light\",\"icon\":null,\"label\":\"How to use the app\",\"margin\":[5,10,5,10],\"sizing_mode\":\"stretch_width\",\"subscribed_events\":[\"button_click\"],\"width\":100},\"id\":\"3022\",\"type\":\"Button\"},{\"attributes\":{\"css_classes\":[\"markdown\"],\"margin\":[5,5,5,5],\"name\":\"Markdown00701\",\"sizing_mode\":\"stretch_width\",\"text\":\"&lt;h4&gt;Introduction &lt;a name=&quot;intro&quot;&gt;&lt;/a&gt;&lt;/h4&gt;\\n&lt;p&gt;Lorem ipsum dolor sit amet, consectetur adipiscing elit, sed do eiusmod tempor incididunt ut labore et dolore magna aliqua. Et ultrices neque ornare aenean euismod elementum nisi. Tincidunt ornare massa eget egestas purus viverra. Quis blandit turpis cursus in hac. Dictum varius duis at consectetur lorem donec. Phasellus faucibus scelerisque eleifend donec pretium vulputate sapien nec. Ipsum nunc aliquet bibendum enim facilisis gravida neque. Odio aenean sed adipiscing diam donec. Massa tincidunt nunc pulvinar sapien et. Nibh nisl condimentum id venenatis a condimentum. Congue quisque egestas diam in arcu cursus. Aenean vel elit scelerisque mauris. Sit amet justo donec enim. Habitant morbi tristique senectus et.&lt;/p&gt;\\n&lt;p&gt;Praesent elementum facilisis leo vel fringilla est ullamcorper. Urna molestie at elementum eu facilisis sed. Maecenas pharetra convallis posuere morbi leo urna molestie. Ultricies lacus sed turpis tincidunt id aliquet risus feugiat in. Facilisi cras fermentum odio eu feugiat pretium nibh ipsum. Sem integer vitae justo eget magna fermentum iaculis. Sollicitudin tempor id eu nisl nunc mi ipsum faucibus vitae. Mauris augue neque gravida in fermentum. Scelerisque eu ultrices vitae auctor eu augue. Sed cras ornare arcu dui.&lt;/p&gt;\\n&lt;p&gt;In mollis nunc sed id semper risus. Velit ut tortor pretium viverra suspendisse. Viverra adipiscing at in tellus integer. Ultricies lacus sed turpis tincidunt. Vitae purus faucibus ornare suspendisse. Arcu cursus vitae congue mauris rhoncus aenean vel elit. Vestibulum lorem sed risus ultricies tristique. A erat nam at lectus urna duis convallis. Etiam erat velit scelerisque in dictum non. Sit amet facilisis magna etiam tempor. Purus gravida quis blandit turpis cursus in hac. Ultricies tristique nulla aliquet enim tortor at auctor.&lt;/p&gt;\\n&lt;p&gt;Quam vulputate dignissim suspendisse in est. Adipiscing tristique risus nec feugiat. Faucibus interdum posuere lorem ipsum dolor sit amet consectetur. Et leo duis ut diam quam nulla porttitor massa. Nisl nisi scelerisque eu ultrices vitae. Sit amet cursus sit amet dictum. Sodales ut eu sem integer vitae justo eget magna. Arcu vitae elementum curabitur vitae. Lobortis elementum nibh tellus molestie. Sit amet est placerat in egestas erat imperdiet sed euismod. Quis enim lobortis scelerisque fermentum dui faucibus in. Nunc mattis enim ut tellus. Accumsan tortor posuere ac ut consequat semper viverra nam libero.&lt;/p&gt;\\n&lt;p&gt;Est velit egestas dui id ornare arcu. A arcu cursus vitae congue mauris. Semper feugiat nibh sed pulvinar proin gravida hendrerit lectus. Malesuada fames ac turpis egestas sed tempus urna et pharetra. Tortor posuere ac ut consequat semper. Etiam dignissim diam quis enim. Leo vel orci porta non pulvinar neque laoreet suspendisse interdum. Ligula ullamcorper malesuada proin libero nunc consequat interdum varius. Eu scelerisque felis imperdiet proin fermentum leo vel. Auctor elit sed vulputate mi sit amet mauris. Et netus et malesuada fames ac turpis egestas. Nisl vel pretium lectus quam id. Amet risus nullam eget felis eget nunc. Tincidunt dui ut ornare lectus sit amet est. Eu consequat ac felis donec et odio pellentesque. Aliquam nulla facilisi cras fermentum odio eu feugiat pretium nibh. Et netus et malesuada fames ac turpis. Mi proin sed libero enim sed. Et malesuada fames ac turpis egestas integer eget aliquet.&lt;/p&gt;\"},\"id\":\"3025\",\"type\":\"panel.models.markup.HTML\"},{\"attributes\":{\"button_type\":\"light\",\"icon\":null,\"label\":\"Supported Files\",\"margin\":[5,10,5,10],\"sizing_mode\":\"stretch_width\",\"subscribed_events\":[\"button_click\"],\"width\":100},\"id\":\"3020\",\"type\":\"Button\"},{\"attributes\":{\"button_type\":\"light\",\"icon\":null,\"label\":\"Introduction\",\"margin\":[5,10,5,10],\"sizing_mode\":\"stretch_width\",\"subscribed_events\":[\"button_click\"],\"width\":100},\"id\":\"3019\",\"type\":\"Button\"},{\"attributes\":{\"children\":[{\"id\":\"3019\"},{\"id\":\"3020\"},{\"id\":\"3021\"},{\"id\":\"3022\"},{\"id\":\"3023\"}],\"margin\":[20,0,0,0],\"name\":\"Row00811\",\"sizing_mode\":\"stretch_width\"},\"id\":\"3018\",\"type\":\"Row\"},{\"attributes\":{\"children\":[{\"id\":\"3025\"}],\"margin\":[0,0,0,0],\"name\":\"Column00703\",\"sizing_mode\":\"stretch_width\"},\"id\":\"3024\",\"type\":\"Column\"},{\"attributes\":{\"client_comm_id\":\"6154a0e05f164d31b1087ba6839a552a\",\"comm_id\":\"3e8dd54f48fe4ba08b5ab3774bccf167\",\"plot_id\":\"3017\"},\"id\":\"3026\",\"type\":\"panel.models.comm_manager.CommManager\"},{\"attributes\":{\"button_type\":\"light\",\"icon\":null,\"label\":\"BIDS Computational Data Standard\",\"margin\":[5,10,5,10],\"sizing_mode\":\"stretch_width\",\"subscribed_events\":[\"button_click\"],\"width\":100},\"id\":\"3023\",\"type\":\"Button\"},{\"attributes\":{\"children\":[{\"id\":\"3018\"},{\"id\":\"3024\"}],\"margin\":[0,0,0,0],\"name\":\"Column00814\",\"sizing_mode\":\"stretch_width\"},\"id\":\"3017\",\"type\":\"Column\"}],\"root_ids\":[\"3017\",\"3026\"]},\"title\":\"Bokeh Application\",\"version\":\"2.4.3\"}};\n",
       "    var render_items = [{\"docid\":\"805adf60-4d8b-418f-9135-c61368d59294\",\"root_ids\":[\"3017\"],\"roots\":{\"3017\":\"5aaa5db8-a67f-4a89-960f-5502a294ebd3\"}}];\n",
       "    root.Bokeh.embed.embed_items_notebook(docs_json, render_items);\n",
       "  }\n",
       "  if (root.Bokeh !== undefined && root.Bokeh.Panel !== undefined && ( root['vega'] !== undefined)) {\n",
       "    embed_document(root);\n",
       "  } else {\n",
       "    var attempts = 0;\n",
       "    var timer = setInterval(function(root) {\n",
       "      if (root.Bokeh !== undefined && root.Bokeh.Panel !== undefined && (root['vega'] !== undefined)) {\n",
       "        clearInterval(timer);\n",
       "        embed_document(root);\n",
       "      } else if (document.readyState == \"complete\") {\n",
       "        attempts++;\n",
       "        if (attempts > 200) {\n",
       "          clearInterval(timer);\n",
       "          console.log(\"Bokeh: ERROR: Unable to run BokehJS code because BokehJS library is missing\");\n",
       "        }\n",
       "      }\n",
       "    }, 25, root)\n",
       "  }\n",
       "})(window);</script>"
      ],
      "text/plain": [
       "Column(sizing_mode='stretch_width')\n",
       "    [0] Row(margin=(20, 0, 0, 0), sizing_mode='stretch_width')\n",
       "        [0] Button(button_type='light', name='Introduction', sizing_mode='stretch_width', width=100)\n",
       "        [1] Button(button_type='light', name='Supported Files', sizing_mode='stretch_width', width=100)\n",
       "        [2] Button(button_type='light', name='Transforming Data', sizing_mode='stretch_width', width=100)\n",
       "        [3] Button(button_type='light', name='How to use the app', sizing_mode='stretch_width', width=100)\n",
       "        [4] Button(button_type='light', name='BIDS Computational D..., sizing_mode='stretch_width', width=100)\n",
       "    [1] Column(sizing_mode='stretch_width')\n",
       "        [0] Markdown(str, sizing_mode='stretch_width')"
      ]
     },
     "execution_count": 62,
     "metadata": {
      "application/vnd.holoviews_exec.v0+json": {
       "id": "3017"
      }
     },
     "output_type": "execute_result"
    }
   ],
   "source": [
    "ug_combined = pn.Column(ug_sidebar, ug_main)\n",
    "ug_combined"
   ]
  },
  {
   "cell_type": "code",
   "execution_count": 66,
   "id": "429a255f",
   "metadata": {},
   "outputs": [
    {
     "data": {},
     "metadata": {},
     "output_type": "display_data"
    },
    {
     "data": {
      "application/vnd.holoviews_exec.v0+json": "",
      "text/html": [
       "<div id='3296'>\n",
       "  <div class=\"bk-root\" id=\"1c8305b2-7a08-4ebf-ac98-aad930f7671a\" data-root-id=\"3296\"></div>\n",
       "</div>\n",
       "<script type=\"application/javascript\">(function(root) {\n",
       "  function embed_document(root) {\n",
       "    var docs_json = {\"e127d40d-694e-4992-8f74-dc4cf54128c1\":{\"defs\":[{\"extends\":null,\"module\":null,\"name\":\"ReactiveHTML1\",\"overrides\":[],\"properties\":[]},{\"extends\":null,\"module\":null,\"name\":\"FlexBox1\",\"overrides\":[],\"properties\":[{\"default\":\"flex-start\",\"kind\":null,\"name\":\"align_content\"},{\"default\":\"flex-start\",\"kind\":null,\"name\":\"align_items\"},{\"default\":\"row\",\"kind\":null,\"name\":\"flex_direction\"},{\"default\":\"wrap\",\"kind\":null,\"name\":\"flex_wrap\"},{\"default\":\"flex-start\",\"kind\":null,\"name\":\"justify_content\"}]},{\"extends\":null,\"module\":null,\"name\":\"GridStack1\",\"overrides\":[],\"properties\":[{\"default\":\"warn\",\"kind\":null,\"name\":\"mode\"},{\"default\":null,\"kind\":null,\"name\":\"ncols\"},{\"default\":null,\"kind\":null,\"name\":\"nrows\"},{\"default\":true,\"kind\":null,\"name\":\"allow_resize\"},{\"default\":true,\"kind\":null,\"name\":\"allow_drag\"},{\"default\":[],\"kind\":null,\"name\":\"state\"}]},{\"extends\":null,\"module\":null,\"name\":\"click1\",\"overrides\":[],\"properties\":[{\"default\":\"\",\"kind\":null,\"name\":\"terminal_output\"},{\"default\":\"\",\"kind\":null,\"name\":\"debug_name\"},{\"default\":0,\"kind\":null,\"name\":\"clears\"}]},{\"extends\":null,\"module\":null,\"name\":\"NotificationAreaBase1\",\"overrides\":[],\"properties\":[{\"default\":\"bottom-right\",\"kind\":null,\"name\":\"position\"},{\"default\":0,\"kind\":null,\"name\":\"_clear\"}]},{\"extends\":null,\"module\":null,\"name\":\"NotificationArea1\",\"overrides\":[],\"properties\":[{\"default\":[],\"kind\":null,\"name\":\"notifications\"},{\"default\":\"bottom-right\",\"kind\":null,\"name\":\"position\"},{\"default\":0,\"kind\":null,\"name\":\"_clear\"},{\"default\":[{\"background\":\"#ffc107\",\"icon\":{\"className\":\"fas fa-exclamation-triangle\",\"color\":\"white\",\"tagName\":\"i\"},\"type\":\"warning\"},{\"background\":\"#007bff\",\"icon\":{\"className\":\"fas fa-info-circle\",\"color\":\"white\",\"tagName\":\"i\"},\"type\":\"info\"}],\"kind\":null,\"name\":\"types\"}]},{\"extends\":null,\"module\":null,\"name\":\"Notification\",\"overrides\":[],\"properties\":[{\"default\":null,\"kind\":null,\"name\":\"background\"},{\"default\":3000,\"kind\":null,\"name\":\"duration\"},{\"default\":null,\"kind\":null,\"name\":\"icon\"},{\"default\":\"\",\"kind\":null,\"name\":\"message\"},{\"default\":null,\"kind\":null,\"name\":\"notification_type\"},{\"default\":false,\"kind\":null,\"name\":\"_destroyed\"}]},{\"extends\":null,\"module\":null,\"name\":\"TemplateActions1\",\"overrides\":[],\"properties\":[{\"default\":0,\"kind\":null,\"name\":\"open_modal\"},{\"default\":0,\"kind\":null,\"name\":\"close_modal\"}]},{\"extends\":null,\"module\":null,\"name\":\"MaterialTemplateActions1\",\"overrides\":[],\"properties\":[{\"default\":0,\"kind\":null,\"name\":\"open_modal\"},{\"default\":0,\"kind\":null,\"name\":\"close_modal\"}]}],\"roots\":{\"references\":[{\"attributes\":{\"icon\":null,\"label\":\"\\u21bb\",\"margin\":[5,15,0,10],\"sizing_mode\":\"stretch_width\",\"subscribed_events\":[\"button_click\"],\"width\":25},\"id\":\"3306\",\"type\":\"Button\"},{\"attributes\":{\"disabled\":true,\"icon\":null,\"label\":\"\\u2b06\",\"margin\":[5,10,5,10],\"sizing_mode\":\"stretch_width\",\"subscribed_events\":[\"button_click\"],\"width\":25},\"id\":\"3332\",\"type\":\"Button\"},{\"attributes\":{\"children\":[{\"id\":\"3314\"},{\"id\":\"3315\"},{\"id\":\"3318\"}],\"margin\":[0,0,0,0],\"name\":\"Column00290\",\"sizing_mode\":\"stretch_width\"},\"id\":\"3313\",\"type\":\"Column\"},{\"attributes\":{\"client_comm_id\":\"4fc94fed0916419c8ee6bf9ce377c8d5\",\"comm_id\":\"afaaf523430f440a9e38df14e69b3443\",\"plot_id\":\"3296\"},\"id\":\"3365\",\"type\":\"panel.models.comm_manager.CommManager\"},{\"attributes\":{\"css_classes\":[\"markdown\"],\"margin\":[0,0,0,0],\"name\":\"Markdown00301\",\"sizing_mode\":\"stretch_width\",\"text\":\"&lt;h3&gt;File Browser&lt;/h3&gt;\"},\"id\":\"3339\",\"type\":\"panel.models.markup.HTML\"},{\"attributes\":{\"button_type\":\"light\",\"icon\":null,\"label\":\"Introduction\",\"margin\":[5,10,5,10],\"sizing_mode\":\"stretch_width\",\"subscribed_events\":[\"button_click\"],\"width\":100},\"id\":\"3357\",\"type\":\"Button\"},{\"attributes\":{\"margin\":[5,5,5,5],\"name\":\"VSpacer00289\",\"sizing_mode\":\"stretch_height\"},\"id\":\"3318\",\"type\":\"Spacer\"},{\"attributes\":{\"icon\":null,\"label\":\">>\",\"margin\":[5,10,5,10],\"sizing_mode\":\"stretch_width\",\"subscribed_events\":[\"button_click\"],\"width\":50},\"id\":\"3316\",\"type\":\"Button\"},{\"attributes\":{\"children\":[{\"id\":\"3320\"},{\"id\":\"3321\"},{\"id\":\"3322\"}],\"margin\":[0,0,0,0],\"name\":\"Column00286\",\"sizing_mode\":\"stretch_both\"},\"id\":\"3319\",\"type\":\"Column\"},{\"attributes\":{\"children\":[{\"id\":\"3356\"},{\"id\":\"3362\"}],\"margin\":[0,0,0,0],\"name\":\"Column00814\",\"sizing_mode\":\"stretch_width\"},\"id\":\"3355\",\"type\":\"Column\"},{\"attributes\":{\"icon\":null,\"label\":\">>\",\"margin\":[5,10,5,10],\"sizing_mode\":\"stretch_width\",\"subscribed_events\":[\"button_click\"],\"width\":50},\"id\":\"3345\",\"type\":\"Button\"},{\"attributes\":{\"margin\":[5,5,5,5],\"name\":\"VSpacer00289\",\"sizing_mode\":\"stretch_height\"},\"id\":\"3347\",\"type\":\"Spacer\"},{\"attributes\":{\"css_classes\":[\"markdown\"],\"margin\":[5,5,5,5],\"name\":\"Markdown00272\",\"sizing_mode\":\"stretch_width\",\"text\":\"&lt;h3&gt;Generated Folder&lt;/h3&gt;\\n&lt;div class=&quot;codehilite&quot;&gt;&lt;pre&gt;&lt;span&gt;&lt;/span&gt;&lt;code&gt;tsv/\\n    example1.tsv\\n    example2.tsv\\njson/\\n    example1.json\\n    example2.json\\n&lt;/code&gt;&lt;/pre&gt;&lt;/div&gt;\"},\"id\":\"3352\",\"type\":\"panel.models.markup.HTML\"},{\"attributes\":{\"child\":{\"id\":\"3355\"},\"name\":\"Column00814\",\"title\":\"User Guide\"},\"id\":\"3364\",\"type\":\"Panel\"},{\"attributes\":{\"css_classes\":[\"markdown\"],\"margin\":[5,5,5,5],\"name\":\"Markdown00272\",\"sizing_mode\":\"stretch_width\",\"text\":\"&lt;h3&gt;Generated Folder&lt;/h3&gt;\\n&lt;div class=&quot;codehilite&quot;&gt;&lt;pre&gt;&lt;span&gt;&lt;/span&gt;&lt;code&gt;tsv/\\n    example1.tsv\\n    example2.tsv\\njson/\\n    example1.json\\n    example2.json\\n&lt;/code&gt;&lt;/pre&gt;&lt;/div&gt;\"},\"id\":\"3323\",\"type\":\"panel.models.markup.HTML\"},{\"attributes\":{\"children\":[{\"id\":\"3349\"},{\"id\":\"3350\"},{\"id\":\"3351\"}],\"margin\":[0,0,0,0],\"name\":\"Column00286\",\"sizing_mode\":\"stretch_both\"},\"id\":\"3348\",\"type\":\"Column\"},{\"attributes\":{\"children\":[{\"id\":\"3363\"}],\"margin\":[0,0,0,0],\"name\":\"Column00703\",\"sizing_mode\":\"stretch_width\"},\"id\":\"3362\",\"type\":\"Column\"},{\"attributes\":{\"css_classes\":[\"markdown\"],\"margin\":[5,5,5,5],\"name\":\"Markdown00270\",\"sizing_mode\":\"stretch_width\",\"text\":\"&lt;h2&gt;Welcome!&lt;/h2&gt;\\n&lt;p&gt;Here you can select the folder(s) that you want to transform. Beware that we are using recursive walk to select all the content\\navailable in the specified folder. That means if the folder contains a sub-folder, we will transform the content if it falls\\ninto the accepted file formats.&lt;/p&gt;\\n&lt;p&gt;Below you will see the generated folder with content as specified at &lt;a href=&quot;https://docs.google.com/document/d/1NT1ERdL41oz3NibIFRyVQ2iR8xH-dKY-lRCB4eyVeRo/edit?usp=sharing&quot;&gt;BIDS Computational Model Specification&lt;/a&gt;.\\nIf you are happy with the results, press &lt;code&gt;Transform Files&lt;/code&gt; button at the bottom of the screen. We will not start generation\\nuntil you press the button below.&lt;/p&gt;\\n&lt;h3&gt;Select Folder(s)&lt;/h3&gt;\"},\"id\":\"3298\",\"type\":\"panel.models.markup.HTML\"},{\"attributes\":{\"css_classes\":[\"markdown\"],\"margin\":[5,5,5,5],\"name\":\"Markdown00270\",\"sizing_mode\":\"stretch_width\",\"text\":\"&lt;h2&gt;Welcome!&lt;/h2&gt;\\n&lt;p&gt;Here you can select the folder(s) that you want to transform. Beware that we are using recursive walk to select all the content\\navailable in the specified folder. That means if the folder contains a sub-folder, we will transform the content if it falls\\ninto the accepted file formats.&lt;/p&gt;\\n&lt;p&gt;Below you will see the generated folder with content as specified at &lt;a href=&quot;https://docs.google.com/document/d/1NT1ERdL41oz3NibIFRyVQ2iR8xH-dKY-lRCB4eyVeRo/edit?usp=sharing&quot;&gt;BIDS Computational Model Specification&lt;/a&gt;.\\nIf you are happy with the results, press &lt;code&gt;Transform Files&lt;/code&gt; button at the bottom of the screen. We will not start generation\\nuntil you press the button below.&lt;/p&gt;\\n&lt;h3&gt;Select Folder(s)&lt;/h3&gt;\"},\"id\":\"3327\",\"type\":\"panel.models.markup.HTML\"},{\"attributes\":{\"margin\":[0,0,0,0],\"sizing_mode\":\"stretch_width\",\"tabs\":[{\"id\":\"3325\"},{\"id\":\"3354\"},{\"id\":\"3364\"}]},\"id\":\"3296\",\"type\":\"panel.models.tabs.Tabs\"},{\"attributes\":{\"margin\":[0,0,0,0],\"options\":[\"hosted_app.ipynb\",\"incf_app.ipynb\",\"local_app.ipynb\"],\"size\":10,\"sizing_mode\":\"stretch_both\"},\"id\":\"3312\",\"type\":\"MultiSelect\"},{\"attributes\":{\"children\":[{\"id\":\"3329\"},{\"id\":\"3336\"},{\"id\":\"3337\"}],\"margin\":[5,10,20,10],\"name\":\"Column00275\",\"sizing_mode\":\"stretch_width\"},\"id\":\"3328\",\"type\":\"Column\"},{\"attributes\":{\"children\":[{\"id\":\"3316\"},{\"id\":\"3317\"}],\"margin\":[0,5,0,5],\"name\":\"Column00287\",\"sizing_mode\":\"stretch_width\"},\"id\":\"3315\",\"type\":\"Column\"},{\"attributes\":{\"button_type\":\"light\",\"icon\":null,\"label\":\"Supported Files\",\"margin\":[5,10,5,10],\"sizing_mode\":\"stretch_width\",\"subscribed_events\":[\"button_click\"],\"width\":100},\"id\":\"3358\",\"type\":\"Button\"},{\"attributes\":{\"margin\":[0,0,10,0],\"max_length\":5000,\"placeholder\":\"Filter available options\",\"sizing_mode\":\"stretch_width\",\"width_policy\":\"max\"},\"id\":\"3311\",\"type\":\"TextInput\"},{\"attributes\":{\"button_type\":\"primary\",\"icon\":null,\"label\":\"Transform Files\",\"margin\":[5,10,5,10],\"sizing_mode\":\"stretch_width\",\"subscribed_events\":[\"button_click\"]},\"id\":\"3324\",\"type\":\"Button\"},{\"attributes\":{\"children\":[{\"id\":\"3339\"},{\"id\":\"3340\"},{\"id\":\"3341\"}],\"margin\":[0,0,0,0],\"name\":\"Column00285\",\"sizing_mode\":\"stretch_both\"},\"id\":\"3338\",\"type\":\"Column\"},{\"attributes\":{\"margin\":[0,0,10,0],\"max_length\":5000,\"placeholder\":\"Filter selected options\",\"sizing_mode\":\"stretch_width\",\"width_policy\":\"max\"},\"id\":\"3321\",\"type\":\"TextInput\"},{\"attributes\":{\"css_classes\":[\"markdown\"],\"margin\":[0,0,0,0],\"name\":\"Markdown00301\",\"sizing_mode\":\"stretch_width\",\"text\":\"&lt;h3&gt;File Browser&lt;/h3&gt;\"},\"id\":\"3310\",\"type\":\"panel.models.markup.HTML\"},{\"attributes\":{\"child\":{\"id\":\"3326\"},\"name\":\"Column00305\",\"title\":\"View Contents\"},\"id\":\"3354\",\"type\":\"Panel\"},{\"attributes\":{\"child\":{\"id\":\"3297\"},\"name\":\"Column00305\",\"title\":\"Get Started\"},\"id\":\"3325\",\"type\":\"Panel\"},{\"attributes\":{\"children\":[{\"id\":\"3338\"},{\"id\":\"3342\"},{\"id\":\"3348\"}],\"margin\":[0,0,0,0],\"name\":\"Row00277\",\"sizing_mode\":\"stretch_both\",\"width\":600},\"id\":\"3337\",\"type\":\"Row\"},{\"attributes\":{\"margin\":[0,0,10,0],\"max_length\":5000,\"placeholder\":\"Filter selected options\",\"sizing_mode\":\"stretch_width\",\"width_policy\":\"max\"},\"id\":\"3350\",\"type\":\"TextInput\"},{\"attributes\":{\"margin\":[5,5,5,5],\"name\":\"VSpacer00288\",\"sizing_mode\":\"stretch_height\"},\"id\":\"3314\",\"type\":\"Spacer\"},{\"attributes\":{\"icon\":null,\"label\":\"<<\",\"margin\":[5,10,5,10],\"sizing_mode\":\"stretch_width\",\"subscribed_events\":[\"button_click\"],\"width\":50},\"id\":\"3346\",\"type\":\"Button\"},{\"attributes\":{\"children\":[{\"id\":\"3298\"},{\"id\":\"3299\"},{\"id\":\"3323\"},{\"id\":\"3324\"}],\"margin\":[0,0,0,0],\"name\":\"Column00305\",\"sizing_mode\":\"stretch_width\"},\"id\":\"3297\",\"type\":\"Column\"},{\"attributes\":{\"disabled\":true,\"icon\":null,\"label\":\"\\u2b07\",\"margin\":[5,10,0,0],\"sizing_mode\":\"stretch_width\",\"subscribed_events\":[\"button_click\"],\"width\":25},\"id\":\"3334\",\"type\":\"Button\"},{\"attributes\":{\"disabled\":true,\"icon\":null,\"label\":\"\\u2b06\",\"margin\":[5,10,5,10],\"sizing_mode\":\"stretch_width\",\"subscribed_events\":[\"button_click\"],\"width\":25},\"id\":\"3303\",\"type\":\"Button\"},{\"attributes\":{\"margin\":[0,0,0,0],\"name\":\"Divider00298\",\"sizing_mode\":\"stretch_width\",\"style\":{\"height\":\"100%\",\"width\":\"100%\"},\"text\":\"<hr style=\\\"margin: 0px\\\">\",\"width_policy\":\"fit\"},\"id\":\"3307\",\"type\":\"Div\"},{\"attributes\":{\"children\":[{\"id\":\"3310\"},{\"id\":\"3311\"},{\"id\":\"3312\"}],\"margin\":[0,0,0,0],\"name\":\"Column00285\",\"sizing_mode\":\"stretch_both\"},\"id\":\"3309\",\"type\":\"Column\"},{\"attributes\":{\"margin\":[0,0,0,0],\"options\":[\"hosted_app.ipynb\",\"incf_app.ipynb\",\"local_app.ipynb\"],\"size\":10,\"sizing_mode\":\"stretch_both\"},\"id\":\"3341\",\"type\":\"MultiSelect\"},{\"attributes\":{\"children\":[{\"id\":\"3301\"},{\"id\":\"3302\"},{\"id\":\"3303\"},{\"id\":\"3304\"},{\"id\":\"3305\"},{\"id\":\"3306\"}],\"margin\":[0,0,0,0],\"name\":\"Row00297\",\"sizing_mode\":\"stretch_width\",\"width_policy\":\"max\"},\"id\":\"3300\",\"type\":\"Row\"},{\"attributes\":{\"button_type\":\"light\",\"icon\":null,\"label\":\"Transforming Data\",\"margin\":[5,10,5,10],\"sizing_mode\":\"stretch_width\",\"subscribed_events\":[\"button_click\"],\"width\":100},\"id\":\"3359\",\"type\":\"Button\"},{\"attributes\":{\"disabled\":true,\"margin\":[0,0,0,0],\"max_length\":5000,\"placeholder\":\"To select an item highlight it on the left and use the arrow button to move it to the right.\",\"sizing_mode\":\"stretch_both\"},\"id\":\"3322\",\"type\":\"TextAreaInput\"},{\"attributes\":{\"margin\":[5,10,5,10],\"max_length\":5000,\"sizing_mode\":\"stretch_width\",\"value\":\"C:\\\\Users\\\\dinar\\\\Desktop\\\\gsoc\\\\app_templates\",\"width_policy\":\"max\"},\"id\":\"3304\",\"type\":\"TextInput\"},{\"attributes\":{\"children\":[{\"id\":\"3343\"},{\"id\":\"3344\"},{\"id\":\"3347\"}],\"margin\":[0,0,0,0],\"name\":\"Column00290\",\"sizing_mode\":\"stretch_width\"},\"id\":\"3342\",\"type\":\"Column\"},{\"attributes\":{\"disabled\":true,\"icon\":null,\"label\":\"\\u25b6\",\"margin\":[5,10,5,10],\"sizing_mode\":\"stretch_width\",\"subscribed_events\":[\"button_click\"],\"width\":25},\"id\":\"3302\",\"type\":\"Button\"},{\"attributes\":{\"children\":[{\"id\":\"3309\"},{\"id\":\"3313\"},{\"id\":\"3319\"}],\"margin\":[0,0,0,0],\"name\":\"Row00277\",\"sizing_mode\":\"stretch_both\",\"width\":600},\"id\":\"3308\",\"type\":\"Row\"},{\"attributes\":{\"margin\":[0,0,10,0],\"max_length\":5000,\"placeholder\":\"Filter available options\",\"sizing_mode\":\"stretch_width\",\"width_policy\":\"max\"},\"id\":\"3340\",\"type\":\"TextInput\"},{\"attributes\":{\"children\":[{\"id\":\"3345\"},{\"id\":\"3346\"}],\"margin\":[0,5,0,5],\"name\":\"Column00287\",\"sizing_mode\":\"stretch_width\"},\"id\":\"3344\",\"type\":\"Column\"},{\"attributes\":{\"children\":[{\"id\":\"3300\"},{\"id\":\"3307\"},{\"id\":\"3308\"}],\"margin\":[5,10,20,10],\"name\":\"Column00275\",\"sizing_mode\":\"stretch_width\"},\"id\":\"3299\",\"type\":\"Column\"},{\"attributes\":{\"children\":[{\"id\":\"3357\"},{\"id\":\"3358\"},{\"id\":\"3359\"},{\"id\":\"3360\"},{\"id\":\"3361\"}],\"margin\":[20,0,0,0],\"name\":\"Row00811\",\"sizing_mode\":\"stretch_width\"},\"id\":\"3356\",\"type\":\"Row\"},{\"attributes\":{\"disabled\":true,\"margin\":[0,0,0,0],\"max_length\":5000,\"placeholder\":\"To select an item highlight it on the left and use the arrow button to move it to the right.\",\"sizing_mode\":\"stretch_both\"},\"id\":\"3351\",\"type\":\"TextAreaInput\"},{\"attributes\":{\"icon\":null,\"label\":\"<<\",\"margin\":[5,10,5,10],\"sizing_mode\":\"stretch_width\",\"subscribed_events\":[\"button_click\"],\"width\":50},\"id\":\"3317\",\"type\":\"Button\"},{\"attributes\":{\"css_classes\":[\"markdown\"],\"margin\":[0,0,0,0],\"name\":\"Markdown00299\",\"sizing_mode\":\"stretch_width\",\"text\":\"&lt;h3&gt;Selected files&lt;/h3&gt;\"},\"id\":\"3349\",\"type\":\"panel.models.markup.HTML\"},{\"attributes\":{\"button_type\":\"light\",\"icon\":null,\"label\":\"BIDS Computational Data Standard\",\"margin\":[5,10,5,10],\"sizing_mode\":\"stretch_width\",\"subscribed_events\":[\"button_click\"],\"width\":100},\"id\":\"3361\",\"type\":\"Button\"},{\"attributes\":{\"icon\":null,\"label\":\"\\u21bb\",\"margin\":[5,15,0,10],\"sizing_mode\":\"stretch_width\",\"subscribed_events\":[\"button_click\"],\"width\":25},\"id\":\"3335\",\"type\":\"Button\"},{\"attributes\":{\"margin\":[0,0,0,0],\"name\":\"Divider00298\",\"sizing_mode\":\"stretch_width\",\"style\":{\"height\":\"100%\",\"width\":\"100%\"},\"text\":\"<hr style=\\\"margin: 0px\\\">\",\"width_policy\":\"fit\"},\"id\":\"3336\",\"type\":\"Div\"},{\"attributes\":{\"css_classes\":[\"markdown\"],\"margin\":[5,5,5,5],\"name\":\"Markdown00701\",\"sizing_mode\":\"stretch_width\",\"text\":\"&lt;h4&gt;Introduction &lt;a name=&quot;intro&quot;&gt;&lt;/a&gt;&lt;/h4&gt;\\n&lt;p&gt;Lorem ipsum dolor sit amet, consectetur adipiscing elit, sed do eiusmod tempor incididunt ut labore et dolore magna aliqua. Et ultrices neque ornare aenean euismod elementum nisi. Tincidunt ornare massa eget egestas purus viverra. Quis blandit turpis cursus in hac. Dictum varius duis at consectetur lorem donec. Phasellus faucibus scelerisque eleifend donec pretium vulputate sapien nec. Ipsum nunc aliquet bibendum enim facilisis gravida neque. Odio aenean sed adipiscing diam donec. Massa tincidunt nunc pulvinar sapien et. Nibh nisl condimentum id venenatis a condimentum. Congue quisque egestas diam in arcu cursus. Aenean vel elit scelerisque mauris. Sit amet justo donec enim. Habitant morbi tristique senectus et.&lt;/p&gt;\\n&lt;p&gt;Praesent elementum facilisis leo vel fringilla est ullamcorper. Urna molestie at elementum eu facilisis sed. Maecenas pharetra convallis posuere morbi leo urna molestie. Ultricies lacus sed turpis tincidunt id aliquet risus feugiat in. Facilisi cras fermentum odio eu feugiat pretium nibh ipsum. Sem integer vitae justo eget magna fermentum iaculis. Sollicitudin tempor id eu nisl nunc mi ipsum faucibus vitae. Mauris augue neque gravida in fermentum. Scelerisque eu ultrices vitae auctor eu augue. Sed cras ornare arcu dui.&lt;/p&gt;\\n&lt;p&gt;In mollis nunc sed id semper risus. Velit ut tortor pretium viverra suspendisse. Viverra adipiscing at in tellus integer. Ultricies lacus sed turpis tincidunt. Vitae purus faucibus ornare suspendisse. Arcu cursus vitae congue mauris rhoncus aenean vel elit. Vestibulum lorem sed risus ultricies tristique. A erat nam at lectus urna duis convallis. Etiam erat velit scelerisque in dictum non. Sit amet facilisis magna etiam tempor. Purus gravida quis blandit turpis cursus in hac. Ultricies tristique nulla aliquet enim tortor at auctor.&lt;/p&gt;\\n&lt;p&gt;Quam vulputate dignissim suspendisse in est. Adipiscing tristique risus nec feugiat. Faucibus interdum posuere lorem ipsum dolor sit amet consectetur. Et leo duis ut diam quam nulla porttitor massa. Nisl nisi scelerisque eu ultrices vitae. Sit amet cursus sit amet dictum. Sodales ut eu sem integer vitae justo eget magna. Arcu vitae elementum curabitur vitae. Lobortis elementum nibh tellus molestie. Sit amet est placerat in egestas erat imperdiet sed euismod. Quis enim lobortis scelerisque fermentum dui faucibus in. Nunc mattis enim ut tellus. Accumsan tortor posuere ac ut consequat semper viverra nam libero.&lt;/p&gt;\\n&lt;p&gt;Est velit egestas dui id ornare arcu. A arcu cursus vitae congue mauris. Semper feugiat nibh sed pulvinar proin gravida hendrerit lectus. Malesuada fames ac turpis egestas sed tempus urna et pharetra. Tortor posuere ac ut consequat semper. Etiam dignissim diam quis enim. Leo vel orci porta non pulvinar neque laoreet suspendisse interdum. Ligula ullamcorper malesuada proin libero nunc consequat interdum varius. Eu scelerisque felis imperdiet proin fermentum leo vel. Auctor elit sed vulputate mi sit amet mauris. Et netus et malesuada fames ac turpis egestas. Nisl vel pretium lectus quam id. Amet risus nullam eget felis eget nunc. Tincidunt dui ut ornare lectus sit amet est. Eu consequat ac felis donec et odio pellentesque. Aliquam nulla facilisi cras fermentum odio eu feugiat pretium nibh. Et netus et malesuada fames ac turpis. Mi proin sed libero enim sed. Et malesuada fames ac turpis egestas integer eget aliquet.&lt;/p&gt;\"},\"id\":\"3363\",\"type\":\"panel.models.markup.HTML\"},{\"attributes\":{\"css_classes\":[\"markdown\"],\"margin\":[0,0,0,0],\"name\":\"Markdown00299\",\"sizing_mode\":\"stretch_width\",\"text\":\"&lt;h3&gt;Selected files&lt;/h3&gt;\"},\"id\":\"3320\",\"type\":\"panel.models.markup.HTML\"},{\"attributes\":{\"button_type\":\"light\",\"icon\":null,\"label\":\"How to use the app\",\"margin\":[5,10,5,10],\"sizing_mode\":\"stretch_width\",\"subscribed_events\":[\"button_click\"],\"width\":100},\"id\":\"3360\",\"type\":\"Button\"},{\"attributes\":{\"margin\":[5,10,5,10],\"max_length\":5000,\"sizing_mode\":\"stretch_width\",\"value\":\"C:\\\\Users\\\\dinar\\\\Desktop\\\\gsoc\\\\app_templates\",\"width_policy\":\"max\"},\"id\":\"3333\",\"type\":\"TextInput\"},{\"attributes\":{\"button_type\":\"primary\",\"icon\":null,\"label\":\"Transform Files\",\"margin\":[5,10,5,10],\"sizing_mode\":\"stretch_width\",\"subscribed_events\":[\"button_click\"]},\"id\":\"3353\",\"type\":\"Button\"},{\"attributes\":{\"disabled\":true,\"icon\":null,\"label\":\"\\u25c0\",\"margin\":[5,10,0,0],\"sizing_mode\":\"stretch_width\",\"subscribed_events\":[\"button_click\"],\"width\":25},\"id\":\"3301\",\"type\":\"Button\"},{\"attributes\":{\"margin\":[5,5,5,5],\"name\":\"VSpacer00288\",\"sizing_mode\":\"stretch_height\"},\"id\":\"3343\",\"type\":\"Spacer\"},{\"attributes\":{\"disabled\":true,\"icon\":null,\"label\":\"\\u25b6\",\"margin\":[5,10,5,10],\"sizing_mode\":\"stretch_width\",\"subscribed_events\":[\"button_click\"],\"width\":25},\"id\":\"3331\",\"type\":\"Button\"},{\"attributes\":{\"children\":[{\"id\":\"3327\"},{\"id\":\"3328\"},{\"id\":\"3352\"},{\"id\":\"3353\"}],\"margin\":[0,0,0,0],\"name\":\"Column00305\",\"sizing_mode\":\"stretch_width\"},\"id\":\"3326\",\"type\":\"Column\"},{\"attributes\":{\"disabled\":true,\"icon\":null,\"label\":\"\\u25c0\",\"margin\":[5,10,0,0],\"sizing_mode\":\"stretch_width\",\"subscribed_events\":[\"button_click\"],\"width\":25},\"id\":\"3330\",\"type\":\"Button\"},{\"attributes\":{\"children\":[{\"id\":\"3330\"},{\"id\":\"3331\"},{\"id\":\"3332\"},{\"id\":\"3333\"},{\"id\":\"3334\"},{\"id\":\"3335\"}],\"margin\":[0,0,0,0],\"name\":\"Row00297\",\"sizing_mode\":\"stretch_width\",\"width_policy\":\"max\"},\"id\":\"3329\",\"type\":\"Row\"},{\"attributes\":{\"disabled\":true,\"icon\":null,\"label\":\"\\u2b07\",\"margin\":[5,10,0,0],\"sizing_mode\":\"stretch_width\",\"subscribed_events\":[\"button_click\"],\"width\":25},\"id\":\"3305\",\"type\":\"Button\"}],\"root_ids\":[\"3296\",\"3365\"]},\"title\":\"Bokeh Application\",\"version\":\"2.4.3\"}};\n",
       "    var render_items = [{\"docid\":\"e127d40d-694e-4992-8f74-dc4cf54128c1\",\"root_ids\":[\"3296\"],\"roots\":{\"3296\":\"1c8305b2-7a08-4ebf-ac98-aad930f7671a\"}}];\n",
       "    root.Bokeh.embed.embed_items_notebook(docs_json, render_items);\n",
       "  }\n",
       "  if (root.Bokeh !== undefined && root.Bokeh.Panel !== undefined && ( root['vega'] !== undefined)) {\n",
       "    embed_document(root);\n",
       "  } else {\n",
       "    var attempts = 0;\n",
       "    var timer = setInterval(function(root) {\n",
       "      if (root.Bokeh !== undefined && root.Bokeh.Panel !== undefined && (root['vega'] !== undefined)) {\n",
       "        clearInterval(timer);\n",
       "        embed_document(root);\n",
       "      } else if (document.readyState == \"complete\") {\n",
       "        attempts++;\n",
       "        if (attempts > 200) {\n",
       "          clearInterval(timer);\n",
       "          console.log(\"Bokeh: ERROR: Unable to run BokehJS code because BokehJS library is missing\");\n",
       "        }\n",
       "      }\n",
       "    }, 25, root)\n",
       "  }\n",
       "})(window);</script>"
      ],
      "text/plain": [
       "Tabs(sizing_mode='stretch_width')\n",
       "    [0] Column(sizing_mode='stretch_width')\n",
       "        [0] Markdown(str, sizing_mode='stretch_width')\n",
       "        [1] FileSelector(sizing_mode='stretch_width')\n",
       "        [2] Markdown(str, sizing_mode='stretch_width')\n",
       "        [3] Button(button_type='primary', name='Transform Files', sizing_mode='stretch_width')\n",
       "    [1] Column(sizing_mode='stretch_width')\n",
       "        [0] Markdown(str, sizing_mode='stretch_width')\n",
       "        [1] FileSelector(sizing_mode='stretch_width')\n",
       "        [2] Markdown(str, sizing_mode='stretch_width')\n",
       "        [3] Button(button_type='primary', name='Transform Files', sizing_mode='stretch_width')\n",
       "    [2] Column(sizing_mode='stretch_width')\n",
       "        [0] Row(margin=(20, 0, 0, 0), sizing_mode='stretch_width')\n",
       "            [0] Button(button_type='light', name='Introduction', sizing_mode='stretch_width', width=100)\n",
       "            [1] Button(button_type='light', name='Supported Files', sizing_mode='stretch_width', width=100)\n",
       "            [2] Button(button_type='light', clicks=1, name='Transforming Data', sizing_mode='stretch_width', width=100)\n",
       "            [3] Button(button_type='light', clicks=1, name='How to use the app', sizing_mode='stretch_width', width=100)\n",
       "            [4] Button(button_type='light', clicks=9, name='BIDS Computational D..., sizing_mode='stretch_width', width=100)\n",
       "        [1] Column(sizing_mode='stretch_width')\n",
       "            [0] Markdown(str, sizing_mode='stretch_width')"
      ]
     },
     "execution_count": 66,
     "metadata": {
      "application/vnd.holoviews_exec.v0+json": {
       "id": "3296"
      }
     },
     "output_type": "execute_result"
    }
   ],
   "source": [
    "main = pn.Tabs(\n",
    "    ('Get Started',   main_area),\n",
    "    ('View Contents', main_area),\n",
    "    ('User Guide',    ug_combined)\n",
    ")\n",
    "\n",
    "main"
   ]
  },
  {
   "cell_type": "code",
   "execution_count": 64,
   "id": "06b6306a",
   "metadata": {},
   "outputs": [
    {
     "name": "stdout",
     "output_type": "stream",
     "text": [
      "Launching server at http://localhost:51649\n"
     ]
    },
    {
     "data": {
      "text/plain": [
       "<bokeh.server.server.Server at 0x2201ecbf6a0>"
      ]
     },
     "execution_count": 64,
     "metadata": {},
     "output_type": "execute_result"
    }
   ],
   "source": [
    "panel = pn.template.FastListTemplate(\n",
    "    title='Visualize | Transform | Download',\n",
    "    site='INCF',\n",
    "    main=main\n",
    ")\n",
    "\n",
    "pn.serve(panel)"
   ]
  },
  {
   "cell_type": "code",
   "execution_count": null,
   "id": "22790955",
   "metadata": {},
   "outputs": [],
   "source": []
  }
 ],
 "metadata": {
  "kernelspec": {
   "display_name": "Python 3 (ipykernel)",
   "language": "python",
   "name": "python3"
  },
  "language_info": {
   "codemirror_mode": {
    "name": "ipython",
    "version": 3
   },
   "file_extension": ".py",
   "mimetype": "text/x-python",
   "name": "python",
   "nbconvert_exporter": "python",
   "pygments_lexer": "ipython3",
   "version": "3.10.4"
  }
 },
 "nbformat": 4,
 "nbformat_minor": 5
}