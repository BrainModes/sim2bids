{
 "cells": [
  {
   "cell_type": "code",
   "execution_count": 2,
   "id": "c44ffa5b",
   "metadata": {},
   "outputs": [],
   "source": [
    "!pip install tvb-data --quiet\n",
    "!pip install tvb-library==2.6 --quiet\n"
   ]
  },
  {
   "cell_type": "code",
   "execution_count": 23,
   "id": "a7a6f517",
   "metadata": {},
   "outputs": [],
   "source": [
    "# load necessary python modules\n",
    "import numpy as np\n",
    "import pandas as pd\n",
    "import scipy\n",
    "import os\n",
    "\n",
    "# load TVB library\n",
    "from tvb.simulator.lab import *\n",
    "from tvb.basic.readers import FileReader"
   ]
  },
  {
   "cell_type": "code",
   "execution_count": 8,
   "id": "2792bca3",
   "metadata": {},
   "outputs": [],
   "source": [
    "# set up the simulation\n",
    "\n",
    "# select the SJHMR3D model as the local model and define its parameters\n",
    "# for delta series choose \n",
    "oscilator = models.ReducedSetHindmarshRose(r=np.array([0.006]), a=np.array([1.0]), b=np.array([3.0]), c=np.array([1.0]), \n",
    "                                           d=np.array([5.0]), s=np.array([4.0]), \n",
    "                                           xo=np.array([-1.6]), K11=np.array([0.5]), K12=np.array([0.1]), K21=np.array([0.15]), \n",
    "                                           sigma=np.array([0.3]), \n",
    "                                           mu=np.array([2.2]), variables_of_interest=[\"xi\",\"alpha\"])\n",
    "oscilator.configure()"
   ]
  },
  {
   "cell_type": "code",
   "execution_count": 39,
   "id": "7498e990",
   "metadata": {},
   "outputs": [],
   "source": [
    "# set up the structural connectivity\n",
    "mypath=\"C:/Users/dinar/Desktop/50healthy_demo\"  # insert the path to where all subjects connectivities are stored\n",
    "subject=\"AA_20120815\" # specify which subject to load\n",
    "\n",
    "# load connectivity weights\n",
    "reader = FileReader(file_path= mypath +'/' + subject +'/weights.txt')\n",
    "w= reader.read_array(dtype=numpy.float64, skip_rows=0, use_cols=None, matlab_data_name=None)\n",
    "\n",
    "# load region centers\n",
    "rl_reader = FileReader(file_path=mypath +'/' + subject +'/labels.txt')    \n",
    "c_reader = FileReader(file_path=mypath +'/' + subject +'/nodes.txt')    \n",
    "\n",
    "rl= rl_reader.read_array( dtype=str, skip_rows=0, use_cols=(0,), matlab_data_name=None)\n",
    "c= c_reader.read_array( dtype=numpy.float64, skip_rows=0, use_cols=(0,), matlab_data_name=None)\n",
    "# centres = pd.read_csv(mypath +'/' + subject +'/centres.txt', header=None, index_col=None, sep='\\t')\n",
    "# rl= centres.iloc[:, 0].to_numpy()\n",
    "# c= centres.iloc[:, 1:].to_numpy()\n",
    "\n",
    "# load connectivity tract lengths\n",
    "reader = FileReader(file_path=mypath +'/' + subject +'/tract_lengths.txt')\n",
    "tl= reader.read_array(dtype=numpy.float64, skip_rows=0, use_cols=None, matlab_data_name=None)\n",
    "\n",
    "# confige the connectivity\n",
    "white_matter = connectivity.Connectivity(region_labels=rl, weights=w, tract_lengths=tl, centres=c)        \n"
   ]
  },
  {
   "cell_type": "code",
   "execution_count": 42,
   "id": "dbc5f062",
   "metadata": {},
   "outputs": [],
   "source": [
    "# specify the coupling function\n",
    "# here a linear scaling function was used\n",
    "# csf --> global coupling scaling factor\n",
    "# is one of the parameters explored in this study\n",
    "# for delta series it was varied from 0.05 to 0.25 in steps of 0.01\n",
    "# for alpha series it was varied from 0.025 to 0.04 in steps of 0.001\n",
    "# in this simulation one one value is chosen, but loop across all values to reproduce the findings of the paper\n",
    "csf = 0.05\n",
    "white_matter_coupling = coupling.Linear(a=np.array([csf]), b=np.array([0.0]))\n",
    "white_matter_coupling.configure()\n",
    "\n",
    "# specify a conduction speed to calculate time delays in the network \n",
    "# the 2nd parameter that was explored in this study\n",
    "# for delta series it was varied from 20 to 100 in steps of 100\n",
    "# for alpha series it was varied from 10 to 100 in steps of 10\n",
    "# in this simulation one one value is chosen, but loop across all values to reproduce the findings of the paper\n",
    "speed=100\n",
    "\n",
    "# set up the integration scheme to solve the differential equations\n",
    "# for delta series choose\n",
    "heunint = integrators.HeunStochastic(dt=0.01220703125, noise=noise.Additive(nsig=np.array([1.0])))\n",
    "\n",
    "# for alpha series uncomment the below code\n",
    "# heunint = integrators.HeunStochastic(dt=0.05, noise=noise.Additive(nsig=array([0.001])))"
   ]
  },
  {
   "cell_type": "code",
   "execution_count": 43,
   "id": "5248a669",
   "metadata": {},
   "outputs": [
    {
     "data": {
      "text/html": [
       "<table>\n",
       "<h3>Simulator</h3>\n",
       "<thead><tr><th></th><th style=\"text-align:left;width:40%\">value</th></tr></thead>\n",
       "<tbody>\n",
       "<tr><td>Type</td><td style=\"text-align:left;\"><pre>Simulator</pre></td>\n",
       "<tr><td>conduction_speed</td><td style=\"text-align:left;\"><pre>100.0</pre></td>\n",
       "<tr><td>connectivity</td><td style=\"text-align:left;\"><pre>Connectivity gid: 04c5b6f5-21dd-4ca3-ad2e-fbda4c9e2e4e</pre></td>\n",
       "<tr><td>coupling</td><td style=\"text-align:left;\"><pre>Linear gid: 0cbbe493-4e69-4955-b45a-723b1325c55e</pre></td>\n",
       "<tr><td>gid</td><td style=\"text-align:left;\"><pre>UUID('7107c937-5b30-4399-9a9a-50a62fb97787')</pre></td>\n",
       "<tr><td>initial_conditions</td><td style=\"text-align:left;\"><pre>None</pre></td>\n",
       "<tr><td>integrator</td><td style=\"text-align:left;\"><pre>HeunStochastic gid: 34cb26ec-6f93-4f4e-9a48-40c84cc4f0dd</pre></td>\n",
       "<tr><td>model</td><td style=\"text-align:left;\"><pre>ReducedSetHindmarshRose gid: 1a72de3e-ad33-42be-8790-058b0a07f102</pre></td>\n",
       "<tr><td>monitors</td><td style=\"text-align:left;\"><pre>(<tvb.simulator.monitors.SubSample object at 0x0000026E8B25C790>, <tvb.simulator.monitors.Bold object at 0x0000026E8B275C30>)</pre></td>\n",
       "<tr><td>simulation_length</td><td style=\"text-align:left;\"><pre>1000.0</pre></td>\n",
       "<tr><td>stimulus</td><td style=\"text-align:left;\"><pre>None</pre></td>\n",
       "<tr><td>surface</td><td style=\"text-align:left;\"><pre>None</pre></td>\n",
       "<tr><td>title</td><td style=\"text-align:left;\"><pre>Simulator gid: 7107c937-5b30-4399-9a9a-50a62fb97787</pre></td>\n",
       "</tbody></table>"
      ],
      "text/plain": [
       "<tvb.simulator.simulator.Simulator at 0x26e8b275c00>"
      ]
     },
     "execution_count": 43,
     "metadata": {},
     "output_type": "execute_result"
    }
   ],
   "source": [
    "\n",
    "# specify what data to record from the simulation using tvb monitory\n",
    "# choose subsampling of the neural signal\n",
    "p=3.90625 #<-- 256Hz\n",
    "momo = monitors.SubSample(period=p)\n",
    "\n",
    "# choose to generate BOLD signal using a hemodynamic response function\n",
    "hrffunction=equations.MixtureOfGammas()\n",
    "pb=500\n",
    "mama = monitors.Bold(period=pb, hrf_kernel=hrffunction)\n",
    "\n",
    "# put both monitors together\n",
    "what_to_watch = (momo, mama)\n",
    "\n",
    "# configure the simulation\n",
    "sim = simulator.Simulator(model=oscilator, connectivity=white_matter,\n",
    "                          coupling=white_matter_coupling, conduction_speed=speed,\n",
    "                          integrator=heunint, monitors=what_to_watch)\n",
    "\n",
    "sim.configure()\n"
   ]
  },
  {
   "cell_type": "code",
   "execution_count": 45,
   "id": "d68156e4",
   "metadata": {},
   "outputs": [],
   "source": [
    "# specify simulation length\n",
    "# for delta series choose\n",
    "sim_length = 180000\n",
    "\n",
    "# for alpha series uncomment the below code\n",
    "# sim_length = 300000\n",
    "\n",
    "# for alpha series 22min simulation length use\n",
    "# sim_length = 1320000"
   ]
  },
  {
   "cell_type": "code",
   "execution_count": null,
   "id": "390c0c7a",
   "metadata": {},
   "outputs": [],
   "source": [
    "%%time\n",
    "\n",
    "# perform the simulation\n",
    "subs_data = []\n",
    "subs_time = []\n",
    "bold_data = []\n",
    "bold_time = []\n",
    "\n",
    "for subs, bold in sim(simulation_length=sim_length):\n",
    "    if not subs is None:\n",
    "        subs_time.append(subs[0])\n",
    "        subs_data.append(subs[1])\n",
    "    \n",
    "    if not bold is None:\n",
    "        bold_time.append(bold[0])\n",
    "        bold_data.append(bold[1])\n"
   ]
  },
  {
   "cell_type": "code",
   "execution_count": null,
   "id": "87514c59",
   "metadata": {},
   "outputs": [],
   "source": [
    "# save the simulated time series\n",
    "# declare a path where data should be saved\n",
    "save_path=\".\"\n",
    "SUBS  = numpy.sum(numpy.array(subs_data),axis=3)\n",
    "TSUBS = numpy.array(subs_time)\n",
    "BOLD  = numpy.array(bold_data)\n",
    "TBOLD = numpy.array(bold_time)\n",
    "subsfile =save_path+'/'+subject+'csf_'+str(csf) +'_speed_' +str(speed)\n",
    "scipy.io.savemat(subsfile, mdict={'subs_data': SUBS, 'subs_time': TSUBS ,'bold_data': BOLD, 'bold_time': TBOLD })\n"
   ]
  }
 ],
 "metadata": {
  "kernelspec": {
   "display_name": "Python 3 (ipykernel)",
   "language": "python",
   "name": "python3"
  },
  "language_info": {
   "codemirror_mode": {
    "name": "ipython",
    "version": 3
   },
   "file_extension": ".py",
   "mimetype": "text/x-python",
   "name": "python",
   "nbconvert_exporter": "python",
   "pygments_lexer": "ipython3",
   "version": "3.10.4"
  }
 },
 "nbformat": 4,
 "nbformat_minor": 5
}
