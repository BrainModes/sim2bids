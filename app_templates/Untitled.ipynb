{
 "cells": [
  {
   "cell_type": "code",
   "execution_count": null,
   "id": "10690f20",
   "metadata": {},
   "outputs": [],
   "source": [
    "from collections import OrderedDict\n",
    "\n",
    "\n",
    "class FolderStructure:\n",
    "    def __init__(self, path):\n",
    "        self.path = path\n",
    "        self.components = OrderedDict({\n",
    "            'code': [],\n",
    "            'coord': [],\n",
    "            'eq': [],\n",
    "            'param': [],\n",
    "            'subjects': {},\n",
    "            'files': ['CHANGES.txt', 'dataset_description.json', 'participants.tsv', 'README.txt']\n",
    "        })\n",
    "        \n",
    "        self.findent = '&emsp;'\n",
    "    \n",
    "    \n",
    "    def populate(self):\n",
    "        "
   ]
  }
 ],
 "metadata": {
  "kernelspec": {
   "display_name": "Python 3 (ipykernel)",
   "language": "python",
   "name": "python3"
  },
  "language_info": {
   "codemirror_mode": {
    "name": "ipython",
    "version": 3
   },
   "file_extension": ".py",
   "mimetype": "text/x-python",
   "name": "python",
   "nbconvert_exporter": "python",
   "pygments_lexer": "ipython3",
   "version": "3.10.4"
  }
 },
 "nbformat": 4,
 "nbformat_minor": 5
}
