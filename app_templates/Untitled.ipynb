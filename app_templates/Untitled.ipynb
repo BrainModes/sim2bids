{
 "cells": [
  {
   "cell_type": "code",
   "execution_count": 22,
   "id": "af6a505f",
   "metadata": {},
   "outputs": [],
   "source": [
    "from collections import OrderedDict\n",
    "\n",
    "\n",
    "class FolderStructure:\n",
    "    def __init__(self, path):\n",
    "        self.path = path\n",
    "        self.components = OrderedDict({\n",
    "            'code': [],\n",
    "            'coord': [],\n",
    "            'eq': [],\n",
    "            'param': [],\n",
    "            'subjects': {},\n",
    "            'files': ['CHANGES.txt', 'dataset_description.json', 'participants.tsv', 'README.txt']\n",
    "        })\n",
    "        \n",
    "        self.h5 = {}\n",
    "        self.indent = '&emsp;'\n",
    "        self.fold_indent = self.indent * 2\n",
    "        self.file_indent = self.indent * 4 \n",
    "        \n",
    "    def populate(self):\n",
    "        print(self.components)"
   ]
  },
  {
   "cell_type": "code",
   "execution_count": 45,
   "id": "5fd3f00b",
   "metadata": {},
   "outputs": [],
   "source": [
    "struct = FolderStructure('../output')"
   ]
  },
  {
   "cell_type": "code",
   "execution_count": 46,
   "id": "44322fd8",
   "metadata": {},
   "outputs": [],
   "source": [
    "wdc = {'centres.txt': {'fname': 'centres.txt', 'sid': '01', 'sep': '\\t', 'desc': 'default', 'path': 'C:\\\\Users\\\\dinar\\\\Desktop\\\\gsoc\\\\data\\\\txt_files\\\\2\\\\centres.txt', \n",
    "                       'ext': 'txt', 'name': 'centres'}, 'tract_lengths.txt': {'fname': 'tract_lengths.txt', 'sid': '01', 'sep': '\\\\s', 'desc': 'default', 'path': 'C:\\\\Users\\\\dinar\\\\Desktop\\\\gsoc\\\\data\\\\txt_files\\\\2\\\\tract_lengths.txt', 'ext': 'txt', 'name': 'distances'}, 'weights.txt': {'fname': 'weights.txt', 'sid': '01', 'sep': '\\\\s', 'desc': 'default', 'path': 'C:\\\\Users\\\\dinar\\\\Desktop\\\\gsoc\\\\data\\\\txt_files\\\\2\\\\weights.txt', 'ext': 'txt', 'name': 'weights'},\n",
    "      'BurstConfiguration_a29116b38d05429588535667ce4d1eee.h5': {'fname': 'BurstConfiguration_a29116b38d05429588535667ce4d1eee.h5', 'sid': '03', 'sep': None, 'desc': 'default', 'path': 'C:\\\\Users\\\\dinar\\\\Desktop\\\\gsoc\\\\data\\\\simulations\\\\1\\\\BurstConfiguration_a29116b38d05429588535667ce4d1eee.h5', 'ext': 'h5', 'name': 'BurstConfiguration_a29116b38d05429588535667ce4d1eee'}, 'Connectivity_6b28b6c61836452bb52cbd18538a7775.h5': {'fname': 'Connectivity_6b28b6c61836452bb52cbd18538a7775.h5', 'sid': '03', 'sep': None, 'desc': 'default', 'path': 'C:\\\\Users\\\\dinar\\\\Desktop\\\\gsoc\\\\data\\\\simulations\\\\1\\\\datatypes\\\\Connectivity_6b28b6c61836452bb52cbd18538a7775.h5', 'ext': 'h5', 'name': 'Connectivity_6b28b6c61836452bb52cbd18538a7775'}, 'Generic2dOscillator_4e4d2edc01e2448192baf025336e0d73.h5': {'fname': 'Generic2dOscillator_4e4d2edc01e2448192baf025336e0d73.h5', 'sid': '03', 'sep': None, 'desc': 'default', 'path': 'C:\\\\Users\\\\dinar\\\\Desktop\\\\gsoc\\\\data\\\\simulations\\\\1\\\\Generic2dOscillator_4e4d2edc01e2448192baf025336e0d73.h5', 'ext': 'h5', 'name': 'Generic2dOscillator_4e4d2edc01e2448192baf025336e0d73'}, 'HeunDeterministicViewModel_4007260a59a443cfbc076eb4c231c6f5.h5': {'fname': 'HeunDeterministicViewModel_4007260a59a443cfbc076eb4c231c6f5.h5', 'sid': '03', 'sep': None, 'desc': 'default', 'path': 'C:\\\\Users\\\\dinar\\\\Desktop\\\\gsoc\\\\data\\\\simulations\\\\1\\\\HeunDeterministicViewModel_4007260a59a443cfbc076eb4c231c6f5.h5', 'ext': 'h5', 'name': 'HeunDeterministicViewModel_4007260a59a443cfbc076eb4c231c6f5'}, 'Linear_f639e3b95c48436dae5ffaa29072963e.h5': {'fname': 'Linear_f639e3b95c48436dae5ffaa29072963e.h5', 'sid': '03', 'sep': None, 'desc': 'default', 'path': 'C:\\\\Users\\\\dinar\\\\Desktop\\\\gsoc\\\\data\\\\simulations\\\\1\\\\Linear_f639e3b95c48436dae5ffaa29072963e.h5', 'ext': 'h5', 'name': 'Linear_f639e3b95c48436dae5ffaa29072963e'}, 'SimulatorAdapterModel_994a4afbef39461abf2a4feaf9761ca0.h5': {'fname': 'SimulatorAdapterModel_994a4afbef39461abf2a4feaf9761ca0.h5', 'sid': '03', 'sep': None, 'desc': 'default', 'path': 'C:\\\\Users\\\\dinar\\\\Desktop\\\\gsoc\\\\data\\\\simulations\\\\1\\\\SimulatorAdapterModel_994a4afbef39461abf2a4feaf9761ca0.h5', 'ext': 'h5', 'name': 'SimulatorAdapterModel_994a4afbef39461abf2a4feaf9761ca0'}, 'SubSampleViewModel_cd2fe7f44797434b9ae2cc3418a9f091.h5': {'fname': 'SubSampleViewModel_cd2fe7f44797434b9ae2cc3418a9f091.h5', 'sid': '03', 'sep': None, 'desc': 'default', 'path': 'C:\\\\Users\\\\dinar\\\\Desktop\\\\gsoc\\\\data\\\\simulations\\\\1\\\\SubSampleViewModel_cd2fe7f44797434b9ae2cc3418a9f091.h5', 'ext': 'h5', 'name': 'SubSampleViewModel_cd2fe7f44797434b9ae2cc3418a9f091'}}\n",
    "\n",
    "\n",
    "default_format, coord_format = 'sub-{}_desc-{}_{}.{}', 'desc-{}_{}.{}'\n",
    "\n",
    "\n",
    "def common_structure(v, name=None):\n",
    "    name = v['name'] if name is None else name\n",
    "    return [default_format.format(v['sid'], v['desc'], name, 'tsv'),\n",
    "            default_format.format(v['sid'], v['desc'], name, 'json')]\n",
    "\n",
    "\n",
    "def coord_structure(v):\n",
    "    return [coord_format.format(v['desc'], 'nodes', 'tsv'),\n",
    "            coord_format.format(v['desc'], 'nodes', 'json'),\n",
    "            coord_format.format(v['desc'], 'labels', 'tsv'),\n",
    "            coord_format.format(v['desc'], 'labels', 'json')]\n",
    "\n",
    "\n",
    "\n",
    "for k, v in wdc.items():\n",
    "    sid = v['sid']\n",
    "    if sid not in struct.components['subjects']:\n",
    "        struct.components['subjects'][sid] = {'net': [], 'ts': [], 'spatial': []}\n",
    "    \n",
    "    if k in ['weights.txt', 'tract_lengths.txt', 'distances.txt']:\n",
    "        struct.components['subjects'][sid]['net'] += common_structure(v)\n",
    "    elif k in ['centres.txt', 'centers.txt']:\n",
    "        struct.components['coord'] += coord_structure(v)\n",
    "    elif k.endswith('.mat'):\n",
    "        struct.components['subjects'][sid]['ts'] += common_structure(v)\n",
    "    elif k.endswith('.h5'):   \n",
    "        file = h.File(v['path'])\n",
    "        keys = file.keys()\n",
    "        name = v['fname'].split('_')[0].lower()\n",
    "\n",
    "        sid = v['sid']\n",
    "        if sid not in struct.components['subjects']:\n",
    "            struct.components['subjects'][sid] = {'net': [], 'ts': [], 'spatial': []}\n",
    "\n",
    "        if sim.check_params(file):\n",
    "            struct.components['subjects'][sid]['net'] += common_structure(v, 'weights')\n",
    "            struct.components['subjects'][sid]['net'] += common_structure(v, 'distances')\n",
    "            struct.components['coord'] += coord_structure(v)\n",
    "        else:\n",
    "            if len(list(keys)) > 0:\n",
    "                struct.components['param'] += [coord_format.format(v['desc'], name, 'xml'),\n",
    "                                               coord_format.format(v['desc'], name, 'json')]"
   ]
  },
  {
   "cell_type": "code",
   "execution_count": 47,
   "id": "5919287c",
   "metadata": {},
   "outputs": [
    {
     "data": {
      "text/plain": [
       "OrderedDict([('code', []),\n",
       "             ('coord',\n",
       "              ['desc-default_nodes.tsv',\n",
       "               'desc-default_nodes.json',\n",
       "               'desc-default_labels.tsv',\n",
       "               'desc-default_labels.json',\n",
       "               'desc-default_nodes.tsv',\n",
       "               'desc-default_nodes.json',\n",
       "               'desc-default_labels.tsv',\n",
       "               'desc-default_labels.json']),\n",
       "             ('eq', []),\n",
       "             ('param',\n",
       "              ['desc-default_generic2doscillator.xml',\n",
       "               'desc-default_generic2doscillator.json',\n",
       "               'desc-default_linear.xml',\n",
       "               'desc-default_linear.json',\n",
       "               'desc-default_subsampleviewmodel.xml',\n",
       "               'desc-default_subsampleviewmodel.json']),\n",
       "             ('subjects',\n",
       "              {'01': {'net': ['sub-01_desc-default_distances.tsv',\n",
       "                 'sub-01_desc-default_distances.json',\n",
       "                 'sub-01_desc-default_weights.tsv',\n",
       "                 'sub-01_desc-default_weights.json'],\n",
       "                'ts': [],\n",
       "                'spatial': []},\n",
       "               '03': {'net': ['sub-03_desc-default_weights.tsv',\n",
       "                 'sub-03_desc-default_weights.json',\n",
       "                 'sub-03_desc-default_distances.tsv',\n",
       "                 'sub-03_desc-default_distances.json'],\n",
       "                'ts': [],\n",
       "                'spatial': []}}),\n",
       "             ('files',\n",
       "              ['CHANGES.txt',\n",
       "               'dataset_description.json',\n",
       "               'participants.tsv',\n",
       "               'README.txt'])])"
      ]
     },
     "execution_count": 47,
     "metadata": {},
     "output_type": "execute_result"
    }
   ],
   "source": [
    "struct.components"
   ]
  },
  {
   "cell_type": "code",
   "execution_count": null,
   "id": "2cdae14d",
   "metadata": {},
   "outputs": [],
   "source": []
  },
  {
   "cell_type": "code",
   "execution_count": null,
   "id": "4fcff06e",
   "metadata": {},
   "outputs": [],
   "source": []
  },
  {
   "cell_type": "code",
   "execution_count": 27,
   "id": "95636b1c",
   "metadata": {},
   "outputs": [],
   "source": [
    "import sys\n",
    "import os\n",
    "sys.path.append('..')"
   ]
  },
  {
   "cell_type": "code",
   "execution_count": 43,
   "id": "73af4d27",
   "metadata": {},
   "outputs": [],
   "source": [
    "import h5py as h\n",
    "from incf.preprocess import simulations_h5 as sim\n",
    "\n",
    "h5 = {'BurstConfiguration_a29116b38d05429588535667ce4d1eee.h5': {'fname': 'BurstConfiguration_a29116b38d05429588535667ce4d1eee.h5', 'sid': '03', 'sep': None, 'desc': 'default', 'path': 'C:\\\\Users\\\\dinar\\\\Desktop\\\\gsoc\\\\data\\\\simulations\\\\1\\\\BurstConfiguration_a29116b38d05429588535667ce4d1eee.h5', 'ext': 'h5', 'name': 'BurstConfiguration_a29116b38d05429588535667ce4d1eee'}, 'Connectivity_6b28b6c61836452bb52cbd18538a7775.h5': {'fname': 'Connectivity_6b28b6c61836452bb52cbd18538a7775.h5', 'sid': '03', 'sep': None, 'desc': 'default', 'path': 'C:\\\\Users\\\\dinar\\\\Desktop\\\\gsoc\\\\data\\\\simulations\\\\1\\\\datatypes\\\\Connectivity_6b28b6c61836452bb52cbd18538a7775.h5', 'ext': 'h5', 'name': 'Connectivity_6b28b6c61836452bb52cbd18538a7775'}, 'Generic2dOscillator_4e4d2edc01e2448192baf025336e0d73.h5': {'fname': 'Generic2dOscillator_4e4d2edc01e2448192baf025336e0d73.h5', 'sid': '03', 'sep': None, 'desc': 'default', 'path': 'C:\\\\Users\\\\dinar\\\\Desktop\\\\gsoc\\\\data\\\\simulations\\\\1\\\\Generic2dOscillator_4e4d2edc01e2448192baf025336e0d73.h5', 'ext': 'h5', 'name': 'Generic2dOscillator_4e4d2edc01e2448192baf025336e0d73'}, 'HeunDeterministicViewModel_4007260a59a443cfbc076eb4c231c6f5.h5': {'fname': 'HeunDeterministicViewModel_4007260a59a443cfbc076eb4c231c6f5.h5', 'sid': '03', 'sep': None, 'desc': 'default', 'path': 'C:\\\\Users\\\\dinar\\\\Desktop\\\\gsoc\\\\data\\\\simulations\\\\1\\\\HeunDeterministicViewModel_4007260a59a443cfbc076eb4c231c6f5.h5', 'ext': 'h5', 'name': 'HeunDeterministicViewModel_4007260a59a443cfbc076eb4c231c6f5'}, 'Linear_f639e3b95c48436dae5ffaa29072963e.h5': {'fname': 'Linear_f639e3b95c48436dae5ffaa29072963e.h5', 'sid': '03', 'sep': None, 'desc': 'default', 'path': 'C:\\\\Users\\\\dinar\\\\Desktop\\\\gsoc\\\\data\\\\simulations\\\\1\\\\Linear_f639e3b95c48436dae5ffaa29072963e.h5', 'ext': 'h5', 'name': 'Linear_f639e3b95c48436dae5ffaa29072963e'}, 'SimulatorAdapterModel_994a4afbef39461abf2a4feaf9761ca0.h5': {'fname': 'SimulatorAdapterModel_994a4afbef39461abf2a4feaf9761ca0.h5', 'sid': '03', 'sep': None, 'desc': 'default', 'path': 'C:\\\\Users\\\\dinar\\\\Desktop\\\\gsoc\\\\data\\\\simulations\\\\1\\\\SimulatorAdapterModel_994a4afbef39461abf2a4feaf9761ca0.h5', 'ext': 'h5', 'name': 'SimulatorAdapterModel_994a4afbef39461abf2a4feaf9761ca0'}, 'SubSampleViewModel_cd2fe7f44797434b9ae2cc3418a9f091.h5': {'fname': 'SubSampleViewModel_cd2fe7f44797434b9ae2cc3418a9f091.h5', 'sid': '03', 'sep': None, 'desc': 'default', 'path': 'C:\\\\Users\\\\dinar\\\\Desktop\\\\gsoc\\\\data\\\\simulations\\\\1\\\\SubSampleViewModel_cd2fe7f44797434b9ae2cc3418a9f091.h5', 'ext': 'h5', 'name': 'SubSampleViewModel_cd2fe7f44797434b9ae2cc3418a9f091'}}\n",
    "\n",
    "for k, v in h5.items():\n",
    "    file = h.File(v['path'])\n",
    "    keys = file.keys()\n",
    "    name = v['fname'].split('_')[0].lower()\n",
    "    \n",
    "    sid = v['sid']\n",
    "    if sid not in struct.components['subjects']:\n",
    "        struct.components['subjects'][sid] = {'net': [], 'ts': [], 'spatial': []}\n",
    "    \n",
    "    if sim.check_params(file):\n",
    "        struct.components['subjects'][sid]['net'] += common_structure(v, 'weights')\n",
    "        struct.components['subjects'][sid]['net'] += common_structure(v, 'distances')\n",
    "        struct.components['coord'] += coord_structure(v)\n",
    "    else:\n",
    "        if len(list(keys)) > 0:\n",
    "            struct.components['param'] += [coord_format.format(v['desc'], name, 'xml'),\n",
    "                                           coord_format.format(v['desc'], name, 'json')]\n",
    "    \n",
    "    "
   ]
  },
  {
   "cell_type": "code",
   "execution_count": null,
   "id": "323de101",
   "metadata": {},
   "outputs": [],
   "source": []
  },
  {
   "cell_type": "code",
   "execution_count": null,
   "id": "85b62606",
   "metadata": {},
   "outputs": [],
   "source": []
  },
  {
   "cell_type": "code",
   "execution_count": null,
   "id": "378ecb18",
   "metadata": {},
   "outputs": [],
   "source": [
    "<KeysViewHDF5 []>\n",
    "<KeysViewHDF5 ['areas', 'centres', 'cortical', 'hemispheres', 'orientations', 'region_labels', 'tract_lengths', 'weights']>\n",
    "<KeysViewHDF5 ['I', 'a', 'alpha', 'b', 'beta', 'c', 'd', 'e', 'f', 'g', 'gamma', 'tau']>\n",
    "<KeysViewHDF5 []>\n",
    "<KeysViewHDF5 ['a', 'b']>\n",
    "<KeysViewHDF5 []>\n",
    "<KeysViewHDF5 ['variables_of_interest']>\n"
   ]
  },
  {
   "cell_type": "code",
   "execution_count": null,
   "id": "18b83c29",
   "metadata": {},
   "outputs": [],
   "source": []
  },
  {
   "cell_type": "code",
   "execution_count": null,
   "id": "6c572c6e",
   "metadata": {},
   "outputs": [],
   "source": []
  },
  {
   "cell_type": "code",
   "execution_count": null,
   "id": "cb98a0b8",
   "metadata": {},
   "outputs": [],
   "source": []
  },
  {
   "cell_type": "code",
   "execution_count": null,
   "id": "8f4fde76",
   "metadata": {},
   "outputs": [],
   "source": []
  },
  {
   "cell_type": "markdown",
   "id": "863bcf72",
   "metadata": {},
   "source": [
    "# distances, weights & centres\n",
    "{'centres.txt': {'fname': 'centres.txt', 'sid': '01', 'sep': '\\t', 'desc': 'default', 'path': 'C:\\\\Users\\\\dinar\\\\Desktop\\\\gsoc\\\\data\\\\txt_files\\\\2\\\\centres.txt', 'ext': 'txt', 'name': 'centres'}, \n",
    "\n",
    "'tract_lengths.txt': {'fname': 'tract_lengths.txt', 'sid': '01', 'sep': '\\\\s', 'desc': 'default', 'path': 'C:\\\\Users\\\\dinar\\\\Desktop\\\\gsoc\\\\data\\\\txt_files\\\\2\\\\tract_lengths.txt', 'ext': 'txt', 'name': 'distances'}, \n",
    "\n",
    "'weights.txt': {'fname': 'weights.txt', 'sid': '01', 'sep': '\\\\s', 'desc': 'default', 'path': 'C:\\\\Users\\\\dinar\\\\Desktop\\\\gsoc\\\\data\\\\txt_files\\\\2\\\\weights.txt', 'ext': 'txt', 'name': 'weights'}}"
   ]
  },
  {
   "cell_type": "code",
   "execution_count": null,
   "id": "e7222303",
   "metadata": {},
   "outputs": [],
   "source": []
  },
  {
   "cell_type": "code",
   "execution_count": null,
   "id": "54f640e2",
   "metadata": {},
   "outputs": [],
   "source": []
  }
 ],
 "metadata": {
  "kernelspec": {
   "display_name": "Python 3 (ipykernel)",
   "language": "python",
   "name": "python3"
  },
  "language_info": {
   "codemirror_mode": {
    "name": "ipython",
    "version": 3
   },
   "file_extension": ".py",
   "mimetype": "text/x-python",
   "name": "python",
   "nbconvert_exporter": "python",
   "pygments_lexer": "ipython3",
   "version": "3.10.4"
  }
 },
 "nbformat": 4,
 "nbformat_minor": 5
}
