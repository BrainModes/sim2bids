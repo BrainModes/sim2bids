{
 "cells": [
  {
   "cell_type": "code",
   "execution_count": 22,
   "id": "d3c4b318",
   "metadata": {},
   "outputs": [],
   "source": [
    "from collections import OrderedDict\n",
    "\n",
    "\n",
    "class FolderStructure:\n",
    "    def __init__(self, path):\n",
    "        self.path = path\n",
    "        self.components = OrderedDict({\n",
    "            'code': [],\n",
    "            'coord': [],\n",
    "            'eq': [],\n",
    "            'param': [],\n",
    "            'subjects': {},\n",
    "            'files': ['CHANGES.txt', 'dataset_description.json', 'participants.tsv', 'README.txt']\n",
    "        })\n",
    "        \n",
    "        self.h5 = {}\n",
    "        self.indent = '&emsp;'\n",
    "        self.fold_indent = self.indent * 2\n",
    "        self.file_indent = self.indent * 4 \n",
    "        \n",
    "    def populate(self):\n",
    "        print(self.components)"
   ]
  },
  {
   "cell_type": "code",
   "execution_count": 45,
   "id": "69bb62a4",
   "metadata": {},
   "outputs": [],
   "source": [
    "struct = FolderStructure('../output')"
   ]
  },
  {
   "cell_type": "code",
   "execution_count": 46,
   "id": "b3c0faf3",
   "metadata": {},
   "outputs": [],
   "source": [
    "wdc = {'centres.txt': {'fname': 'centres.txt', 'sid': '01', 'sep': '\\t', 'desc': 'default', 'path': 'C:\\\\Users\\\\dinar\\\\Desktop\\\\gsoc\\\\data\\\\txt_files\\\\2\\\\centres.txt', \n",
    "                       'ext': 'txt', 'name': 'centres'}, 'tract_lengths.txt': {'fname': 'tract_lengths.txt', 'sid': '01', 'sep': '\\\\s', 'desc': 'default', 'path': 'C:\\\\Users\\\\dinar\\\\Desktop\\\\gsoc\\\\data\\\\txt_files\\\\2\\\\tract_lengths.txt', 'ext': 'txt', 'name': 'distances'}, 'weights.txt': {'fname': 'weights.txt', 'sid': '01', 'sep': '\\\\s', 'desc': 'default', 'path': 'C:\\\\Users\\\\dinar\\\\Desktop\\\\gsoc\\\\data\\\\txt_files\\\\2\\\\weights.txt', 'ext': 'txt', 'name': 'weights'},\n",
    "      'BurstConfiguration_a29116b38d05429588535667ce4d1eee.h5': {'fname': 'BurstConfiguration_a29116b38d05429588535667ce4d1eee.h5', 'sid': '03', 'sep': None, 'desc': 'default', 'path': 'C:\\\\Users\\\\dinar\\\\Desktop\\\\gsoc\\\\data\\\\simulations\\\\1\\\\BurstConfiguration_a29116b38d05429588535667ce4d1eee.h5', 'ext': 'h5', 'name': 'BurstConfiguration_a29116b38d05429588535667ce4d1eee'}, 'Connectivity_6b28b6c61836452bb52cbd18538a7775.h5': {'fname': 'Connectivity_6b28b6c61836452bb52cbd18538a7775.h5', 'sid': '03', 'sep': None, 'desc': 'default', 'path': 'C:\\\\Users\\\\dinar\\\\Desktop\\\\gsoc\\\\data\\\\simulations\\\\1\\\\datatypes\\\\Connectivity_6b28b6c61836452bb52cbd18538a7775.h5', 'ext': 'h5', 'name': 'Connectivity_6b28b6c61836452bb52cbd18538a7775'}, 'Generic2dOscillator_4e4d2edc01e2448192baf025336e0d73.h5': {'fname': 'Generic2dOscillator_4e4d2edc01e2448192baf025336e0d73.h5', 'sid': '03', 'sep': None, 'desc': 'default', 'path': 'C:\\\\Users\\\\dinar\\\\Desktop\\\\gsoc\\\\data\\\\simulations\\\\1\\\\Generic2dOscillator_4e4d2edc01e2448192baf025336e0d73.h5', 'ext': 'h5', 'name': 'Generic2dOscillator_4e4d2edc01e2448192baf025336e0d73'}, 'HeunDeterministicViewModel_4007260a59a443cfbc076eb4c231c6f5.h5': {'fname': 'HeunDeterministicViewModel_4007260a59a443cfbc076eb4c231c6f5.h5', 'sid': '03', 'sep': None, 'desc': 'default', 'path': 'C:\\\\Users\\\\dinar\\\\Desktop\\\\gsoc\\\\data\\\\simulations\\\\1\\\\HeunDeterministicViewModel_4007260a59a443cfbc076eb4c231c6f5.h5', 'ext': 'h5', 'name': 'HeunDeterministicViewModel_4007260a59a443cfbc076eb4c231c6f5'}, 'Linear_f639e3b95c48436dae5ffaa29072963e.h5': {'fname': 'Linear_f639e3b95c48436dae5ffaa29072963e.h5', 'sid': '03', 'sep': None, 'desc': 'default', 'path': 'C:\\\\Users\\\\dinar\\\\Desktop\\\\gsoc\\\\data\\\\simulations\\\\1\\\\Linear_f639e3b95c48436dae5ffaa29072963e.h5', 'ext': 'h5', 'name': 'Linear_f639e3b95c48436dae5ffaa29072963e'}, 'SimulatorAdapterModel_994a4afbef39461abf2a4feaf9761ca0.h5': {'fname': 'SimulatorAdapterModel_994a4afbef39461abf2a4feaf9761ca0.h5', 'sid': '03', 'sep': None, 'desc': 'default', 'path': 'C:\\\\Users\\\\dinar\\\\Desktop\\\\gsoc\\\\data\\\\simulations\\\\1\\\\SimulatorAdapterModel_994a4afbef39461abf2a4feaf9761ca0.h5', 'ext': 'h5', 'name': 'SimulatorAdapterModel_994a4afbef39461abf2a4feaf9761ca0'}, 'SubSampleViewModel_cd2fe7f44797434b9ae2cc3418a9f091.h5': {'fname': 'SubSampleViewModel_cd2fe7f44797434b9ae2cc3418a9f091.h5', 'sid': '03', 'sep': None, 'desc': 'default', 'path': 'C:\\\\Users\\\\dinar\\\\Desktop\\\\gsoc\\\\data\\\\simulations\\\\1\\\\SubSampleViewModel_cd2fe7f44797434b9ae2cc3418a9f091.h5', 'ext': 'h5', 'name': 'SubSampleViewModel_cd2fe7f44797434b9ae2cc3418a9f091'}}\n",
    "\n",
    "\n",
    "default_format, coord_format = 'sub-{}_desc-{}_{}.{}', 'desc-{}_{}.{}'\n",
    "\n",
    "\n",
    "def common_structure(v, name=None):\n",
    "    name = v['name'] if name is None else name\n",
    "    return [default_format.format(v['sid'], v['desc'], name, 'tsv'),\n",
    "            default_format.format(v['sid'], v['desc'], name, 'json')]\n",
    "\n",
    "\n",
    "def coord_structure(v):\n",
    "    return [coord_format.format(v['desc'], 'nodes', 'tsv'),\n",
    "            coord_format.format(v['desc'], 'nodes', 'json'),\n",
    "            coord_format.format(v['desc'], 'labels', 'tsv'),\n",
    "            coord_format.format(v['desc'], 'labels', 'json')]\n",
    "\n",
    "\n",
    "\n",
    "for k, v in wdc.items():\n",
    "    sid = v['sid']\n",
    "    if sid not in struct.components['subjects']:\n",
    "        struct.components['subjects'][sid] = {'net': [], 'ts': [], 'spatial': []}\n",
    "    \n",
    "    if k in ['weights.txt', 'tract_lengths.txt', 'distances.txt']:\n",
    "        struct.components['subjects'][sid]['net'] += common_structure(v)\n",
    "    elif k in ['centres.txt', 'centers.txt']:\n",
    "        struct.components['coord'] += coord_structure(v)\n",
    "    elif k.endswith('.mat'):\n",
    "        struct.components['subjects'][sid]['ts'] += common_structure(v)\n",
    "    elif k.endswith('.h5'):   \n",
    "        file = h.File(v['path'])\n",
    "        keys = file.keys()\n",
    "        name = v['fname'].split('_')[0].lower()\n",
    "\n",
    "        sid = v['sid']\n",
    "        if sid not in struct.components['subjects']:\n",
    "            struct.components['subjects'][sid] = {'net': [], 'ts': [], 'spatial': []}\n",
    "\n",
    "        if sim.check_params(file):\n",
    "            struct.components['subjects'][sid]['net'] += common_structure(v, 'weights')\n",
    "            struct.components['subjects'][sid]['net'] += common_structure(v, 'distances')\n",
    "            struct.components['coord'] += coord_structure(v)\n",
    "        else:\n",
    "            if len(list(keys)) > 0:\n",
    "                struct.components['param'] += [coord_format.format(v['desc'], name, 'xml'),\n",
    "                                               coord_format.format(v['desc'], name, 'json')]"
   ]
  },
  {
   "cell_type": "code",
   "execution_count": 47,
   "id": "1b08eae7",
   "metadata": {},
   "outputs": [
    {
     "data": {
      "text/plain": [
       "OrderedDict([('code', []),\n",
       "             ('coord',\n",
       "              ['desc-default_nodes.tsv',\n",
       "               'desc-default_nodes.json',\n",
       "               'desc-default_labels.tsv',\n",
       "               'desc-default_labels.json',\n",
       "               'desc-default_nodes.tsv',\n",
       "               'desc-default_nodes.json',\n",
       "               'desc-default_labels.tsv',\n",
       "               'desc-default_labels.json']),\n",
       "             ('eq', []),\n",
       "             ('param',\n",
       "              ['desc-default_generic2doscillator.xml',\n",
       "               'desc-default_generic2doscillator.json',\n",
       "               'desc-default_linear.xml',\n",
       "               'desc-default_linear.json',\n",
       "               'desc-default_subsampleviewmodel.xml',\n",
       "               'desc-default_subsampleviewmodel.json']),\n",
       "             ('subjects',\n",
       "              {'01': {'net': ['sub-01_desc-default_distances.tsv',\n",
       "                 'sub-01_desc-default_distances.json',\n",
       "                 'sub-01_desc-default_weights.tsv',\n",
       "                 'sub-01_desc-default_weights.json'],\n",
       "                'ts': [],\n",
       "                'spatial': []},\n",
       "               '03': {'net': ['sub-03_desc-default_weights.tsv',\n",
       "                 'sub-03_desc-default_weights.json',\n",
       "                 'sub-03_desc-default_distances.tsv',\n",
       "                 'sub-03_desc-default_distances.json'],\n",
       "                'ts': [],\n",
       "                'spatial': []}}),\n",
       "             ('files',\n",
       "              ['CHANGES.txt',\n",
       "               'dataset_description.json',\n",
       "               'participants.tsv',\n",
       "               'README.txt'])])"
      ]
     },
     "execution_count": 47,
     "metadata": {},
     "output_type": "execute_result"
    }
   ],
   "source": [
    "struct.components"
   ]
  },
  {
   "cell_type": "code",
   "execution_count": 75,
   "id": "35448be3",
   "metadata": {},
   "outputs": [
    {
     "ename": "TypeError",
     "evalue": "'NoneType' object is not iterable",
     "output_type": "error",
     "traceback": [
      "\u001b[1;31m---------------------------------------------------------------------------\u001b[0m",
      "\u001b[1;31mTypeError\u001b[0m                                 Traceback (most recent call last)",
      "Input \u001b[1;32mIn [75]\u001b[0m, in \u001b[0;36m<cell line: 33>\u001b[1;34m()\u001b[0m\n\u001b[0;32m     27\u001b[0m             \u001b[38;5;28;01mfor\u001b[39;00m k2, v2 \u001b[38;5;129;01min\u001b[39;00m v\u001b[38;5;241m.\u001b[39mitems():\n\u001b[0;32m     28\u001b[0m                 structure \u001b[38;5;241m+\u001b[39m\u001b[38;5;241m=\u001b[39m [fold\u001b[38;5;241m.\u001b[39mformat(\u001b[38;5;124mf\u001b[39m\u001b[38;5;124m'\u001b[39m\u001b[38;5;124msub-\u001b[39m\u001b[38;5;132;01m{\u001b[39;00mk2\u001b[38;5;132;01m}\u001b[39;00m\u001b[38;5;124m'\u001b[39m), subfold\u001b[38;5;241m.\u001b[39mformat(\u001b[38;5;124m'\u001b[39m\u001b[38;5;124mnet\u001b[39m\u001b[38;5;124m'\u001b[39m),\n\u001b[0;32m     29\u001b[0m                               join(v2[\u001b[38;5;124m'\u001b[39m\u001b[38;5;124mnet\u001b[39m\u001b[38;5;124m'\u001b[39m], \u001b[38;5;124m'\u001b[39m\u001b[38;5;124msubfile\u001b[39m\u001b[38;5;124m'\u001b[39m), subfold\u001b[38;5;241m.\u001b[39mformat(\u001b[38;5;124m'\u001b[39m\u001b[38;5;124mts\u001b[39m\u001b[38;5;124m'\u001b[39m),\n\u001b[0;32m     30\u001b[0m                               join(v2[\u001b[38;5;124m'\u001b[39m\u001b[38;5;124mts\u001b[39m\u001b[38;5;124m'\u001b[39m], \u001b[38;5;124m'\u001b[39m\u001b[38;5;124msubfile\u001b[39m\u001b[38;5;124m'\u001b[39m), subfold\u001b[38;5;241m.\u001b[39mformat(\u001b[38;5;124m'\u001b[39m\u001b[38;5;124mspatial\u001b[39m\u001b[38;5;124m'\u001b[39m),\n\u001b[0;32m     31\u001b[0m                               join(v2[\u001b[38;5;124m'\u001b[39m\u001b[38;5;124mspatial\u001b[39m\u001b[38;5;124m'\u001b[39m], \u001b[38;5;124m'\u001b[39m\u001b[38;5;124msubfile\u001b[39m\u001b[38;5;124m'\u001b[39m)]\n\u001b[1;32m---> 33\u001b[0m structure \u001b[38;5;241m+\u001b[39m\u001b[38;5;241m=\u001b[39m join(struct\u001b[38;5;241m.\u001b[39mcomponents[\u001b[38;5;124m'\u001b[39m\u001b[38;5;124mfiles\u001b[39m\u001b[38;5;124m'\u001b[39m], \u001b[38;5;124m'\u001b[39m\u001b[38;5;124mother\u001b[39m\u001b[38;5;124m'\u001b[39m)\n\u001b[0;32m     34\u001b[0m structure\n",
      "\u001b[1;31mTypeError\u001b[0m: 'NoneType' object is not iterable"
     ]
    }
   ],
   "source": [
    "def join(file, form='files'):\n",
    "    joiner = lambda x: ''.join(x)\n",
    "    \n",
    "    if form == 'files':\n",
    "        return joiner([file.format(f) for f in files])\n",
    "    return joiner([subfile.format(f) for f in files])\n",
    "\n",
    "\n",
    "fold = '&emsp;&emsp;|___{}/<br>'\n",
    "subfold = '&emsp;&emsp;&emsp;&emsp;|___{}/<br>'\n",
    "subfile = '&emsp;&emsp;&emsp;&emsp;&emsp;&emsp;|___{}<br>'\n",
    "file = '&emsp;&emsp;&emsp;&emsp;|___{}<br>'\n",
    "main_files = '|___{}<br>'\n",
    "\n",
    "structure = []\n",
    "\n",
    "structure.append('|___ output/<br>')\n",
    "\n",
    "for k, v in struct.components.items():\n",
    "    if len(v) == 0:\n",
    "        structure.append(fold.format(k))\n",
    "    else:\n",
    "        if isinstance(v, list) and k != 'files':            \n",
    "            structure += [fold.format(k), join(v)]\n",
    "        elif isinstance(v, dict):\n",
    "            for k2, v2 in v.items():\n",
    "                structure += [fold.format(f'sub-{k2}'), subfold.format('net'),\n",
    "                              join(v2['net'], 'subfile'), subfold.format('ts'),\n",
    "                              join(v2['ts'], 'subfile'), subfold.format('spatial'),\n",
    "                              join(v2['spatial'], 'subfile')]\n",
    "\n",
    "structure += ''.join([main_files.format(f) for f in struct.components.files])\n",
    "            "
   ]
  },
  {
   "cell_type": "code",
   "execution_count": 72,
   "id": "ada70cc9",
   "metadata": {},
   "outputs": [
    {
     "data": {
      "text/plain": [
       "'|___CHANGES.txt<br>|___dataset_description.json<br>|___participants.tsv<br>|___README.txt<br>'"
      ]
     },
     "execution_count": 72,
     "metadata": {},
     "output_type": "execute_result"
    }
   ],
   "source": [
    "''.join([main_files.format(x) for x in struct.components['files']])"
   ]
  },
  {
   "cell_type": "code",
   "execution_count": null,
   "id": "752cc80c",
   "metadata": {},
   "outputs": [],
   "source": []
  },
  {
   "cell_type": "code",
   "execution_count": null,
   "id": "1afc4621",
   "metadata": {},
   "outputs": [],
   "source": []
  },
  {
   "cell_type": "code",
   "execution_count": null,
   "id": "f2291c0b",
   "metadata": {},
   "outputs": [],
   "source": []
  },
  {
   "cell_type": "code",
   "execution_count": null,
   "id": "51879583",
   "metadata": {},
   "outputs": [],
   "source": []
  },
  {
   "cell_type": "code",
   "execution_count": null,
   "id": "47a08d5e",
   "metadata": {},
   "outputs": [],
   "source": []
  },
  {
   "cell_type": "code",
   "execution_count": null,
   "id": "eac58d79",
   "metadata": {},
   "outputs": [],
   "source": []
  },
  {
   "cell_type": "code",
   "execution_count": null,
   "id": "63e018a0",
   "metadata": {},
   "outputs": [],
   "source": []
  },
  {
   "cell_type": "code",
   "execution_count": 27,
   "id": "6b1993b2",
   "metadata": {},
   "outputs": [],
   "source": [
    "import sys\n",
    "import os\n",
    "sys.path.append('..')"
   ]
  },
  {
   "cell_type": "code",
   "execution_count": 43,
   "id": "71fde2a9",
   "metadata": {},
   "outputs": [],
   "source": [
    "import h5py as h\n",
    "from incf.preprocess import simulations_h5 as sim\n",
    "\n",
    "h5 = {'BurstConfiguration_a29116b38d05429588535667ce4d1eee.h5': {'fname': 'BurstConfiguration_a29116b38d05429588535667ce4d1eee.h5', 'sid': '03', 'sep': None, 'desc': 'default', 'path': 'C:\\\\Users\\\\dinar\\\\Desktop\\\\gsoc\\\\data\\\\simulations\\\\1\\\\BurstConfiguration_a29116b38d05429588535667ce4d1eee.h5', 'ext': 'h5', 'name': 'BurstConfiguration_a29116b38d05429588535667ce4d1eee'}, 'Connectivity_6b28b6c61836452bb52cbd18538a7775.h5': {'fname': 'Connectivity_6b28b6c61836452bb52cbd18538a7775.h5', 'sid': '03', 'sep': None, 'desc': 'default', 'path': 'C:\\\\Users\\\\dinar\\\\Desktop\\\\gsoc\\\\data\\\\simulations\\\\1\\\\datatypes\\\\Connectivity_6b28b6c61836452bb52cbd18538a7775.h5', 'ext': 'h5', 'name': 'Connectivity_6b28b6c61836452bb52cbd18538a7775'}, 'Generic2dOscillator_4e4d2edc01e2448192baf025336e0d73.h5': {'fname': 'Generic2dOscillator_4e4d2edc01e2448192baf025336e0d73.h5', 'sid': '03', 'sep': None, 'desc': 'default', 'path': 'C:\\\\Users\\\\dinar\\\\Desktop\\\\gsoc\\\\data\\\\simulations\\\\1\\\\Generic2dOscillator_4e4d2edc01e2448192baf025336e0d73.h5', 'ext': 'h5', 'name': 'Generic2dOscillator_4e4d2edc01e2448192baf025336e0d73'}, 'HeunDeterministicViewModel_4007260a59a443cfbc076eb4c231c6f5.h5': {'fname': 'HeunDeterministicViewModel_4007260a59a443cfbc076eb4c231c6f5.h5', 'sid': '03', 'sep': None, 'desc': 'default', 'path': 'C:\\\\Users\\\\dinar\\\\Desktop\\\\gsoc\\\\data\\\\simulations\\\\1\\\\HeunDeterministicViewModel_4007260a59a443cfbc076eb4c231c6f5.h5', 'ext': 'h5', 'name': 'HeunDeterministicViewModel_4007260a59a443cfbc076eb4c231c6f5'}, 'Linear_f639e3b95c48436dae5ffaa29072963e.h5': {'fname': 'Linear_f639e3b95c48436dae5ffaa29072963e.h5', 'sid': '03', 'sep': None, 'desc': 'default', 'path': 'C:\\\\Users\\\\dinar\\\\Desktop\\\\gsoc\\\\data\\\\simulations\\\\1\\\\Linear_f639e3b95c48436dae5ffaa29072963e.h5', 'ext': 'h5', 'name': 'Linear_f639e3b95c48436dae5ffaa29072963e'}, 'SimulatorAdapterModel_994a4afbef39461abf2a4feaf9761ca0.h5': {'fname': 'SimulatorAdapterModel_994a4afbef39461abf2a4feaf9761ca0.h5', 'sid': '03', 'sep': None, 'desc': 'default', 'path': 'C:\\\\Users\\\\dinar\\\\Desktop\\\\gsoc\\\\data\\\\simulations\\\\1\\\\SimulatorAdapterModel_994a4afbef39461abf2a4feaf9761ca0.h5', 'ext': 'h5', 'name': 'SimulatorAdapterModel_994a4afbef39461abf2a4feaf9761ca0'}, 'SubSampleViewModel_cd2fe7f44797434b9ae2cc3418a9f091.h5': {'fname': 'SubSampleViewModel_cd2fe7f44797434b9ae2cc3418a9f091.h5', 'sid': '03', 'sep': None, 'desc': 'default', 'path': 'C:\\\\Users\\\\dinar\\\\Desktop\\\\gsoc\\\\data\\\\simulations\\\\1\\\\SubSampleViewModel_cd2fe7f44797434b9ae2cc3418a9f091.h5', 'ext': 'h5', 'name': 'SubSampleViewModel_cd2fe7f44797434b9ae2cc3418a9f091'}}\n",
    "\n",
    "for k, v in h5.items():\n",
    "    file = h.File(v['path'])\n",
    "    keys = file.keys()\n",
    "    name = v['fname'].split('_')[0].lower()\n",
    "    \n",
    "    sid = v['sid']\n",
    "    if sid not in struct.components['subjects']:\n",
    "        struct.components['subjects'][sid] = {'net': [], 'ts': [], 'spatial': []}\n",
    "    \n",
    "    if sim.check_params(file):\n",
    "        struct.components['subjects'][sid]['net'] += common_structure(v, 'weights')\n",
    "        struct.components['subjects'][sid]['net'] += common_structure(v, 'distances')\n",
    "        struct.components['coord'] += coord_structure(v)\n",
    "    else:\n",
    "        if len(list(keys)) > 0:\n",
    "            struct.components['param'] += [coord_format.format(v['desc'], name, 'xml'),\n",
    "                                           coord_format.format(v['desc'], name, 'json')]\n",
    "    \n",
    "    "
   ]
  },
  {
   "cell_type": "code",
   "execution_count": null,
   "id": "9f178498",
   "metadata": {},
   "outputs": [],
   "source": []
  },
  {
   "cell_type": "code",
   "execution_count": null,
   "id": "6e4e5709",
   "metadata": {},
   "outputs": [],
   "source": []
  },
  {
   "cell_type": "code",
   "execution_count": null,
   "id": "4227b9e9",
   "metadata": {},
   "outputs": [],
   "source": [
    "<KeysViewHDF5 []>\n",
    "<KeysViewHDF5 ['areas', 'centres', 'cortical', 'hemispheres', 'orientations', 'region_labels', 'tract_lengths', 'weights']>\n",
    "<KeysViewHDF5 ['I', 'a', 'alpha', 'b', 'beta', 'c', 'd', 'e', 'f', 'g', 'gamma', 'tau']>\n",
    "<KeysViewHDF5 []>\n",
    "<KeysViewHDF5 ['a', 'b']>\n",
    "<KeysViewHDF5 []>\n",
    "<KeysViewHDF5 ['variables_of_interest']>\n"
   ]
  },
  {
   "cell_type": "code",
   "execution_count": null,
   "id": "8051dc19",
   "metadata": {},
   "outputs": [],
   "source": []
  },
  {
   "cell_type": "code",
   "execution_count": null,
   "id": "48d79ca1",
   "metadata": {},
   "outputs": [],
   "source": []
  },
  {
   "cell_type": "code",
   "execution_count": null,
   "id": "e76cee82",
   "metadata": {},
   "outputs": [],
   "source": []
  },
  {
   "cell_type": "code",
   "execution_count": null,
   "id": "96320178",
   "metadata": {},
   "outputs": [],
   "source": []
  },
  {
   "cell_type": "markdown",
   "id": "b89c72df",
   "metadata": {},
   "source": [
    "# distances, weights & centres\n",
    "{'centres.txt': {'fname': 'centres.txt', 'sid': '01', 'sep': '\\t', 'desc': 'default', 'path': 'C:\\\\Users\\\\dinar\\\\Desktop\\\\gsoc\\\\data\\\\txt_files\\\\2\\\\centres.txt', 'ext': 'txt', 'name': 'centres'}, \n",
    "\n",
    "'tract_lengths.txt': {'fname': 'tract_lengths.txt', 'sid': '01', 'sep': '\\\\s', 'desc': 'default', 'path': 'C:\\\\Users\\\\dinar\\\\Desktop\\\\gsoc\\\\data\\\\txt_files\\\\2\\\\tract_lengths.txt', 'ext': 'txt', 'name': 'distances'}, \n",
    "\n",
    "'weights.txt': {'fname': 'weights.txt', 'sid': '01', 'sep': '\\\\s', 'desc': 'default', 'path': 'C:\\\\Users\\\\dinar\\\\Desktop\\\\gsoc\\\\data\\\\txt_files\\\\2\\\\weights.txt', 'ext': 'txt', 'name': 'weights'}}"
   ]
  },
  {
   "cell_type": "code",
   "execution_count": null,
   "id": "89176fc8",
   "metadata": {},
   "outputs": [],
   "source": []
  },
  {
   "cell_type": "code",
   "execution_count": null,
   "id": "837ac803",
   "metadata": {},
   "outputs": [],
   "source": []
  }
 ],
 "metadata": {
  "kernelspec": {
   "display_name": "Python 3 (ipykernel)",
   "language": "python",
   "name": "python3"
  },
  "language_info": {
   "codemirror_mode": {
    "name": "ipython",
    "version": 3
   },
   "file_extension": ".py",
   "mimetype": "text/x-python",
   "name": "python",
   "nbconvert_exporter": "python",
   "pygments_lexer": "ipython3",
   "version": "3.10.4"
  }
 },
 "nbformat": 4,
 "nbformat_minor": 5
}
