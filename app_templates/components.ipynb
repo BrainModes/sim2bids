{
 "cells": [
  {
   "cell_type": "code",
   "execution_count": null,
   "outputs": [],
   "source": [
    "import os\n",
    "import param\n",
    "import panel as pn"
   ],
   "metadata": {
    "collapsed": false,
    "pycharm": {
     "name": "#%%\n"
    }
   }
  },
  {
   "cell_type": "code",
   "execution_count": null,
   "metadata": {
    "collapsed": true
   },
   "outputs": [],
   "source": [
    "# working cross selector + text input\n",
    "\n",
    "class CustomExample(param.Parameterized):\n",
    "    def __init__(self, **params):\n",
    "        super().__init__(txt_inp = pn.widgets.TextInput(), **params)\n",
    "        self.file_selector = param.MultiFileSelector(path=os.getcwd())\n",
    "        self.cross_select = pn.widgets.CrossSelector(options=os.listdir(self.file_selector.path))\n",
    "\n",
    "    @pn.depends('txt_inp.value', watch=True)\n",
    "    def _change_path(self):\n",
    "        if os.path.exists(self.txt_inp.value):\n",
    "            self.file_selector.path = self.txt_inp.value\n",
    "            self.cross_select.options = os.listdir(self.file_selector.path)\n",
    "\n",
    "    def view(self):\n",
    "        return pn.Column(\n",
    "            '### Insert Path',\n",
    "            self.txt_inp,\n",
    "            self.cross_select\n",
    "        )\n",
    "\n",
    "\n",
    "# ce = CustomExample()\n",
    "# pn.serve(ce.view())"
   ]
  },
  {
   "cell_type": "code",
   "execution_count": null,
   "outputs": [],
   "source": [
    "class MainArea(param.Parameterized):\n",
    "    # generate files button\n",
    "    gen_btn = pn.widgets.Button(name='Generate files', button_type='primary')\n",
    "\n",
    "    def __init__(self, **params):\n",
    "        super().__init__(fold_input=pn.widgets.FileSelector(root_directory='~', sizing_mode='stretch_width'),\n",
    "                         **params)\n",
    "        # self.file_sel = pn.Column(SELECT_FILES, self.file_input)\n",
    "        self.fold_sel = pn.Column(SELECT_FOLDERS, self.fold_input)\n",
    "\n",
    "    # @pn.depends('file_input.value', watch=True)\n",
    "    # def _select_files(self):\n",
    "    #     print(self.file_input.value)\n",
    "\n",
    "    @pn.depends('fold_input.value', watch=True)\n",
    "    def _select_folders(self):\n",
    "        print(self.fold_input.value)\n",
    "\n",
    "    def view(self):\n",
    "        return pn.Tabs(\n",
    "                ('Select Files', pn.Column(pn.pane.Markdown(GET_STARTED),\n",
    "                                           self.fold_sel,\n",
    "                                           self.gen_btn)),\n",
    "                ('User Guide', UserGuide().view()))\n"
   ],
   "metadata": {
    "collapsed": false,
    "pycharm": {
     "name": "#%%\n"
    }
   }
  }
 ],
 "metadata": {
  "kernelspec": {
   "display_name": "Python 3",
   "language": "python",
   "name": "python3"
  },
  "language_info": {
   "codemirror_mode": {
    "name": "ipython",
    "version": 2
   },
   "file_extension": ".py",
   "mimetype": "text/x-python",
   "name": "python",
   "nbconvert_exporter": "python",
   "pygments_lexer": "ipython2",
   "version": "2.7.6"
  }
 },
 "nbformat": 4,
 "nbformat_minor": 0
}