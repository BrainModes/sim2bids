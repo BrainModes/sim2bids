{
 "cells": [
  {
   "cell_type": "code",
   "execution_count": 1,
   "metadata": {
    "collapsed": true
   },
   "outputs": [],
   "source": [
    "from scipy.io import loadmat\n",
    "import numpy as np\n",
    "import matplotlib.pyplot as plt"
   ]
  },
  {
   "cell_type": "code",
   "execution_count": 3,
   "outputs": [
    {
     "data": {
      "text/plain": "{'__header__': b'MATLAB 5.0 MAT-file, Platform: PCWIN64, Created on: Thu Feb  6 12:00:52 2020',\n '__version__': '1.0',\n '__globals__': [],\n 'data': array([[12974.08918, 11915.09521, 12078.56191, ...,  9686.10222,\n         10282.49023, 10792.33884],\n        [12959.45346, 11819.84904, 12055.11605, ...,  9665.7039 ,\n         10121.32577, 10689.26117],\n        [12905.20787, 11837.78934, 11962.39905, ...,  9593.44135,\n         10135.87439, 10713.51698],\n        ...,\n        [13157.87715, 11893.20308, 12102.12388, ...,  9584.80664,\n         10276.75591, 10826.52015],\n        [13083.40412, 11890.30498, 12074.14658, ...,  9550.86363,\n         10231.36131, 10768.50695],\n        [12970.37017, 11870.84991, 12098.38231, ...,  9557.05501,\n         10139.23922, 10715.65225]])}"
     },
     "execution_count": 3,
     "metadata": {},
     "output_type": "execute_result"
    }
   ],
   "source": [
    "data = loadmat('../data/timeseries_all.mat')\n",
    "data"
   ],
   "metadata": {
    "collapsed": false,
    "pycharm": {
     "name": "#%%\n"
    }
   }
  },
  {
   "cell_type": "code",
   "execution_count": null,
   "outputs": [],
   "source": [],
   "metadata": {
    "collapsed": false,
    "pycharm": {
     "name": "#%%\n"
    }
   }
  }
 ],
 "metadata": {
  "kernelspec": {
   "display_name": "Python 3",
   "language": "python",
   "name": "python3"
  },
  "language_info": {
   "codemirror_mode": {
    "name": "ipython",
    "version": 2
   },
   "file_extension": ".py",
   "mimetype": "text/x-python",
   "name": "python",
   "nbconvert_exporter": "python",
   "pygments_lexer": "ipython2",
   "version": "2.7.6"
  }
 },
 "nbformat": 4,
 "nbformat_minor": 0
}